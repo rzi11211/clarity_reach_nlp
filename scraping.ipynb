{
 "cells": [
  {
   "cell_type": "code",
   "execution_count": 21,
   "id": "c31ddc4a-dc6e-4c3d-9128-490c73044aef",
   "metadata": {},
   "outputs": [
    {
     "name": "stdout",
     "output_type": "stream",
     "text": [
      "Collecting pyscopus==1.0.3a2\n",
      "  Downloading pyscopus-1.0.3a2-py3-none-any.whl (11 kB)\n",
      "Installing collected packages: pyscopus\n",
      "Successfully installed pyscopus-1.0.3a2\n"
     ]
    }
   ],
   "source": [
    "#!pip install pyscopus==1.0.3a2"
   ]
  },
  {
   "cell_type": "code",
   "execution_count": 50,
   "id": "6352cb3c-1cae-4e15-ab51-2558ccb7865c",
   "metadata": {},
   "outputs": [],
   "source": [
    "from pyscopus import Scopus"
   ]
  },
  {
   "cell_type": "code",
   "execution_count": 57,
   "id": "ac518c1e-2aec-4e3e-92c2-5c27a1574de9",
   "metadata": {},
   "outputs": [],
   "source": [
    "key = '85ec47e3efd4690d5f5a0737a0ca385a'"
   ]
  },
  {
   "cell_type": "code",
   "execution_count": 59,
   "id": "53d03d81-e465-4abd-b521-87d3cc07a5f2",
   "metadata": {},
   "outputs": [],
   "source": [
    "scopus=Scopus(key)"
   ]
  },
  {
   "cell_type": "code",
   "execution_count": 60,
   "id": "6c2e7357-ee0e-4e1e-af31-7e7697062126",
   "metadata": {},
   "outputs": [
    {
     "ename": "ValueError",
     "evalue": "Abstract for 0141607824 not found!",
     "output_type": "error",
     "traceback": [
      "\u001b[0;31m---------------------------------------------------------------------------\u001b[0m",
      "\u001b[0;31mKeyError\u001b[0m                                  Traceback (most recent call last)",
      "\u001b[0;32m~/ENTER/envs/capstone/lib/python3.9/site-packages/pyscopus/scopus.py\u001b[0m in \u001b[0;36mretrieve_abstract\u001b[0;34m(self, scopus_id, download_path, view)\u001b[0m\n\u001b[1;32m    179\u001b[0m         \u001b[0;32mtry\u001b[0m\u001b[0;34m:\u001b[0m\u001b[0;34m\u001b[0m\u001b[0;34m\u001b[0m\u001b[0m\n\u001b[0;32m--> 180\u001b[0;31m             \u001b[0;32mreturn\u001b[0m \u001b[0m_parse_abstract_retrieval\u001b[0m\u001b[0;34m(\u001b[0m\u001b[0mjs\u001b[0m\u001b[0;34m)\u001b[0m\u001b[0;34m\u001b[0m\u001b[0;34m\u001b[0m\u001b[0m\n\u001b[0m\u001b[1;32m    181\u001b[0m         \u001b[0;32mexcept\u001b[0m\u001b[0;34m:\u001b[0m\u001b[0;34m\u001b[0m\u001b[0;34m\u001b[0m\u001b[0m\n",
      "\u001b[0;32m~/ENTER/envs/capstone/lib/python3.9/site-packages/pyscopus/utils.py\u001b[0m in \u001b[0;36m_parse_abstract_retrieval\u001b[0;34m(abstract_entry)\u001b[0m\n\u001b[1;32m    338\u001b[0m \u001b[0;32mdef\u001b[0m \u001b[0m_parse_abstract_retrieval\u001b[0m\u001b[0;34m(\u001b[0m\u001b[0mabstract_entry\u001b[0m\u001b[0;34m)\u001b[0m\u001b[0;34m:\u001b[0m\u001b[0;34m\u001b[0m\u001b[0;34m\u001b[0m\u001b[0m\n\u001b[0;32m--> 339\u001b[0;31m     \u001b[0mresp\u001b[0m \u001b[0;34m=\u001b[0m \u001b[0mabstract_entry\u001b[0m\u001b[0;34m[\u001b[0m\u001b[0;34m'abstracts-retrieval-response'\u001b[0m\u001b[0;34m]\u001b[0m\u001b[0;34m\u001b[0m\u001b[0;34m\u001b[0m\u001b[0m\n\u001b[0m\u001b[1;32m    340\u001b[0m \u001b[0;34m\u001b[0m\u001b[0m\n",
      "\u001b[0;31mKeyError\u001b[0m: 'abstracts-retrieval-response'",
      "\nDuring handling of the above exception, another exception occurred:\n",
      "\u001b[0;31mValueError\u001b[0m                                Traceback (most recent call last)",
      "\u001b[0;32m<ipython-input-60-de37cba23e3a>\u001b[0m in \u001b[0;36m<module>\u001b[0;34m\u001b[0m\n\u001b[0;32m----> 1\u001b[0;31m \u001b[0mpub_info\u001b[0m \u001b[0;34m=\u001b[0m \u001b[0mscopus\u001b[0m\u001b[0;34m.\u001b[0m\u001b[0mretrieve_abstract\u001b[0m\u001b[0;34m(\u001b[0m\u001b[0;34m'0141607824'\u001b[0m\u001b[0;34m)\u001b[0m\u001b[0;34m\u001b[0m\u001b[0;34m\u001b[0m\u001b[0m\n\u001b[0m",
      "\u001b[0;32m~/ENTER/envs/capstone/lib/python3.9/site-packages/pyscopus/scopus.py\u001b[0m in \u001b[0;36mretrieve_abstract\u001b[0;34m(self, scopus_id, download_path, view)\u001b[0m\n\u001b[1;32m    180\u001b[0m             \u001b[0;32mreturn\u001b[0m \u001b[0m_parse_abstract_retrieval\u001b[0m\u001b[0;34m(\u001b[0m\u001b[0mjs\u001b[0m\u001b[0;34m)\u001b[0m\u001b[0;34m\u001b[0m\u001b[0;34m\u001b[0m\u001b[0m\n\u001b[1;32m    181\u001b[0m         \u001b[0;32mexcept\u001b[0m\u001b[0;34m:\u001b[0m\u001b[0;34m\u001b[0m\u001b[0;34m\u001b[0m\u001b[0m\n\u001b[0;32m--> 182\u001b[0;31m             \u001b[0;32mraise\u001b[0m \u001b[0mValueError\u001b[0m\u001b[0;34m(\u001b[0m\u001b[0;34m'Abstract for %s not found!'\u001b[0m \u001b[0;34m%\u001b[0m\u001b[0mscopus_id\u001b[0m\u001b[0;34m)\u001b[0m\u001b[0;34m\u001b[0m\u001b[0;34m\u001b[0m\u001b[0m\n\u001b[0m\u001b[1;32m    183\u001b[0m \u001b[0;34m\u001b[0m\u001b[0m\n\u001b[1;32m    184\u001b[0m     \u001b[0;32mdef\u001b[0m \u001b[0mretrieve_citation\u001b[0m\u001b[0;34m(\u001b[0m\u001b[0mself\u001b[0m\u001b[0;34m,\u001b[0m \u001b[0mscopus_id_array\u001b[0m\u001b[0;34m,\u001b[0m \u001b[0myear_range\u001b[0m\u001b[0;34m)\u001b[0m\u001b[0;34m:\u001b[0m\u001b[0;34m\u001b[0m\u001b[0;34m\u001b[0m\u001b[0m\n",
      "\u001b[0;31mValueError\u001b[0m: Abstract for 0141607824 not found!"
     ]
    }
   ],
   "source": [
    "pub_info = scopus.retrieve_abstract('0141607824')"
   ]
  },
  {
   "cell_type": "code",
   "execution_count": null,
   "id": "b72eb454-ed79-43e1-874f-83499ae27a34",
   "metadata": {},
   "outputs": [],
   "source": []
  },
  {
   "cell_type": "code",
   "execution_count": null,
   "id": "13899a62-fecd-497b-8fe8-0d2a1d6933ca",
   "metadata": {},
   "outputs": [],
   "source": []
  },
  {
   "cell_type": "code",
   "execution_count": null,
   "id": "1c6aa5ce-1bb3-497d-9dcb-c0600d4885a5",
   "metadata": {},
   "outputs": [],
   "source": []
  },
  {
   "cell_type": "code",
   "execution_count": null,
   "id": "7462d702-cd12-4329-a46a-1b827efeb13f",
   "metadata": {},
   "outputs": [],
   "source": []
  },
  {
   "cell_type": "code",
   "execution_count": null,
   "id": "550f8712-a6e6-4a2f-aa65-547ba7fed8ab",
   "metadata": {},
   "outputs": [],
   "source": []
  },
  {
   "cell_type": "code",
   "execution_count": 2,
   "id": "c1c3e4f5-67f0-4d02-b335-a068015b8c8f",
   "metadata": {},
   "outputs": [],
   "source": [
    "# Import libaries\n",
    "\n",
    "import pandas as pd\n",
    "import requests \n",
    "import numpy as np\n",
    "from time import sleep \n",
    "\n",
    "from bs4 import BeautifulSoup"
   ]
  },
  {
   "cell_type": "code",
   "execution_count": 4,
   "id": "9e49305c-9a8e-4e46-a20f-bdbde8d7df8a",
   "metadata": {},
   "outputs": [],
   "source": [
    "query = 'machine+learning'"
   ]
  },
  {
   "cell_type": "code",
   "execution_count": 58,
   "id": "8d46eabe-3a7c-4fed-bdf7-ae82d41848cd",
   "metadata": {},
   "outputs": [
    {
     "data": {
      "text/plain": [
       "<Response [401]>"
      ]
     },
     "execution_count": 58,
     "metadata": {},
     "output_type": "execute_result"
    }
   ],
   "source": [
    "#save url as a variable\n",
    "scopus_id = '0141607824'\n",
    "url = (f'https://api.elsevier.com/content/abstract/scopus_id/{scopus_id}?field=identifier,title,publicationName,description&view=FULL')\n",
    "\n",
    "headers = {'X-ELS-APIKey': key}\n",
    "\n",
    "#check status\n",
    "res = requests.get(url, headers=headers)\n",
    "res"
   ]
  },
  {
   "cell_type": "code",
   "execution_count": 55,
   "id": "5740d469-b08b-48c3-a47e-2851d56a2cd4",
   "metadata": {},
   "outputs": [],
   "source": [
    "soup = BeautifulSoup(res.text, 'lxml')\n"
   ]
  },
  {
   "cell_type": "code",
   "execution_count": 56,
   "id": "f9f14749-b4ad-4123-b651-054a4440f638",
   "metadata": {},
   "outputs": [
    {
     "data": {
      "text/plain": [
       "<html><body><service-error><status><statuscode>AUTHORIZATION_ERROR</statuscode><statustext>The requestor is not authorized to access the requested view or fields of the resource</statustext></status></service-error></body></html>"
      ]
     },
     "execution_count": 56,
     "metadata": {},
     "output_type": "execute_result"
    }
   ],
   "source": [
    "soup.find()"
   ]
  },
  {
   "cell_type": "code",
   "execution_count": null,
   "id": "f34c2f2b-d6eb-4191-bbc0-d7c0441e4359",
   "metadata": {},
   "outputs": [],
   "source": []
  }
 ],
 "metadata": {
  "kernelspec": {
   "display_name": "Python 3",
   "language": "python",
   "name": "python3"
  },
  "language_info": {
   "codemirror_mode": {
    "name": "ipython",
    "version": 3
   },
   "file_extension": ".py",
   "mimetype": "text/x-python",
   "name": "python",
   "nbconvert_exporter": "python",
   "pygments_lexer": "ipython3",
   "version": "3.9.4"
  }
 },
 "nbformat": 4,
 "nbformat_minor": 5
}
