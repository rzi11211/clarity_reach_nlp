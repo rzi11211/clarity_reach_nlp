{
 "cells": [
  {
   "cell_type": "code",
   "execution_count": 1,
   "id": "14e97576-436b-471e-be2d-d7c2f53c1b8b",
   "metadata": {},
   "outputs": [],
   "source": [
    "# Modeling: Bag of Words Regression Model with sklearn Neural Net Regressor\n",
    "### *Claps as Target*"
   ]
  },
  {
   "cell_type": "code",
   "execution_count": 2,
   "id": "a35499cd-8ce6-41f4-9f25-1a75bfcea826",
   "metadata": {},
   "outputs": [],
   "source": [
    "import pandas as pd\n",
    "import numpy as np\n",
    "import matplotlib.pyplot as plt\n",
    "import seaborn as sns\n",
    "\n",
    "#nlp\n",
    "import nltk\n",
    "from sklearn.feature_extraction import text\n",
    "from sklearn.feature_extraction.text import CountVectorizer, TfidfVectorizer\n",
    "import re\n",
    "\n",
    "#modeling\n",
    "from sklearn.model_selection import train_test_split, GridSearchCV, cross_val_score\n",
    "from sklearn.pipeline import Pipeline\n",
    "from sklearn.metrics import mean_squared_error\n",
    "from sklearn.neural_network import MLPRegressor\n",
    "\n",
    "\n",
    "import warnings\n",
    "warnings.filterwarnings('ignore')"
   ]
  },
  {
   "cell_type": "code",
   "execution_count": 3,
   "id": "f0f23a4f-4531-43b8-b420-1789d14d62dc",
   "metadata": {},
   "outputs": [
    {
     "name": "stderr",
     "output_type": "stream",
     "text": [
      "[nltk_data] Downloading package stopwords to\n",
      "[nltk_data]     /Users/rachelinsler/nltk_data...\n",
      "[nltk_data]   Package stopwords is already up-to-date!\n"
     ]
    },
    {
     "data": {
      "text/plain": [
       "True"
      ]
     },
     "execution_count": 3,
     "metadata": {},
     "output_type": "execute_result"
    }
   ],
   "source": [
    "#nltk.download('stopwords')"
   ]
  },
  {
   "cell_type": "code",
   "execution_count": 4,
   "id": "9d27416d-2f7d-4d55-a806-3e3db69ca72f",
   "metadata": {},
   "outputs": [],
   "source": [
    "filename = 'data/nlp_nltk_stemmed_preproc.csv'"
   ]
  },
  {
   "cell_type": "code",
   "execution_count": 6,
   "id": "f69733eb-7fad-41ca-8de9-940a37dc9bd8",
   "metadata": {},
   "outputs": [],
   "source": [
    "df = pd.read_csv(filename).drop(columns = 'Unnamed: 0')"
   ]
  },
  {
   "cell_type": "code",
   "execution_count": 7,
   "id": "dbd97ee0-56dc-42d2-b7eb-e40594e412e3",
   "metadata": {},
   "outputs": [],
   "source": [
    "X = df['text']\n",
    "y = df['claps']"
   ]
  },
  {
   "cell_type": "code",
   "execution_count": 8,
   "id": "eddc4b9a-9ed1-40de-859a-c182358402fa",
   "metadata": {},
   "outputs": [],
   "source": [
    "#train-test split\n",
    "X_train, X_test, y_train, y_test=train_test_split(X,\n",
    "                                                 y,\n",
    "                                                 test_size=.2,\n",
    "                                                 random_state=42)"
   ]
  },
  {
   "cell_type": "markdown",
   "id": "149b8073-5b7b-4d4e-8324-fdb54fd23003",
   "metadata": {},
   "source": [
    "#### Count Vectorizer"
   ]
  },
  {
   "cell_type": "code",
   "execution_count": 9,
   "id": "ccbfdaaa-aaec-4338-8ce3-3fa0c818eaaf",
   "metadata": {},
   "outputs": [],
   "source": [
    "cvec = CountVectorizer(min_df=5, max_df=.98, ngram_range=(1,2))"
   ]
  },
  {
   "cell_type": "code",
   "execution_count": 10,
   "id": "a1ea39f5-74d8-4b4c-8e7e-46f1334c5de6",
   "metadata": {},
   "outputs": [],
   "source": [
    "X_train_cvec = cvec.fit_transform(X_train)\n",
    "X_test_cvec = cvec.transform(X_test)"
   ]
  },
  {
   "cell_type": "code",
   "execution_count": 11,
   "id": "f42c4e6e-0d2c-4a86-ae31-1415fe10fb90",
   "metadata": {},
   "outputs": [],
   "source": [
    "mlpreg = MLPRegressor(hidden_layer_sizes=(3,), activation='relu',\n",
    "         solver='adam', alpha=0.1, batch_size='auto',\n",
    "         learning_rate='adaptive', learning_rate_init=0.01,\n",
    "         power_t=0.5, max_iter=1000, shuffle=True, random_state=9,\n",
    "         tol=0.0001, verbose=False, warm_start=False, momentum=0.9,\n",
    "         nesterovs_momentum=True, early_stopping=False,\n",
    "         validation_fraction=0.1, beta_1=0.9, beta_2=0.999,\n",
    "         epsilon=1e-08)"
   ]
  },
  {
   "cell_type": "code",
   "execution_count": 12,
   "id": "8b24fd8a-d77a-47be-8928-c98b9f1333be",
   "metadata": {},
   "outputs": [
    {
     "data": {
      "text/plain": [
       "MLPRegressor(alpha=0.1, hidden_layer_sizes=(3,), learning_rate='adaptive',\n",
       "             learning_rate_init=0.01, max_iter=1000, random_state=9)"
      ]
     },
     "execution_count": 12,
     "metadata": {},
     "output_type": "execute_result"
    }
   ],
   "source": [
    "mlpreg.fit(X_train_cvec,y_train)"
   ]
  },
  {
   "cell_type": "code",
   "execution_count": 13,
   "id": "13b5b14f-5d8b-4d3f-89c5-e3ef36b2a607",
   "metadata": {},
   "outputs": [
    {
     "name": "stdout",
     "output_type": "stream",
     "text": [
      "R2 score: 0.9916334967714606\n",
      "Test score: 0.07756527478941311\n",
      "CV score: 0.07756527478941311\n",
      "Train RMSE: 10.700948397294704\n",
      "Test RMSE: 107.9127992891644\n"
     ]
    }
   ],
   "source": [
    "r2_score = mlpreg.score(X_train_cvec, y_train)\n",
    "test_score = mlpreg.score(X_test_cvec, y_test)\n",
    "cv_score = cross_val_score(mlpreg, X_train_cvec, y_train, cv = 5).mean()\n",
    "train_RMSE = np.sqrt(mean_squared_error(y_train, mlpreg.predict(X_train_cvec)))\n",
    "test_RMSE = np.sqrt(mean_squared_error(y_test, mlpreg.predict(X_test_cvec)))\n",
    "\n",
    "print(f'R2 score: {r2_score}')\n",
    "print(f'Test score: {test_score}')\n",
    "print(f'CV score: {test_score}')\n",
    "print(f'Train RMSE: {train_RMSE}')\n",
    "print(f'Test RMSE: {test_RMSE}')"
   ]
  },
  {
   "cell_type": "markdown",
   "id": "32e66294-cb90-4906-adb4-d9efc7b0a391",
   "metadata": {},
   "source": [
    "The CV and test scores indicate that the bag of words model is not predictive of claps."
   ]
  },
  {
   "cell_type": "markdown",
   "id": "c343e1d6-f32e-4c31-b651-d21f8570534a",
   "metadata": {},
   "source": [
    "#### TfidfVectorizer"
   ]
  },
  {
   "cell_type": "code",
   "execution_count": 14,
   "id": "43a604d7-33f1-464f-829c-f50d4dd76423",
   "metadata": {},
   "outputs": [],
   "source": [
    "tvec = TfidfVectorizer(min_df=5, max_df=.98, ngram_range=(1,2))"
   ]
  },
  {
   "cell_type": "code",
   "execution_count": 15,
   "id": "0607c80e-846f-4cc4-8e12-6b3234f31295",
   "metadata": {},
   "outputs": [],
   "source": [
    "X_train_tvec = tvec.fit_transform(X_train)\n",
    "X_test_tvec = tvec.transform(X_test)"
   ]
  },
  {
   "cell_type": "code",
   "execution_count": 16,
   "id": "f8b0abce-629f-485d-94e0-a5f319a75f92",
   "metadata": {},
   "outputs": [],
   "source": [
    "mlpreg = MLPRegressor(hidden_layer_sizes=(3,), activation='relu',\n",
    "         solver='adam', alpha=0.1, batch_size='auto',\n",
    "         learning_rate='adaptive', learning_rate_init=0.01,\n",
    "         power_t=0.5, max_iter=1000, shuffle=True, random_state=9,\n",
    "         tol=0.0001, verbose=False, warm_start=False, momentum=0.9,\n",
    "         nesterovs_momentum=True, early_stopping=False,\n",
    "         validation_fraction=0.1, beta_1=0.9, beta_2=0.999,\n",
    "         epsilon=1e-08)"
   ]
  },
  {
   "cell_type": "code",
   "execution_count": 17,
   "id": "37acba9f-c853-4744-b034-a6c333347371",
   "metadata": {},
   "outputs": [
    {
     "data": {
      "text/plain": [
       "MLPRegressor(alpha=0.1, hidden_layer_sizes=(3,), learning_rate='adaptive',\n",
       "             learning_rate_init=0.01, max_iter=1000, random_state=9)"
      ]
     },
     "execution_count": 17,
     "metadata": {},
     "output_type": "execute_result"
    }
   ],
   "source": [
    "mlpreg.fit(X_train_tvec,y_train)"
   ]
  },
  {
   "cell_type": "code",
   "execution_count": 18,
   "id": "db7ecbaf-b375-4fd6-b297-689d9bad16b7",
   "metadata": {},
   "outputs": [
    {
     "name": "stdout",
     "output_type": "stream",
     "text": [
      "R2 score: 0.9982120098444842\n",
      "Test score: 0.012594866785146541\n",
      "CV score: 0.012594866785146541\n",
      "Train RMSE: 4.946896680862746\n",
      "Test RMSE: 111.64848308468554\n"
     ]
    }
   ],
   "source": [
    "r2_score = mlpreg.score(X_train_tvec, y_train)\n",
    "test_score = mlpreg.score(X_test_tvec, y_test)\n",
    "cv_score = cross_val_score(mlpreg, X_train_tvec, y_train, cv = 5).mean()\n",
    "train_RMSE = np.sqrt(mean_squared_error(y_train, mlpreg.predict(X_train_tvec)))\n",
    "test_RMSE = np.sqrt(mean_squared_error(y_test, mlpreg.predict(X_test_tvec)))\n",
    "\n",
    "print(f'R2 score: {r2_score}')\n",
    "print(f'Test score: {test_score}')\n",
    "print(f'CV score: {test_score}')\n",
    "print(f'Train RMSE: {train_RMSE}')\n",
    "print(f'Test RMSE: {test_RMSE}')"
   ]
  },
  {
   "cell_type": "markdown",
   "id": "92fe18f7-198e-4e83-b3d1-ddee6fcbd930",
   "metadata": {},
   "source": [
    "The CV and test scores indicate that the bag of words model is not predictive of claps."
   ]
  },
  {
   "cell_type": "code",
   "execution_count": null,
   "id": "fd72518e-3ea4-472c-9840-05a928e325fc",
   "metadata": {},
   "outputs": [],
   "source": []
  }
 ],
 "metadata": {
  "kernelspec": {
   "display_name": "Python 3",
   "language": "python",
   "name": "python3"
  },
  "language_info": {
   "codemirror_mode": {
    "name": "ipython",
    "version": 3
   },
   "file_extension": ".py",
   "mimetype": "text/x-python",
   "name": "python",
   "nbconvert_exporter": "python",
   "pygments_lexer": "ipython3",
   "version": "3.9.4"
  }
 },
 "nbformat": 4,
 "nbformat_minor": 5
}
