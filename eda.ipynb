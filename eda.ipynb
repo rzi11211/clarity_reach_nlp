{
 "cells": [
  {
   "cell_type": "code",
   "execution_count": 347,
   "id": "a35499cd-8ce6-41f4-9f25-1a75bfcea826",
   "metadata": {},
   "outputs": [],
   "source": [
    "import pandas as pd\n",
    "import numpy as np\n",
    "import matplotlib.pyplot as plt\n",
    "import seaborn as sns\n",
    "\n",
    "#nlp\n",
    "import nltk\n",
    "from nltk.tokenize import word_tokenize, RegexpTokenizer, WhitespaceTokenizer\n",
    "from nltk.corpus import stopwords\n",
    "from nltk.sentiment.vader import SentimentIntensityAnalyzer\n",
    "from sklearn.feature_extraction import text\n",
    "import re\n",
    "\n",
    "import gensim\n",
    "from gensim.utils import simple_preprocess\n",
    "import gensim.corpora as corpora"
   ]
  },
  {
   "cell_type": "code",
   "execution_count": 305,
   "id": "f0f23a4f-4531-43b8-b420-1789d14d62dc",
   "metadata": {},
   "outputs": [
    {
     "name": "stderr",
     "output_type": "stream",
     "text": [
      "[nltk_data] Downloading package stopwords to\n",
      "[nltk_data]     /Users/rachelinsler/nltk_data...\n",
      "[nltk_data]   Package stopwords is already up-to-date!\n"
     ]
    },
    {
     "data": {
      "text/plain": [
       "True"
      ]
     },
     "execution_count": 305,
     "metadata": {},
     "output_type": "execute_result"
    }
   ],
   "source": [
    "nltk.download('stopwords')"
   ]
  },
  {
   "cell_type": "code",
   "execution_count": 268,
   "id": "9d27416d-2f7d-4d55-a806-3e3db69ca72f",
   "metadata": {},
   "outputs": [],
   "source": [
    "filename = '2021_01.csv'\n",
    "output_filename = 'cleaned.csv'\n",
    "nlp_filename = 'nlp.csv'"
   ]
  },
  {
   "cell_type": "code",
   "execution_count": 269,
   "id": "0b94663d-3bd1-4c42-86f9-be1608783fb9",
   "metadata": {},
   "outputs": [],
   "source": [
    "df = pd.read_csv(filename, sep='\\t')"
   ]
  },
  {
   "cell_type": "code",
   "execution_count": 270,
   "id": "8bcf46cc-874a-4112-82a2-b45b471c2176",
   "metadata": {},
   "outputs": [
    {
     "data": {
      "text/html": [
       "<div>\n",
       "<style scoped>\n",
       "    .dataframe tbody tr th:only-of-type {\n",
       "        vertical-align: middle;\n",
       "    }\n",
       "\n",
       "    .dataframe tbody tr th {\n",
       "        vertical-align: top;\n",
       "    }\n",
       "\n",
       "    .dataframe thead th {\n",
       "        text-align: right;\n",
       "    }\n",
       "</style>\n",
       "<table border=\"1\" class=\"dataframe\">\n",
       "  <thead>\n",
       "    <tr style=\"text-align: right;\">\n",
       "      <th></th>\n",
       "      <th>date</th>\n",
       "      <th>title</th>\n",
       "      <th>subtitle</th>\n",
       "      <th>claps</th>\n",
       "      <th>responses</th>\n",
       "      <th>author_url</th>\n",
       "      <th>story_url</th>\n",
       "      <th>reading_time (mins)</th>\n",
       "      <th>number_sections</th>\n",
       "      <th>section_titles</th>\n",
       "      <th>number_paragraphs</th>\n",
       "      <th>paragraphs</th>\n",
       "    </tr>\n",
       "  </thead>\n",
       "  <tbody>\n",
       "    <tr>\n",
       "      <th>0</th>\n",
       "      <td>01/01/2021</td>\n",
       "      <td>7 Most Recommended Skills to Learn in 2021 to ...</td>\n",
       "      <td>Recommended by some of the largest…</td>\n",
       "      <td>1K</td>\n",
       "      <td>10</td>\n",
       "      <td>https://towardsdatascience.com/@terenceshin</td>\n",
       "      <td>https://towardsdatascience.com/7-most-recommen...</td>\n",
       "      <td>6</td>\n",
       "      <td>11</td>\n",
       "      <td>['7 Most Recommended Skills to Learn in 2021 t...</td>\n",
       "      <td>36</td>\n",
       "      <td>['Terence Shin', 'Jan 1·6 min read', 'Happy Ne...</td>\n",
       "    </tr>\n",
       "    <tr>\n",
       "      <th>1</th>\n",
       "      <td>01/01/2021</td>\n",
       "      <td>The Ultimate Guide to Acing Coding Interviews ...</td>\n",
       "      <td>Data Science Interview</td>\n",
       "      <td>489</td>\n",
       "      <td>4</td>\n",
       "      <td>https://towardsdatascience.com/@emmading</td>\n",
       "      <td>https://towardsdatascience.com/the-ultimate-gu...</td>\n",
       "      <td>11</td>\n",
       "      <td>12</td>\n",
       "      <td>['The Ultimate Guide to Acing Coding Interview...</td>\n",
       "      <td>42</td>\n",
       "      <td>['Emma Ding', 'Jan 1·11 min read', 'Written by...</td>\n",
       "    </tr>\n",
       "    <tr>\n",
       "      <th>2</th>\n",
       "      <td>01/01/2021</td>\n",
       "      <td>Shakespeare versus Eminem— who’s the better ly...</td>\n",
       "      <td>He is known for his poetry, his writings on life…</td>\n",
       "      <td>139</td>\n",
       "      <td>2</td>\n",
       "      <td>https://towardsdatascience.com/@jeroenvanzeeland</td>\n",
       "      <td>https://towardsdatascience.com/shakespeare-ver...</td>\n",
       "      <td>9</td>\n",
       "      <td>13</td>\n",
       "      <td>['Shakespeare versus Eminem—who’s the better l...</td>\n",
       "      <td>64</td>\n",
       "      <td>['Jeroen van Zeeland', 'Jan 1·9 min read', 'Da...</td>\n",
       "    </tr>\n",
       "    <tr>\n",
       "      <th>3</th>\n",
       "      <td>01/01/2021</td>\n",
       "      <td>Customer Segmentation in Online Retail</td>\n",
       "      <td>A detailed step-by-step explanation on perform...</td>\n",
       "      <td>159</td>\n",
       "      <td>1</td>\n",
       "      <td>https://towardsdatascience.com/@rahulkhandelwal</td>\n",
       "      <td>https://towardsdatascience.com/customer-segmen...</td>\n",
       "      <td>19</td>\n",
       "      <td>15</td>\n",
       "      <td>['Customer Segmentation in Online Retail', 'Un...</td>\n",
       "      <td>93</td>\n",
       "      <td>['Rahul Khandelwal', 'Jan 1·19 min read', 'In ...</td>\n",
       "    </tr>\n",
       "    <tr>\n",
       "      <th>4</th>\n",
       "      <td>01/01/2021</td>\n",
       "      <td>Implementing VisualTtransformer in PyTorch</td>\n",
       "      <td>Hi guys, happy new year! Today we are going to...</td>\n",
       "      <td>133</td>\n",
       "      <td>2</td>\n",
       "      <td>https://towardsdatascience.com/@FrancescoZ</td>\n",
       "      <td>https://towardsdatascience.com/implementing-vi...</td>\n",
       "      <td>6</td>\n",
       "      <td>6</td>\n",
       "      <td>['Implementing Vision Transformer (ViT) in PyT...</td>\n",
       "      <td>60</td>\n",
       "      <td>['Francesco Zuppichini', 'Jan 1·6 min read', '...</td>\n",
       "    </tr>\n",
       "  </tbody>\n",
       "</table>\n",
       "</div>"
      ],
      "text/plain": [
       "         date                                              title  \\\n",
       "0  01/01/2021  7 Most Recommended Skills to Learn in 2021 to ...   \n",
       "1  01/01/2021  The Ultimate Guide to Acing Coding Interviews ...   \n",
       "2  01/01/2021  Shakespeare versus Eminem— who’s the better ly...   \n",
       "3  01/01/2021             Customer Segmentation in Online Retail   \n",
       "4  01/01/2021         Implementing VisualTtransformer in PyTorch   \n",
       "\n",
       "                                            subtitle claps responses  \\\n",
       "0                Recommended by some of the largest…    1K        10   \n",
       "1                             Data Science Interview   489         4   \n",
       "2  He is known for his poetry, his writings on life…   139         2   \n",
       "3  A detailed step-by-step explanation on perform...   159         1   \n",
       "4  Hi guys, happy new year! Today we are going to...   133         2   \n",
       "\n",
       "                                         author_url  \\\n",
       "0       https://towardsdatascience.com/@terenceshin   \n",
       "1          https://towardsdatascience.com/@emmading   \n",
       "2  https://towardsdatascience.com/@jeroenvanzeeland   \n",
       "3   https://towardsdatascience.com/@rahulkhandelwal   \n",
       "4        https://towardsdatascience.com/@FrancescoZ   \n",
       "\n",
       "                                           story_url  reading_time (mins)  \\\n",
       "0  https://towardsdatascience.com/7-most-recommen...                    6   \n",
       "1  https://towardsdatascience.com/the-ultimate-gu...                   11   \n",
       "2  https://towardsdatascience.com/shakespeare-ver...                    9   \n",
       "3  https://towardsdatascience.com/customer-segmen...                   19   \n",
       "4  https://towardsdatascience.com/implementing-vi...                    6   \n",
       "\n",
       "   number_sections                                     section_titles  \\\n",
       "0               11  ['7 Most Recommended Skills to Learn in 2021 t...   \n",
       "1               12  ['The Ultimate Guide to Acing Coding Interview...   \n",
       "2               13  ['Shakespeare versus Eminem—who’s the better l...   \n",
       "3               15  ['Customer Segmentation in Online Retail', 'Un...   \n",
       "4                6  ['Implementing Vision Transformer (ViT) in PyT...   \n",
       "\n",
       "   number_paragraphs                                         paragraphs  \n",
       "0                 36  ['Terence Shin', 'Jan 1·6 min read', 'Happy Ne...  \n",
       "1                 42  ['Emma Ding', 'Jan 1·11 min read', 'Written by...  \n",
       "2                 64  ['Jeroen van Zeeland', 'Jan 1·9 min read', 'Da...  \n",
       "3                 93  ['Rahul Khandelwal', 'Jan 1·19 min read', 'In ...  \n",
       "4                 60  ['Francesco Zuppichini', 'Jan 1·6 min read', '...  "
      ]
     },
     "execution_count": 270,
     "metadata": {},
     "output_type": "execute_result"
    }
   ],
   "source": [
    "df.head()"
   ]
  },
  {
   "cell_type": "code",
   "execution_count": 271,
   "id": "61bb72ae-7d13-400e-9a21-f4500e6bb500",
   "metadata": {},
   "outputs": [
    {
     "data": {
      "text/plain": [
       "Index(['date', 'title', 'subtitle', 'claps', 'responses', 'author_url',\n",
       "       'story_url', 'reading_time (mins)', 'number_sections', 'section_titles',\n",
       "       'number_paragraphs', 'paragraphs'],\n",
       "      dtype='object')"
      ]
     },
     "execution_count": 271,
     "metadata": {},
     "output_type": "execute_result"
    }
   ],
   "source": [
    "df.columns"
   ]
  },
  {
   "cell_type": "code",
   "execution_count": 272,
   "id": "46c93a01-4f16-4c33-acac-21d5b0636141",
   "metadata": {},
   "outputs": [
    {
     "name": "stdout",
     "output_type": "stream",
     "text": [
      "<class 'pandas.core.frame.DataFrame'>\n",
      "RangeIndex: 1565 entries, 0 to 1564\n",
      "Data columns (total 12 columns):\n",
      " #   Column               Non-Null Count  Dtype \n",
      "---  ------               --------------  ----- \n",
      " 0   date                 1565 non-null   object\n",
      " 1   title                1565 non-null   object\n",
      " 2   subtitle             1565 non-null   object\n",
      " 3   claps                1565 non-null   object\n",
      " 4   responses            1565 non-null   object\n",
      " 5   author_url           1565 non-null   object\n",
      " 6   story_url            1565 non-null   object\n",
      " 7   reading_time (mins)  1565 non-null   int64 \n",
      " 8   number_sections      1565 non-null   int64 \n",
      " 9   section_titles       1565 non-null   object\n",
      " 10  number_paragraphs    1565 non-null   int64 \n",
      " 11  paragraphs           1565 non-null   object\n",
      "dtypes: int64(3), object(9)\n",
      "memory usage: 146.8+ KB\n"
     ]
    }
   ],
   "source": [
    "df.info()"
   ]
  },
  {
   "cell_type": "code",
   "execution_count": 273,
   "id": "6a97d9da-d2bc-4b51-9118-a4e1f4f62b92",
   "metadata": {},
   "outputs": [
    {
     "data": {
      "text/plain": [
       "date                   0\n",
       "title                  0\n",
       "subtitle               0\n",
       "claps                  0\n",
       "responses              0\n",
       "author_url             0\n",
       "story_url              0\n",
       "reading_time (mins)    0\n",
       "number_sections        0\n",
       "section_titles         0\n",
       "number_paragraphs      0\n",
       "paragraphs             0\n",
       "dtype: int64"
      ]
     },
     "execution_count": 273,
     "metadata": {},
     "output_type": "execute_result"
    }
   ],
   "source": [
    "df.isnull().sum()"
   ]
  },
  {
   "cell_type": "code",
   "execution_count": 274,
   "id": "ef9cb657-c782-4b6c-b24d-7363f1835e68",
   "metadata": {},
   "outputs": [
    {
     "data": {
      "text/plain": [
       "0"
      ]
     },
     "execution_count": 274,
     "metadata": {},
     "output_type": "execute_result"
    }
   ],
   "source": [
    "df.duplicated().sum()"
   ]
  },
  {
   "cell_type": "code",
   "execution_count": 275,
   "id": "f1c2d6d4-10cd-4489-b4be-f8f8b742f1e1",
   "metadata": {},
   "outputs": [
    {
     "data": {
      "text/plain": [
       "5      30\n",
       "14     30\n",
       "10     29\n",
       "16     28\n",
       "9      27\n",
       "       ..\n",
       "2K      1\n",
       "279     1\n",
       "213     1\n",
       "160     1\n",
       "869     1\n",
       "Name: claps, Length: 350, dtype: int64"
      ]
     },
     "execution_count": 275,
     "metadata": {},
     "output_type": "execute_result"
    }
   ],
   "source": [
    "df['claps'].value_counts()"
   ]
  },
  {
   "cell_type": "code",
   "execution_count": 276,
   "id": "af2128dc-131c-47bc-a28d-0d1fca906f61",
   "metadata": {},
   "outputs": [
    {
     "data": {
      "text/plain": [
       "['1K', '1.6K', '1.4K', '1.2K', '4.8K', '1.2K', '2K']"
      ]
     },
     "execution_count": 276,
     "metadata": {},
     "output_type": "execute_result"
    }
   ],
   "source": [
    "#was not able to simply convert 'astype(int)' - noticed the character K - here's what we need to fix\n",
    "K_claps = [df['claps'][row] for row in df[df['claps'].str.contains('K')].index]\n",
    "K_claps"
   ]
  },
  {
   "cell_type": "code",
   "execution_count": 277,
   "id": "04fefa36-92c9-4f2f-8e0d-1cb2e16af26b",
   "metadata": {},
   "outputs": [],
   "source": [
    "# a function to convert K claps to an integer\n",
    "def replace_K(string_in): \n",
    "    if string_in.count('K') >0:\n",
    "        return int((float(string_in.replace('K', '')) * 1000))\n",
    "    else: \n",
    "        return int(string_in)"
   ]
  },
  {
   "cell_type": "code",
   "execution_count": 278,
   "id": "96b1ca88-6917-4e14-812c-2ecc1a9a4dcf",
   "metadata": {},
   "outputs": [],
   "source": [
    "# convert K claps to integer\n",
    "df['claps'] = df['claps'].apply(replace_K)"
   ]
  },
  {
   "cell_type": "code",
   "execution_count": 279,
   "id": "1dc08611-de71-4b0a-af71-6880b2c54394",
   "metadata": {},
   "outputs": [
    {
     "data": {
      "text/plain": [
       "0 responses    1026\n",
       "1               317\n",
       "2               120\n",
       "3                42\n",
       "4                30\n",
       "6                 8\n",
       "7                 7\n",
       "5                 5\n",
       "8                 3\n",
       "10                3\n",
       "12                1\n",
       "23                1\n",
       "11                1\n",
       "25                1\n",
       "Name: responses, dtype: int64"
      ]
     },
     "execution_count": 279,
     "metadata": {},
     "output_type": "execute_result"
    }
   ],
   "source": [
    "df['responses'].value_counts()"
   ]
  },
  {
   "cell_type": "code",
   "execution_count": 280,
   "id": "07bc73af-c76a-45e7-b386-90f40327537e",
   "metadata": {},
   "outputs": [
    {
     "data": {
      "text/html": [
       "<div>\n",
       "<style scoped>\n",
       "    .dataframe tbody tr th:only-of-type {\n",
       "        vertical-align: middle;\n",
       "    }\n",
       "\n",
       "    .dataframe tbody tr th {\n",
       "        vertical-align: top;\n",
       "    }\n",
       "\n",
       "    .dataframe thead th {\n",
       "        text-align: right;\n",
       "    }\n",
       "</style>\n",
       "<table border=\"1\" class=\"dataframe\">\n",
       "  <thead>\n",
       "    <tr style=\"text-align: right;\">\n",
       "      <th></th>\n",
       "      <th>claps</th>\n",
       "      <th>reading_time (mins)</th>\n",
       "      <th>number_sections</th>\n",
       "      <th>number_paragraphs</th>\n",
       "    </tr>\n",
       "  </thead>\n",
       "  <tbody>\n",
       "    <tr>\n",
       "      <th>count</th>\n",
       "      <td>1565.000000</td>\n",
       "      <td>1565.000000</td>\n",
       "      <td>1565.000000</td>\n",
       "      <td>1565.000000</td>\n",
       "    </tr>\n",
       "    <tr>\n",
       "      <th>mean</th>\n",
       "      <td>102.021725</td>\n",
       "      <td>7.384665</td>\n",
       "      <td>5.182748</td>\n",
       "      <td>36.954633</td>\n",
       "    </tr>\n",
       "    <tr>\n",
       "      <th>std</th>\n",
       "      <td>191.356460</td>\n",
       "      <td>3.805235</td>\n",
       "      <td>3.789686</td>\n",
       "      <td>20.596970</td>\n",
       "    </tr>\n",
       "    <tr>\n",
       "      <th>min</th>\n",
       "      <td>0.000000</td>\n",
       "      <td>1.000000</td>\n",
       "      <td>0.000000</td>\n",
       "      <td>4.000000</td>\n",
       "    </tr>\n",
       "    <tr>\n",
       "      <th>25%</th>\n",
       "      <td>19.000000</td>\n",
       "      <td>5.000000</td>\n",
       "      <td>1.000000</td>\n",
       "      <td>23.000000</td>\n",
       "    </tr>\n",
       "    <tr>\n",
       "      <th>50%</th>\n",
       "      <td>54.000000</td>\n",
       "      <td>7.000000</td>\n",
       "      <td>5.000000</td>\n",
       "      <td>32.000000</td>\n",
       "    </tr>\n",
       "    <tr>\n",
       "      <th>75%</th>\n",
       "      <td>114.000000</td>\n",
       "      <td>9.000000</td>\n",
       "      <td>7.000000</td>\n",
       "      <td>45.000000</td>\n",
       "    </tr>\n",
       "    <tr>\n",
       "      <th>max</th>\n",
       "      <td>4800.000000</td>\n",
       "      <td>48.000000</td>\n",
       "      <td>37.000000</td>\n",
       "      <td>220.000000</td>\n",
       "    </tr>\n",
       "  </tbody>\n",
       "</table>\n",
       "</div>"
      ],
      "text/plain": [
       "             claps  reading_time (mins)  number_sections  number_paragraphs\n",
       "count  1565.000000          1565.000000      1565.000000        1565.000000\n",
       "mean    102.021725             7.384665         5.182748          36.954633\n",
       "std     191.356460             3.805235         3.789686          20.596970\n",
       "min       0.000000             1.000000         0.000000           4.000000\n",
       "25%      19.000000             5.000000         1.000000          23.000000\n",
       "50%      54.000000             7.000000         5.000000          32.000000\n",
       "75%     114.000000             9.000000         7.000000          45.000000\n",
       "max    4800.000000            48.000000        37.000000         220.000000"
      ]
     },
     "execution_count": 280,
     "metadata": {},
     "output_type": "execute_result"
    }
   ],
   "source": [
    "df.describe()"
   ]
  },
  {
   "cell_type": "code",
   "execution_count": 281,
   "id": "1b4ea9e5-858d-457f-99a5-c2faee88e729",
   "metadata": {},
   "outputs": [],
   "source": [
    "#check out outliers (posts that are three standard deviations above the mean)"
   ]
  },
  {
   "cell_type": "code",
   "execution_count": 282,
   "id": "b4d680d0-1da2-4995-b04b-c9bb18f4234c",
   "metadata": {},
   "outputs": [],
   "source": [
    "num_columns = ['number_paragraphs', 'reading_time (mins)', 'number_sections', 'claps']"
   ]
  },
  {
   "cell_type": "code",
   "execution_count": 283,
   "id": "356fd9b6-e48d-43a5-a008-bb0da75ccf79",
   "metadata": {},
   "outputs": [
    {
     "name": "stdout",
     "output_type": "stream",
     "text": [
      "number_paragraphs has 20 outliers.\n",
      "reading_time (mins) has 19 outliers.\n",
      "number_sections has 15 outliers.\n",
      "claps has 20 outliers.\n"
     ]
    }
   ],
   "source": [
    "for col in num_columns: \n",
    "    print(f'{col} has {(df[col] > (df[col].mean()+(3*df[col].std()))).sum()} outliers.')"
   ]
  },
  {
   "cell_type": "code",
   "execution_count": 284,
   "id": "6f3fed8f-d692-48df-bc00-37de4858d27d",
   "metadata": {},
   "outputs": [
    {
     "data": {
      "text/plain": [
       "(1565, 12)"
      ]
     },
     "execution_count": 284,
     "metadata": {},
     "output_type": "execute_result"
    }
   ],
   "source": [
    "df.shape"
   ]
  },
  {
   "cell_type": "code",
   "execution_count": 285,
   "id": "d391ff09-3130-4783-816c-74f9f4b995cf",
   "metadata": {
    "tags": []
   },
   "outputs": [],
   "source": [
    "#drop outliers\n",
    "\n",
    "for col in num_columns:\n",
    "    df = df[(df[col] <= ((df[col].mean())+(3*(df[col].std()))))]"
   ]
  },
  {
   "cell_type": "code",
   "execution_count": 286,
   "id": "88320c54-4ab2-4e1a-8545-1f602d9049cc",
   "metadata": {},
   "outputs": [
    {
     "data": {
      "text/plain": [
       "(1490, 12)"
      ]
     },
     "execution_count": 286,
     "metadata": {},
     "output_type": "execute_result"
    }
   ],
   "source": [
    "df.shape"
   ]
  },
  {
   "cell_type": "code",
   "execution_count": 287,
   "id": "0a92b515-0815-43b4-94f2-9869ec32af1f",
   "metadata": {},
   "outputs": [
    {
     "data": {
      "text/html": [
       "<div>\n",
       "<style scoped>\n",
       "    .dataframe tbody tr th:only-of-type {\n",
       "        vertical-align: middle;\n",
       "    }\n",
       "\n",
       "    .dataframe tbody tr th {\n",
       "        vertical-align: top;\n",
       "    }\n",
       "\n",
       "    .dataframe thead th {\n",
       "        text-align: right;\n",
       "    }\n",
       "</style>\n",
       "<table border=\"1\" class=\"dataframe\">\n",
       "  <thead>\n",
       "    <tr style=\"text-align: right;\">\n",
       "      <th></th>\n",
       "      <th>claps</th>\n",
       "      <th>reading_time (mins)</th>\n",
       "      <th>number_sections</th>\n",
       "      <th>number_paragraphs</th>\n",
       "    </tr>\n",
       "  </thead>\n",
       "  <tbody>\n",
       "    <tr>\n",
       "      <th>count</th>\n",
       "      <td>1490.000000</td>\n",
       "      <td>1490.000000</td>\n",
       "      <td>1490.000000</td>\n",
       "      <td>1490.000000</td>\n",
       "    </tr>\n",
       "    <tr>\n",
       "      <th>mean</th>\n",
       "      <td>86.940268</td>\n",
       "      <td>6.948993</td>\n",
       "      <td>4.940940</td>\n",
       "      <td>34.873154</td>\n",
       "    </tr>\n",
       "    <tr>\n",
       "      <th>std</th>\n",
       "      <td>106.816840</td>\n",
       "      <td>2.784651</td>\n",
       "      <td>3.402366</td>\n",
       "      <td>16.611328</td>\n",
       "    </tr>\n",
       "    <tr>\n",
       "      <th>min</th>\n",
       "      <td>0.000000</td>\n",
       "      <td>1.000000</td>\n",
       "      <td>0.000000</td>\n",
       "      <td>4.000000</td>\n",
       "    </tr>\n",
       "    <tr>\n",
       "      <th>25%</th>\n",
       "      <td>18.000000</td>\n",
       "      <td>5.000000</td>\n",
       "      <td>1.000000</td>\n",
       "      <td>23.000000</td>\n",
       "    </tr>\n",
       "    <tr>\n",
       "      <th>50%</th>\n",
       "      <td>52.000000</td>\n",
       "      <td>6.000000</td>\n",
       "      <td>5.000000</td>\n",
       "      <td>32.000000</td>\n",
       "    </tr>\n",
       "    <tr>\n",
       "      <th>75%</th>\n",
       "      <td>108.750000</td>\n",
       "      <td>8.000000</td>\n",
       "      <td>7.000000</td>\n",
       "      <td>44.000000</td>\n",
       "    </tr>\n",
       "    <tr>\n",
       "      <th>max</th>\n",
       "      <td>673.000000</td>\n",
       "      <td>16.000000</td>\n",
       "      <td>15.000000</td>\n",
       "      <td>97.000000</td>\n",
       "    </tr>\n",
       "  </tbody>\n",
       "</table>\n",
       "</div>"
      ],
      "text/plain": [
       "             claps  reading_time (mins)  number_sections  number_paragraphs\n",
       "count  1490.000000          1490.000000      1490.000000        1490.000000\n",
       "mean     86.940268             6.948993         4.940940          34.873154\n",
       "std     106.816840             2.784651         3.402366          16.611328\n",
       "min       0.000000             1.000000         0.000000           4.000000\n",
       "25%      18.000000             5.000000         1.000000          23.000000\n",
       "50%      52.000000             6.000000         5.000000          32.000000\n",
       "75%     108.750000             8.000000         7.000000          44.000000\n",
       "max     673.000000            16.000000        15.000000          97.000000"
      ]
     },
     "execution_count": 287,
     "metadata": {},
     "output_type": "execute_result"
    }
   ],
   "source": [
    "df.describe()"
   ]
  },
  {
   "cell_type": "code",
   "execution_count": 288,
   "id": "bbd4b60c-9b04-4dc3-809d-477c15894b61",
   "metadata": {},
   "outputs": [],
   "source": [
    "df.to_csv(output_filename)"
   ]
  },
  {
   "cell_type": "code",
   "execution_count": 289,
   "id": "c0b1f33b-dbab-4359-8b68-96771d3c4ab1",
   "metadata": {},
   "outputs": [],
   "source": [
    "#remove non-text, non-Y columns\n",
    "df = df.drop(columns=['date', 'responses', 'author_url',\n",
    "       'story_url', 'reading_time (mins)', 'number_sections', \n",
    "       'number_paragraphs'])"
   ]
  },
  {
   "cell_type": "markdown",
   "id": "937496c2-d505-410b-812f-c87267fe5980",
   "metadata": {},
   "source": [
    "#### Remove Punctuation & Make Lowercase"
   ]
  },
  {
   "cell_type": "code",
   "execution_count": 290,
   "id": "5f027dde-0904-45ae-9089-175f84ce9318",
   "metadata": {},
   "outputs": [],
   "source": [
    "text_cols = ['title', 'subtitle', 'paragraphs']"
   ]
  },
  {
   "cell_type": "code",
   "execution_count": 291,
   "id": "e5674397-d28f-4b02-9f60-449b3fc694cb",
   "metadata": {},
   "outputs": [],
   "source": [
    "for col in text_cols:\n",
    "    df[col] = df[col].map(lambda x: re.sub(\"[''·,\\.!?']\", '', x).lower())"
   ]
  },
  {
   "cell_type": "code",
   "execution_count": 292,
   "id": "de9dc9b4-1c19-4ef5-ab79-f3ea2920a3fe",
   "metadata": {},
   "outputs": [
    {
     "data": {
      "text/html": [
       "<div>\n",
       "<style scoped>\n",
       "    .dataframe tbody tr th:only-of-type {\n",
       "        vertical-align: middle;\n",
       "    }\n",
       "\n",
       "    .dataframe tbody tr th {\n",
       "        vertical-align: top;\n",
       "    }\n",
       "\n",
       "    .dataframe thead th {\n",
       "        text-align: right;\n",
       "    }\n",
       "</style>\n",
       "<table border=\"1\" class=\"dataframe\">\n",
       "  <thead>\n",
       "    <tr style=\"text-align: right;\">\n",
       "      <th></th>\n",
       "      <th>title</th>\n",
       "      <th>subtitle</th>\n",
       "      <th>claps</th>\n",
       "      <th>section_titles</th>\n",
       "      <th>paragraphs</th>\n",
       "    </tr>\n",
       "  </thead>\n",
       "  <tbody>\n",
       "    <tr>\n",
       "      <th>1</th>\n",
       "      <td>the ultimate guide to acing coding interviews ...</td>\n",
       "      <td>data science interview</td>\n",
       "      <td>489</td>\n",
       "      <td>['The Ultimate Guide to Acing Coding Interview...</td>\n",
       "      <td>[emma ding jan 111 min read written by emma di...</td>\n",
       "    </tr>\n",
       "    <tr>\n",
       "      <th>2</th>\n",
       "      <td>shakespeare versus eminem— who’s the better ly...</td>\n",
       "      <td>he is known for his poetry his writings on life…</td>\n",
       "      <td>139</td>\n",
       "      <td>['Shakespeare versus Eminem—who’s the better l...</td>\n",
       "      <td>[jeroen van zeeland jan 19 min read data scien...</td>\n",
       "    </tr>\n",
       "    <tr>\n",
       "      <th>4</th>\n",
       "      <td>implementing visualttransformer in pytorch</td>\n",
       "      <td>hi guys happy new year today we are going to i...</td>\n",
       "      <td>133</td>\n",
       "      <td>['Implementing Vision Transformer (ViT) in PyT...</td>\n",
       "      <td>[francesco zuppichini jan 16 min read hi guys ...</td>\n",
       "    </tr>\n",
       "    <tr>\n",
       "      <th>5</th>\n",
       "      <td>stock price analysis with pandas and altair</td>\n",
       "      <td>practical guide for pandas and altair</td>\n",
       "      <td>92</td>\n",
       "      <td>['Stock Price Analysis with Pandas and Altair']</td>\n",
       "      <td>[soner yıldırım jan 15 min read stock price an...</td>\n",
       "    </tr>\n",
       "    <tr>\n",
       "      <th>6</th>\n",
       "      <td>optimal threshold for imbalanced classification</td>\n",
       "      <td>hands-on tutorial</td>\n",
       "      <td>58</td>\n",
       "      <td>['Optimal Threshold for Imbalanced Classificat...</td>\n",
       "      <td>[audhi aprilliant jan 19 min read classificati...</td>\n",
       "    </tr>\n",
       "  </tbody>\n",
       "</table>\n",
       "</div>"
      ],
      "text/plain": [
       "                                               title  \\\n",
       "1  the ultimate guide to acing coding interviews ...   \n",
       "2  shakespeare versus eminem— who’s the better ly...   \n",
       "4         implementing visualttransformer in pytorch   \n",
       "5        stock price analysis with pandas and altair   \n",
       "6    optimal threshold for imbalanced classification   \n",
       "\n",
       "                                            subtitle  claps  \\\n",
       "1                             data science interview    489   \n",
       "2   he is known for his poetry his writings on life…    139   \n",
       "4  hi guys happy new year today we are going to i...    133   \n",
       "5              practical guide for pandas and altair     92   \n",
       "6                                  hands-on tutorial     58   \n",
       "\n",
       "                                      section_titles  \\\n",
       "1  ['The Ultimate Guide to Acing Coding Interview...   \n",
       "2  ['Shakespeare versus Eminem—who’s the better l...   \n",
       "4  ['Implementing Vision Transformer (ViT) in PyT...   \n",
       "5    ['Stock Price Analysis with Pandas and Altair']   \n",
       "6  ['Optimal Threshold for Imbalanced Classificat...   \n",
       "\n",
       "                                          paragraphs  \n",
       "1  [emma ding jan 111 min read written by emma di...  \n",
       "2  [jeroen van zeeland jan 19 min read data scien...  \n",
       "4  [francesco zuppichini jan 16 min read hi guys ...  \n",
       "5  [soner yıldırım jan 15 min read stock price an...  \n",
       "6  [audhi aprilliant jan 19 min read classificati...  "
      ]
     },
     "execution_count": 292,
     "metadata": {},
     "output_type": "execute_result"
    }
   ],
   "source": [
    "df.head()"
   ]
  },
  {
   "cell_type": "code",
   "execution_count": null,
   "id": "f0bcecff-e471-46cd-a366-389f8748906b",
   "metadata": {},
   "outputs": [],
   "source": []
  },
  {
   "cell_type": "markdown",
   "id": "c62206fd-069c-487b-90bd-a157795790b4",
   "metadata": {},
   "source": [
    "#### Combine Title & Subtitle"
   ]
  },
  {
   "cell_type": "code",
   "execution_count": 293,
   "id": "0b2b1a7c-a42d-4e6c-a3d5-8124648f9214",
   "metadata": {},
   "outputs": [],
   "source": [
    "df['combined_title'] = df['title'] + ' ' + df['subtitle']"
   ]
  },
  {
   "cell_type": "code",
   "execution_count": 294,
   "id": "ab731200-97cc-42cc-993f-c7e4f74a1414",
   "metadata": {},
   "outputs": [],
   "source": [
    "df = df.drop(columns = ['title', 'subtitle']).reset_index(drop=True)"
   ]
  },
  {
   "cell_type": "code",
   "execution_count": 295,
   "id": "4cddac51-69d7-449b-8a9f-6333128bcef4",
   "metadata": {},
   "outputs": [
    {
     "data": {
      "text/html": [
       "<div>\n",
       "<style scoped>\n",
       "    .dataframe tbody tr th:only-of-type {\n",
       "        vertical-align: middle;\n",
       "    }\n",
       "\n",
       "    .dataframe tbody tr th {\n",
       "        vertical-align: top;\n",
       "    }\n",
       "\n",
       "    .dataframe thead th {\n",
       "        text-align: right;\n",
       "    }\n",
       "</style>\n",
       "<table border=\"1\" class=\"dataframe\">\n",
       "  <thead>\n",
       "    <tr style=\"text-align: right;\">\n",
       "      <th></th>\n",
       "      <th>claps</th>\n",
       "      <th>section_titles</th>\n",
       "      <th>paragraphs</th>\n",
       "      <th>combined_title</th>\n",
       "    </tr>\n",
       "  </thead>\n",
       "  <tbody>\n",
       "    <tr>\n",
       "      <th>0</th>\n",
       "      <td>489</td>\n",
       "      <td>['The Ultimate Guide to Acing Coding Interview...</td>\n",
       "      <td>[emma ding jan 111 min read written by emma di...</td>\n",
       "      <td>the ultimate guide to acing coding interviews ...</td>\n",
       "    </tr>\n",
       "    <tr>\n",
       "      <th>1</th>\n",
       "      <td>139</td>\n",
       "      <td>['Shakespeare versus Eminem—who’s the better l...</td>\n",
       "      <td>[jeroen van zeeland jan 19 min read data scien...</td>\n",
       "      <td>shakespeare versus eminem— who’s the better ly...</td>\n",
       "    </tr>\n",
       "    <tr>\n",
       "      <th>2</th>\n",
       "      <td>133</td>\n",
       "      <td>['Implementing Vision Transformer (ViT) in PyT...</td>\n",
       "      <td>[francesco zuppichini jan 16 min read hi guys ...</td>\n",
       "      <td>implementing visualttransformer in pytorch hi ...</td>\n",
       "    </tr>\n",
       "    <tr>\n",
       "      <th>3</th>\n",
       "      <td>92</td>\n",
       "      <td>['Stock Price Analysis with Pandas and Altair']</td>\n",
       "      <td>[soner yıldırım jan 15 min read stock price an...</td>\n",
       "      <td>stock price analysis with pandas and altair pr...</td>\n",
       "    </tr>\n",
       "    <tr>\n",
       "      <th>4</th>\n",
       "      <td>58</td>\n",
       "      <td>['Optimal Threshold for Imbalanced Classificat...</td>\n",
       "      <td>[audhi aprilliant jan 19 min read classificati...</td>\n",
       "      <td>optimal threshold for imbalanced classificatio...</td>\n",
       "    </tr>\n",
       "  </tbody>\n",
       "</table>\n",
       "</div>"
      ],
      "text/plain": [
       "   claps                                     section_titles  \\\n",
       "0    489  ['The Ultimate Guide to Acing Coding Interview...   \n",
       "1    139  ['Shakespeare versus Eminem—who’s the better l...   \n",
       "2    133  ['Implementing Vision Transformer (ViT) in PyT...   \n",
       "3     92    ['Stock Price Analysis with Pandas and Altair']   \n",
       "4     58  ['Optimal Threshold for Imbalanced Classificat...   \n",
       "\n",
       "                                          paragraphs  \\\n",
       "0  [emma ding jan 111 min read written by emma di...   \n",
       "1  [jeroen van zeeland jan 19 min read data scien...   \n",
       "2  [francesco zuppichini jan 16 min read hi guys ...   \n",
       "3  [soner yıldırım jan 15 min read stock price an...   \n",
       "4  [audhi aprilliant jan 19 min read classificati...   \n",
       "\n",
       "                                      combined_title  \n",
       "0  the ultimate guide to acing coding interviews ...  \n",
       "1  shakespeare versus eminem— who’s the better ly...  \n",
       "2  implementing visualttransformer in pytorch hi ...  \n",
       "3  stock price analysis with pandas and altair pr...  \n",
       "4  optimal threshold for imbalanced classificatio...  "
      ]
     },
     "execution_count": 295,
     "metadata": {},
     "output_type": "execute_result"
    }
   ],
   "source": [
    "df.head()"
   ]
  },
  {
   "cell_type": "code",
   "execution_count": null,
   "id": "3a580bbd-c81a-43b8-96ae-0c9305438ea2",
   "metadata": {},
   "outputs": [],
   "source": []
  },
  {
   "cell_type": "code",
   "execution_count": 340,
   "id": "7c4efb48-2459-4404-9ecb-52cd94e80e0f",
   "metadata": {},
   "outputs": [],
   "source": [
    "#remove all text up to and including 'min read' in the beginning of the paragraphs\n",
    "df['paragraphs'] = df['paragraphs'].map(lambda x: (x[x.index('min read')+9:] if (x.count('min read') > 0) else x))\n",
    "                     "
   ]
  },
  {
   "cell_type": "code",
   "execution_count": 341,
   "id": "cd160ffe-53d6-47a1-934b-a12c0c0aef6e",
   "metadata": {},
   "outputs": [],
   "source": [
    "from wordcloud import WordCloud"
   ]
  },
  {
   "cell_type": "code",
   "execution_count": 342,
   "id": "9d4da863-4a98-4044-84eb-79e1c9c51b29",
   "metadata": {},
   "outputs": [],
   "source": [
    "title_string = ','.join(list(df['combined_title'].values))"
   ]
  },
  {
   "cell_type": "code",
   "execution_count": 343,
   "id": "4976a0f5-8b3f-4eb6-a794-48f47bfe22ef",
   "metadata": {},
   "outputs": [
    {
     "data": {
      "image/png": "[encoded data removed]",
      "text/plain": [
       "<PIL.Image.Image image mode=RGB size=400x200 at 0x7FDF6B350E80>"
      ]
     },
     "execution_count": 343,
     "metadata": {},
     "output_type": "execute_result"
    }
   ],
   "source": [
    "# Create a WordCloud object\n",
    "wordcloud = WordCloud(background_color=\"white\", max_words=5000, contour_width=3, contour_color='steelblue')\n",
    "# Generate & Visualize a word cloud\n",
    "wordcloud.generate(title_string);\n",
    "# Visualize the word cloud\n",
    "wordcloud.to_image()"
   ]
  },
  {
   "cell_type": "code",
   "execution_count": 344,
   "id": "cfd311d2-669c-4b60-83cf-7daf39f7b962",
   "metadata": {
    "tags": []
   },
   "outputs": [],
   "source": [
    "stop_words = stopwords.words('english')\n",
    "stop_words.extend(['from', 'subject', 're', 'edu', 'use'])"
   ]
  },
  {
   "cell_type": "code",
   "execution_count": 345,
   "id": "926ca95b-20ba-4073-84ff-cd2b807196ab",
   "metadata": {},
   "outputs": [],
   "source": [
    "def sent_to_words(sentences):\n",
    "    for sentence in sentences:\n",
    "        # deacc=True removes punctuations\n",
    "        yield(gensim.utils.simple_preprocess(str(sentence), deacc=True))\n",
    "\n",
    "def remove_stopwords(texts):\n",
    "    return [[word for word in simple_preprocess(str(doc)) \n",
    "             if word not in stop_words] for doc in texts]"
   ]
  },
  {
   "cell_type": "code",
   "execution_count": 346,
   "id": "03b32723-b713-4b84-9a3b-ef77cbc070c7",
   "metadata": {},
   "outputs": [
    {
     "name": "stdout",
     "output_type": "stream",
     "text": [
      "['written', 'emma', 'ding', 'rob', 'wang', 'data', 'science', 'ds', 'relatively', 'new', 'profession', 'compared', 'types', 'roles', 'tech', 'industry', 'software', 'engineering', 'product', 'management', 'initially', 'ds', 'interviews', 'limited', 'coding', 'component', 'including', 'sql', 'applied', 'data']\n"
     ]
    }
   ],
   "source": [
    "data = df['paragraphs'].values.tolist()\n",
    "data_words = list(sent_to_words(data))\n",
    "# remove stop words\n",
    "data_words = remove_stopwords(data_words)\n",
    "print(data_words[:1][0][:30])"
   ]
  },
  {
   "cell_type": "code",
   "execution_count": 348,
   "id": "60c65b2a-0d4b-4827-b259-b6c950c07c7c",
   "metadata": {},
   "outputs": [
    {
     "name": "stdout",
     "output_type": "stream",
     "text": [
      "[(0, 1), (1, 1), (2, 5), (3, 1), (4, 1), (5, 1), (6, 1), (7, 1), (8, 1), (9, 1), (10, 1), (11, 1), (12, 3), (13, 2), (14, 1), (15, 8), (16, 1), (17, 1), (18, 1), (19, 1), (20, 1), (21, 3), (22, 5), (23, 4), (24, 3), (25, 1), (26, 1), (27, 1), (28, 2), (29, 3)]\n"
     ]
    }
   ],
   "source": [
    "# Create Dictionary\n",
    "id2word = corpora.Dictionary(data_words)\n",
    "# Create Corpus\n",
    "texts = data_words\n",
    "# Term Document Frequency\n",
    "corpus = [id2word.doc2bow(text) for text in texts]\n",
    "# View\n",
    "print(corpus[:1][0][:30])"
   ]
  },
  {
   "cell_type": "code",
   "execution_count": 349,
   "id": "6e61d9d1-21d5-444f-84e5-e031cedd313e",
   "metadata": {},
   "outputs": [
    {
     "name": "stdout",
     "output_type": "stream",
     "text": [
      "[(0,\n",
      "  '0.018*\"data\" + 0.008*\"model\" + 0.006*\"one\" + 0.005*\"using\" + '\n",
      "  '0.005*\"learning\" + 0.005*\"also\" + 0.005*\"time\" + 0.004*\"function\" + '\n",
      "  '0.004*\"like\" + 0.004*\"code\"'),\n",
      " (1,\n",
      "  '0.019*\"data\" + 0.005*\"time\" + 0.005*\"one\" + 0.005*\"using\" + 0.004*\"like\" + '\n",
      "  '0.004*\"also\" + 0.004*\"see\" + 0.004*\"model\" + 0.004*\"first\" + 0.003*\"need\"'),\n",
      " (2,\n",
      "  '0.011*\"data\" + 0.008*\"model\" + 0.005*\"one\" + 0.005*\"time\" + 0.005*\"would\" + '\n",
      "  '0.004*\"using\" + 0.004*\"like\" + 0.004*\"also\" + 0.004*\"used\" + '\n",
      "  '0.004*\"function\"'),\n",
      " (3,\n",
      "  '0.020*\"data\" + 0.006*\"one\" + 0.005*\"time\" + 0.005*\"model\" + '\n",
      "  '0.004*\"learning\" + 0.004*\"function\" + 0.004*\"also\" + 0.004*\"would\" + '\n",
      "  '0.004*\"first\" + 0.003*\"see\"'),\n",
      " (4,\n",
      "  '0.028*\"data\" + 0.007*\"model\" + 0.006*\"one\" + 0.005*\"learning\" + '\n",
      "  '0.005*\"also\" + 0.004*\"using\" + 0.004*\"science\" + 0.004*\"code\" + '\n",
      "  '0.004*\"first\" + 0.004*\"used\"'),\n",
      " (5,\n",
      "  '0.013*\"data\" + 0.011*\"model\" + 0.006*\"learning\" + 0.006*\"using\" + '\n",
      "  '0.005*\"like\" + 0.004*\"one\" + 0.004*\"code\" + 0.004*\"let\" + 0.004*\"see\" + '\n",
      "  '0.004*\"value\"'),\n",
      " (6,\n",
      "  '0.018*\"data\" + 0.010*\"model\" + 0.004*\"using\" + 0.004*\"function\" + '\n",
      "  '0.004*\"see\" + 0.004*\"one\" + 0.004*\"time\" + 0.004*\"also\" + 0.004*\"different\" '\n",
      "  '+ 0.004*\"two\"'),\n",
      " (7,\n",
      "  '0.021*\"data\" + 0.006*\"time\" + 0.005*\"learning\" + 0.005*\"one\" + '\n",
      "  '0.004*\"using\" + 0.004*\"need\" + 0.004*\"also\" + 0.003*\"two\" + 0.003*\"used\" + '\n",
      "  '0.003*\"function\"'),\n",
      " (8,\n",
      "  '0.012*\"data\" + 0.006*\"model\" + 0.006*\"one\" + 0.004*\"also\" + 0.004*\"using\" + '\n",
      "  '0.004*\"function\" + 0.004*\"learning\" + 0.004*\"like\" + 0.004*\"used\" + '\n",
      "  '0.004*\"two\"'),\n",
      " (9,\n",
      "  '0.014*\"data\" + 0.010*\"model\" + 0.006*\"one\" + 0.005*\"using\" + 0.005*\"see\" + '\n",
      "  '0.005*\"function\" + 0.004*\"also\" + 0.004*\"like\" + 0.004*\"code\" + '\n",
      "  '0.004*\"used\"')]\n"
     ]
    }
   ],
   "source": [
    "from pprint import pprint\n",
    "# number of topics\n",
    "num_topics = 10\n",
    "# Build LDA model\n",
    "lda_model = gensim.models.LdaMulticore(corpus=corpus,\n",
    "                                       id2word=id2word,\n",
    "                                       num_topics=num_topics)\n",
    "# Print the Keyword in the 10 topics\n",
    "pprint(lda_model.print_topics())\n",
    "doc_lda = lda_model[corpus]"
   ]
  },
  {
   "cell_type": "code",
   "execution_count": 350,
   "id": "3caf0203-1b47-4ea2-a99d-8733aed8cde6",
   "metadata": {},
   "outputs": [
    {
     "name": "stdout",
     "output_type": "stream",
     "text": [
      "Collecting pyLDAvis\n",
      "  Downloading pyLDAvis-3.3.1.tar.gz (1.7 MB)\n",
      "\u001b[K     |████████████████████████████████| 1.7 MB 9.9 MB/s eta 0:00:01\n",
      "\u001b[?25h  Installing build dependencies ... \u001b[?25ldone\n",
      "\u001b[?25h  Getting requirements to build wheel ... \u001b[?25ldone\n",
      "\u001b[?25h  Installing backend dependencies ... \u001b[?25ldone\n",
      "\u001b[?25h    Preparing wheel metadata ... \u001b[?25ldone\n",
      "\u001b[?25hRequirement already satisfied: gensim in /Users/rachelinsler/ENTER/envs/capstone/lib/python3.9/site-packages (from pyLDAvis) (4.0.1)\n",
      "Requirement already satisfied: pandas>=1.2.0 in /Users/rachelinsler/ENTER/envs/capstone/lib/python3.9/site-packages (from pyLDAvis) (1.2.4)\n",
      "Collecting numexpr\n",
      "  Downloading numexpr-2.7.3-cp39-cp39-macosx_10_9_x86_64.whl (99 kB)\n",
      "\u001b[K     |████████████████████████████████| 99 kB 8.3 MB/s eta 0:00:01\n",
      "\u001b[?25hRequirement already satisfied: jinja2 in /Users/rachelinsler/ENTER/envs/capstone/lib/python3.9/site-packages (from pyLDAvis) (2.11.3)\n",
      "Collecting funcy\n",
      "  Downloading funcy-1.15-py2.py3-none-any.whl (32 kB)\n",
      "Requirement already satisfied: joblib in /Users/rachelinsler/ENTER/envs/capstone/lib/python3.9/site-packages (from pyLDAvis) (1.0.1)\n",
      "Requirement already satisfied: numpy>=1.20.0 in /Users/rachelinsler/ENTER/envs/capstone/lib/python3.9/site-packages (from pyLDAvis) (1.20.1)\n",
      "Collecting sklearn\n",
      "  Using cached sklearn-0.0.tar.gz (1.1 kB)\n",
      "Collecting future\n",
      "  Downloading future-0.18.2.tar.gz (829 kB)\n",
      "\u001b[K     |████████████████████████████████| 829 kB 9.6 MB/s eta 0:00:01\n",
      "\u001b[?25hRequirement already satisfied: setuptools in /Users/rachelinsler/ENTER/envs/capstone/lib/python3.9/site-packages (from pyLDAvis) (52.0.0.post20210125)\n",
      "Requirement already satisfied: scikit-learn in /Users/rachelinsler/ENTER/envs/capstone/lib/python3.9/site-packages (from pyLDAvis) (0.24.1)\n",
      "Requirement already satisfied: scipy in /Users/rachelinsler/ENTER/envs/capstone/lib/python3.9/site-packages (from pyLDAvis) (1.6.2)\n",
      "Requirement already satisfied: python-dateutil>=2.7.3 in /Users/rachelinsler/ENTER/envs/capstone/lib/python3.9/site-packages (from pandas>=1.2.0->pyLDAvis) (2.8.1)\n",
      "Requirement already satisfied: pytz>=2017.3 in /Users/rachelinsler/ENTER/envs/capstone/lib/python3.9/site-packages (from pandas>=1.2.0->pyLDAvis) (2021.1)\n",
      "Requirement already satisfied: six>=1.5 in /Users/rachelinsler/ENTER/envs/capstone/lib/python3.9/site-packages (from python-dateutil>=2.7.3->pandas>=1.2.0->pyLDAvis) (1.15.0)\n",
      "Requirement already satisfied: smart-open>=1.8.1 in /Users/rachelinsler/ENTER/envs/capstone/lib/python3.9/site-packages (from gensim->pyLDAvis) (5.0.0)\n",
      "Requirement already satisfied: MarkupSafe>=0.23 in /Users/rachelinsler/ENTER/envs/capstone/lib/python3.9/site-packages (from jinja2->pyLDAvis) (1.1.1)\n",
      "Requirement already satisfied: threadpoolctl>=2.0.0 in /Users/rachelinsler/ENTER/envs/capstone/lib/python3.9/site-packages (from scikit-learn->pyLDAvis) (2.1.0)\n",
      "Building wheels for collected packages: pyLDAvis, future, sklearn\n",
      "  Building wheel for pyLDAvis (PEP 517) ... \u001b[?25ldone\n",
      "\u001b[?25h  Created wheel for pyLDAvis: filename=pyLDAvis-3.3.1-py2.py3-none-any.whl size=136870 sha256=40271d00e3dd22438af7219b42c0e3c21144ad3a9d14bba8e447128b514c85ee\n",
      "  Stored in directory: /Users/rachelinsler/Library/Caches/pip/wheels/57/a4/86/d10c6c2e0bf149fbc0afb0aa5a6528ac35b30a133a0270c477\n",
      "  Building wheel for future (setup.py) ... \u001b[?25ldone\n",
      "\u001b[?25h  Created wheel for future: filename=future-0.18.2-py3-none-any.whl size=491059 sha256=3ad2b69a82be7a6b3d63ff7d0b405b05009b773dedacdf70b5d9268376c14f9e\n",
      "  Stored in directory: /Users/rachelinsler/Library/Caches/pip/wheels/2f/a0/d3/4030d9f80e6b3be787f19fc911b8e7aa462986a40ab1e4bb94\n",
      "  Building wheel for sklearn (setup.py) ... \u001b[?25ldone\n",
      "\u001b[?25h  Created wheel for sklearn: filename=sklearn-0.0-py2.py3-none-any.whl size=1316 sha256=f545276c777609cc886843670a4a4b1c5e73cdaa17ef267b5830dfd8826444ab\n",
      "  Stored in directory: /Users/rachelinsler/Library/Caches/pip/wheels/e4/7b/98/b6466d71b8d738a0c547008b9eb39bf8676d1ff6ca4b22af1c\n",
      "Successfully built pyLDAvis future sklearn\n",
      "Installing collected packages: sklearn, numexpr, future, funcy, pyLDAvis\n",
      "Successfully installed funcy-1.15 future-0.18.2 numexpr-2.7.3 pyLDAvis-3.3.1 sklearn-0.0\n"
     ]
    }
   ],
   "source": [
    "!pip install pyLDAvis"
   ]
  },
  {
   "cell_type": "code",
   "execution_count": 352,
   "id": "826adc8c-6aaf-4bb5-9434-2a5a3cbacf2f",
   "metadata": {},
   "outputs": [
    {
     "name": "stderr",
     "output_type": "stream",
     "text": [
      "/Users/rachelinsler/ENTER/envs/capstone/lib/python3.9/site-packages/ipykernel/ipkernel.py:287: DeprecationWarning: `should_run_async` will not call `transform_cell` automatically in the future. Please pass the result to `transformed_cell` argument and any exception that happen during thetransform in `preprocessing_exc_tuple` in IPython 7.17 and above.\n",
      "  and should_run_async(code)\n"
     ]
    }
   ],
   "source": [
    "import pickle \n",
    "import pyLDAvis"
   ]
  },
  {
   "cell_type": "code",
   "execution_count": null,
   "id": "9e34ae3f-df50-458e-8092-4f54ebc3fe70",
   "metadata": {},
   "outputs": [],
   "source": [
    "#figure out pyldavis without gensim"
   ]
  },
  {
   "cell_type": "code",
   "execution_count": null,
   "id": "5d5d0a7d-278b-4944-baa7-a604bddd2822",
   "metadata": {},
   "outputs": [],
   "source": []
  },
  {
   "cell_type": "code",
   "execution_count": null,
   "id": "beb08019-c632-4a2a-a8d7-5ac04da5a9ec",
   "metadata": {},
   "outputs": [],
   "source": [
    "df.to_csv(nlp_filename)"
   ]
  }
 ],
 "metadata": {
  "kernelspec": {
   "display_name": "Python 3",
   "language": "python",
   "name": "python3"
  },
  "language_info": {
   "codemirror_mode": {
    "name": "ipython",
    "version": 3
   },
   "file_extension": ".py",
   "mimetype": "text/x-python",
   "name": "python",
   "nbconvert_exporter": "python",
   "pygments_lexer": "ipython3",
   "version": "3.9.4"
  }
 },
 "nbformat": 4,
 "nbformat_minor": 5
}
