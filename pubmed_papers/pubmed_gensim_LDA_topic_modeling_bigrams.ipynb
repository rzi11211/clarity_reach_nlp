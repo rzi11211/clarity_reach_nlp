{
 "cells": [
  {
   "cell_type": "markdown",
   "id": "895a987b-c9d8-42aa-89ca-b06dfe04df6f",
   "metadata": {},
   "source": [
    "# Topic Modeling PubMed Abstracts with Latent Dirichlet Analysis\n",
    "## bigrams\n",
    "\n",
    "Based on the tutorial at https://www.machinelearningplus.com/nlp/topic-modeling-gensim-python/"
   ]
  },
  {
   "cell_type": "code",
   "execution_count": 1,
   "id": "18fbe3c9-5d2a-4f00-b00d-9f3bcfd2102d",
   "metadata": {},
   "outputs": [],
   "source": [
    "# !pip install gensim==3.8.3"
   ]
  },
  {
   "cell_type": "code",
   "execution_count": 2,
   "id": "636a2023-6509-4b02-a31b-98c74ded4902",
   "metadata": {},
   "outputs": [],
   "source": [
    "import re\n",
    "import numpy as np\n",
    "import pandas as pd\n",
    "import matplotlib.pyplot as plt\n",
    "import seaborn as sns\n",
    "\n",
    "# Gensim\n",
    "import gensim\n",
    "import gensim.corpora as corpora\n",
    "from gensim.utils import simple_preprocess\n",
    "from gensim.models import CoherenceModel\n",
    "from gensim.test.utils import common_texts, get_tmpfile\n",
    "from gensim.models import Word2Vec\n",
    "from gensim.models.ldamodel import LdaModel\n",
    "from gensim.models.wrappers import LdaMallet\n",
    "\n",
    "# NTLK stopwords\n",
    "from nltk.corpus import stopwords\n",
    "\n",
    "# spacy for lemmatization\n",
    "import spacy\n",
    "\n",
    "# Plotting tools\n",
    "import pyLDAvis\n",
    "import pyLDAvis.gensim_models as gensimvis\n",
    "pyLDAvis.enable_notebook()\n",
    "import matplotlib.pyplot as plt\n",
    "%matplotlib inline\n",
    "\n",
    "# Enable logging for gensim - optional\n",
    "import logging\n",
    "logging.basicConfig(format='%(asctime)s : %(levelname)s : %(message)s', level=logging.ERROR)\n",
    "\n",
    "#saving models\n",
    "import pickle \n",
    "import joblib\n",
    "\n",
    "import warnings\n",
    "warnings.filterwarnings(\"ignore\")"
   ]
  },
  {
   "cell_type": "code",
   "execution_count": 3,
   "id": "b5d7abef-4e2c-439c-8c54-efb7ac0d2e55",
   "metadata": {},
   "outputs": [],
   "source": [
    "#update stopwords with frequent irrelevant words identified during EDA\n",
    "stop_words = stopwords.words('english')\n",
    "stop_words.extend(['use', 'used', 'using', 'one', 'like', 'user', 'make', 'also', 'get', 'point', 'let', 'go'])"
   ]
  },
  {
   "cell_type": "code",
   "execution_count": 4,
   "id": "3aa5bbb7-7883-4545-8623-e27665a7c7a9",
   "metadata": {},
   "outputs": [],
   "source": [
    "filename = '../data/pubmed_cleaned_no_outliers.csv'"
   ]
  },
  {
   "cell_type": "code",
   "execution_count": 5,
   "id": "e9ff3a4d-c7ee-4935-857d-e67c2b52d33e",
   "metadata": {},
   "outputs": [],
   "source": [
    "#read in the data\n",
    "df = pd.read_csv(filename).set_index('pmid')"
   ]
  },
  {
   "cell_type": "code",
   "execution_count": 6,
   "id": "01df1bc5-8a46-4d63-ab39-c83d238f32e1",
   "metadata": {},
   "outputs": [
    {
     "data": {
      "text/plain": [
       "Index(['Unnamed: 0', 'title', 'text', 'date', 'citations', 'len_text',\n",
       "       'len_title', 'days_live'],\n",
       "      dtype='object')"
      ]
     },
     "execution_count": 6,
     "metadata": {},
     "output_type": "execute_result"
    }
   ],
   "source": [
    "df.columns"
   ]
  },
  {
   "cell_type": "code",
   "execution_count": 7,
   "id": "5dbe0154-3617-47fe-aaae-ad32a3910375",
   "metadata": {},
   "outputs": [],
   "source": [
    "#remove non-text, non-Y columns\n",
    "df.drop(columns = ['Unnamed: 0', 'date', 'len_text', 'len_title', 'days_live'], inplace=True)"
   ]
  },
  {
   "cell_type": "markdown",
   "id": "48f63fb1-9bd9-442d-9afa-9d32bef09f19",
   "metadata": {},
   "source": [
    "#### Combine Title & Abstract"
   ]
  },
  {
   "cell_type": "code",
   "execution_count": 8,
   "id": "2e2fab36-0212-4ce1-9c83-fa728d6a7dcf",
   "metadata": {},
   "outputs": [],
   "source": [
    "df['text'] = (df['title'] + ' ' + df['text'])"
   ]
  },
  {
   "cell_type": "code",
   "execution_count": 9,
   "id": "e49eef43-55aa-44ac-916a-744192b9a8aa",
   "metadata": {},
   "outputs": [],
   "source": [
    "df = df.drop(columns = 'title')"
   ]
  },
  {
   "cell_type": "markdown",
   "id": "aad6d554-59ac-4415-b813-e0b9385a58f9",
   "metadata": {},
   "source": [
    "#### Remove Punctuation & Make Lowercase"
   ]
  },
  {
   "cell_type": "code",
   "execution_count": 10,
   "id": "a6ab19f7-f196-4979-b57d-32ef687ae6a0",
   "metadata": {},
   "outputs": [],
   "source": [
    "df['text'] = df['text'].map(lambda x: re.sub(\"[''·,\\.!?'-]\", '', x).lower())"
   ]
  },
  {
   "cell_type": "code",
   "execution_count": 11,
   "id": "604609ac-a04a-48dd-b783-2dddbb0b8832",
   "metadata": {},
   "outputs": [],
   "source": [
    "# Convert to list\n",
    "data = df['text'].values.tolist()"
   ]
  },
  {
   "cell_type": "markdown",
   "id": "0f1b88dd-74f0-41d8-a6c4-085affb9ae05",
   "metadata": {},
   "source": [
    "#### Tokenize Words and Clean Up Text"
   ]
  },
  {
   "cell_type": "code",
   "execution_count": 12,
   "id": "4d6d834e-35f1-4940-9a37-a3098fdfc221",
   "metadata": {},
   "outputs": [],
   "source": [
    "def sent_to_words(sentences):\n",
    "    for sentence in sentences:\n",
    "        yield(gensim.utils.simple_preprocess(str(sentence), deacc=True)) \n",
    "\n",
    "data_words = list(sent_to_words(data))"
   ]
  },
  {
   "cell_type": "markdown",
   "id": "093c7cc8-3887-4016-b337-2add7d1546e5",
   "metadata": {},
   "source": [
    "#### Bigram and Trigram Models"
   ]
  },
  {
   "cell_type": "code",
   "execution_count": 13,
   "id": "719fb3d2-de81-420b-9ea1-5dd8b1b8ccf1",
   "metadata": {},
   "outputs": [],
   "source": [
    "# Build the bigram and trigram models\n",
    "bigram = gensim.models.Phrases(data_words, min_count=5, threshold=100) # higher threshold fewer phrases.\n",
    "trigram = gensim.models.Phrases(bigram[data_words], threshold=100)  \n",
    "\n",
    "# Faster way to get a sentence clubbed as a trigram/bigram\n",
    "bigram_mod = gensim.models.phrases.Phraser(bigram)\n",
    "trigram_mod = gensim.models.phrases.Phraser(trigram)"
   ]
  },
  {
   "cell_type": "code",
   "execution_count": 14,
   "id": "7477a8ef-1e6f-45bf-b80d-d83b2a8e9c18",
   "metadata": {},
   "outputs": [],
   "source": [
    "# Define functions for stopwords, bigrams, trigrams and lemmatization\n",
    "def remove_stopwords(texts):\n",
    "    return [[word for word in simple_preprocess(str(doc)) if word not in stop_words] for doc in texts]\n",
    "\n",
    "def make_bigrams(texts):\n",
    "    return [bigram_mod[doc] for doc in texts]\n",
    "\n",
    "def make_trigrams(texts):\n",
    "    return [trigram_mod[bigram_mod[doc]] for doc in texts]\n",
    "\n",
    "def lemmatization(texts, allowed_postags=['NOUN', 'ADJ', 'VERB', 'ADV']):\n",
    "    \"\"\"https://spacy.io/api/annotation\"\"\"\n",
    "    texts_out = []\n",
    "    for sent in texts:\n",
    "        doc = nlp(\" \".join(sent)) \n",
    "        texts_out.append([token.lemma_ for token in doc if token.pos_ in allowed_postags])\n",
    "    return texts_out"
   ]
  },
  {
   "cell_type": "markdown",
   "id": "85aa658a-93e7-4bf2-8fe7-9a1d0d0f8736",
   "metadata": {},
   "source": [
    "#### Remove Stop Words "
   ]
  },
  {
   "cell_type": "code",
   "execution_count": 15,
   "id": "a76a847c-00b0-466e-9dc2-7c86a9d705c5",
   "metadata": {},
   "outputs": [],
   "source": [
    "data_words_nostops = remove_stopwords(data_words)"
   ]
  },
  {
   "cell_type": "markdown",
   "id": "8ead2c3f-9907-45f1-b0e4-8dd81fa8e047",
   "metadata": {},
   "source": [
    "#### Initialize Spacy 'en' Model"
   ]
  },
  {
   "cell_type": "code",
   "execution_count": 16,
   "id": "5cba7282-1ab5-4a22-b4fc-74d02b23195c",
   "metadata": {
    "tags": []
   },
   "outputs": [],
   "source": [
    "#!spacy download en_core_web_lg"
   ]
  },
  {
   "cell_type": "code",
   "execution_count": 17,
   "id": "b062cf91-c1f0-4958-bf2f-aeb8e3ce56f5",
   "metadata": {},
   "outputs": [],
   "source": [
    "nlp = spacy.load('en_core_web_lg')"
   ]
  },
  {
   "cell_type": "code",
   "execution_count": 18,
   "id": "2ff35a03-ee00-40f6-81d7-5c55e17b7fb6",
   "metadata": {
    "tags": []
   },
   "outputs": [],
   "source": [
    "# remove exception from rule-based exceptions - not a fan of \"datum\" showing up in my corpus along with data....\n",
    "nlp.get_pipe('lemmatizer').lookups.get_table(\"lemma_exc\")[\"noun\"][\"data\"] = [\"data\"]"
   ]
  },
  {
   "cell_type": "markdown",
   "id": "54408c0e-5e3e-4f51-bf51-d5d89fddb61d",
   "metadata": {},
   "source": [
    "#### Lemmatize"
   ]
  },
  {
   "cell_type": "code",
   "execution_count": 19,
   "id": "ac8d5a62-fcee-40e7-a4fb-e775d40db74f",
   "metadata": {
    "tags": []
   },
   "outputs": [],
   "source": [
    "data_lemmatized = lemmatization(data_words_nostops, allowed_postags=['NOUN', 'ADJ', 'VERB', 'ADV','PROPN'])"
   ]
  },
  {
   "cell_type": "markdown",
   "id": "7fb019aa-25bd-45e8-91ef-2b8bab98a31f",
   "metadata": {},
   "source": [
    "#### Form Bigrams & Trigrams"
   ]
  },
  {
   "cell_type": "code",
   "execution_count": 20,
   "id": "0ff21310-1d3b-40e8-849c-ec0480356c02",
   "metadata": {
    "tags": []
   },
   "outputs": [],
   "source": [
    "data_words_bigrams = make_bigrams(data_lemmatized)"
   ]
  },
  {
   "cell_type": "code",
   "execution_count": 21,
   "id": "5417599c-44f7-4bf3-a48b-788d514ecc0f",
   "metadata": {
    "tags": []
   },
   "outputs": [],
   "source": [
    "data_words_trigrams = make_trigrams(data_lemmatized)"
   ]
  },
  {
   "cell_type": "markdown",
   "id": "4c8f7701-0e4a-4814-b86c-f6daf4bcedd9",
   "metadata": {},
   "source": [
    "### Bigram Modeling"
   ]
  },
  {
   "cell_type": "markdown",
   "id": "6e46ed09-ab43-45b3-9e6a-6b097bce1b54",
   "metadata": {},
   "source": [
    "#### Create the Dictionary & Corpus Needed for Topic Modeling"
   ]
  },
  {
   "cell_type": "code",
   "execution_count": 22,
   "id": "daad7476-8314-4826-8022-f4adec6336cf",
   "metadata": {},
   "outputs": [],
   "source": [
    "# Create Dictionary\n",
    "id2word = corpora.Dictionary(data_words_bigrams)\n",
    "\n",
    "# Create Corpus\n",
    "texts = data_words_bigrams\n",
    "\n",
    "# Term Document Frequency\n",
    "corpus = [id2word.doc2bow(text) for text in texts]"
   ]
  },
  {
   "cell_type": "code",
   "execution_count": 23,
   "id": "9bb858d4-eb00-40ed-aeb2-ebdabfe97125",
   "metadata": {},
   "outputs": [
    {
     "data": {
      "text/plain": [
       "14912"
      ]
     },
     "execution_count": 23,
     "metadata": {},
     "output_type": "execute_result"
    }
   ],
   "source": [
    "#check out the dictionary\n",
    "\n",
    "len(id2word)"
   ]
  },
  {
   "cell_type": "markdown",
   "id": "83ac5b7e-4935-4d34-b371-4f589cbc7666",
   "metadata": {},
   "source": [
    "### Build LDA Mallet Model"
   ]
  },
  {
   "cell_type": "code",
   "execution_count": 24,
   "id": "f65dd03b-e7e3-4790-8eb7-38d707b7c760",
   "metadata": {},
   "outputs": [],
   "source": [
    "#start with 10 topics & fit model to compare to previous\n",
    "mallet_path = '/Users/rachelinsler/dsi/downloads/mallet-2.0.8/bin/mallet' # update this path\n",
    "ldamallet = LdaMallet(mallet_path, corpus=corpus, num_topics=10, id2word=id2word)"
   ]
  },
  {
   "cell_type": "markdown",
   "id": "c18ffab2-9120-4af5-8ce2-baa1e5b13b68",
   "metadata": {},
   "source": [
    "#### Evaluate with Coherence Score & Visualization"
   ]
  },
  {
   "cell_type": "code",
   "execution_count": 25,
   "id": "ff6b38b2-288b-4634-8597-484aeea21721",
   "metadata": {},
   "outputs": [
    {
     "name": "stdout",
     "output_type": "stream",
     "text": [
      "\n",
      "Coherence Score:  0.45193401397060684\n"
     ]
    }
   ],
   "source": [
    "# Compute Coherence Score\n",
    "coherence_model_ldamallet = CoherenceModel(model=ldamallet, texts=data_words_bigrams, dictionary=id2word, coherence='c_v')\n",
    "coherence_ldamallet = coherence_model_ldamallet.get_coherence()\n",
    "#display coherence score\n",
    "print('\\nCoherence Score: ', coherence_ldamallet)"
   ]
  },
  {
   "cell_type": "code",
   "execution_count": 26,
   "id": "8d5d7648-09fa-47a1-9d07-680fcbffe4ff",
   "metadata": {},
   "outputs": [],
   "source": [
    "def ldaMalletConvertToldaGen(mallet_model):\n",
    "    model_gensim = LdaModel(id2word=mallet_model.id2word, num_topics=mallet_model.num_topics, alpha=mallet_model.alpha, eta=0, iterations=1000, gamma_threshold=0.001, dtype=np.float32)\n",
    "    model_gensim.state.sstats[...] = mallet_model.wordtopics\n",
    "    model_gensim.sync_state()\n",
    "    return model_gensim"
   ]
  },
  {
   "cell_type": "code",
   "execution_count": 27,
   "id": "d0d512c1-754a-43fe-8381-f4482570fce7",
   "metadata": {},
   "outputs": [
    {
     "data": {
      "text/html": [
       "\n",
       "<link rel=\"stylesheet\" type=\"text/css\" href=\"https://cdn.jsdelivr.net/gh/bmabey/pyLDAvis@3.3.1/pyLDAvis/js/ldavis.v1.0.0.css\">\n",
       "\n",
       "\n",
       "<div id=\"ldavis_el156581403463877531043980795632\"></div>\n",
       "<script type=\"text/javascript\">\n",
       "\n",
       "var ldavis_el156581403463877531043980795632_data = {\"mdsDat\": {\"x\": [-0.05312641713419099, -0.30260947503427044, 0.24825565941206443, 0.09154556326682743, 0.055993541048280804, -0.05615322466773404, -0.1634336994786273, 0.2318969105401168, -0.010895350338791066, -0.04147350761367638], \"y\": [0.2733437991380672, -0.06525000054528485, 0.07094502158286727, -0.10542960354719294, 0.21683124382676372, 0.07294743728114776, -0.09193038858569014, -0.16069071918239283, -0.2528398907955849, 0.04207310082729991], \"topics\": [1, 2, 3, 4, 5, 6, 7, 8, 9, 10], \"cluster\": [1, 1, 1, 1, 1, 1, 1, 1, 1, 1], \"Freq\": [10.438649162775764, 9.855878173744381, 10.173793014662715, 9.688042460126542, 9.400345494886606, 10.110134699010384, 9.822888332198433, 9.914218675869437, 9.804799886264895, 10.791250100460843]}, \"tinfo\": {\"Term\": [\"data\", \"machine\", \"learning\", \"learn\", \"study\", \"research\", \"method\", \"image\", \"disease\", \"application\", \"artificial_intelligence\", \"model\", \"review\", \"imaging\", \"deep\", \"analysis\", \"computational\", \"prediction\", \"clinical\", \"diagnosis\", \"ai\", \"medical\", \"health\", \"drug\", \"field\", \"cancer\", \"patient\", \"result\", \"system\", \"technology\", \"cisregulatory\", \"experimental\", \"protease\", \"assay\", \"biochemical\", \"enrichment\", \"extracellular\", \"implicate\", \"peptide\", \"bind\", \"dock\", \"docking\", \"fragment\", \"fragmentbase\", \"ligand\", \"molecular_docking\", \"virtual_screening\", \"hostpathogen\", \"single_nucleotide\", \"mitochondrial\", \"drugdrug\", \"insilico\", \"resistance\", \"noncoding\", \"costly\", \"pharmacokinetic\", \"benchmark\", \"minireview\", \"subcellular_localization\", \"pharmacophore\", \"computational\", \"drug\", \"protein\", \"cell\", \"interaction\", \"sequence\", \"drug_discovery\", \"property\", \"chemical\", \"compound\", \"site\", \"candidate\", \"cellular\", \"molecule\", \"toxicity\", \"silico\", \"dna\", \"mutation\", \"synthesis\", \"mirna\", \"regulation\", \"descriptor\", \"receptor\", \"rna\", \"chemistry\", \"target\", \"reaction\", \"design\", \"gene\", \"molecular\", \"identification\", \"prediction\", \"structure\", \"function\", \"method\", \"predict\", \"develop\", \"approach\", \"development\", \"tool\", \"discovery\", \"strategy\", \"role\", \"model\", \"important\", \"mechanism\", \"biological\", \"learning\", \"solve\", \"sparse\", \"robustness\", \"classical\", \"dimensionality_reduction\", \"categorization\", \"knowledgeable\", \"semisupervised\", \"supervise\", \"unlabeled\", \"unsupervised\", \"biologically\", \"textmine\", \"throughput\", \"subthreshold\", \"crowdsourcing\", \"firstly\", \"problem\", \"suited\", \"supervised\", \"pattern_recognition\", \"ann\", \"artificial\", \"neural_network\", \"tca\", \"dense\", \"building\", \"multitask\", \"discrete\", \"deep\", \"dl\", \"architecture\", \"computer_vision\", \"fall\", \"outperform\", \"superior\", \"black_box\", \"vector\", \"simulate\", \"gan\", \"attract\", \"speech_recognition\", \"formulation\", \"cnns\", \"svms\", \"pro\", \"popular\", \"machine\", \"convolutional_neural\", \"learn\", \"task\", \"input\", \"layer\", \"anns\", \"classification\", \"achieve\", \"efficient\", \"apply\", \"training\", \"train\", \"algorithm\", \"application\", \"model\", \"introduce\", \"dataset\", \"method\", \"overview\", \"network\", \"technique\", \"ability\", \"give\", \"provide\", \"recent\", \"discuss\", \"review\", \"performance\", \"base\", \"feature\", \"present\", \"biomarker\", \"clinic\", \"factor\", \"progression\", \"cys\", \"response\", \"genomewide_association\", \"rheumatoid_arthritis\", \"balanced\", \"onset\", \"psychosis\", \"schizophrenia\", \"dcomp\", \"diego\", \"mac\", \"marker\", \"oa\", \"oarsi\", \"osteoarthritis\", \"serum\", \"severity\", \"urine\", \"considerably\", \"distinguish\", \"atrisk\", \"bd\", \"bipolar\", \"circuitry\", \"depressed\", \"depression\", \"disorder\", \"therapy\", \"individual\", \"neuroimaging\", \"age\", \"heterogeneity\", \"pain\", \"prognostic\", \"personalize\", \"symptom\", \"ad\", \"psychiatric\", \"signature\", \"alzheimer\", \"treat\", \"psychiatry\", \"multivariate\", \"healthy\", \"epigenetic\", \"subtype\", \"cohort\", \"heart_failure\", \"parkinson\", \"pd\", \"disease\", \"phenotype\", \"treatment\", \"finding\", \"associate\", \"difference\", \"genetic\", \"brain\", \"identify\", \"trial\", \"clinical\", \"patient\", \"suggest\", \"study\", \"functional\", \"outcome\", \"approach\", \"therapeutic\", \"mechanism\", \"understand\", \"early\", \"include\", \"high\", \"risk\", \"computerbase\", \"cytological\", \"diagnosis\", \"feature_extraction\", \"ftir\", \"histological\", \"imaging\", \"infrared\", \"instrumentation\", \"magnetic_resonance\", \"raman_spectroscopy\", \"standardization\", \"normal\", \"nuclear\", \"acquisition\", \"computeraided\", \"quantification\", \"reaffirm\", \"chir\", \"clue\", \"pathology\", \"cartilage\", \"ecm\", \"fluid\", \"surrogate\", \"concise\", \"labelfree\", \"spectral\", \"postprocessing\", \"malignancy\", \"image\", \"cancer\", \"radiomic\", \"segmentation\", \"mri\", \"modality\", \"cad\", \"oncology\", \"compute\", \"lung\", \"breast_cancer\", \"lesion\", \"tumor\", \"stroke\", \"tomography\", \"reconstruction\", \"ct\", \"prostate\", \"tumour\", \"seizure\", \"ultrasound\", \"heart\", \"skin\", \"tissue\", \"conventional\", \"cardiac\", \"noninvasive\", \"quantitative\", \"detection\", \"epilepsy\", \"diagnostic\", \"prognosis\", \"analysis\", \"technique\", \"feature\", \"stage\", \"accurate\", \"assessment\", \"improve\", \"review\", \"disease\", \"provide\", \"classification\", \"patient\", \"clinical\", \"high\", \"tool\", \"potential\", \"choice\", \"form\", \"element\", \"deficit\", \"phenomenon\", \"highcost\", \"nature\", \"simplicity\", \"fibulin\", \"ninetyeight\", \"accommodate\", \"align\", \"behavior\", \"conceptually\", \"hierarchical\", \"neural\", \"neuroscience\", \"subroutine\", \"temporally\", \"theoretical\", \"equivalence\", \"expose\", \"intact\", \"posteriori\", \"attentional\", \"dimensional\", \"emotion\", \"reason\", \"reward\", \"argue\", \"signal\", \"cognitive\", \"physiological\", \"theory\", \"mathematical\", \"movement\", \"map\", \"natural\", \"neuron\", \"spatial\", \"behavioral\", \"speech\", \"simple\", \"adaptive\", \"strong\", \"language\", \"motor\", \"interface\", \"mapping\", \"local\", \"memory\", \"temporal\", \"stress\", \"eeg\", \"energy\", \"dynamic\", \"framework\", \"human\", \"propose\", \"activity\", \"time\", \"measurement\", \"body\", \"single\", \"understand\", \"combine\", \"level\", \"process\", \"parameter\", \"show\", \"measure\", \"brain\", \"pattern\", \"base\", \"information\", \"approach\", \"modeling\", \"describe\", \"develop\", \"state\", \"provide\", \"strategy\", \"effect\", \"multiple\", \"function\", \"clustering\", \"data\", \"microbial\", \"nondestructive\", \"production\", \"weigh\", \"enrich\", \"consortium\", \"va\", \"proteomic\", \"sciverse\", \"cocomplex\", \"funcoup\", \"analytical\", \"enormous\", \"genephenotype\", \"inheritance\", \"orthogonal\", \"coexpression\", \"exploitation\", \"genomic\", \"boulesteix\", \"necessity\", \"genomics\", \"amount\", \"appropriately\", \"experimentalist\", \"staggering\", \"environmental\", \"connectomic\", \"big\", \"plant\", \"omic\", \"multiomics\", \"project\", \"metabolic\", \"trait\", \"mining\", \"massive\", \"integrative\", \"profiling\", \"accessible\", \"food\", \"nextgeneration\", \"handle\", \"transcriptomic\", \"causal\", \"efficiently\", \"microbiome\", \"source\", \"metabolomic\", \"phenotyping\", \"largescale\", \"modelling\", \"analytic\", \"datadriven\", \"integrate\", \"complex\", \"large\", \"integration\", \"collection\", \"biology\", \"analysis\", \"biological\", \"set\", \"network\", \"generate\", \"drive\", \"knowledge\", \"science\", \"approach\", \"information\", \"challenge\", \"opportunity\", \"tool\", \"enable\", \"dataset\", \"system\", \"provide\", \"include\", \"advance\", \"discuss\", \"biospectroscopy\", \"illustration\", \"necessitate\", \"simulation\", \"coreference\", \"document\", \"entity\", \"informatic\", \"noun\", \"rulebased\", \"struggle\", \"submission\", \"veteran\", \"paper\", \"attack\", \"deamidate\", \"motivation\", \"hypo\", \"press\", \"ahead\", \"bridge\", \"hybrid\", \"preppi\", \"mitarbeiter\", \"reasonable\", \"scientific\", \"survey\", \"tidy\", \"website\", \"qdgr\", \"research\", \"direction\", \"material\", \"trend\", \"topic\", \"discussion\", \"growth\", \"computing\", \"product\", \"translational\", \"sensing\", \"emphasis\", \"past\", \"section\", \"rehabilitation\", \"conceptual\", \"mlbased\", \"industrial\", \"commercial\", \"art\", \"achievement\", \"biomedical\", \"place\", \"field\", \"researcher\", \"work\", \"decade\", \"comprehensive\", \"recent\", \"challenge\", \"address\", \"present\", \"finally\", \"year\", \"future\", \"focus\", \"development\", \"review\", \"progress\", \"system\", \"highlight\", \"summarize\", \"advance\", \"discuss\", \"provide\", \"aim\", \"technique\", \"key\", \"approach\", \"current\", \"record\", \"country\", \"pandemic\", \"privacy\", \"threat\", \"respiratory\", \"professional\", \"ehr\", \"computerized\", \"antibiotic\", \"spread\", \"hypertension\", \"dialysis\", \"ethic\", \"covid_pandemic\", \"claim\", \"preference\", \"american\", \"care\", \"electronic_health\", \"health\", \"institute\", \"integral_part\", \"mandate\", \"provider\", \"reinvestment\", \"conjunction\", \"ethical\", \"perceivable\", \"qhts\", \"digital\", \"device\", \"monitor\", \"monitoring\", \"social\", \"wearable\", \"safety\", \"event\", \"covid\", \"prevention\", \"pediatric\", \"electronic\", \"access\", \"mobile\", \"service\", \"innovative\", \"suicide\", \"people\", \"medium\", \"track\", \"vital\", \"medication\", \"testing\", \"public\", \"adverse\", \"management\", \"healthcare\", \"technology\", \"setting\", \"intervention\", \"support\", \"patient\", \"risk\", \"system\", \"life\", \"assessment\", \"improve\", \"solution\", \"reduce\", \"include\", \"develop\", \"clinical\", \"require\", \"impact\", \"sensor\", \"current\", \"review\", \"issue\", \"laboratory\", \"practice\", \"digitize\", \"medicine\", \"extrapolability\", \"paradigm_shift\", \"familiar\", \"depress\", \"automation\", \"companion\", \"lesson\", \"computer\", \"contagious\", \"mathematic\", \"terminology\", \"qualityoflife\", \"skill\", \"filtering\", \"appraise\", \"dramatically\", \"usability\", \"decisionmaking\", \"breakthrough\", \"foreseeable\", \"education\", \"pitfall\", \"teach\", \"microbiology\", \"revolutionize\", \"strainlevel\", \"artificial_intelligence\", \"ai\", \"medical\", \"radiology\", \"surgical\", \"efficiency\", \"surgery\", \"robotic\", \"planning\", \"physician\", \"radiotherapy\", \"intelligence\", \"workflow\", \"capability\", \"cardiology\", \"wide\", \"surgeon\", \"radiation_oncology\", \"robot\", \"revolution\", \"radiation\", \"liver\", \"ml\", \"introduction\", \"expert\", \"technical\", \"cardiovascular\", \"potential\", \"application\", \"benefit\", \"limitation\", \"clinical\", \"decision\", \"concept\", \"current\", \"future\", \"increase\", \"make\", \"technology\", \"improve\", \"implementation\", \"impact\", \"field\", \"learn\", \"article\", \"algorithm\", \"machine\", \"development\", \"treatment\", \"role\", \"include\", \"advance\", \"affair\", \"background\", \"corpus\", \"evaluate\", \"probability\", \"support_vector\", \"diseaserelevant\", \"fib\", \"follistatinlike\", \"keywords\", \"apm\", \"comppass\", \"decontaminator\", \"mint\", \"string\", \"objective\", \"cartographic\", \"fulfill\", \"journal\", \"original\", \"qdgrs\", \"schizophrenic\", \"variable_selection\", \"expressionbased\", \"receptorbase\", \"anticipated\", \"purely\", \"average\", \"nonenzyme\", \"index\", \"search\", \"conclusion\", \"systematic\", \"perform\", \"database\", \"publish\", \"follow\", \"conduct\", \"select\", \"regression\", \"pubmed\", \"total\", \"metric\", \"classifier\", \"web\", \"report\", \"sensitivity_specificity\", \"random_forest\", \"find\", \"frequently\", \"abstract\", \"inclusion\", \"systematically\", \"ci\", \"boost\", \"metaanalysis\", \"publication\", \"result\", \"validation\", \"scope\", \"study\", \"literature\", \"criterion\", \"article\", \"accuracy\", \"performance\", \"model\", \"method\", \"compare\", \"prediction\", \"good\", \"review\", \"statistical\", \"identify\", \"predict\", \"include\", \"base\", \"high\"], \"Freq\": [4426.0, 4356.0, 3059.0, 2434.0, 2468.0, 1781.0, 3042.0, 1364.0, 1740.0, 2114.0, 1306.0, 2305.0, 3226.0, 1184.0, 1191.0, 1903.0, 1091.0, 1516.0, 2183.0, 976.0, 928.0, 918.0, 896.0, 908.0, 1164.0, 858.0, 1714.0, 1036.0, 1502.0, 1239.0, 9.20828459063276, 293.64195671624145, 18.41656918126552, 90.03655342836436, 57.29598818668411, 14.323997046671028, 18.41656918126552, 18.41656918126552, 131.98540326067734, 131.98540326067734, 29.671138359811064, 9.20828459063276, 18.41656918126552, 7.161998523335514, 47.06456524712019, 18.41656918126552, 54.226561304814936, 18.41656918126552, 14.323997046671028, 23.532282623560096, 9.20828459063276, 11.254569178545545, 99.24484196402234, 14.323997046671028, 39.902565244400215, 18.41656918126552, 50.13399212898937, 7.161998523335514, 11.254569178545545, 9.20828459063276, 1091.693261604246, 908.5506726352947, 685.5055736522966, 468.5993442131378, 457.3447868696679, 374.47022160894784, 297.73452589206704, 269.0865101010862, 260.901387529536, 170.86483410117165, 158.587110793594, 155.5176918017753, 135.05483014254654, 135.05483014254654, 130.96226096672098, 117.66141114528787, 113.56883407941184, 103.33741113984792, 100.26798425797874, 93.10598031023353, 86.96712654649518, 81.85141507671322, 72.64312654105522, 71.61998424709884, 70.59684195314244, 540.2193205701861, 90.03655342836436, 472.6919133889633, 282.3873678125698, 436.8819094303382, 324.33624131503416, 851.2547041737367, 320.24367213920857, 337.6370990265177, 1018.0269533189819, 366.2850832572967, 328.42881049085975, 516.6870556992396, 354.00737572982, 323.3130911310273, 188.25826098848077, 195.42024915612507, 206.67482227969583, 260.901387529536, 198.48968392804468, 182.1193914446415, 182.1193914446415, 3059.5854092455256, 105.90065805697641, 22.0189494424964, 25.164512584344006, 85.9787531922328, 24.1159921578584, 18.873384438258004, 3.145564073043001, 19.9219067271344, 119.53143663802481, 4.194085430724001, 93.31840548958598, 27.261555299706007, 3.145564073043001, 6.291128146086002, 1.0485213576810002, 5.242606788405001, 13.630777649853004, 434.0878625662328, 17.824864011772398, 39.8438134542688, 58.717196030136016, 45.08642117386919, 208.65575297210523, 342.86650165439954, 3.145564073043001, 12.582256292172003, 38.795291165392406, 14.679299007534004, 17.824864011772398, 1191.1203070229951, 153.08412753337998, 146.79300124968475, 92.26987947592802, 49.28050660459319, 46.13493973796401, 35.649728023544796, 35.649728023544796, 31.455642592820794, 31.455642592820794, 31.455642592820794, 30.4071203039444, 30.4071203039444, 28.310077588582402, 28.310077588582402, 26.2130348732204, 26.2130348732204, 77.59058233078481, 3860.655648293397, 100.65805033737603, 2004.7727986382567, 333.42981222885675, 97.51248719552842, 62.91128518564159, 44.0378988849928, 436.1848847952961, 189.7823741210196, 116.38587349617721, 468.68905712655646, 170.90898037080765, 116.38587349617721, 708.8004862145167, 993.9982508063698, 988.7556654354588, 183.49124783732438, 265.27590442448843, 887.0491039835512, 224.38358358046958, 287.2948464174217, 452.96124141731843, 164.61785408711242, 182.4427218236664, 400.5351791204408, 318.7505076341504, 298.82858787028044, 454.0097525318501, 206.5587158439156, 238.01436216151797, 191.87941124920923, 185.58828496551402, 569.205393917449, 43.45888445191634, 347.6710756153307, 115.53704027644804, 1.0599728090936738, 461.08816018065147, 20.139483132471707, 12.719673709124084, 9.539755522151157, 42.3989142862117, 44.51885846255048, 85.85779873812804, 1.0599728090936738, 1.0599728090936738, 1.0599728090936738, 135.67651956399024, 16.95956494549878, 2.1199456181873475, 23.319401319444633, 16.95956494549878, 52.99863901283512, 7.41980990396381, 11.659700659722317, 68.89822994769976, 9.539755522151157, 55.11858703410341, 5.299864285776462, 5.299864285776462, 4.239891236374695, 92.21763511207389, 447.3085172670551, 349.79101594674, 407.0295586919707, 199.27488330344877, 185.49524038985243, 155.81599885153244, 152.63608835441852, 147.3362221461773, 142.0363559379361, 137.79645989539952, 136.73648972969488, 115.53704027644804, 114.4770624208844, 112.35712208947511, 107.0572558812339, 100.69741950728805, 87.97774675939633, 82.67788055115511, 82.67788055115511, 77.3780143429139, 77.3780143429139, 76.31804417720926, 75.25806632164561, 96.45752346475146, 1443.682933784299, 221.5343183021183, 787.5598017224534, 285.1326820415768, 270.2930689622758, 120.83689879483025, 287.2526223729861, 381.5902131961873, 551.1858395815981, 182.3153298927385, 784.3798912253394, 641.2835497419807, 177.0154636844973, 574.5052447459722, 192.91504692950292, 252.27353000614292, 381.5902131961873, 173.83553780766536, 180.19537418161121, 204.57474951169, 182.3153298927385, 204.57474951169, 180.19537418161121, 178.07543385020193, 7.4682126577122006, 3.200662404137716, 976.2020481362471, 74.68212566178394, 6.401324808275432, 12.802649616550864, 1184.2451229407945, 12.802649616550864, 11.735762682452167, 136.56160079167893, 17.070200098959866, 54.4112610991757, 45.87616196503383, 67.21391163106463, 121.62517273024032, 94.95299022439218, 84.28410989934835, 1.0668875061849916, 1.0668875061849916, 16.00331316486117, 197.3741871567991, 5.3344374165077, 9.601987898916702, 32.00662632972234, 16.00331316486117, 10.6688748330154, 9.601987898916702, 45.87616196503383, 10.6688748330154, 35.20728896269458, 1364.5490898611963, 857.7775709911496, 328.601358770013, 251.78545557867938, 248.58478928435485, 212.31061521823773, 153.63180638266724, 150.43114008834272, 147.2304737940182, 140.8291558507783, 130.16026820302991, 128.02650531888935, 297.6616138823609, 102.42119693240691, 91.75232393006766, 89.61855372322255, 89.61855372322255, 83.21722845727808, 82.15033969250325, 81.0834509277284, 80.01656216295356, 77.88278463340389, 75.74901442655877, 218.71193316147762, 160.03312432590712, 166.43445691455616, 109.88941096312622, 273.12320158335785, 511.0391325107826, 91.75232393006766, 515.306687569882, 165.36756814978133, 801.2325250397197, 615.5941142954438, 339.2702171269431, 135.4947120269041, 172.83577485779608, 232.58147245814138, 278.45764540723206, 374.4775170736945, 296.59472511758605, 276.3238678776824, 213.37750398301256, 226.1801545149015, 213.37750398301256, 178.17021868167026, 181.37087033058566, 166.43445691455616, 69.72532073748623, 184.11842806995145, 84.97773220638203, 21.78916228638639, 55.562364185547736, 1.0894581365232223, 110.03527345413816, 8.715665092185779, 1.0894581365232223, 1.0894581365232223, 9.805123561767543, 11.984039612774959, 191.74463380439934, 3.268374298550153, 40.309949164027486, 159.0608868221953, 108.94581143193194, 1.0894581365232223, 5.447290571596597, 71.90423767664976, 4.357832546092889, 19.610247123535085, 4.357832546092889, 1.0894581365232223, 6.536748597100306, 29.415369797146514, 61.009652980832115, 57.741281124711264, 14.162955663782375, 56.6518226551295, 303.958824197701, 147.07684720942035, 147.07684720942035, 143.8084753532995, 122.01930596166423, 111.12472837109547, 95.87231690219967, 95.87231690219967, 88.24611116775176, 88.24611116775176, 87.15664914554556, 87.15664914554556, 86.06719422858824, 81.70936035026118, 79.53044341109765, 77.35152647193412, 71.90423767664976, 70.81477565444355, 66.45694888136538, 59.92019806387479, 58.83073959429303, 96.961771819157, 95.87231690219967, 139.45064147497246, 82.7988152672185, 189.56570975998693, 210.265417129416, 439.0516317943464, 257.1121277688074, 257.1121277688074, 296.33261846325314, 163.41872070052236, 114.39310022721632, 135.0928075966454, 273.45400125990943, 185.20787588165987, 196.1024676827264, 285.4380266621866, 135.0928075966454, 224.42838078660336, 174.31329829109112, 238.59133023329298, 172.13438845717647, 272.3645392377032, 258.2015897910136, 373.6841378299384, 175.40276031329734, 191.74463380439934, 221.15999471998475, 156.88197698828068, 205.90758325108894, 163.41872070052236, 156.88197698828068, 150.34521906554122, 150.34521906554122, 63.819553384454245, 4426.566009935534, 71.14310555900519, 13.600888614106877, 79.51288493116547, 3.1386665481467104, 14.647110080409051, 16.739554923449123, 2.0924443654311404, 97.29865941048105, 1.0462221827155702, 1.0462221827155702, 1.0462221827155702, 105.66843878264133, 65.9119963170586, 3.1386665481467104, 4.184888730862281, 4.184888730862281, 15.693332501929087, 11.508443771066807, 331.65243598051165, 1.0462221827155702, 17.785776389751298, 69.05066644727228, 205.05955258834106, 7.323555040204526, 1.0462221827155702, 2.0924443654311404, 156.93332310885515, 14.647110080409051, 575.4222000159547, 220.75288031418083, 202.96710583486527, 109.85332464785003, 106.71466215937923, 92.06755016853445, 86.83644092658785, 152.74842960190355, 69.05066644727228, 65.9119963170586, 64.8657729403207, 63.819553384454245, 63.819553384454245, 62.773330007716346, 62.773330007716346, 62.773330007716346, 61.727106630978454, 57.542220765769756, 51.264888147085266, 269.925310245176, 84.74399417311207, 76.37421480095178, 122.40799752696189, 120.31555077348611, 182.0426535835931, 152.74842960190355, 266.78666304019094, 441.50576062836166, 439.4132985914001, 215.52177107223423, 126.59288339217059, 202.96710583486527, 938.4612914481459, 340.02219242744326, 289.80353147796734, 374.5475256510794, 205.05955258834106, 123.45421326195691, 243.76976403544302, 274.1102037521276, 555.5439482161918, 324.3288647016035, 393.3795311488758, 214.47554005375346, 307.5893212407687, 192.50488735097207, 197.73599659291867, 293.98842498491894, 244.81599505392379, 222.84532706765663, 208.19821507681186, 202.96710583486527, 3.192471386937426, 6.384942773874852, 12.769885547749704, 153.23863028531034, 10.641571444471165, 50.015385139359545, 48.951228087720274, 159.62357259514596, 1.0641571676490784, 29.79640115821343, 7.449100289553358, 5.320785722235582, 1.0641571676490784, 750.230780802707, 32.98887231313124, 1.0641571676490784, 22.3472999405816, 1.0641571676490784, 12.769885547749704, 18.09067173402452, 39.373814622966854, 67.04190167790175, 2.128314335298157, 1.0641571676490784, 14.898200579106716, 166.00851490498155, 266.0392926083284, 1.0641571676490784, 12.769885547749704, 1.0641571676490784, 1754.795215741244, 293.7073759509494, 241.56368042062525, 205.38232581563452, 186.22749888612768, 133.0196463041642, 114.92897642629664, 80.87594334921224, 77.68347219429444, 76.61931514265517, 72.36268693609809, 65.97774462626248, 65.97774462626248, 63.84943052298394, 52.14369924263808, 51.079542190998815, 51.079542190998815, 48.951228087720274, 47.887071036081004, 111.73650527137883, 41.50212872624539, 164.9443578533423, 58.52864526478759, 842.8124442953234, 259.65435029849283, 373.5191548238946, 139.40458861399983, 234.11458105915037, 717.2419122018897, 741.7175243895929, 277.7450201763604, 471.4216332732185, 224.53716759439695, 353.3001708427485, 619.339463451077, 419.2779080443832, 690.637985910908, 1257.8337538316607, 237.30705221406816, 681.0605724461545, 276.6808631247211, 229.8579528525933, 410.76465163126903, 439.4969217240405, 500.1538736674788, 262.84682145341066, 386.28903944356585, 228.79379580095403, 282.0016483829175, 236.2428951624289, 276.26629817054084, 70.67277307924768, 41.76118443290362, 87.80556496344049, 41.76118443290362, 41.76118443290362, 87.80556496344049, 41.76118443290362, 35.33638653962384, 41.76118443290362, 37.477984588440464, 48.1859823261834, 43.902782481720244, 35.33638653962384, 35.33638653962384, 23.557591650887545, 11.778795825443773, 22.486792626479232, 713.1525399262463, 103.86756531688481, 896.2592780113051, 22.486792626479232, 7.4955973860418315, 7.4955973860418315, 42.831983457311935, 1.0707996098504853, 21.415991728655968, 101.72595977440837, 1.0707996098504853, 1.0707996098504853, 309.46108291451816, 290.18670047516855, 244.14231245097184, 189.53153223150866, 185.24833613387543, 169.1863357804311, 162.76154163398124, 147.77034030494525, 130.63755591441225, 124.21275427430255, 123.14195524989424, 110.29235946333468, 110.29235946333468, 93.15956757914186, 93.15956757914186, 86.73476593903219, 86.73476593903219, 85.66396691462387, 85.66396691462387, 82.45156984139894, 79.23917276817399, 66.38957698161443, 108.15076141451806, 133.84995298763718, 92.08876855473355, 387.62945665828386, 328.7354653538678, 733.4977064026847, 145.62874225612862, 206.66433160936128, 235.57592025570534, 762.409325023668, 360.8594660607564, 525.7626057435542, 131.70835493882055, 251.63790562183004, 318.0274751097847, 171.32793382924774, 161.69074260957294, 267.69990597527436, 223.7971159998943, 285.9035043775353, 182.0359390606505, 159.5491445607563, 153.1243504143064, 165.97393870720617, 170.25713480483944, 154.19514943871474, 117.4802770906191, 546.493058535173, 12.587172810100462, 565.3738020020429, 1.0489310289096445, 35.66365660407446, 25.174345620200924, 1.0489310289096445, 78.6698286735737, 8.391448231277156, 33.565792925108624, 270.62420707983483, 1.0489310289096445, 15.733964623071396, 31.46792924614279, 1.0489310289096445, 66.08265401073433, 1.0489310289096445, 18.880758288781237, 33.565792925108624, 16.782896462554312, 114.33348157217034, 48.25082756143601, 5.244655028752041, 39.85938025652831, 74.47410131564203, 12.587172810100462, 27.27220744642785, 56.64227486634372, 1.0489310289096445, 1305.9191174443542, 928.3039516687295, 916.7657459001512, 209.78620485555945, 173.0736201174799, 145.8014071128353, 140.556762737332, 114.33348157217034, 106.99096610674556, 105.94203426726264, 105.94203426726264, 93.35485960442327, 165.73109724109946, 146.85033895231822, 66.08265401073433, 63.9847903317685, 60.83799851879757, 58.74013854530955, 58.74013854530955, 57.69120670582663, 52.44655121388986, 61.88693035828049, 577.9609840758379, 160.48645286559616, 105.94203426726264, 132.16530802146866, 197.19903760367572, 633.5543567465213, 1006.9737358765693, 195.10117392470988, 265.37956270433153, 897.8849431456362, 191.95437840626113, 202.44368197917905, 433.20850880248554, 490.8997155083122, 349.29402093149724, 264.3306160429373, 418.52349269354727, 346.1472402349598, 191.95437840626113, 207.6883411765936, 322.02182274876395, 419.5724097111189, 254.89024430950235, 288.45603352913315, 352.4408312718573, 269.5752604184406, 240.20519855674152, 211.88406853452528, 228.66696314434068, 197.19903760367572, 1.0503770515896984, 247.88898519473932, 9.453393209414667, 280.4506567162145, 42.01508002444699, 111.3399669587228, 1.0503770515896984, 2.100754103179397, 1.0503770515896984, 9.453393209414667, 1.0503770515896984, 1.0503770515896984, 1.0503770515896984, 1.0503770515896984, 5.2518850030558735, 336.1206401955759, 1.0503770515896984, 5.2518850030558735, 78.77827912412, 38.863950653926224, 1.0503770515896984, 1.0503770515896984, 16.806032825435175, 1.0503770515896984, 1.0503770515896984, 1.0503770515896984, 4.201508206358794, 39.91432847019378, 1.0503770515896984, 51.46847629257308, 402.29441815074046, 363.43044710540477, 350.8259133101941, 387.5891124098671, 376.0349809006154, 278.34991739680703, 252.09048014668195, 225.83105920968447, 214.27691138730518, 134.4482626034814, 130.2467513384112, 105.03770006111748, 98.73544132007595, 167.00995043808422, 86.13091568142909, 358.17856618063075, 71.42563441024713, 69.32488693427581, 286.7529399269474, 64.07299785293804, 64.07299785293804, 63.02262003667049, 57.77073503361461, 57.77073503361461, 56.720361295628955, 124.99487041363722, 139.70014352825538, 937.9866966190034, 204.82351919746097, 94.53393005500573, 1891.7290033860736, 517.8358637482783, 140.75052950108673, 499.97948165454886, 371.83346963554516, 382.3372314850931, 1052.4777725568374, 1137.5583675179455, 220.57917828491048, 664.8886927732256, 205.87390517029232, 969.4979821676473, 262.5942583093575, 431.7049643799768, 310.9116052314098, 365.53121905106747, 310.9116052314098, 234.23408173982492], \"Total\": [4426.0, 4356.0, 3059.0, 2434.0, 2468.0, 1781.0, 3042.0, 1364.0, 1740.0, 2114.0, 1306.0, 2305.0, 3226.0, 1184.0, 1191.0, 1903.0, 1091.0, 1516.0, 2183.0, 976.0, 928.0, 918.0, 896.0, 908.0, 1164.0, 858.0, 1714.0, 1036.0, 1502.0, 1239.0, 9.20828459063276, 293.64195671624145, 18.41656918126552, 90.03655342836436, 57.29598818668411, 14.323997046671028, 18.41656918126552, 18.41656918126552, 131.98540326067734, 131.98540326067734, 29.671138359811064, 9.20828459063276, 18.41656918126552, 7.161998523335514, 47.06456524712019, 18.41656918126552, 54.226561304814936, 18.41656918126552, 14.323997046671028, 23.532282623560096, 9.20828459063276, 11.254569178545545, 99.24484196402234, 14.323997046671028, 39.902565244400215, 18.41656918126552, 50.13399212898937, 7.161998523335514, 11.254569178545545, 9.20828459063276, 1091.693261604246, 908.5506726352947, 686.5763732621471, 468.5993442131378, 457.3447868696679, 374.47022160894784, 297.73452589206704, 269.0865101010862, 260.901387529536, 170.86483410117165, 158.587110793594, 155.5176918017753, 135.05483014254654, 135.05483014254654, 130.96226096672098, 117.66141114528787, 113.56883407941184, 103.33741113984792, 100.26798425797874, 93.10598031023353, 86.96712654649518, 81.85141507671322, 72.64312654105522, 71.61998424709884, 70.59684195314244, 595.3379076042895, 91.08693047995405, 602.5190885382098, 336.7909222689973, 559.8387562464368, 410.1982270551066, 1516.1433969469622, 450.9786458575269, 487.9823180920589, 3042.6344248204787, 841.4672672545814, 903.63267254915, 2229.0384399624995, 1396.6476150588749, 1151.0692821363245, 312.7586976271756, 437.3083390632467, 573.30272470516, 2305.4031998203823, 571.8401331791126, 381.9250127497878, 524.2615294902721, 3059.5854092455256, 105.90065805697641, 22.0189494424964, 25.164512584344006, 85.9787531922328, 24.1159921578584, 18.873384438258004, 3.145564073043001, 19.9219067271344, 119.53143663802481, 4.194085430724001, 93.31840548958598, 27.261555299706007, 3.145564073043001, 6.291128146086002, 1.0485213576810002, 5.242606788405001, 13.630777649853004, 434.0878625662328, 17.824864011772398, 39.8438134542688, 58.717196030136016, 45.08642117386919, 208.65575297210523, 342.86650165439954, 3.145564073043001, 12.582256292172003, 38.795291165392406, 14.679299007534004, 17.824864011772398, 1191.1203070229951, 153.08412753337998, 146.79300124968475, 92.26987947592802, 49.28050660459319, 46.13493973796401, 35.649728023544796, 35.649728023544796, 31.455642592820794, 31.455642592820794, 31.455642592820794, 30.4071203039444, 30.4071203039444, 28.310077588582402, 28.310077588582402, 26.2130348732204, 26.2130348732204, 78.68004046730803, 4356.952430307268, 103.85871274151374, 2434.150331911143, 381.68063979029273, 108.40706833872161, 67.17883521038155, 46.1386529881722, 649.5623887783087, 250.62037263981716, 141.96444070765008, 744.3980867958807, 228.6088620547528, 144.70701092934908, 1313.9876499603763, 2114.8368060575963, 2305.4031998203823, 282.4910737383718, 463.0119010174071, 3042.6344248204787, 420.18012744625946, 661.8423720685012, 1525.2155042733195, 275.21572801776216, 344.60144662998164, 1627.7364989706148, 1235.2014599065988, 1086.9141224130774, 3226.076140409692, 589.9559201381023, 951.7472749505732, 678.5801392152493, 772.5469585151806, 569.205393917449, 43.45888445191634, 347.6710756153307, 115.53704027644804, 1.0599728090936738, 461.08816018065147, 20.139483132471707, 12.719673709124084, 9.539755522151157, 42.3989142862117, 44.51885846255048, 85.85779873812804, 1.0599728090936738, 1.0599728090936738, 1.0599728090936738, 135.67651956399024, 16.95956494549878, 2.1199456181873475, 23.319401319444633, 16.95956494549878, 52.99863901283512, 7.41980990396381, 11.659700659722317, 68.89822994769976, 9.539755522151157, 55.11858703410341, 5.299864285776462, 5.299864285776462, 4.239891236374695, 92.21763511207389, 447.3085172670551, 349.79101594674, 408.09371585961975, 199.27488330344877, 185.49524038985243, 155.81599885153244, 152.63608835441852, 147.3362221461773, 142.0363559379361, 137.79645989539952, 136.73648972969488, 115.53704027644804, 114.4770624208844, 112.35712208947511, 107.0572558812339, 100.69741950728805, 87.97774675939633, 82.67788055115511, 82.67788055115511, 77.3780143429139, 77.3780143429139, 76.31804417720926, 75.25806632164561, 97.54698160127468, 1740.277658901885, 248.73609553033205, 1027.765000279195, 336.5310614409851, 333.6754879744591, 131.32211237164026, 389.7823986671566, 620.1815434294803, 1056.557080686637, 239.01694213437497, 2183.646596834703, 1714.8364415800656, 232.903271564453, 2468.3312908474077, 352.9137675903554, 690.2016354159098, 2229.0384399624995, 292.5200912469096, 381.9250127497878, 624.9998075256937, 433.3898999521808, 1426.4460568401348, 592.5996746031063, 699.6425834514373, 7.4682126577122006, 3.200662404137716, 976.2020481362471, 74.68212566178394, 6.401324808275432, 12.802649616550864, 1184.2451229407945, 12.802649616550864, 11.735762682452167, 136.56160079167893, 17.070200098959866, 54.4112610991757, 45.87616196503383, 67.21391163106463, 121.62517273024032, 94.95299022439218, 84.28410989934835, 1.0668875061849916, 1.0668875061849916, 16.00331316486117, 197.3741871567991, 5.3344374165077, 9.601987898916702, 32.00662632972234, 16.00331316486117, 10.6688748330154, 9.601987898916702, 45.87616196503383, 10.6688748330154, 35.20728896269458, 1364.5490898611963, 858.8007136549521, 328.601358770013, 251.78545557867938, 248.58478928435485, 212.31061521823773, 153.63180638266724, 150.43114008834272, 147.2304737940182, 140.8291558507783, 130.16026820302991, 128.02650531888935, 300.8540852692983, 102.42119693240691, 91.75232393006766, 89.61855372322255, 89.61855372322255, 83.21722845727808, 82.15033969250325, 81.0834509277284, 80.01656216295356, 77.88278463340389, 75.74901442655877, 224.85078939085673, 164.32464128825978, 172.7280433196064, 112.00394518236499, 300.35965444134087, 610.6234942363744, 92.80270098165735, 687.0222850461381, 196.10677985380596, 1903.5526253205835, 1525.2155042733195, 678.5801392152493, 177.5467167990301, 294.13718621523105, 548.2923759329094, 942.6323607519765, 3226.076140409692, 1740.277658901885, 1627.7364989706148, 649.5623887783087, 1714.8364415800656, 2183.646596834703, 592.5996746031063, 1151.0692821363245, 1152.65308434675, 69.72532073748623, 184.11842806995145, 84.97773220638203, 21.78916228638639, 55.562364185547736, 1.0894581365232223, 110.03527345413816, 8.715665092185779, 1.0894581365232223, 1.0894581365232223, 9.805123561767543, 11.984039612774959, 191.74463380439934, 3.268374298550153, 40.309949164027486, 159.0608868221953, 108.94581143193194, 1.0894581365232223, 5.447290571596597, 71.90423767664976, 4.357832546092889, 19.610247123535085, 4.357832546092889, 1.0894581365232223, 6.536748597100306, 29.415369797146514, 61.009652980832115, 57.741281124711264, 14.162955663782375, 56.6518226551295, 303.958824197701, 147.07684720942035, 147.07684720942035, 143.8084753532995, 122.01930596166423, 111.12472837109547, 95.87231690219967, 95.87231690219967, 88.24611116775176, 88.24611116775176, 87.15664914554556, 87.15664914554556, 86.06719422858824, 81.70936035026118, 79.53044341109765, 77.35152647193412, 71.90423767664976, 70.81477565444355, 66.45694888136538, 59.92019806387479, 58.83073959429303, 98.01029317683799, 96.92269395378936, 144.75050576074892, 83.86297243486757, 224.35255958957995, 256.2991922136832, 633.1038738795734, 332.6056655218394, 350.2181080790409, 438.7050723351637, 211.42865653375358, 132.41263726088448, 183.85155825680295, 624.9998075256937, 325.95055564335786, 371.0242579416635, 763.9978775036354, 192.62217983067956, 533.0680828129043, 323.53400735584546, 620.1815434294803, 323.3117307895627, 951.7472749505732, 844.13969862787, 2229.0384399624995, 359.83775013187255, 507.51931315127314, 903.63267254915, 328.2112771514586, 1627.7364989706148, 437.3083390632467, 349.0581559788473, 409.9645324854571, 487.9823180920589, 63.819553384454245, 4426.566009935534, 71.14310555900519, 13.600888614106877, 79.51288493116547, 3.1386665481467104, 14.647110080409051, 16.739554923449123, 2.0924443654311404, 97.29865941048105, 1.0462221827155702, 1.0462221827155702, 1.0462221827155702, 105.66843878264133, 65.9119963170586, 3.1386665481467104, 4.184888730862281, 4.184888730862281, 15.693332501929087, 11.508443771066807, 331.65243598051165, 1.0462221827155702, 17.785776389751298, 69.05066644727228, 205.05955258834106, 7.323555040204526, 1.0462221827155702, 2.0924443654311404, 156.93332310885515, 14.647110080409051, 575.4222000159547, 220.75288031418083, 202.96710583486527, 109.85332464785003, 106.71466215937923, 92.06755016853445, 86.83644092658785, 153.77157226570606, 69.05066644727228, 65.9119963170586, 64.8657729403207, 63.819553384454245, 63.819553384454245, 62.773330007716346, 62.773330007716346, 62.773330007716346, 61.727106630978454, 57.542220765769756, 51.264888147085266, 280.63330610950396, 85.79251553079307, 77.42273615863277, 128.79958285904797, 126.85229937058642, 205.60024523448067, 169.70799454740234, 320.2821460935637, 603.7214792951453, 601.6757409157169, 272.16404593857794, 146.8864040620514, 269.47137861218215, 1903.5526253205835, 524.2615294902721, 456.81202697212984, 661.8423720685012, 295.3245175902269, 147.42229248750684, 421.48400650845656, 520.4956799856227, 2229.0384399624995, 844.13969862787, 1300.8211903420422, 442.55433210127825, 1151.0692821363245, 389.1214063920649, 463.0119010174071, 1502.909465232447, 1627.7364989706148, 1426.4460568401348, 921.7837675384881, 1086.9141224130774, 3.192471386937426, 6.384942773874852, 12.769885547749704, 153.23863028531034, 10.641571444471165, 50.015385139359545, 48.951228087720274, 159.62357259514596, 1.0641571676490784, 29.79640115821343, 7.449100289553358, 5.320785722235582, 1.0641571676490784, 750.230780802707, 32.98887231313124, 1.0641571676490784, 22.3472999405816, 1.0641571676490784, 12.769885547749704, 18.09067173402452, 39.373814622966854, 67.04190167790175, 2.128314335298157, 1.0641571676490784, 14.898200579106716, 166.00851490498155, 266.0392926083284, 1.0641571676490784, 12.769885547749704, 1.0641571676490784, 1781.9969929694578, 293.7073759509494, 241.56368042062525, 205.38232581563452, 186.22749888612768, 133.0196463041642, 114.92897642629664, 80.87594334921224, 77.68347219429444, 76.61931514265517, 72.36268693609809, 65.97774462626248, 65.97774462626248, 63.84943052298394, 52.14369924263808, 51.079542190998815, 51.079542190998815, 48.951228087720274, 47.887071036081004, 112.80730488122931, 41.50212872624539, 175.40657920288908, 59.577576293697234, 1164.8342670440875, 328.97923723276864, 506.7328407919755, 165.82661697646583, 311.1279576073146, 1235.2014599065988, 1300.8211903420422, 394.4269926922049, 772.5469585151806, 309.4568314320497, 564.7973128846274, 1192.9170595105443, 723.7946686578957, 1396.6476150588749, 3226.076140409692, 344.3785530489649, 1502.909465232447, 436.7967588419515, 346.73488419068593, 921.7837675384881, 1086.9141224130774, 1627.7364989706148, 455.1483633473947, 1525.2155042733195, 415.93701383949974, 2229.0384399624995, 973.2218025675202, 276.26629817054084, 70.67277307924768, 41.76118443290362, 87.80556496344049, 41.76118443290362, 41.76118443290362, 87.80556496344049, 41.76118443290362, 35.33638653962384, 41.76118443290362, 37.477984588440464, 48.1859823261834, 43.902782481720244, 35.33638653962384, 35.33638653962384, 23.557591650887545, 11.778795825443773, 22.486792626479232, 713.1525399262463, 103.86756531688481, 896.2592780113051, 22.486792626479232, 7.4955973860418315, 7.4955973860418315, 42.831983457311935, 1.0707996098504853, 21.415991728655968, 101.72595977440837, 1.0707996098504853, 1.0707996098504853, 309.46108291451816, 290.18670047516855, 244.14231245097184, 189.53153223150866, 185.24833613387543, 169.1863357804311, 162.76154163398124, 147.77034030494525, 130.63755591441225, 124.21275427430255, 123.14195524989424, 110.29235946333468, 110.29235946333468, 93.15956757914186, 93.15956757914186, 86.73476593903219, 86.73476593903219, 85.66396691462387, 85.66396691462387, 82.45156984139894, 79.23917276817399, 66.38957698161443, 109.17390407832056, 135.8962383152422, 93.11191121853605, 447.39772729172984, 387.4756038991774, 1239.2820847552798, 165.58405003263897, 256.4830524352235, 328.9247492851429, 1714.8364415800656, 699.6425834514373, 1502.909465232447, 166.57101530756367, 548.2923759329094, 942.6323607519765, 296.7890309142292, 275.90934958723653, 1426.4460568401348, 903.63267254915, 2183.646596834703, 486.92900332315855, 367.2374857373499, 305.29882364797743, 973.2218025675202, 3226.076140409692, 364.7009767155804, 117.4802770906191, 546.493058535173, 12.587172810100462, 565.3738020020429, 1.0489310289096445, 35.66365660407446, 25.174345620200924, 1.0489310289096445, 78.6698286735737, 8.391448231277156, 33.565792925108624, 270.62420707983483, 1.0489310289096445, 15.733964623071396, 31.46792924614279, 1.0489310289096445, 66.08265401073433, 1.0489310289096445, 18.880758288781237, 33.565792925108624, 16.782896462554312, 114.33348157217034, 48.25082756143601, 5.244655028752041, 39.85938025652831, 74.47410131564203, 12.587172810100462, 27.27220744642785, 56.64227486634372, 1.0489310289096445, 1306.979090253448, 928.3039516687295, 918.8995209125211, 209.78620485555945, 173.0736201174799, 145.8014071128353, 140.556762737332, 114.33348157217034, 106.99096610674556, 105.94203426726264, 105.94203426726264, 93.35485960442327, 166.79798474728446, 147.8965611350338, 66.08265401073433, 63.9847903317685, 60.83799851879757, 58.74013854530955, 58.74013854530955, 57.69120670582663, 52.44655121388986, 62.95381786446548, 767.0288441858494, 184.64512428748137, 115.35803415050724, 153.50305768749945, 266.54672676429004, 1152.65308434675, 2114.8368060575963, 267.9155450527742, 400.3545084353934, 2183.646596834703, 269.30590487819524, 295.762087468765, 973.2218025675202, 1192.9170595105443, 721.2239306443018, 463.24907543042866, 1239.2820847552798, 942.6323607519765, 304.38833591841245, 367.2374857373499, 1164.8342670440875, 2434.150331911143, 754.8697259640512, 1313.9876499603763, 4356.952430307268, 1396.6476150588749, 1027.765000279195, 573.30272470516, 1426.4460568401348, 921.7837675384881, 1.0503770515896984, 247.88898519473932, 9.453393209414667, 280.4506567162145, 42.01508002444699, 111.3399669587228, 1.0503770515896984, 2.100754103179397, 1.0503770515896984, 9.453393209414667, 1.0503770515896984, 1.0503770515896984, 1.0503770515896984, 1.0503770515896984, 5.2518850030558735, 336.1206401955759, 1.0503770515896984, 5.2518850030558735, 78.77827912412, 38.863950653926224, 1.0503770515896984, 1.0503770515896984, 16.806032825435175, 1.0503770515896984, 1.0503770515896984, 1.0503770515896984, 4.201508206358794, 39.91432847019378, 1.0503770515896984, 51.46847629257308, 402.29441815074046, 363.43044710540477, 350.8259133101941, 388.64908521896075, 377.08120308333093, 278.34991739680703, 252.09048014668195, 225.83105920968447, 214.27691138730518, 134.4482626034814, 130.2467513384112, 105.03770006111748, 98.73544132007595, 168.0741076057333, 86.13091568142909, 363.4784304664072, 71.42563441024713, 69.32488693427581, 291.0223164907517, 64.07299785293804, 64.07299785293804, 63.02262003667049, 57.77073503361461, 57.77073503361461, 56.720361295628955, 127.11481603182456, 142.8469367307805, 1036.1403458150155, 215.49239403047636, 96.66224439030388, 2468.3312908474077, 610.4175346655225, 150.29028502323789, 754.8697259640512, 528.6659276671278, 589.9559201381023, 2305.4031998203823, 3042.6344248204787, 299.4244076482252, 1516.1433969469622, 273.32345496100044, 3226.076140409692, 417.43513466473684, 1056.557080686637, 841.4672672545814, 1426.4460568401348, 951.7472749505732, 592.5996746031063], \"Category\": [\"Default\", \"Default\", \"Default\", \"Default\", \"Default\", \"Default\", \"Default\", \"Default\", \"Default\", \"Default\", \"Default\", \"Default\", \"Default\", \"Default\", \"Default\", \"Default\", \"Default\", \"Default\", \"Default\", \"Default\", \"Default\", \"Default\", \"Default\", \"Default\", \"Default\", \"Default\", \"Default\", \"Default\", \"Default\", \"Default\", \"Topic1\", \"Topic1\", \"Topic1\", \"Topic1\", \"Topic1\", \"Topic1\", \"Topic1\", \"Topic1\", \"Topic1\", \"Topic1\", \"Topic1\", \"Topic1\", \"Topic1\", \"Topic1\", \"Topic1\", \"Topic1\", \"Topic1\", \"Topic1\", \"Topic1\", \"Topic1\", \"Topic1\", \"Topic1\", \"Topic1\", \"Topic1\", \"Topic1\", \"Topic1\", \"Topic1\", \"Topic1\", \"Topic1\", \"Topic1\", \"Topic1\", \"Topic1\", \"Topic1\", \"Topic1\", \"Topic1\", \"Topic1\", \"Topic1\", \"Topic1\", \"Topic1\", \"Topic1\", \"Topic1\", \"Topic1\", \"Topic1\", \"Topic1\", \"Topic1\", \"Topic1\", \"Topic1\", \"Topic1\", \"Topic1\", \"Topic1\", \"Topic1\", \"Topic1\", \"Topic1\", \"Topic1\", \"Topic1\", \"Topic1\", \"Topic1\", \"Topic1\", \"Topic1\", \"Topic1\", \"Topic1\", \"Topic1\", \"Topic1\", \"Topic1\", \"Topic1\", \"Topic1\", \"Topic1\", \"Topic1\", \"Topic1\", \"Topic1\", \"Topic1\", \"Topic1\", \"Topic1\", \"Topic1\", \"Topic1\", \"Topic1\", \"Topic1\", \"Topic2\", \"Topic2\", \"Topic2\", \"Topic2\", \"Topic2\", \"Topic2\", \"Topic2\", \"Topic2\", \"Topic2\", \"Topic2\", \"Topic2\", \"Topic2\", \"Topic2\", \"Topic2\", \"Topic2\", \"Topic2\", \"Topic2\", \"Topic2\", \"Topic2\", \"Topic2\", \"Topic2\", \"Topic2\", \"Topic2\", \"Topic2\", \"Topic2\", \"Topic2\", \"Topic2\", \"Topic2\", \"Topic2\", \"Topic2\", \"Topic2\", \"Topic2\", \"Topic2\", \"Topic2\", \"Topic2\", \"Topic2\", \"Topic2\", \"Topic2\", \"Topic2\", \"Topic2\", \"Topic2\", \"Topic2\", \"Topic2\", \"Topic2\", \"Topic2\", \"Topic2\", \"Topic2\", \"Topic2\", \"Topic2\", \"Topic2\", \"Topic2\", \"Topic2\", \"Topic2\", \"Topic2\", \"Topic2\", \"Topic2\", \"Topic2\", \"Topic2\", \"Topic2\", \"Topic2\", \"Topic2\", \"Topic2\", \"Topic2\", \"Topic2\", \"Topic2\", \"Topic2\", \"Topic2\", \"Topic2\", \"Topic2\", \"Topic2\", \"Topic2\", \"Topic2\", \"Topic2\", \"Topic2\", \"Topic2\", \"Topic2\", \"Topic2\", \"Topic2\", \"Topic2\", \"Topic2\", \"Topic3\", \"Topic3\", \"Topic3\", \"Topic3\", \"Topic3\", \"Topic3\", \"Topic3\", \"Topic3\", \"Topic3\", \"Topic3\", \"Topic3\", \"Topic3\", \"Topic3\", \"Topic3\", \"Topic3\", \"Topic3\", \"Topic3\", \"Topic3\", \"Topic3\", \"Topic3\", \"Topic3\", \"Topic3\", \"Topic3\", \"Topic3\", \"Topic3\", \"Topic3\", \"Topic3\", \"Topic3\", \"Topic3\", \"Topic3\", \"Topic3\", \"Topic3\", \"Topic3\", \"Topic3\", \"Topic3\", \"Topic3\", \"Topic3\", \"Topic3\", \"Topic3\", \"Topic3\", \"Topic3\", \"Topic3\", \"Topic3\", \"Topic3\", \"Topic3\", \"Topic3\", \"Topic3\", \"Topic3\", \"Topic3\", \"Topic3\", \"Topic3\", \"Topic3\", \"Topic3\", \"Topic3\", \"Topic3\", \"Topic3\", \"Topic3\", \"Topic3\", \"Topic3\", \"Topic3\", \"Topic3\", \"Topic3\", \"Topic3\", \"Topic3\", \"Topic3\", \"Topic3\", \"Topic3\", \"Topic3\", \"Topic3\", \"Topic3\", \"Topic3\", \"Topic3\", \"Topic3\", \"Topic3\", \"Topic3\", \"Topic3\", \"Topic3\", \"Topic3\", \"Topic4\", \"Topic4\", \"Topic4\", \"Topic4\", \"Topic4\", \"Topic4\", \"Topic4\", \"Topic4\", \"Topic4\", \"Topic4\", \"Topic4\", \"Topic4\", \"Topic4\", \"Topic4\", \"Topic4\", \"Topic4\", \"Topic4\", \"Topic4\", \"Topic4\", \"Topic4\", \"Topic4\", \"Topic4\", \"Topic4\", \"Topic4\", \"Topic4\", \"Topic4\", \"Topic4\", \"Topic4\", \"Topic4\", \"Topic4\", \"Topic4\", \"Topic4\", \"Topic4\", \"Topic4\", \"Topic4\", \"Topic4\", \"Topic4\", \"Topic4\", \"Topic4\", \"Topic4\", \"Topic4\", \"Topic4\", \"Topic4\", \"Topic4\", \"Topic4\", \"Topic4\", \"Topic4\", \"Topic4\", \"Topic4\", \"Topic4\", \"Topic4\", \"Topic4\", \"Topic4\", \"Topic4\", \"Topic4\", \"Topic4\", \"Topic4\", \"Topic4\", \"Topic4\", \"Topic4\", \"Topic4\", \"Topic4\", \"Topic4\", \"Topic4\", \"Topic4\", \"Topic4\", \"Topic4\", \"Topic4\", \"Topic4\", \"Topic4\", \"Topic4\", \"Topic4\", \"Topic4\", \"Topic4\", \"Topic4\", \"Topic4\", \"Topic4\", \"Topic4\", \"Topic5\", \"Topic5\", \"Topic5\", \"Topic5\", \"Topic5\", \"Topic5\", \"Topic5\", \"Topic5\", \"Topic5\", \"Topic5\", \"Topic5\", \"Topic5\", \"Topic5\", \"Topic5\", \"Topic5\", \"Topic5\", \"Topic5\", \"Topic5\", \"Topic5\", \"Topic5\", \"Topic5\", \"Topic5\", \"Topic5\", \"Topic5\", \"Topic5\", \"Topic5\", \"Topic5\", \"Topic5\", \"Topic5\", \"Topic5\", \"Topic5\", \"Topic5\", \"Topic5\", \"Topic5\", \"Topic5\", \"Topic5\", \"Topic5\", \"Topic5\", \"Topic5\", \"Topic5\", \"Topic5\", \"Topic5\", \"Topic5\", \"Topic5\", \"Topic5\", \"Topic5\", \"Topic5\", \"Topic5\", \"Topic5\", \"Topic5\", \"Topic5\", \"Topic5\", \"Topic5\", \"Topic5\", \"Topic5\", \"Topic5\", \"Topic5\", \"Topic5\", \"Topic5\", \"Topic5\", \"Topic5\", \"Topic5\", \"Topic5\", \"Topic5\", \"Topic5\", \"Topic5\", \"Topic5\", \"Topic5\", \"Topic5\", \"Topic5\", \"Topic5\", \"Topic5\", \"Topic5\", \"Topic5\", \"Topic5\", \"Topic5\", \"Topic5\", \"Topic5\", \"Topic5\", \"Topic5\", \"Topic5\", \"Topic5\", \"Topic5\", \"Topic5\", \"Topic5\", \"Topic6\", \"Topic6\", \"Topic6\", \"Topic6\", \"Topic6\", \"Topic6\", \"Topic6\", \"Topic6\", \"Topic6\", \"Topic6\", \"Topic6\", \"Topic6\", \"Topic6\", \"Topic6\", \"Topic6\", \"Topic6\", \"Topic6\", \"Topic6\", \"Topic6\", \"Topic6\", \"Topic6\", \"Topic6\", \"Topic6\", \"Topic6\", \"Topic6\", \"Topic6\", \"Topic6\", \"Topic6\", \"Topic6\", \"Topic6\", \"Topic6\", \"Topic6\", \"Topic6\", \"Topic6\", \"Topic6\", \"Topic6\", \"Topic6\", \"Topic6\", \"Topic6\", \"Topic6\", \"Topic6\", \"Topic6\", \"Topic6\", \"Topic6\", \"Topic6\", \"Topic6\", \"Topic6\", \"Topic6\", \"Topic6\", \"Topic6\", \"Topic6\", \"Topic6\", \"Topic6\", \"Topic6\", \"Topic6\", \"Topic6\", \"Topic6\", \"Topic6\", \"Topic6\", \"Topic6\", \"Topic6\", \"Topic6\", \"Topic6\", \"Topic6\", \"Topic6\", \"Topic6\", \"Topic6\", \"Topic6\", \"Topic6\", \"Topic6\", \"Topic6\", \"Topic6\", \"Topic6\", \"Topic6\", \"Topic6\", \"Topic6\", \"Topic6\", \"Topic6\", \"Topic6\", \"Topic6\", \"Topic6\", \"Topic6\", \"Topic7\", \"Topic7\", \"Topic7\", \"Topic7\", \"Topic7\", \"Topic7\", \"Topic7\", \"Topic7\", \"Topic7\", \"Topic7\", \"Topic7\", \"Topic7\", \"Topic7\", \"Topic7\", \"Topic7\", \"Topic7\", \"Topic7\", \"Topic7\", \"Topic7\", \"Topic7\", \"Topic7\", \"Topic7\", \"Topic7\", \"Topic7\", \"Topic7\", \"Topic7\", \"Topic7\", \"Topic7\", \"Topic7\", \"Topic7\", \"Topic7\", \"Topic7\", \"Topic7\", \"Topic7\", \"Topic7\", \"Topic7\", \"Topic7\", \"Topic7\", \"Topic7\", \"Topic7\", \"Topic7\", \"Topic7\", \"Topic7\", \"Topic7\", \"Topic7\", \"Topic7\", \"Topic7\", \"Topic7\", \"Topic7\", \"Topic7\", \"Topic7\", \"Topic7\", \"Topic7\", \"Topic7\", \"Topic7\", \"Topic7\", \"Topic7\", \"Topic7\", \"Topic7\", \"Topic7\", \"Topic7\", \"Topic7\", \"Topic7\", \"Topic7\", \"Topic7\", \"Topic7\", \"Topic7\", \"Topic7\", \"Topic7\", \"Topic7\", \"Topic7\", \"Topic7\", \"Topic7\", \"Topic7\", \"Topic7\", \"Topic7\", \"Topic7\", \"Topic7\", \"Topic7\", \"Topic7\", \"Topic8\", \"Topic8\", \"Topic8\", \"Topic8\", \"Topic8\", \"Topic8\", \"Topic8\", \"Topic8\", \"Topic8\", \"Topic8\", \"Topic8\", \"Topic8\", \"Topic8\", \"Topic8\", \"Topic8\", \"Topic8\", \"Topic8\", \"Topic8\", \"Topic8\", \"Topic8\", \"Topic8\", \"Topic8\", \"Topic8\", \"Topic8\", \"Topic8\", \"Topic8\", \"Topic8\", \"Topic8\", \"Topic8\", \"Topic8\", \"Topic8\", \"Topic8\", \"Topic8\", \"Topic8\", \"Topic8\", \"Topic8\", \"Topic8\", \"Topic8\", \"Topic8\", \"Topic8\", \"Topic8\", \"Topic8\", \"Topic8\", \"Topic8\", \"Topic8\", \"Topic8\", \"Topic8\", \"Topic8\", \"Topic8\", \"Topic8\", \"Topic8\", \"Topic8\", \"Topic8\", \"Topic8\", \"Topic8\", \"Topic8\", \"Topic8\", \"Topic8\", \"Topic8\", \"Topic8\", \"Topic8\", \"Topic8\", \"Topic8\", \"Topic8\", \"Topic8\", \"Topic8\", \"Topic8\", \"Topic8\", \"Topic8\", \"Topic8\", \"Topic8\", \"Topic8\", \"Topic8\", \"Topic8\", \"Topic8\", \"Topic8\", \"Topic8\", \"Topic8\", \"Topic9\", \"Topic9\", \"Topic9\", \"Topic9\", \"Topic9\", \"Topic9\", \"Topic9\", \"Topic9\", \"Topic9\", \"Topic9\", \"Topic9\", \"Topic9\", \"Topic9\", \"Topic9\", \"Topic9\", \"Topic9\", \"Topic9\", \"Topic9\", \"Topic9\", \"Topic9\", \"Topic9\", \"Topic9\", \"Topic9\", \"Topic9\", \"Topic9\", \"Topic9\", \"Topic9\", \"Topic9\", \"Topic9\", \"Topic9\", \"Topic9\", \"Topic9\", \"Topic9\", \"Topic9\", \"Topic9\", \"Topic9\", \"Topic9\", \"Topic9\", \"Topic9\", \"Topic9\", \"Topic9\", \"Topic9\", \"Topic9\", \"Topic9\", \"Topic9\", \"Topic9\", \"Topic9\", \"Topic9\", \"Topic9\", \"Topic9\", \"Topic9\", \"Topic9\", \"Topic9\", \"Topic9\", \"Topic9\", \"Topic9\", \"Topic9\", \"Topic9\", \"Topic9\", \"Topic9\", \"Topic9\", \"Topic9\", \"Topic9\", \"Topic9\", \"Topic9\", \"Topic9\", \"Topic9\", \"Topic9\", \"Topic9\", \"Topic9\", \"Topic9\", \"Topic9\", \"Topic9\", \"Topic9\", \"Topic9\", \"Topic9\", \"Topic9\", \"Topic9\", \"Topic9\", \"Topic9\", \"Topic9\", \"Topic9\", \"Topic10\", \"Topic10\", \"Topic10\", \"Topic10\", \"Topic10\", \"Topic10\", \"Topic10\", \"Topic10\", \"Topic10\", \"Topic10\", \"Topic10\", \"Topic10\", \"Topic10\", \"Topic10\", \"Topic10\", \"Topic10\", \"Topic10\", \"Topic10\", \"Topic10\", \"Topic10\", \"Topic10\", \"Topic10\", \"Topic10\", \"Topic10\", \"Topic10\", \"Topic10\", \"Topic10\", \"Topic10\", \"Topic10\", \"Topic10\", \"Topic10\", \"Topic10\", \"Topic10\", \"Topic10\", \"Topic10\", \"Topic10\", \"Topic10\", \"Topic10\", \"Topic10\", \"Topic10\", \"Topic10\", \"Topic10\", \"Topic10\", \"Topic10\", \"Topic10\", \"Topic10\", \"Topic10\", \"Topic10\", \"Topic10\", \"Topic10\", \"Topic10\", \"Topic10\", \"Topic10\", \"Topic10\", \"Topic10\", \"Topic10\", \"Topic10\", \"Topic10\", \"Topic10\", \"Topic10\", \"Topic10\", \"Topic10\", \"Topic10\", \"Topic10\", \"Topic10\", \"Topic10\", \"Topic10\", \"Topic10\", \"Topic10\", \"Topic10\", \"Topic10\", \"Topic10\", \"Topic10\", \"Topic10\", \"Topic10\", \"Topic10\", \"Topic10\", \"Topic10\"], \"logprob\": [30.0, 29.0, 28.0, 27.0, 26.0, 25.0, 24.0, 23.0, 22.0, 21.0, 20.0, 19.0, 18.0, 17.0, 16.0, 15.0, 14.0, 13.0, 12.0, 11.0, 10.0, 9.0, 8.0, 7.0, 6.0, 5.0, 4.0, 3.0, 2.0, 1.0, -8.2107, -4.7484, -7.5176, -5.9306, -6.3826, -7.7689, -7.5176, -7.5176, -5.5481, -5.5481, -7.0406, -8.2107, -7.5176, -8.462, -6.5793, -7.5176, -6.4376, -7.5176, -7.7689, -7.2724, -8.2107, -8.01, -5.8332, -7.7689, -6.7444, -7.5176, -6.5161, -8.462, -8.01, -8.2107, -3.4353, -3.619, -3.9006, -4.2811, -4.3054, -4.5053, -4.7346, -4.8358, -4.8667, -5.2899, -5.3645, -5.384, -5.5251, -5.5251, -5.5559, -5.663, -5.6984, -5.7928, -5.823, -5.8971, -5.9653, -6.0259, -6.1452, -6.1594, -6.1738, -4.1388, -5.9306, -4.2724, -4.7875, -4.3511, -4.649, -3.6841, -4.6617, -4.6088, -3.5052, -4.5274, -4.6365, -4.1834, -4.5615, -4.6522, -5.193, -5.1556, -5.0997, -4.8667, -5.1401, -5.2261, -5.2261, -2.3473, -5.7109, -7.2815, -7.1479, -5.9193, -7.1905, -7.4356, -9.2274, -7.3815, -5.5898, -8.9397, -5.8373, -7.0679, -9.2274, -8.5342, -10.326, -8.7165, -7.761, -4.3001, -7.4928, -6.6884, -6.3006, -6.5648, -5.0327, -4.536, -9.2274, -7.8411, -6.7151, -7.6869, -7.4928, -3.2907, -5.3424, -5.3843, -5.8486, -6.4758, -6.5418, -6.7996, -6.7996, -6.9248, -6.9248, -6.9248, -6.9587, -6.9587, -7.0301, -7.0301, -7.1071, -7.1071, -6.0219, -2.1148, -5.7616, -2.7701, -4.5639, -5.7934, -6.2316, -6.5883, -4.2953, -5.1275, -5.6164, -4.2234, -5.2322, -5.6164, -3.8098, -3.4716, -3.4769, -5.1612, -4.7926, -3.5855, -4.96, -4.7128, -4.2575, -5.2697, -5.1669, -4.3806, -4.6089, -4.6735, -4.2552, -5.0428, -4.901, -5.1165, -5.1498, -4.0609, -6.6333, -4.5538, -5.6555, -10.3469, -4.2715, -7.4024, -7.862, -8.1496, -6.658, -6.6092, -5.9524, -10.3469, -10.3469, -10.3469, -5.4948, -7.5743, -9.6537, -7.2558, -7.5743, -6.4348, -8.4009, -7.949, -6.1725, -8.1496, -6.3956, -8.7374, -8.7374, -8.9606, -5.881, -4.3019, -4.5478, -4.3962, -5.1104, -5.1821, -5.3564, -5.377, -5.4124, -5.449, -5.4793, -5.487, -5.6555, -5.6647, -5.6834, -5.7317, -5.793, -5.928, -5.9901, -5.9901, -6.0564, -6.0564, -6.0702, -6.0842, -5.836, -3.1301, -5.0045, -3.7362, -4.7521, -4.8056, -5.6107, -4.7447, -4.4608, -4.093, -5.1994, -3.7402, -3.9416, -5.2289, -4.0516, -5.1429, -4.8746, -4.4608, -5.247, -5.2111, -5.0842, -5.1994, -5.0842, -5.2111, -5.2229, -8.3455, -9.1928, -3.4725, -6.0429, -8.4997, -7.8065, -3.2793, -7.8065, -7.8935, -5.4394, -7.5188, -6.3596, -6.5302, -6.1483, -5.5552, -5.8028, -5.922, -10.2914, -10.2914, -7.5834, -5.0711, -8.682, -8.0942, -6.8902, -7.5834, -7.9888, -8.0942, -6.5302, -7.9888, -6.7949, -3.1376, -3.6018, -4.5613, -4.8276, -4.8404, -4.9981, -5.3216, -5.3427, -5.3642, -5.4086, -5.4874, -5.5039, -4.6602, -5.7271, -5.8371, -5.8606, -5.8606, -5.9347, -5.9476, -5.9607, -5.9739, -6.001, -6.0288, -4.9684, -5.2808, -5.2416, -5.6567, -4.7463, -4.1197, -5.8371, -4.1114, -5.248, -3.67, -3.9336, -4.5294, -5.4472, -5.2038, -4.9069, -4.7269, -4.4306, -4.6638, -4.7346, -4.9931, -4.9348, -4.9931, -5.1734, -5.1556, -5.2416, -6.0815, -5.1105, -5.8836, -7.2446, -6.3085, -10.2404, -5.6252, -8.1609, -10.2404, -10.2404, -8.0431, -7.8425, -5.0699, -9.1417, -6.6294, -5.2567, -5.6352, -10.2404, -8.6309, -6.0507, -8.8541, -7.35, -8.8541, -10.2404, -8.4486, -6.9445, -6.215, -6.2701, -7.6754, -6.2891, -4.6091, -5.3351, -5.3351, -5.3576, -5.5219, -5.6154, -5.763, -5.763, -5.8459, -5.8459, -5.8583, -5.8583, -5.8709, -5.9229, -5.9499, -5.9777, -6.0507, -6.066, -6.1295, -6.233, -6.2514, -5.7517, -5.763, -5.3883, -5.9096, -5.0813, -4.9777, -4.2414, -4.7765, -4.7765, -4.6346, -5.2297, -5.5864, -5.4201, -4.7149, -5.1046, -5.0474, -4.672, -5.4201, -4.9125, -5.1652, -4.8513, -5.1778, -4.7189, -4.7723, -4.4026, -5.1589, -5.0699, -4.9271, -5.2705, -4.9986, -5.2297, -5.2705, -5.3131, -5.3131, -6.2428, -2.0034, -6.1341, -7.7887, -6.0229, -9.255, -7.7146, -7.5811, -9.6605, -5.821, -10.3536, -10.3536, -10.3536, -5.7385, -6.2105, -9.255, -8.9673, -8.9673, -7.6456, -7.9557, -4.5947, -10.3536, -7.5204, -6.164, -5.0755, -8.4077, -10.3536, -9.6605, -5.343, -7.7146, -4.0437, -5.0018, -5.0858, -5.6997, -5.7287, -5.8763, -5.9348, -5.37, -6.164, -6.2105, -6.2265, -6.2428, -6.2428, -6.2593, -6.2593, -6.2593, -6.2761, -6.3463, -6.4618, -4.8007, -5.9592, -6.0632, -5.5915, -5.6087, -5.1946, -5.37, -4.8124, -4.3086, -4.3134, -5.0258, -5.5578, -5.0858, -3.5546, -4.5698, -4.7296, -4.4731, -5.0755, -5.583, -4.9026, -4.7853, -4.0789, -4.6171, -4.4241, -5.0306, -4.6701, -5.1387, -5.1119, -4.7153, -4.8983, -4.9923, -5.0603, -5.0858, -9.2092, -8.5161, -7.8229, -5.338, -8.0052, -6.4577, -6.4792, -5.2972, -10.3078, -6.9756, -8.3619, -8.6984, -10.3078, -3.7496, -6.8738, -10.3078, -7.2633, -10.3078, -7.8229, -7.4746, -6.6969, -6.1647, -9.6147, -10.3078, -7.6688, -5.258, -4.7864, -10.3078, -7.8229, -10.3078, -2.8999, -4.6874, -4.8829, -5.0451, -5.143, -5.4795, -5.6257, -5.9771, -6.0174, -6.0312, -6.0883, -6.1807, -6.1807, -6.2135, -6.416, -6.4366, -6.4366, -6.4792, -6.5012, -5.6539, -6.6443, -5.2644, -6.3005, -3.6333, -4.8107, -4.447, -5.4326, -4.9142, -3.7946, -3.761, -4.7433, -4.2142, -4.956, -4.5027, -3.9413, -4.3315, -3.8324, -3.2329, -4.9006, -3.8464, -4.7471, -4.9325, -4.352, -4.2844, -4.1551, -4.7984, -4.4134, -4.9372, -4.7281, -4.9051, -4.7579, -6.1212, -6.6473, -5.9041, -6.6473, -6.6473, -5.9041, -6.6473, -6.8143, -6.6473, -6.7555, -6.5042, -6.5973, -6.8143, -6.8143, -7.2198, -7.913, -7.2663, -3.8096, -5.7361, -3.581, -7.2663, -8.3649, -8.3649, -6.622, -10.3109, -7.3151, -5.757, -10.3109, -10.3109, -4.6444, -4.7087, -4.8815, -5.1347, -5.1576, -5.2483, -5.287, -5.3836, -5.5068, -5.5573, -5.5659, -5.6761, -5.6761, -5.8449, -5.8449, -5.9164, -5.9164, -5.9288, -5.9288, -5.967, -6.0068, -6.1837, -5.6957, -5.4825, -5.8565, -4.4192, -4.584, -3.7814, -5.3982, -5.0482, -4.9172, -3.7428, -4.4908, -4.1144, -5.4987, -4.8513, -4.6171, -5.2357, -5.2936, -4.7894, -4.9685, -4.7236, -5.1751, -5.3069, -5.348, -5.2674, -5.2419, -5.341, -5.6019, -4.0646, -7.8355, -4.0307, -10.3204, -6.794, -7.1423, -10.3204, -6.0029, -8.2409, -6.8547, -4.7674, -10.3204, -7.6123, -6.9192, -10.3204, -6.1773, -10.3204, -7.43, -6.8547, -7.5478, -5.629, -6.4917, -8.7109, -6.6828, -6.0577, -7.8355, -7.0623, -6.3314, -10.3204, -3.1935, -3.5348, -3.5473, -5.0221, -5.2144, -5.3859, -5.4225, -5.629, -5.6954, -5.7053, -5.7053, -5.8318, -5.2578, -5.3787, -6.1773, -6.2095, -6.2599, -6.295, -6.295, -6.3131, -6.4084, -6.2428, -4.0087, -5.2899, -5.7053, -5.4841, -5.0839, -3.9168, -3.4535, -5.0946, -4.787, -3.5681, -5.1109, -5.0577, -4.2969, -4.1719, -4.5122, -4.791, -4.3314, -4.5213, -5.1109, -5.0321, -4.5935, -4.3289, -4.8273, -4.7036, -4.5033, -4.7713, -4.8867, -5.0121, -4.9359, -5.0839, -10.4149, -4.951, -8.2176, -4.8276, -6.726, -5.7514, -10.4149, -9.7217, -10.4149, -8.2176, -10.4149, -10.4149, -10.4149, -10.4149, -8.8054, -4.6466, -10.4149, -8.8054, -6.0974, -6.804, -10.4149, -10.4149, -7.6423, -10.4149, -10.4149, -10.4149, -9.0286, -6.7773, -10.4149, -6.5231, -4.4668, -4.5684, -4.6037, -4.5041, -4.5343, -4.8351, -4.9342, -5.0442, -5.0968, -5.5628, -5.5946, -5.8097, -5.8716, -5.346, -6.0082, -4.583, -6.1954, -6.2252, -4.8054, -6.304, -6.304, -6.3205, -6.4075, -6.4075, -6.4259, -5.6357, -5.5245, -3.6203, -5.1419, -5.9151, -2.9188, -4.2144, -5.517, -4.2495, -4.5456, -4.5177, -3.5051, -3.4274, -5.0678, -3.9644, -5.1368, -3.5872, -4.8934, -4.3963, -4.7245, -4.5627, -4.7245, -5.0077], \"loglift\": [30.0, 29.0, 28.0, 27.0, 26.0, 25.0, 24.0, 23.0, 22.0, 21.0, 20.0, 19.0, 18.0, 17.0, 16.0, 15.0, 14.0, 13.0, 12.0, 11.0, 10.0, 9.0, 8.0, 7.0, 6.0, 5.0, 4.0, 3.0, 2.0, 1.0, 2.2597, 2.2597, 2.2597, 2.2597, 2.2597, 2.2597, 2.2597, 2.2597, 2.2597, 2.2597, 2.2597, 2.2597, 2.2597, 2.2597, 2.2597, 2.2597, 2.2597, 2.2597, 2.2597, 2.2597, 2.2597, 2.2597, 2.2597, 2.2597, 2.2597, 2.2597, 2.2597, 2.2597, 2.2597, 2.2597, 2.2597, 2.2597, 2.2581, 2.2597, 2.2597, 2.2597, 2.2597, 2.2597, 2.2597, 2.2597, 2.2597, 2.2597, 2.2597, 2.2597, 2.2597, 2.2597, 2.2597, 2.2597, 2.2597, 2.2597, 2.2597, 2.2597, 2.2597, 2.2597, 2.2597, 2.1625, 2.2481, 2.017, 2.0835, 2.0117, 2.0248, 1.6824, 1.9173, 1.8913, 1.1648, 1.4279, 1.2476, 0.7978, 0.8871, 0.9898, 1.752, 1.4542, 1.2394, 0.0808, 1.2015, 1.5191, 1.2023, 2.3171, 2.3171, 2.3171, 2.3171, 2.3171, 2.3171, 2.3171, 2.3171, 2.3171, 2.3171, 2.3171, 2.3171, 2.3171, 2.3171, 2.3171, 2.3171, 2.3171, 2.3171, 2.3171, 2.3171, 2.3171, 2.3171, 2.3171, 2.3171, 2.3171, 2.3171, 2.3171, 2.3171, 2.3171, 2.3171, 2.3171, 2.3171, 2.3171, 2.3171, 2.3171, 2.3171, 2.3171, 2.3171, 2.3171, 2.3171, 2.3171, 2.3171, 2.3171, 2.3171, 2.3171, 2.3171, 2.3171, 2.3032, 2.1962, 2.2858, 2.123, 2.182, 2.2112, 2.2515, 2.2705, 1.9189, 2.039, 2.1184, 1.8545, 2.0262, 2.0993, 1.6999, 1.5621, 1.4705, 1.8856, 1.7601, 1.0845, 1.6898, 1.4826, 1.103, 1.8032, 1.6811, 0.915, 0.9625, 1.0259, 0.3562, 1.2676, 0.9311, 1.054, 0.8909, 2.2854, 2.2854, 2.2854, 2.2854, 2.2854, 2.2854, 2.2854, 2.2854, 2.2854, 2.2854, 2.2854, 2.2854, 2.2854, 2.2854, 2.2854, 2.2854, 2.2854, 2.2854, 2.2854, 2.2854, 2.2854, 2.2854, 2.2854, 2.2854, 2.2854, 2.2854, 2.2854, 2.2854, 2.2854, 2.2854, 2.2854, 2.2854, 2.2827, 2.2854, 2.2854, 2.2854, 2.2854, 2.2854, 2.2854, 2.2854, 2.2854, 2.2854, 2.2854, 2.2854, 2.2854, 2.2854, 2.2854, 2.2854, 2.2854, 2.2854, 2.2854, 2.2854, 2.2854, 2.2741, 2.0985, 2.1695, 2.0192, 2.1196, 2.0747, 2.2021, 1.9801, 1.7997, 1.6347, 2.0146, 1.2615, 1.3018, 2.011, 0.8276, 1.6814, 1.2789, 0.5204, 1.7649, 1.5342, 1.1685, 1.4195, 0.3433, 1.0949, 0.917, 2.3343, 2.3343, 2.3343, 2.3343, 2.3343, 2.3343, 2.3343, 2.3343, 2.3343, 2.3343, 2.3343, 2.3343, 2.3343, 2.3343, 2.3343, 2.3343, 2.3343, 2.3343, 2.3343, 2.3343, 2.3343, 2.3343, 2.3343, 2.3343, 2.3343, 2.3343, 2.3343, 2.3343, 2.3343, 2.3343, 2.3343, 2.3331, 2.3343, 2.3343, 2.3343, 2.3343, 2.3343, 2.3343, 2.3343, 2.3343, 2.3343, 2.3343, 2.3236, 2.3343, 2.3343, 2.3343, 2.3343, 2.3343, 2.3343, 2.3343, 2.3343, 2.3343, 2.3343, 2.3066, 2.3078, 2.2972, 2.3152, 2.2392, 2.1562, 2.3229, 2.0467, 2.1638, 1.469, 1.427, 1.6411, 2.064, 1.8026, 1.4767, 1.1149, 0.1808, 0.5648, 0.5609, 1.221, 0.3085, 0.0086, 1.1325, 0.4864, 0.3991, 2.3644, 2.3644, 2.3644, 2.3644, 2.3644, 2.3644, 2.3644, 2.3644, 2.3644, 2.3644, 2.3644, 2.3644, 2.3644, 2.3644, 2.3644, 2.3644, 2.3644, 2.3644, 2.3644, 2.3644, 2.3644, 2.3644, 2.3644, 2.3644, 2.3644, 2.3644, 2.3644, 2.3644, 2.3644, 2.3644, 2.3644, 2.3644, 2.3644, 2.3644, 2.3644, 2.3644, 2.3644, 2.3644, 2.3644, 2.3644, 2.3644, 2.3644, 2.3644, 2.3644, 2.3644, 2.3644, 2.3644, 2.3644, 2.3644, 2.3644, 2.3644, 2.3537, 2.3535, 2.3271, 2.3517, 2.1959, 2.1664, 1.9984, 2.107, 2.0554, 1.9721, 2.1069, 2.2181, 2.0563, 1.5378, 1.7992, 1.7268, 1.3799, 2.0097, 1.4993, 1.746, 1.4092, 1.7341, 1.1133, 1.1798, 0.5785, 1.6459, 1.3911, 0.9569, 1.6263, 0.2969, 1.3801, 1.5647, 1.3613, 1.1871, 2.2916, 2.2916, 2.2916, 2.2916, 2.2916, 2.2916, 2.2916, 2.2916, 2.2916, 2.2916, 2.2916, 2.2916, 2.2916, 2.2916, 2.2916, 2.2916, 2.2916, 2.2916, 2.2916, 2.2916, 2.2916, 2.2916, 2.2916, 2.2916, 2.2916, 2.2916, 2.2916, 2.2916, 2.2916, 2.2916, 2.2916, 2.2916, 2.2916, 2.2916, 2.2916, 2.2916, 2.2916, 2.285, 2.2916, 2.2916, 2.2916, 2.2916, 2.2916, 2.2916, 2.2916, 2.2916, 2.2916, 2.2916, 2.2916, 2.2527, 2.2793, 2.278, 2.2407, 2.2387, 2.1699, 2.1863, 2.1089, 1.9787, 1.9774, 2.0583, 2.1429, 2.0082, 1.5844, 1.8587, 1.8366, 1.7223, 1.9269, 2.1142, 1.7441, 1.6504, 0.9023, 1.3351, 1.0957, 1.5673, 0.972, 1.5879, 1.4408, 0.66, 0.3972, 0.4352, 0.8038, 0.6136, 2.3205, 2.3205, 2.3205, 2.3205, 2.3205, 2.3205, 2.3205, 2.3205, 2.3205, 2.3205, 2.3205, 2.3205, 2.3205, 2.3205, 2.3205, 2.3205, 2.3205, 2.3205, 2.3205, 2.3205, 2.3205, 2.3205, 2.3205, 2.3205, 2.3205, 2.3205, 2.3205, 2.3205, 2.3205, 2.3205, 2.3051, 2.3205, 2.3205, 2.3205, 2.3205, 2.3205, 2.3205, 2.3205, 2.3205, 2.3205, 2.3205, 2.3205, 2.3205, 2.3205, 2.3205, 2.3205, 2.3205, 2.3205, 2.3205, 2.3109, 2.3205, 2.259, 2.3027, 1.9969, 2.0838, 2.0154, 2.1469, 2.0361, 1.7769, 1.7587, 1.9697, 1.8265, 1.9997, 1.8513, 1.665, 1.7745, 1.6162, 1.3786, 1.9481, 1.5289, 1.8639, 1.9094, 1.5122, 1.415, 1.1404, 1.7714, 0.9471, 1.7227, 0.253, 0.9047, 2.3112, 2.3112, 2.3112, 2.3112, 2.3112, 2.3112, 2.3112, 2.3112, 2.3112, 2.3112, 2.3112, 2.3112, 2.3112, 2.3112, 2.3112, 2.3112, 2.3112, 2.3112, 2.3112, 2.3112, 2.3112, 2.3112, 2.3112, 2.3112, 2.3112, 2.3112, 2.3112, 2.3112, 2.3112, 2.3112, 2.3112, 2.3112, 2.3112, 2.3112, 2.3112, 2.3112, 2.3112, 2.3112, 2.3112, 2.3112, 2.3112, 2.3112, 2.3112, 2.3112, 2.3112, 2.3112, 2.3112, 2.3112, 2.3112, 2.3112, 2.3112, 2.3112, 2.3018, 2.296, 2.3002, 2.1678, 2.1468, 1.7867, 2.1828, 2.0952, 1.9774, 1.5006, 1.6491, 1.2609, 2.0764, 1.5324, 1.2247, 1.7618, 1.7768, 0.6381, 0.9155, 0.2781, 1.3273, 1.4775, 1.6212, 0.5424, -0.6305, 1.4503, 2.3223, 2.3223, 2.3223, 2.3223, 2.3223, 2.3223, 2.3223, 2.3223, 2.3223, 2.3223, 2.3223, 2.3223, 2.3223, 2.3223, 2.3223, 2.3223, 2.3223, 2.3223, 2.3223, 2.3223, 2.3223, 2.3223, 2.3223, 2.3223, 2.3223, 2.3223, 2.3223, 2.3223, 2.3223, 2.3223, 2.3215, 2.3223, 2.32, 2.3223, 2.3223, 2.3223, 2.3223, 2.3223, 2.3223, 2.3223, 2.3223, 2.3223, 2.3159, 2.3152, 2.3223, 2.3223, 2.3223, 2.3223, 2.3223, 2.3223, 2.3223, 2.3052, 2.0393, 2.1821, 2.2371, 2.1726, 2.021, 1.7238, 1.5803, 2.0051, 1.9111, 1.4336, 1.9837, 1.9432, 1.5129, 1.4344, 1.5973, 1.7612, 1.2367, 1.3205, 1.8613, 1.7523, 1.0366, 0.5642, 1.2366, 0.806, -0.1923, 0.6773, 0.8686, 1.3269, 0.4916, 0.7802, 2.2264, 2.2264, 2.2264, 2.2264, 2.2264, 2.2264, 2.2264, 2.2264, 2.2264, 2.2264, 2.2264, 2.2264, 2.2264, 2.2264, 2.2264, 2.2264, 2.2264, 2.2264, 2.2264, 2.2264, 2.2264, 2.2264, 2.2264, 2.2264, 2.2264, 2.2264, 2.2264, 2.2264, 2.2264, 2.2264, 2.2264, 2.2264, 2.2264, 2.2237, 2.2237, 2.2264, 2.2264, 2.2264, 2.2264, 2.2264, 2.2264, 2.2264, 2.2264, 2.2201, 2.2264, 2.2117, 2.2264, 2.2264, 2.2117, 2.2264, 2.2264, 2.2264, 2.2264, 2.2264, 2.2264, 2.2096, 2.2042, 2.1269, 2.1757, 2.2042, 1.9604, 2.0619, 2.1609, 1.8145, 1.8745, 1.7927, 1.4423, 1.2426, 1.9208, 1.4021, 1.943, 1.0242, 1.7629, 1.3314, 1.2308, 0.8648, 1.1076, 1.2982]}, \"token.table\": {\"Topic\": [2, 3, 5, 9, 10, 8, 6, 5, 4, 10, 4, 5, 10, 2, 9, 7, 4, 1, 5, 3, 5, 6, 7, 8, 4, 6, 7, 9, 1, 8, 10, 3, 7, 9, 4, 7, 10, 2, 4, 9, 10, 5, 3, 8, 6, 4, 6, 10, 6, 8, 6, 2, 2, 10, 8, 10, 10, 2, 7, 9, 2, 6, 10, 9, 1, 2, 3, 5, 6, 7, 6, 2, 5, 7, 8, 9, 10, 2, 3, 9, 1, 4, 8, 10, 3, 5, 8, 3, 7, 5, 2, 9, 10, 10, 3, 1, 2, 4, 5, 10, 3, 5, 5, 1, 8, 9, 6, 1, 1, 1, 3, 6, 2, 1, 6, 3, 6, 7, 7, 3, 2, 3, 5, 10, 6, 3, 5, 9, 4, 7, 2, 4, 1, 4, 1, 6, 9, 4, 9, 9, 4, 9, 8, 4, 10, 2, 6, 1, 1, 2, 6, 7, 9, 1, 1, 4, 5, 10, 3, 1, 8, 2, 2, 4, 7, 10, 3, 3, 4, 8, 9, 10, 4, 6, 2, 6, 6, 5, 3, 3, 6, 8, 10, 1, 5, 6, 10, 7, 9, 2, 3, 10, 2, 5, 6, 1, 10, 3, 7, 10, 1, 4, 9, 2, 4, 4, 8, 7, 2, 9, 7, 5, 4, 10, 10, 8, 6, 3, 6, 9, 1, 4, 5, 2, 4, 7, 10, 1, 8, 8, 8, 3, 10, 2, 4, 3, 7, 8, 9, 3, 4, 6, 6, 10, 3, 6, 2, 6, 3, 7, 3, 7, 9, 5, 9, 9, 10, 2, 5, 2, 9, 3, 3, 1, 2, 5, 6, 9, 1, 1, 7, 4, 8, 1, 5, 8, 10, 1, 6, 7, 8, 9, 8, 4, 3, 4, 8, 3, 2, 3, 8, 9, 5, 2, 7, 1, 6, 2, 1, 2, 6, 7, 9, 7, 3, 4, 10, 3, 3, 2, 1, 1, 1, 7, 9, 5, 6, 1, 1, 1, 1, 5, 3, 4, 8, 4, 9, 3, 5, 3, 5, 10, 9, 1, 2, 6, 8, 8, 8, 5, 5, 7, 4, 6, 7, 8, 5, 7, 6, 6, 1, 7, 6, 3, 4, 10, 5, 8, 8, 10, 8, 1, 6, 6, 9, 6, 5, 10, 1, 9, 3, 2, 9, 1, 2, 3, 4, 4, 10, 5, 7, 9, 9, 1, 5, 7, 10, 3, 5, 10, 3, 8, 2, 4, 1, 3, 7, 8, 10, 10, 6, 9, 5, 2, 1, 1, 5, 6, 10, 4, 10, 6, 1, 5, 1, 3, 5, 3, 7, 9, 2, 1, 6, 6, 1, 2, 6, 3, 6, 3, 6, 6, 1, 2, 5, 3, 8, 10, 7, 6, 8, 8, 9, 3, 4, 3, 3, 5, 3, 4, 10, 5, 1, 3, 6, 7, 9, 4, 1, 5, 9, 7, 8, 7, 1, 3, 7, 1, 3, 10, 7, 4, 4, 8, 9, 8, 9, 1, 1, 2, 4, 5, 6, 9, 4, 8, 9, 1, 2, 3, 6, 8, 9, 10, 10, 3, 5, 6, 8, 9, 10, 3, 7, 7, 7, 4, 5, 6, 7, 8, 4, 6, 8, 2, 5, 1, 8, 4, 5, 8, 6, 9, 6, 9, 6, 9, 1, 5, 3, 8, 2, 7, 8, 9, 10, 6, 7, 8, 10, 1, 3, 4, 6, 7, 8, 10, 6, 7, 2, 4, 9, 5, 2, 3, 6, 6, 7, 8, 2, 4, 2, 5, 9, 2, 4, 9, 3, 4, 5, 6, 8, 5, 8, 1, 3, 4, 7, 9, 7, 10, 4, 9, 5, 4, 3, 2, 6, 9, 10, 4, 5, 7, 9, 4, 4, 5, 8, 8, 5, 5, 3, 6, 7, 9, 5, 3, 5, 10, 4, 5, 1, 3, 5, 4, 9, 8, 9, 8, 5, 3, 10, 6, 2, 6, 1, 2, 10, 10, 6, 9, 6, 1, 6, 1, 10, 1, 7, 1, 9, 10, 7, 8, 4, 1, 2, 5, 10, 1, 5, 6, 5, 6, 1, 3, 1, 1, 8, 8, 7, 5, 5, 4, 6, 2, 3, 5, 6, 10, 2, 3, 1, 5, 5, 7, 6, 2, 6, 5, 2, 3, 5, 5, 6, 5, 1, 6, 10, 4, 7, 10, 4, 7, 4, 3, 3, 10, 6, 4, 3, 6, 8, 9, 10, 6, 3, 3, 8, 9, 10, 2, 2, 3, 7, 3, 8, 7, 9, 4, 5, 10, 3, 7, 4, 3, 4, 8, 9, 3, 5, 6, 2, 3, 5, 8, 8, 1, 8, 3, 10, 2, 3, 10, 3, 1, 1, 5, 3, 6, 2, 6, 9, 5, 9, 7, 9, 9, 6, 2, 5, 5, 4, 3, 4, 6, 8, 9, 9, 1, 2, 3, 6, 10, 1, 10, 8, 7, 2, 3, 7, 7, 8, 8, 2, 10, 2, 1, 5, 7, 9, 7, 6, 8, 6, 3, 4, 3, 1, 4, 6, 7, 9, 3, 6, 1, 2, 5, 4, 1, 1, 8, 6, 2, 4, 5, 6, 7, 8, 3, 3, 3, 1, 8, 9, 10, 10, 10, 10, 7, 10, 8, 9, 4, 4, 5, 9, 9, 9, 4, 9, 4, 10, 1, 10, 4, 5, 7, 1, 2, 4, 7, 1, 10, 4, 8, 4, 5, 8, 10, 1, 7, 8, 3, 10, 2, 5, 6, 8, 9, 6, 7, 7, 10, 1, 8, 3, 4, 10, 2, 4, 7, 8, 10, 9, 9, 5, 3, 3, 8, 10, 1, 9, 9, 2, 1, 4, 5, 9, 7, 8, 3, 10, 6, 7, 9, 10, 7, 6, 7, 10, 10, 7, 4, 4, 10, 2, 7, 10, 7, 8, 1, 3, 8, 6, 9, 10, 2, 8, 10, 3, 3, 4, 5, 10, 5, 3, 1, 5, 5, 2, 7, 3, 5, 1, 1, 9, 4, 8, 2, 7, 8, 2, 6, 8, 2, 5, 4, 5, 2, 8, 1, 4, 9, 6, 4, 5, 7, 6, 10, 9, 1, 5, 6, 9, 5, 10, 10, 4, 5, 1, 5, 7, 2, 3, 10, 1, 7, 5, 2, 3, 1, 3, 8, 10, 8, 2, 1, 4, 7, 10, 2, 2, 2, 4, 6, 8, 9, 10, 9, 9, 9, 4, 7, 2, 3, 1, 6, 7, 8, 9, 10, 10, 1, 3, 2, 9, 2, 9, 4, 9, 2, 4, 6, 7, 10, 7, 8, 9, 2, 5, 5, 9, 1, 8, 2, 5, 5, 1, 3, 3, 8, 2, 7, 4, 5, 8, 10, 1, 4, 4, 1, 4, 6, 8, 10, 7, 10, 1, 8, 2, 9, 2, 9, 10, 6, 6, 7, 3, 3, 9, 7, 2, 3, 4, 6, 8, 4, 7, 4, 4, 1, 3, 5, 6, 2, 2, 3, 9, 6, 4, 10, 10, 2, 7, 1, 8, 8, 10, 7, 6, 9, 2, 5, 7, 8, 4, 9, 2, 3, 7], \"Freq\": [0.5995296896307869, 0.1453405308195847, 0.0036335132704896174, 0.2507124156637836, 0.9988607080145432, 0.9973492319435612, 1.0028274503028676, 1.019874959964026, 0.2969739334116012, 0.7036579823510551, 0.5881609266276502, 0.047596837992989034, 0.3637758332321305, 0.7581187355150149, 0.2433960150863995, 1.0119962828181333, 1.0030818231238283, 0.26554880474373066, 0.7338284174100944, 1.0019271393526779, 1.0035569933296864, 0.11916020168699996, 0.7048199163614041, 0.1774726408104255, 0.11499443115933812, 0.22564944982209745, 0.4458746340234714, 0.21371606545650576, 0.010739764514692156, 0.9880583353516784, 0.95203907824009, 0.9973301719827873, 0.9949879288421343, 0.9996725731176915, 0.010985428934045667, 0.577833561930802, 0.4108550421333079, 0.5395788917965706, 0.07990942685280665, 0.2191801422248411, 0.16134093802661914, 1.001331803610531, 0.9968215447064341, 0.978352064940288, 0.99970958393506, 0.4207921490298179, 0.49276284118597896, 0.08615469717963811, 0.8852129519224778, 0.11673137827549158, 1.0031377506962196, 0.9980832106071156, 0.9536472599509906, 0.04334760272504503, 1.0057186013840216, 0.95203907824009, 0.95203907824009, 0.47001262563279267, 0.053904868533338396, 0.47615967204448917, 0.6300392334681043, 0.18269794403339484, 0.18807141297555352, 1.006315514948868, 0.23193857527584755, 0.05383487240445205, 0.17137434382083902, 0.16778535232720887, 0.24943490880729446, 0.1265119501504623, 0.9558199483135871, 1.0014101404600562, 1.006145916027981, 0.9928435052847039, 0.008864674154327713, 0.3378066323620769, 0.662365945807994, 1.00164983242969, 0.0007651231817381876, 0.999250875350073, 0.9995940156861575, 0.42495575395071794, 0.4596087982642958, 0.11672604400363068, 0.8091694167857691, 0.03596308519047863, 0.1528431120595342, 1.0482448923119845, 1.0003373163763567, 1.0708687807123547, 0.9866110207124221, 1.0041969244371471, 1.0021463853480637, 1.0004478408154096, 1.0482448923119845, 0.045180061064249544, 0.2500663844951486, 0.09141082122301653, 0.28579015370874133, 0.3267674183949211, 0.9978485109926704, 1.001331803610531, 0.998202671315599, 0.9973273197824617, 0.27247392451834185, 0.7278413052202282, 0.9992662778461746, 1.0001105935880943, 0.994834050409957, 0.3471549785027228, 0.003814889873656295, 0.6485312785215701, 0.9904057088148295, 0.24863493980347748, 0.7533267579120289, 0.9996391567619636, 0.05701040431575381, 0.9406716712099379, 0.9397108498059036, 0.9434203840688479, 1.0098253758408442, 0.13593868661142747, 0.8609450152057073, 1.004930129110313, 0.9558199171464745, 0.6159486751050607, 0.3853710297123285, 0.9948015904780775, 0.9987686856731125, 0.9905060094749162, 1.0052766412741916, 1.0023965975926603, 0.0011644144958195492, 0.9990676374131731, 1.0031013075916755, 0.00676148243289424, 0.9939379176354532, 0.9610483440308694, 0.03473668713364588, 0.9987492328815833, 0.25886643155448463, 0.7390824205251227, 0.9997861047704295, 0.9373059630481809, 0.95203907824009, 1.0067086834455263, 1.0044209648550835, 1.0008550071437572, 0.9995940156861575, 0.013837412961628508, 0.30211684966222246, 0.5704089120849085, 0.11377428435116774, 1.0003779683634408, 1.0057107093703306, 0.9373059429440973, 1.0039394478162091, 1.0039685312338849, 0.9434203840688479, 0.9773807392047115, 1.0187798632249314, 1.0002471169559728, 0.6712211290743373, 0.32791307452484825, 0.00594975641546044, 0.9936093213818934, 0.9894409518858208, 0.359032455680532, 0.09754325645402209, 0.13097357439366347, 0.4112387056136706, 0.0009158991216340102, 0.9997929700664457, 1.0028274503028676, 0.9890470950631567, 0.9558199171464745, 1.0195412604705354, 0.9994775030137073, 0.9951147060812563, 0.00680798203472634, 0.864613718410245, 0.11573569459034777, 0.01361596406945268, 0.2300962483465192, 0.5675707459214141, 0.09203849933860768, 0.11044619920632923, 1.0023582349363966, 0.9533515287840155, 0.200384465886596, 0.06345508086408873, 0.7380827826822953, 0.09772718384789533, 0.1706084734971732, 0.7321256823859278, 1.0007910691485429, 0.95203907824009, 0.11892213186029069, 0.7521021312245411, 0.12856446687598994, 1.0002809748915216, 0.9984346053634207, 1.0013886153209284, 0.9970751075273873, 1.0004950847308414, 0.9373059285840379, 0.990480448835745, 1.001533912875082, 0.3144419245750069, 0.6829813845607677, 0.9984427779187725, 0.9178875263248755, 1.031036559352999, 0.9988155997692733, 1.0007480848334447, 0.9805756495460659, 1.0240928017645576, 1.0291859414069888, 1.0155586619681292, 0.9533515287840155, 0.0060855145774868355, 0.9736823323978936, 0.018256543732460506, 0.9724749838886547, 0.028885395561049153, 1.0336819197614895, 0.952039103909998, 1.0024418168356597, 1.0046301695333986, 1.0027744248815036, 0.990480448835745, 0.06653790029378014, 0.9381843941422999, 0.9537240158957618, 1.0042563315399566, 0.1417970699340409, 0.24249353988720038, 0.1705674899206579, 0.4449139947930414, 0.94342042684571, 0.9373059764509041, 1.0000980421535548, 0.002651948683262821, 0.9971327049068208, 0.10017206346311287, 0.9015485711680159, 0.5723395001677013, 0.4276347963517165, 0.94342042684571, 0.9397108156581667, 0.11457750478438866, 0.8382249034226329, 0.04221276492056424, 0.2859202067434297, 0.7129438921394611, 0.9970832553370655, 0.95203907824009, 0.9998989967492907, 1.009676265238767, 1.0332010172204085, 0.9533515287840155, 0.94342042684571, 0.9976399838077674, 0.06502215609312958, 0.321170043732731, 0.3783107263600267, 0.0866962081241728, 0.1517183642173024, 1.0018153006047301, 0.78503736893641, 0.2157607990734319, 0.8368495559428805, 0.16376703638803924, 0.3629793498664797, 0.24456840341613417, 0.24788833649418124, 0.14386376671537304, 0.2534640779700736, 0.0007160002202544452, 0.49475615219582164, 0.057996017840610065, 0.1933200594687002, 0.9993566194630462, 0.9997930263139349, 0.2503557799270646, 0.7496117829211527, 1.002214381703944, 0.94342042684571, 0.07614863802754025, 0.9213985201332371, 0.9985100455599274, 1.0327974515109755, 0.9858791577324719, 0.9951902390289755, 1.0009963115434304, 0.6011023879633418, 0.399669140933073, 1.0098253758408442, 0.12144473724101078, 0.2750907305686532, 0.18676728530246353, 0.40389575491517976, 0.012880502434652658, 0.9998523052442999, 0.8297526504541602, 0.17066242187318947, 0.95203907824009, 0.9993102808125809, 1.0014771069209978, 0.9994504490130002, 1.0037965162192883, 1.011083553188993, 0.9773807392047115, 0.9996923918646897, 1.0129359993330165, 0.1627976311793812, 0.8343378597943287, 1.0004945539948829, 1.000891647037365, 0.9773807392047115, 0.15600446040832947, 0.8468813565023598, 0.4199451810484772, 0.35533823011794224, 0.22381693715221038, 1.041451010485881, 1.0035278958821408, 0.034542193643621925, 0.9602729832926895, 0.31799858590534275, 0.4497817836679172, 0.232053022147142, 1.00136207798743, 0.1831444541351187, 0.8171060261412989, 1.0079555364415578, 1.0057186013840216, 0.9973492319435612, 1.0012750340562153, 1.0002620426909474, 0.9998417794502921, 1.0003373163763567, 0.19531179408676658, 0.4959891612992888, 0.05396773257660656, 0.2569892027457455, 0.9897097323191376, 0.011924213642399248, 1.0013351694358956, 1.0240928017645576, 0.9773808214553963, 1.0009963368476134, 1.0004248740154351, 1.0038960777259593, 0.9913504566875052, 0.01077554844225549, 0.9178874951462483, 0.990480448835745, 1.0026939065131393, 0.9983930980177005, 1.001554166381297, 1.0012193192272743, 0.9558199171464745, 0.07801797305472223, 0.9188783493111728, 1.042712658523736, 1.019874959964026, 0.95203907824009, 0.9773807392047115, 0.9533515287840155, 1.0009460792333302, 0.9943079602073926, 0.9930744726067071, 0.08252525643435682, 0.2829437363463662, 0.13410354170582983, 0.49957253448655287, 1.0042563643629485, 0.95203907824009, 0.9178874951462483, 0.7237081049643378, 0.27643417532445647, 0.9533515287840155, 0.2197398573666046, 0.051703495850965786, 0.7270804104042063, 0.0032314684906853616, 0.010308487803186517, 0.0034361626010621722, 0.9861786665048434, 0.8468757646906785, 0.15154618947096352, 1.0270874017338973, 0.9997929700664457, 0.14230555219616206, 0.16302966173929245, 0.5788934599047757, 0.11605501344153021, 0.95203907824009, 0.9996410806682215, 1.0028274503028676, 0.9533515498329628, 0.9993567831792131, 0.9890470950631567, 0.9773807392047115, 0.9773808214553963, 0.8193549038770188, 0.17947774084925175, 0.9988607080145432, 0.9373059764509041, 0.9520391244459254, 0.9558199171464745, 0.692648047825855, 0.3073881869049652, 0.19834873679751844, 0.5468758028845866, 0.2550198044539523, 0.06957734348610542, 0.5188960917819188, 0.4115960921888887, 0.9855147580763527, 0.8373147295661508, 0.16033686310841186, 0.9558199171464745, 0.2742745528239221, 0.030474950313769122, 0.6941516460358522, 0.7363082606638566, 0.2642500029560182, 0.9930741453713471, 1.0010479766821576, 0.9992662424581961, 0.05513615855594881, 0.5281463609043517, 0.4149721407105621, 0.003658668811071068, 0.24147214153069047, 0.7536857750806399, 1.0006179779539663, 1.003610928275683, 0.9997107109319076, 0.8490857145308355, 0.1522676509341012, 1.0038960777259593, 1.0015050227999402, 0.9958326476963854, 1.0011808873916912, 0.992310852023994, 0.3037463699597119, 0.30037141029349285, 0.39487028094762544, 0.9178874951462483, 0.12591668524697305, 0.03434091415826538, 0.16025759940523843, 0.6341622147893007, 0.04578788554435384, 1.0154148078218128, 0.9773807392047115, 0.6934091199124536, 0.30642680925516175, 0.9993749927007879, 0.9961403230316145, 0.9397108156581667, 0.7898620194583956, 0.2072168878208754, 0.0024378457390691224, 0.07003880940527014, 0.521505188950052, 0.40887521166319873, 0.9397108498059036, 1.0003304462566822, 0.9997930133415405, 0.43568537040478705, 0.5663909815262231, 0.36795102434549337, 0.6307731845922744, 0.9773807392047115, 0.34625061885606084, 0.11017065145420118, 0.059457176975283174, 0.1766227904265765, 0.12940679694620455, 0.1766227904265765, 0.2949187950413966, 0.3373531540401587, 0.3670572053392922, 0.006309386854723978, 0.08973350193385214, 0.14371381169093508, 0.15633258540038303, 0.18787951967400293, 0.16053884330353235, 0.2565817320921085, 0.9996410806682215, 0.1275609364733811, 0.061007404400312694, 0.15667810675534852, 0.17054342593723776, 0.4838996394479348, 0.9908978014054657, 0.9973199394719521, 0.002450417541700128, 1.0009963368476134, 1.002358219395382, 0.03435450322634849, 0.3056366149102728, 0.3838227257012728, 0.11964844227107577, 0.156372221582, 1.0154148078218128, 0.9558199171464745, 1.0030579901622638, 0.9040000942908596, 0.10146939833876996, 0.9773808153375763, 0.978352064940288, 1.0225155641518666, 0.9178874951462483, 0.933881535984747, 0.8336399741807698, 0.16547909599842997, 0.7936389953901073, 0.2094325126723894, 1.0013351694358956, 0.996198809511075, 0.9992461117310906, 1.0026156172048089, 0.19494465433589547, 0.8070708689506073, 0.6478080796616067, 0.3327538769846505, 0.017699674307694174, 0.8665270779145493, 0.1299790616871824, 0.03290366839175879, 0.5456525008299998, 0.4222637443609044, 1.0028144925015519, 0.08655156622798554, 0.04327578311399277, 0.038467362767993576, 0.1586778714179735, 0.550564129616908, 0.12261471882297952, 0.952039103909998, 0.5789069009314934, 0.4223173293680567, 0.9537240158957617, 1.041451010485881, 0.9959118491842794, 0.995455468198657, 0.14792020676211237, 0.12132781004083375, 0.7296288850400824, 0.9472080366402342, 0.038820001501648944, 0.007764000300329789, 0.9377953607368327, 0.059542562586465564, 0.8236960444533428, 0.00410820969802166, 0.17254480731690972, 1.0001355055339267, 0.9997929700664457, 1.0129359993330165, 0.19405739236414193, 0.06738103901532706, 0.5282673458801641, 0.10780966242452329, 0.10511442086391022, 0.21012058992000823, 0.7924547962697454, 0.9986281558794566, 0.11240038279039838, 0.0024977862842310754, 0.2223029792965657, 0.6619133653212349, 0.1523547321604371, 0.84859947590437, 0.015884660119469162, 0.984848927407088, 1.0013318036105312, 1.00121313053529, 0.94342042684571, 0.8861698771697879, 0.0027542187324624333, 0.08079041615223137, 0.030296406057086764, 1.0032102670573542, 0.1899626025550826, 0.23961191913197918, 0.5698878076652478, 0.9941123281910681, 0.13187371414948762, 0.002235147697448943, 0.8672373066101898, 0.933881535984747, 1.001331803610531, 0.993124136917855, 1.0023842035235668, 0.9992662424581961, 1.001806230053355, 1.016908349758109, 0.9998417794502921, 0.02163605630582416, 0.5378105424590577, 0.4389028564895758, 0.22702693564312096, 0.7709456356214316, 0.4765333348806732, 0.4712967048270394, 0.05236630053633771, 0.0021765165336182597, 0.9979328306639721, 0.9941319556574022, 0.9993388409566923, 1.0039226888209722, 1.0028770742451008, 0.01573380713936036, 0.9833629462100225, 0.9992662977519137, 0.011656028428739511, 0.9907624164428585, 0.33457847965421084, 0.2915236851211051, 0.3740179860967504, 1.0026794702731556, 0.9979884831020414, 0.990018870054338, 0.9948329518183036, 0.006503152600092253, 0.9949823478141145, 0.9773808214553963, 0.95203907824009, 0.9988617239206289, 0.9397108156581667, 1.0198755634513599, 0.7535570590093114, 0.2464053359044288, 0.9984427779187725, 0.998287158439134, 0.9985369774473196, 0.11321230057299085, 0.428992204086927, 0.001301290811183803, 0.45631931112178686, 0.35015781405320534, 0.48633029729611854, 0.16396278594554853, 0.05518228707506668, 0.9459820641440002, 0.7805818999205477, 0.21970611828427314, 0.9773807392047115, 0.9995940156861575, 0.9994170922297608, 1.0024717141415769, 0.984458975289855, 1.001331803610531, 0.9988775822184335, 1.0016702981579866, 1.0013351926545706, 0.03171006018785578, 0.20733500892059548, 0.3658853098598744, 0.3488106620664136, 0.04634547258225075, 1.021847159888316, 1.000252941697456, 0.9967348597557636, 1.001331803610531, 0.99967943502996, 1.018020087289729, 1.01204465892038, 0.4336379961636776, 0.5666001692034115, 0.9996172105951895, 1.0003893595465183, 0.9986205822886862, 0.9972110820012916, 1.0004973901002328, 1.003610928275683, 0.9178874951462483, 0.9773808214553963, 1.0293445080845058, 0.95203907824009, 0.9821082625339477, 0.008928256932126797, 0.008928256932126797, 1.0026993983293668, 0.9397108156581667, 0.9968174500505373, 1.0023842035235668, 0.94342042684571, 0.9996410806682217, 1.0001620664836277, 0.9971339704791872, 0.9905914032722902, 0.4835564460162741, 0.28245119510296385, 0.23273978476484222, 1.0035006566183984, 0.9558199171464745, 0.9863031938483642, 0.36511069674320157, 0.1651691247171626, 0.1506806050051308, 0.32019628563590297, 0.9970751075273873, 0.5331046981241381, 0.004759863376108375, 0.4617067474825124, 1.0023841782733351, 1.0057186013840216, 0.9996923869179826, 1.0094309845919476, 0.26995852733942427, 0.7008538690542745, 0.02595755070571387, 0.9965709147967918, 1.0003373163763567, 0.9981041737919769, 0.37379658167829516, 0.1317909944762788, 0.4443572468624975, 0.049567409426919014, 0.37425180863219754, 0.5319943064854379, 0.09278970461955312, 1.0048163738901776, 0.9841411638178822, 0.010251470456436273, 0.9988472227064596, 1.0039226888209722, 1.0001105935880943, 0.9338815505728743, 0.0025730151903911227, 0.9983298938717556, 0.35087367197119324, 0.0016950418935806437, 0.647506003347806, 0.9997440378014768, 0.9773807392047115, 0.9773807392047115, 1.0078764793555364, 0.8925122006384806, 0.10854878115873413, 0.012916102550949412, 0.9816237938721553, 1.0005471457400104, 0.9994775030137073, 0.9936340109210227, 0.9903054751531016, 0.016784838561916975, 1.0000844360377625, 1.0011194403691017, 0.9913568871689816, 0.012709703681653611, 0.9178874951462483, 1.031036559352999, 0.09022662708523489, 0.14401557784758645, 0.1049752103587829, 0.11018059269062337, 0.5500353997311435, 0.9990977771309766, 0.43495453031005266, 0.0011884003560383952, 0.19252085767822003, 0.0011884003560383952, 0.3695925107279409, 0.5612925543280717, 0.43861286560301727, 1.0187798632249314, 0.9397108156581667, 0.2407620636517529, 0.15015268485808245, 0.6096716773116968, 1.018020087289729, 0.9982871785144324, 1.002214381703944, 0.9918729412961625, 0.9996410806682217, 0.99979759266773, 0.18062877406271766, 0.37303768556430816, 0.24476507789658117, 0.20026233646083913, 1.0040745836503535, 1.006126240662205, 1.002214381703944, 1.0020693048674962, 0.1580771456402983, 0.8413783558273942, 0.997717993978129, 0.13938150205647448, 0.05807562585686436, 0.1103436891280423, 0.6881961664038427, 0.0029037812928432182, 1.0040070242620396, 1.0026738391411913, 0.999678504503798, 0.2254922503569783, 0.7726867778899124, 0.9973896215807091, 0.9773807392047115, 0.999160511074087, 0.0014565022027319052, 0.9969304879194576, 0.24635437016592893, 0.16956061387979146, 0.1265561103595545, 0.1505157623208294, 0.30717502514454975, 1.0039226888209722, 1.0040070242620396, 1.0030048485273255, 1.010807589279367, 0.014717110825102795, 0.9860464252818872, 0.021001500407768724, 0.9800700190292072, 0.9987428866511636, 0.9981055086911912, 0.95203907824009, 0.9397108156581667, 0.95203907824009, 0.9338815505728743, 0.9533515287840155, 0.9966291404193788, 0.9089103545140611, 0.08989223286402802, 0.9914855943135571, 1.0044239162713244, 1.0010191096434953, 1.0012131454096207, 1.0005471457400104, 0.9958875643781033, 0.9953135598391408, 0.9880671082643052, 0.010978523425158947, 0.9373059429440973, 1.0044806569970268, 1.006833001096525, 0.06638593189988662, 0.25825746678126626, 0.09472139063764311, 0.5804721118563257, 1.004912694096985, 0.95203907824009, 1.0042563315399566, 0.9990360815911883, 0.2174627285728471, 0.1957164557155624, 0.5871493671466872, 0.9966659100325943, 1.0003779986163766, 0.997244168620078, 0.9338815505728743, 0.01375597444278637, 0.9849277701035041, 0.16634868625035054, 0.28135518538639537, 0.13965074895091156, 0.37377112219214564, 0.03902006220687235, 0.015151540718936983, 0.9848501467309039, 0.7903234325272555, 0.20973968017069472, 0.9975329502352264, 1.0057186013840216, 0.9998087997301494, 0.09458178170150722, 0.9052827677144263, 0.1407282346232364, 0.11593030781737974, 0.3899473990220955, 0.05269559446244534, 0.30036488843593845, 1.0053525192452282, 1.0063155149488678, 0.988494233290648, 1.0220387957495192, 0.25441561764565623, 0.5159777414049544, 0.23011749685927332, 1.0053060016264461, 1.0044239162713244, 0.9970832553370655, 0.9934625165580852, 0.3610657878984556, 0.2668747127945107, 0.003488558337183146, 0.3697871837414135, 1.006833001096525, 1.0014650780744938, 1.0016562416456272, 0.95203907824009, 0.52642127597979, 0.4015403163495479, 0.0038424910655459133, 0.06916483917982644, 0.9999487080226793, 0.9558199171464745, 0.020690601719574996, 0.9828035816798123, 0.999268152533426, 1.002358196083861, 1.0008520921942354, 0.9989708019728614, 0.9987076937710537, 1.0039199698068677, 0.9949879288421343, 0.9940408732276368, 0.49787286496479427, 0.5011483443395627, 0.9987443017313166, 1.0023842035235668, 0.998287158439134, 0.6348344239581348, 0.0021890842205452925, 0.3633879806105186, 0.006039229018754438, 0.8817274367381479, 0.11474535135633432, 1.000025679662539, 0.12005971106407932, 0.16320616972773283, 0.42020898872427764, 0.29639741168944583, 1.0001354650663874, 0.9958326811433156, 1.0028776542063909, 0.9992192817578116, 1.0326234320395293, 0.9855147580763527, 0.998442753730792, 0.26651936194936704, 0.7342880380237663, 0.9773808214553963, 1.0026035483233147, 0.9987492328815833, 1.0033133840135249, 0.9986594420276145, 0.023585777339671866, 0.39758881801161144, 0.5761668464405556, 1.0009380672872696, 0.9621096075269312, 0.03919705808443053, 0.9991394029698879, 0.9972110820012916, 1.0026993983293668, 0.998202671315599, 0.9866110207124221, 0.9872462568708166, 0.21402817627437867, 0.7603632578168715, 0.02252928171309249, 0.9558199171464745, 0.9924416179506281, 0.4783504130711198, 0.521005863918226, 0.37131517481030507, 0.6300380062910338, 0.9533515287840155, 0.44590963076008866, 0.37273471699433053, 0.17607713624885551, 0.002286716055179942, 0.9904801041309347, 0.010317501084697237, 0.9520391244459254, 0.9958875999790855, 1.0059041112907567, 0.709567965000929, 0.29047938567225534, 0.9397108010234233, 0.0008102640060578643, 0.232950901741636, 0.7665097497307396, 0.9773808153375763, 0.9397108361468086, 0.9178874951462483, 0.9537240158957618, 0.9951147060812563, 0.017174511861217247, 0.7599721498588632, 0.0729916754101733, 0.1502769787856509, 1.0030579901622638, 1.0098253758408442, 0.10382572288342899, 0.2307238286298422, 0.6633310073107963, 0.002884047857873027, 1.0098253758408442, 1.0039200010905427, 1.0039199698068677, 0.0182412543082875, 0.13376919826077502, 0.7174893361259751, 0.13072898920939377, 0.9969465864953163, 1.0026628338398145, 1.003153439607145, 0.9995746312035889, 0.9997929700664457, 0.9998523052442999, 0.9918729412961625, 1.0014771069209978, 0.9973273197824617, 0.1956205658432849, 0.4531211065961803, 0.3499878150801628, 0.0013307521485937748, 1.0004962195869835, 1.0039685312338849, 0.9070479018764724, 0.09238450852445552, 0.8724571416117951, 0.12575958798007858, 0.9537240158957617, 1.0327974515109755, 0.13680509246110045, 0.8599177240412029, 0.2970072089686954, 0.4038773525931929, 0.0006556450529110274, 0.2530789904236566, 0.04523950865086089, 0.07020193470898099, 0.5914714728929088, 0.3380989729087705, 0.010203009985856487, 0.9896919686280793, 0.9178875138534244, 0.9851299638281681, 0.00915969808391763, 0.989247393063104, 0.9537240158957617, 1.001331803610531, 1.001331803610531, 0.406809663885804, 0.5948309371103352, 1.0005974540332156, 1.0057186013840216, 0.9537240158957617, 0.9397108156581667, 0.013676614150054995, 0.6747129647360464, 0.30772381837623736, 0.0022794356916758323, 0.026684362622228723, 0.9739792357113484, 1.0026993983293668, 0.28060865233109933, 0.15724509619792254, 0.2675772907677356, 0.12162604125806163, 0.17288273007395905, 0.9987783818851222, 0.9996410806682215, 1.0002881672399395, 0.9945232111132928, 0.8016197643432437, 0.19349442587595536, 0.7480024985166357, 0.2230884644698738, 0.026245701702338094, 1.0018835303665936, 1.003610928275683, 1.0049685233630195, 0.9994651844869121, 0.7667122345924776, 0.23351641662715056, 0.9981384677862801, 0.004183803838632499, 0.7614522986311149, 0.004183803838632499, 0.004183803838632499, 0.22592540728615498, 0.9905133903475382, 0.009971611312223539, 0.9981699443597435, 0.999793015814403, 0.11360003498414069, 0.32800010101054705, 0.43680013451648464, 0.12160003744781257, 0.9537240158957618, 0.9965879668869662, 0.943420396290808, 1.0129359993330165, 0.9558199171464745, 0.051045885166806894, 0.951309678108674, 1.0115415206300957, 0.9855147580763527, 0.9397108156581667, 0.9958219496246239, 0.9969816347165344, 0.9988986357581919, 0.998480038434593, 1.018020087289729, 0.9558199171464745, 1.0002377075575717, 0.17563495561270792, 0.021707691143143675, 0.7380614988668849, 0.06512307342943102, 0.005995276270963941, 0.9952158609800144, 0.253188173416843, 0.12216772004029489, 0.6250029735394796], \"Term\": [\"ability\", \"ability\", \"ability\", \"ability\", \"abstract\", \"access\", \"accessible\", \"accommodate\", \"accuracy\", \"accuracy\", \"accurate\", \"accurate\", \"accurate\", \"achieve\", \"achieve\", \"achievement\", \"acquisition\", \"activity\", \"activity\", \"ad\", \"adaptive\", \"address\", \"address\", \"address\", \"advance\", \"advance\", \"advance\", \"advance\", \"adverse\", \"adverse\", \"affair\", \"age\", \"ahead\", \"ai\", \"aim\", \"aim\", \"aim\", \"algorithm\", \"algorithm\", \"algorithm\", \"algorithm\", \"align\", \"alzheimer\", \"american\", \"amount\", \"analysis\", \"analysis\", \"analysis\", \"analytic\", \"analytic\", \"analytical\", \"ann\", \"anns\", \"anns\", \"antibiotic\", \"anticipated\", \"apm\", \"application\", \"application\", \"application\", \"apply\", \"apply\", \"apply\", \"appraise\", \"approach\", \"approach\", \"approach\", \"approach\", \"approach\", \"approach\", \"appropriately\", \"architecture\", \"argue\", \"art\", \"art\", \"article\", \"article\", \"artificial\", \"artificial_intelligence\", \"artificial_intelligence\", \"assay\", \"assessment\", \"assessment\", \"assessment\", \"associate\", \"associate\", \"associate\", \"atrisk\", \"attack\", \"attentional\", \"attract\", \"automation\", \"average\", \"background\", \"balanced\", \"base\", \"base\", \"base\", \"base\", \"base\", \"bd\", \"behavior\", \"behavioral\", \"benchmark\", \"benefit\", \"benefit\", \"big\", \"bind\", \"biochemical\", \"biological\", \"biological\", \"biological\", \"biologically\", \"biology\", \"biology\", \"biomarker\", \"biomedical\", \"biomedical\", \"biospectroscopy\", \"bipolar\", \"black_box\", \"body\", \"body\", \"boost\", \"boulesteix\", \"brain\", \"brain\", \"breakthrough\", \"breast_cancer\", \"bridge\", \"building\", \"cad\", \"cancer\", \"cancer\", \"candidate\", \"capability\", \"capability\", \"cardiac\", \"cardiac\", \"cardiology\", \"cardiovascular\", \"cardiovascular\", \"care\", \"cartilage\", \"cartographic\", \"categorization\", \"causal\", \"cell\", \"cellular\", \"challenge\", \"challenge\", \"challenge\", \"challenge\", \"chemical\", \"chemistry\", \"chir\", \"choice\", \"ci\", \"circuitry\", \"cisregulatory\", \"claim\", \"classical\", \"classification\", \"classification\", \"classifier\", \"classifier\", \"clinic\", \"clinical\", \"clinical\", \"clinical\", \"clinical\", \"clinical\", \"clue\", \"clustering\", \"cnns\", \"cocomplex\", \"coexpression\", \"cognitive\", \"cohort\", \"collection\", \"collection\", \"collection\", \"collection\", \"combine\", \"combine\", \"combine\", \"combine\", \"commercial\", \"companion\", \"compare\", \"compare\", \"compare\", \"complex\", \"complex\", \"complex\", \"compound\", \"comppass\", \"comprehensive\", \"comprehensive\", \"comprehensive\", \"computational\", \"compute\", \"computer\", \"computer_vision\", \"computeraided\", \"computerbase\", \"computerized\", \"computing\", \"concept\", \"concept\", \"conceptual\", \"conceptually\", \"concise\", \"conclusion\", \"conduct\", \"conjunction\", \"connectomic\", \"considerably\", \"consortium\", \"contagious\", \"conventional\", \"conventional\", \"conventional\", \"convolutional_neural\", \"convolutional_neural\", \"coreference\", \"corpus\", \"costly\", \"country\", \"covid\", \"covid_pandemic\", \"criterion\", \"criterion\", \"crowdsourcing\", \"ct\", \"current\", \"current\", \"current\", \"current\", \"cys\", \"cytological\", \"data\", \"database\", \"database\", \"datadriven\", \"datadriven\", \"dataset\", \"dataset\", \"dcomp\", \"deamidate\", \"decade\", \"decade\", \"decade\", \"decision\", \"decision\", \"decisionmaking\", \"decontaminator\", \"deep\", \"deficit\", \"dense\", \"depress\", \"depressed\", \"depression\", \"describe\", \"describe\", \"describe\", \"describe\", \"describe\", \"descriptor\", \"design\", \"design\", \"detection\", \"detection\", \"develop\", \"develop\", \"develop\", \"develop\", \"development\", \"development\", \"development\", \"development\", \"development\", \"device\", \"diagnosis\", \"diagnostic\", \"diagnostic\", \"dialysis\", \"diego\", \"difference\", \"difference\", \"digital\", \"digitize\", \"dimensional\", \"dimensionality_reduction\", \"direction\", \"discovery\", \"discovery\", \"discrete\", \"discuss\", \"discuss\", \"discuss\", \"discuss\", \"discuss\", \"discussion\", \"disease\", \"disease\", \"diseaserelevant\", \"disorder\", \"distinguish\", \"dl\", \"dna\", \"dock\", \"docking\", \"document\", \"dramatically\", \"drive\", \"drive\", \"drug\", \"drug_discovery\", \"drugdrug\", \"dynamic\", \"dynamic\", \"early\", \"early\", \"early\", \"ecm\", \"education\", \"eeg\", \"eeg\", \"effect\", \"effect\", \"effect\", \"efficiency\", \"efficient\", \"efficient\", \"efficiently\", \"ehr\", \"electronic\", \"electronic_health\", \"element\", \"emotion\", \"emphasis\", \"enable\", \"enable\", \"enable\", \"enable\", \"energy\", \"energy\", \"enormous\", \"enrich\", \"enrichment\", \"entity\", \"environmental\", \"epigenetic\", \"epilepsy\", \"epilepsy\", \"equivalence\", \"ethic\", \"ethical\", \"evaluate\", \"event\", \"experimental\", \"experimentalist\", \"expert\", \"expert\", \"exploitation\", \"expose\", \"expressionbased\", \"extracellular\", \"extrapolability\", \"factor\", \"fall\", \"familiar\", \"feature\", \"feature\", \"feature\", \"feature\", \"feature_extraction\", \"fib\", \"fibulin\", \"field\", \"field\", \"filtering\", \"finally\", \"finally\", \"finally\", \"finally\", \"find\", \"find\", \"find\", \"finding\", \"finding\", \"firstly\", \"fluid\", \"focus\", \"focus\", \"focus\", \"focus\", \"follistatinlike\", \"follow\", \"food\", \"foreseeable\", \"form\", \"formulation\", \"fragment\", \"fragmentbase\", \"framework\", \"framework\", \"frequently\", \"ftir\", \"fulfill\", \"funcoup\", \"function\", \"function\", \"functional\", \"functional\", \"functional\", \"future\", \"future\", \"future\", \"gan\", \"gene\", \"gene\", \"genephenotype\", \"generate\", \"generate\", \"generate\", \"genetic\", \"genetic\", \"genomewide_association\", \"genomic\", \"genomics\", \"give\", \"give\", \"give\", \"good\", \"good\", \"good\", \"growth\", \"handle\", \"health\", \"healthcare\", \"healthcare\", \"healthy\", \"heart\", \"heart_failure\", \"heterogeneity\", \"hierarchical\", \"high\", \"high\", \"high\", \"highcost\", \"highlight\", \"highlight\", \"highlight\", \"highlight\", \"highlight\", \"histological\", \"hostpathogen\", \"human\", \"human\", \"hybrid\", \"hypertension\", \"hypo\", \"identification\", \"identification\", \"identification\", \"identify\", \"identify\", \"identify\", \"illustration\", \"image\", \"imaging\", \"impact\", \"impact\", \"implementation\", \"implementation\", \"implicate\", \"important\", \"important\", \"important\", \"important\", \"important\", \"important\", \"improve\", \"improve\", \"improve\", \"include\", \"include\", \"include\", \"include\", \"include\", \"include\", \"include\", \"inclusion\", \"increase\", \"increase\", \"increase\", \"increase\", \"increase\", \"index\", \"individual\", \"individual\", \"industrial\", \"informatic\", \"information\", \"information\", \"information\", \"information\", \"information\", \"infrared\", \"inheritance\", \"innovative\", \"input\", \"input\", \"insilico\", \"institute\", \"instrumentation\", \"intact\", \"integral_part\", \"integrate\", \"integrate\", \"integration\", \"integration\", \"integrative\", \"intelligence\", \"interaction\", \"interface\", \"intervention\", \"intervention\", \"introduce\", \"introduce\", \"introduce\", \"introduction\", \"introduction\", \"issue\", \"issue\", \"issue\", \"journal\", \"key\", \"key\", \"key\", \"key\", \"key\", \"key\", \"keywords\", \"knowledge\", \"knowledge\", \"knowledgeable\", \"labelfree\", \"laboratory\", \"language\", \"large\", \"large\", \"large\", \"largescale\", \"largescale\", \"largescale\", \"layer\", \"layer\", \"learn\", \"learn\", \"learn\", \"learning\", \"lesion\", \"lesson\", \"level\", \"level\", \"level\", \"level\", \"level\", \"life\", \"life\", \"ligand\", \"limitation\", \"limitation\", \"limitation\", \"limitation\", \"literature\", \"literature\", \"liver\", \"liver\", \"local\", \"lung\", \"mac\", \"machine\", \"machine\", \"machine\", \"machine\", \"magnetic_resonance\", \"make\", \"make\", \"make\", \"malignancy\", \"management\", \"management\", \"management\", \"mandate\", \"map\", \"mapping\", \"marker\", \"massive\", \"material\", \"mathematic\", \"mathematical\", \"measure\", \"measure\", \"measure\", \"measurement\", \"measurement\", \"mechanism\", \"mechanism\", \"mechanism\", \"medical\", \"medical\", \"medication\", \"medicine\", \"medium\", \"memory\", \"metaanalysis\", \"metaanalysis\", \"metabolic\", \"metabolomic\", \"metabolomic\", \"method\", \"method\", \"method\", \"metric\", \"microbial\", \"microbiology\", \"microbiome\", \"mining\", \"mining\", \"minireview\", \"mint\", \"mirna\", \"mitarbeiter\", \"mitochondrial\", \"ml\", \"ml\", \"mlbased\", \"mobile\", \"modality\", \"model\", \"model\", \"model\", \"model\", \"modeling\", \"modeling\", \"modeling\", \"modelling\", \"modelling\", \"molecular\", \"molecular\", \"molecular_docking\", \"molecule\", \"monitor\", \"monitoring\", \"motivation\", \"motor\", \"movement\", \"mri\", \"multiomics\", \"multiple\", \"multiple\", \"multiple\", \"multiple\", \"multiple\", \"multitask\", \"multivariate\", \"mutation\", \"natural\", \"nature\", \"necessitate\", \"necessity\", \"network\", \"network\", \"neural\", \"neural_network\", \"neuroimaging\", \"neuron\", \"neuroscience\", \"nextgeneration\", \"ninetyeight\", \"noncoding\", \"nondestructive\", \"nonenzyme\", \"noninvasive\", \"noninvasive\", \"noninvasive\", \"normal\", \"noun\", \"nuclear\", \"oa\", \"oarsi\", \"objective\", \"omic\", \"oncology\", \"onset\", \"opportunity\", \"opportunity\", \"opportunity\", \"original\", \"orthogonal\", \"osteoarthritis\", \"outcome\", \"outcome\", \"outcome\", \"outcome\", \"outperform\", \"overview\", \"overview\", \"overview\", \"pain\", \"pandemic\", \"paper\", \"paradigm_shift\", \"parameter\", \"parameter\", \"parameter\", \"parkinson\", \"past\", \"pathology\", \"patient\", \"patient\", \"patient\", \"patient\", \"pattern\", \"pattern\", \"pattern\", \"pattern_recognition\", \"pd\", \"pd\", \"pediatric\", \"people\", \"peptide\", \"perceivable\", \"perform\", \"perform\", \"performance\", \"performance\", \"performance\", \"personalize\", \"pharmacokinetic\", \"pharmacophore\", \"phenomenon\", \"phenotype\", \"phenotype\", \"phenotyping\", \"phenotyping\", \"physician\", \"physiological\", \"pitfall\", \"place\", \"place\", \"planning\", \"plant\", \"popular\", \"popular\", \"posteriori\", \"postprocessing\", \"potential\", \"potential\", \"potential\", \"potential\", \"potential\", \"practice\", \"predict\", \"predict\", \"predict\", \"predict\", \"predict\", \"prediction\", \"prediction\", \"preference\", \"preppi\", \"present\", \"present\", \"present\", \"press\", \"prevention\", \"privacy\", \"pro\", \"probability\", \"problem\", \"process\", \"process\", \"process\", \"process\", \"product\", \"production\", \"professional\", \"profiling\", \"prognosis\", \"prognosis\", \"prognostic\", \"progress\", \"progress\", \"progress\", \"progress\", \"progress\", \"progression\", \"project\", \"property\", \"propose\", \"propose\", \"prostate\", \"protease\", \"protein\", \"protein\", \"proteomic\", \"provide\", \"provide\", \"provide\", \"provide\", \"provide\", \"provider\", \"psychiatric\", \"psychiatry\", \"psychosis\", \"public\", \"public\", \"publication\", \"publication\", \"publish\", \"pubmed\", \"purely\", \"qdgr\", \"qdgrs\", \"qhts\", \"qualityoflife\", \"quantification\", \"quantitative\", \"quantitative\", \"radiation\", \"radiation_oncology\", \"radiology\", \"radiomic\", \"radiotherapy\", \"raman_spectroscopy\", \"random_forest\", \"reaction\", \"reaction\", \"reaffirm\", \"reason\", \"reasonable\", \"recent\", \"recent\", \"recent\", \"recent\", \"receptor\", \"receptorbase\", \"reconstruction\", \"record\", \"reduce\", \"reduce\", \"reduce\", \"regression\", \"regulation\", \"rehabilitation\", \"reinvestment\", \"report\", \"report\", \"require\", \"require\", \"require\", \"require\", \"require\", \"research\", \"research\", \"researcher\", \"researcher\", \"resistance\", \"respiratory\", \"response\", \"result\", \"result\", \"review\", \"review\", \"review\", \"review\", \"review\", \"revolution\", \"revolutionize\", \"reward\", \"rheumatoid_arthritis\", \"risk\", \"risk\", \"risk\", \"rna\", \"robot\", \"robotic\", \"robustness\", \"role\", \"role\", \"role\", \"role\", \"rulebased\", \"safety\", \"schizophrenia\", \"schizophrenic\", \"science\", \"science\", \"science\", \"science\", \"scientific\", \"sciverse\", \"scope\", \"scope\", \"search\", \"section\", \"segmentation\", \"seizure\", \"select\", \"semisupervised\", \"sensing\", \"sensitivity_specificity\", \"sensor\", \"sensor\", \"sequence\", \"serum\", \"service\", \"set\", \"set\", \"set\", \"setting\", \"setting\", \"setting\", \"severity\", \"show\", \"show\", \"show\", \"show\", \"signal\", \"signature\", \"silico\", \"simple\", \"simplicity\", \"simulate\", \"simulation\", \"single\", \"single\", \"single_nucleotide\", \"site\", \"skill\", \"skin\", \"social\", \"solution\", \"solution\", \"solution\", \"solve\", \"source\", \"source\", \"sparse\", \"spatial\", \"spectral\", \"speech\", \"speech_recognition\", \"spread\", \"stage\", \"stage\", \"stage\", \"staggering\", \"standardization\", \"state\", \"state\", \"statistical\", \"statistical\", \"strainlevel\", \"strategy\", \"strategy\", \"strategy\", \"strategy\", \"stress\", \"stress\", \"string\", \"stroke\", \"strong\", \"structure\", \"structure\", \"struggle\", \"study\", \"study\", \"study\", \"subcellular_localization\", \"submission\", \"subroutine\", \"subthreshold\", \"subtype\", \"suggest\", \"suggest\", \"suggest\", \"suggest\", \"suicide\", \"suited\", \"summarize\", \"summarize\", \"summarize\", \"summarize\", \"superior\", \"supervise\", \"supervised\", \"support\", \"support\", \"support\", \"support\", \"support_vector\", \"surgeon\", \"surgery\", \"surgical\", \"surrogate\", \"survey\", \"svms\", \"symptom\", \"synthesis\", \"system\", \"system\", \"system\", \"system\", \"systematic\", \"systematically\", \"target\", \"target\", \"task\", \"task\", \"tca\", \"teach\", \"technical\", \"technical\", \"technique\", \"technique\", \"technique\", \"technique\", \"technique\", \"technology\", \"technology\", \"technology\", \"temporal\", \"temporal\", \"temporally\", \"terminology\", \"testing\", \"testing\", \"textmine\", \"theoretical\", \"theory\", \"therapeutic\", \"therapeutic\", \"therapy\", \"threat\", \"throughput\", \"tidy\", \"time\", \"time\", \"time\", \"time\", \"tissue\", \"tissue\", \"tomography\", \"tool\", \"tool\", \"tool\", \"tool\", \"tool\", \"topic\", \"total\", \"toxicity\", \"track\", \"train\", \"train\", \"training\", \"training\", \"training\", \"trait\", \"transcriptomic\", \"translational\", \"treat\", \"treatment\", \"treatment\", \"trend\", \"trial\", \"trial\", \"trial\", \"trial\", \"trial\", \"tumor\", \"tumor\", \"tumour\", \"ultrasound\", \"understand\", \"understand\", \"understand\", \"understand\", \"unlabeled\", \"unsupervised\", \"urine\", \"usability\", \"va\", \"validation\", \"validation\", \"variable_selection\", \"vector\", \"veteran\", \"virtual_screening\", \"vital\", \"wearable\", \"web\", \"website\", \"weigh\", \"wide\", \"work\", \"work\", \"work\", \"work\", \"workflow\", \"workflow\", \"year\", \"year\", \"year\"]}, \"R\": 30, \"lambda.step\": 0.01, \"plot.opts\": {\"xlab\": \"PC1\", \"ylab\": \"PC2\"}, \"topic.order\": [1, 2, 3, 4, 5, 6, 7, 8, 9, 10]};\n",
       "\n",
       "function LDAvis_load_lib(url, callback){\n",
       "  var s = document.createElement('script');\n",
       "  s.src = url;\n",
       "  s.async = true;\n",
       "  s.onreadystatechange = s.onload = callback;\n",
       "  s.onerror = function(){console.warn(\"failed to load library \" + url);};\n",
       "  document.getElementsByTagName(\"head\")[0].appendChild(s);\n",
       "}\n",
       "\n",
       "if(typeof(LDAvis) !== \"undefined\"){\n",
       "   // already loaded: just create the visualization\n",
       "   !function(LDAvis){\n",
       "       new LDAvis(\"#\" + \"ldavis_el156581403463877531043980795632\", ldavis_el156581403463877531043980795632_data);\n",
       "   }(LDAvis);\n",
       "}else if(typeof define === \"function\" && define.amd){\n",
       "   // require.js is available: use it to load d3/LDAvis\n",
       "   require.config({paths: {d3: \"https://d3js.org/d3.v5\"}});\n",
       "   require([\"d3\"], function(d3){\n",
       "      window.d3 = d3;\n",
       "      LDAvis_load_lib(\"https://cdn.jsdelivr.net/gh/bmabey/pyLDAvis@3.3.1/pyLDAvis/js/ldavis.v3.0.0.js\", function(){\n",
       "        new LDAvis(\"#\" + \"ldavis_el156581403463877531043980795632\", ldavis_el156581403463877531043980795632_data);\n",
       "      });\n",
       "    });\n",
       "}else{\n",
       "    // require.js not available: dynamically load d3 & LDAvis\n",
       "    LDAvis_load_lib(\"https://d3js.org/d3.v5.js\", function(){\n",
       "         LDAvis_load_lib(\"https://cdn.jsdelivr.net/gh/bmabey/pyLDAvis@3.3.1/pyLDAvis/js/ldavis.v3.0.0.js\", function(){\n",
       "                 new LDAvis(\"#\" + \"ldavis_el156581403463877531043980795632\", ldavis_el156581403463877531043980795632_data);\n",
       "            })\n",
       "         });\n",
       "}\n",
       "</script>"
      ],
      "text/plain": [
       "PreparedData(topic_coordinates=              x         y  topics  cluster       Freq\n",
       "topic                                                \n",
       "0     -0.053126  0.273344       1        1  10.438649\n",
       "1     -0.302609 -0.065250       2        1   9.855878\n",
       "2      0.248256  0.070945       3        1  10.173793\n",
       "3      0.091546 -0.105430       4        1   9.688042\n",
       "4      0.055994  0.216831       5        1   9.400345\n",
       "5     -0.056153  0.072947       6        1  10.110135\n",
       "6     -0.163434 -0.091930       7        1   9.822888\n",
       "7      0.231897 -0.160691       8        1   9.914219\n",
       "8     -0.010895 -0.252840       9        1   9.804800\n",
       "9     -0.041474  0.042073      10        1  10.791250, topic_info=         Term         Freq        Total Category  logprob  loglift\n",
       "30       data  4426.000000  4426.000000  Default  30.0000  30.0000\n",
       "71    machine  4356.000000  4356.000000  Default  29.0000  29.0000\n",
       "201  learning  3059.000000  3059.000000  Default  28.0000  28.0000\n",
       "68      learn  2434.000000  2434.000000  Default  27.0000  27.0000\n",
       "108     study  2468.000000  2468.000000  Default  26.0000  26.0000\n",
       "..        ...          ...          ...      ...      ...      ...\n",
       "58   identify   431.704964  1056.557081  Topic10  -4.3963   1.3314\n",
       "513   predict   310.911605   841.467267  Topic10  -4.7245   1.2308\n",
       "61    include   365.531219  1426.446057  Topic10  -4.5627   0.8648\n",
       "6        base   310.911605   951.747275  Topic10  -4.7245   1.1076\n",
       "345      high   234.234082   592.599675  Topic10  -5.0077   1.2982\n",
       "\n",
       "[828 rows x 6 columns], token_table=      Topic      Freq      Term\n",
       "term                           \n",
       "399       2  0.599530   ability\n",
       "399       3  0.145341   ability\n",
       "399       5  0.003634   ability\n",
       "399       9  0.250712   ability\n",
       "2962     10  0.998861  abstract\n",
       "...     ...       ...       ...\n",
       "1753      4  0.005995  workflow\n",
       "1753      9  0.995216  workflow\n",
       "597       2  0.253188      year\n",
       "597       3  0.122168      year\n",
       "597       7  0.625003      year\n",
       "\n",
       "[1119 rows x 3 columns], R=30, lambda_step=0.01, plot_opts={'xlab': 'PC1', 'ylab': 'PC2'}, topic_order=[1, 2, 3, 4, 5, 6, 7, 8, 9, 10])"
      ]
     },
     "execution_count": 27,
     "metadata": {},
     "output_type": "execute_result"
    }
   ],
   "source": [
    "converted_model = ldaMalletConvertToldaGen(ldamallet)\n",
    "pyLDAvis.enable_notebook()\n",
    "plot = gensimvis.prepare(converted_model, corpus, id2word, sort_topics=False)\n",
    "# Save pyLDA plot as html file\n",
    "pyLDAvis.save_html(plot, '../figures/pubmed_LDAmallet_TDS10.html')\n",
    "plot"
   ]
  },
  {
   "cell_type": "markdown",
   "id": "7778de4e-6b70-4ecd-8953-f12030d47cfe",
   "metadata": {},
   "source": [
    "#### Compute Optimal Number of Topics Based on Coherence"
   ]
  },
  {
   "cell_type": "code",
   "execution_count": 28,
   "id": "43804a00-cc50-4dde-9110-837ffad8e059",
   "metadata": {},
   "outputs": [],
   "source": [
    "# an adapted version of a function to compute coherence values over a range of total topic numbers\n",
    "# https://github.com/RaRe-Technologies/gensim/issues/2500\n",
    "\n",
    "def compute_coherence_values(dictionary, all_corpus, texts, limit, start=2, step=2):\n",
    "    coherence_values = []\n",
    "    model_list = []\n",
    "    num_topics_list = []\n",
    "\n",
    "    for num_topics in range(start, limit, step):\n",
    "        model = gensim.models.wrappers.LdaMallet(mallet_path, corpus=all_corpus, num_topics=num_topics, id2word=dictionary,\n",
    "                                         random_seed=42)\n",
    "        #model = gensim.models.ldamodel.LdaModel(corpus=all_corpus,num_topics=num_topics,id2word=dictionary,eval_every=1,\n",
    "        #                                        alpha='auto',random_state=42)\n",
    "        model_list.append(model)\n",
    "        coherencemodel = CoherenceModel(model=model, texts=texts, dictionary=dictionary, coherence='c_v')\n",
    "        coherence_values.append(coherencemodel.get_coherence())\n",
    "        num_topics_list.append(num_topics)\n",
    "        joblib.dump(model,f'stored_models/ldamallet_model{num_topics}_big.pkl')\n",
    "        joblib.dump(id2word,f'stored_models/id2word_dictionary_mallet{num_topics}_big.pkl')\n",
    "\n",
    "    return model_list, coherence_values, num_topics_list"
   ]
  },
  {
   "cell_type": "code",
   "execution_count": 29,
   "id": "bfda3f84-d466-4bd0-b5ce-1aa2c7dd9549",
   "metadata": {},
   "outputs": [],
   "source": [
    "# calculate coherence values over the specific range of numbers of topics\n",
    "\n",
    "model_list, coherence_values, num_topics_list = compute_coherence_values(dictionary=id2word,all_corpus=corpus,\n",
    "                                                                         texts=data_words_bigrams,start=4,limit=30, step=2)\n",
    "\n",
    "#store the results in a dataframe\n",
    "model_values_df = pd.DataFrame({'model_list':model_list,'coherence_values':coherence_values,'num_topics':num_topics_list})\n",
    "\n",
    "#find the number of topics that corresponds to the maximum coherence value\n",
    "optimal_num_topics = model_values_df.loc[model_values_df['coherence_values'].idxmax()]['num_topics']\n",
    "\n",
    "#save this as as the optimal model\n",
    "optimal_model = gensim.models.wrappers.LdaMallet(mallet_path, corpus=corpus, num_topics=optimal_num_topics, id2word=id2word, random_seed=42)"
   ]
  },
  {
   "cell_type": "code",
   "execution_count": 30,
   "id": "5f61a6bb-21e3-4171-984e-4e3df08b994d",
   "metadata": {},
   "outputs": [
    {
     "data": {
      "text/plain": [
       "['optimal_ldamallet_model_big.pkl']"
      ]
     },
     "execution_count": 30,
     "metadata": {},
     "output_type": "execute_result"
    }
   ],
   "source": [
    "#save optimal models\n",
    "joblib.dump(id2word, f'stored_models/id2word_dictionary_mallet_big.pkl')\n",
    "joblib.dump(optimal_model,f'optimal_ldamallet_model_big.pkl')"
   ]
  },
  {
   "cell_type": "code",
   "execution_count": 31,
   "id": "d1877021-5cce-40c4-9fee-457bed2f2289",
   "metadata": {},
   "outputs": [
    {
     "data": {
      "image/png": "[encoded data removed]",
      "text/plain": [
       "<Figure size 432x288 with 1 Axes>"
      ]
     },
     "metadata": {
      "needs_background": "light"
     },
     "output_type": "display_data"
    }
   ],
   "source": [
    "# Show coherence values graph\n",
    "limit=30; start=4; step=2;\n",
    "x = range(start, limit, step)\n",
    "plt.plot(x, coherence_values)\n",
    "plt.xlabel(\"Num Topics\")\n",
    "plt.ylabel(\"Coherence score\")\n",
    "plt.xticks(ticks=range(4,30,2))\n",
    "plt.legend((\"coherence_values\"), loc='best')\n",
    "plt.show()"
   ]
  },
  {
   "cell_type": "markdown",
   "id": "2709823e-114f-42fe-b967-0fbfe9d08988",
   "metadata": {},
   "source": [
    "The coherence peaks at 12 topics"
   ]
  },
  {
   "cell_type": "markdown",
   "id": "8a9b825b-462f-4188-b7f4-8f4a97fbe4c0",
   "metadata": {},
   "source": [
    "### Create & Visualize Model with Optimal Number of Topics"
   ]
  },
  {
   "cell_type": "markdown",
   "id": "e531848f-655d-4c2f-a660-e1abeeebd362",
   "metadata": {},
   "source": [
    "#### LDA Mallet Model: 12 Topics"
   ]
  },
  {
   "cell_type": "code",
   "execution_count": 32,
   "id": "528f2fa7-cc8e-492a-a263-f3429c7e0110",
   "metadata": {},
   "outputs": [
    {
     "name": "stdout",
     "output_type": "stream",
     "text": [
      "\n",
      "Coherence Score:  0.47019433947059514\n"
     ]
    }
   ],
   "source": [
    "# Compute Coherence Score\n",
    "coherence_model_lda = CoherenceModel(model=optimal_model, texts=data_words_bigrams, dictionary=id2word, coherence='c_v')\n",
    "coherence_lda = coherence_model_lda.get_coherence()\n",
    "print('\\nCoherence Score: ', coherence_lda)"
   ]
  },
  {
   "cell_type": "code",
   "execution_count": 33,
   "id": "b3ea83d4-ae98-4a74-b844-7f7e855e51ec",
   "metadata": {},
   "outputs": [
    {
     "data": {
      "text/html": [
       "\n",
       "<link rel=\"stylesheet\" type=\"text/css\" href=\"https://cdn.jsdelivr.net/gh/bmabey/pyLDAvis@3.3.1/pyLDAvis/js/ldavis.v1.0.0.css\">\n",
       "\n",
       "\n",
       "<div id=\"ldavis_el156581403439660506725122133585\"></div>\n",
       "<script type=\"text/javascript\">\n",
       "\n",
       "var ldavis_el156581403439660506725122133585_data = {\"mdsDat\": {\"x\": [0.01718815935713082, 0.1654490099952401, 0.13699063347102505, -0.20587545198778162, 0.02143269455124915, 0.05418348643257361, -0.058977117959344974, 0.009163521380862438, 0.2629148814267007, -0.2621785210954675, 0.07406009531101013, -0.21435139088319807], \"y\": [-0.03097651166232801, -0.11649037148703173, 0.0475976135952047, -0.22316631042228424, -0.20848694559753486, 0.16856054258466457, 0.09568584054967197, 0.04620803429052141, -0.11761260897778855, -0.051480712391882816, 0.23907665272363976, 0.1510847767951482], \"topics\": [1, 2, 3, 4, 5, 6, 7, 8, 9, 10, 11, 12], \"cluster\": [1, 1, 1, 1, 1, 1, 1, 1, 1, 1, 1, 1], \"Freq\": [8.023272994774395, 7.848003780198347, 8.785021482673091, 8.367324029100798, 8.054700825731247, 8.182158507334107, 8.290137162438343, 8.440491950208056, 8.475366315512934, 8.092601852748876, 8.4919324048871, 8.9489886943927]}, \"tinfo\": {\"Term\": [\"machine\", \"data\", \"learning\", \"learn\", \"model\", \"study\", \"method\", \"patient\", \"image\", \"system\", \"prediction\", \"imaging\", \"analysis\", \"deep\", \"application\", \"clinical\", \"technique\", \"drug\", \"artificial_intelligence\", \"disease\", \"computational\", \"technology\", \"cancer\", \"health\", \"algorithm\", \"review\", \"ml\", \"research\", \"protein\", \"result\", \"existence\", \"space\", \"property\", \"probe\", \"uncharacterise\", \"million\", \"chemical\", \"design\", \"drug_discovery\", \"highcost\", \"modeling\", \"quantitative_relationship\", \"silico\", \"toxicity\", \"toxicological\", \"toxicology\", \"vivo\", \"molecule\", \"series\", \"hypo\", \"surplus\", \"orthogonal\", \"dock\", \"drug\", \"invigorate\", \"ligand\", \"solvation\", \"virtual_screening\", \"combat\", \"micro\", \"compound\", \"material\", \"simulation\", \"optimization\", \"mathematical\", \"active\", \"synthesis\", \"reaction\", \"agent\", \"descriptor\", \"chemistry\", \"repurpose\", \"engineering\", \"pharmaceutical\", \"engineer\", \"inhibitor\", \"natural_product\", \"qsar\", \"exploration\", \"discovery\", \"development\", \"target\", \"therapeutic\", \"molecular\", \"assay\", \"highlight\", \"computational\", \"strategy\", \"process\", \"recent\", \"model\", \"approach\", \"activity\", \"effort\", \"advance\", \"focus\", \"develop\", \"discuss\", \"potential\", \"lead\", \"method\", \"mass_spectrometry\", \"cisregulatory\", \"interaction\", \"protein\", \"regulate\", \"transcription\", \"amino_acid\", \"calpain\", \"cleavage\", \"cys\", \"defect\", \"lethality\", \"organism\", \"protease\", \"scoringmatrix\", \"site\", \"substrate\", \"unknown\", \"fold\", \"stability\", \"partner\", \"epitope\", \"extracellular\", \"mac\", \"modification\", \"oligomeric\", \"peptide\", \"affinity\", \"annotation\", \"compartment\", \"sequence\", \"bind\", \"mirna\", \"receptor\", \"rna\", \"metabolism\", \"composition\", \"mass\", \"benchmark\", \"enzyme\", \"dna\", \"antimicrobial\", \"bacterial\", \"encode\", \"costly\", \"drugtarget_interaction\", \"residue\", \"amp\", \"regulation\", \"membrane\", \"identification\", \"function\", \"family\", \"structure\", \"prediction\", \"computational\", \"experimental\", \"play\", \"bioinformatics\", \"method\", \"tool\", \"experiment\", \"evolution\", \"important\", \"target\", \"predict\", \"structural\", \"essential\", \"role\", \"approach\", \"develop\", \"recent\", \"provide\", \"process\", \"discuss\", \"review\", \"involve\", \"preference\", \"database\", \"institute\", \"reaffirm\", \"background\", \"conduct\", \"coreference\", \"ground_truth\", \"informatic\", \"institution\", \"mention\", \"phrase\", \"rulebased\", \"systematic\", \"va\", \"criterion\", \"familial\", \"inclusion\", \"list\", \"medline\", \"publish\", \"search\", \"bibliographic\", \"cartilage\", \"diego\", \"fibulin\", \"oarsi\", \"item\", \"cooccurrence\", \"count\", \"literature\", \"objective\", \"topic\", \"publication\", \"author\", \"pubmed\", \"web\", \"speech\", \"journal\", \"text\", \"abstract\", \"section\", \"output\", \"systematically\", \"majority\", \"query\", \"theme\", \"original\", \"retrieve\", \"scope\", \"follow\", \"report\", \"conclusion\", \"article\", \"study\", \"term\", \"paper\", \"select\", \"category\", \"result\", \"research\", \"review\", \"identify\", \"aim\", \"analyze\", \"relevant\", \"good\", \"perform\", \"include\", \"method\", \"information\", \"technique\", \"analysis\", \"researcher\", \"reinvestment\", \"risk\", \"perceivable\", \"serum\", \"severity\", \"subclinical\", \"atrisk\", \"burden\", \"likelihood\", \"suboptimal\", \"demographic\", \"worldwide\", \"frequent\", \"qualityoflife\", \"trainablemay\", \"filtering\", \"gravy\", \"highway\", \"emergency\", \"inability\", \"complication\", \"diabete\", \"enrol\", \"absence\", \"gold_standard\", \"installation\", \"reserve\", \"admission\", \"equally\", \"birth\", \"cardiovascular\", \"surgical\", \"trial\", \"event\", \"surgery\", \"mortality\", \"pediatric\", \"stroke\", \"epilepsy\", \"suicide\", \"seizure\", \"blood\", \"heart_failure\", \"diabetes\", \"acute\", \"medication\", \"longterm\", \"sepsis\", \"surgeon\", \"coronary\", \"kidney\", \"hospital\", \"inflammation\", \"risk_stratification\", \"severe\", \"management\", \"prevention\", \"death\", \"patient\", \"intervention\", \"outcome\", \"assessment\", \"disease\", \"chronic\", \"cardiac\", \"reduce\", \"clinical\", \"purpose\", \"improve\", \"prognostic\", \"early\", \"significant\", \"clinician\", \"diagnostic\", \"factor\", \"treatment\", \"tool\", \"therapy\", \"current\", \"review\", \"include\", \"lead\", \"recent\", \"high\", \"biomarker\", \"colocalize\", \"mediator\", \"onedimensional\", \"biochemically\", \"clarify\", \"deficit\", \"brain\", \"psychosis\", \"schizophrenia\", \"diseaserelevant\", \"marker\", \"oa\", \"osteoarthritis\", \"neural\", \"neuroscience\", \"temporally\", \"multiprotein\", \"attentional\", \"bd\", \"bipolar\", \"bipolar_disorder\", \"circuitry\", \"depressed\", \"depression\", \"depressive\", \"emotion\", \"manic\", \"neuroimaging\", \"subthreshold\", \"disorder\", \"age\", \"pain\", \"eeg\", \"mental\", \"symptom\", \"ad\", \"psychiatric\", \"alzheimer\", \"psychiatry\", \"pd\", \"multivariate\", \"neuron\", \"behavioral\", \"healthy\", \"parkinson\", \"distinct\", \"dementia\", \"neurological\", \"participant\", \"neuroimage\", \"individual\", \"exposure\", \"suggest\", \"pattern\", \"functional\", \"cognitive\", \"finding\", \"investigate\", \"study\", \"factor\", \"identify\", \"disease\", \"effect\", \"response\", \"approach\", \"associate\", \"understand\", \"treatment\", \"specific\", \"show\", \"clinical\", \"provide\", \"include\", \"review\", \"actively\", \"pet_mri\", \"computerbase\", \"cytological\", \"feature_extraction\", \"preparation\", \"preprocessing\", \"raman_spectroscopy\", \"stateofart\", \"nuclear\", \"acquisition\", \"computeraided\", \"quantification\", \"quantitative\", \"noun\", \"ecm\", \"fib\", \"follistatinlike\", \"surrogate\", \"subroutine\", \"intact\", \"labelfree\", \"spectral\", \"exacerbate\", \"illustrative\", \"sequential\", \"postprocessing\", \"automatic\", \"nad\", \"dense\", \"image\", \"imaging\", \"segmentation\", \"dl\", \"cad\", \"modality\", \"convolutional_neural\", \"computer_vision\", \"tomography\", \"reconstruction\", \"ct\", \"visual\", \"ultrasound\", \"scan\", \"retinal\", \"mri\", \"automatically\", \"pet\", \"vision\", \"ophthalmology\", \"anatomical\", \"deep\", \"architecture\", \"microscopy\", \"eye\", \"automate\", \"technique\", \"analysis\", \"diagnosis\", \"diagnostic\", \"medical\", \"compute\", \"classification\", \"tissue\", \"detection\", \"recent\", \"provide\", \"processing\", \"feature\", \"review\", \"field\", \"learning\", \"application\", \"discuss\", \"challenge\", \"learn\", \"disease\", \"algorithm\", \"network\", \"infrared\", \"nondestructive\", \"communication\", \"integral_part\", \"mandate\", \"decompose\", \"affair\", \"comppass\", \"biosurveillance\", \"cartography\", \"labour\", \"mapping\", \"omission\", \"appeal\", \"website\", \"adaptive\", \"environment\", \"globe\", \"pandemic\", \"prevail\", \"crisis\", \"sensor\", \"compromise\", \"gateway\", \"live\", \"observable\", \"sheet\", \"contextaware\", \"operation\", \"sense\", \"device\", \"monitoring\", \"wearable\", \"covid\", \"robotic\", \"movement\", \"industry\", \"mobile\", \"global\", \"medium\", \"smart\", \"track\", \"computing\", \"ecg\", \"sensing\", \"hardware\", \"robot\", \"video\", \"rehabilitation\", \"smartphone\", \"autonomous\", \"ecosystem\", \"continuous\", \"intelligent\", \"system\", \"unit\", \"signal\", \"user\", \"skill\", \"technology\", \"solution\", \"monitor\", \"realtime\", \"physiological\", \"work\", \"detection\", \"challenge\", \"recognition\", \"social\", \"require\", \"capability\", \"future\", \"review\", \"control\", \"recent\", \"paper\", \"provide\", \"base\", \"increase\", \"development\", \"develop\", \"advance\", \"information\", \"current\", \"human\", \"research\", \"gene_expression\", \"tfs\", \"transcriptional\", \"uncover\", \"genetic\", \"intracellular\", \"largescale\", \"production\", \"animal\", \"cellbased\", \"enrich\", \"highthroughput\", \"biology\", \"consortium\", \"veteran\", \"genomewide_association\", \"variant\", \"cell\", \"deamidate\", \"degradation\", \"enrichment\", \"ninetyeight\", \"proteomic\", \"habenula\", \"genegene\", \"genephenotype\", \"inheritance\", \"phenotypic\", \"polygenic\", \"sequencing\", \"genomic\", \"plant\", \"environmental\", \"drive\", \"omic\", \"expression\", \"pathway\", \"multiomics\", \"immune\", \"metabolic\", \"pathogen\", \"metabolomic\", \"epigenetic\", \"phenotyping\", \"diversity\", \"genomics\", \"integrative\", \"hiv\", \"vaccine\", \"precision_medicine\", \"analytical\", \"trait\", \"phenotype\", \"gene\", \"heterogeneous\", \"biological\", \"complexity\", \"complex\", \"network\", \"data\", \"analysis\", \"molecular\", \"regulatory\", \"integrate\", \"mechanism\", \"approach\", \"integration\", \"insight\", \"human\", \"multiple\", \"disease\", \"understand\", \"type\", \"challenge\", \"system\", \"identify\", \"statistical\", \"rule\", \"linear\", \"stochastic\", \"devote\", \"graphical\", \"average\", \"plot\", \"ensemble\", \"fit\", \"applicability\", \"execute\", \"generalizable\", \"checklist\", \"auroc\", \"forecasting\", \"fuzzy\", \"cutpoint\", \"choice\", \"exploratory\", \"illustration\", \"sparse\", \"inconsistent\", \"pool\", \"chir\", \"discharge\", \"estimation\", \"probability\", \"probability_estimation\", \"balanced\", \"variable\", \"classifier\", \"regression\", \"metaanalysis\", \"statistic\", \"simple\", \"sensitivity_specificity\", \"feature_selection\", \"random_forest\", \"svm\", \"ci\", \"boost\", \"nonlinear\", \"operate\", \"estimate\", \"outperform\", \"support_vector\", \"pair\", \"curve\", \"correct\", \"bayesian\", \"distribution\", \"model\", \"sensitivity\", \"performance\", \"predictive\", \"accuracy\", \"compare\", \"validation\", \"low\", \"test\", \"dataset\", \"measure\", \"machinelearning\", \"classification\", \"set\", \"base\", \"method\", \"predict\", \"high\", \"measurement\", \"prediction\", \"result\", \"type\", \"feature\", \"time\", \"show\", \"algorithm\", \"perform\", \"develop\", \"machine\", \"study\", \"approach\", \"ftir\", \"histological\", \"standardization\", \"digitize\", \"extrapolability\", \"qhts\", \"ambition\", \"crowdsourcing\", \"volunteer\", \"ahead\", \"tidy\", \"historical\", \"plastidial\", \"anatomic\", \"imagingbased\", \"bloodstream\", \"matrixassisted\", \"routine\", \"strainlevel\", \"iso\", \"esophageal\", \"harmonize\", \"staging\", \"workflow\", \"hepatocellular_carcinoma\", \"maintainer\", \"oncomir\", \"tgf\\u03b2\", \"wnt\", \"nontargeted\", \"cancer\", \"radiomic\", \"tumor\", \"radiology\", \"pathology\", \"prognosis\", \"oncology\", \"lung\", \"breast_cancer\", \"radiologist\", \"planning\", \"survival\", \"radiotherapy\", \"breast\", \"prostate\", \"tumour\", \"translational\", \"skin\", \"liver\", \"head\", \"neck\", \"radiation_oncology\", \"renal\", \"nodule\", \"thyroid\", \"malignant\", \"radiation\", \"pitfall\", \"artificial_intelligence\", \"treatment\", \"potential\", \"improve\", \"clinical\", \"therapy\", \"assist\", \"role\", \"practice\", \"increase\", \"future\", \"current\", \"diagnosis\", \"advance\", \"ai\", \"application\", \"patient\", \"limitation\", \"lead\", \"development\", \"tool\", \"include\", \"response\", \"tf\", \"solve\", \"accommodate\", \"idea\", \"reinforcement\", \"counterpart\", \"deal\", \"equivalence\", \"label\", \"learner\", \"semisupervised\", \"supervise\", \"unlabeled\", \"unsupervised\", \"funcoup\", \"popular\", \"throughput\", \"depress\", \"characterized\", \"ml\", \"viewpoint\", \"geometric\", \"nonstructural\", \"companion\", \"reader\", \"surprisingly\", \"problem\", \"suited\", \"supervised\", \"flexibility\", \"neural_network\", \"artificial\", \"basic\", \"mlbased\", \"programming\", \"anns\", \"branch\", \"black_box\", \"wide_variety\", \"put\", \"remarkable\", \"suggestion\", \"simulate\", \"speech_recognition\", \"embryo\", \"hide\", \"usefulness\", \"dnns\", \"learn\", \"machine\", \"classical\", \"learning\", \"dimensionality\", \"algorithm\", \"attention\", \"application\", \"task\", \"apply\", \"concept\", \"ability\", \"overview\", \"representation\", \"grow\", \"principle\", \"increasingly\", \"expect\", \"field\", \"make\", \"human\", \"area\", \"limitation\", \"year\", \"complex\", \"large\", \"present\", \"provide\", \"research\", \"approach\", \"review\", \"discuss\", \"claim\", \"practitioner\", \"visit\", \"digitized\", \"provider\", \"pilot\", \"quantity\", \"healthcare\", \"participate\", \"submission\", \"workshop\", \"dcomp\", \"apm\", \"argue\", \"http\", \"lesson\", \"contagious\", \"terminology\", \"glycolytic\", \"evidencebased\", \"proactive\", \"provision\", \"flood\", \"insilco\", \"reallife\", \"facetoface\", \"foreseeable\", \"microbiology\", \"reasoning\", \"meiosis\", \"health\", \"care\", \"big\", \"medicine\", \"digital\", \"analytic\", \"decision_support\", \"public\", \"electronic_health\", \"ethical\", \"privacy\", \"society\", \"core\", \"team\", \"infrastructure\", \"structured\", \"registry\", \"storage\", \"ehr\", \"expertise\", \"education\", \"policy\", \"paradigm_shift\", \"organize\", \"pace\", \"forensic\", \"cardiology\", \"collaboration\", \"discipline\", \"innovation\", \"data\", \"professional\", \"implication\", \"massive\", \"record\", \"collect\", \"impact\", \"ai\", \"science\", \"artificial_intelligence\", \"decision\", \"computer\", \"practice\", \"opportunity\", \"technology\", \"medical\", \"issue\", \"collection\", \"source\", \"challenge\", \"address\", \"research\", \"clinical\", \"potential\", \"implementation\", \"provide\", \"include\", \"information\", \"require\"], \"Freq\": [4292.0, 4353.0, 3013.0, 2394.0, 2353.0, 2492.0, 3128.0, 1717.0, 1347.0, 1498.0, 1575.0, 1169.0, 1898.0, 1195.0, 2092.0, 2178.0, 1517.0, 939.0, 1294.0, 1749.0, 1142.0, 1217.0, 849.0, 854.0, 1302.0, 3223.0, 752.0, 1752.0, 723.0, 1045.0, 13.747008593514272, 111.03354051069019, 278.1125629004576, 30.666405185006216, 1.0574621922121688, 22.206706889260243, 269.6528615725171, 617.5579301065386, 307.72150541947127, 1.0574621922121688, 359.5371487633562, 32.78133051699133, 121.60816110622679, 135.3551606031576, 10.574622111633843, 33.8387901507894, 68.73504599976584, 139.58501126712784, 46.5283391105056, 1.0574621922121688, 1.0574621922121688, 4.229848768848675, 30.666405185006216, 939.0264835380525, 1.0574621922121688, 48.643261410296226, 5.287311055816922, 56.04550007224413, 30.666405185006216, 12.689546685570336, 176.59619548028388, 238.9864594197054, 152.27456325903853, 138.52755163332975, 118.43577007605464, 104.68875845034587, 103.6312988165478, 94.11413785480927, 88.82682755704097, 84.59697689307075, 72.96489666373607, 70.84997133175096, 132.1827817017634, 60.27534467182539, 58.160425404229244, 52.873109042071974, 50.758186742281346, 57.1029597060422, 61.33281037001243, 224.18200028897652, 731.763861647401, 335.2155286708888, 186.1133564420224, 289.7446431297923, 80.36713229348949, 217.8372182286322, 390.2035751737238, 204.09021873170138, 270.7103212063152, 322.52598880775605, 427.21475938687985, 399.72073613546235, 167.07903451854534, 149.10217222886635, 227.35437919037074, 204.09021873170138, 186.1133564420224, 191.4006667397907, 168.13649415234343, 151.21710362524044, 166.02157488474728, 35.57538628906395, 9.702378011427534, 481.8847851955761, 723.3661750251581, 43.12167972123839, 28.029092856889513, 32.34126053241776, 12.936504509562694, 20.48279794173713, 1.078042011568184, 16.17063026620888, 4.312168046272736, 68.99468874036377, 19.404756022855068, 1.078042011568184, 167.09650929054322, 40.96559588347426, 54.98014379489696, 43.12167972123839, 39.8875539645922, 12.936504509562694, 26.951050938007448, 19.404756022855068, 1.078042011568184, 46.35580547788457, 3.2341261273906734, 139.0674193996096, 33.41930245129982, 66.83860490259964, 8.624336092545471, 393.485347847247, 139.0674193996096, 98.10182648209124, 76.54098217253821, 75.46294025365614, 71.1507725781279, 54.98014379489696, 53.902101876014896, 52.82405995713284, 51.746018038250774, 118.58462294085042, 47.433850362722524, 45.27776355900251, 44.19972164012045, 42.04363780235632, 42.04363780235632, 40.96559588347426, 39.8875539645922, 90.55552711800502, 67.9166468214817, 384.8610124961905, 419.3583539004165, 62.5264372270714, 358.9879827153739, 1015.5155824974912, 752.473354290268, 226.38882669288023, 176.7988865604818, 130.44308404855312, 1342.1623313740504, 569.2061806250232, 123.97483253526073, 105.64811991426568, 277.0567968803372, 283.5250483936295, 351.4416892831995, 139.0674193996096, 116.4285391030863, 228.54491053064436, 441.9972341969398, 218.84253326070578, 230.70099436840846, 252.26183274604972, 189.7354014508901, 210.2181979096493, 295.38350950133224, 122.89679061637867, 11.614653609660913, 379.0600735801926, 22.173429392074592, 1.0558776197423454, 249.18711410909577, 227.01369301721667, 10.558776612433228, 10.558776612433228, 158.38164752645932, 30.620450350013357, 30.620450350013357, 6.335265718454072, 29.564572522766124, 352.663114618699, 2.111755239484691, 150.99050273572868, 2.111755239484691, 63.35265635452117, 66.52028983626288, 52.79388140212704, 279.8075578189527, 404.40114143412615, 13.726409264155377, 5.279388306216614, 1.0558776197423454, 1.0558776197423454, 2.111755239484691, 23.229307219321825, 12.670531436908144, 22.173429392074592, 610.2972513457727, 337.8808515978633, 184.77857992732737, 143.59935794499808, 133.04057967252575, 130.9288240180313, 86.58196191380391, 84.47021289946582, 79.19082376322966, 74.96731245424073, 64.4085341817684, 63.35265635452117, 59.12914504553225, 58.07326721828501, 54.90563705662151, 47.51449226589088, 40.123350795238444, 39.067472967991215, 38.011595140743985, 95.02898453178176, 230.18131321864558, 312.5397837439297, 308.3162724349408, 597.6267174188058, 1658.783734597583, 214.34315909024988, 516.3241645617072, 177.38743513659674, 114.03477878207556, 627.1912965817284, 820.4169256876592, 1298.7294884684661, 505.7653597286094, 265.02529479811705, 237.572471289689, 197.44911385429415, 180.55506861833842, 220.67842605373326, 408.6246261824896, 567.0063002695745, 284.0310691279417, 348.4396033097101, 233.34895998070004, 184.77857992732737, 1.0698409627002974, 703.9553386338898, 1.0698409627002974, 17.117455403204758, 53.4920491232086, 7.488887035360201, 9.628569158399541, 72.74918427778775, 21.39681964928344, 11.768250490883899, 34.234910806409516, 83.44759410242948, 34.234910806409516, 1.0698409627002974, 1.0698409627002974, 1.0698409627002974, 1.0698409627002974, 1.0698409627002974, 28.88570589408866, 17.117455403204758, 64.19045894785032, 9.628569158399541, 4.2793638508011895, 21.39681964928344, 16.04761473696258, 1.0698409627002974, 21.39681964928344, 9.628569158399541, 11.768250490883899, 18.187296069446937, 270.6697597092197, 176.52375578214853, 239.64438513152643, 147.6380530502798, 143.35869670975094, 126.24123340099635, 123.03170665893992, 102.70473558144849, 93.07616800415892, 86.6571208444859, 81.30791593216505, 80.2380736848129, 77.02855326719633, 70.60950610752333, 69.53966386017119, 66.33014344255461, 63.120616700498175, 62.05077445314603, 62.05077445314603, 62.05077445314603, 58.84125403552946, 55.63173361791289, 53.4920491232086, 51.352367790724244, 50.2825255433721, 415.0983113152025, 119.82219256576322, 71.67934835487547, 1361.907612418194, 216.1078809875387, 511.3839870880983, 406.5395733363854, 886.898160549031, 102.70473558144849, 136.93964322563806, 194.71106133825526, 757.4474004059781, 191.50153459619884, 400.12051985227254, 114.4729813290025, 213.9681964928344, 185.0824937609657, 142.2888544623988, 243.923754120935, 173.3142416889718, 290.996737111151, 244.9935710705277, 150.84757979233623, 170.10471494691538, 220.3872499769473, 178.6634402768528, 145.4983685555755, 152.98726428704052, 143.35869670975094, 579.2771798115932, 1.0787285007917802, 3.2361855023753408, 3.2361855023753408, 1.0787285007917802, 33.4405812414913, 21.574570015835604, 624.5837814109558, 45.306595511218845, 87.37700780311623, 1.0787285007917802, 138.07724810134786, 17.259656012668483, 23.732027017419163, 157.49435959356398, 107.87284703510618, 5.393642503958901, 3.2361855023753408, 6.4723710047506815, 56.093878997100724, 5.393642503958901, 36.6767675048846, 5.393642503958901, 4.314914003167121, 93.84937424175915, 7.551099505542461, 60.40879604433969, 4.314914003167121, 202.80094901663915, 1.0787285007917802, 455.22341059173607, 188.7774823114358, 155.33690411401633, 143.47088071207327, 141.31342523252562, 140.2347035808955, 139.155969752978, 117.58140278121424, 114.34521347374908, 102.47920224809339, 99.24301902877193, 89.53446328266388, 87.37700780311623, 86.29828006334242, 84.14081849565109, 76.58971822909066, 71.19607953022157, 70.11735179044776, 62.56625152388733, 59.33006830456587, 57.17260673687454, 380.79115393033675, 71.19607953022157, 206.0371261478169, 264.28848497704, 254.5799170546446, 120.81759208867938, 208.1945938036519, 139.155969752978, 632.1348816775162, 179.06892656532776, 313.90997318292307, 400.20826542255287, 175.8327372578626, 189.8562161393533, 368.92514270468104, 161.80927055265926, 195.2498487500787, 201.72222736500902, 145.62834836790827, 156.41562576564647, 173.67528177831497, 165.0454598601244, 156.41562576564647, 160.73053672474174, 20.01669157799554, 20.01669157799554, 7.374571028928016, 3.160530330531961, 73.74570565091824, 14.749142057856032, 47.40795495797942, 16.856161247463582, 8.428080623731791, 66.37113694117119, 120.10015256021453, 93.7624018672757, 83.22729664251413, 296.03633683683864, 1.053510077966474, 9.481590991595883, 2.107020155932948, 1.053510077966474, 15.802651652659806, 1.053510077966474, 4.214040311865896, 9.481590991595883, 45.300935768371865, 4.214040311865896, 7.374571028928016, 16.856161247463582, 10.535101359459977, 125.36769898811276, 2.107020155932948, 12.642121322127844, 1347.439435039781, 1168.3426585877996, 248.62839424782433, 153.81247196290042, 151.70545586553413, 208.59500181510944, 104.29750090755472, 92.70888763411001, 90.60187153674373, 88.49484925489492, 88.49484925489492, 86.38782697304609, 79.01325826329902, 73.74570565091824, 70.58517532038628, 242.30733358676042, 63.210606610639225, 60.05007628010726, 55.836037900892165, 43.193913486523044, 42.14040543783991, 1148.3260118473024, 145.38439520447022, 90.60187153674373, 60.05007628010726, 262.3240050651877, 1064.04517004921, 987.1390020970678, 512.0058888082475, 385.58470032489925, 415.0829751638875, 114.83260613231629, 297.08985107000433, 147.49141130183648, 263.3775192983534, 347.6583363585157, 392.95927521912887, 161.18704685713, 232.82573022619945, 428.77863545711125, 271.8056084257487, 399.2803358801928, 241.25381935359474, 199.11341082351356, 193.8458643956153, 202.2739411540455, 185.41777526822003, 174.88268241242355, 152.75897009869982, 12.74073839196546, 13.802466069121065, 97.67899642710125, 7.432097656400609, 7.432097656400609, 2.1234563333890537, 1.0617281666945269, 1.0617281666945269, 1.0617281666945269, 1.0617281666945269, 3.185184597991365, 64.7654196369829, 3.185184597991365, 12.74073839196546, 12.74073839196546, 79.62961338325957, 176.24688213320522, 8.493825333556215, 41.40740134041229, 7.432097656400609, 19.11110758794819, 303.6542660528598, 14.864195312801218, 3.185184597991365, 55.20986427648426, 8.493825333556215, 1.0617281666945269, 5.308641127195987, 49.90122589070623, 49.90122589070623, 287.7283508955257, 187.92589911411326, 167.75306071596037, 129.5308392739658, 115.72837947094293, 108.2962731986573, 104.04936249003488, 92.37035177522503, 162.44442233018233, 84.93825803513579, 82.81480268082458, 81.75307500366897, 80.69134732651337, 74.32097499748154, 72.19751964317034, 70.07406428885912, 59.45678125120487, 56.27159821973805, 52.02468124501744, 48.83949821355063, 48.83949821355063, 47.77777053639502, 97.67899642710125, 101.92590713572368, 1294.2467402556806, 66.88887499129412, 259.0616785479316, 80.69134732651337, 64.7654196369829, 708.1727115642877, 211.2839080115366, 168.81478839311598, 97.67899642710125, 110.41972855296852, 238.8888526819751, 246.32094642206434, 338.69130446338755, 123.16047321103217, 116.79010714809853, 163.50615000733794, 102.98763481287928, 210.222180334381, 276.04934644681407, 126.34565624249899, 186.86417143695766, 162.44442233018233, 199.60490356282492, 173.0616991017384, 146.51849464065188, 163.50615000733794, 147.58022231780748, 147.58022231780748, 143.33331160918505, 144.39503928634068, 135.90120533689944, 146.51849464065188, 112.3112303475533, 4.198550477147474, 31.48912997417502, 46.184056444824186, 387.31628879374983, 20.992752784471364, 129.10543385107917, 79.7724634518759, 120.70832571957241, 8.397100954294949, 14.694926470649166, 173.19021645289857, 271.8561444918175, 16.794201908589898, 1.0496376192868686, 19.943115862968973, 131.20470131434013, 480.734060934004, 1.0496376192868686, 9.446738673265315, 14.694926470649166, 1.0496376192868686, 97.61630068703222, 1.0496376192868686, 13.645289549146778, 3.1489129575441033, 4.198550477147474, 83.97101113788545, 15.74456498708751, 58.779705882596666, 332.7351305971627, 221.47354674072753, 157.44564668100318, 146.94927108623548, 202.5800630144531, 118.60905825631146, 199.431149060074, 110.2119501248047, 94.46738673265315, 92.36811288964837, 86.07028498089022, 86.07028498089022, 81.87173729488067, 77.67318960887111, 75.57390938612252, 69.2760878571082, 66.12717390272911, 65.07753379135482, 65.07753379135482, 201.5304292828226, 104.96376870716468, 86.07028498089022, 225.67210718622474, 305.44455149886915, 116.50977803356285, 412.50760042878244, 165.84275481250995, 385.2170213304889, 397.8126771480052, 1180.8424011454745, 653.9242518679273, 282.3525328460728, 121.75797221069053, 191.0340536880549, 214.12607234085127, 544.761935474753, 170.04130249851949, 174.23985018452905, 228.8210211406038, 181.58731182491766, 277.1043514284328, 200.48079555119213, 181.58731182491766, 224.6224606951066, 204.6793432372017, 165.84275481250995, 426.2250550206141, 111.37538971647719, 46.04943973253947, 20.347426597850433, 20.347426597850433, 13.921923714559648, 40.694853195700865, 13.921923714559648, 46.04943973253947, 13.921923714559648, 55.687694858238594, 13.921923714559648, 20.347426597850433, 13.921923714559648, 13.921923714559648, 27.843847429119297, 13.921923714559648, 13.921923714559648, 68.53870382787197, 19.276510251398253, 6.425503283672259, 22.489262493806596, 17.134675956967993, 51.40402626937807, 1.0709172473104995, 10.709172272914257, 70.68053972382813, 42.83668909165703, 7.496420831268865, 9.638255125699127, 202.40335443662985, 171.3467563666281, 137.07740765574394, 129.58098522294915, 99.59530189787371, 84.60246343838777, 72.82236921368069, 70.68053972382813, 70.68053972382813, 61.0422813950772, 58.90044549912104, 57.82953075419476, 56.75861600926848, 49.26219357647371, 117.80089099824208, 47.12035768051755, 112.44631086750708, 38.55302050279651, 38.55302050279651, 37.482102554818425, 65.32595318698952, 63.18411729103336, 1926.5800014911379, 94.2407153610351, 515.1112030631214, 371.6082813134054, 425.15413386958426, 255.94920699280868, 185.26868008118777, 163.85033393383335, 217.39619930221937, 298.7858992875175, 216.3252781511895, 169.20492687677554, 357.68635759884575, 270.9420518583982, 450.8561389966438, 967.0382375863807, 387.67204733002484, 300.9277415895773, 146.71565957839127, 560.0896864110612, 414.44497360811425, 255.94920699280868, 294.5022403078124, 206.68702622854218, 218.46712045324927, 276.2966576135476, 172.417677517658, 189.5523518731001, 246.31096788236857, 201.33243328559996, 198.11968264471753, 6.330970615447209, 12.661941230894419, 53.81325328969687, 12.661941230894419, 1.0551617692412016, 1.0551617692412016, 1.0551617692412016, 5.275808846206008, 1.0551617692412016, 17.937750077100425, 1.0551617692412016, 47.48227961585407, 1.0551617692412016, 14.772264769376822, 6.330970615447209, 1.0551617692412016, 1.0551617692412016, 107.62650657939373, 1.0551617692412016, 1.0551617692412016, 6.330970615447209, 5.275808846206008, 14.772264769376822, 167.77072436774662, 9.496455923170814, 1.0551617692412016, 1.0551617692412016, 1.0551617692412016, 2.1103235384824033, 1.0551617692412016, 848.350099170673, 324.9898371598724, 297.5556128092277, 211.03235384824032, 195.2049242512267, 194.14976554038108, 148.77780640461384, 139.28135353983862, 128.72974196421777, 127.67457101978981, 107.62650657939373, 106.57133563496578, 106.57133563496578, 84.41294153929613, 82.30261800081372, 81.2474592899681, 75.97164738536651, 74.91648867452089, 63.309706154472096, 62.25454744362648, 60.144223905144074, 59.08905907750729, 58.03390036666167, 58.03390036666167, 54.868412000542484, 53.81325328969687, 52.75808846206008, 71.7510003084017, 679.5241671577514, 539.1876549070672, 556.0702432149264, 443.1679308477223, 818.8055573983371, 199.42557132819152, 115.01262978889538, 272.2317303474388, 247.96301883007794, 296.5004663319644, 391.46501944688134, 324.9898371598724, 316.5485430059428, 305.9969069631573, 288.05917217803477, 428.395684428719, 355.58952540947166, 185.70847138645146, 181.48782430948668, 209.97718290381235, 200.48074227261947, 201.5359009834651, 152.99845348157865, 4.118436563861186, 103.99052614593442, 9.266482368978686, 61.77655126606626, 36.036321036986564, 8.236873127722372, 75.16146418144513, 4.118436563861186, 30.88827563303313, 10.296091610234997, 19.56257317688555, 117.37544547993836, 4.118436563861186, 91.63521204154613, 1.0296091409652965, 77.22068747792656, 6.177655046373812, 1.0296091409652965, 3.088827523186906, 752.6442791371923, 11.32570085149131, 9.266482368978686, 1.0296091409652965, 8.236873127722372, 71.04303042573241, 8.236873127722372, 426.25819539164456, 17.503354694372923, 39.1251463537711, 18.53296473795737, 336.6822002279548, 204.8922173471467, 178.12237867913885, 49.421240370990496, 47.3620202838216, 45.30280340596524, 40.15475800201181, 35.00670938874585, 33.97710094981767, 33.97710094981767, 32.94749251088949, 30.88827563303313, 30.88827563303313, 29.85866398479241, 28.829055545864232, 26.769837063351606, 25.740228624423427, 25.740228624423427, 2192.037897320173, 3861.034463757079, 82.36873288187998, 2607.99992488041, 38.09553791484292, 849.4275430013168, 132.81958169179867, 1224.2052586789268, 271.81680759854135, 449.9391991149303, 201.8033952396747, 178.12237867913885, 244.01735728229272, 113.25701172422565, 144.14528414794626, 105.02013137555006, 156.5005854150844, 95.75365221588392, 427.28779420263515, 199.74417194319327, 229.6028455559233, 205.92182899538741, 176.06316821990754, 209.0106511028594, 212.09948604758156, 202.83300688791542, 225.48439896296043, 280.0536751099668, 270.78720878755075, 288.2905682958925, 318.1492162341222, 200.77378359143398, 22.472278525324455, 32.686952119583516, 15.322008700365853, 2.0429345074739698, 40.85868761294529, 10.214671903236322, 44.94455705064891, 370.79261257808093, 13.27907398151404, 5.107335951618161, 13.27907398151404, 1.0214672537369849, 1.0214672537369849, 53.11629592605616, 2.0429345074739698, 32.686952119583516, 1.0214672537369849, 30.644017400731705, 1.0214672537369849, 32.686952119583516, 8.171738029895879, 10.214671903236322, 4.0858690149479395, 1.0214672537369849, 22.472278525324455, 4.0858690149479395, 5.107335951618161, 26.55814796302808, 20.429343806472644, 1.0214672537369849, 854.9680563948235, 680.2971497701527, 561.8069969535662, 550.5708137243128, 295.2040313626094, 200.20758215520473, 140.96247869054767, 129.72633604583996, 99.08231864510824, 97.03938730830191, 83.76031332678787, 73.54564311457429, 64.35243857076388, 55.15923064490798, 50.05189553880118, 49.03042648835254, 40.85868761294529, 40.85868761294529, 39.83722194454212, 39.83722194454212, 38.815756276138956, 36.772821557287145, 34.729886838435334, 34.729886838435334, 33.70841778798668, 33.70841778798668, 63.330966138269744, 56.180696313311145, 56.180696313311145, 96.01792163989874, 3171.655844942323, 78.65297822068108, 120.5331382661205, 64.35243857076388, 217.57251881033145, 112.36139262662229, 280.9034984767831, 625.1379360354721, 372.83553038670533, 614.9232928796224, 179.77822820259564, 176.7138244332952, 292.1396275933089, 246.17359811016587, 506.64772910615795, 402.4580821190339, 202.25051349201107, 110.31846128981596, 158.32741534567435, 374.8784752516936, 188.97143951049702, 385.0931454639072, 426.97331227343756, 246.17359811016587, 144.0268824598481, 225.7442576857387, 208.379321030612, 153.22008023956758, 146.06981379665444], \"Total\": [4292.0, 4353.0, 3013.0, 2394.0, 2353.0, 2492.0, 3128.0, 1717.0, 1347.0, 1498.0, 1575.0, 1169.0, 1898.0, 1195.0, 2092.0, 2178.0, 1517.0, 939.0, 1294.0, 1749.0, 1142.0, 1217.0, 849.0, 854.0, 1302.0, 3223.0, 752.0, 1752.0, 723.0, 1045.0, 13.747008593514272, 111.03354051069019, 278.1125629004576, 30.666405185006216, 1.0574621922121688, 22.206706889260243, 269.6528615725171, 617.5579301065386, 307.72150541947127, 1.0574621922121688, 359.5371487633562, 32.78133051699133, 121.60816110622679, 135.3551606031576, 10.574622111633843, 33.8387901507894, 68.73504599976584, 139.58501126712784, 46.5283391105056, 1.0574621922121688, 1.0574621922121688, 4.229848768848675, 30.666405185006216, 939.0264835380525, 1.0574621922121688, 48.643261410296226, 5.287311055816922, 56.04550007224413, 30.666405185006216, 12.689546685570336, 176.59619548028388, 240.04233703944774, 152.27456325903853, 138.52755163332975, 118.43577007605464, 104.68875845034587, 103.6312988165478, 94.11413785480927, 88.82682755704097, 84.59697689307075, 72.96489666373607, 70.84997133175096, 133.23241932105026, 60.27534467182539, 58.160425404229244, 52.873109042071974, 50.758186742281346, 58.181001717610386, 63.49026737159599, 319.8901229895817, 1404.2762004862138, 618.7405770645182, 296.67221764848165, 572.0971759758651, 93.27523250345699, 437.7013802204728, 1142.6769294639919, 440.0181208712794, 763.2484159202726, 1240.7367552586782, 2353.7947608780178, 2246.029339764312, 348.29612900911405, 270.17804921512305, 922.1076047880413, 725.5888904525175, 914.4113070170041, 1090.5093877772424, 1147.2764488412006, 510.8621109365466, 3128.616271087799, 35.57538628906395, 9.702378011427534, 481.8847851955761, 723.3661750251581, 43.12167972123839, 28.029092856889513, 32.34126053241776, 12.936504509562694, 20.48279794173713, 1.078042011568184, 16.17063026620888, 4.312168046272736, 68.99468874036377, 19.404756022855068, 1.078042011568184, 167.09650929054322, 40.96559588347426, 54.98014379489696, 43.12167972123839, 39.8875539645922, 12.936504509562694, 26.951050938007448, 19.404756022855068, 1.078042011568184, 46.35580547788457, 3.2341261273906734, 139.0674193996096, 33.41930245129982, 66.83860490259964, 8.624336092545471, 394.5412254669893, 139.0674193996096, 98.10182648209124, 76.54098217253821, 75.46294025365614, 71.1507725781279, 54.98014379489696, 53.902101876014896, 52.82405995713284, 51.746018038250774, 119.64050056059277, 47.433850362722524, 45.27776355900251, 44.19972164012045, 42.04363780235632, 42.04363780235632, 40.96559588347426, 39.8875539645922, 91.61140473774736, 68.9718085907229, 427.89615498663557, 504.5779001358414, 64.63740949725005, 464.73420079951785, 1575.6052689085523, 1142.6769294639919, 307.8134186201678, 230.54475081917025, 166.1307648986096, 3128.616271087799, 1176.4948802358972, 161.45693509007916, 135.19264945301933, 583.5753051330476, 618.7405770645182, 868.5644967562771, 239.38916616815536, 176.7135833484042, 585.7944397309057, 2246.029339764312, 914.4113070170041, 1240.7367552586782, 1613.2857048708654, 763.2484159202726, 1090.5093877772424, 3223.2380975404712, 289.3019489847166, 11.614653609660913, 379.0600735801926, 22.173429392074592, 1.0558776197423454, 249.18711410909577, 227.01369301721667, 10.558776612433228, 10.558776612433228, 158.38164752645932, 30.620450350013357, 30.620450350013357, 6.335265718454072, 29.564572522766124, 352.663114618699, 2.111755239484691, 150.99050273572868, 2.111755239484691, 63.35265635452117, 66.52028983626288, 52.79388140212704, 279.8075578189527, 404.40114143412615, 13.726409264155377, 5.279388306216614, 1.0558776197423454, 1.0558776197423454, 2.111755239484691, 23.229307219321825, 12.670531436908144, 22.173429392074592, 612.3401858532467, 337.8808515978633, 184.77857992732737, 143.59935794499808, 133.04057967252575, 130.9288240180313, 86.58196191380391, 84.47021289946582, 79.19082376322966, 74.96731245424073, 64.4085341817684, 63.35265635452117, 59.12914504553225, 58.07326721828501, 54.90563705662151, 47.51449226589088, 40.123350795238444, 39.067472967991215, 38.011595140743985, 97.12029274821904, 253.7178142004134, 366.4762072614828, 366.14580318913556, 758.7959184997541, 2492.2510495606994, 262.6281709616653, 745.1397238330608, 215.94045563939324, 127.99251661132993, 1045.8503105017085, 1752.263188586639, 3223.2380975404712, 1066.3712375721088, 453.25990598398334, 387.57965084879027, 299.91401991630187, 274.8029112460154, 393.09610357139127, 1426.5380455063605, 3128.616271087799, 833.1818519771955, 1517.2366872993057, 1898.680934638243, 324.2601477937229, 1.0698409627002974, 703.9553386338898, 1.0698409627002974, 17.117455403204758, 53.4920491232086, 7.488887035360201, 9.628569158399541, 72.74918427778775, 21.39681964928344, 11.768250490883899, 34.234910806409516, 83.44759410242948, 34.234910806409516, 1.0698409627002974, 1.0698409627002974, 1.0698409627002974, 1.0698409627002974, 1.0698409627002974, 28.88570589408866, 17.117455403204758, 64.19045894785032, 9.628569158399541, 4.2793638508011895, 21.39681964928344, 16.04761473696258, 1.0698409627002974, 21.39681964928344, 9.628569158399541, 11.768250490883899, 18.187296069446937, 270.6697597092197, 176.52375578214853, 240.70026275126878, 147.6380530502798, 143.35869670975094, 126.24123340099635, 123.03170665893992, 102.70473558144849, 93.07616800415892, 86.6571208444859, 81.30791593216505, 80.2380736848129, 77.02855326719633, 70.60950610752333, 69.53966386017119, 66.33014344255461, 63.120616700498175, 62.05077445314603, 62.05077445314603, 62.05077445314603, 58.84125403552946, 55.63173361791289, 53.4920491232086, 51.352367790724244, 50.2825255433721, 445.7423287159342, 124.13436061203595, 72.73681054708764, 1717.4971378276657, 257.0995624955904, 697.2504741329589, 548.4398863757957, 1749.6285526682368, 116.72820533072367, 172.75898800241404, 274.597970554037, 2178.960770137998, 305.45085943614816, 939.3063723398936, 148.23815794472094, 434.57189863101223, 354.5740191637256, 227.07063345758985, 684.5236057031611, 352.38316825429956, 1034.018374622712, 1176.4948802358972, 350.27315112052776, 968.457038065561, 3223.2380975404712, 1426.5380455063605, 510.8621109365466, 1240.7367552586782, 598.9512344590689, 579.2771798115932, 1.0787285007917802, 3.2361855023753408, 3.2361855023753408, 1.0787285007917802, 33.4405812414913, 21.574570015835604, 624.5837814109558, 45.306595511218845, 87.37700780311623, 1.0787285007917802, 138.07724810134786, 17.259656012668483, 23.732027017419163, 157.49435959356398, 107.87284703510618, 5.393642503958901, 3.2361855023753408, 6.4723710047506815, 56.093878997100724, 5.393642503958901, 36.6767675048846, 5.393642503958901, 4.314914003167121, 93.84937424175915, 7.551099505542461, 60.40879604433969, 4.314914003167121, 202.80094901663915, 1.0787285007917802, 455.22341059173607, 188.7774823114358, 155.33690411401633, 143.47088071207327, 141.31342523252562, 140.2347035808955, 139.155969752978, 117.58140278121424, 114.34521347374908, 102.47920224809339, 99.24301902877193, 89.53446328266388, 87.37700780311623, 86.29828006334242, 84.14081849565109, 76.58971822909066, 71.19607953022157, 70.11735179044776, 62.56625152388733, 59.33006830456587, 57.17260673687454, 414.3795577475165, 72.24571714950844, 236.99264711402503, 321.9465960687685, 359.1499950500282, 145.2373411954547, 340.7983154129886, 190.41164703699565, 2492.2510495606994, 352.38316825429956, 1066.3712375721088, 1749.6285526682368, 349.20820712534925, 462.525456043938, 2246.029339764312, 337.64043815414226, 621.1360558113324, 1034.018374622712, 365.89779622559917, 533.3873729514615, 2178.960770137998, 1613.2857048708654, 1426.5380455063605, 3223.2380975404712, 20.01669157799554, 20.01669157799554, 7.374571028928016, 3.160530330531961, 73.74570565091824, 14.749142057856032, 47.40795495797942, 16.856161247463582, 8.428080623731791, 66.37113694117119, 120.10015256021453, 93.7624018672757, 83.22729664251413, 296.03633683683864, 1.053510077966474, 9.481590991595883, 2.107020155932948, 1.053510077966474, 15.802651652659806, 1.053510077966474, 4.214040311865896, 9.481590991595883, 45.300935768371865, 4.214040311865896, 7.374571028928016, 16.856161247463582, 10.535101359459977, 125.36769898811276, 2.107020155932948, 12.642121322127844, 1347.439435039781, 1169.4207005993678, 248.62839424782433, 153.81247196290042, 151.70545586553413, 209.65016358435065, 104.29750090755472, 92.70888763411001, 90.60187153674373, 88.49484925489492, 88.49484925489492, 86.38782697304609, 79.01325826329902, 73.74570565091824, 70.58517532038628, 245.54351908913577, 63.210606610639225, 60.05007628010726, 55.836037900892165, 43.193913486523044, 42.14040543783991, 1195.7405704927523, 147.4610242274484, 92.70114677531747, 61.10753847231943, 309.77259016553757, 1517.2366872993057, 1898.680934638243, 966.5639172871806, 684.5236057031611, 910.4582861602087, 145.8644526451085, 654.7762086688501, 222.23664896716195, 604.6630249521259, 1240.7367552586782, 1613.2857048708654, 298.79639746962954, 684.7694669693855, 3223.2380975404712, 1149.431047933468, 3013.507964270172, 2092.2665420278386, 1090.5093877772424, 1287.5717044362316, 2394.311838474219, 1749.6285526682368, 1302.7186382667728, 665.9183069215466, 12.74073839196546, 13.802466069121065, 97.67899642710125, 7.432097656400609, 7.432097656400609, 2.1234563333890537, 1.0617281666945269, 1.0617281666945269, 1.0617281666945269, 1.0617281666945269, 3.185184597991365, 64.7654196369829, 3.185184597991365, 12.74073839196546, 12.74073839196546, 79.62961338325957, 176.24688213320522, 8.493825333556215, 41.40740134041229, 7.432097656400609, 19.11110758794819, 303.6542660528598, 14.864195312801218, 3.185184597991365, 55.20986427648426, 8.493825333556215, 1.0617281666945269, 5.308641127195987, 49.90122589070623, 49.90122589070623, 287.7283508955257, 187.92589911411326, 167.75306071596037, 129.5308392739658, 115.72837947094293, 108.2962731986573, 104.04936249003488, 92.37035177522503, 163.4940599494692, 84.93825803513579, 82.81480268082458, 81.75307500366897, 80.69134732651337, 74.32097499748154, 72.19751964317034, 70.07406428885912, 59.45678125120487, 56.27159821973805, 52.02468124501744, 48.83949821355063, 48.83949821355063, 47.77777053639502, 98.74991367441176, 103.96884164319765, 1498.9260834928823, 67.9103422450311, 295.79899631949047, 83.8589801857404, 66.84204865996108, 1217.9859259781692, 291.979817569024, 242.6214348631159, 116.93613474390034, 143.8111911956513, 501.63391292257086, 604.6630249521259, 1287.5717044362316, 200.8517310677371, 184.75000345899863, 478.3725732533395, 149.41310096821744, 1187.8583208575726, 3223.2380975404712, 299.6743227801313, 1240.7367552586782, 745.1397238330608, 1613.2857048708654, 957.0152762155087, 721.9846888232611, 1404.2762004862138, 914.4113070170041, 922.1076047880413, 833.1818519771955, 968.457038065561, 614.8209127874524, 1752.263188586639, 112.3112303475533, 4.198550477147474, 31.48912997417502, 46.184056444824186, 387.31628879374983, 20.992752784471364, 129.10543385107917, 79.7724634518759, 120.70832571957241, 8.397100954294949, 14.694926470649166, 173.19021645289857, 271.8561444918175, 16.794201908589898, 1.0496376192868686, 19.943115862968973, 131.20470131434013, 480.734060934004, 1.0496376192868686, 9.446738673265315, 14.694926470649166, 1.0496376192868686, 97.61630068703222, 1.0496376192868686, 13.645289549146778, 3.1489129575441033, 4.198550477147474, 83.97101113788545, 15.74456498708751, 58.779705882596666, 332.7351305971627, 221.47354674072753, 157.44564668100318, 146.94927108623548, 203.65810502602127, 118.60905825631146, 200.48465913804048, 110.2119501248047, 94.46738673265315, 92.36811288964837, 86.07028498089022, 86.07028498089022, 81.87173729488067, 77.67318960887111, 75.57390938612252, 69.2760878571082, 66.12717390272911, 65.07753379135482, 65.07753379135482, 205.61629829777056, 106.01727878513115, 87.1237950588567, 247.24667720206034, 345.33210546346135, 121.8193899568312, 533.248307207397, 193.66822428058802, 597.3165073780705, 665.9183069215466, 4353.553407857038, 1898.680934638243, 572.0971759758651, 146.2731854548668, 318.06663630972184, 388.8416392039076, 2246.029339764312, 271.303839686794, 287.7409141691372, 614.8209127874524, 409.2607192895262, 1749.6285526682368, 621.1360558113324, 495.8314310139268, 1287.5717044362316, 1498.9260834928823, 1066.3712375721088, 426.2250550206141, 111.37538971647719, 46.04943973253947, 20.347426597850433, 20.347426597850433, 13.921923714559648, 40.694853195700865, 13.921923714559648, 46.04943973253947, 13.921923714559648, 55.687694858238594, 13.921923714559648, 20.347426597850433, 13.921923714559648, 13.921923714559648, 27.843847429119297, 13.921923714559648, 13.921923714559648, 68.53870382787197, 19.276510251398253, 6.425503283672259, 22.489262493806596, 17.134675956967993, 51.40402626937807, 1.0709172473104995, 10.709172272914257, 70.68053972382813, 42.83668909165703, 7.496420831268865, 9.638255125699127, 202.40335443662985, 171.3467563666281, 137.07740765574394, 129.58098522294915, 99.59530189787371, 84.60246343838777, 72.82236921368069, 70.68053972382813, 70.68053972382813, 61.0422813950772, 58.90044549912104, 57.82953075419476, 56.75861600926848, 49.26219357647371, 118.87893300981027, 47.12035768051755, 113.49594848679395, 38.55302050279651, 38.55302050279651, 37.482102554818425, 66.39579414968982, 64.23375491032023, 2353.7947608780178, 98.4876280278132, 600.4866105022995, 441.1479451735766, 534.8166362711902, 305.47247930957764, 219.0567639129428, 204.19600759709004, 291.1904720415192, 469.29819664415413, 324.19675372988445, 239.3085485120069, 654.7762086688501, 460.5749149327042, 957.0152762155087, 3128.616271087799, 868.5644967562771, 598.9512344590689, 208.29589618390736, 1575.6052689085523, 1045.8503105017085, 495.8314310139268, 684.7694669693855, 432.22703053659336, 533.3873729514615, 1302.7186382667728, 393.09610357139127, 914.4113070170041, 4292.048655614895, 2492.2510495606994, 2246.029339764312, 6.330970615447209, 12.661941230894419, 53.81325328969687, 12.661941230894419, 1.0551617692412016, 1.0551617692412016, 1.0551617692412016, 5.275808846206008, 1.0551617692412016, 17.937750077100425, 1.0551617692412016, 47.48227961585407, 1.0551617692412016, 14.772264769376822, 6.330970615447209, 1.0551617692412016, 1.0551617692412016, 107.62650657939373, 1.0551617692412016, 1.0551617692412016, 6.330970615447209, 5.275808846206008, 14.772264769376822, 167.77072436774662, 9.496455923170814, 1.0551617692412016, 1.0551617692412016, 1.0551617692412016, 2.1103235384824033, 1.0551617692412016, 849.4118273373675, 324.9898371598724, 297.5556128092277, 211.03235384824032, 195.2049242512267, 194.14976554038108, 148.77780640461384, 139.28135353983862, 128.72974196421777, 127.67457101978981, 107.62650657939373, 106.57133563496578, 106.57133563496578, 84.41294153929613, 82.30261800081372, 81.2474592899681, 75.97164738536651, 74.91648867452089, 63.309706154472096, 62.25454744362648, 60.144223905144074, 59.08905907750729, 58.03390036666167, 58.03390036666167, 54.868412000542484, 53.81325328969687, 52.75808846206008, 74.92338697979429, 1294.4474600373737, 1034.018374622712, 1147.2764488412006, 939.3063723398936, 2178.960770137998, 350.27315112052776, 156.09952408581088, 585.7944397309057, 540.1026464233869, 721.9846888232611, 1187.8583208575726, 968.457038065561, 966.5639172871806, 922.1076047880413, 913.1971082135069, 2092.2665420278386, 1717.4971378276657, 396.80867175078856, 510.8621109365466, 1404.2762004862138, 1176.4948802358972, 1426.5380455063605, 462.525456043938, 4.118436563861186, 103.99052614593442, 9.266482368978686, 61.77655126606626, 36.036321036986564, 8.236873127722372, 75.16146418144513, 4.118436563861186, 30.88827563303313, 10.296091610234997, 19.56257317688555, 117.37544547993836, 4.118436563861186, 91.63521204154613, 1.0296091409652965, 77.22068747792656, 6.177655046373812, 1.0296091409652965, 3.088827523186906, 752.6442791371923, 11.32570085149131, 9.266482368978686, 1.0296091409652965, 8.236873127722372, 71.04303042573241, 8.236873127722372, 426.25819539164456, 17.503354694372923, 39.1251463537711, 18.53296473795737, 336.6822002279548, 204.8922173471467, 178.12237867913885, 49.421240370990496, 47.3620202838216, 45.30280340596524, 40.15475800201181, 35.00670938874585, 33.97710094981767, 33.97710094981767, 32.94749251088949, 30.88827563303313, 30.88827563303313, 29.85866398479241, 28.829055545864232, 26.769837063351606, 25.740228624423427, 25.740228624423427, 2394.311838474219, 4292.048655614895, 84.51056737650097, 3013.507964270172, 39.174266415634705, 1302.7186382667728, 161.94524893012286, 2092.2665420278386, 377.16782273926174, 739.7482966901324, 289.88543718185053, 273.33822485356217, 414.08297299197784, 157.16461876386074, 215.55560117526227, 142.80708606861134, 254.3623253736156, 128.51427769430754, 1149.431047933468, 453.0662353377731, 614.8209127874524, 522.312591356818, 396.80867175078856, 560.0905807814252, 597.3165073780705, 598.6906272484425, 764.4063711414392, 1613.2857048708654, 1752.263188586639, 2246.029339764312, 3223.2380975404712, 1090.5093877772424, 22.472278525324455, 32.686952119583516, 15.322008700365853, 2.0429345074739698, 40.85868761294529, 10.214671903236322, 44.94455705064891, 370.79261257808093, 13.27907398151404, 5.107335951618161, 13.27907398151404, 1.0214672537369849, 1.0214672537369849, 53.11629592605616, 2.0429345074739698, 32.686952119583516, 1.0214672537369849, 30.644017400731705, 1.0214672537369849, 32.686952119583516, 8.171738029895879, 10.214671903236322, 4.0858690149479395, 1.0214672537369849, 22.472278525324455, 4.0858690149479395, 5.107335951618161, 26.55814796302808, 20.429343806472644, 1.0214672537369849, 854.9680563948235, 680.2971497701527, 561.8069969535662, 550.5708137243128, 295.2040313626094, 200.20758215520473, 140.96247869054767, 129.72633604583996, 99.08231864510824, 97.03938730830191, 83.76031332678787, 73.54564311457429, 64.35243857076388, 55.15923064490798, 50.05189553880118, 49.03042648835254, 40.85868761294529, 40.85868761294529, 39.83722194454212, 39.83722194454212, 38.815756276138956, 36.772821557287145, 34.729886838435334, 34.729886838435334, 33.70841778798668, 33.70841778798668, 64.40969463906153, 57.242424480005674, 57.25873832487933, 100.26483430667685, 4353.553407857038, 84.00218313300194, 134.5396084423164, 67.50917600154979, 265.29178292150544, 127.2255879394235, 357.59357683537064, 913.1971082135069, 509.04374354097274, 1294.4474600373737, 262.3329338525181, 266.43049444087615, 540.1026464233869, 434.6426403975597, 1217.9859259781692, 910.4582861602087, 354.1421747372432, 144.48017196220235, 277.3171077240299, 1287.5717044362316, 386.47087344005047, 1752.263188586639, 2178.960770137998, 1147.2764488412006, 299.5624841493302, 1613.2857048708654, 1426.5380455063605, 833.1818519771955, 478.3725732533395], \"Category\": [\"Default\", \"Default\", \"Default\", \"Default\", \"Default\", \"Default\", \"Default\", \"Default\", \"Default\", \"Default\", \"Default\", \"Default\", \"Default\", \"Default\", \"Default\", \"Default\", \"Default\", \"Default\", \"Default\", \"Default\", \"Default\", \"Default\", \"Default\", \"Default\", \"Default\", \"Default\", \"Default\", \"Default\", \"Default\", \"Default\", \"Topic1\", \"Topic1\", \"Topic1\", \"Topic1\", \"Topic1\", \"Topic1\", \"Topic1\", \"Topic1\", \"Topic1\", \"Topic1\", \"Topic1\", \"Topic1\", \"Topic1\", \"Topic1\", \"Topic1\", \"Topic1\", \"Topic1\", \"Topic1\", \"Topic1\", \"Topic1\", \"Topic1\", \"Topic1\", \"Topic1\", \"Topic1\", \"Topic1\", \"Topic1\", \"Topic1\", \"Topic1\", \"Topic1\", \"Topic1\", \"Topic1\", \"Topic1\", \"Topic1\", \"Topic1\", \"Topic1\", \"Topic1\", \"Topic1\", \"Topic1\", \"Topic1\", \"Topic1\", \"Topic1\", \"Topic1\", \"Topic1\", \"Topic1\", \"Topic1\", \"Topic1\", \"Topic1\", \"Topic1\", \"Topic1\", \"Topic1\", \"Topic1\", \"Topic1\", \"Topic1\", \"Topic1\", \"Topic1\", \"Topic1\", \"Topic1\", \"Topic1\", \"Topic1\", \"Topic1\", \"Topic1\", \"Topic1\", \"Topic1\", \"Topic1\", \"Topic1\", \"Topic1\", \"Topic1\", \"Topic1\", \"Topic1\", \"Topic1\", \"Topic1\", \"Topic2\", \"Topic2\", \"Topic2\", \"Topic2\", \"Topic2\", \"Topic2\", \"Topic2\", \"Topic2\", \"Topic2\", \"Topic2\", \"Topic2\", \"Topic2\", \"Topic2\", \"Topic2\", \"Topic2\", \"Topic2\", \"Topic2\", \"Topic2\", \"Topic2\", \"Topic2\", \"Topic2\", \"Topic2\", \"Topic2\", \"Topic2\", \"Topic2\", \"Topic2\", \"Topic2\", \"Topic2\", \"Topic2\", \"Topic2\", \"Topic2\", \"Topic2\", \"Topic2\", \"Topic2\", \"Topic2\", \"Topic2\", \"Topic2\", \"Topic2\", \"Topic2\", \"Topic2\", \"Topic2\", \"Topic2\", \"Topic2\", \"Topic2\", \"Topic2\", \"Topic2\", \"Topic2\", \"Topic2\", \"Topic2\", \"Topic2\", \"Topic2\", \"Topic2\", \"Topic2\", \"Topic2\", \"Topic2\", \"Topic2\", \"Topic2\", \"Topic2\", \"Topic2\", \"Topic2\", \"Topic2\", \"Topic2\", \"Topic2\", \"Topic2\", \"Topic2\", \"Topic2\", \"Topic2\", \"Topic2\", \"Topic2\", \"Topic2\", \"Topic2\", \"Topic2\", \"Topic2\", \"Topic2\", \"Topic2\", \"Topic2\", \"Topic2\", \"Topic3\", \"Topic3\", \"Topic3\", \"Topic3\", \"Topic3\", \"Topic3\", \"Topic3\", \"Topic3\", \"Topic3\", \"Topic3\", \"Topic3\", \"Topic3\", \"Topic3\", \"Topic3\", \"Topic3\", \"Topic3\", \"Topic3\", \"Topic3\", \"Topic3\", \"Topic3\", \"Topic3\", \"Topic3\", \"Topic3\", \"Topic3\", \"Topic3\", \"Topic3\", \"Topic3\", \"Topic3\", \"Topic3\", \"Topic3\", \"Topic3\", \"Topic3\", \"Topic3\", \"Topic3\", \"Topic3\", \"Topic3\", \"Topic3\", \"Topic3\", \"Topic3\", \"Topic3\", \"Topic3\", \"Topic3\", \"Topic3\", \"Topic3\", \"Topic3\", \"Topic3\", \"Topic3\", \"Topic3\", \"Topic3\", \"Topic3\", \"Topic3\", \"Topic3\", \"Topic3\", \"Topic3\", \"Topic3\", \"Topic3\", \"Topic3\", \"Topic3\", \"Topic3\", \"Topic3\", \"Topic3\", \"Topic3\", \"Topic3\", \"Topic3\", \"Topic3\", \"Topic3\", \"Topic3\", \"Topic3\", \"Topic3\", \"Topic3\", \"Topic3\", \"Topic3\", \"Topic3\", \"Topic3\", \"Topic4\", \"Topic4\", \"Topic4\", \"Topic4\", \"Topic4\", \"Topic4\", \"Topic4\", \"Topic4\", \"Topic4\", \"Topic4\", \"Topic4\", \"Topic4\", \"Topic4\", \"Topic4\", \"Topic4\", \"Topic4\", \"Topic4\", \"Topic4\", \"Topic4\", \"Topic4\", \"Topic4\", \"Topic4\", \"Topic4\", \"Topic4\", \"Topic4\", \"Topic4\", \"Topic4\", \"Topic4\", \"Topic4\", \"Topic4\", \"Topic4\", \"Topic4\", \"Topic4\", \"Topic4\", \"Topic4\", \"Topic4\", \"Topic4\", \"Topic4\", \"Topic4\", \"Topic4\", \"Topic4\", \"Topic4\", \"Topic4\", \"Topic4\", \"Topic4\", \"Topic4\", \"Topic4\", \"Topic4\", \"Topic4\", \"Topic4\", \"Topic4\", \"Topic4\", \"Topic4\", \"Topic4\", \"Topic4\", \"Topic4\", \"Topic4\", \"Topic4\", \"Topic4\", \"Topic4\", \"Topic4\", \"Topic4\", \"Topic4\", \"Topic4\", \"Topic4\", \"Topic4\", \"Topic4\", \"Topic4\", \"Topic4\", \"Topic4\", \"Topic4\", \"Topic4\", \"Topic4\", \"Topic4\", \"Topic4\", \"Topic4\", \"Topic4\", \"Topic4\", \"Topic4\", \"Topic4\", \"Topic4\", \"Topic4\", \"Topic4\", \"Topic4\", \"Topic5\", \"Topic5\", \"Topic5\", \"Topic5\", \"Topic5\", \"Topic5\", \"Topic5\", \"Topic5\", \"Topic5\", \"Topic5\", \"Topic5\", \"Topic5\", \"Topic5\", \"Topic5\", \"Topic5\", \"Topic5\", \"Topic5\", \"Topic5\", \"Topic5\", \"Topic5\", \"Topic5\", \"Topic5\", \"Topic5\", \"Topic5\", \"Topic5\", \"Topic5\", \"Topic5\", \"Topic5\", \"Topic5\", \"Topic5\", \"Topic5\", \"Topic5\", \"Topic5\", \"Topic5\", \"Topic5\", \"Topic5\", \"Topic5\", \"Topic5\", \"Topic5\", \"Topic5\", \"Topic5\", \"Topic5\", \"Topic5\", \"Topic5\", \"Topic5\", \"Topic5\", \"Topic5\", \"Topic5\", \"Topic5\", \"Topic5\", \"Topic5\", \"Topic5\", \"Topic5\", \"Topic5\", \"Topic5\", \"Topic5\", \"Topic5\", \"Topic5\", \"Topic5\", \"Topic5\", \"Topic5\", \"Topic5\", \"Topic5\", \"Topic5\", \"Topic5\", \"Topic5\", \"Topic5\", \"Topic5\", \"Topic5\", \"Topic5\", \"Topic5\", \"Topic5\", \"Topic5\", \"Topic5\", \"Topic5\", \"Topic6\", \"Topic6\", \"Topic6\", \"Topic6\", \"Topic6\", \"Topic6\", \"Topic6\", \"Topic6\", \"Topic6\", \"Topic6\", \"Topic6\", \"Topic6\", \"Topic6\", \"Topic6\", \"Topic6\", \"Topic6\", \"Topic6\", \"Topic6\", \"Topic6\", \"Topic6\", \"Topic6\", \"Topic6\", \"Topic6\", \"Topic6\", \"Topic6\", \"Topic6\", \"Topic6\", \"Topic6\", \"Topic6\", \"Topic6\", \"Topic6\", \"Topic6\", \"Topic6\", \"Topic6\", \"Topic6\", \"Topic6\", \"Topic6\", \"Topic6\", \"Topic6\", \"Topic6\", \"Topic6\", \"Topic6\", \"Topic6\", \"Topic6\", \"Topic6\", \"Topic6\", \"Topic6\", \"Topic6\", \"Topic6\", \"Topic6\", \"Topic6\", \"Topic6\", \"Topic6\", \"Topic6\", \"Topic6\", \"Topic6\", \"Topic6\", \"Topic6\", \"Topic6\", \"Topic6\", \"Topic6\", \"Topic6\", \"Topic6\", \"Topic6\", \"Topic6\", \"Topic6\", \"Topic6\", \"Topic6\", \"Topic6\", \"Topic6\", \"Topic6\", \"Topic6\", \"Topic6\", \"Topic6\", \"Topic6\", \"Topic6\", \"Topic6\", \"Topic6\", \"Topic6\", \"Topic7\", \"Topic7\", \"Topic7\", \"Topic7\", \"Topic7\", \"Topic7\", \"Topic7\", \"Topic7\", \"Topic7\", \"Topic7\", \"Topic7\", \"Topic7\", \"Topic7\", \"Topic7\", \"Topic7\", \"Topic7\", \"Topic7\", \"Topic7\", \"Topic7\", \"Topic7\", \"Topic7\", \"Topic7\", \"Topic7\", \"Topic7\", \"Topic7\", \"Topic7\", \"Topic7\", \"Topic7\", \"Topic7\", \"Topic7\", \"Topic7\", \"Topic7\", \"Topic7\", \"Topic7\", \"Topic7\", \"Topic7\", \"Topic7\", \"Topic7\", \"Topic7\", \"Topic7\", \"Topic7\", \"Topic7\", \"Topic7\", \"Topic7\", \"Topic7\", \"Topic7\", \"Topic7\", \"Topic7\", \"Topic7\", \"Topic7\", \"Topic7\", \"Topic7\", \"Topic7\", \"Topic7\", \"Topic7\", \"Topic7\", \"Topic7\", \"Topic7\", \"Topic7\", \"Topic7\", \"Topic7\", \"Topic7\", \"Topic7\", \"Topic7\", \"Topic7\", \"Topic7\", \"Topic7\", \"Topic7\", \"Topic7\", \"Topic7\", \"Topic7\", \"Topic7\", \"Topic7\", \"Topic7\", \"Topic7\", \"Topic7\", \"Topic7\", \"Topic7\", \"Topic7\", \"Topic7\", \"Topic7\", \"Topic7\", \"Topic7\", \"Topic7\", \"Topic7\", \"Topic7\", \"Topic8\", \"Topic8\", \"Topic8\", \"Topic8\", \"Topic8\", \"Topic8\", \"Topic8\", \"Topic8\", \"Topic8\", \"Topic8\", \"Topic8\", \"Topic8\", \"Topic8\", \"Topic8\", \"Topic8\", \"Topic8\", \"Topic8\", \"Topic8\", \"Topic8\", \"Topic8\", \"Topic8\", \"Topic8\", \"Topic8\", \"Topic8\", \"Topic8\", \"Topic8\", \"Topic8\", \"Topic8\", \"Topic8\", \"Topic8\", \"Topic8\", \"Topic8\", \"Topic8\", \"Topic8\", \"Topic8\", \"Topic8\", \"Topic8\", \"Topic8\", \"Topic8\", \"Topic8\", \"Topic8\", \"Topic8\", \"Topic8\", \"Topic8\", \"Topic8\", \"Topic8\", \"Topic8\", \"Topic8\", \"Topic8\", \"Topic8\", \"Topic8\", \"Topic8\", \"Topic8\", \"Topic8\", \"Topic8\", \"Topic8\", \"Topic8\", \"Topic8\", \"Topic8\", \"Topic8\", \"Topic8\", \"Topic8\", \"Topic8\", \"Topic8\", \"Topic8\", \"Topic8\", \"Topic8\", \"Topic8\", \"Topic8\", \"Topic8\", \"Topic8\", \"Topic8\", \"Topic8\", \"Topic8\", \"Topic8\", \"Topic8\", \"Topic9\", \"Topic9\", \"Topic9\", \"Topic9\", \"Topic9\", \"Topic9\", \"Topic9\", \"Topic9\", \"Topic9\", \"Topic9\", \"Topic9\", \"Topic9\", \"Topic9\", \"Topic9\", \"Topic9\", \"Topic9\", \"Topic9\", \"Topic9\", \"Topic9\", \"Topic9\", \"Topic9\", \"Topic9\", \"Topic9\", \"Topic9\", \"Topic9\", \"Topic9\", \"Topic9\", \"Topic9\", \"Topic9\", \"Topic9\", \"Topic9\", \"Topic9\", \"Topic9\", \"Topic9\", \"Topic9\", \"Topic9\", \"Topic9\", \"Topic9\", \"Topic9\", \"Topic9\", \"Topic9\", \"Topic9\", \"Topic9\", \"Topic9\", \"Topic9\", \"Topic9\", \"Topic9\", \"Topic9\", \"Topic9\", \"Topic9\", \"Topic9\", \"Topic9\", \"Topic9\", \"Topic9\", \"Topic9\", \"Topic9\", \"Topic9\", \"Topic9\", \"Topic9\", \"Topic9\", \"Topic9\", \"Topic9\", \"Topic9\", \"Topic9\", \"Topic9\", \"Topic9\", \"Topic9\", \"Topic9\", \"Topic9\", \"Topic9\", \"Topic9\", \"Topic9\", \"Topic9\", \"Topic9\", \"Topic9\", \"Topic9\", \"Topic9\", \"Topic9\", \"Topic9\", \"Topic9\", \"Topic9\", \"Topic9\", \"Topic9\", \"Topic10\", \"Topic10\", \"Topic10\", \"Topic10\", \"Topic10\", \"Topic10\", \"Topic10\", \"Topic10\", \"Topic10\", \"Topic10\", \"Topic10\", \"Topic10\", \"Topic10\", \"Topic10\", \"Topic10\", \"Topic10\", \"Topic10\", \"Topic10\", \"Topic10\", \"Topic10\", \"Topic10\", \"Topic10\", \"Topic10\", \"Topic10\", \"Topic10\", \"Topic10\", \"Topic10\", \"Topic10\", \"Topic10\", \"Topic10\", \"Topic10\", \"Topic10\", \"Topic10\", \"Topic10\", \"Topic10\", \"Topic10\", \"Topic10\", \"Topic10\", \"Topic10\", \"Topic10\", \"Topic10\", \"Topic10\", \"Topic10\", \"Topic10\", \"Topic10\", \"Topic10\", \"Topic10\", \"Topic10\", \"Topic10\", \"Topic10\", \"Topic10\", \"Topic10\", \"Topic10\", \"Topic10\", \"Topic10\", \"Topic10\", \"Topic10\", \"Topic10\", \"Topic10\", \"Topic10\", \"Topic10\", \"Topic10\", \"Topic10\", \"Topic10\", \"Topic10\", \"Topic10\", \"Topic10\", \"Topic10\", \"Topic10\", \"Topic10\", \"Topic10\", \"Topic10\", \"Topic10\", \"Topic10\", \"Topic10\", \"Topic10\", \"Topic10\", \"Topic10\", \"Topic10\", \"Topic10\", \"Topic10\", \"Topic11\", \"Topic11\", \"Topic11\", \"Topic11\", \"Topic11\", \"Topic11\", \"Topic11\", \"Topic11\", \"Topic11\", \"Topic11\", \"Topic11\", \"Topic11\", \"Topic11\", \"Topic11\", \"Topic11\", \"Topic11\", \"Topic11\", \"Topic11\", \"Topic11\", \"Topic11\", \"Topic11\", \"Topic11\", \"Topic11\", \"Topic11\", \"Topic11\", \"Topic11\", \"Topic11\", \"Topic11\", \"Topic11\", \"Topic11\", \"Topic11\", \"Topic11\", \"Topic11\", \"Topic11\", \"Topic11\", \"Topic11\", \"Topic11\", \"Topic11\", \"Topic11\", \"Topic11\", \"Topic11\", \"Topic11\", \"Topic11\", \"Topic11\", \"Topic11\", \"Topic11\", \"Topic11\", \"Topic11\", \"Topic11\", \"Topic11\", \"Topic11\", \"Topic11\", \"Topic11\", \"Topic11\", \"Topic11\", \"Topic11\", \"Topic11\", \"Topic11\", \"Topic11\", \"Topic11\", \"Topic11\", \"Topic11\", \"Topic11\", \"Topic11\", \"Topic11\", \"Topic11\", \"Topic11\", \"Topic11\", \"Topic11\", \"Topic11\", \"Topic11\", \"Topic11\", \"Topic11\", \"Topic11\", \"Topic11\", \"Topic11\", \"Topic11\", \"Topic11\", \"Topic11\", \"Topic11\", \"Topic12\", \"Topic12\", \"Topic12\", \"Topic12\", \"Topic12\", \"Topic12\", \"Topic12\", \"Topic12\", \"Topic12\", \"Topic12\", \"Topic12\", \"Topic12\", \"Topic12\", \"Topic12\", \"Topic12\", \"Topic12\", \"Topic12\", \"Topic12\", \"Topic12\", \"Topic12\", \"Topic12\", \"Topic12\", \"Topic12\", \"Topic12\", \"Topic12\", \"Topic12\", \"Topic12\", \"Topic12\", \"Topic12\", \"Topic12\", \"Topic12\", \"Topic12\", \"Topic12\", \"Topic12\", \"Topic12\", \"Topic12\", \"Topic12\", \"Topic12\", \"Topic12\", \"Topic12\", \"Topic12\", \"Topic12\", \"Topic12\", \"Topic12\", \"Topic12\", \"Topic12\", \"Topic12\", \"Topic12\", \"Topic12\", \"Topic12\", \"Topic12\", \"Topic12\", \"Topic12\", \"Topic12\", \"Topic12\", \"Topic12\", \"Topic12\", \"Topic12\", \"Topic12\", \"Topic12\", \"Topic12\", \"Topic12\", \"Topic12\", \"Topic12\", \"Topic12\", \"Topic12\", \"Topic12\", \"Topic12\", \"Topic12\", \"Topic12\", \"Topic12\", \"Topic12\", \"Topic12\", \"Topic12\", \"Topic12\", \"Topic12\", \"Topic12\", \"Topic12\", \"Topic12\", \"Topic12\", \"Topic12\", \"Topic12\", \"Topic12\", \"Topic12\", \"Topic12\", \"Topic12\", \"Topic12\", \"Topic12\", \"Topic12\"], \"logprob\": [30.0, 29.0, 28.0, 27.0, 26.0, 25.0, 24.0, 23.0, 22.0, 21.0, 20.0, 19.0, 18.0, 17.0, 16.0, 15.0, 14.0, 13.0, 12.0, 11.0, 10.0, 9.0, 8.0, 7.0, 6.0, 5.0, 4.0, 3.0, 2.0, 1.0, -7.5468, -5.4578, -4.5396, -6.7445, -10.1118, -7.0672, -4.5705, -3.7419, -4.4384, -10.1118, -4.2828, -6.6778, -5.3668, -5.2597, -7.8092, -6.646, -5.9374, -5.229, -6.3276, -10.1118, -10.1118, -8.7255, -6.7445, -3.3228, -10.1118, -6.2831, -8.5023, -6.1415, -6.7445, -7.6269, -4.9938, -4.6912, -5.1419, -5.2366, -5.3933, -5.5166, -5.5268, -5.6231, -5.6809, -5.7297, -5.8777, -5.9071, -5.2834, -6.0687, -6.1044, -6.1997, -6.2406, -6.1228, -6.0513, -4.7552, -3.5722, -4.3529, -4.9413, -4.4986, -5.781, -4.7839, -4.201, -4.8491, -4.5666, -4.3914, -4.1103, -4.1769, -5.0492, -5.163, -4.7411, -4.8491, -4.9413, -4.9133, -5.0429, -5.1489, -5.0555, -6.5739, -7.8732, -3.9678, -3.5616, -6.3815, -6.8123, -6.6692, -7.5855, -7.126, -10.0704, -7.3623, -8.6841, -5.9115, -7.18, -10.0704, -5.027, -6.4328, -6.1386, -6.3815, -6.4595, -7.5855, -6.8515, -7.18, -10.0704, -6.3092, -8.9718, -5.2106, -6.6364, -5.9433, -7.991, -4.1705, -5.2106, -5.5595, -5.8077, -5.8219, -5.8807, -6.1386, -6.1584, -6.1786, -6.1992, -5.3699, -6.2862, -6.3327, -6.3568, -6.4068, -6.4068, -6.4328, -6.4595, -5.6396, -5.9273, -4.1927, -4.1068, -6.01, -4.2623, -3.2224, -3.5222, -4.7233, -4.9705, -5.2746, -2.9435, -3.8013, -5.3255, -5.4854, -4.5213, -4.4982, -4.2835, -5.2106, -5.3883, -4.7138, -4.0542, -4.7572, -4.7044, -4.6151, -4.8999, -4.7974, -4.4573, -5.3342, -7.8061, -4.3206, -7.1594, -10.204, -4.7401, -4.8333, -7.9014, -7.9014, -5.1933, -6.8367, -6.8367, -8.4122, -6.8718, -4.3928, -9.5108, -5.2411, -9.5108, -6.1096, -6.0608, -6.2919, -4.6242, -4.2559, -7.639, -8.5945, -10.204, -10.204, -9.5108, -7.1129, -7.7191, -7.1594, -3.8444, -4.4356, -5.0392, -5.2913, -5.3677, -5.3837, -5.7972, -5.8219, -5.8865, -5.9413, -6.0931, -6.1096, -6.1786, -6.1966, -6.2527, -6.3973, -6.5664, -6.593, -6.6204, -5.7042, -4.8195, -4.5136, -4.5272, -3.8654, -2.8445, -4.8908, -4.0116, -5.08, -5.5218, -3.8171, -3.5485, -3.0892, -4.0323, -4.6785, -4.7879, -4.9729, -5.0623, -4.8616, -4.2455, -3.918, -4.6093, -4.4049, -4.8058, -5.0392, -10.1421, -3.6529, -10.1421, -7.3695, -6.2301, -8.1962, -7.9449, -5.9226, -7.1464, -7.7442, -6.6764, -5.7854, -6.6764, -10.1421, -10.1421, -10.1421, -10.1421, -10.1421, -6.8463, -7.3695, -6.0478, -7.9449, -8.7558, -7.1464, -7.4341, -10.1421, -7.1464, -7.9449, -7.7442, -7.3089, -4.6087, -5.0362, -4.7305, -5.2149, -5.2443, -5.3714, -5.3972, -5.5778, -5.6762, -5.7477, -5.8114, -5.8246, -5.8654, -5.9525, -5.9677, -6.015, -6.0646, -6.0817, -6.0817, -6.0817, -6.1348, -6.1909, -6.2301, -6.2709, -6.292, -4.1811, -5.4236, -5.9374, -2.993, -4.8338, -3.9725, -4.2019, -3.4219, -5.5778, -5.2901, -4.9381, -3.5797, -4.9547, -4.2179, -5.4693, -4.8438, -4.9888, -5.2518, -4.7128, -5.0545, -4.5363, -4.7084, -5.1934, -5.0732, -4.8142, -5.0241, -5.2295, -5.1793, -5.2443, -3.8098, -10.0958, -8.9971, -8.9971, -10.0958, -6.6618, -7.1, -3.7345, -6.3581, -5.7013, -10.0958, -5.2437, -7.3232, -7.0047, -5.1122, -5.4906, -8.4863, -8.9971, -8.304, -6.1445, -8.4863, -6.5694, -8.4863, -8.7095, -5.6299, -8.1498, -6.0704, -8.7095, -4.8593, -10.0958, -4.0508, -4.931, -5.1259, -5.2054, -5.2206, -5.2282, -5.2359, -5.4044, -5.4323, -5.5419, -5.574, -5.6769, -5.7013, -5.7137, -5.7391, -5.8331, -5.9061, -5.9214, -6.0353, -6.0884, -6.1255, -4.2293, -5.9061, -4.8435, -4.5945, -4.6319, -5.3773, -4.8331, -5.2359, -3.7224, -4.9838, -4.4224, -4.1796, -5.002, -4.9253, -4.2609, -5.0851, -4.8973, -4.8647, -5.1905, -5.119, -5.0144, -5.0653, -5.119, -5.0918, -7.1907, -7.1907, -8.1892, -9.0365, -5.8866, -7.4961, -6.3285, -7.3625, -8.0557, -5.992, -5.3989, -5.6465, -5.7657, -4.4968, -10.1351, -7.9379, -9.442, -10.1351, -7.4271, -10.1351, -8.7488, -7.9379, -6.3739, -8.7488, -8.1892, -7.3625, -7.8325, -5.356, -9.442, -7.6502, -2.9813, -3.1239, -4.6713, -5.1515, -5.1653, -4.8468, -5.54, -5.6578, -5.6808, -5.7043, -5.7043, -5.7284, -5.8176, -5.8866, -5.9304, -4.697, -6.0408, -6.0921, -6.1648, -6.4215, -6.4462, -3.1412, -5.2079, -5.6808, -6.0921, -4.6177, -3.2174, -3.2924, -3.9489, -4.2325, -4.1588, -5.4438, -4.4932, -5.1935, -4.6137, -4.336, -4.2135, -5.1047, -4.737, -4.1263, -4.5822, -4.1976, -4.7014, -4.8934, -4.9202, -4.8776, -4.9646, -5.0231, -5.1584, -7.6555, -7.5755, -5.6187, -8.1945, -8.1945, -9.4473, -10.1405, -10.1405, -10.1405, -10.1405, -9.0418, -6.0296, -9.0418, -7.6555, -7.6555, -5.823, -5.0285, -8.061, -6.4769, -8.1945, -7.2501, -4.4845, -7.5014, -9.0418, -6.1892, -8.061, -10.1405, -8.531, -6.2903, -6.2903, -4.5383, -4.9643, -5.0779, -5.3364, -5.4491, -5.5155, -5.5555, -5.6745, -5.11, -5.7584, -5.7837, -5.7966, -5.8097, -5.892, -5.9209, -5.9508, -6.1151, -6.1702, -6.2486, -6.3118, -6.3118, -6.3338, -5.6187, -5.5761, -3.0347, -5.9973, -4.6433, -5.8097, -6.0296, -3.6377, -4.8472, -5.0716, -5.6187, -5.4961, -4.7244, -4.6937, -4.3753, -5.3869, -5.44, -5.1035, -5.5657, -4.8522, -4.5798, -5.3613, -4.97, -5.11, -4.904, -5.0467, -5.2132, -5.1035, -5.206, -5.206, -5.2352, -5.2278, -5.2884, -5.2132, -5.4971, -8.7836, -6.7687, -6.3857, -4.2591, -7.1741, -5.3577, -5.8391, -5.425, -8.0904, -7.5308, -5.0639, -4.6131, -7.3973, -10.1699, -7.2254, -5.3416, -4.043, -10.1699, -7.9727, -7.5308, -10.1699, -5.6373, -10.1699, -7.6049, -9.0713, -8.7836, -5.7879, -7.4618, -6.1445, -4.411, -4.818, -5.1592, -5.2282, -4.9072, -5.4425, -4.9229, -5.5159, -5.6701, -5.6925, -5.7632, -5.7632, -5.8132, -5.8658, -5.8932, -5.9802, -6.0267, -6.0427, -6.0427, -4.9124, -5.5647, -5.7632, -4.7992, -4.4966, -5.4604, -4.1961, -5.1073, -4.2645, -4.2323, -3.1443, -3.7353, -4.5752, -5.4163, -4.9659, -4.8518, -3.918, -5.0823, -5.0579, -4.7854, -5.0166, -4.5939, -4.9176, -5.0166, -4.8039, -4.8969, -5.1073, -4.1675, -5.5095, -6.3927, -7.2095, -7.2095, -7.589, -6.5163, -7.589, -6.3927, -7.589, -6.2027, -7.589, -7.2095, -7.589, -7.589, -6.8958, -7.589, -7.589, -5.9951, -7.2636, -8.3622, -7.1094, -7.3813, -6.2827, -10.1539, -7.8513, -5.9643, -6.4651, -8.208, -7.9567, -4.9122, -5.0788, -5.3019, -5.3581, -5.6213, -5.7845, -5.9344, -5.9643, -5.9643, -6.1109, -6.1466, -6.165, -6.1836, -6.3253, -5.4535, -6.3697, -5.5, -6.5704, -6.5704, -6.5986, -6.0431, -6.0764, -2.6589, -5.6766, -3.9781, -4.3046, -4.17, -4.6775, -5.0006, -5.1235, -4.8407, -4.5227, -4.8457, -5.0913, -4.3428, -4.6205, -4.1113, -3.3482, -4.2623, -4.5156, -5.234, -3.8944, -4.1955, -4.6775, -4.5372, -4.8912, -4.8358, -4.601, -5.0725, -4.9778, -4.7159, -4.9175, -4.9336, -8.3308, -7.6376, -6.1907, -7.6376, -10.1225, -10.1225, -10.1225, -8.5131, -10.1225, -7.2893, -10.1225, -6.3159, -10.1225, -7.4835, -8.3308, -10.1225, -10.1225, -5.4976, -10.1225, -10.1225, -8.3308, -8.5131, -7.4835, -5.0536, -7.9253, -10.1225, -10.1225, -10.1225, -9.4294, -10.1225, -3.4329, -4.3924, -4.4806, -4.8242, -4.9022, -4.9076, -5.1738, -5.2397, -5.3185, -5.3268, -5.4976, -5.5074, -5.5074, -5.7405, -5.7658, -5.7787, -5.8459, -5.8599, -6.0282, -6.045, -6.0795, -6.0972, -6.1152, -6.1152, -6.1713, -6.1907, -6.2105, -5.903, -3.6548, -3.8862, -3.8553, -4.0823, -3.4684, -4.8808, -5.4312, -4.5696, -4.663, -4.4842, -4.2063, -4.3924, -4.4188, -4.4527, -4.5131, -4.1162, -4.3025, -4.9521, -4.975, -4.8292, -4.8755, -4.8703, -5.1458, -8.8089, -5.5801, -7.998, -6.1009, -6.6399, -8.1158, -5.9048, -8.8089, -6.794, -7.8926, -7.2508, -5.459, -8.8089, -5.7066, -10.1952, -5.8777, -8.4035, -10.1952, -9.0966, -3.6008, -7.7973, -7.998, -10.1952, -8.1158, -5.9611, -8.1158, -4.1694, -7.362, -6.5576, -7.3049, -4.4053, -4.9019, -5.0419, -6.324, -6.3666, -6.411, -6.5317, -6.6689, -6.6987, -6.6987, -6.7295, -6.794, -6.794, -6.8279, -6.863, -6.9371, -6.9763, -6.9763, -2.5318, -1.9657, -5.8132, -2.3581, -6.5843, -3.4798, -5.3354, -3.1144, -4.6193, -4.1153, -4.9171, -5.0419, -4.7272, -5.4947, -5.2536, -5.5703, -5.1713, -5.6626, -4.1669, -4.9274, -4.7881, -4.8969, -5.0536, -4.882, -4.8673, -4.912, -4.8062, -4.5894, -4.6231, -4.5604, -4.4619, -4.9222, -7.1645, -6.7899, -7.5475, -9.5624, -6.5667, -7.953, -6.4714, -4.3612, -7.6906, -8.6461, -7.6906, -10.2556, -10.2556, -6.3043, -9.5624, -6.7899, -10.2556, -6.8544, -10.2556, -6.7899, -8.1761, -7.953, -8.8693, -10.2556, -7.1645, -8.8693, -8.6461, -6.9975, -7.2599, -10.2556, -3.5258, -3.7543, -3.9457, -3.9659, -4.5892, -4.9775, -5.3283, -5.4114, -5.6809, -5.7017, -5.8489, -5.9789, -6.1125, -6.2666, -6.3638, -6.3844, -6.5667, -6.5667, -6.592, -6.592, -6.618, -6.6721, -6.7292, -6.7292, -6.7591, -6.7591, -6.1285, -6.2483, -6.2483, -5.7123, -2.2148, -5.9118, -5.4849, -6.1125, -4.8943, -5.5551, -4.6388, -3.8389, -4.3557, -3.8553, -5.0851, -5.1023, -4.5996, -4.7708, -4.049, -4.2792, -4.9673, -5.5735, -5.2122, -4.3502, -5.0352, -4.3233, -4.2201, -4.7708, -5.3068, -4.8574, -4.9375, -5.245, -5.2927], \"loglift\": [30.0, 29.0, 28.0, 27.0, 26.0, 25.0, 24.0, 23.0, 22.0, 21.0, 20.0, 19.0, 18.0, 17.0, 16.0, 15.0, 14.0, 13.0, 12.0, 11.0, 10.0, 9.0, 8.0, 7.0, 6.0, 5.0, 4.0, 3.0, 2.0, 1.0, 2.5228, 2.5228, 2.5228, 2.5228, 2.5228, 2.5228, 2.5228, 2.5228, 2.5228, 2.5228, 2.5228, 2.5228, 2.5228, 2.5228, 2.5228, 2.5228, 2.5228, 2.5228, 2.5228, 2.5228, 2.5228, 2.5228, 2.5228, 2.5228, 2.5228, 2.5228, 2.5228, 2.5228, 2.5228, 2.5228, 2.5228, 2.5184, 2.5228, 2.5228, 2.5228, 2.5228, 2.5228, 2.5228, 2.5228, 2.5228, 2.5228, 2.5228, 2.5149, 2.5228, 2.5228, 2.5228, 2.5228, 2.5041, 2.4883, 2.1673, 1.871, 1.9099, 2.0566, 1.8425, 2.3739, 1.825, 1.4484, 1.7546, 1.4863, 1.1755, 0.8163, 0.7967, 1.7882, 1.9284, 1.1227, 1.2544, 0.9309, 0.7828, 0.6025, 1.3054, -0.4134, 2.5449, 2.5449, 2.5449, 2.5449, 2.5449, 2.5449, 2.5449, 2.5449, 2.5449, 2.5449, 2.5449, 2.5449, 2.5449, 2.5449, 2.5449, 2.5449, 2.5449, 2.5449, 2.5449, 2.5449, 2.5449, 2.5449, 2.5449, 2.5449, 2.5449, 2.5449, 2.5449, 2.5449, 2.5449, 2.5449, 2.5422, 2.5449, 2.5449, 2.5449, 2.5449, 2.5449, 2.5449, 2.5449, 2.5449, 2.5449, 2.536, 2.5449, 2.5449, 2.5449, 2.5449, 2.5449, 2.5449, 2.5449, 2.5333, 2.5295, 2.4389, 2.3599, 2.5117, 2.2867, 2.1057, 2.1271, 2.2377, 2.2795, 2.3031, 1.6986, 1.8189, 2.2808, 2.2983, 1.8, 1.7645, 1.6401, 2.0018, 2.1277, 1.6037, 0.9193, 1.115, 0.8626, 0.6894, 1.153, 0.8987, 0.155, 1.6888, 2.4321, 2.4321, 2.4321, 2.4321, 2.4321, 2.4321, 2.4321, 2.4321, 2.4321, 2.4321, 2.4321, 2.4321, 2.4321, 2.4321, 2.4321, 2.4321, 2.4321, 2.4321, 2.4321, 2.4321, 2.4321, 2.4321, 2.4321, 2.4321, 2.4321, 2.4321, 2.4321, 2.4321, 2.4321, 2.4321, 2.4288, 2.4321, 2.4321, 2.4321, 2.4321, 2.4321, 2.4321, 2.4321, 2.4321, 2.4321, 2.4321, 2.4321, 2.4321, 2.4321, 2.4321, 2.4321, 2.4321, 2.4321, 2.4321, 2.4104, 2.3348, 2.2729, 2.2602, 2.1934, 2.025, 2.229, 2.0653, 2.2355, 2.3167, 1.9208, 1.6733, 1.5231, 1.6862, 1.8955, 1.9427, 2.0141, 2.0121, 1.8548, 1.1819, 0.7241, 1.356, 0.9609, 0.3357, 1.8697, 2.4808, 2.4808, 2.4808, 2.4808, 2.4808, 2.4808, 2.4808, 2.4808, 2.4808, 2.4808, 2.4808, 2.4808, 2.4808, 2.4808, 2.4808, 2.4808, 2.4808, 2.4808, 2.4808, 2.4808, 2.4808, 2.4808, 2.4808, 2.4808, 2.4808, 2.4808, 2.4808, 2.4808, 2.4808, 2.4808, 2.4808, 2.4808, 2.4764, 2.4808, 2.4808, 2.4808, 2.4808, 2.4808, 2.4808, 2.4808, 2.4808, 2.4808, 2.4808, 2.4808, 2.4808, 2.4808, 2.4808, 2.4808, 2.4808, 2.4808, 2.4808, 2.4808, 2.4808, 2.4808, 2.4808, 2.4096, 2.4455, 2.4662, 2.2489, 2.3072, 2.1708, 2.1814, 1.8014, 2.3528, 2.2485, 2.137, 1.4242, 2.0139, 1.6275, 2.2224, 1.7723, 1.8307, 2.0134, 1.449, 1.7712, 1.2129, 0.9118, 1.6384, 0.7415, -0.2019, 0.4033, 1.2249, 0.3877, 1.051, 2.5189, 2.5189, 2.5189, 2.5189, 2.5189, 2.5189, 2.5189, 2.5189, 2.5189, 2.5189, 2.5189, 2.5189, 2.5189, 2.5189, 2.5189, 2.5189, 2.5189, 2.5189, 2.5189, 2.5189, 2.5189, 2.5189, 2.5189, 2.5189, 2.5189, 2.5189, 2.5189, 2.5189, 2.5189, 2.5189, 2.5189, 2.5189, 2.5189, 2.5189, 2.5189, 2.5189, 2.5189, 2.5189, 2.5189, 2.5189, 2.5189, 2.5189, 2.5189, 2.5189, 2.5189, 2.5189, 2.5189, 2.5189, 2.5189, 2.5189, 2.5189, 2.4344, 2.5043, 2.3789, 2.3216, 2.1748, 2.3348, 2.0261, 2.2053, 1.1471, 1.842, 1.296, 1.0437, 1.8328, 1.6285, 0.7126, 1.7834, 1.3616, 0.8846, 1.5976, 1.2922, -0.0105, 0.2391, 0.3084, -0.4795, 2.5032, 2.5032, 2.5032, 2.5032, 2.5032, 2.5032, 2.5032, 2.5032, 2.5032, 2.5032, 2.5032, 2.5032, 2.5032, 2.5032, 2.5032, 2.5032, 2.5032, 2.5032, 2.5032, 2.5032, 2.5032, 2.5032, 2.5032, 2.5032, 2.5032, 2.5032, 2.5032, 2.5032, 2.5032, 2.5032, 2.5032, 2.5023, 2.5032, 2.5032, 2.5032, 2.4982, 2.5032, 2.5032, 2.5032, 2.5032, 2.5032, 2.5032, 2.5032, 2.5032, 2.5032, 2.4899, 2.5032, 2.5032, 2.5032, 2.5032, 2.5032, 2.4628, 2.489, 2.4803, 2.4858, 2.337, 2.1484, 1.8491, 1.8678, 1.9293, 1.7177, 2.264, 1.713, 2.0932, 1.6721, 1.231, 1.0909, 1.886, 1.4244, 0.486, 1.0613, 0.482, 0.3431, 0.8027, 0.6098, 0.032, 0.2587, 0.4951, 1.0309, 2.4901, 2.4901, 2.4901, 2.4901, 2.4901, 2.4901, 2.4901, 2.4901, 2.4901, 2.4901, 2.4901, 2.4901, 2.4901, 2.4901, 2.4901, 2.4901, 2.4901, 2.4901, 2.4901, 2.4901, 2.4901, 2.4901, 2.4901, 2.4901, 2.4901, 2.4901, 2.4901, 2.4901, 2.4901, 2.4901, 2.4901, 2.4901, 2.4901, 2.4901, 2.4901, 2.4901, 2.4901, 2.4901, 2.4837, 2.4901, 2.4901, 2.4901, 2.4901, 2.4901, 2.4901, 2.4901, 2.4901, 2.4901, 2.4901, 2.4901, 2.4901, 2.4901, 2.4792, 2.4703, 2.3433, 2.4749, 2.3575, 2.4516, 2.4585, 1.9478, 2.1666, 2.1274, 2.3102, 2.2259, 1.7482, 1.5921, 1.1547, 2.001, 2.0315, 1.4166, 2.118, 0.7584, 0.0325, 1.6264, 0.597, 0.9669, 0.4004, 0.7799, 0.8953, 0.3397, 0.6662, 0.6578, 0.73, 0.587, 0.9807, 0.0086, 2.4721, 2.4721, 2.4721, 2.4721, 2.4721, 2.4721, 2.4721, 2.4721, 2.4721, 2.4721, 2.4721, 2.4721, 2.4721, 2.4721, 2.4721, 2.4721, 2.4721, 2.4721, 2.4721, 2.4721, 2.4721, 2.4721, 2.4721, 2.4721, 2.4721, 2.4721, 2.4721, 2.4721, 2.4721, 2.4721, 2.4721, 2.4721, 2.4721, 2.4721, 2.4668, 2.4721, 2.4669, 2.4721, 2.4721, 2.4721, 2.4721, 2.4721, 2.4721, 2.4721, 2.4721, 2.4721, 2.4721, 2.4721, 2.4721, 2.4521, 2.4621, 2.46, 2.3808, 2.3494, 2.4276, 2.2154, 2.317, 2.0335, 1.9569, 1.1674, 1.4062, 1.766, 2.2887, 1.9623, 1.8755, 1.0556, 2.0049, 1.9705, 1.4837, 1.6595, 0.6294, 1.3413, 1.4676, 0.726, 0.4811, 0.6112, 2.468, 2.468, 2.468, 2.468, 2.468, 2.468, 2.468, 2.468, 2.468, 2.468, 2.468, 2.468, 2.468, 2.468, 2.468, 2.468, 2.468, 2.468, 2.468, 2.468, 2.468, 2.468, 2.468, 2.468, 2.468, 2.468, 2.468, 2.468, 2.468, 2.468, 2.468, 2.468, 2.468, 2.468, 2.468, 2.468, 2.468, 2.468, 2.468, 2.468, 2.468, 2.468, 2.468, 2.468, 2.4589, 2.468, 2.4587, 2.468, 2.468, 2.468, 2.4518, 2.4515, 2.2677, 2.4239, 2.3146, 2.2965, 2.2385, 2.2911, 2.3005, 2.2479, 2.1758, 2.0165, 2.0634, 2.1214, 1.8634, 1.9374, 1.7153, 1.2939, 1.6613, 1.7797, 2.1175, 1.4337, 1.5424, 1.8067, 1.6242, 1.7303, 1.5754, 0.9173, 1.6439, 0.8944, -0.3899, -0.048, 0.04, 2.5142, 2.5142, 2.5142, 2.5142, 2.5142, 2.5142, 2.5142, 2.5142, 2.5142, 2.5142, 2.5142, 2.5142, 2.5142, 2.5142, 2.5142, 2.5142, 2.5142, 2.5142, 2.5142, 2.5142, 2.5142, 2.5142, 2.5142, 2.5142, 2.5142, 2.5142, 2.5142, 2.5142, 2.5142, 2.5142, 2.513, 2.5142, 2.5142, 2.5142, 2.5142, 2.5142, 2.5142, 2.5142, 2.5142, 2.5142, 2.5142, 2.5142, 2.5142, 2.5142, 2.5142, 2.5142, 2.5142, 2.5142, 2.5142, 2.5142, 2.5142, 2.5142, 2.5142, 2.5142, 2.5142, 2.5142, 2.5142, 2.471, 1.8698, 1.8631, 1.79, 1.763, 1.5355, 1.9509, 2.2088, 1.7479, 1.7357, 1.6243, 1.4042, 1.4223, 1.3979, 1.4111, 1.3604, 0.9283, 0.9394, 1.7549, 1.4793, 0.6139, 0.7446, 0.5572, 1.4079, 2.4661, 2.4661, 2.4661, 2.4661, 2.4661, 2.4661, 2.4661, 2.4661, 2.4661, 2.4661, 2.4661, 2.4661, 2.4661, 2.4661, 2.4661, 2.4661, 2.4661, 2.4661, 2.4661, 2.4661, 2.4661, 2.4661, 2.4661, 2.4661, 2.4661, 2.4661, 2.4661, 2.4661, 2.4661, 2.4661, 2.4661, 2.4661, 2.4661, 2.4661, 2.4661, 2.4661, 2.4661, 2.4661, 2.4661, 2.4661, 2.4661, 2.4661, 2.4661, 2.4661, 2.4661, 2.4661, 2.4661, 2.4661, 2.3778, 2.3602, 2.4404, 2.3215, 2.4381, 2.0384, 2.2678, 1.9301, 2.1385, 1.9689, 2.1039, 2.0378, 1.9372, 2.1384, 2.0637, 2.1587, 1.9804, 2.1718, 1.4765, 1.6471, 1.4811, 1.5353, 1.6534, 1.4803, 1.4307, 1.3837, 1.2452, 0.715, 0.5987, 0.4131, 0.1504, 0.7738, 2.4136, 2.4136, 2.4136, 2.4136, 2.4136, 2.4136, 2.4136, 2.4136, 2.4136, 2.4136, 2.4136, 2.4136, 2.4136, 2.4136, 2.4136, 2.4136, 2.4136, 2.4136, 2.4136, 2.4136, 2.4136, 2.4136, 2.4136, 2.4136, 2.4136, 2.4136, 2.4136, 2.4136, 2.4136, 2.4136, 2.4136, 2.4136, 2.4136, 2.4136, 2.4136, 2.4136, 2.4136, 2.4136, 2.4136, 2.4136, 2.4136, 2.4136, 2.4136, 2.4136, 2.4136, 2.4136, 2.4136, 2.4136, 2.4136, 2.4136, 2.4136, 2.4136, 2.4136, 2.4136, 2.4136, 2.4136, 2.3967, 2.3949, 2.3946, 2.3703, 2.0969, 2.3478, 2.3037, 2.3657, 2.2153, 2.2894, 2.1722, 2.0347, 2.1022, 1.6693, 2.0357, 2.003, 1.7991, 1.8451, 1.5365, 1.5973, 1.8534, 2.1439, 1.8531, 1.1797, 1.6982, 0.8985, 0.7837, 0.8745, 1.6813, 0.447, 0.49, 0.7203, 1.2273]}, \"token.table\": {\"Topic\": [4, 11, 4, 3, 11, 6, 9, 10, 6, 1, 6, 1, 5, 7, 4, 5, 7, 3, 5, 6, 7, 12, 4, 1, 4, 7, 8, 10, 7, 2, 5, 1, 10, 10, 12, 3, 4, 6, 7, 11, 3, 6, 9, 11, 5, 10, 2, 2, 3, 6, 8, 10, 12, 6, 8, 3, 6, 12, 10, 6, 8, 2, 11, 2, 12, 7, 9, 1, 6, 10, 11, 12, 1, 2, 3, 6, 8, 9, 10, 11, 1, 2, 5, 6, 8, 9, 11, 6, 10, 12, 1, 3, 5, 11, 12, 3, 6, 10, 12, 11, 10, 12, 1, 2, 8, 4, 6, 7, 10, 6, 10, 2, 4, 5, 4, 5, 11, 5, 9, 3, 6, 10, 12, 6, 6, 7, 9, 3, 2, 9, 2, 3, 5, 6, 7, 9, 11, 4, 9, 5, 5, 2, 3, 12, 2, 5, 2, 8, 2, 8, 8, 5, 7, 5, 5, 4, 11, 4, 10, 9, 5, 11, 10, 10, 4, 6, 2, 7, 10, 6, 7, 10, 4, 6, 5, 12, 4, 12, 3, 7, 2, 3, 8, 8, 8, 1, 4, 6, 7, 8, 12, 11, 9, 1, 1, 9, 9, 4, 5, 9, 5, 2, 12, 5, 9, 11, 6, 9, 9, 2, 4, 5, 10, 11, 12, 4, 12, 5, 7, 7, 12, 7, 12, 1, 9, 12, 5, 1, 7, 11, 5, 9, 11, 2, 8, 11, 7, 8, 9, 4, 2, 1, 7, 7, 1, 2, 4, 6, 9, 3, 10, 12, 6, 6, 6, 7, 10, 11, 12, 3, 9, 3, 8, 12, 7, 7, 9, 4, 5, 7, 6, 3, 12, 3, 4, 9, 2, 3, 11, 7, 7, 3, 10, 6, 1, 2, 4, 7, 10, 11, 12, 9, 9, 2, 6, 8, 10, 12, 3, 2, 8, 9, 11, 12, 11, 8, 1, 4, 9, 10, 12, 12, 7, 3, 6, 11, 2, 5, 8, 5, 4, 6, 11, 5, 5, 5, 1, 1, 6, 7, 10, 1, 2, 3, 4, 7, 9, 1, 2, 5, 6, 7, 10, 12, 7, 9, 4, 4, 4, 6, 10, 4, 5, 6, 3, 12, 10, 12, 5, 11, 9, 2, 12, 1, 2, 4, 8, 12, 1, 2, 6, 7, 8, 10, 11, 4, 5, 6, 8, 5, 5, 5, 8, 9, 8, 6, 2, 3, 11, 1, 8, 1, 1, 2, 4, 5, 6, 10, 7, 6, 7, 12, 5, 1, 5, 9, 1, 7, 8, 10, 12, 12, 12, 11, 4, 5, 2, 1, 1, 8, 8, 8, 4, 9, 7, 8, 2, 8, 4, 2, 4, 11, 10, 1, 2, 4, 6, 2, 9, 9, 12, 4, 12, 2, 10, 6, 9, 1, 1, 10, 11, 2, 9, 1, 2, 12, 1, 5, 9, 5, 8, 8, 2, 10, 1, 6, 12, 4, 5, 3, 1, 2, 6, 2, 5, 6, 9, 6, 9, 6, 3, 1, 3, 6, 7, 10, 11, 4, 4, 5, 6, 11, 9, 11, 12, 1, 2, 3, 5, 6, 7, 9, 10, 2, 6, 3, 4, 9, 12, 12, 4, 10, 11, 2, 5, 2, 5, 2, 4, 5, 6, 7, 10, 11, 12, 9, 7, 2, 8, 8, 8, 8, 9, 8, 8, 8, 8, 11, 7, 8, 7, 12, 4, 2, 3, 9, 9, 4, 3, 3, 11, 12, 8, 7, 10, 10, 12, 12, 5, 4, 10, 6, 7, 8, 9, 11, 4, 5, 7, 8, 9, 10, 1, 1, 5, 7, 8, 10, 8, 4, 10, 10, 8, 4, 12, 5, 7, 8, 11, 1, 11, 2, 8, 2, 3, 5, 8, 9, 6, 6, 2, 6, 10, 8, 3, 4, 7, 12, 7, 10, 12, 5, 7, 12, 2, 5, 6, 7, 10, 4, 10, 12, 4, 1, 3, 4, 5, 6, 7, 8, 10, 12, 3, 9, 1, 4, 7, 10, 11, 4, 11, 12, 5, 8, 7, 4, 3, 2, 3, 7, 8, 12, 7, 12, 8, 1, 7, 12, 1, 2, 5, 8, 12, 4, 3, 3, 6, 7, 8, 10, 12, 7, 8, 10, 12, 8, 7, 12, 2, 4, 5, 8, 5, 9, 12, 1, 1, 2, 4, 5, 7, 10, 1, 7, 11, 12, 3, 3, 4, 11, 6, 7, 2, 7, 8, 9, 11, 12, 8, 1, 4, 6, 10, 6, 11, 11, 6, 9, 11, 12, 12, 2, 1, 4, 7, 10, 11, 9, 3, 3, 12, 7, 10, 4, 7, 9, 10, 2, 2, 3, 6, 9, 11, 2, 5, 9, 10, 3, 7, 10, 11, 12, 10, 4, 12, 7, 5, 7, 5, 2, 2, 1, 8, 12, 1, 3, 1, 10, 2, 5, 9, 7, 9, 2, 5, 8, 5, 3, 6, 12, 4, 12, 7, 3, 12, 2, 10, 5, 3, 9, 8, 2, 8, 1, 2, 3, 6, 9, 1, 12, 6, 8, 1, 2, 11, 11, 7, 6, 10, 1, 9, 1, 2, 1, 8, 1, 1, 4, 7, 7, 4, 7, 5, 6, 8, 1, 4, 5, 8, 9, 5, 5, 6, 1, 10, 5, 6, 7, 8, 5, 11, 5, 5, 5, 5, 5, 8, 10, 7, 9, 11, 10, 6, 6, 5, 3, 3, 7, 2, 2, 8, 7, 10, 10, 5, 9, 7, 6, 6, 8, 10, 12, 1, 2, 12, 3, 1, 5, 4, 9, 10, 9, 3, 1, 6, 7, 11, 12, 5, 9, 7, 3, 6, 7, 12, 5, 5, 12, 2, 8, 10, 6, 8, 4, 10, 5, 11, 5, 4, 2, 4, 3, 9, 6, 7, 9, 6, 6, 1, 5, 8, 8, 8, 3, 5, 7, 11, 12, 1, 10, 10, 8, 10, 2, 10, 12, 9, 12, 8, 9, 11, 6, 1, 3, 4, 6, 10, 12, 10, 12, 12, 8, 12, 2, 4, 9, 2, 9, 4, 9, 3, 6, 6, 1, 3, 6, 7, 10, 11, 7, 2, 4, 8, 11, 12, 12, 9, 9, 1, 11, 1, 2, 3, 5, 7, 10, 11, 3, 6, 7, 8, 12, 8, 4, 12, 10, 4, 10, 11, 1, 10, 2, 2, 8, 2, 5, 6, 7, 8, 11, 12, 12, 12, 5, 5, 5, 12, 3, 3, 3, 3, 4, 6, 11, 11, 10, 1, 2, 4, 6, 6, 1, 12, 3, 10, 10, 10, 10, 10, 10, 6, 9, 1, 11, 3, 12, 4, 7, 12, 1, 2, 4, 6, 7, 2, 2, 6, 7, 6, 3, 7, 12, 4, 7, 9, 12, 9, 2, 2, 3, 8, 12, 7, 11, 4, 3, 4, 10, 11, 12, 11, 10, 3, 5, 9, 11, 1, 2, 6, 7, 8, 9, 12, 3, 5, 7, 11, 12, 2, 3, 11, 4, 2, 5, 7, 8, 10, 3, 6, 9, 6, 3, 1, 2, 3, 4, 5, 6, 7, 10, 11, 4, 4, 2, 7, 7, 2, 5, 6, 10, 10, 9, 3, 6, 5, 3, 12, 3, 4, 12, 2, 3, 3, 6, 4, 3, 9, 11, 7, 7, 7, 9, 9, 7, 4, 2, 3, 8, 6, 1, 4, 8, 9, 12, 4, 4, 7, 2, 5, 6, 9, 10, 7, 8, 1, 2, 3, 4, 6, 8, 1, 9, 11, 1, 2, 7, 10, 12, 10, 7, 7, 5, 7, 12, 7, 12, 1, 11, 3, 8, 12, 1, 9, 2, 3, 5, 9, 6, 3, 11, 2, 10, 10, 6, 9, 9, 9, 12, 10, 1, 4, 8, 4, 2, 5, 1, 2, 12, 3, 5, 9, 4, 12, 4, 6, 2, 5, 5, 7, 9, 11, 4, 11, 11, 11, 8, 9, 4, 4, 4, 1, 11, 6, 10, 9, 5, 1, 7, 8, 3, 3, 1, 2, 6, 11, 12, 1, 3, 4, 6, 7, 7, 10, 12, 5, 3, 5, 9, 12, 1, 4, 9, 3, 11, 8, 10, 3, 1, 4, 10, 4, 10, 11, 10, 10, 1, 4, 7, 9, 6, 8, 10, 6, 1, 2, 3, 4, 7, 10, 3, 1, 1, 1, 7, 4, 6, 8, 2, 8, 10, 3, 4, 5, 10, 3, 4, 10, 10, 2, 3, 8, 9, 6, 1, 8, 2, 4, 5, 8, 11, 7, 12, 2, 11, 11, 11, 3, 7, 3, 8, 3, 9, 9, 8, 8, 7, 11, 1, 6, 12, 6, 1, 10, 7, 3, 7, 11, 10, 3, 7, 11, 10, 12, 4, 1, 3, 4, 5, 11], \"Freq\": [0.3475547558373702, 0.6512078583058095, 0.9814542695696027, 0.9936571420704052, 0.9712423378831663, 0.08788058712550528, 0.7946648835816967, 0.115927583016624, 0.9991660913156266, 1.0029730178699345, 0.9991661170413452, 0.47947704866863455, 0.32443656586560304, 0.1952361635297434, 1.0066197636611307, 0.9988791731087436, 1.0046513677638713, 0.1371384071669799, 0.07245047925802711, 0.043987790978087894, 0.2587517116358111, 0.48904073499168305, 1.0385759125255323, 0.24617517393989932, 0.1062782689255953, 0.16050187552028677, 0.15507951486081764, 0.33184847235951187, 0.9418606677011265, 0.9874532853607328, 1.0011787300362291, 1.001949551140367, 1.0034703305950865, 0.3153755059117699, 0.6844086499821395, 0.5846535210845766, 0.006618719106617848, 0.10148702630147367, 0.2007678129007414, 0.10369326600367962, 0.0015352509292881067, 0.13433445631270935, 0.21186462824175872, 0.6517140194828014, 0.9969809538741354, 0.9477219788953593, 0.9894481375555633, 1.0028190757324356, 0.12271677444551454, 0.5198345767284243, 0.3444496587440623, 0.012640354449323387, 0.9989631653658161, 0.009432424709058362, 0.990404594451128, 0.6140673264934978, 0.24769102245115882, 0.13932620012877683, 1.0154164059593136, 0.9966681517090048, 1.0024163559447026, 1.0024146987752893, 0.9933160117432077, 0.9908535706166607, 0.9789839041257093, 1.020349025312225, 1.0056081535167944, 0.04636120592263879, 0.11518608894181388, 0.20456284675143713, 0.5850115056629884, 0.04827300822872698, 0.03244346774082966, 0.0027036223117358053, 0.0013518111558679026, 0.09057134744314947, 0.07029418010513093, 0.18654993950977056, 0.0054072446234716106, 0.6083150201405562, 0.1780920635889708, 0.19679173026581273, 0.16428992866082556, 0.001780920635889708, 0.2426504366399727, 0.08815557147654055, 0.12822628578405898, 0.9833106799553186, 0.0067814529652090935, 0.0067814529652090935, 0.23166203917404476, 0.3293047168424438, 0.04594949537336425, 0.3943998352880432, 0.997810541491484, 0.7880906913446897, 0.02899330302605882, 0.17395981815635292, 0.009225141871927805, 1.0005260456168068, 0.525320664602615, 0.47510618930971793, 0.8576767685573448, 0.12865151528360172, 0.010720959606966809, 0.7421050330411602, 0.04923055501747254, 0.1622784961687058, 0.045583847238400504, 0.2626529468306484, 0.7367094850127942, 0.1480865274116651, 0.37317804907739605, 0.4798003488137949, 1.0385759125255323, 0.17907286685831147, 0.8212652169708767, 0.9270173164665678, 1.0056081535167944, 0.99969498274417, 0.8457817389846899, 0.14849603050876234, 0.0032281745762774423, 0.9970670356792013, 0.9966681760873376, 1.0032863111276775, 1.0074984127066804, 0.9992491019860126, 0.9938653427826543, 1.0375321953593373, 0.12121018638147438, 0.10240170918434904, 0.020898307996805927, 0.10240170918434904, 0.18077036417237127, 0.4712568453279737, 0.9993129516905942, 0.015061194956799409, 0.9789776721919615, 0.9983263949867761, 0.9965436152015604, 1.0033306800539363, 1.0199317046854393, 1.0003435397698504, 0.9995152034897845, 0.9270173164665679, 0.7825161106032325, 0.2166967690901259, 0.22691117508402947, 0.7744984736339188, 1.0005291604074333, 0.9995215074557514, 0.9418606677011265, 0.9270173164665678, 1.008813003901512, 0.9897018188557684, 0.9998083399193183, 0.9970329087691201, 0.9477219788953593, 1.0029477888473595, 1.0006663935270685, 0.9961459610339563, 0.9951080778401272, 1.0020994218714223, 1.0034476774509873, 1.0019415526803923, 1.00490824166531, 0.0011772852317522796, 0.9983378765259331, 0.00669285352837109, 0.6893639134222223, 0.30117840877669905, 0.7930122859835556, 0.20838279047743063, 0.015525613117773514, 0.9781136264197313, 1.0012200856539537, 0.9995632059163365, 0.9470794171575471, 0.9418606677011265, 0.09375548131802072, 0.8906770725211969, 0.015625913553003454, 1.0005531937251946, 0.9527097558483157, 0.11494505470264461, 0.005436590425125083, 0.15067122035346658, 0.2632863077310576, 0.1747475493790205, 0.2912459156317009, 0.9712423168596808, 1.0056081535167944, 1.0012873530266229, 1.0004810989649682, 0.9337789661259065, 1.006730447854493, 0.882391703943123, 0.11993673645828858, 1.0016902164327508, 0.9270173164665678, 1.0306751590405903, 0.9789839501681045, 0.9868249526433275, 0.023665679477571706, 0.9702928585804399, 0.4535900908858561, 0.5467516920442306, 0.9979762887026227, 0.9764291019659308, 0.34741332215543175, 0.07985458131445855, 0.3758672534283997, 0.0009178687507409029, 0.19596497828318277, 0.625356074617731, 0.37433286156695167, 0.8331190794601712, 0.165246759562348, 0.017469560541575106, 0.9782953903282059, 0.11790081101564269, 0.8803260555834654, 0.055370919700267876, 0.17995548902587058, 0.7613501458786832, 0.9270173164665679, 1.0108781845469417, 1.0032863111276775, 0.9712423483949094, 0.15386001418598622, 0.838046034715159, 0.00654723464621218, 1.0435585885595573, 0.6445494059589331, 0.35492071185271123, 0.010326939318152598, 0.8571359634066656, 0.13425021113598376, 0.9970329087691202, 1.000361152294856, 1.0022865980697824, 0.9418606677011265, 1.0091363632097747, 0.3413038190794152, 0.6581037742249237, 0.1713919981643887, 0.788403191556188, 0.041134079559453286, 0.15388628875249996, 0.183912881679817, 0.66433836851689, 1.0031400696666635, 1.0025340448622533, 0.949207753582046, 1.0038251024888416, 0.024147470352602673, 0.696827001603677, 0.27942072836583093, 0.8411949483438436, 0.1584068409218926, 0.999939681976736, 1.0122541155888356, 0.9789839041257093, 0.9418606155886431, 0.9924059308357038, 0.01012659113097657, 0.14015214787292626, 0.44047817902919684, 0.42045644361877876, 0.9971475739594334, 1.026002742247428, 0.9945233066750636, 1.0417873588733018, 0.999181727325831, 0.9871377931877396, 0.9989620830965803, 0.992178503874706, 0.9712423483949094, 1.003622000202144, 0.9941862297913986, 1.0000628997460055, 0.9477219788953593, 0.9944081575474569, 0.05988907893720486, 0.04543309436615541, 0.17553695550560047, 0.14869012701650863, 0.3355853561136479, 0.112550165588885, 0.12081072820091325, 1.0115938904753539, 1.0056081535167944, 0.9276076342751621, 0.9492077867498454, 0.2712726569217229, 0.00022969742330374506, 0.7286002267194793, 0.9998415196313735, 0.0383551441891615, 0.20882245169654595, 0.6371215618088494, 0.11719627391132681, 0.9789839041257093, 0.9978517690786952, 0.9527097558483157, 0.013748196992396716, 0.9898701834525635, 0.06480314823741228, 0.247776743260694, 0.6861509813373065, 1.0002661794103005, 0.9418606677011265, 0.001672603614323984, 0.9600744746219667, 0.03763358132228964, 0.9894481375555633, 1.0197190481132246, 0.95270974579517, 0.9983263516454747, 0.9931382673161357, 1.0283084356456658, 0.9712423483949094, 0.9270173164665679, 1.0016049734956445, 1.0594483616760777, 1.0047640367508484, 1.0007158355061283, 0.43495300547081245, 0.40683817241756604, 0.15711230235637713, 0.20340955822907514, 0.2394983508181046, 0.08201998315688513, 0.10607917821623811, 0.16185276676292001, 0.20778395733077568, 0.5212649760400082, 0.0847411641376516, 0.027060203674208076, 0.01637854432912594, 0.11678614217289801, 0.1495432308311499, 0.08545327476065707, 1.0009441165725548, 0.9829252806894443, 1.0385759125255323, 1.0055303303195753, 0.14277379646792476, 0.5297114767505615, 0.3279658947850156, 0.3564522800486283, 0.0803478500109613, 0.5638958200769284, 0.9470794543822412, 0.9993088462861851, 1.0266988104699726, 0.9789839041257093, 0.025526961740396332, 0.9700245461350605, 1.0271568819395414, 0.01746458321044585, 0.9780166597849677, 0.7002404385186201, 0.02813466047619456, 0.0031260733862438395, 0.2625901644444825, 0.006252146772487679, 0.17514750642294832, 0.19257055680010024, 0.1824835276343807, 0.07702822272004009, 0.11004031817148585, 0.07794522537146914, 0.1843175329372388, 0.5069647489733167, 0.22861995444118, 0.10573672892904575, 0.15831931845051714, 0.9270173164665679, 0.9995092286852171, 0.9972459223665773, 0.015568138611796043, 0.9807927325431507, 1.0056380650060128, 1.0012191991631525, 0.994646457030925, 0.008358373588495168, 1.0100920383951093, 1.0108781845469417, 1.0003452137828894, 0.9999717968145555, 1.0009050215068624, 0.9989620830965803, 0.4924386520944923, 0.24161709565383968, 0.14727137258900705, 0.11965799022856821, 0.995681232687106, 0.9492077867498454, 1.004651315059494, 1.0047466220302477, 0.9967179353068986, 0.26631676490529155, 0.5039973185304443, 0.22908969024111103, 0.5514881776400797, 0.02220757762309046, 0.07402525874363487, 0.32941240140917516, 0.02220757762309046, 1.0040860794882858, 0.9991691893545296, 1.00592958912108, 1.0039567703946861, 0.9932328390713228, 0.9954813823999479, 0.9972416741604924, 0.9907498540720746, 0.007505680712667232, 1.0207604665433454, 1.0207604665433454, 0.934718369238716, 0.998926377110631, 0.9985992255283209, 0.997169520463744, 1.00490824166531, 1.001566629820708, 0.9991816594323532, 1.0018162209000734, 1.019692775004715, 0.9712423483949094, 0.9477219788953593, 0.08488311829672066, 0.6564294481613064, 0.06790649463737652, 0.19240173480590017, 0.008411919376139394, 0.9926064863844485, 1.0045197769770873, 0.9995941100887542, 1.002451583058989, 1.0095771511296376, 0.7840662967170856, 0.22190555567464687, 0.9492078157716715, 1.0056081535167944, 1.0184033787979945, 0.17896844158210423, 0.07003112931473644, 0.746998712690522, 0.7680066510046075, 0.22916327489653612, 0.2631464228008574, 0.7342110068270837, 1.0040860794882858, 0.9607771793270148, 0.0315008911254759, 0.9856555855913703, 0.9827572180240042, 0.013841650958084565, 1.003296053011767, 0.9791414010885608, 0.9477219788953593, 0.016364593060035976, 0.9818755836021585, 0.9789839041257093, 0.49094285875525545, 0.5079697787120852, 0.9470794543822412, 0.015470917039807177, 0.9746677735078522, 0.015470917039807177, 0.12120867533322824, 0.10806556595974566, 0.3402604982246046, 0.4308019183530401, 1.0034482597574628, 1.0045197769770873, 0.9492078157716715, 0.9470794543822412, 0.08438957706457795, 0.12179938957774138, 0.23663881403675466, 0.07481962502632684, 0.11048944625980825, 0.3714881382121112, 0.934718369238716, 0.3843915714232644, 0.6103316553896106, 0.002934286804757744, 0.002934286804757744, 1.0056081535167944, 1.0252002455433422, 0.9789839041257093, 0.2811509419235654, 0.08131326261514882, 0.18743396128237694, 0.09509517153297065, 0.0909605988576241, 0.14333185274534707, 0.0013781908917821833, 0.11714622580148558, 0.9971782239925487, 0.9492078157716715, 0.9065189242814518, 0.09459327905545584, 1.0056081535167944, 1.0086501304762288, 0.9789839649016717, 0.9931382673161357, 0.9477219788953593, 0.9712423483949094, 0.8303970504597956, 0.16845763553480342, 0.29235695794837446, 0.7100097550174809, 0.04545996694371327, 0.05977143801858596, 0.056404033059792386, 0.12796138843415586, 0.17678876033666271, 0.329163834722072, 0.10523140496229923, 0.09933844628441048, 1.0056081535167944, 0.941860638749746, 0.11583052767803627, 0.8832077735450266, 0.9972288581774932, 1.025995084206579, 0.9527097256888792, 0.9829252806894443, 0.9991833837024131, 1.0028523194380399, 1.0007960367826563, 0.9960146730906967, 0.9712423378831663, 0.9908616866574176, 0.0061164301645519606, 0.9418606677011265, 0.9789839041257093, 0.9970329087691202, 0.00363897163776681, 0.6586538664357926, 0.3384243623123133, 1.0056081535167944, 0.934718369238716, 1.0417873588733018, 0.13453605400131036, 0.6680410957306445, 0.1994844938640119, 0.9527097558483157, 0.998943057040993, 0.9477219788953593, 0.9959111831331361, 1.000037362337619, 1.0005593083974276, 0.998326394986776, 0.9996293158058248, 0.9477219788953594, 0.008208873811914237, 0.024626621435742714, 0.9604382359939658, 0.008208873811914237, 1.0085978460049536, 0.23875065576773985, 0.09015759028991574, 0.13523638543487362, 0.0033391700107376202, 0.5025450866160118, 0.03005253009663858, 0.9456602868307186, 0.4980564600691734, 0.061685891843429735, 0.07767853046950411, 0.1782036875476859, 0.1850576755302892, 0.9989016905412189, 0.934718369238716, 1.0266988104699726, 0.9898429557351531, 0.9988085935831034, 1.0066197178864928, 0.9789839041257093, 0.03252979783873118, 0.22120262530337204, 0.372466185253472, 0.3740926751454086, 0.9456602868307186, 1.003617047720443, 0.8997510155519501, 0.10049167186684119, 0.07595853783942923, 0.4745064215648295, 0.29445655409358984, 0.15566811458450927, 0.9337789952183981, 0.949207753582046, 0.9996738739951098, 0.0008551242503980526, 0.9987851244649255, 0.9477219788953593, 0.9950524011638442, 0.0027964708115000097, 0.09228353677950032, 0.11745177408300041, 0.7858082980315028, 0.23033591871805914, 0.2904235496879876, 0.48070104775942774, 0.09662582008757463, 0.0074327553913518946, 0.8993634023535793, 0.47466024960882747, 0.1199502435834582, 0.1884932399168629, 0.0599751217917291, 0.1576488915668308, 0.42584614751794486, 0.47162460837612397, 0.10220307540430677, 0.9931382673161357, 0.06589379112327425, 0.2867080911640337, 0.12547860224538393, 0.10935565335351895, 0.0007009977779071728, 0.02243192889302953, 0.10234567557444722, 0.1416015511372489, 0.14580753780469194, 0.9944334401299969, 0.9921401515087757, 0.13435187961963166, 0.16897865271747486, 0.2036054258153181, 0.4113660644023774, 0.0831042554348237, 0.07076519674665271, 0.617229771623582, 0.3145119855406787, 0.9194469004963444, 0.08205037957185225, 0.9995255858483553, 0.9908014530893131, 0.9975903298619522, 0.1272231263180481, 0.340861961078544, 0.17163119871208377, 0.17643207140333086, 0.1836333804402015, 1.020349025312225, 0.9989631653658161, 0.9527097558483157, 1.0023999148192149, 0.039894346085142154, 0.9574643060434117, 0.33015812253991095, 0.04865488121640792, 0.013901394633259408, 0.6047106665467842, 0.9789839041257093, 0.934718369238716, 0.992178503874706, 1.0123952994044216, 0.9492078157716715, 0.9418606056624563, 0.600503096508403, 0.03772794323613003, 0.3615594560129128, 0.007371808678818902, 0.6266037376996066, 0.12532074753992134, 0.23958378206161432, 0.9980768284016465, 0.9810631568835367, 0.019236532487912485, 1.0002390920152773, 0.8401414529972399, 0.15947129431892051, 1.0003452246402862, 0.7299973618367646, 0.25208541991485395, 0.01575533874467837, 0.9456602868307186, 0.14863363399695462, 0.42516132515407945, 0.013826384557856243, 0.2004825760889155, 0.21085236450730768, 0.9477219788953593, 0.1129489873090606, 0.24001659803175376, 0.0762405664336159, 0.570392385910756, 0.9901285381799466, 0.9975903298619522, 1.0026978684780357, 1.003617047720443, 0.9492077867498454, 0.941860638749746, 0.02505467651788601, 0.0016703117678590674, 0.14698743557159794, 0.2739311299288871, 0.3390732888753907, 0.21379990628596063, 0.999183350785988, 0.29557878098099055, 0.2838339287565803, 0.06459668723425621, 0.35430304210304164, 0.08436662123707538, 0.9155031373845011, 0.9712423294737721, 0.1324038312593715, 0.0006636783521773008, 0.8654365712392003, 0.0013273567043546016, 1.0095771511296376, 0.9276076342751621, 1.0073337720243458, 0.9814542695696027, 0.08820371753866653, 0.46873975606262785, 0.44353869390872314, 0.998926377110631, 1.0072114863738253, 0.9961782912385772, 0.003266158331929761, 0.9961987902119577, 0.9951080778401272, 0.9980891076988285, 0.1958902158308899, 0.8031498849066485, 0.9979799626246586, 0.9276076342751621, 0.001397933826344384, 0.020037051510936172, 0.021667974308337952, 0.05731528688011975, 0.8995704172526111, 0.09193152579292915, 0.20475658017516038, 0.7062012663184103, 0.9477219788953593, 1.0017186385303423, 0.12580941936117787, 0.2030608172145327, 0.4414365591620276, 0.22954701076425435, 1.0034702735643541, 0.9310311659103708, 0.06954690636920842, 0.9418606056624563, 0.9270173164665679, 1.003622000202144, 0.9994405443155185, 1.0018162209000734, 1.01193560366389, 0.01481280115131376, 0.02962560230262752, 0.9480192736840807, 0.995657695003709, 0.004165931778258197, 0.9963206210777807, 0.9477219788953593, 0.006169093234247398, 0.3269619414151121, 0.666262069298719, 0.29765348783088524, 0.705726817921615, 0.1543044621528718, 0.29317847809045644, 0.5503525816785761, 0.9270173164665678, 0.10214636015035979, 0.45581440282149793, 0.4415358793596197, 0.9950227238263017, 1.0007795296535682, 1.0007269040629332, 1.0039042137535403, 0.9789839041257093, 0.9859100607831006, 0.014498677364457363, 0.9977820562199955, 1.0123952994044216, 1.0032336131441655, 0.9960147189529772, 0.9978809425018914, 0.9991834001606266, 0.053058600229769604, 0.42894362354428195, 0.18123027909806846, 0.02748819048048305, 0.30908232784450124, 1.0244652801335046, 1.0166371554818894, 0.9816491291155158, 0.02157470613440694, 0.9906916910151945, 0.9989620327598098, 1.000472628136117, 0.9914765317942574, 0.9959905774081466, 0.9968988167085829, 0.004769850797648722, 0.1814091895763756, 0.8186780054184445, 1.0012873530266226, 0.9923244677939137, 0.5069068895600249, 0.4929232512273346, 1.0029730178699343, 0.004121647374495943, 0.3008802583382038, 0.6965584062898144, 1.000394309066691, 0.9980891076988285, 0.9972642345862279, 0.012217793453188058, 0.9855686718905033, 0.9980768861764565, 0.0635291851246702, 0.0024434301971027004, 0.32986307660886455, 0.4447042958726915, 0.15882296281167554, 0.9270173164665678, 1.0051995254147714, 0.9492078157716715, 1.0047640247463219, 0.9976020323186556, 0.06457248517281855, 0.22975791235909857, 0.10812137052192874, 0.597670909273995, 0.9968610965190134, 1.0009439161673235, 0.9969809538741354, 1.000981509131619, 1.006932626864294, 0.9956852745064728, 1.0011787300362291, 0.9527097558483157, 0.9994158523475506, 1.0143114954885386, 1.004252816712305, 0.9712423483949094, 0.9477219788953593, 0.9492078157716715, 0.9944081575474569, 0.9849558987457284, 0.9470794543822412, 1.000352634372659, 0.9418606677011265, 0.9276076076910554, 0.004910190045577762, 0.9967685792522857, 0.941860638749746, 1.0014934592783409, 0.9477219788953593, 0.9270173164665678, 0.9946775903093579, 1.0019793924403801, 0.9955106293718085, 0.0023007406707388814, 0.17715703164689386, 0.25538221445201587, 0.5659822050017649, 1.0034105010959897, 1.000076980702909, 1.0077775422310256, 0.9982729118915242, 0.9456602868307186, 1.0112916179635285, 0.7328786698000256, 0.11760479632798844, 0.14772309782661963, 0.997445739242185, 0.9978158817376304, 0.15938834558473536, 0.18836804478195995, 0.06520432319375537, 0.5892538836769003, 1.0086501304762288, 0.9978311392522086, 1.0115938904753539, 0.9901611468668844, 0.6924875744721447, 0.08857399208364641, 0.21740888965985938, 1.0077775422310256, 1.0053568779256, 0.9944367449086441, 0.9789839275010785, 1.00490824166531, 0.9991834001606266, 0.998950209621951, 0.004987912812378657, 0.9925946496633529, 0.7930144219760927, 0.20727836580285536, 0.820011775939414, 0.18015410228971973, 0.997551273317255, 0.9997422887172669, 0.9995152034897845, 0.934718369238716, 0.5622034866083672, 0.4375520348264215, 0.133225285295006, 0.008326580330937874, 0.8576377740866011, 0.9991660913156266, 0.9991661170413452, 0.9954318855690577, 0.08897996223431823, 0.9140668847707236, 1.0003452246402862, 1.0042075057400701, 0.9470794543822413, 0.22251397637381956, 0.7648917937850047, 0.006953561761681861, 0.9789839649016717, 0.0400409020591802, 0.9609816494203248, 1.0034702735643541, 0.9978618361077592, 0.9477219788953593, 0.7677468229967702, 0.22555273895950312, 0.008675105344596274, 1.0056081535167944, 1.006177889895094, 1.0162236945334455, 0.992140182419548, 0.997142119746219, 1.0441285398856242, 0.1464337563711757, 0.0017432590044187584, 0.11505509429163806, 0.03748006859500331, 0.48462600322841487, 0.2144208575435073, 0.459171977108945, 0.5406379730476287, 1.0095771511296376, 0.982412394699697, 0.019453710786132613, 0.4041150672297075, 0.14852092214425147, 0.44671409141061685, 0.6448315577821087, 0.3554189688562804, 0.15867692633693986, 0.8432545228191661, 1.0331776050573356, 1.017008307409335, 0.9913947994942829, 0.15567635814220765, 0.21585377389465768, 0.10596457991192286, 0.11512201274381743, 0.11119739867300547, 0.29434605531089686, 0.9418606056624563, 0.03222314901593946, 0.9666944704781838, 0.26609323841075355, 0.7352576324507664, 1.002861578039674, 0.9789839041257093, 1.0038124073500063, 0.9337789536576965, 1.0108781845469417, 0.9993942746569193, 0.35506133304351084, 0.24893598995670504, 0.04585662972886672, 0.08516231235360962, 0.12184761613670299, 0.03537511436226861, 0.10743553250763059, 0.1238301409030903, 0.5388284509566902, 0.2242329578515419, 0.006693521129896773, 0.10709633807834837, 1.0028523194380399, 0.05952226255933639, 0.940451748437515, 0.9992286081831506, 0.7690327617435142, 0.2293606482392937, 0.9923563166931614, 0.9995952613600635, 0.9963231060181982, 0.9791414010885608, 0.9994937902298993, 1.0039306889348119, 0.156202958495917, 0.10227574663423138, 0.24360223289244198, 0.12397060198088651, 0.06074559497063439, 0.17355884277324113, 0.14008678023840176, 1.0034585640242135, 0.9789839649016717, 1.00356006314676, 0.995323907314059, 0.9932328724381216, 1.0021095481650182, 1.0027899989299074, 1.0006877662009823, 1.0005436234725433, 0.28482486564483406, 0.6285790138368752, 0.08512007479041019, 0.0032738490304003915, 1.000673955385898, 0.9477219788953593, 0.9797012481266214, 0.017187741195203884, 0.934718369238716, 0.9972689652111321, 0.9998772554841514, 1.0066705493511108, 1.0012335853991978, 1.010218097909838, 1.0045852976290808, 0.998492799193325, 1.0025488942520884, 0.9998466877346041, 1.0000312712551764, 1.0040223232868406, 1.008533304257401, 1.0045197769770873, 0.9987872400745428, 0.9993943047548148, 0.9470794543822412, 0.9789839501681045, 0.1624818542327532, 0.8380643007794638, 0.9789839649016717, 0.2603291944330758, 0.18617970252024926, 0.12331382894198327, 0.28047851288764825, 0.15071690204020177, 1.005997020346918, 0.169279098662752, 0.21408827183818635, 0.6123920333976028, 0.9944081575474569, 0.04146377953686821, 0.13946907662401126, 0.8217367217306608, 0.7101290647070779, 0.18208437556591742, 0.10925062533955045, 1.0034585640242135, 0.9994352996816344, 0.9971782239925487, 0.9933261067276764, 0.01091567150250194, 0.8340558087978717, 0.17091307557333435, 0.9995255858483553, 0.998992099194885, 0.934718369238716, 0.6568549214704186, 0.003334288941474206, 0.003334288941474206, 0.10002866824422617, 0.2334002259031944, 1.0015936717822504, 0.9994158523475506, 0.8540800024615862, 0.14734926560040146, 0.2799612301170013, 0.7189913409822988, 1.0021175543959862, 0.03971799610246021, 0.06689346711993299, 0.34282901898965656, 0.11288272576488691, 0.13378693423986598, 0.30520144373469427, 0.4679662309526717, 0.07361907779621299, 0.08389150725614967, 0.15465713242460247, 0.21971585233753488, 0.03392337934477725, 0.5705295617076175, 0.39782872140693326, 0.9814542695696027, 1.000839829515079, 0.41078820098920305, 0.002162043163101069, 0.25728313640902717, 0.3307926039544635, 0.5995121803800199, 0.0038246391092824233, 0.3958501478107308, 1.0058769377242576, 0.9996949577964026, 0.04002186499918667, 0.09152286957178346, 0.4030108731313448, 0.06825434340946564, 0.04994976949510894, 0.133095969648458, 0.0856281762773296, 0.02978371348776682, 0.09865855092822759, 1.0000634434653153, 0.9931382367379777, 0.9938653297618666, 0.9923174238229451, 1.0023470520394289, 0.39092211272130706, 0.1314454265482124, 0.01365666769332077, 0.4643267015729062, 1.0034702735643541, 0.9966295092889659, 1.0147280153264038, 1.0034482597574628, 0.9956852745064728, 0.2671676093177509, 0.7327464579082433, 0.9781683859446776, 0.01029650932573345, 0.01029650932573345, 0.9276076342751621, 0.9990080605789005, 0.9944334401299969, 1.0014946231435065, 0.996212964892349, 0.8196704016202443, 0.18060534272988435, 1.0223603929380465, 1.0019793924403801, 0.9972641768838243, 0.040614238357638055, 0.9544346014044943, 1.002439233826602, 1.001138577605493, 0.999181727325831, 0.9960936262993427, 0.0025345893798965464, 1.0037477921009563, 1.008533304257401, 1.0101370669684597, 0.9931382673161357, 0.21929114401455704, 0.5883950497816333, 0.19323675066629284, 0.9943812380082538, 0.9908014530893131, 0.9418606677011265, 0.1199878423177896, 0.29247036564961215, 0.07686721148483396, 0.40870858789497083, 0.10123974195563497, 0.875594586941248, 0.12508494099160686, 0.05076514078062907, 0.10153028156125814, 0.08742885356663896, 0.5217528358009099, 0.2284431335128308, 0.011281142395695349, 1.0032221430717214, 1.0046988769056557, 1.003617047720443, 0.9981969197404857, 0.9994224338320832, 0.9724417683645223, 0.01496064259022342, 0.01496064259022342, 1.001114725569186, 1.0022362828042854, 1.0032863111276775, 0.3680649457475716, 0.6332882154774394, 1.006177889895094, 0.7226526879725843, 0.2774164347193333, 0.9456602698831513, 1.0000911030496402, 0.23078273289828602, 0.19832891108446454, 0.5697448718426437, 0.999697924514197, 0.9782446181175868, 0.2896983832464634, 0.19950926393388518, 0.39901852786777037, 0.1147861518523723, 0.9933569635313809, 0.9944333880154244, 1.004733500979132, 1.0028190757324356, 1.0154164059593136, 1.0034702735643541, 0.9492078157716715, 1.0040634256276593, 0.9994719807811316, 0.9829252806894443, 1.0034585640242135, 0.9477219788953593, 0.4636172701161939, 0.2227181003499363, 0.3136234474315429, 1.0028748861177619, 0.5806444887416564, 0.41772984801558016, 0.22808736653691525, 0.7724845715731375, 0.9993794365961763, 0.6656632766961523, 0.2535860101699628, 0.08064998108253564, 0.9347183322365756, 0.9789839649016717, 1.019692775004715, 0.9492078157716715, 1.000839829515079, 0.9270173164665679, 0.8692252798074641, 0.0506344823188814, 0.08017126367156222, 1.003617047720443, 1.0039567337591266, 1.0283742924884418, 0.9968013286049463, 0.9968013831145953, 0.00881088720198992, 0.986819366622871, 0.999181727325831, 0.9974979075704268, 1.0026979044023923, 0.9456602868307186, 0.9712423483949094, 1.0124883058665017, 1.0040223232868406, 0.9993073424827695, 0.9983263516454747, 1.0035578168725348, 0.8632847304816046, 0.13676458249515375, 1.000955261175145, 0.9987383658300193, 0.541422386728434, 0.45899688904738883, 0.27839066237786436, 0.7211643825407533, 0.9971132547889756, 0.061295644099893735, 0.22936434566411848, 0.0013181858946213706, 0.7012748959385692, 0.006590929473106853, 0.581287504969651, 0.002463082648176487, 0.41626096754182634, 0.9270173164665678, 0.8148402329285408, 0.04949964031808893, 0.13326826239485481, 1.0116167079078802, 0.0068683565982709475, 0.2472608375377541, 0.7452166909123977, 1.0004360239775065, 0.9712423483949094, 0.9527097558483157, 0.9477219788953593, 0.9969257105203416, 0.626954561078537, 0.20224340679952804, 0.17190689577959883, 0.4310921334305792, 0.5681280433952667, 0.9712423168596808, 1.002398246908553, 0.9477219788953593, 0.10179835339167863, 0.1920287120797574, 0.22673269619055694, 0.47891498072903355, 0.661457057974812, 0.14849035995352924, 0.1889877308499463, 1.004394263126174, 0.11049771842095386, 0.4836400137040211, 0.016149666538447103, 0.2082457001010284, 0.011049771842095386, 0.16999648987839056, 1.0011982994606827, 0.9973760837667736, 1.0402262968714664, 1.0047640547576386, 1.0030203756411602, 0.934718369238716, 0.011477920576398761, 0.9871011695702934, 0.9989620478608403, 0.9844667040792753, 1.0003731999451015, 0.0019342016051985065, 0.2814263335563827, 0.19535436212504914, 0.5212673326009974, 0.004154544696253053, 0.9970907271007328, 1.0014934592783409, 0.9969542519590067, 0.022184959064628224, 0.09680709410019589, 0.3670602317965761, 0.5163045018677114, 0.9998322020431705, 0.9456602868307186, 0.9960147189529772, 0.17870480865099836, 0.0032199064621801507, 0.3139408800625647, 0.32199064621801504, 0.18031476188208845, 0.9865949395197208, 0.014725297604771951, 1.000361152294856, 0.9712423483949094, 1.0039808710028246, 1.0100920383951093, 0.035774343944503725, 0.9659072865016005, 0.9470794543822412, 0.9988085935831034, 0.15521091151292743, 0.8445299597026933, 0.9980071751392038, 0.9984398324733067, 0.9527097558483157, 0.9951734404507675, 0.9712423225933586, 0.9991881583323285, 1.0029364923671493, 0.9789839108785936, 0.9955106293718085, 1.003854714816588, 0.9477219788953593, 1.0014720404085964, 1.0048282353154836, 1.020349025312225, 1.000673955385898, 0.9477219788953593, 0.26314010396736215, 0.4764430670318148, 0.2611466183312458, 1.0013666009556639, 0.9789839275010785, 0.9946362251992542, 0.11248180591093657, 0.23389073927512205, 0.16961542161172974, 0.10891095492963698, 0.3731539275458054], \"Term\": [\"ability\", \"ability\", \"absence\", \"abstract\", \"accommodate\", \"accuracy\", \"accuracy\", \"accuracy\", \"acquisition\", \"active\", \"actively\", \"activity\", \"activity\", \"activity\", \"acute\", \"ad\", \"adaptive\", \"address\", \"address\", \"address\", \"address\", \"address\", \"admission\", \"advance\", \"advance\", \"advance\", \"advance\", \"advance\", \"affair\", \"affinity\", \"age\", \"agent\", \"ahead\", \"ai\", \"ai\", \"aim\", \"aim\", \"aim\", \"aim\", \"aim\", \"algorithm\", \"algorithm\", \"algorithm\", \"algorithm\", \"alzheimer\", \"ambition\", \"amino_acid\", \"amp\", \"analysis\", \"analysis\", \"analysis\", \"analysis\", \"analytic\", \"analytical\", \"analytical\", \"analyze\", \"analyze\", \"analyze\", \"anatomic\", \"anatomical\", \"animal\", \"annotation\", \"anns\", \"antimicrobial\", \"apm\", \"appeal\", \"applicability\", \"application\", \"application\", \"application\", \"application\", \"application\", \"apply\", \"apply\", \"apply\", \"apply\", \"apply\", \"apply\", \"apply\", \"apply\", \"approach\", \"approach\", \"approach\", \"approach\", \"approach\", \"approach\", \"approach\", \"architecture\", \"architecture\", \"architecture\", \"area\", \"area\", \"area\", \"area\", \"argue\", \"article\", \"article\", \"article\", \"article\", \"artificial\", \"artificial_intelligence\", \"artificial_intelligence\", \"assay\", \"assay\", \"assay\", \"assessment\", \"assessment\", \"assessment\", \"assessment\", \"assist\", \"assist\", \"associate\", \"associate\", \"associate\", \"atrisk\", \"attention\", \"attention\", \"attentional\", \"auroc\", \"author\", \"automate\", \"automate\", \"automate\", \"automatic\", \"automatically\", \"autonomous\", \"average\", \"background\", \"bacterial\", \"balanced\", \"base\", \"base\", \"base\", \"base\", \"base\", \"base\", \"basic\", \"bayesian\", \"bayesian\", \"bd\", \"behavioral\", \"benchmark\", \"bibliographic\", \"big\", \"bind\", \"biochemically\", \"bioinformatics\", \"bioinformatics\", \"biological\", \"biological\", \"biology\", \"biomarker\", \"biosurveillance\", \"bipolar\", \"bipolar_disorder\", \"birth\", \"black_box\", \"blood\", \"bloodstream\", \"boost\", \"brain\", \"branch\", \"breast\", \"breast_cancer\", \"burden\", \"cad\", \"calpain\", \"cancer\", \"cancer\", \"capability\", \"capability\", \"capability\", \"cardiac\", \"cardiac\", \"cardiology\", \"cardiology\", \"cardiovascular\", \"care\", \"cartilage\", \"cartography\", \"category\", \"category\", \"category\", \"cell\", \"cellbased\", \"challenge\", \"challenge\", \"challenge\", \"challenge\", \"challenge\", \"challenge\", \"characterized\", \"checklist\", \"chemical\", \"chemistry\", \"chir\", \"choice\", \"chronic\", \"chronic\", \"ci\", \"circuitry\", \"cisregulatory\", \"claim\", \"clarify\", \"classical\", \"classical\", \"classification\", \"classification\", \"classifier\", \"cleavage\", \"clinical\", \"clinical\", \"clinical\", \"clinical\", \"clinical\", \"clinician\", \"clinician\", \"cognitive\", \"cognitive\", \"collaboration\", \"collaboration\", \"collect\", \"collect\", \"collection\", \"collection\", \"collection\", \"colocalize\", \"combat\", \"communication\", \"companion\", \"compare\", \"compare\", \"compare\", \"compartment\", \"complex\", \"complex\", \"complexity\", \"complexity\", \"complexity\", \"complication\", \"composition\", \"compound\", \"comppass\", \"compromise\", \"computational\", \"computational\", \"compute\", \"compute\", \"compute\", \"computer\", \"computer\", \"computer\", \"computer_vision\", \"computeraided\", \"computerbase\", \"computing\", \"concept\", \"concept\", \"concept\", \"conclusion\", \"conclusion\", \"conduct\", \"consortium\", \"contagious\", \"contextaware\", \"continuous\", \"continuous\", \"control\", \"control\", \"control\", \"convolutional_neural\", \"cooccurrence\", \"core\", \"coreference\", \"coronary\", \"correct\", \"costly\", \"count\", \"counterpart\", \"covid\", \"crisis\", \"criterion\", \"crowdsourcing\", \"ct\", \"current\", \"current\", \"current\", \"current\", \"current\", \"current\", \"current\", \"curve\", \"cutpoint\", \"cys\", \"cytological\", \"data\", \"data\", \"data\", \"database\", \"dataset\", \"dataset\", \"dataset\", \"dataset\", \"dcomp\", \"deal\", \"deamidate\", \"death\", \"death\", \"decision\", \"decision\", \"decision\", \"decision_support\", \"decompose\", \"deep\", \"deep\", \"deep\", \"defect\", \"deficit\", \"degradation\", \"dementia\", \"demographic\", \"dense\", \"depress\", \"depressed\", \"depression\", \"depressive\", \"descriptor\", \"design\", \"detection\", \"detection\", \"detection\", \"develop\", \"develop\", \"develop\", \"develop\", \"develop\", \"develop\", \"development\", \"development\", \"development\", \"development\", \"development\", \"development\", \"development\", \"device\", \"devote\", \"diabete\", \"diabetes\", \"diagnosis\", \"diagnosis\", \"diagnosis\", \"diagnostic\", \"diagnostic\", \"diagnostic\", \"diego\", \"digital\", \"digitize\", \"digitized\", \"dimensionality\", \"dimensionality\", \"discharge\", \"discipline\", \"discipline\", \"discovery\", \"discovery\", \"discovery\", \"discovery\", \"discovery\", \"discuss\", \"discuss\", \"discuss\", \"discuss\", \"discuss\", \"discuss\", \"discuss\", \"disease\", \"disease\", \"disease\", \"disease\", \"diseaserelevant\", \"disorder\", \"distinct\", \"distribution\", \"distribution\", \"diversity\", \"dl\", \"dna\", \"dna\", \"dnns\", \"dock\", \"drive\", \"drug\", \"drug_discovery\", \"drugtarget_interaction\", \"early\", \"early\", \"early\", \"early\", \"ecg\", \"ecm\", \"ecosystem\", \"education\", \"eeg\", \"effect\", \"effect\", \"effect\", \"effort\", \"effort\", \"effort\", \"effort\", \"effort\", \"ehr\", \"electronic_health\", \"embryo\", \"emergency\", \"emotion\", \"encode\", \"engineer\", \"engineering\", \"engineering\", \"enrich\", \"enrichment\", \"enrol\", \"ensemble\", \"environment\", \"environmental\", \"enzyme\", \"epigenetic\", \"epilepsy\", \"epitope\", \"equally\", \"equivalence\", \"esophageal\", \"essential\", \"essential\", \"essential\", \"essential\", \"estimate\", \"estimate\", \"estimation\", \"ethical\", \"event\", \"evidencebased\", \"evolution\", \"evolution\", \"exacerbate\", \"execute\", \"existence\", \"expect\", \"expect\", \"expect\", \"experiment\", \"experiment\", \"experimental\", \"experimental\", \"expertise\", \"exploration\", \"exploration\", \"exploratory\", \"exposure\", \"exposure\", \"expression\", \"extracellular\", \"extrapolability\", \"eye\", \"eye\", \"facetoface\", \"factor\", \"factor\", \"familial\", \"family\", \"family\", \"family\", \"feature\", \"feature\", \"feature\", \"feature\", \"feature_extraction\", \"feature_selection\", \"fib\", \"fibulin\", \"field\", \"field\", \"field\", \"field\", \"field\", \"field\", \"filtering\", \"finding\", \"finding\", \"finding\", \"finding\", \"fit\", \"flexibility\", \"flood\", \"focus\", \"focus\", \"focus\", \"focus\", \"focus\", \"focus\", \"focus\", \"focus\", \"fold\", \"follistatinlike\", \"follow\", \"follow\", \"forecasting\", \"forensic\", \"foreseeable\", \"frequent\", \"ftir\", \"funcoup\", \"function\", \"function\", \"functional\", \"functional\", \"future\", \"future\", \"future\", \"future\", \"future\", \"future\", \"future\", \"future\", \"fuzzy\", \"gateway\", \"gene\", \"gene\", \"gene_expression\", \"genegene\", \"genephenotype\", \"generalizable\", \"genetic\", \"genomewide_association\", \"genomic\", \"genomics\", \"geometric\", \"global\", \"global\", \"globe\", \"glycolytic\", \"gold_standard\", \"good\", \"good\", \"good\", \"graphical\", \"gravy\", \"ground_truth\", \"grow\", \"grow\", \"grow\", \"habenula\", \"hardware\", \"harmonize\", \"head\", \"health\", \"healthcare\", \"healthy\", \"heart_failure\", \"hepatocellular_carcinoma\", \"heterogeneous\", \"heterogeneous\", \"heterogeneous\", \"heterogeneous\", \"hide\", \"high\", \"high\", \"high\", \"high\", \"high\", \"high\", \"highcost\", \"highlight\", \"highlight\", \"highlight\", \"highlight\", \"highlight\", \"highthroughput\", \"highway\", \"histological\", \"historical\", \"hiv\", \"hospital\", \"http\", \"human\", \"human\", \"human\", \"human\", \"hypo\", \"idea\", \"identification\", \"identification\", \"identify\", \"identify\", \"identify\", \"identify\", \"illustration\", \"illustrative\", \"image\", \"imaging\", \"imaging\", \"imagingbased\", \"immune\", \"impact\", \"impact\", \"impact\", \"impact\", \"implementation\", \"implementation\", \"implementation\", \"implication\", \"implication\", \"implication\", \"important\", \"important\", \"important\", \"important\", \"important\", \"improve\", \"improve\", \"improve\", \"inability\", \"include\", \"include\", \"include\", \"include\", \"include\", \"include\", \"include\", \"include\", \"include\", \"inclusion\", \"inconsistent\", \"increase\", \"increase\", \"increase\", \"increase\", \"increase\", \"increasingly\", \"increasingly\", \"increasingly\", \"individual\", \"individual\", \"industry\", \"inflammation\", \"informatic\", \"information\", \"information\", \"information\", \"information\", \"information\", \"infrared\", \"infrastructure\", \"inheritance\", \"inhibitor\", \"innovation\", \"innovation\", \"insight\", \"insight\", \"insight\", \"insight\", \"insilco\", \"installation\", \"institute\", \"institution\", \"intact\", \"integral_part\", \"integrate\", \"integrate\", \"integrate\", \"integration\", \"integration\", \"integration\", \"integration\", \"integrative\", \"intelligent\", \"intelligent\", \"interaction\", \"intervention\", \"intervention\", \"intracellular\", \"investigate\", \"investigate\", \"investigate\", \"invigorate\", \"involve\", \"involve\", \"involve\", \"involve\", \"involve\", \"iso\", \"issue\", \"issue\", \"issue\", \"issue\", \"item\", \"journal\", \"kidney\", \"label\", \"labelfree\", \"labour\", \"large\", \"large\", \"large\", \"large\", \"large\", \"large\", \"largescale\", \"lead\", \"lead\", \"lead\", \"lead\", \"learn\", \"learn\", \"learner\", \"learning\", \"learning\", \"learning\", \"learning\", \"lesson\", \"lethality\", \"ligand\", \"likelihood\", \"limitation\", \"limitation\", \"limitation\", \"linear\", \"list\", \"literature\", \"literature\", \"live\", \"liver\", \"longterm\", \"low\", \"low\", \"lung\", \"mac\", \"machine\", \"machine\", \"machine\", \"machine\", \"machine\", \"machinelearning\", \"machinelearning\", \"machinelearning\", \"maintainer\", \"majority\", \"make\", \"make\", \"make\", \"make\", \"malignant\", \"management\", \"management\", \"mandate\", \"manic\", \"mapping\", \"marker\", \"mass\", \"mass_spectrometry\", \"massive\", \"massive\", \"massive\", \"material\", \"material\", \"mathematical\", \"matrixassisted\", \"measure\", \"measure\", \"measure\", \"measurement\", \"measurement\", \"mechanism\", \"mechanism\", \"mechanism\", \"mediator\", \"medical\", \"medical\", \"medical\", \"medication\", \"medicine\", \"medium\", \"medline\", \"meiosis\", \"membrane\", \"membrane\", \"mental\", \"mention\", \"metaanalysis\", \"metabolic\", \"metabolism\", \"metabolomic\", \"method\", \"method\", \"method\", \"method\", \"method\", \"micro\", \"microbiology\", \"microscopy\", \"microscopy\", \"million\", \"mirna\", \"ml\", \"mlbased\", \"mobile\", \"modality\", \"modality\", \"model\", \"model\", \"modeling\", \"modification\", \"molecular\", \"molecular\", \"molecule\", \"monitor\", \"monitor\", \"monitor\", \"monitoring\", \"mortality\", \"movement\", \"mri\", \"mri\", \"multiomics\", \"multiple\", \"multiple\", \"multiple\", \"multiple\", \"multiple\", \"multiprotein\", \"multivariate\", \"nad\", \"natural_product\", \"neck\", \"network\", \"network\", \"network\", \"network\", \"neural\", \"neural_network\", \"neuroimage\", \"neuroimaging\", \"neurological\", \"neuron\", \"neuroscience\", \"ninetyeight\", \"nodule\", \"nondestructive\", \"nonlinear\", \"nonstructural\", \"nontargeted\", \"noun\", \"nuclear\", \"oa\", \"oarsi\", \"objective\", \"observable\", \"oligomeric\", \"omic\", \"omic\", \"omission\", \"oncology\", \"oncomir\", \"onedimensional\", \"operate\", \"operation\", \"ophthalmology\", \"opportunity\", \"opportunity\", \"opportunity\", \"opportunity\", \"optimization\", \"organism\", \"organize\", \"original\", \"orthogonal\", \"osteoarthritis\", \"outcome\", \"outcome\", \"outcome\", \"outperform\", \"output\", \"overview\", \"overview\", \"overview\", \"overview\", \"pace\", \"pain\", \"pair\", \"pandemic\", \"paper\", \"paper\", \"paper\", \"paradigm_shift\", \"parkinson\", \"participant\", \"participate\", \"partner\", \"pathogen\", \"pathology\", \"pathway\", \"pathway\", \"patient\", \"patient\", \"pattern\", \"pattern\", \"pd\", \"pediatric\", \"peptide\", \"perceivable\", \"perform\", \"perform\", \"performance\", \"performance\", \"performance\", \"pet\", \"pet_mri\", \"pharmaceutical\", \"phenotype\", \"phenotype\", \"phenotypic\", \"phenotyping\", \"phrase\", \"physiological\", \"physiological\", \"physiological\", \"pilot\", \"pitfall\", \"pitfall\", \"planning\", \"plant\", \"plastidial\", \"play\", \"play\", \"play\", \"plot\", \"policy\", \"polygenic\", \"pool\", \"popular\", \"postprocessing\", \"potential\", \"potential\", \"potential\", \"potential\", \"potential\", \"potential\", \"practice\", \"practice\", \"practitioner\", \"precision_medicine\", \"precision_medicine\", \"predict\", \"predict\", \"predict\", \"prediction\", \"prediction\", \"predictive\", \"predictive\", \"preference\", \"preparation\", \"preprocessing\", \"present\", \"present\", \"present\", \"present\", \"present\", \"present\", \"prevail\", \"prevention\", \"prevention\", \"principle\", \"principle\", \"privacy\", \"proactive\", \"probability\", \"probability_estimation\", \"probe\", \"problem\", \"process\", \"process\", \"process\", \"process\", \"process\", \"process\", \"process\", \"processing\", \"processing\", \"processing\", \"processing\", \"processing\", \"production\", \"professional\", \"professional\", \"prognosis\", \"prognostic\", \"prognostic\", \"programming\", \"property\", \"prostate\", \"protease\", \"protein\", \"proteomic\", \"provide\", \"provide\", \"provide\", \"provide\", \"provide\", \"provide\", \"provide\", \"provider\", \"provision\", \"psychiatric\", \"psychiatry\", \"psychosis\", \"public\", \"publication\", \"publish\", \"pubmed\", \"purpose\", \"purpose\", \"purpose\", \"purpose\", \"put\", \"qhts\", \"qsar\", \"qsar\", \"qualityoflife\", \"quantification\", \"quantitative\", \"quantitative_relationship\", \"quantity\", \"query\", \"radiation\", \"radiation_oncology\", \"radiologist\", \"radiology\", \"radiomic\", \"radiotherapy\", \"raman_spectroscopy\", \"random_forest\", \"reaction\", \"reader\", \"reaffirm\", \"reallife\", \"realtime\", \"realtime\", \"reasoning\", \"recent\", \"recent\", \"recent\", \"recent\", \"recent\", \"receptor\", \"recognition\", \"recognition\", \"recognition\", \"reconstruction\", \"record\", \"record\", \"record\", \"reduce\", \"reduce\", \"reduce\", \"registry\", \"regression\", \"regulate\", \"regulation\", \"regulation\", \"regulatory\", \"regulatory\", \"rehabilitation\", \"reinforcement\", \"reinvestment\", \"relevant\", \"relevant\", \"relevant\", \"relevant\", \"relevant\", \"remarkable\", \"renal\", \"report\", \"report\", \"representation\", \"representation\", \"repurpose\", \"require\", \"require\", \"require\", \"require\", \"require\", \"require\", \"research\", \"research\", \"research\", \"research\", \"research\", \"researcher\", \"researcher\", \"researcher\", \"reserve\", \"residue\", \"response\", \"response\", \"response\", \"response\", \"result\", \"result\", \"result\", \"retinal\", \"retrieve\", \"review\", \"review\", \"review\", \"review\", \"review\", \"review\", \"review\", \"review\", \"review\", \"risk\", \"risk_stratification\", \"rna\", \"robot\", \"robotic\", \"role\", \"role\", \"role\", \"role\", \"routine\", \"rule\", \"rulebased\", \"scan\", \"schizophrenia\", \"science\", \"science\", \"scope\", \"scope\", \"scope\", \"scoringmatrix\", \"search\", \"section\", \"segmentation\", \"seizure\", \"select\", \"select\", \"semisupervised\", \"sense\", \"sensing\", \"sensitivity\", \"sensitivity\", \"sensitivity_specificity\", \"sensor\", \"sepsis\", \"sequence\", \"sequence\", \"sequencing\", \"sequential\", \"series\", \"serum\", \"set\", \"set\", \"set\", \"severe\", \"severity\", \"sheet\", \"show\", \"show\", \"show\", \"show\", \"show\", \"signal\", \"signal\", \"significant\", \"significant\", \"significant\", \"significant\", \"significant\", \"significant\", \"silico\", \"simple\", \"simulate\", \"simulation\", \"site\", \"skill\", \"skill\", \"skill\", \"skin\", \"smart\", \"smartphone\", \"social\", \"social\", \"society\", \"solution\", \"solution\", \"solvation\", \"solve\", \"source\", \"source\", \"source\", \"space\", \"sparse\", \"specific\", \"specific\", \"specific\", \"specific\", \"spectral\", \"speech\", \"speech_recognition\", \"stability\", \"staging\", \"standardization\", \"stateofart\", \"statistic\", \"statistical\", \"stochastic\", \"storage\", \"strainlevel\", \"strategy\", \"strategy\", \"strategy\", \"stroke\", \"structural\", \"structural\", \"structure\", \"structure\", \"structured\", \"study\", \"study\", \"study\", \"subclinical\", \"submission\", \"suboptimal\", \"subroutine\", \"substrate\", \"subthreshold\", \"suggest\", \"suggest\", \"suggest\", \"suggestion\", \"suicide\", \"suited\", \"supervise\", \"supervised\", \"support_vector\", \"support_vector\", \"surgeon\", \"surgery\", \"surgical\", \"surplus\", \"surprisingly\", \"surrogate\", \"survival\", \"svm\", \"symptom\", \"synthesis\", \"system\", \"system\", \"systematic\", \"systematically\", \"target\", \"target\", \"task\", \"task\", \"team\", \"technique\", \"technique\", \"technique\", \"technique\", \"technique\", \"technology\", \"technology\", \"technology\", \"temporally\", \"term\", \"term\", \"term\", \"terminology\", \"test\", \"test\", \"test\", \"text\", \"tf\", \"tfs\", \"tgf\\u03b2\", \"theme\", \"therapeutic\", \"therapeutic\", \"therapeutic\", \"therapy\", \"therapy\", \"throughput\", \"thyroid\", \"tidy\", \"time\", \"time\", \"time\", \"time\", \"tissue\", \"tissue\", \"tissue\", \"tomography\", \"tool\", \"tool\", \"tool\", \"tool\", \"tool\", \"tool\", \"topic\", \"toxicity\", \"toxicological\", \"toxicology\", \"track\", \"trainablemay\", \"trait\", \"trait\", \"transcription\", \"transcriptional\", \"translational\", \"treatment\", \"treatment\", \"treatment\", \"treatment\", \"trial\", \"trial\", \"tumor\", \"tumour\", \"type\", \"type\", \"type\", \"type\", \"ultrasound\", \"uncharacterise\", \"uncover\", \"understand\", \"understand\", \"understand\", \"understand\", \"understand\", \"unit\", \"unit\", \"unknown\", \"unlabeled\", \"unsupervised\", \"usefulness\", \"user\", \"user\", \"va\", \"vaccine\", \"validation\", \"validation\", \"variable\", \"variant\", \"veteran\", \"video\", \"viewpoint\", \"virtual_screening\", \"vision\", \"visit\", \"visual\", \"vivo\", \"volunteer\", \"wearable\", \"web\", \"website\", \"wide_variety\", \"wnt\", \"work\", \"work\", \"work\", \"workflow\", \"workshop\", \"worldwide\", \"year\", \"year\", \"year\", \"year\", \"year\"]}, \"R\": 30, \"lambda.step\": 0.01, \"plot.opts\": {\"xlab\": \"PC1\", \"ylab\": \"PC2\"}, \"topic.order\": [1, 2, 3, 4, 5, 6, 7, 8, 9, 10, 11, 12]};\n",
       "\n",
       "function LDAvis_load_lib(url, callback){\n",
       "  var s = document.createElement('script');\n",
       "  s.src = url;\n",
       "  s.async = true;\n",
       "  s.onreadystatechange = s.onload = callback;\n",
       "  s.onerror = function(){console.warn(\"failed to load library \" + url);};\n",
       "  document.getElementsByTagName(\"head\")[0].appendChild(s);\n",
       "}\n",
       "\n",
       "if(typeof(LDAvis) !== \"undefined\"){\n",
       "   // already loaded: just create the visualization\n",
       "   !function(LDAvis){\n",
       "       new LDAvis(\"#\" + \"ldavis_el156581403439660506725122133585\", ldavis_el156581403439660506725122133585_data);\n",
       "   }(LDAvis);\n",
       "}else if(typeof define === \"function\" && define.amd){\n",
       "   // require.js is available: use it to load d3/LDAvis\n",
       "   require.config({paths: {d3: \"https://d3js.org/d3.v5\"}});\n",
       "   require([\"d3\"], function(d3){\n",
       "      window.d3 = d3;\n",
       "      LDAvis_load_lib(\"https://cdn.jsdelivr.net/gh/bmabey/pyLDAvis@3.3.1/pyLDAvis/js/ldavis.v3.0.0.js\", function(){\n",
       "        new LDAvis(\"#\" + \"ldavis_el156581403439660506725122133585\", ldavis_el156581403439660506725122133585_data);\n",
       "      });\n",
       "    });\n",
       "}else{\n",
       "    // require.js not available: dynamically load d3 & LDAvis\n",
       "    LDAvis_load_lib(\"https://d3js.org/d3.v5.js\", function(){\n",
       "         LDAvis_load_lib(\"https://cdn.jsdelivr.net/gh/bmabey/pyLDAvis@3.3.1/pyLDAvis/js/ldavis.v3.0.0.js\", function(){\n",
       "                 new LDAvis(\"#\" + \"ldavis_el156581403439660506725122133585\", ldavis_el156581403439660506725122133585_data);\n",
       "            })\n",
       "         });\n",
       "}\n",
       "</script>"
      ],
      "text/plain": [
       "PreparedData(topic_coordinates=              x         y  topics  cluster      Freq\n",
       "topic                                               \n",
       "0      0.017188 -0.030977       1        1  8.023273\n",
       "1      0.165449 -0.116490       2        1  7.848004\n",
       "2      0.136991  0.047598       3        1  8.785021\n",
       "3     -0.205875 -0.223166       4        1  8.367324\n",
       "4      0.021433 -0.208487       5        1  8.054701\n",
       "5      0.054183  0.168561       6        1  8.182159\n",
       "6     -0.058977  0.095686       7        1  8.290137\n",
       "7      0.009164  0.046208       8        1  8.440492\n",
       "8      0.262915 -0.117613       9        1  8.475366\n",
       "9     -0.262179 -0.051481      10        1  8.092602\n",
       "10     0.074060  0.239077      11        1  8.491932\n",
       "11    -0.214351  0.151085      12        1  8.948989, topic_info=                Term         Freq        Total Category  logprob  loglift\n",
       "71           machine  4292.000000  4292.000000  Default  30.0000  30.0000\n",
       "30              data  4353.000000  4353.000000  Default  29.0000  29.0000\n",
       "201         learning  3013.000000  3013.000000  Default  28.0000  28.0000\n",
       "68             learn  2394.000000  2394.000000  Default  27.0000  27.0000\n",
       "356            model  2353.000000  2353.000000  Default  26.0000  26.0000\n",
       "...              ...          ...          ...      ...      ...      ...\n",
       "1035  implementation   144.026882   299.562484  Topic12  -5.3068   1.6813\n",
       "91           provide   225.744258  1613.285705  Topic12  -4.8574   0.4470\n",
       "61           include   208.379321  1426.538046  Topic12  -4.9375   0.4900\n",
       "63       information   153.220080   833.181852  Topic12  -5.2450   0.7203\n",
       "449          require   146.069814   478.372573  Topic12  -5.2927   1.2273\n",
       "\n",
       "[985 rows x 6 columns], token_table=      Topic      Freq         Term\n",
       "term                              \n",
       "399       4  0.347555      ability\n",
       "399      11  0.651208      ability\n",
       "1541      4  0.981454      absence\n",
       "2962      3  0.993657     abstract\n",
       "599      11  0.971242  accommodate\n",
       "...     ...       ...          ...\n",
       "597       1  0.112482         year\n",
       "597       3  0.233891         year\n",
       "597       4  0.169615         year\n",
       "597       5  0.108911         year\n",
       "597      11  0.373154         year\n",
       "\n",
       "[1379 rows x 3 columns], R=30, lambda_step=0.01, plot_opts={'xlab': 'PC1', 'ylab': 'PC2'}, topic_order=[1, 2, 3, 4, 5, 6, 7, 8, 9, 10, 11, 12])"
      ]
     },
     "execution_count": 33,
     "metadata": {},
     "output_type": "execute_result"
    }
   ],
   "source": [
    "#convert and visualize\n",
    "converted_model = ldaMalletConvertToldaGen(optimal_model)\n",
    "pyLDAvis.enable_notebook()\n",
    "plot = gensimvis.prepare(converted_model, corpus, id2word, sort_topics=False)\n",
    "# Save pyLDA plot as html file\n",
    "pyLDAvis.save_html(plot, '../figures/pubmed_optimal_LDA_mallet_model12_big.html')\n",
    "plot"
   ]
  },
  {
   "cell_type": "markdown",
   "id": "3a14bb9a-a03a-4ab6-b153-23225e034321",
   "metadata": {},
   "source": [
    "### Find the Dominant Topic in Each Document"
   ]
  },
  {
   "cell_type": "code",
   "execution_count": 34,
   "id": "885f68cd-02a4-4f31-a3ae-ea6c75c61257",
   "metadata": {},
   "outputs": [],
   "source": [
    "pd.set_option('max_colwidth', 100)"
   ]
  },
  {
   "cell_type": "code",
   "execution_count": 35,
   "id": "8b398ab5-862a-4da5-b8bd-231443ae08c8",
   "metadata": {},
   "outputs": [],
   "source": [
    "# adapted from https://www.machinelearningplus.com/nlp/topic-modeling-gensim-python/#17howtofindtheoptimalnumberoftopicsforlda\n",
    "\n",
    "def format_topics_docs(ldamodel, corpus=corpus, texts=data_words_bigrams):\n",
    "    # Init output\n",
    "    docs_topics_df = pd.DataFrame()\n",
    " \n",
    "    # Get main topic in each document\n",
    "    for i, row in enumerate(ldamodel[corpus]):\n",
    "        row = sorted(row, key=lambda x: (x[1]), reverse=True)\n",
    "        # Get the Dominant topic, Perc Contribution and Keywords for each document\n",
    "        for j, (topic_num, prop_topic) in enumerate(row):\n",
    "            if j == 0:  # => dominant topic\n",
    "                wp = ldamodel.show_topic(topic_num)\n",
    "                topic_keywords = \", \".join([word for word, prop in wp])\n",
    "                docs_topics_df = docs_topics_df.append(pd.Series([int(topic_num), round(prop_topic,4), topic_keywords]),ignore_index=True)\n",
    "            else:\n",
    "                break\n",
    "    docs_topics_df.columns = ['Dominant_Topic', 'Perc_Contribution', 'Topic_Keywords']\n",
    " \n",
    "    # Add original text to the end of the output\n",
    "    contents = pd.Series(texts)\n",
    "    docs_topics_df = pd.concat([docs_topics_df, contents], axis=1)\n",
    "    return(docs_topics_df)"
   ]
  },
  {
   "cell_type": "code",
   "execution_count": 36,
   "id": "875b58dc-ea18-44be-a627-90fbae8f1c31",
   "metadata": {},
   "outputs": [],
   "source": [
    "df_topic_docs_keywords = format_topics_docs(ldamodel=converted_model, corpus=corpus, texts=data_words_bigrams)\n",
    "\n",
    "df_dominant_topic = df_topic_docs_keywords.reset_index()\n",
    "df_dominant_topic.columns = ['Document_No', 'Dominant_Topic', 'Topic_Perc_Contrib', 'Keywords', 'Text']\n",
    "\n",
    "#reset index to pmid numbers\n",
    "df_dominant_topic.index = df.index\n"
   ]
  },
  {
   "cell_type": "code",
   "execution_count": 37,
   "id": "2fb5b9ba-3e82-435e-b5e6-405dac03bceb",
   "metadata": {},
   "outputs": [
    {
     "data": {
      "text/html": [
       "<div>\n",
       "<style scoped>\n",
       "    .dataframe tbody tr th:only-of-type {\n",
       "        vertical-align: middle;\n",
       "    }\n",
       "\n",
       "    .dataframe tbody tr th {\n",
       "        vertical-align: top;\n",
       "    }\n",
       "\n",
       "    .dataframe thead th {\n",
       "        text-align: right;\n",
       "    }\n",
       "</style>\n",
       "<table border=\"1\" class=\"dataframe\">\n",
       "  <thead>\n",
       "    <tr style=\"text-align: right;\">\n",
       "      <th></th>\n",
       "      <th>Document_No</th>\n",
       "      <th>Dominant_Topic</th>\n",
       "      <th>Topic_Perc_Contrib</th>\n",
       "      <th>Keywords</th>\n",
       "      <th>Text</th>\n",
       "    </tr>\n",
       "    <tr>\n",
       "      <th>pmid</th>\n",
       "      <th></th>\n",
       "      <th></th>\n",
       "      <th></th>\n",
       "      <th></th>\n",
       "      <th></th>\n",
       "    </tr>\n",
       "  </thead>\n",
       "  <tbody>\n",
       "    <tr>\n",
       "      <th>22627698</th>\n",
       "      <td>0</td>\n",
       "      <td>5.0</td>\n",
       "      <td>0.1417</td>\n",
       "      <td>image, imaging, deep, technique, analysis, diagnosis, review, medical, learning, provide</td>\n",
       "      <td>[extract, biological, information, computational, analysis, infrared, ftir, biospectroscopy, dat...</td>\n",
       "    </tr>\n",
       "    <tr>\n",
       "      <th>22952238</th>\n",
       "      <td>1</td>\n",
       "      <td>7.0</td>\n",
       "      <td>0.1816</td>\n",
       "      <td>data, analysis, approach, cell, biological, network, genetic, complex, genomic, gene</td>\n",
       "      <td>[uncover, transcription, factor, module, analyse, transcriptional, regulation, critical, mediato...</td>\n",
       "    </tr>\n",
       "    <tr>\n",
       "      <th>22944687</th>\n",
       "      <td>2</td>\n",
       "      <td>1.0</td>\n",
       "      <td>0.4117</td>\n",
       "      <td>method, prediction, computational, protein, tool, interaction, approach, function, sequence, ide...</td>\n",
       "      <td>[understand, substrate, specificity, conventional, calpain, calpain, intracellular, dependent, c...</td>\n",
       "    </tr>\n",
       "    <tr>\n",
       "      <th>22075226</th>\n",
       "      <td>3</td>\n",
       "      <td>1.0</td>\n",
       "      <td>0.3663</td>\n",
       "      <td>method, prediction, computational, protein, tool, interaction, approach, function, sequence, ide...</td>\n",
       "      <td>[membrane, protein, structural, bioinformatics, increase, number, recently, solve, membrane, pro...</td>\n",
       "    </tr>\n",
       "    <tr>\n",
       "      <th>23012584</th>\n",
       "      <td>4</td>\n",
       "      <td>11.0</td>\n",
       "      <td>0.1854</td>\n",
       "      <td>data, health, care, ai, artificial_intelligence, big, medicine, technology, clinical, medical</td>\n",
       "      <td>[future, medical, diagnostic, large, digitized, database, electronic_health, record, mandate, am...</td>\n",
       "    </tr>\n",
       "  </tbody>\n",
       "</table>\n",
       "</div>"
      ],
      "text/plain": [
       "          Document_No  Dominant_Topic  Topic_Perc_Contrib  \\\n",
       "pmid                                                        \n",
       "22627698            0             5.0              0.1417   \n",
       "22952238            1             7.0              0.1816   \n",
       "22944687            2             1.0              0.4117   \n",
       "22075226            3             1.0              0.3663   \n",
       "23012584            4            11.0              0.1854   \n",
       "\n",
       "                                                                                                     Keywords  \\\n",
       "pmid                                                                                                            \n",
       "22627698             image, imaging, deep, technique, analysis, diagnosis, review, medical, learning, provide   \n",
       "22952238                 data, analysis, approach, cell, biological, network, genetic, complex, genomic, gene   \n",
       "22944687  method, prediction, computational, protein, tool, interaction, approach, function, sequence, ide...   \n",
       "22075226  method, prediction, computational, protein, tool, interaction, approach, function, sequence, ide...   \n",
       "23012584        data, health, care, ai, artificial_intelligence, big, medicine, technology, clinical, medical   \n",
       "\n",
       "                                                                                                         Text  \n",
       "pmid                                                                                                           \n",
       "22627698  [extract, biological, information, computational, analysis, infrared, ftir, biospectroscopy, dat...  \n",
       "22952238  [uncover, transcription, factor, module, analyse, transcriptional, regulation, critical, mediato...  \n",
       "22944687  [understand, substrate, specificity, conventional, calpain, calpain, intracellular, dependent, c...  \n",
       "22075226  [membrane, protein, structural, bioinformatics, increase, number, recently, solve, membrane, pro...  \n",
       "23012584  [future, medical, diagnostic, large, digitized, database, electronic_health, record, mandate, am...  "
      ]
     },
     "execution_count": 37,
     "metadata": {},
     "output_type": "execute_result"
    }
   ],
   "source": [
    "# show\n",
    "df_dominant_topic.head()"
   ]
  },
  {
   "cell_type": "markdown",
   "id": "a374d003-8804-4f4f-86d5-e3fd9ffcb6ee",
   "metadata": {},
   "source": [
    "#### Find the most representative document for each topic"
   ]
  },
  {
   "cell_type": "code",
   "execution_count": 38,
   "id": "66689de2-b8d9-4787-8015-bf64e4a41f92",
   "metadata": {},
   "outputs": [],
   "source": [
    "doc_topics_sorteddf_mallet = pd.DataFrame()\n",
    "\n",
    "\n",
    "#reset index to pmid numbers\n",
    "df_topic_docs_keywords.index = df.index\n",
    "\n",
    "doc_topics_outdf_grpd = df_topic_docs_keywords.groupby('Dominant_Topic')\n",
    "\n",
    "for i, grp in doc_topics_outdf_grpd:\n",
    "    doc_topics_sorteddf_mallet = pd.concat([doc_topics_sorteddf_mallet, \n",
    "                                             grp.sort_values(['Perc_Contribution'], ascending=[0]).head(1)], \n",
    "                                            axis=0)\n",
    "# Format\n",
    "doc_topics_sorteddf_mallet.columns = ['Topic_Num', \"Topic_Perc_Contrib\", \"Keywords\", \"Text\"]\n"
   ]
  },
  {
   "cell_type": "code",
   "execution_count": 47,
   "id": "5397709a-d7a2-45e6-9164-fe4b2a569ead",
   "metadata": {},
   "outputs": [],
   "source": [
    "# Show representative topics and keywords\n",
    "rep_docs = pd.merge(doc_topics_sorteddf_mallet,df, how='inner', left_index=True, right_index=True)\n"
   ]
  },
  {
   "cell_type": "code",
   "execution_count": 49,
   "id": "ef49dbcc-0a2f-4201-868d-707b2fe3bf39",
   "metadata": {},
   "outputs": [],
   "source": [
    "rep_docs.drop(columns = 'Text', inplace=True)"
   ]
  },
  {
   "cell_type": "code",
   "execution_count": 50,
   "id": "2a0411a6-0795-487c-b8dd-6ce528c1b2f8",
   "metadata": {},
   "outputs": [
    {
     "data": {
      "text/html": [
       "<div>\n",
       "<style scoped>\n",
       "    .dataframe tbody tr th:only-of-type {\n",
       "        vertical-align: middle;\n",
       "    }\n",
       "\n",
       "    .dataframe tbody tr th {\n",
       "        vertical-align: top;\n",
       "    }\n",
       "\n",
       "    .dataframe thead th {\n",
       "        text-align: right;\n",
       "    }\n",
       "</style>\n",
       "<table border=\"1\" class=\"dataframe\">\n",
       "  <thead>\n",
       "    <tr style=\"text-align: right;\">\n",
       "      <th></th>\n",
       "      <th>Topic_Num</th>\n",
       "      <th>Topic_Perc_Contrib</th>\n",
       "      <th>Keywords</th>\n",
       "      <th>text</th>\n",
       "      <th>citations</th>\n",
       "    </tr>\n",
       "    <tr>\n",
       "      <th>pmid</th>\n",
       "      <th></th>\n",
       "      <th></th>\n",
       "      <th></th>\n",
       "      <th></th>\n",
       "      <th></th>\n",
       "    </tr>\n",
       "  </thead>\n",
       "  <tbody>\n",
       "    <tr>\n",
       "      <th>31936321</th>\n",
       "      <td>0.0</td>\n",
       "      <td>0.5435</td>\n",
       "      <td>drug, development, design, model, approach, computational, modeling, target, recent, drug_discovery</td>\n",
       "      <td>machinelearningassisted de novo design of organic molecules and polymers: opportunities and chal...</td>\n",
       "      <td>7</td>\n",
       "    </tr>\n",
       "    <tr>\n",
       "      <th>25756377</th>\n",
       "      <td>1.0</td>\n",
       "      <td>0.5198</td>\n",
       "      <td>method, prediction, computational, protein, tool, interaction, approach, function, sequence, ide...</td>\n",
       "      <td>an overview of the prediction of protein dnabinding sites interactions between proteins and dna ...</td>\n",
       "      <td>16</td>\n",
       "    </tr>\n",
       "    <tr>\n",
       "      <th>31526946</th>\n",
       "      <td>2.0</td>\n",
       "      <td>0.5179</td>\n",
       "      <td>study, review, research, result, literature, article, method, paper, identify, include</td>\n",
       "      <td>half a century of computer methods and programs in biomedicine: a bibliometric analysis from 197...</td>\n",
       "      <td>1</td>\n",
       "    </tr>\n",
       "    <tr>\n",
       "      <th>33000054</th>\n",
       "      <td>3.0</td>\n",
       "      <td>0.4521</td>\n",
       "      <td>patient, disease, clinical, risk, outcome, management, assessment, improve, treatment, cardiovas...</td>\n",
       "      <td>predicting cardiac arrest in the emergency department inhospital cardiac arrest remains a leadin...</td>\n",
       "      <td>0</td>\n",
       "    </tr>\n",
       "    <tr>\n",
       "      <th>29705713</th>\n",
       "      <td>4.0</td>\n",
       "      <td>0.5407</td>\n",
       "      <td>study, brain, biomarker, disorder, disease, individual, approach, identify, pattern, functional</td>\n",
       "      <td>the neural markers of mri to differentiate depression and panic disorder depression and panic di...</td>\n",
       "      <td>2</td>\n",
       "    </tr>\n",
       "    <tr>\n",
       "      <th>30337064</th>\n",
       "      <td>5.0</td>\n",
       "      <td>0.4976</td>\n",
       "      <td>image, imaging, deep, technique, analysis, diagnosis, review, medical, learning, provide</td>\n",
       "      <td>computeraided diagnosis of glaucoma using fundus images: a review background and objectives:    ...</td>\n",
       "      <td>4</td>\n",
       "    </tr>\n",
       "    <tr>\n",
       "      <th>32414188</th>\n",
       "      <td>6.0</td>\n",
       "      <td>0.4987</td>\n",
       "      <td>system, technology, challenge, sensor, device, review, signal, detection, work, solution</td>\n",
       "      <td>future is unlicensed: private 5g unlicensed network for connecting industries of future this pap...</td>\n",
       "      <td>0</td>\n",
       "    </tr>\n",
       "    <tr>\n",
       "      <th>26941766</th>\n",
       "      <td>7.0</td>\n",
       "      <td>0.5031</td>\n",
       "      <td>data, analysis, approach, cell, biological, network, genetic, complex, genomic, gene</td>\n",
       "      <td>changing the game: using integrative genomics to probe virulence mechanisms of the stem rust pat...</td>\n",
       "      <td>11</td>\n",
       "    </tr>\n",
       "    <tr>\n",
       "      <th>30654138</th>\n",
       "      <td>8.0</td>\n",
       "      <td>0.5982</td>\n",
       "      <td>model, method, prediction, performance, base, statistical, accuracy, result, predict, predictive</td>\n",
       "      <td>an extensive experimental survey of regression methods regression is a very relevant problem in ...</td>\n",
       "      <td>8</td>\n",
       "    </tr>\n",
       "    <tr>\n",
       "      <th>32760624</th>\n",
       "      <td>9.0</td>\n",
       "      <td>0.4262</td>\n",
       "      <td>cancer, clinical, artificial_intelligence, potential, treatment, improve, application, future, p...</td>\n",
       "      <td>artificial intelligence: is it armageddon for breast radiologists artificial intelligence (ai) h...</td>\n",
       "      <td>0</td>\n",
       "    </tr>\n",
       "    <tr>\n",
       "      <th>23335577</th>\n",
       "      <td>10.0</td>\n",
       "      <td>0.3890</td>\n",
       "      <td>machine, learning, learn, application, algorithm, ml, apply, field, problem, neural_network</td>\n",
       "      <td>human semisupervised learning most empirical work in human categorization has studied learning i...</td>\n",
       "      <td>7</td>\n",
       "    </tr>\n",
       "    <tr>\n",
       "      <th>32062767</th>\n",
       "      <td>11.0</td>\n",
       "      <td>0.4881</td>\n",
       "      <td>data, health, care, ai, artificial_intelligence, big, medicine, technology, clinical, medical</td>\n",
       "      <td>big data and data processing in rheumatology: bioethical perspectives big data analytics and pro...</td>\n",
       "      <td>2</td>\n",
       "    </tr>\n",
       "  </tbody>\n",
       "</table>\n",
       "</div>"
      ],
      "text/plain": [
       "          Topic_Num  Topic_Perc_Contrib  \\\n",
       "pmid                                      \n",
       "31936321        0.0              0.5435   \n",
       "25756377        1.0              0.5198   \n",
       "31526946        2.0              0.5179   \n",
       "33000054        3.0              0.4521   \n",
       "29705713        4.0              0.5407   \n",
       "30337064        5.0              0.4976   \n",
       "32414188        6.0              0.4987   \n",
       "26941766        7.0              0.5031   \n",
       "30654138        8.0              0.5982   \n",
       "32760624        9.0              0.4262   \n",
       "23335577       10.0              0.3890   \n",
       "32062767       11.0              0.4881   \n",
       "\n",
       "                                                                                                     Keywords  \\\n",
       "pmid                                                                                                            \n",
       "31936321  drug, development, design, model, approach, computational, modeling, target, recent, drug_discovery   \n",
       "25756377  method, prediction, computational, protein, tool, interaction, approach, function, sequence, ide...   \n",
       "31526946               study, review, research, result, literature, article, method, paper, identify, include   \n",
       "33000054  patient, disease, clinical, risk, outcome, management, assessment, improve, treatment, cardiovas...   \n",
       "29705713      study, brain, biomarker, disorder, disease, individual, approach, identify, pattern, functional   \n",
       "30337064             image, imaging, deep, technique, analysis, diagnosis, review, medical, learning, provide   \n",
       "32414188             system, technology, challenge, sensor, device, review, signal, detection, work, solution   \n",
       "26941766                 data, analysis, approach, cell, biological, network, genetic, complex, genomic, gene   \n",
       "30654138     model, method, prediction, performance, base, statistical, accuracy, result, predict, predictive   \n",
       "32760624  cancer, clinical, artificial_intelligence, potential, treatment, improve, application, future, p...   \n",
       "23335577          machine, learning, learn, application, algorithm, ml, apply, field, problem, neural_network   \n",
       "32062767        data, health, care, ai, artificial_intelligence, big, medicine, technology, clinical, medical   \n",
       "\n",
       "                                                                                                         text  \\\n",
       "pmid                                                                                                            \n",
       "31936321  machinelearningassisted de novo design of organic molecules and polymers: opportunities and chal...   \n",
       "25756377  an overview of the prediction of protein dnabinding sites interactions between proteins and dna ...   \n",
       "31526946  half a century of computer methods and programs in biomedicine: a bibliometric analysis from 197...   \n",
       "33000054  predicting cardiac arrest in the emergency department inhospital cardiac arrest remains a leadin...   \n",
       "29705713  the neural markers of mri to differentiate depression and panic disorder depression and panic di...   \n",
       "30337064  computeraided diagnosis of glaucoma using fundus images: a review background and objectives:    ...   \n",
       "32414188  future is unlicensed: private 5g unlicensed network for connecting industries of future this pap...   \n",
       "26941766  changing the game: using integrative genomics to probe virulence mechanisms of the stem rust pat...   \n",
       "30654138  an extensive experimental survey of regression methods regression is a very relevant problem in ...   \n",
       "32760624  artificial intelligence: is it armageddon for breast radiologists artificial intelligence (ai) h...   \n",
       "23335577  human semisupervised learning most empirical work in human categorization has studied learning i...   \n",
       "32062767  big data and data processing in rheumatology: bioethical perspectives big data analytics and pro...   \n",
       "\n",
       "          citations  \n",
       "pmid                 \n",
       "31936321          7  \n",
       "25756377         16  \n",
       "31526946          1  \n",
       "33000054          0  \n",
       "29705713          2  \n",
       "30337064          4  \n",
       "32414188          0  \n",
       "26941766         11  \n",
       "30654138          8  \n",
       "32760624          0  \n",
       "23335577          7  \n",
       "32062767          2  "
      ]
     },
     "execution_count": 50,
     "metadata": {},
     "output_type": "execute_result"
    }
   ],
   "source": [
    "rep_docs"
   ]
  },
  {
   "cell_type": "markdown",
   "id": "f3eef6de-f46f-42fe-9c7c-9f0649cf79b6",
   "metadata": {},
   "source": [
    "#### Explore Relationship Between Dominant Topic and Number of Citations"
   ]
  },
  {
   "cell_type": "code",
   "execution_count": 40,
   "id": "7840cdb2-ac36-475a-a1d5-ff92bc25ba17",
   "metadata": {},
   "outputs": [
    {
     "data": {
      "text/html": [
       "<div>\n",
       "<style scoped>\n",
       "    .dataframe tbody tr th:only-of-type {\n",
       "        vertical-align: middle;\n",
       "    }\n",
       "\n",
       "    .dataframe tbody tr th {\n",
       "        vertical-align: top;\n",
       "    }\n",
       "\n",
       "    .dataframe thead th {\n",
       "        text-align: right;\n",
       "    }\n",
       "</style>\n",
       "<table border=\"1\" class=\"dataframe\">\n",
       "  <thead>\n",
       "    <tr style=\"text-align: right;\">\n",
       "      <th></th>\n",
       "      <th>text</th>\n",
       "      <th>citations</th>\n",
       "    </tr>\n",
       "    <tr>\n",
       "      <th>pmid</th>\n",
       "      <th></th>\n",
       "      <th></th>\n",
       "    </tr>\n",
       "  </thead>\n",
       "  <tbody>\n",
       "    <tr>\n",
       "      <th>22627698</th>\n",
       "      <td>extracting biological information with computational analysis of fouriertransform infrared (ftir...</td>\n",
       "      <td>35</td>\n",
       "    </tr>\n",
       "    <tr>\n",
       "      <th>22952238</th>\n",
       "      <td>uncovering transcription factor modules using one and threedimensional analyses transcriptional ...</td>\n",
       "      <td>4</td>\n",
       "    </tr>\n",
       "    <tr>\n",
       "      <th>22944687</th>\n",
       "      <td>understanding the substrate specificity of conventional calpains calpains are intracellular ca(2...</td>\n",
       "      <td>19</td>\n",
       "    </tr>\n",
       "    <tr>\n",
       "      <th>22075226</th>\n",
       "      <td>membrane protein structural bioinformatics despite the increasing number of recently solved memb...</td>\n",
       "      <td>12</td>\n",
       "    </tr>\n",
       "    <tr>\n",
       "      <th>23012584</th>\n",
       "      <td>the future of medical diagnostics: large digitized databases the electronic health record mandat...</td>\n",
       "      <td>10</td>\n",
       "    </tr>\n",
       "  </tbody>\n",
       "</table>\n",
       "</div>"
      ],
      "text/plain": [
       "                                                                                                         text  \\\n",
       "pmid                                                                                                            \n",
       "22627698  extracting biological information with computational analysis of fouriertransform infrared (ftir...   \n",
       "22952238  uncovering transcription factor modules using one and threedimensional analyses transcriptional ...   \n",
       "22944687  understanding the substrate specificity of conventional calpains calpains are intracellular ca(2...   \n",
       "22075226  membrane protein structural bioinformatics despite the increasing number of recently solved memb...   \n",
       "23012584  the future of medical diagnostics: large digitized databases the electronic health record mandat...   \n",
       "\n",
       "          citations  \n",
       "pmid                 \n",
       "22627698         35  \n",
       "22952238          4  \n",
       "22944687         19  \n",
       "22075226         12  \n",
       "23012584         10  "
      ]
     },
     "execution_count": 40,
     "metadata": {},
     "output_type": "execute_result"
    }
   ],
   "source": [
    "df.head()"
   ]
  },
  {
   "cell_type": "code",
   "execution_count": 41,
   "id": "3bd762a5-6a3f-40ba-b2db-4526478ba6c5",
   "metadata": {},
   "outputs": [
    {
     "data": {
      "text/html": [
       "<div>\n",
       "<style scoped>\n",
       "    .dataframe tbody tr th:only-of-type {\n",
       "        vertical-align: middle;\n",
       "    }\n",
       "\n",
       "    .dataframe tbody tr th {\n",
       "        vertical-align: top;\n",
       "    }\n",
       "\n",
       "    .dataframe thead th {\n",
       "        text-align: right;\n",
       "    }\n",
       "</style>\n",
       "<table border=\"1\" class=\"dataframe\">\n",
       "  <thead>\n",
       "    <tr style=\"text-align: right;\">\n",
       "      <th></th>\n",
       "      <th>Document_No</th>\n",
       "      <th>Dominant_Topic</th>\n",
       "      <th>Topic_Perc_Contrib</th>\n",
       "      <th>Keywords</th>\n",
       "      <th>Text</th>\n",
       "    </tr>\n",
       "    <tr>\n",
       "      <th>pmid</th>\n",
       "      <th></th>\n",
       "      <th></th>\n",
       "      <th></th>\n",
       "      <th></th>\n",
       "      <th></th>\n",
       "    </tr>\n",
       "  </thead>\n",
       "  <tbody>\n",
       "    <tr>\n",
       "      <th>22627698</th>\n",
       "      <td>0</td>\n",
       "      <td>5.0</td>\n",
       "      <td>0.1417</td>\n",
       "      <td>image, imaging, deep, technique, analysis, diagnosis, review, medical, learning, provide</td>\n",
       "      <td>[extract, biological, information, computational, analysis, infrared, ftir, biospectroscopy, dat...</td>\n",
       "    </tr>\n",
       "    <tr>\n",
       "      <th>22952238</th>\n",
       "      <td>1</td>\n",
       "      <td>7.0</td>\n",
       "      <td>0.1816</td>\n",
       "      <td>data, analysis, approach, cell, biological, network, genetic, complex, genomic, gene</td>\n",
       "      <td>[uncover, transcription, factor, module, analyse, transcriptional, regulation, critical, mediato...</td>\n",
       "    </tr>\n",
       "    <tr>\n",
       "      <th>22944687</th>\n",
       "      <td>2</td>\n",
       "      <td>1.0</td>\n",
       "      <td>0.4117</td>\n",
       "      <td>method, prediction, computational, protein, tool, interaction, approach, function, sequence, ide...</td>\n",
       "      <td>[understand, substrate, specificity, conventional, calpain, calpain, intracellular, dependent, c...</td>\n",
       "    </tr>\n",
       "    <tr>\n",
       "      <th>22075226</th>\n",
       "      <td>3</td>\n",
       "      <td>1.0</td>\n",
       "      <td>0.3663</td>\n",
       "      <td>method, prediction, computational, protein, tool, interaction, approach, function, sequence, ide...</td>\n",
       "      <td>[membrane, protein, structural, bioinformatics, increase, number, recently, solve, membrane, pro...</td>\n",
       "    </tr>\n",
       "    <tr>\n",
       "      <th>23012584</th>\n",
       "      <td>4</td>\n",
       "      <td>11.0</td>\n",
       "      <td>0.1854</td>\n",
       "      <td>data, health, care, ai, artificial_intelligence, big, medicine, technology, clinical, medical</td>\n",
       "      <td>[future, medical, diagnostic, large, digitized, database, electronic_health, record, mandate, am...</td>\n",
       "    </tr>\n",
       "  </tbody>\n",
       "</table>\n",
       "</div>"
      ],
      "text/plain": [
       "          Document_No  Dominant_Topic  Topic_Perc_Contrib  \\\n",
       "pmid                                                        \n",
       "22627698            0             5.0              0.1417   \n",
       "22952238            1             7.0              0.1816   \n",
       "22944687            2             1.0              0.4117   \n",
       "22075226            3             1.0              0.3663   \n",
       "23012584            4            11.0              0.1854   \n",
       "\n",
       "                                                                                                     Keywords  \\\n",
       "pmid                                                                                                            \n",
       "22627698             image, imaging, deep, technique, analysis, diagnosis, review, medical, learning, provide   \n",
       "22952238                 data, analysis, approach, cell, biological, network, genetic, complex, genomic, gene   \n",
       "22944687  method, prediction, computational, protein, tool, interaction, approach, function, sequence, ide...   \n",
       "22075226  method, prediction, computational, protein, tool, interaction, approach, function, sequence, ide...   \n",
       "23012584        data, health, care, ai, artificial_intelligence, big, medicine, technology, clinical, medical   \n",
       "\n",
       "                                                                                                         Text  \n",
       "pmid                                                                                                           \n",
       "22627698  [extract, biological, information, computational, analysis, infrared, ftir, biospectroscopy, dat...  \n",
       "22952238  [uncover, transcription, factor, module, analyse, transcriptional, regulation, critical, mediato...  \n",
       "22944687  [understand, substrate, specificity, conventional, calpain, calpain, intracellular, dependent, c...  \n",
       "22075226  [membrane, protein, structural, bioinformatics, increase, number, recently, solve, membrane, pro...  \n",
       "23012584  [future, medical, diagnostic, large, digitized, database, electronic_health, record, mandate, am...  "
      ]
     },
     "execution_count": 41,
     "metadata": {},
     "output_type": "execute_result"
    }
   ],
   "source": [
    "df_dominant_topic.head()"
   ]
  },
  {
   "cell_type": "code",
   "execution_count": 42,
   "id": "c05f1e7e-4fa8-460c-853e-8ab84601a65b",
   "metadata": {},
   "outputs": [],
   "source": [
    "#merge on pmid index\n",
    "combined_df = pd.merge(df,df_dominant_topic, how='inner', left_index=True, right_index=True)"
   ]
  },
  {
   "cell_type": "code",
   "execution_count": 43,
   "id": "c4f6dda3-780a-4517-b120-ed66f3dad7c8",
   "metadata": {},
   "outputs": [
    {
     "data": {
      "text/plain": [
       "Index(['text', 'citations', 'Document_No', 'Dominant_Topic',\n",
       "       'Topic_Perc_Contrib', 'Keywords', 'Text'],\n",
       "      dtype='object')"
      ]
     },
     "execution_count": 43,
     "metadata": {},
     "output_type": "execute_result"
    }
   ],
   "source": [
    "combined_df.columns"
   ]
  },
  {
   "cell_type": "code",
   "execution_count": 44,
   "id": "53104a42-29d4-4987-84ca-e08f9697f847",
   "metadata": {},
   "outputs": [],
   "source": [
    "combined_df.drop(columns = ['Document_No', 'Text'], inplace=True)\n"
   ]
  },
  {
   "cell_type": "code",
   "execution_count": 45,
   "id": "77f6e45c-aa59-4cb4-b877-11397652aa3d",
   "metadata": {},
   "outputs": [
    {
     "data": {
      "text/html": [
       "<div>\n",
       "<style scoped>\n",
       "    .dataframe tbody tr th:only-of-type {\n",
       "        vertical-align: middle;\n",
       "    }\n",
       "\n",
       "    .dataframe tbody tr th {\n",
       "        vertical-align: top;\n",
       "    }\n",
       "\n",
       "    .dataframe thead th {\n",
       "        text-align: right;\n",
       "    }\n",
       "</style>\n",
       "<table border=\"1\" class=\"dataframe\">\n",
       "  <thead>\n",
       "    <tr style=\"text-align: right;\">\n",
       "      <th></th>\n",
       "      <th>text</th>\n",
       "      <th>citations</th>\n",
       "      <th>Dominant_Topic</th>\n",
       "      <th>Topic_Perc_Contrib</th>\n",
       "      <th>Keywords</th>\n",
       "    </tr>\n",
       "    <tr>\n",
       "      <th>pmid</th>\n",
       "      <th></th>\n",
       "      <th></th>\n",
       "      <th></th>\n",
       "      <th></th>\n",
       "      <th></th>\n",
       "    </tr>\n",
       "  </thead>\n",
       "  <tbody>\n",
       "    <tr>\n",
       "      <th>22627698</th>\n",
       "      <td>extracting biological information with computational analysis of fouriertransform infrared (ftir...</td>\n",
       "      <td>35</td>\n",
       "      <td>5.0</td>\n",
       "      <td>0.1417</td>\n",
       "      <td>image, imaging, deep, technique, analysis, diagnosis, review, medical, learning, provide</td>\n",
       "    </tr>\n",
       "    <tr>\n",
       "      <th>22952238</th>\n",
       "      <td>uncovering transcription factor modules using one and threedimensional analyses transcriptional ...</td>\n",
       "      <td>4</td>\n",
       "      <td>7.0</td>\n",
       "      <td>0.1816</td>\n",
       "      <td>data, analysis, approach, cell, biological, network, genetic, complex, genomic, gene</td>\n",
       "    </tr>\n",
       "    <tr>\n",
       "      <th>22944687</th>\n",
       "      <td>understanding the substrate specificity of conventional calpains calpains are intracellular ca(2...</td>\n",
       "      <td>19</td>\n",
       "      <td>1.0</td>\n",
       "      <td>0.4117</td>\n",
       "      <td>method, prediction, computational, protein, tool, interaction, approach, function, sequence, ide...</td>\n",
       "    </tr>\n",
       "    <tr>\n",
       "      <th>22075226</th>\n",
       "      <td>membrane protein structural bioinformatics despite the increasing number of recently solved memb...</td>\n",
       "      <td>12</td>\n",
       "      <td>1.0</td>\n",
       "      <td>0.3663</td>\n",
       "      <td>method, prediction, computational, protein, tool, interaction, approach, function, sequence, ide...</td>\n",
       "    </tr>\n",
       "    <tr>\n",
       "      <th>23012584</th>\n",
       "      <td>the future of medical diagnostics: large digitized databases the electronic health record mandat...</td>\n",
       "      <td>10</td>\n",
       "      <td>11.0</td>\n",
       "      <td>0.1854</td>\n",
       "      <td>data, health, care, ai, artificial_intelligence, big, medicine, technology, clinical, medical</td>\n",
       "    </tr>\n",
       "  </tbody>\n",
       "</table>\n",
       "</div>"
      ],
      "text/plain": [
       "                                                                                                         text  \\\n",
       "pmid                                                                                                            \n",
       "22627698  extracting biological information with computational analysis of fouriertransform infrared (ftir...   \n",
       "22952238  uncovering transcription factor modules using one and threedimensional analyses transcriptional ...   \n",
       "22944687  understanding the substrate specificity of conventional calpains calpains are intracellular ca(2...   \n",
       "22075226  membrane protein structural bioinformatics despite the increasing number of recently solved memb...   \n",
       "23012584  the future of medical diagnostics: large digitized databases the electronic health record mandat...   \n",
       "\n",
       "          citations  Dominant_Topic  Topic_Perc_Contrib  \\\n",
       "pmid                                                      \n",
       "22627698         35             5.0              0.1417   \n",
       "22952238          4             7.0              0.1816   \n",
       "22944687         19             1.0              0.4117   \n",
       "22075226         12             1.0              0.3663   \n",
       "23012584         10            11.0              0.1854   \n",
       "\n",
       "                                                                                                     Keywords  \n",
       "pmid                                                                                                           \n",
       "22627698             image, imaging, deep, technique, analysis, diagnosis, review, medical, learning, provide  \n",
       "22952238                 data, analysis, approach, cell, biological, network, genetic, complex, genomic, gene  \n",
       "22944687  method, prediction, computational, protein, tool, interaction, approach, function, sequence, ide...  \n",
       "22075226  method, prediction, computational, protein, tool, interaction, approach, function, sequence, ide...  \n",
       "23012584        data, health, care, ai, artificial_intelligence, big, medicine, technology, clinical, medical  "
      ]
     },
     "execution_count": 45,
     "metadata": {},
     "output_type": "execute_result"
    }
   ],
   "source": [
    "combined_df.head()"
   ]
  },
  {
   "cell_type": "code",
   "execution_count": 51,
   "id": "e0473958-087e-486a-8c6b-bb33d9230261",
   "metadata": {},
   "outputs": [
    {
     "data": {
      "image/png": "[encoded data removed]",
      "text/plain": [
       "<Figure size 1440x720 with 1 Axes>"
      ]
     },
     "metadata": {
      "needs_background": "light"
     },
     "output_type": "display_data"
    }
   ],
   "source": [
    "plt.figure(figsize = (20, 10));\n",
    "sns.barplot(data=combined_df, x='Dominant_Topic', y='citations');\n",
    "figurefont = {'fontname' : 'Futura'};\n",
    "plt.title('Mean Citations by Dominant Topic', fontsize = 24,**figurefont );\n",
    "plt.xticks(**figurefont, fontsize = 20);\n",
    "plt.yticks(**figurefont, fontsize = 20);\n",
    "plt.xlabel('Topic Number',**figurefont, fontsize = 20);\n",
    "plt.ylabel('Mean Citations',**figurefont, fontsize = 20);\n",
    "plt.savefig('../figures/pubmed_mean_citations_trigram_model.jpg',  bbox_inches = \"tight\")"
   ]
  },
  {
   "cell_type": "markdown",
   "id": "e7a51f9c-f619-4f99-a0d1-2d4928e42d68",
   "metadata": {},
   "source": [
    "#### Model Citations by Topic"
   ]
  },
  {
   "cell_type": "code",
   "execution_count": 84,
   "id": "63a7c7a5-9ebe-448d-a53b-e657b2c3d99f",
   "metadata": {},
   "outputs": [],
   "source": [
    "#the topics are not ordinal, so I will convert them to strings\n",
    "\n",
    "combined_df['Dominant_Topic'] = combined_df['Dominant_Topic'].apply(lambda x: str(x).strip('.0').zfill(2))\n"
   ]
  },
  {
   "cell_type": "code",
   "execution_count": 85,
   "id": "8e1df44e-57aa-40c8-9ae2-65dbf8b502ec",
   "metadata": {},
   "outputs": [],
   "source": [
    "df = pd.get_dummies(combined_df,columns=['Dominant_Topic'], drop_first=True)"
   ]
  },
  {
   "cell_type": "code",
   "execution_count": 86,
   "id": "1f5a947e-3b44-4b1d-8f22-4d5a0bec514e",
   "metadata": {},
   "outputs": [
    {
     "data": {
      "text/plain": [
       "Index(['text', 'citations', 'Topic_Perc_Contrib', 'Keywords',\n",
       "       'Dominant_Topic_01', 'Dominant_Topic_02', 'Dominant_Topic_03',\n",
       "       'Dominant_Topic_04', 'Dominant_Topic_05', 'Dominant_Topic_06',\n",
       "       'Dominant_Topic_07', 'Dominant_Topic_08', 'Dominant_Topic_09',\n",
       "       'Dominant_Topic_11'],\n",
       "      dtype='object')"
      ]
     },
     "execution_count": 86,
     "metadata": {},
     "output_type": "execute_result"
    }
   ],
   "source": [
    "df.columns"
   ]
  },
  {
   "cell_type": "code",
   "execution_count": 87,
   "id": "9aa6a143-c8c5-4a3f-9d42-817150c7f1cc",
   "metadata": {},
   "outputs": [],
   "source": [
    "import statsmodels.api as sm"
   ]
  },
  {
   "cell_type": "code",
   "execution_count": 88,
   "id": "5d3436d8-f536-44b7-9b69-1bf7beb0d8a6",
   "metadata": {},
   "outputs": [],
   "source": [
    "X = df.drop(columns=['text','citations','Topic_Perc_Contrib','Keywords'])\n",
    "X = sm.add_constant(X, prepend=True)\n",
    "y = df['citations']"
   ]
  },
  {
   "cell_type": "code",
   "execution_count": 89,
   "id": "e8448cdd-be87-457f-bd21-c9419c920e50",
   "metadata": {},
   "outputs": [
    {
     "data": {
      "text/html": [
       "<table class=\"simpletable\">\n",
       "<caption>OLS Regression Results</caption>\n",
       "<tr>\n",
       "  <th>Dep. Variable:</th>        <td>citations</td>    <th>  R-squared:         </th> <td>   0.016</td> \n",
       "</tr>\n",
       "<tr>\n",
       "  <th>Model:</th>                   <td>OLS</td>       <th>  Adj. R-squared:    </th> <td>   0.012</td> \n",
       "</tr>\n",
       "<tr>\n",
       "  <th>Method:</th>             <td>Least Squares</td>  <th>  F-statistic:       </th> <td>   4.414</td> \n",
       "</tr>\n",
       "<tr>\n",
       "  <th>Date:</th>             <td>Mon, 10 May 2021</td> <th>  Prob (F-statistic):</th> <td>3.49e-06</td> \n",
       "</tr>\n",
       "<tr>\n",
       "  <th>Time:</th>                 <td>22:06:23</td>     <th>  Log-Likelihood:    </th> <td> -11412.</td> \n",
       "</tr>\n",
       "<tr>\n",
       "  <th>No. Observations:</th>      <td>  2809</td>      <th>  AIC:               </th> <td>2.285e+04</td>\n",
       "</tr>\n",
       "<tr>\n",
       "  <th>Df Residuals:</th>          <td>  2798</td>      <th>  BIC:               </th> <td>2.291e+04</td>\n",
       "</tr>\n",
       "<tr>\n",
       "  <th>Df Model:</th>              <td>    10</td>      <th>                     </th>     <td> </td>    \n",
       "</tr>\n",
       "<tr>\n",
       "  <th>Covariance Type:</th>      <td>nonrobust</td>    <th>                     </th>     <td> </td>    \n",
       "</tr>\n",
       "</table>\n",
       "<table class=\"simpletable\">\n",
       "<tr>\n",
       "          <td></td>             <th>coef</th>     <th>std err</th>      <th>t</th>      <th>P>|t|</th>  <th>[0.025</th>    <th>0.975]</th>  \n",
       "</tr>\n",
       "<tr>\n",
       "  <th>const</th>             <td>    8.1720</td> <td>    0.844</td> <td>    9.687</td> <td> 0.000</td> <td>    6.518</td> <td>    9.826</td>\n",
       "</tr>\n",
       "<tr>\n",
       "  <th>Dominant_Topic_01</th> <td>    1.9313</td> <td>    1.076</td> <td>    1.795</td> <td> 0.073</td> <td>   -0.179</td> <td>    4.041</td>\n",
       "</tr>\n",
       "<tr>\n",
       "  <th>Dominant_Topic_02</th> <td>   -1.4205</td> <td>    1.384</td> <td>   -1.026</td> <td> 0.305</td> <td>   -4.134</td> <td>    1.293</td>\n",
       "</tr>\n",
       "<tr>\n",
       "  <th>Dominant_Topic_03</th> <td>   -3.8051</td> <td>    1.274</td> <td>   -2.987</td> <td> 0.003</td> <td>   -6.303</td> <td>   -1.307</td>\n",
       "</tr>\n",
       "<tr>\n",
       "  <th>Dominant_Topic_04</th> <td>    3.3518</td> <td>    1.225</td> <td>    2.737</td> <td> 0.006</td> <td>    0.951</td> <td>    5.753</td>\n",
       "</tr>\n",
       "<tr>\n",
       "  <th>Dominant_Topic_05</th> <td>    1.3856</td> <td>    1.204</td> <td>    1.151</td> <td> 0.250</td> <td>   -0.975</td> <td>    3.747</td>\n",
       "</tr>\n",
       "<tr>\n",
       "  <th>Dominant_Topic_06</th> <td>    0.1526</td> <td>    1.253</td> <td>    0.122</td> <td> 0.903</td> <td>   -2.305</td> <td>    2.611</td>\n",
       "</tr>\n",
       "<tr>\n",
       "  <th>Dominant_Topic_07</th> <td>    1.8525</td> <td>    1.187</td> <td>    1.561</td> <td> 0.119</td> <td>   -0.474</td> <td>    4.180</td>\n",
       "</tr>\n",
       "<tr>\n",
       "  <th>Dominant_Topic_08</th> <td>   -0.5227</td> <td>    1.415</td> <td>   -0.370</td> <td> 0.712</td> <td>   -3.296</td> <td>    2.251</td>\n",
       "</tr>\n",
       "<tr>\n",
       "  <th>Dominant_Topic_09</th> <td>   -0.1057</td> <td>    1.261</td> <td>   -0.084</td> <td> 0.933</td> <td>   -2.578</td> <td>    2.367</td>\n",
       "</tr>\n",
       "<tr>\n",
       "  <th>Dominant_Topic_11</th> <td>   -0.0352</td> <td>    1.187</td> <td>   -0.030</td> <td> 0.976</td> <td>   -2.362</td> <td>    2.292</td>\n",
       "</tr>\n",
       "</table>\n",
       "<table class=\"simpletable\">\n",
       "<tr>\n",
       "  <th>Omnibus:</th>       <td>1944.468</td> <th>  Durbin-Watson:     </th> <td>   1.627</td> \n",
       "</tr>\n",
       "<tr>\n",
       "  <th>Prob(Omnibus):</th>  <td> 0.000</td>  <th>  Jarque-Bera (JB):  </th> <td>24249.074</td>\n",
       "</tr>\n",
       "<tr>\n",
       "  <th>Skew:</th>           <td> 3.241</td>  <th>  Prob(JB):          </th> <td>    0.00</td> \n",
       "</tr>\n",
       "<tr>\n",
       "  <th>Kurtosis:</th>       <td>15.852</td>  <th>  Cond. No.          </th> <td>    11.5</td> \n",
       "</tr>\n",
       "</table><br/><br/>Notes:<br/>[1] Standard Errors assume that the covariance matrix of the errors is correctly specified."
      ],
      "text/plain": [
       "<class 'statsmodels.iolib.summary.Summary'>\n",
       "\"\"\"\n",
       "                            OLS Regression Results                            \n",
       "==============================================================================\n",
       "Dep. Variable:              citations   R-squared:                       0.016\n",
       "Model:                            OLS   Adj. R-squared:                  0.012\n",
       "Method:                 Least Squares   F-statistic:                     4.414\n",
       "Date:                Mon, 10 May 2021   Prob (F-statistic):           3.49e-06\n",
       "Time:                        22:06:23   Log-Likelihood:                -11412.\n",
       "No. Observations:                2809   AIC:                         2.285e+04\n",
       "Df Residuals:                    2798   BIC:                         2.291e+04\n",
       "Df Model:                          10                                         \n",
       "Covariance Type:            nonrobust                                         \n",
       "=====================================================================================\n",
       "                        coef    std err          t      P>|t|      [0.025      0.975]\n",
       "-------------------------------------------------------------------------------------\n",
       "const                 8.1720      0.844      9.687      0.000       6.518       9.826\n",
       "Dominant_Topic_01     1.9313      1.076      1.795      0.073      -0.179       4.041\n",
       "Dominant_Topic_02    -1.4205      1.384     -1.026      0.305      -4.134       1.293\n",
       "Dominant_Topic_03    -3.8051      1.274     -2.987      0.003      -6.303      -1.307\n",
       "Dominant_Topic_04     3.3518      1.225      2.737      0.006       0.951       5.753\n",
       "Dominant_Topic_05     1.3856      1.204      1.151      0.250      -0.975       3.747\n",
       "Dominant_Topic_06     0.1526      1.253      0.122      0.903      -2.305       2.611\n",
       "Dominant_Topic_07     1.8525      1.187      1.561      0.119      -0.474       4.180\n",
       "Dominant_Topic_08    -0.5227      1.415     -0.370      0.712      -3.296       2.251\n",
       "Dominant_Topic_09    -0.1057      1.261     -0.084      0.933      -2.578       2.367\n",
       "Dominant_Topic_11    -0.0352      1.187     -0.030      0.976      -2.362       2.292\n",
       "==============================================================================\n",
       "Omnibus:                     1944.468   Durbin-Watson:                   1.627\n",
       "Prob(Omnibus):                  0.000   Jarque-Bera (JB):            24249.074\n",
       "Skew:                           3.241   Prob(JB):                         0.00\n",
       "Kurtosis:                      15.852   Cond. No.                         11.5\n",
       "==============================================================================\n",
       "\n",
       "Notes:\n",
       "[1] Standard Errors assume that the covariance matrix of the errors is correctly specified.\n",
       "\"\"\""
      ]
     },
     "execution_count": 89,
     "metadata": {},
     "output_type": "execute_result"
    }
   ],
   "source": [
    "results = sm.OLS(y, X).fit()\n",
    "results.summary()"
   ]
  },
  {
   "cell_type": "markdown",
   "id": "b0a5a27e-5159-448a-a563-af26f6c23216",
   "metadata": {},
   "source": [
    "As compared to Topic 0, only topics 3 and 4 have any effect. "
   ]
  },
  {
   "cell_type": "code",
   "execution_count": null,
   "id": "94a769ea-595b-467e-8e68-d5e9bad69840",
   "metadata": {},
   "outputs": [],
   "source": []
  }
 ],
 "metadata": {
  "kernelspec": {
   "display_name": "Python 3",
   "language": "python",
   "name": "python3"
  },
  "language_info": {
   "codemirror_mode": {
    "name": "ipython",
    "version": 3
   },
   "file_extension": ".py",
   "mimetype": "text/x-python",
   "name": "python",
   "nbconvert_exporter": "python",
   "pygments_lexer": "ipython3",
   "version": "3.9.4"
  }
 },
 "nbformat": 4,
 "nbformat_minor": 5
}
