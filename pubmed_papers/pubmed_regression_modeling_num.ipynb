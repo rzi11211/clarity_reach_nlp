{
 "cells": [
  {
   "cell_type": "markdown",
   "id": "526b72a3-f892-46a3-a368-8bc4feccbc81",
   "metadata": {},
   "source": [
    "# PubMed Abstracts Modeling: Regression Model\n",
    "### *Citations as Target*"
   ]
  },
  {
   "cell_type": "code",
   "execution_count": 68,
   "id": "a35499cd-8ce6-41f4-9f25-1a75bfcea826",
   "metadata": {},
   "outputs": [],
   "source": [
    "import pandas as pd\n",
    "import numpy as np\n",
    "import matplotlib.pyplot as plt\n",
    "import seaborn as sns\n",
    "\n",
    "#nlp\n",
    "import nltk\n",
    "from sklearn.feature_extraction import text\n",
    "from sklearn.feature_extraction.text import CountVectorizer, TfidfVectorizer\n",
    "import re\n",
    "\n",
    "#modeling\n",
    "from sklearn.preprocessing import StandardScaler\n",
    "from sklearn.model_selection import train_test_split, GridSearchCV, cross_val_score\n",
    "from sklearn.pipeline import Pipeline\n",
    "from sklearn.metrics import mean_squared_error\n",
    "from sklearn.neural_network import MLPRegressor\n",
    "from sklearn.linear_model import LinearRegression\n",
    "from sklearn.tree import DecisionTreeRegressor\n",
    "from sklearn.ensemble import BaggingRegressor, RandomForestRegressor, AdaBoostRegressor\n",
    "from sklearn.svm import SVR\n",
    "\n",
    "import statsmodels.api as sm\n",
    "\n",
    "import warnings\n",
    "warnings.filterwarnings('ignore')"
   ]
  },
  {
   "cell_type": "code",
   "execution_count": 69,
   "id": "9d27416d-2f7d-4d55-a806-3e3db69ca72f",
   "metadata": {},
   "outputs": [],
   "source": [
    "filename = '../data/pubmed_cleaned_no_outliers.csv'"
   ]
  },
  {
   "cell_type": "code",
   "execution_count": 70,
   "id": "54f0a901-f2a2-45e8-b9d7-85283837767f",
   "metadata": {},
   "outputs": [],
   "source": [
    "df = pd.read_csv(filename).drop(columns = 'Unnamed: 0')"
   ]
  },
  {
   "cell_type": "code",
   "execution_count": 71,
   "id": "f9e6bee5-c231-4225-a460-2fe899a4f3ed",
   "metadata": {},
   "outputs": [],
   "source": [
    "df.set_index(['pmid'],inplace=True)"
   ]
  },
  {
   "cell_type": "code",
   "execution_count": 72,
   "id": "9ea8d986-38e2-420f-a4b6-829f3f2983d1",
   "metadata": {},
   "outputs": [
    {
     "data": {
      "text/plain": [
       "Index(['title', 'text', 'date', 'citations', 'len_text', 'len_title',\n",
       "       'days_live'],\n",
       "      dtype='object')"
      ]
     },
     "execution_count": 72,
     "metadata": {},
     "output_type": "execute_result"
    }
   ],
   "source": [
    "df.columns"
   ]
  },
  {
   "cell_type": "markdown",
   "id": "ae677a0c-cf1c-4cbf-a6a2-abbf07a7b704",
   "metadata": {},
   "source": [
    "### Simple MLR Model with Numerical Variables: Citations as Target"
   ]
  },
  {
   "cell_type": "code",
   "execution_count": 73,
   "id": "5fcdcc4b-d4a2-4b39-84c3-bca463108ebc",
   "metadata": {},
   "outputs": [],
   "source": [
    "X = df[['len_text','len_title','days_live']]\n",
    "y = df['citations']"
   ]
  },
  {
   "cell_type": "code",
   "execution_count": 74,
   "id": "dc6a8bee-e756-47cd-8386-288cf80f8b05",
   "metadata": {},
   "outputs": [],
   "source": [
    "#train-test split\n",
    "X_train, X_test, y_train, y_test=train_test_split(X,\n",
    "                                                 y,\n",
    "                                                 test_size=.2,\n",
    "                                                 random_state=42)"
   ]
  },
  {
   "cell_type": "code",
   "execution_count": 75,
   "id": "a75998ef-e56d-43bb-89a1-fc2a35bd1e2f",
   "metadata": {},
   "outputs": [],
   "source": [
    "results = sm.OLS(y_train, X_train).fit()"
   ]
  },
  {
   "cell_type": "code",
   "execution_count": 76,
   "id": "68dfaceb-2f08-497a-8d90-9ea97556c400",
   "metadata": {},
   "outputs": [
    {
     "data": {
      "text/html": [
       "<table class=\"simpletable\">\n",
       "<caption>OLS Regression Results</caption>\n",
       "<tr>\n",
       "  <th>Dep. Variable:</th>        <td>citations</td>    <th>  R-squared (uncentered):</th>      <td>   0.396</td> \n",
       "</tr>\n",
       "<tr>\n",
       "  <th>Model:</th>                   <td>OLS</td>       <th>  Adj. R-squared (uncentered):</th> <td>   0.395</td> \n",
       "</tr>\n",
       "<tr>\n",
       "  <th>Method:</th>             <td>Least Squares</td>  <th>  F-statistic:       </th>          <td>   490.9</td> \n",
       "</tr>\n",
       "<tr>\n",
       "  <th>Date:</th>             <td>Mon, 10 May 2021</td> <th>  Prob (F-statistic):</th>          <td>3.33e-245</td>\n",
       "</tr>\n",
       "<tr>\n",
       "  <th>Time:</th>                 <td>10:22:52</td>     <th>  Log-Likelihood:    </th>          <td> -8929.0</td> \n",
       "</tr>\n",
       "<tr>\n",
       "  <th>No. Observations:</th>      <td>  2247</td>      <th>  AIC:               </th>          <td>1.786e+04</td>\n",
       "</tr>\n",
       "<tr>\n",
       "  <th>Df Residuals:</th>          <td>  2244</td>      <th>  BIC:               </th>          <td>1.788e+04</td>\n",
       "</tr>\n",
       "<tr>\n",
       "  <th>Df Model:</th>              <td>     3</td>      <th>                     </th>              <td> </td>    \n",
       "</tr>\n",
       "<tr>\n",
       "  <th>Covariance Type:</th>      <td>nonrobust</td>    <th>                     </th>              <td> </td>    \n",
       "</tr>\n",
       "</table>\n",
       "<table class=\"simpletable\">\n",
       "<tr>\n",
       "      <td></td>         <th>coef</th>     <th>std err</th>      <th>t</th>      <th>P>|t|</th>  <th>[0.025</th>    <th>0.975]</th>  \n",
       "</tr>\n",
       "<tr>\n",
       "  <th>len_text</th>  <td>    0.0014</td> <td>    0.001</td> <td>    2.749</td> <td> 0.006</td> <td>    0.000</td> <td>    0.002</td>\n",
       "</tr>\n",
       "<tr>\n",
       "  <th>len_title</th> <td>   -0.0118</td> <td>    0.008</td> <td>   -1.482</td> <td> 0.138</td> <td>   -0.027</td> <td>    0.004</td>\n",
       "</tr>\n",
       "<tr>\n",
       "  <th>days_live</th> <td>    0.0091</td> <td>    0.000</td> <td>   23.712</td> <td> 0.000</td> <td>    0.008</td> <td>    0.010</td>\n",
       "</tr>\n",
       "</table>\n",
       "<table class=\"simpletable\">\n",
       "<tr>\n",
       "  <th>Omnibus:</th>       <td>1561.457</td> <th>  Durbin-Watson:     </th> <td>   2.002</td> \n",
       "</tr>\n",
       "<tr>\n",
       "  <th>Prob(Omnibus):</th>  <td> 0.000</td>  <th>  Jarque-Bera (JB):  </th> <td>22884.639</td>\n",
       "</tr>\n",
       "<tr>\n",
       "  <th>Skew:</th>           <td> 3.164</td>  <th>  Prob(JB):          </th> <td>    0.00</td> \n",
       "</tr>\n",
       "<tr>\n",
       "  <th>Kurtosis:</th>       <td>17.296</td>  <th>  Cond. No.          </th> <td>    48.7</td> \n",
       "</tr>\n",
       "</table><br/><br/>Notes:<br/>[1] R² is computed without centering (uncentered) since the model does not contain a constant.<br/>[2] Standard Errors assume that the covariance matrix of the errors is correctly specified."
      ],
      "text/plain": [
       "<class 'statsmodels.iolib.summary.Summary'>\n",
       "\"\"\"\n",
       "                                 OLS Regression Results                                \n",
       "=======================================================================================\n",
       "Dep. Variable:              citations   R-squared (uncentered):                   0.396\n",
       "Model:                            OLS   Adj. R-squared (uncentered):              0.395\n",
       "Method:                 Least Squares   F-statistic:                              490.9\n",
       "Date:                Mon, 10 May 2021   Prob (F-statistic):                   3.33e-245\n",
       "Time:                        10:22:52   Log-Likelihood:                         -8929.0\n",
       "No. Observations:                2247   AIC:                                  1.786e+04\n",
       "Df Residuals:                    2244   BIC:                                  1.788e+04\n",
       "Df Model:                           3                                                  \n",
       "Covariance Type:            nonrobust                                                  \n",
       "==============================================================================\n",
       "                 coef    std err          t      P>|t|      [0.025      0.975]\n",
       "------------------------------------------------------------------------------\n",
       "len_text       0.0014      0.001      2.749      0.006       0.000       0.002\n",
       "len_title     -0.0118      0.008     -1.482      0.138      -0.027       0.004\n",
       "days_live      0.0091      0.000     23.712      0.000       0.008       0.010\n",
       "==============================================================================\n",
       "Omnibus:                     1561.457   Durbin-Watson:                   2.002\n",
       "Prob(Omnibus):                  0.000   Jarque-Bera (JB):            22884.639\n",
       "Skew:                           3.164   Prob(JB):                         0.00\n",
       "Kurtosis:                      17.296   Cond. No.                         48.7\n",
       "==============================================================================\n",
       "\n",
       "Notes:\n",
       "[1] R² is computed without centering (uncentered) since the model does not contain a constant.\n",
       "[2] Standard Errors assume that the covariance matrix of the errors is correctly specified.\n",
       "\"\"\""
      ]
     },
     "execution_count": 76,
     "metadata": {},
     "output_type": "execute_result"
    }
   ],
   "source": [
    "results.summary()"
   ]
  },
  {
   "cell_type": "markdown",
   "id": "c92d6015-5909-4667-b6bf-0d2a039d61b1",
   "metadata": {},
   "source": [
    "Both the length of the abstract and the number of days that an article has been live have a stastistically significant effect on the number of citations, but in both cases, the effect is extremely small. The small set of numerical features accounts for a very small percentage of the variance in citations. I wll move on to NLP."
   ]
  },
  {
   "cell_type": "markdown",
   "id": "9685306c-eb73-4bdb-bb72-590bc4216d0b",
   "metadata": {},
   "source": [
    "### NLP"
   ]
  },
  {
   "cell_type": "code",
   "execution_count": 84,
   "id": "d346adc5-af1d-4149-b9da-0d873446f689",
   "metadata": {},
   "outputs": [],
   "source": [
    "#read in pre-processed data\n",
    "df = pd.read_csv('../data/pubmed_nltk_stemmed_preproc.csv').set_index('pmid')"
   ]
  },
  {
   "cell_type": "markdown",
   "id": "3508560e-dc8c-4406-ae83-c4c38a9efefa",
   "metadata": {},
   "source": [
    "#### Look at Word Frequency in the Corpus"
   ]
  },
  {
   "cell_type": "code",
   "execution_count": 51,
   "id": "2d3afc94-052b-4c12-be61-aed7223b941b",
   "metadata": {},
   "outputs": [],
   "source": [
    "X = df['fulltext']\n",
    "y = df['citations']"
   ]
  },
  {
   "cell_type": "code",
   "execution_count": 52,
   "id": "e344be14-6d17-4170-963c-adbf13d7cd58",
   "metadata": {},
   "outputs": [],
   "source": [
    "cvec = CountVectorizer(ngram_range=(1,2), max_features=10_000)\n"
   ]
  },
  {
   "cell_type": "code",
   "execution_count": 53,
   "id": "d292311f-0799-4961-8f9d-144852582d70",
   "metadata": {},
   "outputs": [],
   "source": [
    "# convert training data to dataframe\n",
    "X_cvec = pd.DataFrame(cvec.fit_transform(X).todense(),\n",
    "                         columns=cvec.get_feature_names())"
   ]
  },
  {
   "cell_type": "code",
   "execution_count": 54,
   "id": "bdd4d04b-f5e7-4922-b173-0c35494453b0",
   "metadata": {},
   "outputs": [
    {
     "data": {
      "image/png": "[encoded data removed]",
      "text/plain": [
       "<Figure size 720x720 with 1 Axes>"
      ]
     },
     "metadata": {
      "needs_background": "light"
     },
     "output_type": "display_data"
    }
   ],
   "source": [
    "# plot top occurring words/phrases\n",
    "plt.figure(figsize = (10,10))\n",
    "X_cvec.sum().sort_values(ascending = False).head(20).plot(kind='barh');\n",
    "figurefont = {'fontname' : 'Futura'}\n",
    "plt.xticks(**figurefont, fontsize = 14);\n",
    "plt.yticks(**figurefont, fontsize = 14);\n",
    "#plt.savefig('figures/top_occurring_stemmed.jpg',  bbox_inches = \"tight\")"
   ]
  },
  {
   "cell_type": "code",
   "execution_count": 55,
   "id": "a8afddc2-f40c-48e4-9769-86da7e50e812",
   "metadata": {},
   "outputs": [],
   "source": [
    "tvec = TfidfVectorizer(ngram_range=(1,2), max_features=10_000)\n"
   ]
  },
  {
   "cell_type": "code",
   "execution_count": 56,
   "id": "476a940f-5888-4bd2-a650-8e9a83a55719",
   "metadata": {},
   "outputs": [],
   "source": [
    "# convert training data to dataframe\n",
    "X_tvec = pd.DataFrame(tvec.fit_transform(X).todense(),\n",
    "                         columns=tvec.get_feature_names())"
   ]
  },
  {
   "cell_type": "code",
   "execution_count": 57,
   "id": "d4fc8cee-555e-4399-9ca7-5a45e4a47943",
   "metadata": {},
   "outputs": [
    {
     "data": {
      "image/png": "[encoded data removed]",
      "text/plain": [
       "<Figure size 720x720 with 1 Axes>"
      ]
     },
     "metadata": {
      "needs_background": "light"
     },
     "output_type": "display_data"
    }
   ],
   "source": [
    "# plot top occurring words/phrases\n",
    "plt.figure(figsize = (10,10))\n",
    "X_tvec.sum().sort_values(ascending = False).head(20).plot(kind='barh');\n",
    "figurefont = {'fontname' : 'Futura'}\n",
    "plt.xticks(**figurefont, fontsize = 14);\n",
    "plt.yticks(**figurefont, fontsize = 14);\n",
    "#plt.savefig('figures/top_occurring_stemmed.jpg',  bbox_inches = \"tight\")"
   ]
  },
  {
   "cell_type": "code",
   "execution_count": 58,
   "id": "eddc4b9a-9ed1-40de-859a-c182358402fa",
   "metadata": {},
   "outputs": [],
   "source": [
    "#train-test split\n",
    "X_train, X_test, y_train, y_test=train_test_split(X,\n",
    "                                                 y,\n",
    "                                                 test_size=.2,\n",
    "                                                 random_state=42)"
   ]
  },
  {
   "cell_type": "markdown",
   "id": "149b8073-5b7b-4d4e-8324-fdb54fd23003",
   "metadata": {},
   "source": [
    "#### Count Vectorizer"
   ]
  },
  {
   "cell_type": "code",
   "execution_count": 59,
   "id": "ccbfdaaa-aaec-4338-8ce3-3fa0c818eaaf",
   "metadata": {},
   "outputs": [],
   "source": [
    "cvec = CountVectorizer(min_df=5, max_df=.98, ngram_range=(1,2))"
   ]
  },
  {
   "cell_type": "code",
   "execution_count": 60,
   "id": "a1ea39f5-74d8-4b4c-8e7e-46f1334c5de6",
   "metadata": {},
   "outputs": [],
   "source": [
    "X_train_cvec = cvec.fit_transform(X_train)\n",
    "X_test_cvec = cvec.transform(X_test)"
   ]
  },
  {
   "cell_type": "code",
   "execution_count": 61,
   "id": "5875370b-4751-41ce-baf1-0be770e660e9",
   "metadata": {},
   "outputs": [],
   "source": [
    "model_list = [\n",
    "    LinearRegression(),\n",
    "    DecisionTreeRegressor(),\n",
    "    BaggingRegressor(),\n",
    "    RandomForestRegressor(),\n",
    "    AdaBoostRegressor(),\n",
    "]\n",
    "\n",
    "results_list = []\n",
    "\n",
    "for model_obj in model_list:\n",
    "    #instantiate each model \n",
    "    model = model_obj\n",
    "   \n",
    "    #fit the model\n",
    "    model.fit(X_train_cvec, y_train) \n",
    "  \n",
    "    #create a dictionary with scores and evaluation metrics for each model\n",
    "    results_dict = {}    \n",
    "    results_dict['model_name'] = str(model_obj)\n",
    "    results_dict['train_score'] = model.score(X_train_cvec, y_train)\n",
    "    results_dict['test_score'] = model.score(X_test_cvec, y_test)\n",
    "    results_dict['cv_score'] = cross_val_score(model, X_train_cvec, y_train, cv = 5).mean()\n",
    "    results_dict['train_RMSE'] = np.sqrt(mean_squared_error(y_train, model.predict(X_train_cvec)))\n",
    "    results_dict['test_RMSE'] = np.sqrt(mean_squared_error(y_test, model.predict(X_test_cvec))) \n",
    "    \n",
    "    #add the dictionary to the list\n",
    "    results_list.append(results_dict)"
   ]
  },
  {
   "cell_type": "code",
   "execution_count": 62,
   "id": "33025ec4-1e2b-4907-bb28-043dbea1bb23",
   "metadata": {},
   "outputs": [
    {
     "data": {
      "text/html": [
       "<div>\n",
       "<style scoped>\n",
       "    .dataframe tbody tr th:only-of-type {\n",
       "        vertical-align: middle;\n",
       "    }\n",
       "\n",
       "    .dataframe tbody tr th {\n",
       "        vertical-align: top;\n",
       "    }\n",
       "\n",
       "    .dataframe thead th {\n",
       "        text-align: right;\n",
       "    }\n",
       "</style>\n",
       "<table border=\"1\" class=\"dataframe\">\n",
       "  <thead>\n",
       "    <tr style=\"text-align: right;\">\n",
       "      <th></th>\n",
       "      <th>model_name</th>\n",
       "      <th>train_score</th>\n",
       "      <th>test_score</th>\n",
       "      <th>cv_score</th>\n",
       "      <th>train_RMSE</th>\n",
       "      <th>test_RMSE</th>\n",
       "    </tr>\n",
       "  </thead>\n",
       "  <tbody>\n",
       "    <tr>\n",
       "      <th>0</th>\n",
       "      <td>LinearRegression()</td>\n",
       "      <td>1.000000</td>\n",
       "      <td>-0.788389</td>\n",
       "      <td>-0.591634</td>\n",
       "      <td>0.000022</td>\n",
       "      <td>19.044473</td>\n",
       "    </tr>\n",
       "    <tr>\n",
       "      <th>1</th>\n",
       "      <td>DecisionTreeRegressor()</td>\n",
       "      <td>1.000000</td>\n",
       "      <td>-0.618626</td>\n",
       "      <td>-0.943003</td>\n",
       "      <td>0.000000</td>\n",
       "      <td>18.118039</td>\n",
       "    </tr>\n",
       "    <tr>\n",
       "      <th>2</th>\n",
       "      <td>BaggingRegressor()</td>\n",
       "      <td>0.815854</td>\n",
       "      <td>-0.182414</td>\n",
       "      <td>-0.192903</td>\n",
       "      <td>6.074498</td>\n",
       "      <td>15.485409</td>\n",
       "    </tr>\n",
       "    <tr>\n",
       "      <th>3</th>\n",
       "      <td>RandomForestRegressor()</td>\n",
       "      <td>0.856277</td>\n",
       "      <td>-0.088209</td>\n",
       "      <td>-0.097244</td>\n",
       "      <td>5.366516</td>\n",
       "      <td>14.855733</td>\n",
       "    </tr>\n",
       "    <tr>\n",
       "      <th>4</th>\n",
       "      <td>AdaBoostRegressor()</td>\n",
       "      <td>-1.202073</td>\n",
       "      <td>-1.187388</td>\n",
       "      <td>-2.226864</td>\n",
       "      <td>21.006103</td>\n",
       "      <td>21.062063</td>\n",
       "    </tr>\n",
       "  </tbody>\n",
       "</table>\n",
       "</div>"
      ],
      "text/plain": [
       "                model_name  train_score  test_score  cv_score  train_RMSE  \\\n",
       "0       LinearRegression()     1.000000   -0.788389 -0.591634    0.000022   \n",
       "1  DecisionTreeRegressor()     1.000000   -0.618626 -0.943003    0.000000   \n",
       "2       BaggingRegressor()     0.815854   -0.182414 -0.192903    6.074498   \n",
       "3  RandomForestRegressor()     0.856277   -0.088209 -0.097244    5.366516   \n",
       "4      AdaBoostRegressor()    -1.202073   -1.187388 -2.226864   21.006103   \n",
       "\n",
       "   test_RMSE  \n",
       "0  19.044473  \n",
       "1  18.118039  \n",
       "2  15.485409  \n",
       "3  14.855733  \n",
       "4  21.062063  "
      ]
     },
     "execution_count": 62,
     "metadata": {},
     "output_type": "execute_result"
    }
   ],
   "source": [
    "results = pd.DataFrame(results_list)\n",
    "results"
   ]
  },
  {
   "cell_type": "markdown",
   "id": "c343e1d6-f32e-4c31-b651-d21f8570534a",
   "metadata": {},
   "source": [
    "#### TfidfVectorizer"
   ]
  },
  {
   "cell_type": "code",
   "execution_count": 63,
   "id": "43a604d7-33f1-464f-829c-f50d4dd76423",
   "metadata": {},
   "outputs": [],
   "source": [
    "tvec = TfidfVectorizer(min_df=5, max_df=.98, ngram_range=(1,2))"
   ]
  },
  {
   "cell_type": "code",
   "execution_count": 64,
   "id": "0607c80e-846f-4cc4-8e12-6b3234f31295",
   "metadata": {},
   "outputs": [],
   "source": [
    "X_train_tvec = tvec.fit_transform(X_train)\n",
    "X_test_tvec = tvec.transform(X_test)"
   ]
  },
  {
   "cell_type": "code",
   "execution_count": 65,
   "id": "9f070026-c6e4-4807-8bf5-b71bdbde7bb7",
   "metadata": {},
   "outputs": [],
   "source": [
    "model_list = [\n",
    "    LinearRegression(),\n",
    "    DecisionTreeRegressor(),\n",
    "    BaggingRegressor(),\n",
    "    RandomForestRegressor(),\n",
    "    AdaBoostRegressor(),\n",
    "    SVR()\n",
    "]\n",
    "\n",
    "results_list = []\n",
    "\n",
    "for model_obj in model_list:\n",
    "    #instantiate each model \n",
    "    model = model_obj\n",
    "   \n",
    "    #fit the model\n",
    "    model.fit(X_train_tvec, y_train) \n",
    "  \n",
    "    #create a dictionary with scores and evaluation metrics for each model\n",
    "    results_dict = {}    \n",
    "    results_dict['model_name'] = str(model_obj)\n",
    "    results_dict['train_score'] = model.score(X_train_tvec, y_train)\n",
    "    results_dict['test_score'] = model.score(X_test_tvec, y_test)\n",
    "    results_dict['cv_score'] = cross_val_score(model, X_train_tvec, y_train, cv = 5).mean()\n",
    "    results_dict['train_RMSE'] = np.sqrt(mean_squared_error(y_train, model.predict(X_train_tvec)))\n",
    "    results_dict['test_RMSE'] = np.sqrt(mean_squared_error(y_test, model.predict(X_test_tvec))) \n",
    "    \n",
    "    #add the dictionary to the list\n",
    "    results_list.append(results_dict)"
   ]
  },
  {
   "cell_type": "code",
   "execution_count": 66,
   "id": "e8328f02-2173-471d-adb0-4d72ef78c748",
   "metadata": {
    "tags": []
   },
   "outputs": [
    {
     "data": {
      "text/html": [
       "<div>\n",
       "<style scoped>\n",
       "    .dataframe tbody tr th:only-of-type {\n",
       "        vertical-align: middle;\n",
       "    }\n",
       "\n",
       "    .dataframe tbody tr th {\n",
       "        vertical-align: top;\n",
       "    }\n",
       "\n",
       "    .dataframe thead th {\n",
       "        text-align: right;\n",
       "    }\n",
       "</style>\n",
       "<table border=\"1\" class=\"dataframe\">\n",
       "  <thead>\n",
       "    <tr style=\"text-align: right;\">\n",
       "      <th></th>\n",
       "      <th>model_name</th>\n",
       "      <th>train_score</th>\n",
       "      <th>test_score</th>\n",
       "      <th>cv_score</th>\n",
       "      <th>train_RMSE</th>\n",
       "      <th>test_RMSE</th>\n",
       "    </tr>\n",
       "  </thead>\n",
       "  <tbody>\n",
       "    <tr>\n",
       "      <th>0</th>\n",
       "      <td>LinearRegression()</td>\n",
       "      <td>1.000000</td>\n",
       "      <td>-0.440166</td>\n",
       "      <td>-0.279784</td>\n",
       "      <td>0.000005</td>\n",
       "      <td>17.090089</td>\n",
       "    </tr>\n",
       "    <tr>\n",
       "      <th>1</th>\n",
       "      <td>DecisionTreeRegressor()</td>\n",
       "      <td>1.000000</td>\n",
       "      <td>-0.913495</td>\n",
       "      <td>-1.086075</td>\n",
       "      <td>0.000000</td>\n",
       "      <td>19.699342</td>\n",
       "    </tr>\n",
       "    <tr>\n",
       "      <th>2</th>\n",
       "      <td>BaggingRegressor()</td>\n",
       "      <td>0.804294</td>\n",
       "      <td>-0.141640</td>\n",
       "      <td>-0.140683</td>\n",
       "      <td>6.262273</td>\n",
       "      <td>15.216075</td>\n",
       "    </tr>\n",
       "    <tr>\n",
       "      <th>3</th>\n",
       "      <td>RandomForestRegressor()</td>\n",
       "      <td>0.851397</td>\n",
       "      <td>-0.076951</td>\n",
       "      <td>-0.023216</td>\n",
       "      <td>5.456872</td>\n",
       "      <td>14.778693</td>\n",
       "    </tr>\n",
       "    <tr>\n",
       "      <th>4</th>\n",
       "      <td>AdaBoostRegressor()</td>\n",
       "      <td>-2.212335</td>\n",
       "      <td>-2.183204</td>\n",
       "      <td>-1.933502</td>\n",
       "      <td>25.371144</td>\n",
       "      <td>25.407987</td>\n",
       "    </tr>\n",
       "    <tr>\n",
       "      <th>5</th>\n",
       "      <td>SVR()</td>\n",
       "      <td>-0.057124</td>\n",
       "      <td>-0.141823</td>\n",
       "      <td>-0.118579</td>\n",
       "      <td>14.554342</td>\n",
       "      <td>15.217292</td>\n",
       "    </tr>\n",
       "  </tbody>\n",
       "</table>\n",
       "</div>"
      ],
      "text/plain": [
       "                model_name  train_score  test_score  cv_score  train_RMSE  \\\n",
       "0       LinearRegression()     1.000000   -0.440166 -0.279784    0.000005   \n",
       "1  DecisionTreeRegressor()     1.000000   -0.913495 -1.086075    0.000000   \n",
       "2       BaggingRegressor()     0.804294   -0.141640 -0.140683    6.262273   \n",
       "3  RandomForestRegressor()     0.851397   -0.076951 -0.023216    5.456872   \n",
       "4      AdaBoostRegressor()    -2.212335   -2.183204 -1.933502   25.371144   \n",
       "5                    SVR()    -0.057124   -0.141823 -0.118579   14.554342   \n",
       "\n",
       "   test_RMSE  \n",
       "0  17.090089  \n",
       "1  19.699342  \n",
       "2  15.216075  \n",
       "3  14.778693  \n",
       "4  25.407987  \n",
       "5  15.217292  "
      ]
     },
     "execution_count": 66,
     "metadata": {},
     "output_type": "execute_result"
    }
   ],
   "source": [
    "results = pd.DataFrame(results_list)\n",
    "results"
   ]
  }
 ],
 "metadata": {
  "kernelspec": {
   "display_name": "Python 3",
   "language": "python",
   "name": "python3"
  },
  "language_info": {
   "codemirror_mode": {
    "name": "ipython",
    "version": 3
   },
   "file_extension": ".py",
   "mimetype": "text/x-python",
   "name": "python",
   "nbconvert_exporter": "python",
   "pygments_lexer": "ipython3",
   "version": "3.9.4"
  }
 },
 "nbformat": 4,
 "nbformat_minor": 5
}
