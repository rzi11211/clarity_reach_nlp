{
 "cells": [
  {
   "cell_type": "markdown",
   "id": "895a987b-c9d8-42aa-89ca-b06dfe04df6f",
   "metadata": {},
   "source": [
    "# Topic Modeling PubMed Abstracts with Latent Dirichlet Analysis\n",
    "\n",
    "Based on the tutorial at https://www.machinelearningplus.com/nlp/topic-modeling-gensim-python/"
   ]
  },
  {
   "cell_type": "code",
   "execution_count": 1,
   "id": "18fbe3c9-5d2a-4f00-b00d-9f3bcfd2102d",
   "metadata": {},
   "outputs": [],
   "source": [
    "# !pip install gensim==3.8.3"
   ]
  },
  {
   "cell_type": "code",
   "execution_count": 30,
   "id": "636a2023-6509-4b02-a31b-98c74ded4902",
   "metadata": {},
   "outputs": [],
   "source": [
    "import re\n",
    "import numpy as np\n",
    "import pandas as pd\n",
    "from pprint import pprint\n",
    "\n",
    "# Gensim\n",
    "import gensim\n",
    "import gensim.corpora as corpora\n",
    "from gensim.utils import simple_preprocess\n",
    "from gensim.models import CoherenceModel\n",
    "from gensim.test.utils import common_texts, get_tmpfile\n",
    "from gensim.models import Word2Vec\n",
    "from gensim.models.wrappers import LdaMallet\n",
    "\n",
    "# NTLK stopwords\n",
    "from nltk.corpus import stopwords\n",
    "\n",
    "# spacy for lemmatization\n",
    "import spacy\n",
    "\n",
    "# Plotting tools\n",
    "import pyLDAvis\n",
    "import pyLDAvis.gensim_models as gensimvis\n",
    "pyLDAvis.enable_notebook()\n",
    "import matplotlib.pyplot as plt\n",
    "%matplotlib inline\n",
    "\n",
    "# Enable logging for gensim - optional\n",
    "import logging\n",
    "logging.basicConfig(format='%(asctime)s : %(levelname)s : %(message)s', level=logging.ERROR)\n",
    "\n",
    "#saving models\n",
    "import pickle \n",
    "import joblib\n",
    "\n",
    "import warnings\n",
    "warnings.filterwarnings(\"ignore\")"
   ]
  },
  {
   "cell_type": "code",
   "execution_count": 3,
   "id": "b5d7abef-4e2c-439c-8c54-efb7ac0d2e55",
   "metadata": {},
   "outputs": [],
   "source": [
    "#update stopwords with frequent irrelevant words identified during EDA\n",
    "stop_words = stopwords.words('english')\n",
    "stop_words.extend(['use', 'used', 'using', 'one', 'like', 'user', 'make', 'also', 'get', 'point', 'let', 'go'])"
   ]
  },
  {
   "cell_type": "code",
   "execution_count": 4,
   "id": "3aa5bbb7-7883-4545-8623-e27665a7c7a9",
   "metadata": {},
   "outputs": [],
   "source": [
    "filename = '../data/pubmed_cleaned_no_outliers.csv'"
   ]
  },
  {
   "cell_type": "code",
   "execution_count": 7,
   "id": "e9ff3a4d-c7ee-4935-857d-e67c2b52d33e",
   "metadata": {},
   "outputs": [],
   "source": [
    "#read in the data\n",
    "df = pd.read_csv(filename).set_index('pmid')"
   ]
  },
  {
   "cell_type": "code",
   "execution_count": 9,
   "id": "01df1bc5-8a46-4d63-ab39-c83d238f32e1",
   "metadata": {},
   "outputs": [
    {
     "data": {
      "text/plain": [
       "Index(['Unnamed: 0', 'title', 'text', 'date', 'citations', 'len_text',\n",
       "       'len_title', 'days_live'],\n",
       "      dtype='object')"
      ]
     },
     "execution_count": 9,
     "metadata": {},
     "output_type": "execute_result"
    }
   ],
   "source": [
    "df.columns"
   ]
  },
  {
   "cell_type": "code",
   "execution_count": 11,
   "id": "5dbe0154-3617-47fe-aaae-ad32a3910375",
   "metadata": {},
   "outputs": [],
   "source": [
    "#remove non-text, non-Y columns\n",
    "df.drop(columns = ['Unnamed: 0', 'date', 'len_text', 'len_title', 'days_live'], inplace=True)"
   ]
  },
  {
   "cell_type": "markdown",
   "id": "48f63fb1-9bd9-442d-9afa-9d32bef09f19",
   "metadata": {},
   "source": [
    "#### Combine Title & Abstract"
   ]
  },
  {
   "cell_type": "code",
   "execution_count": 12,
   "id": "2e2fab36-0212-4ce1-9c83-fa728d6a7dcf",
   "metadata": {},
   "outputs": [],
   "source": [
    "df['text'] = (df['title'] + ' ' + df['text'])"
   ]
  },
  {
   "cell_type": "code",
   "execution_count": 13,
   "id": "e49eef43-55aa-44ac-916a-744192b9a8aa",
   "metadata": {},
   "outputs": [],
   "source": [
    "df = df.drop(columns = 'title')"
   ]
  },
  {
   "cell_type": "markdown",
   "id": "aad6d554-59ac-4415-b813-e0b9385a58f9",
   "metadata": {},
   "source": [
    "#### Remove Punctuation & Make Lowercase"
   ]
  },
  {
   "cell_type": "code",
   "execution_count": 15,
   "id": "a6ab19f7-f196-4979-b57d-32ef687ae6a0",
   "metadata": {},
   "outputs": [],
   "source": [
    "df['text'] = df['text'].map(lambda x: re.sub(\"[''·,\\.!?'-]\", '', x).lower())"
   ]
  },
  {
   "cell_type": "code",
   "execution_count": 16,
   "id": "604609ac-a04a-48dd-b783-2dddbb0b8832",
   "metadata": {},
   "outputs": [],
   "source": [
    "# Convert to list\n",
    "data = df['text'].values.tolist()"
   ]
  },
  {
   "cell_type": "markdown",
   "id": "0f1b88dd-74f0-41d8-a6c4-085affb9ae05",
   "metadata": {},
   "source": [
    "#### Tokenize Words and Clean Up Text"
   ]
  },
  {
   "cell_type": "code",
   "execution_count": 17,
   "id": "4d6d834e-35f1-4940-9a37-a3098fdfc221",
   "metadata": {},
   "outputs": [],
   "source": [
    "def sent_to_words(sentences):\n",
    "    for sentence in sentences:\n",
    "        yield(gensim.utils.simple_preprocess(str(sentence), deacc=True)) \n",
    "\n",
    "data_words = list(sent_to_words(data))"
   ]
  },
  {
   "cell_type": "markdown",
   "id": "093c7cc8-3887-4016-b337-2add7d1546e5",
   "metadata": {},
   "source": [
    "#### Bigram and Trigram Models"
   ]
  },
  {
   "cell_type": "code",
   "execution_count": 18,
   "id": "719fb3d2-de81-420b-9ea1-5dd8b1b8ccf1",
   "metadata": {},
   "outputs": [],
   "source": [
    "# Build the bigram and trigram models\n",
    "bigram = gensim.models.Phrases(data_words, min_count=5, threshold=100) # higher threshold fewer phrases.\n",
    "trigram = gensim.models.Phrases(bigram[data_words], threshold=100)  \n",
    "\n",
    "# Faster way to get a sentence clubbed as a trigram/bigram\n",
    "bigram_mod = gensim.models.phrases.Phraser(bigram)\n",
    "trigram_mod = gensim.models.phrases.Phraser(trigram)"
   ]
  },
  {
   "cell_type": "code",
   "execution_count": 19,
   "id": "7477a8ef-1e6f-45bf-b80d-d83b2a8e9c18",
   "metadata": {},
   "outputs": [],
   "source": [
    "# Define functions for stopwords, bigrams, trigrams and lemmatization\n",
    "def remove_stopwords(texts):\n",
    "    return [[word for word in simple_preprocess(str(doc)) if word not in stop_words] for doc in texts]\n",
    "\n",
    "def make_bigrams(texts):\n",
    "    return [bigram_mod[doc] for doc in texts]\n",
    "\n",
    "def make_trigrams(texts):\n",
    "    return [trigram_mod[bigram_mod[doc]] for doc in texts]\n",
    "\n",
    "def lemmatization(texts, allowed_postags=['NOUN', 'ADJ', 'VERB', 'ADV']):\n",
    "    \"\"\"https://spacy.io/api/annotation\"\"\"\n",
    "    texts_out = []\n",
    "    for sent in texts:\n",
    "        doc = nlp(\" \".join(sent)) \n",
    "        texts_out.append([token.lemma_ for token in doc if token.pos_ in allowed_postags])\n",
    "    return texts_out"
   ]
  },
  {
   "cell_type": "markdown",
   "id": "85aa658a-93e7-4bf2-8fe7-9a1d0d0f8736",
   "metadata": {},
   "source": [
    "#### Remove Stop Words "
   ]
  },
  {
   "cell_type": "code",
   "execution_count": 20,
   "id": "a76a847c-00b0-466e-9dc2-7c86a9d705c5",
   "metadata": {},
   "outputs": [],
   "source": [
    "data_words_nostops = remove_stopwords(data_words)"
   ]
  },
  {
   "cell_type": "markdown",
   "id": "8ead2c3f-9907-45f1-b0e4-8dd81fa8e047",
   "metadata": {},
   "source": [
    "#### Initialize Spacy 'en' Model"
   ]
  },
  {
   "cell_type": "code",
   "execution_count": 21,
   "id": "5cba7282-1ab5-4a22-b4fc-74d02b23195c",
   "metadata": {
    "tags": []
   },
   "outputs": [],
   "source": [
    "#!spacy download en_core_web_lg"
   ]
  },
  {
   "cell_type": "code",
   "execution_count": 22,
   "id": "b062cf91-c1f0-4958-bf2f-aeb8e3ce56f5",
   "metadata": {},
   "outputs": [],
   "source": [
    "nlp = spacy.load('en_core_web_lg')"
   ]
  },
  {
   "cell_type": "code",
   "execution_count": 23,
   "id": "2ff35a03-ee00-40f6-81d7-5c55e17b7fb6",
   "metadata": {
    "tags": []
   },
   "outputs": [],
   "source": [
    "# remove exception from rule-based exceptions - not a fan of \"datum\" showing up in my corpus along with data....\n",
    "nlp.get_pipe('lemmatizer').lookups.get_table(\"lemma_exc\")[\"noun\"][\"data\"] = [\"data\"]"
   ]
  },
  {
   "cell_type": "markdown",
   "id": "54408c0e-5e3e-4f51-bf51-d5d89fddb61d",
   "metadata": {},
   "source": [
    "#### Lemmatize"
   ]
  },
  {
   "cell_type": "code",
   "execution_count": 24,
   "id": "ac8d5a62-fcee-40e7-a4fb-e775d40db74f",
   "metadata": {
    "tags": []
   },
   "outputs": [],
   "source": [
    "data_lemmatized = lemmatization(data_words_nostops, allowed_postags=['NOUN', 'ADJ', 'VERB', 'ADV','PROPN'])"
   ]
  },
  {
   "cell_type": "markdown",
   "id": "7fb019aa-25bd-45e8-91ef-2b8bab98a31f",
   "metadata": {},
   "source": [
    "#### Form Bigrams & Trigrams"
   ]
  },
  {
   "cell_type": "code",
   "execution_count": 25,
   "id": "0ff21310-1d3b-40e8-849c-ec0480356c02",
   "metadata": {
    "tags": []
   },
   "outputs": [],
   "source": [
    "data_words_bigrams = make_bigrams(data_lemmatized)"
   ]
  },
  {
   "cell_type": "code",
   "execution_count": 26,
   "id": "5417599c-44f7-4bf3-a48b-788d514ecc0f",
   "metadata": {
    "tags": []
   },
   "outputs": [],
   "source": [
    "data_words_trigrams = make_trigrams(data_lemmatized)"
   ]
  },
  {
   "cell_type": "markdown",
   "id": "4c8f7701-0e4a-4814-b86c-f6daf4bcedd9",
   "metadata": {},
   "source": [
    "### Bigram Modeling"
   ]
  },
  {
   "cell_type": "markdown",
   "id": "6e46ed09-ab43-45b3-9e6a-6b097bce1b54",
   "metadata": {},
   "source": [
    "#### Create the Dictionary & Corpus Needed for Topic Modeling"
   ]
  },
  {
   "cell_type": "code",
   "execution_count": 27,
   "id": "daad7476-8314-4826-8022-f4adec6336cf",
   "metadata": {},
   "outputs": [],
   "source": [
    "# Create Dictionary\n",
    "id2word = corpora.Dictionary(data_words_bigrams)\n",
    "\n",
    "# Create Corpus\n",
    "texts = data_words_bigrams\n",
    "\n",
    "# Term Document Frequency\n",
    "corpus = [id2word.doc2bow(text) for text in texts]"
   ]
  },
  {
   "cell_type": "code",
   "execution_count": 31,
   "id": "9bb858d4-eb00-40ed-aeb2-ebdabfe97125",
   "metadata": {},
   "outputs": [
    {
     "data": {
      "text/plain": [
       "14912"
      ]
     },
     "execution_count": 31,
     "metadata": {},
     "output_type": "execute_result"
    }
   ],
   "source": [
    "#check out the dictionary\n",
    "\n",
    "len(id2word)"
   ]
  },
  {
   "cell_type": "markdown",
   "id": "94b99be1-405a-431d-97ca-a9c8facaf8f4",
   "metadata": {},
   "source": [
    "### Build LDA Mallet Model"
   ]
  },
  {
   "cell_type": "code",
   "execution_count": null,
   "id": "96b95608-b4d7-48f3-bc16-c888882fccb9",
   "metadata": {},
   "outputs": [],
   "source": [
    "#start with 10 topics & fit model to compare to previous\n",
    "mallet_path = '/Users/rachelinsler/dsi/downloads/mallet-2.0.8/bin/mallet' # update this path\n",
    "ldamallet = LdaMallet(mallet_path, corpus=corpus, num_topics=10, id2word=id2word)"
   ]
  },
  {
   "cell_type": "markdown",
   "id": "b2af34a3-ee62-48e8-bccd-f1171a5dca3c",
   "metadata": {},
   "source": [
    "#### Evaluate with Coherence Score & Visualization"
   ]
  },
  {
   "cell_type": "code",
   "execution_count": null,
   "id": "fc60b023-c089-4dc5-a4b6-77d94645cb60",
   "metadata": {},
   "outputs": [],
   "source": [
    "# Compute Coherence Score\n",
    "coherence_model_ldamallet = CoherenceModel(model=ldamallet, texts=data_words_bigrams, dictionary=id2word, coherence='c_v')\n",
    "coherence_ldamallet = coherence_model_ldamallet.get_coherence()\n",
    "#display coherence score\n",
    "print('\\nCoherence Score: ', coherence_ldamallet)"
   ]
  },
  {
   "cell_type": "markdown",
   "id": "e9ba8c72-6247-4bd3-a03a-a1715e82218d",
   "metadata": {},
   "source": [
    "INTERPRET"
   ]
  },
  {
   "cell_type": "code",
   "execution_count": null,
   "id": "b2d87278-e9d0-48b3-8529-28da6ce9a276",
   "metadata": {},
   "outputs": [],
   "source": [
    "# the pyLDAvis was throwing errors on the mallet model; so I found this code on stackoverflow: https://stackoverflow.com/questions/54684552/issue-with-topic-word-distributions-after-malletmodel2ldamodel-in-gensim\n",
    "from gensim.models.ldamodel import LdaModel\n",
    "\n",
    "def ldaMalletConvertToldaGen(mallet_model):\n",
    "    model_gensim = LdaModel(id2word=mallet_model.id2word, num_topics=mallet_model.num_topics, alpha=mallet_model.alpha, eta=0, iterations=1000, gamma_threshold=0.001, dtype=np.float32)\n",
    "    model_gensim.state.sstats[...] = mallet_model.wordtopics\n",
    "    model_gensim.sync_state()\n",
    "    return model_gensim"
   ]
  },
  {
   "cell_type": "code",
   "execution_count": null,
   "id": "d4d8a706-7bed-4de0-8ef1-b849653390e3",
   "metadata": {},
   "outputs": [],
   "source": [
    "converted_model = ldaMalletConvertToldaGen(ldamallet)\n",
    "pyLDAvis.enable_notebook()\n",
    "plot = gensimvis.prepare(converted_model, corpus, id2word, sort_topics=False)\n",
    "# Save pyLDA plot as html file\n",
    "pyLDAvis.save_html(plot, '../figures/LDAmallet_TDS10.html')\n",
    "plot"
   ]
  },
  {
   "cell_type": "markdown",
   "id": "783cf5f5-cdbb-4066-81d8-a08410a8caad",
   "metadata": {},
   "source": [
    "The spread of topics has improved for the 10 topic model. I will continue using the Mallet algorithm and search over a range of #s of topics to settle on the optimal number, using two criteria: \n",
    "\n",
    "1) Coherence Score\n",
    "2) Visual separation and spread in the plot. "
   ]
  },
  {
   "cell_type": "markdown",
   "id": "8bb10553-28d5-4cc8-97de-e99bca6c856f",
   "metadata": {},
   "source": [
    "#### Compute Optimal Number of Topics Based on Coherence"
   ]
  },
  {
   "cell_type": "code",
   "execution_count": null,
   "id": "88f26182-ab1e-4c59-84b4-9e3fbce04870",
   "metadata": {},
   "outputs": [],
   "source": [
    "# an adapted version of a function to compute coherence values over a range of total topic numbers\n",
    "# https://github.com/RaRe-Technologies/gensim/issues/2500\n",
    "\n",
    "def compute_coherence_values(dictionary, all_corpus, texts, limit, start=2, step=2):\n",
    "    coherence_values = []\n",
    "    model_list = []\n",
    "    num_topics_list = []\n",
    "\n",
    "    for num_topics in range(start, limit, step):\n",
    "        model = gensim.models.wrappers.LdaMallet(mallet_path, corpus=all_corpus, num_topics=num_topics, id2word=dictionary,\n",
    "                                         random_seed=42)\n",
    "        #model = gensim.models.ldamodel.LdaModel(corpus=all_corpus,num_topics=num_topics,id2word=dictionary,eval_every=1,\n",
    "        #                                        alpha='auto',random_state=42)\n",
    "        model_list.append(model)\n",
    "        coherencemodel = CoherenceModel(model=model, texts=texts, dictionary=dictionary, coherence='c_v')\n",
    "        coherence_values.append(coherencemodel.get_coherence())\n",
    "        num_topics_list.append(num_topics)\n",
    "\n",
    "    return model_list, coherence_values, num_topics_list"
   ]
  },
  {
   "cell_type": "code",
   "execution_count": null,
   "id": "647cc924-a840-4fa2-9879-ca8e325cb949",
   "metadata": {},
   "outputs": [],
   "source": [
    "# calculate coherence values over the specific range of numbers of topics\n",
    "\n",
    "model_list, coherence_values, num_topics_list = compute_coherence_values(dictionary=id2word,all_corpus=corpus,\n",
    "                                                                         texts=data_words_bigrams,start=4,limit=30, step=2)\n",
    "\n",
    "#store the results in a dataframe\n",
    "model_values_df = pd.DataFrame({'model_list':model_list,'coherence_values':coherence_values,'num_topics':num_topics_list})\n",
    "\n",
    "#find the number of topics that corresponds to the maximum coherence value\n",
    "optimal_num_topics = model_values_df.loc[model_values_df['coherence_values'].idxmax()]['num_topics']\n",
    "\n",
    "#save this as as the optimal model\n",
    "optimal_model = gensim.models.wrappers.LdaMallet(mallet_path, corpus=corpus, num_topics=optimal_num_topics, id2word=id2word, random_seed=42)"
   ]
  },
  {
   "cell_type": "code",
   "execution_count": null,
   "id": "72135d62-b0fa-4ef3-81a0-34b89a45017f",
   "metadata": {},
   "outputs": [],
   "source": [
    "#save optimal models\n",
    "joblib.dump(id2word,'id2word_dictionary_mallet_pubmed.pkl')\n",
    "joblib.dump(optimal_model,'optimal_ldamallet_model_pubmed.pkl')"
   ]
  },
  {
   "cell_type": "code",
   "execution_count": null,
   "id": "0c74e13a-2e26-40c7-b792-e30d7390b601",
   "metadata": {},
   "outputs": [],
   "source": [
    "# Show coherence values graph\n",
    "limit=30; start=4; step=2;\n",
    "x = range(start, limit, step)\n",
    "plt.plot(x, coherence_values)\n",
    "plt.xlabel(\"Num Topics\")\n",
    "plt.ylabel(\"Coherence score\")\n",
    "plt.xticks(ticks=range(4,24,2))\n",
    "plt.legend((\"coherence_values\"), loc='best')\n",
    "plt.show()"
   ]
  },
  {
   "cell_type": "markdown",
   "id": "2f2b0887-6509-402c-ad7d-744929e116d3",
   "metadata": {},
   "source": [
    "### Create & Visualize Models with Optimal Number of Topics\n",
    "\n",
    "This is a pretty tight coherence range; I will now explore select numbers of topics visually to see which make the most sense, starting with 10."
   ]
  },
  {
   "cell_type": "markdown",
   "id": "86daa632-895b-4c62-9085-da4f8f2ab7ef",
   "metadata": {},
   "source": []
  },
  {
   "cell_type": "markdown",
   "id": "cdacf601-ca72-4f46-9d6d-945ae3afddac",
   "metadata": {},
   "source": [
    "#### LDA Mallet Model: 16 Topics"
   ]
  },
  {
   "cell_type": "code",
   "execution_count": null,
   "id": "6711889a-98fa-4465-810a-a19ed3f589da",
   "metadata": {
    "tags": []
   },
   "outputs": [],
   "source": [
    "ldamallet = LdaMallet(mallet_path, corpus=corpus, num_topics=16, id2word=id2word,\n",
    "                     iterations=2000,\n",
    "                      topic_threshold=0.1,\n",
    "                      random_seed=42,)"
   ]
  },
  {
   "cell_type": "code",
   "execution_count": null,
   "id": "c000d755-72ec-4f56-8068-a24d10fb040e",
   "metadata": {},
   "outputs": [],
   "source": [
    "# Compute Coherence Score\n",
    "coherence_model_lda = CoherenceModel(model=ldamallet, texts=data_words_bigrams, dictionary=id2word, coherence='c_v')\n",
    "coherence_lda = coherence_model_lda.get_coherence()\n",
    "print('\\nCoherence Score: ', coherence_lda)"
   ]
  },
  {
   "cell_type": "code",
   "execution_count": null,
   "id": "d8de84dc-8cfe-4aa9-add2-24f2ea893574",
   "metadata": {},
   "outputs": [],
   "source": [
    "#convert and visualize\n",
    "converted_model = ldaMalletConvertToldaGen(ldamallet)\n",
    "pyLDAvis.enable_notebook()\n",
    "plot = gensimvis.prepare(converted_model, corpus, id2word, sort_topics=False)\n",
    "# Save pyLDA plot as html file\n",
    "pyLDAvis.save_html(plot, 'figures/LDA_mallet_16.html')\n",
    "plot"
   ]
  },
  {
   "cell_type": "markdown",
   "id": "b94212e6-1927-471f-82ac-659ce805ae1f",
   "metadata": {},
   "source": []
  },
  {
   "cell_type": "code",
   "execution_count": null,
   "id": "73ce68fc-5349-4aed-b634-c229b0ac1d3c",
   "metadata": {},
   "outputs": [],
   "source": [
    "#https://www.programmersought.com/article/63591004301/\n",
    "\n",
    "def format_topics_sentences(ldamodel=lda_model, corpus=corpus, texts=data_words_bigrams):\n",
    "    # Init output\n",
    "    sent_topics_df = pd.DataFrame()\n",
    " \n",
    "    # Get main topic in each document\n",
    "    for i, row in enumerate(ldamodel[corpus]):\n",
    "        row = sorted(row, key=lambda x: (x[1]), reverse=True)\n",
    "        # Get the Dominant topic, Perc Contribution and Keywords for each document\n",
    "        for j, (topic_num, prop_topic) in enumerate(row):\n",
    "            if j == 0:  # => dominant topic\n",
    "                wp = ldamodel.show_topic(topic_num)\n",
    "                topic_keywords = \", \".join([word for word, prop in wp])\n",
    "                sent_topics_df = sent_topics_df.append(pd.Series([int(topic_num), round(prop_topic,4), topic_keywords]), ignore_index=True)\n",
    "            else:\n",
    "                break\n",
    "    sent_topics_df.columns = ['Dominant_Topic', 'Perc_Contribution', 'Topic_Keywords']\n",
    " \n",
    "    # Add original text to the end of the output\n",
    "    contents = pd.Series(texts)\n",
    "    sent_topics_df = pd.concat([sent_topics_df, contents], axis=1)\n",
    "    return(sent_topics_df)"
   ]
  },
  {
   "cell_type": "code",
   "execution_count": null,
   "id": "2aa741e5-99c7-43f5-9254-764655448f85",
   "metadata": {},
   "outputs": [],
   "source": [
    "df_topic_sents_keywords = format_topics_sentences(ldamodel=optimal_model, corpus=corpus, texts=data_words_bigrams)# Format\n",
    "df_dominant_topic = df_topic_sents_keywords.reset_index()\n",
    "df_dominant_topic.columns = ['Document_No', 'Dominant_Topic', 'Topic_Perc_Contrib', 'Keywords', 'Text']# Show\n",
    "df_dominant_topic.head(10)"
   ]
  },
  {
   "cell_type": "markdown",
   "id": "34876fec-ada1-4f30-a97c-de46006e6574",
   "metadata": {},
   "source": [
    "### Trigram Modeling"
   ]
  },
  {
   "cell_type": "markdown",
   "id": "039f426d-ab3e-43ae-af63-7fed9965aa54",
   "metadata": {},
   "source": [
    "#### Create the Dictionary & Corpus Needed for Topic Modeling"
   ]
  },
  {
   "cell_type": "code",
   "execution_count": null,
   "id": "72c389b6-f0ff-424b-b2f0-80a468fb324f",
   "metadata": {},
   "outputs": [],
   "source": [
    "# Create Dictionary\n",
    "id2word = corpora.Dictionary(data_words_trigrams)\n",
    "\n",
    "# Create Corpus\n",
    "texts = data_words_trigrams\n",
    "\n",
    "# Term Document Frequency\n",
    "corpus = [id2word.doc2bow(text) for text in texts]"
   ]
  },
  {
   "cell_type": "markdown",
   "id": "f1242678-f4d9-42fa-a339-c7ddbeba535e",
   "metadata": {},
   "source": [
    "#### Build LDA Mallet Model With Trigrams"
   ]
  },
  {
   "cell_type": "code",
   "execution_count": null,
   "id": "fe50fabb-9d25-4810-a0b2-ef09436401bc",
   "metadata": {},
   "outputs": [],
   "source": [
    "mallet_path = '/Users/rachelinsler/dsi/downloads/mallet-2.0.8/bin/mallet' # update this path\n",
    "ldamallet = LdaMallet(mallet_path, corpus=corpus, num_topics=10, id2word=id2word)"
   ]
  },
  {
   "cell_type": "code",
   "execution_count": null,
   "id": "633c1cfd-5c52-4616-8a71-69e5afa02094",
   "metadata": {},
   "outputs": [],
   "source": [
    "# Show Topics\n",
    "pprint(ldamallet.show_topics(formatted=False))\n",
    "\n",
    "# Compute Coherence Score\n",
    "coherence_model_ldamallet = CoherenceModel(model=ldamallet, texts=data_words_trigrams, dictionary=id2word, coherence='c_v')\n",
    "coherence_ldamallet = coherence_model_ldamallet.get_coherence()\n",
    "print('\\nCoherence Score: ', coherence_ldamallet)"
   ]
  },
  {
   "cell_type": "markdown",
   "id": "ef1c7241-c13c-4b94-871f-37db76589cb4",
   "metadata": {},
   "source": [
    "#### Compute Optimal Number of Topics"
   ]
  },
  {
   "cell_type": "code",
   "execution_count": null,
   "id": "c6cc906a-7df1-41bb-9d56-5b575b950852",
   "metadata": {},
   "outputs": [],
   "source": [
    "model_list, coherence_values = compute_coherence_values(dictionary=id2word, corpus=corpus, texts=data_words_trigrams, start=4, limit=20, step=2)\n"
   ]
  },
  {
   "cell_type": "code",
   "execution_count": null,
   "id": "83fe7484-f1e6-4770-91b6-58773bdda5c9",
   "metadata": {},
   "outputs": [],
   "source": [
    "# Show graph\n",
    "limit=20; start=4; step=2;\n",
    "x = range(start, limit, step)\n",
    "plt.plot(x, coherence_values)\n",
    "plt.xlabel(\"Num Topics\")\n",
    "plt.ylabel(\"Coherence score\")\n",
    "plt.legend((\"coherence_values\"), loc='best')\n",
    "plt.show()"
   ]
  },
  {
   "cell_type": "markdown",
   "id": "98a3f88a-8fb5-4a8c-83e6-d84ba66cbd6b",
   "metadata": {},
   "source": [
    "### Create Model with Optimal Number of Topics"
   ]
  },
  {
   "cell_type": "markdown",
   "id": "b4e9366d-6f3a-4de0-95f1-e5a8a242e868",
   "metadata": {},
   "source": [
    "#### "
   ]
  },
  {
   "cell_type": "code",
   "execution_count": null,
   "id": "90924c82-663f-4a72-b287-ff96bd25535f",
   "metadata": {
    "tags": []
   },
   "outputs": [],
   "source": [
    "ldamallet = LdaMallet(mallet_path, corpus=corpus, num_topics=16, id2word=id2word,\n",
    "                     iterations=2000,\n",
    "                      topic_threshold=0.1,\n",
    "                      random_seed=42,)"
   ]
  },
  {
   "cell_type": "code",
   "execution_count": null,
   "id": "adc8e1cc-571c-4de5-aef9-9cd8b6ce70d3",
   "metadata": {},
   "outputs": [],
   "source": [
    "# Compute Coherence Score\n",
    "coherence_model_lda = CoherenceModel(model=ldamallet, texts=data_words_trigrams, dictionary=id2word, coherence='c_v')\n",
    "coherence_lda = coherence_model_lda.get_coherence()\n",
    "print('\\nCoherence Score: ', coherence_lda)"
   ]
  },
  {
   "cell_type": "code",
   "execution_count": null,
   "id": "ade314eb-4ca6-4cb8-be06-0deef0873d5a",
   "metadata": {},
   "outputs": [],
   "source": [
    "converted_model = ldaMalletConvertToldaGen(ldamallet)\n",
    "pyLDAvis.enable_notebook()\n",
    "plot = gensimvis.prepare(converted_model, corpus, id2word, sort_topics=False)\n",
    "# Save pyLDA plot as html file\n",
    "pyLDAvis.save_html(plot, 'figures/LDA_mallet_16.html')\n",
    "plot"
   ]
  },
  {
   "cell_type": "markdown",
   "id": "ed29882b-b4da-4f15-8544-aa2e6a011738",
   "metadata": {},
   "source": [
    "This doesn't look great. There was a local coherence maximum at 8 topics, which also makes a bit more sense visually - I will try that next. "
   ]
  },
  {
   "cell_type": "code",
   "execution_count": null,
   "id": "913d5fcc-8345-4619-91b7-53046c67725a",
   "metadata": {
    "tags": []
   },
   "outputs": [],
   "source": [
    "ldamallet = LdaMallet(mallet_path, corpus=corpus, num_topics=8, id2word=id2word,\n",
    "                     iterations=2000,\n",
    "                      topic_threshold=0.1,\n",
    "                      random_seed=42,)"
   ]
  },
  {
   "cell_type": "code",
   "execution_count": null,
   "id": "552902cc-8bf8-4d2c-bdea-fe1ea2541483",
   "metadata": {},
   "outputs": [],
   "source": [
    "# Compute Coherence Score\n",
    "coherence_model_lda = CoherenceModel(model=ldamallet, texts=data_words_trigrams, dictionary=id2word, coherence='c_v')\n",
    "coherence_lda = coherence_model_lda.get_coherence()\n",
    "print('\\nCoherence Score: ', coherence_lda)"
   ]
  },
  {
   "cell_type": "code",
   "execution_count": null,
   "id": "114db7c6-522b-4437-ab85-eb518e03ab8e",
   "metadata": {},
   "outputs": [],
   "source": [
    "def ldaMalletConvertToldaGen(mallet_model):\n",
    "    model_gensim = LdaModel(id2word=mallet_model.id2word, num_topics=mallet_model.num_topics, alpha=mallet_model.alpha, eta=0, iterations=1000, gamma_threshold=0.001, dtype=np.float32)\n",
    "    model_gensim.state.sstats[...] = mallet_model.wordtopics\n",
    "    model_gensim.sync_state()\n",
    "    return model_gensim\n",
    "\n",
    "converted_model = ldaMalletConvertToldaGen(ldamallet)"
   ]
  },
  {
   "cell_type": "code",
   "execution_count": null,
   "id": "66065eef-0a4b-4f4b-b441-9e9d7504e568",
   "metadata": {},
   "outputs": [],
   "source": [
    "pyLDAvis.enable_notebook()\n",
    "plot = gensimvis.prepare(converted_model, corpus, id2word, sort_topics=False)\n",
    "# Save pyLDA plot as html file\n",
    "pyLDAvis.save_html(plot, 'figures/LDA_mallet_8.html')"
   ]
  },
  {
   "cell_type": "code",
   "execution_count": null,
   "id": "b8f7b3d2-cb57-4dc1-8bb1-d77c6545f897",
   "metadata": {
    "tags": []
   },
   "outputs": [],
   "source": [
    "plot"
   ]
  },
  {
   "cell_type": "code",
   "execution_count": null,
   "id": "995f2724-74c0-496c-ac82-cdf8a9175f56",
   "metadata": {
    "tags": []
   },
   "outputs": [],
   "source": [
    "ldamallet = LdaMallet(mallet_path, corpus=corpus, num_topics=7, id2word=id2word,\n",
    "                     iterations=2000,\n",
    "                      topic_threshold=0.1,\n",
    "                      random_seed=42,)"
   ]
  },
  {
   "cell_type": "code",
   "execution_count": null,
   "id": "3d9672af-9136-4f52-8529-d176827b84d5",
   "metadata": {},
   "outputs": [],
   "source": [
    "# Compute Coherence Score\n",
    "coherence_model_lda = CoherenceModel(model=ldamallet, texts=data_words_trigrams, dictionary=id2word, coherence='c_v')\n",
    "coherence_lda = coherence_model_lda.get_coherence()\n",
    "print('\\nCoherence Score: ', coherence_lda)"
   ]
  },
  {
   "cell_type": "code",
   "execution_count": null,
   "id": "bbc97422-fd8d-44dd-a229-773496568339",
   "metadata": {},
   "outputs": [],
   "source": [
    "def ldaMalletConvertToldaGen(mallet_model):\n",
    "    model_gensim = LdaModel(id2word=mallet_model.id2word, num_topics=mallet_model.num_topics, alpha=mallet_model.alpha, eta=0, iterations=1000, gamma_threshold=0.001, dtype=np.float32)\n",
    "    model_gensim.state.sstats[...] = mallet_model.wordtopics\n",
    "    model_gensim.sync_state()\n",
    "    return model_gensim\n",
    "\n",
    "converted_model = ldaMalletConvertToldaGen(ldamallet)"
   ]
  },
  {
   "cell_type": "code",
   "execution_count": null,
   "id": "e1efd94c-e0e5-48d1-886a-ade7d5e87c60",
   "metadata": {},
   "outputs": [],
   "source": [
    "pyLDAvis.enable_notebook()\n",
    "plot = gensimvis.prepare(converted_model, corpus, id2word, sort_topics=False)\n",
    "# Save pyLDA plot as html file\n",
    "pyLDAvis.save_html(plot, 'figures/LDA_mallet_7.html')"
   ]
  },
  {
   "cell_type": "code",
   "execution_count": null,
   "id": "e8f13261-1b5c-4334-b86b-0a4ca1d8cd34",
   "metadata": {
    "tags": []
   },
   "outputs": [],
   "source": [
    "plot"
   ]
  },
  {
   "cell_type": "code",
   "execution_count": null,
   "id": "56b25aca-90c2-411d-9e77-c7607bd0e780",
   "metadata": {},
   "outputs": [],
   "source": []
  },
  {
   "cell_type": "code",
   "execution_count": null,
   "id": "0207a5d4-0cb1-4334-a71a-576fc835fd7d",
   "metadata": {
    "tags": []
   },
   "outputs": [],
   "source": [
    "ldamallet = LdaMallet(mallet_path, corpus=corpus, num_topics=6, id2word=id2word,\n",
    "                     iterations=2000,\n",
    "                      topic_threshold=0.1,\n",
    "                      random_seed=42,)"
   ]
  },
  {
   "cell_type": "code",
   "execution_count": null,
   "id": "7f38b23e-9a48-4613-ae9e-88990eeaf66f",
   "metadata": {},
   "outputs": [],
   "source": [
    "# Compute Coherence Score\n",
    "coherence_model_lda = CoherenceModel(model=ldamallet, texts=data_words_trigrams, dictionary=id2word, coherence='c_v')\n",
    "coherence_lda = coherence_model_lda.get_coherence()\n",
    "print('\\nCoherence Score: ', coherence_lda)"
   ]
  },
  {
   "cell_type": "code",
   "execution_count": null,
   "id": "630f004f-904b-4a0a-a037-2401b1d8a191",
   "metadata": {},
   "outputs": [],
   "source": [
    "def ldaMalletConvertToldaGen(mallet_model):\n",
    "    model_gensim = LdaModel(id2word=mallet_model.id2word, num_topics=mallet_model.num_topics, alpha=mallet_model.alpha, eta=0, iterations=1000, gamma_threshold=0.001, dtype=np.float32)\n",
    "    model_gensim.state.sstats[...] = mallet_model.wordtopics\n",
    "    model_gensim.sync_state()\n",
    "    return model_gensim\n",
    "\n",
    "converted_model = ldaMalletConvertToldaGen(ldamallet)"
   ]
  },
  {
   "cell_type": "code",
   "execution_count": null,
   "id": "baaa9d23-2710-40b2-bd9d-f4e8707fbff9",
   "metadata": {},
   "outputs": [],
   "source": [
    "pyLDAvis.enable_notebook()\n",
    "plot = gensimvis.prepare(converted_model, corpus, id2word, sort_topics=False)\n",
    "# Save pyLDA plot as html file\n",
    "pyLDAvis.save_html(plot, 'figures/LDA_mallet_6.html')"
   ]
  },
  {
   "cell_type": "code",
   "execution_count": null,
   "id": "408de0d4-b0b5-41b2-8a6b-bac422bab725",
   "metadata": {},
   "outputs": [],
   "source": []
  }
 ],
 "metadata": {
  "kernelspec": {
   "display_name": "Python 3",
   "language": "python",
   "name": "python3"
  },
  "language_info": {
   "codemirror_mode": {
    "name": "ipython",
    "version": 3
   },
   "file_extension": ".py",
   "mimetype": "text/x-python",
   "name": "python",
   "nbconvert_exporter": "python",
   "pygments_lexer": "ipython3",
   "version": "3.9.4"
  }
 },
 "nbformat": 4,
 "nbformat_minor": 5
}
