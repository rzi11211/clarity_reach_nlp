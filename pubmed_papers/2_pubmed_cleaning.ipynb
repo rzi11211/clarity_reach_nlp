{
 "cells": [
  {
   "cell_type": "markdown",
   "id": "63ba5891-678f-456c-9370-38db29d58384",
   "metadata": {},
   "source": [
    "# Cleaning Data From PubMed API"
   ]
  },
  {
   "cell_type": "code",
   "execution_count": 26,
   "id": "a35499cd-8ce6-41f4-9f25-1a75bfcea826",
   "metadata": {
    "tags": []
   },
   "outputs": [],
   "source": [
    "import pandas as pd\n",
    "import numpy as np\n",
    "import os\n",
    "\n",
    "import warnings\n",
    "warnings.filterwarnings('ignore')"
   ]
  },
  {
   "cell_type": "markdown",
   "id": "92e0cca8-0123-4e10-8c9c-b99a1ca3af3d",
   "metadata": {},
   "source": [
    "#### Pull In Scraped Data & Combine into One DataFrame"
   ]
  },
  {
   "cell_type": "code",
   "execution_count": 27,
   "id": "f2e89b01-637c-446a-981d-d787b2379f78",
   "metadata": {},
   "outputs": [],
   "source": [
    "raw_files = os.listdir('../data/raw_pubmed/')"
   ]
  },
  {
   "cell_type": "code",
   "execution_count": 28,
   "id": "e945c6f4-d1a9-4575-9522-0978d980f818",
   "metadata": {},
   "outputs": [],
   "source": [
    "try:\n",
    "    raw_files.remove('.ipynb_checkpoints')\n",
    "except:\n",
    "    pass"
   ]
  },
  {
   "cell_type": "code",
   "execution_count": 29,
   "id": "d2fc5f2a-d5e7-4210-965a-b04fd3d250f4",
   "metadata": {},
   "outputs": [],
   "source": [
    "#set the order of columns\n",
    "cols = ['pmid','title','text','date', 'citations']"
   ]
  },
  {
   "cell_type": "code",
   "execution_count": 30,
   "id": "53826324-6ad9-497a-b27e-ec37a5b6a77b",
   "metadata": {},
   "outputs": [],
   "source": [
    "# create a dataframe of each csv and store in a list\n",
    "df_list = []\n",
    "for file in raw_files: \n",
    "    df = pd.read_csv(f'../data/raw_pubmed/{file}')\n",
    "    df = df[cols]\n",
    "    df_list.append(df)"
   ]
  },
  {
   "cell_type": "code",
   "execution_count": 31,
   "id": "8118e709-7196-4e00-9637-f1c086e08aba",
   "metadata": {},
   "outputs": [
    {
     "data": {
      "text/plain": [
       "(3151, 5)"
      ]
     },
     "execution_count": 31,
     "metadata": {},
     "output_type": "execute_result"
    }
   ],
   "source": [
    "#concatenate all of the dataframes in the list into one large dataframe\n",
    "pm_df = pd.DataFrame()\n",
    "for df in df_list:\n",
    "    pm_df = pd.concat([pm_df, df],ignore_index=True)\n",
    "\n",
    "pm_df.shape"
   ]
  },
  {
   "cell_type": "code",
   "execution_count": 32,
   "id": "77687176-1ef9-4bd2-a79a-a2f141386743",
   "metadata": {},
   "outputs": [
    {
     "name": "stdout",
     "output_type": "stream",
     "text": [
      "<class 'pandas.core.frame.DataFrame'>\n",
      "RangeIndex: 3151 entries, 0 to 3150\n",
      "Data columns (total 5 columns):\n",
      " #   Column     Non-Null Count  Dtype  \n",
      "---  ------     --------------  -----  \n",
      " 0   pmid       3151 non-null   int64  \n",
      " 1   title      3151 non-null   object \n",
      " 2   text       3151 non-null   object \n",
      " 3   date       3128 non-null   object \n",
      " 4   citations  2500 non-null   float64\n",
      "dtypes: float64(1), int64(1), object(3)\n",
      "memory usage: 123.2+ KB\n"
     ]
    }
   ],
   "source": [
    "pm_df.info()"
   ]
  },
  {
   "cell_type": "code",
   "execution_count": 33,
   "id": "f1f6b3f2-db36-4c9d-bcbe-78954231fd19",
   "metadata": {},
   "outputs": [],
   "source": [
    "#replace null citations with 0 (that's what null represents in this case)\n",
    "pm_df['citations'].fillna(0, inplace=True)"
   ]
  },
  {
   "cell_type": "code",
   "execution_count": 34,
   "id": "9f73a784-c383-4aeb-8eae-990dd9ed127b",
   "metadata": {},
   "outputs": [],
   "source": [
    "#convert num of citations to int\n",
    "pm_df['citations'] = pm_df['citations'].apply(int)"
   ]
  },
  {
   "cell_type": "code",
   "execution_count": 35,
   "id": "a76abda3-3beb-401b-b25d-932f26038c6a",
   "metadata": {},
   "outputs": [],
   "source": [
    "#drop missing date observations\n",
    "pm_df.dropna(inplace=True)"
   ]
  },
  {
   "cell_type": "markdown",
   "id": "6129a2b7-4711-4951-99cc-147af46fb099",
   "metadata": {},
   "source": [
    "#### Clean Messy Date Column"
   ]
  },
  {
   "cell_type": "code",
   "execution_count": 36,
   "id": "14aa5630-a8bf-4784-a516-de4ee3a4d67c",
   "metadata": {},
   "outputs": [],
   "source": [
    "from datetime import datetime"
   ]
  },
  {
   "cell_type": "code",
   "execution_count": 37,
   "id": "7ad94bdc-77e6-4464-9894-871da93a283c",
   "metadata": {},
   "outputs": [
    {
     "data": {
      "text/plain": [
       "0       2020 May 16;395(10236):1579-1586.\n",
       "1                2020 May 13;20(10):2774.\n",
       "2             Jul-Aug 2020;14(4):569-573.\n",
       "3                       2020 May 12;6:16.\n",
       "4                  2020;26(29):3569-3578.\n",
       "                      ...                \n",
       "3146                2019 Apr 20;91:72-78.\n",
       "3147                2018 Jul;116:286-299.\n",
       "3148        2018 Apr 27;122(9):1290-1301.\n",
       "3149           2019 Mar 25;20(2):682-689.\n",
       "3150              2018 May;19(7):629-650.\n",
       "Name: date, Length: 3128, dtype: object"
      ]
     },
     "execution_count": 37,
     "metadata": {},
     "output_type": "execute_result"
    }
   ],
   "source": [
    "pm_df['date']"
   ]
  },
  {
   "cell_type": "markdown",
   "id": "9291b22a-6093-4efe-8bff-13051fc43533",
   "metadata": {},
   "source": [
    "This column is incredibly messy. I only need a rough estimate to be able to account for any effects of the time that an article has been live, so I will try to brute-force extract a month and year from each cell. "
   ]
  },
  {
   "cell_type": "code",
   "execution_count": 38,
   "id": "ba8153d9-8606-46b7-add3-f3ff7a5a4083",
   "metadata": {},
   "outputs": [],
   "source": [
    "# function to extract the publication month and year from the date string \n",
    "def extract_date(datestring):\n",
    "    \n",
    "    #the months appear to be listed as \"Jan\", \"Feb\", etc.\n",
    "    months_dict = {'Jan' : 1, 'Feb' : 2,'Mar' : 3,'Apr' : 4,\n",
    "         'May' : 5,'Jun' : 6,'Jul' : 7,'Aug' : 8,\n",
    "         'Sep' : 9, 'Oct' : 10,'Nov' : 11, 'Dec' : 12}\n",
    "    \n",
    "    #set up a list of all years that were scraped\n",
    "    years = list(range(2010,2021))\n",
    "    \n",
    "    #set up empty strings to store the months and years \n",
    "    pub_month = ''\n",
    "    pub_year = ''\n",
    "\n",
    "    #look for months and years in the datestring cell\n",
    "    for month in months_dict.keys():\n",
    "        if month in datestring:\n",
    "            pub_month = str(months_dict[month]).zfill(2)\n",
    "        else:\n",
    "            pass\n",
    "    for year in years:\n",
    "        if str(year) in datestring:\n",
    "            pub_year = str(year)\n",
    "        else:\n",
    "            pass\n",
    "    \n",
    "    #if we can't find the publication year, we have to drop this one- could be off by a lot\n",
    "    #if we can't find the month, will pick a month in the middle; so the maximum it could\n",
    "    #be off by is six months. not perfect, but it's a decision. \n",
    "    \n",
    "    if pub_year == '': \n",
    "        return None\n",
    "    elif pub_month == '':\n",
    "        pub_month = '6'\n",
    "    else: \n",
    "        pass\n",
    "    \n",
    "    return pub_year+'-'+pub_month   "
   ]
  },
  {
   "cell_type": "code",
   "execution_count": 39,
   "id": "b4b795b4-794e-484a-9962-84fb975d9b11",
   "metadata": {},
   "outputs": [],
   "source": [
    "# apply date extraction function\n",
    "pm_df['date'] = pm_df['date'].apply(extract_date)"
   ]
  },
  {
   "cell_type": "code",
   "execution_count": 40,
   "id": "952c0af5-4aed-4edf-a028-70a3edbc3b2b",
   "metadata": {},
   "outputs": [],
   "source": [
    "#we don't have a simple way to get publication days for each of these, so will make all the first of the monm\n",
    "pm_df['date'] = pd.to_datetime(pm_df['date'],format='%Y-%m')"
   ]
  },
  {
   "cell_type": "code",
   "execution_count": 41,
   "id": "4a6e280e-403e-4c8b-a891-f0f8440af813",
   "metadata": {},
   "outputs": [
    {
     "data": {
      "text/html": [
       "<div>\n",
       "<style scoped>\n",
       "    .dataframe tbody tr th:only-of-type {\n",
       "        vertical-align: middle;\n",
       "    }\n",
       "\n",
       "    .dataframe tbody tr th {\n",
       "        vertical-align: top;\n",
       "    }\n",
       "\n",
       "    .dataframe thead th {\n",
       "        text-align: right;\n",
       "    }\n",
       "</style>\n",
       "<table border=\"1\" class=\"dataframe\">\n",
       "  <thead>\n",
       "    <tr style=\"text-align: right;\">\n",
       "      <th></th>\n",
       "      <th>pmid</th>\n",
       "      <th>title</th>\n",
       "      <th>text</th>\n",
       "      <th>date</th>\n",
       "      <th>citations</th>\n",
       "    </tr>\n",
       "  </thead>\n",
       "  <tbody>\n",
       "    <tr>\n",
       "      <th>0</th>\n",
       "      <td>32416782</td>\n",
       "      <td>Artificial intelligence and the future of glob...</td>\n",
       "      <td>Concurrent advances in information technology ...</td>\n",
       "      <td>2020-05-01</td>\n",
       "      <td>10</td>\n",
       "    </tr>\n",
       "    <tr>\n",
       "      <th>1</th>\n",
       "      <td>32414188</td>\n",
       "      <td>Future Is Unlicensed: Private 5G Unlicensed Ne...</td>\n",
       "      <td>This paper aims to unlock the unlicensed band ...</td>\n",
       "      <td>2020-05-01</td>\n",
       "      <td>0</td>\n",
       "    </tr>\n",
       "    <tr>\n",
       "      <th>2</th>\n",
       "      <td>32413821</td>\n",
       "      <td>A review of modern technologies for tackling C...</td>\n",
       "      <td>Objective:                    Science and tech...</td>\n",
       "      <td>2020-08-01</td>\n",
       "      <td>23</td>\n",
       "    </tr>\n",
       "    <tr>\n",
       "      <th>3</th>\n",
       "      <td>32411818</td>\n",
       "      <td>Report on computational assessment of Tumor In...</td>\n",
       "      <td>Assessment of tumor-infiltrating lymphocytes (...</td>\n",
       "      <td>2020-05-01</td>\n",
       "      <td>3</td>\n",
       "    </tr>\n",
       "    <tr>\n",
       "      <th>4</th>\n",
       "      <td>32410553</td>\n",
       "      <td>Application of Artificial Intelligence in Phar...</td>\n",
       "      <td>Background:                    Artificial inte...</td>\n",
       "      <td>2020-06-01</td>\n",
       "      <td>0</td>\n",
       "    </tr>\n",
       "  </tbody>\n",
       "</table>\n",
       "</div>"
      ],
      "text/plain": [
       "       pmid                                              title  \\\n",
       "0  32416782  Artificial intelligence and the future of glob...   \n",
       "1  32414188  Future Is Unlicensed: Private 5G Unlicensed Ne...   \n",
       "2  32413821  A review of modern technologies for tackling C...   \n",
       "3  32411818  Report on computational assessment of Tumor In...   \n",
       "4  32410553  Application of Artificial Intelligence in Phar...   \n",
       "\n",
       "                                                text       date  citations  \n",
       "0  Concurrent advances in information technology ... 2020-05-01         10  \n",
       "1  This paper aims to unlock the unlicensed band ... 2020-05-01          0  \n",
       "2  Objective:                    Science and tech... 2020-08-01         23  \n",
       "3  Assessment of tumor-infiltrating lymphocytes (... 2020-05-01          3  \n",
       "4  Background:                    Artificial inte... 2020-06-01          0  "
      ]
     },
     "execution_count": 41,
     "metadata": {},
     "output_type": "execute_result"
    }
   ],
   "source": [
    "pm_df.head()"
   ]
  },
  {
   "cell_type": "code",
   "execution_count": 42,
   "id": "6800faa2-db9d-4279-85a4-fb06d3c53137",
   "metadata": {},
   "outputs": [],
   "source": [
    "pm_df.dropna(inplace=True)"
   ]
  },
  {
   "cell_type": "code",
   "execution_count": 43,
   "id": "abb99093-8d3f-4843-a4ba-7270aa9294c8",
   "metadata": {},
   "outputs": [
    {
     "name": "stdout",
     "output_type": "stream",
     "text": [
      "<class 'pandas.core.frame.DataFrame'>\n",
      "Int64Index: 2986 entries, 0 to 3150\n",
      "Data columns (total 5 columns):\n",
      " #   Column     Non-Null Count  Dtype         \n",
      "---  ------     --------------  -----         \n",
      " 0   pmid       2986 non-null   int64         \n",
      " 1   title      2986 non-null   object        \n",
      " 2   text       2986 non-null   object        \n",
      " 3   date       2986 non-null   datetime64[ns]\n",
      " 4   citations  2986 non-null   int64         \n",
      "dtypes: datetime64[ns](1), int64(2), object(2)\n",
      "memory usage: 140.0+ KB\n"
     ]
    }
   ],
   "source": [
    "pm_df.info()"
   ]
  },
  {
   "cell_type": "markdown",
   "id": "0e7cf500-0c70-43d6-826a-382506162da7",
   "metadata": {},
   "source": [
    "#### Save Cleaned File"
   ]
  },
  {
   "cell_type": "code",
   "execution_count": 44,
   "id": "9d27416d-2f7d-4d55-a806-3e3db69ca72f",
   "metadata": {},
   "outputs": [],
   "source": [
    "output_filename = '../data/pubmed_cleaned.csv'"
   ]
  },
  {
   "cell_type": "code",
   "execution_count": 45,
   "id": "58b97024-df2f-4c85-9a14-cc483e08596e",
   "metadata": {},
   "outputs": [],
   "source": [
    "pm_df.to_csv(output_filename, index=False)"
   ]
  },
  {
   "cell_type": "code",
   "execution_count": null,
   "id": "f27a4f5c-1470-4ff2-bd64-add526ade70b",
   "metadata": {},
   "outputs": [],
   "source": []
  }
 ],
 "metadata": {
  "kernelspec": {
   "display_name": "Python 3",
   "language": "python",
   "name": "python3"
  },
  "language_info": {
   "codemirror_mode": {
    "name": "ipython",
    "version": 3
   },
   "file_extension": ".py",
   "mimetype": "text/x-python",
   "name": "python",
   "nbconvert_exporter": "python",
   "pygments_lexer": "ipython3",
   "version": "3.9.4"
  }
 },
 "nbformat": 4,
 "nbformat_minor": 5
}
