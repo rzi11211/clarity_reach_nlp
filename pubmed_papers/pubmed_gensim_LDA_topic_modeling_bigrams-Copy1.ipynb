{
 "cells": [
  {
   "cell_type": "markdown",
   "id": "895a987b-c9d8-42aa-89ca-b06dfe04df6f",
   "metadata": {},
   "source": [
    "# Topic Modeling PubMed Abstracts with Latent Dirichlet Analysis\n",
    "## trigrams\n",
    "\n",
    "Based on the tutorial at https://www.machinelearningplus.com/nlp/topic-modeling-gensim-python/"
   ]
  },
  {
   "cell_type": "code",
   "execution_count": 1,
   "id": "18fbe3c9-5d2a-4f00-b00d-9f3bcfd2102d",
   "metadata": {},
   "outputs": [],
   "source": [
    "# !pip install gensim==3.8.3"
   ]
  },
  {
   "cell_type": "code",
   "execution_count": 2,
   "id": "636a2023-6509-4b02-a31b-98c74ded4902",
   "metadata": {},
   "outputs": [],
   "source": [
    "import re\n",
    "import numpy as np\n",
    "import pandas as pd\n",
    "import matplotlib.pyplot as plt\n",
    "import seaborn as sns\n",
    "\n",
    "# Gensim\n",
    "import gensim\n",
    "import gensim.corpora as corpora\n",
    "from gensim.utils import simple_preprocess\n",
    "from gensim.models import CoherenceModel\n",
    "from gensim.test.utils import common_texts, get_tmpfile\n",
    "from gensim.models import Word2Vec\n",
    "from gensim.models.ldamodel import LdaModel\n",
    "from gensim.models.wrappers import LdaMallet\n",
    "\n",
    "# NTLK stopwords\n",
    "from nltk.corpus import stopwords\n",
    "\n",
    "# spacy for lemmatization\n",
    "import spacy\n",
    "\n",
    "# Plotting tools\n",
    "import pyLDAvis\n",
    "import pyLDAvis.gensim_models as gensimvis\n",
    "pyLDAvis.enable_notebook()\n",
    "import matplotlib.pyplot as plt\n",
    "%matplotlib inline\n",
    "\n",
    "# Enable logging for gensim - optional\n",
    "import logging\n",
    "logging.basicConfig(format='%(asctime)s : %(levelname)s : %(message)s', level=logging.ERROR)\n",
    "\n",
    "#saving models\n",
    "import pickle \n",
    "import joblib\n",
    "\n",
    "import warnings\n",
    "warnings.filterwarnings(\"ignore\")"
   ]
  },
  {
   "cell_type": "code",
   "execution_count": 3,
   "id": "b5d7abef-4e2c-439c-8c54-efb7ac0d2e55",
   "metadata": {},
   "outputs": [],
   "source": [
    "#update stopwords with frequent irrelevant words identified during EDA\n",
    "stop_words = stopwords.words('english')\n",
    "stop_words.extend(['use', 'used', 'using', 'one', 'like', 'user', 'make', 'also', 'get', 'point', 'let', 'go'])"
   ]
  },
  {
   "cell_type": "code",
   "execution_count": 4,
   "id": "3aa5bbb7-7883-4545-8623-e27665a7c7a9",
   "metadata": {},
   "outputs": [],
   "source": [
    "filename = '../data/pubmed_cleaned_no_outliers.csv'"
   ]
  },
  {
   "cell_type": "code",
   "execution_count": 5,
   "id": "e9ff3a4d-c7ee-4935-857d-e67c2b52d33e",
   "metadata": {},
   "outputs": [],
   "source": [
    "#read in the data\n",
    "df = pd.read_csv(filename).set_index('pmid')"
   ]
  },
  {
   "cell_type": "code",
   "execution_count": 6,
   "id": "01df1bc5-8a46-4d63-ab39-c83d238f32e1",
   "metadata": {},
   "outputs": [
    {
     "data": {
      "text/plain": [
       "Index(['Unnamed: 0', 'title', 'text', 'date', 'citations', 'len_text',\n",
       "       'len_title', 'days_live'],\n",
       "      dtype='object')"
      ]
     },
     "execution_count": 6,
     "metadata": {},
     "output_type": "execute_result"
    }
   ],
   "source": [
    "df.columns"
   ]
  },
  {
   "cell_type": "code",
   "execution_count": 7,
   "id": "5dbe0154-3617-47fe-aaae-ad32a3910375",
   "metadata": {},
   "outputs": [],
   "source": [
    "#remove non-text, non-Y columns\n",
    "df.drop(columns = ['Unnamed: 0', 'date', 'len_text', 'len_title', 'days_live'], inplace=True)"
   ]
  },
  {
   "cell_type": "markdown",
   "id": "48f63fb1-9bd9-442d-9afa-9d32bef09f19",
   "metadata": {},
   "source": [
    "#### Combine Title & Abstract"
   ]
  },
  {
   "cell_type": "code",
   "execution_count": 8,
   "id": "2e2fab36-0212-4ce1-9c83-fa728d6a7dcf",
   "metadata": {},
   "outputs": [],
   "source": [
    "df['text'] = (df['title'] + ' ' + df['text'])"
   ]
  },
  {
   "cell_type": "code",
   "execution_count": 9,
   "id": "e49eef43-55aa-44ac-916a-744192b9a8aa",
   "metadata": {},
   "outputs": [],
   "source": [
    "df = df.drop(columns = 'title')"
   ]
  },
  {
   "cell_type": "markdown",
   "id": "aad6d554-59ac-4415-b813-e0b9385a58f9",
   "metadata": {},
   "source": [
    "#### Remove Punctuation & Make Lowercase"
   ]
  },
  {
   "cell_type": "code",
   "execution_count": 10,
   "id": "a6ab19f7-f196-4979-b57d-32ef687ae6a0",
   "metadata": {},
   "outputs": [],
   "source": [
    "df['text'] = df['text'].map(lambda x: re.sub(\"[''·,\\.!?'-]\", '', x).lower())"
   ]
  },
  {
   "cell_type": "code",
   "execution_count": 11,
   "id": "604609ac-a04a-48dd-b783-2dddbb0b8832",
   "metadata": {},
   "outputs": [],
   "source": [
    "# Convert to list\n",
    "data = df['text'].values.tolist()"
   ]
  },
  {
   "cell_type": "markdown",
   "id": "0f1b88dd-74f0-41d8-a6c4-085affb9ae05",
   "metadata": {},
   "source": [
    "#### Tokenize Words and Clean Up Text"
   ]
  },
  {
   "cell_type": "code",
   "execution_count": 12,
   "id": "4d6d834e-35f1-4940-9a37-a3098fdfc221",
   "metadata": {},
   "outputs": [],
   "source": [
    "def sent_to_words(sentences):\n",
    "    for sentence in sentences:\n",
    "        yield(gensim.utils.simple_preprocess(str(sentence), deacc=True)) \n",
    "\n",
    "data_words = list(sent_to_words(data))"
   ]
  },
  {
   "cell_type": "markdown",
   "id": "093c7cc8-3887-4016-b337-2add7d1546e5",
   "metadata": {},
   "source": [
    "#### Bigram and Trigram Models"
   ]
  },
  {
   "cell_type": "code",
   "execution_count": 13,
   "id": "719fb3d2-de81-420b-9ea1-5dd8b1b8ccf1",
   "metadata": {},
   "outputs": [],
   "source": [
    "# Build the bigram and trigram models\n",
    "bigram = gensim.models.Phrases(data_words, min_count=5, threshold=100) # higher threshold fewer phrases.\n",
    "trigram = gensim.models.Phrases(bigram[data_words], threshold=100)  \n",
    "\n",
    "# Faster way to get a sentence clubbed as a trigram/bigram\n",
    "bigram_mod = gensim.models.phrases.Phraser(bigram)\n",
    "trigram_mod = gensim.models.phrases.Phraser(trigram)"
   ]
  },
  {
   "cell_type": "code",
   "execution_count": 14,
   "id": "7477a8ef-1e6f-45bf-b80d-d83b2a8e9c18",
   "metadata": {},
   "outputs": [],
   "source": [
    "# Define functions for stopwords, bigrams, trigrams and lemmatization\n",
    "def remove_stopwords(texts):\n",
    "    return [[word for word in simple_preprocess(str(doc)) if word not in stop_words] for doc in texts]\n",
    "\n",
    "def make_bigrams(texts):\n",
    "    return [bigram_mod[doc] for doc in texts]\n",
    "\n",
    "def make_trigrams(texts):\n",
    "    return [trigram_mod[bigram_mod[doc]] for doc in texts]\n",
    "\n",
    "def lemmatization(texts, allowed_postags=['NOUN', 'ADJ', 'VERB', 'ADV']):\n",
    "    \"\"\"https://spacy.io/api/annotation\"\"\"\n",
    "    texts_out = []\n",
    "    for sent in texts:\n",
    "        doc = nlp(\" \".join(sent)) \n",
    "        texts_out.append([token.lemma_ for token in doc if token.pos_ in allowed_postags])\n",
    "    return texts_out"
   ]
  },
  {
   "cell_type": "markdown",
   "id": "85aa658a-93e7-4bf2-8fe7-9a1d0d0f8736",
   "metadata": {},
   "source": [
    "#### Remove Stop Words "
   ]
  },
  {
   "cell_type": "code",
   "execution_count": 15,
   "id": "a76a847c-00b0-466e-9dc2-7c86a9d705c5",
   "metadata": {},
   "outputs": [],
   "source": [
    "data_words_nostops = remove_stopwords(data_words)"
   ]
  },
  {
   "cell_type": "markdown",
   "id": "8ead2c3f-9907-45f1-b0e4-8dd81fa8e047",
   "metadata": {},
   "source": [
    "#### Initialize Spacy 'en' Model"
   ]
  },
  {
   "cell_type": "code",
   "execution_count": 16,
   "id": "5cba7282-1ab5-4a22-b4fc-74d02b23195c",
   "metadata": {
    "tags": []
   },
   "outputs": [],
   "source": [
    "#!spacy download en_core_web_lg"
   ]
  },
  {
   "cell_type": "code",
   "execution_count": 17,
   "id": "b062cf91-c1f0-4958-bf2f-aeb8e3ce56f5",
   "metadata": {},
   "outputs": [],
   "source": [
    "nlp = spacy.load('en_core_web_lg')"
   ]
  },
  {
   "cell_type": "code",
   "execution_count": 18,
   "id": "2ff35a03-ee00-40f6-81d7-5c55e17b7fb6",
   "metadata": {
    "tags": []
   },
   "outputs": [],
   "source": [
    "# remove exception from rule-based exceptions - not a fan of \"datum\" showing up in my corpus along with data....\n",
    "nlp.get_pipe('lemmatizer').lookups.get_table(\"lemma_exc\")[\"noun\"][\"data\"] = [\"data\"]"
   ]
  },
  {
   "cell_type": "markdown",
   "id": "54408c0e-5e3e-4f51-bf51-d5d89fddb61d",
   "metadata": {},
   "source": [
    "#### Lemmatize"
   ]
  },
  {
   "cell_type": "code",
   "execution_count": 19,
   "id": "ac8d5a62-fcee-40e7-a4fb-e775d40db74f",
   "metadata": {
    "tags": []
   },
   "outputs": [],
   "source": [
    "data_lemmatized = lemmatization(data_words_nostops, allowed_postags=['NOUN', 'ADJ', 'VERB', 'ADV','PROPN'])"
   ]
  },
  {
   "cell_type": "markdown",
   "id": "7fb019aa-25bd-45e8-91ef-2b8bab98a31f",
   "metadata": {},
   "source": [
    "#### Form Bigrams & Trigrams"
   ]
  },
  {
   "cell_type": "code",
   "execution_count": 20,
   "id": "0ff21310-1d3b-40e8-849c-ec0480356c02",
   "metadata": {
    "tags": []
   },
   "outputs": [],
   "source": [
    "data_words_bigrams = make_bigrams(data_lemmatized)"
   ]
  },
  {
   "cell_type": "code",
   "execution_count": 21,
   "id": "5417599c-44f7-4bf3-a48b-788d514ecc0f",
   "metadata": {
    "tags": []
   },
   "outputs": [],
   "source": [
    "data_words_trigrams = make_trigrams(data_lemmatized)"
   ]
  },
  {
   "cell_type": "markdown",
   "id": "4c8f7701-0e4a-4814-b86c-f6daf4bcedd9",
   "metadata": {},
   "source": [
    "### Trigram Modeling"
   ]
  },
  {
   "cell_type": "markdown",
   "id": "6e46ed09-ab43-45b3-9e6a-6b097bce1b54",
   "metadata": {},
   "source": [
    "#### Create the Dictionary & Corpus Needed for Topic Modeling"
   ]
  },
  {
   "cell_type": "code",
   "execution_count": 22,
   "id": "daad7476-8314-4826-8022-f4adec6336cf",
   "metadata": {},
   "outputs": [],
   "source": [
    "# Create Dictionary\n",
    "id2word = corpora.Dictionary(data_words_trigrams)\n",
    "\n",
    "# Create Corpus\n",
    "texts = data_words_trigrams\n",
    "\n",
    "# Term Document Frequency\n",
    "corpus = [id2word.doc2bow(text) for text in texts]"
   ]
  },
  {
   "cell_type": "code",
   "execution_count": 23,
   "id": "9bb858d4-eb00-40ed-aeb2-ebdabfe97125",
   "metadata": {},
   "outputs": [
    {
     "data": {
      "text/plain": [
       "14995"
      ]
     },
     "execution_count": 23,
     "metadata": {},
     "output_type": "execute_result"
    }
   ],
   "source": [
    "#check out the dictionary\n",
    "\n",
    "len(id2word)"
   ]
  },
  {
   "cell_type": "markdown",
   "id": "83ac5b7e-4935-4d34-b371-4f589cbc7666",
   "metadata": {},
   "source": [
    "### Build LDA Mallet Model"
   ]
  },
  {
   "cell_type": "code",
   "execution_count": 24,
   "id": "f65dd03b-e7e3-4790-8eb7-38d707b7c760",
   "metadata": {},
   "outputs": [],
   "source": [
    "#start with 10 topics & fit model to compare to previous\n",
    "mallet_path = '/Users/rachelinsler/dsi/downloads/mallet-2.0.8/bin/mallet' # update this path\n",
    "ldamallet = LdaMallet(mallet_path, corpus=corpus, num_topics=10, id2word=id2word)"
   ]
  },
  {
   "cell_type": "markdown",
   "id": "c18ffab2-9120-4af5-8ce2-baa1e5b13b68",
   "metadata": {},
   "source": [
    "#### Evaluate with Coherence Score & Visualization"
   ]
  },
  {
   "cell_type": "code",
   "execution_count": 25,
   "id": "ff6b38b2-288b-4634-8597-484aeea21721",
   "metadata": {},
   "outputs": [
    {
     "name": "stdout",
     "output_type": "stream",
     "text": [
      "\n",
      "Coherence Score:  0.4571456791541613\n"
     ]
    }
   ],
   "source": [
    "# Compute Coherence Score\n",
    "coherence_model_ldamallet = CoherenceModel(model=ldamallet, texts=data_words_trigrams, dictionary=id2word, coherence='c_v')\n",
    "coherence_ldamallet = coherence_model_ldamallet.get_coherence()\n",
    "#display coherence score\n",
    "print('\\nCoherence Score: ', coherence_ldamallet)"
   ]
  },
  {
   "cell_type": "code",
   "execution_count": 26,
   "id": "8d5d7648-09fa-47a1-9d07-680fcbffe4ff",
   "metadata": {},
   "outputs": [],
   "source": [
    "def ldaMalletConvertToldaGen(mallet_model):\n",
    "    model_gensim = LdaModel(id2word=mallet_model.id2word, num_topics=mallet_model.num_topics, alpha=mallet_model.alpha, eta=0, iterations=1000, gamma_threshold=0.001, dtype=np.float32)\n",
    "    model_gensim.state.sstats[...] = mallet_model.wordtopics\n",
    "    model_gensim.sync_state()\n",
    "    return model_gensim"
   ]
  },
  {
   "cell_type": "code",
   "execution_count": 27,
   "id": "d0d512c1-754a-43fe-8381-f4482570fce7",
   "metadata": {},
   "outputs": [
    {
     "data": {
      "text/html": [
       "\n",
       "<link rel=\"stylesheet\" type=\"text/css\" href=\"https://cdn.jsdelivr.net/gh/bmabey/pyLDAvis@3.3.1/pyLDAvis/js/ldavis.v1.0.0.css\">\n",
       "\n",
       "\n",
       "<div id=\"ldavis_el155391405756050081924531809794\"></div>\n",
       "<script type=\"text/javascript\">\n",
       "\n",
       "var ldavis_el155391405756050081924531809794_data = {\"mdsDat\": {\"x\": [0.09829297014095553, -0.17174785733909073, -0.08363780490871067, -0.0665657920422695, 0.01056060120534875, 0.1941986619761639, -0.12014031471433309, 0.16073814870245418, 0.2515379772754863, -0.27323659029600467], \"y\": [-0.14766384736007046, -0.08247584375504413, -0.048599637571145986, 0.329419285409229, 0.149690536221395, -0.1644311196874124, -0.17968209648142047, 0.15889511609559684, -0.005152154928693496, -0.01000023794243358], \"topics\": [1, 2, 3, 4, 5, 6, 7, 8, 9, 10], \"cluster\": [1, 1, 1, 1, 1, 1, 1, 1, 1, 1], \"Freq\": [10.083911126991044, 9.285186576195278, 10.252845278615505, 10.29046573408377, 9.561047754174426, 9.960546692300046, 10.485176124511453, 9.80580215075596, 10.146306965200234, 10.128711597172284]}, \"tinfo\": {\"Term\": [\"data\", \"machine\", \"learning\", \"study\", \"model\", \"learn\", \"method\", \"system\", \"application\", \"image\", \"artificial_intelligence\", \"deep\", \"research\", \"patient\", \"algorithm\", \"clinical\", \"review\", \"imaging\", \"disease\", \"computational\", \"prediction\", \"approach\", \"analysis\", \"field\", \"ai\", \"technology\", \"technique\", \"drug\", \"diagnosis\", \"ml\", \"handling\", \"literature\", \"conclusion\", \"carry\", \"database\", \"institute\", \"background\", \"conduct\", \"coreference\", \"corpus\", \"document\", \"entity\", \"informatic\", \"mention\", \"participate\", \"phrase\", \"rulebased\", \"criterion\", \"english\", \"familial\", \"inclusion\", \"list\", \"medline\", \"meet\", \"reference\", \"search\", \"bibliographic\", \"cartilage\", \"deamidate\", \"diseaserelevant\", \"systematic\", \"publish\", \"objective\", \"topic\", \"publication\", \"select\", \"bias\", \"total\", \"scope\", \"web\", \"suicide\", \"medium\", \"journal\", \"text\", \"international\", \"frequently\", \"abstract\", \"author\", \"pubmed\", \"report\", \"guideline\", \"study\", \"article\", \"paper\", \"code\", \"result\", \"follow\", \"good\", \"review\", \"find\", \"research\", \"aim\", \"include\", \"method\", \"identify\", \"perform\", \"relevant\", \"term\", \"information\", \"base\", \"technique\", \"biomarker\", \"computerbase\", \"normal\", \"deficit\", \"decompose\", \"brain\", \"psychosis\", \"schizophrenia\", \"mac\", \"ninetyeight\", \"neural\", \"neuroscience\", \"attentional\", \"bd\", \"bipolar\", \"bipolar_disorder_bd\", \"depress\", \"depressed\", \"depression\", \"depressive\", \"emotion\", \"hypo\", \"illness\", \"manic\", \"neuroimaging\", \"relative\", \"reward\", \"symptom\", \"unipolar_depression\", \"white_matter\", \"disorder\", \"age\", \"pain\", \"eeg\", \"ad\", \"psychiatric\", \"alzheimer\", \"movement\", \"psychiatry\", \"pd\", \"epilepsy\", \"multimodal\", \"neuron\", \"temporal\", \"behavioral\", \"speech\", \"healthy\", \"seizure\", \"multivariate\", \"mental\", \"parkinson\", \"language\", \"cognitive\", \"subject\", \"pattern\", \"functional\", \"suggest\", \"understand\", \"theory\", \"individual\", \"signal\", \"study\", \"single\", \"region\", \"disease\", \"activity\", \"show\", \"change\", \"early\", \"approach\", \"finding\", \"control\", \"mechanism\", \"multiple\", \"review\", \"identify\", \"human\", \"analysis\", \"feature\", \"include\", \"provide\", \"clustering\", \"mass_spectrometry\", \"bayesian\", \"scoringmatrix\", \"dimensionality_reduction\", \"sciverse\", \"counterpart\", \"enumerate\", \"complexity\", \"inheritance\", \"datadriven\", \"genomic\", \"http\", \"contagious\", \"qdgr\", \"tenet\", \"graph\", \"filtering\", \"accessible\", \"explosion\", \"uncharacterized\", \"sheet\", \"sociology\", \"organellar\", \"plastidial\", \"divergent\", \"exponentially\", \"expressive\", \"suit\", \"twostate\", \"data\", \"big\", \"precision_medicine\", \"omic\", \"mining\", \"gain\", \"largescale\", \"amount\", \"mathematical\", \"generation\", \"interpret\", \"multiomics\", \"project\", \"proteomic\", \"metabolomic\", \"highdimensional\", \"couple\", \"inference\", \"genomics\", \"massive\", \"unprecedented\", \"integrative\", \"profiling\", \"handle\", \"modelling\", \"complex\", \"analytic\", \"generate\", \"era\", \"drive\", \"modeling\", \"network\", \"integration\", \"knowledge\", \"science\", \"integrate\", \"biology\", \"biological\", \"large\", \"approach\", \"analysis\", \"model\", \"statistical\", \"information\", \"source\", \"opportunity\", \"provide\", \"cancer\", \"challenge\", \"advance\", \"discuss\", \"claim\", \"practice\", \"american\", \"decision_support\", \"electronic_health_record\", \"health\", \"mandate\", \"medicine\", \"provider\", \"reaffirm\", \"effectiveness\", \"ethical\", \"extrapolability\", \"bedside\", \"chir\", \"healthcare\", \"workshop\", \"fibulin\", \"embrace\", \"outbreak\", \"volunteer\", \"suboptimal\", \"lesson\", \"controversial\", \"pandemic\", \"implication\", \"public_health\", \"evidencebased\", \"patientcentered\", \"proactive\", \"artificial_intelligence\", \"ai\", \"management\", \"digital\", \"care\", \"cardiovascular\", \"clinician\", \"surgical\", \"incorporate\", \"covid\", \"decisionmaking\", \"physician\", \"radiotherapy\", \"privacy\", \"innovative\", \"adoption\", \"safety\", \"history\", \"barrier\", \"diabetes\", \"skill\", \"cardiology\", \"prevention\", \"pediatric\", \"delivery\", \"surgery\", \"innovation\", \"benefit\", \"impact\", \"improve\", \"clinical\", \"implementation\", \"patient\", \"technology\", \"medical\", \"potential\", \"intervention\", \"decision\", \"outcome\", \"current\", \"increase\", \"treatment\", \"tool\", \"future\", \"include\", \"infrared\", \"laboratory\", \"microbial\", \"nondestructive\", \"spectroscopy\", \"system\", \"spectrum\", \"communication\", \"integral_part\", \"production\", \"reinvestment\", \"weigh\", \"lowthroughput\", \"qht\", \"transition\", \"affair\", \"va\", \"veteran\", \"attack\", \"dcomp\", \"degradation\", \"physical\", \"biosurveillance\", \"geopositione\", \"global\", \"mapping\", \"omission\", \"requirement\", \"nonstructural\", \"highranking\", \"sensor\", \"device\", \"monitor\", \"monitoring\", \"environment\", \"wearable\", \"industry\", \"material\", \"continuous\", \"stress\", \"mobile\", \"energy\", \"track\", \"computing\", \"adaptive\", \"phenotyping\", \"demand\", \"product\", \"smart\", \"sensing\", \"hardware\", \"engineering\", \"platform\", \"program\", \"service\", \"plant\", \"solution\", \"technology\", \"enable\", \"key\", \"time\", \"process\", \"critical\", \"develop\", \"detection\", \"require\", \"challenge\", \"behavior\", \"control\", \"aspect\", \"provide\", \"development\", \"base\", \"due\", \"review\", \"work\", \"classification\", \"illustration\", \"stateofart\", \"accuracy\", \"sparse\", \"highcost\", \"routinely\", \"simplicity\", \"training\", \"clue\", \"probability\", \"probability_estimation\", \"rule\", \"support_vector\", \"svm\", \"categorization\", \"label\", \"learner\", \"semisupervised\", \"supervise\", \"unlabeled\", \"unsupervised\", \"false\", \"popular\", \"strength\", \"penetrance\", \"ml\", \"assign\", \"firstly\", \"necessity\", \"task\", \"performance\", \"classifier\", \"artificial_neural_network\", \"train\", \"nodule\", \"ci\", \"construct\", \"excellent\", \"mlbased\", \"operate\", \"anns\", \"outperform\", \"ann\", \"ophthalmology\", \"match\", \"supervised\", \"average\", \"algorithm\", \"sensitivity_specificity\", \"feature_selection\", \"machine\", \"learning\", \"learn\", \"diagnose\", \"apply\", \"achieve\", \"classify\", \"widely\", \"dataset\", \"obtain\", \"demonstrate\", \"method\", \"technique\", \"ability\", \"base\", \"accurate\", \"compare\", \"feature\", \"review\", \"problem\", \"set\", \"show\", \"result\", \"high\", \"number\", \"develop\", \"cellular\", \"cisregulatory\", \"colocalize\", \"dna\", \"experimental\", \"high_throughput\", \"interaction\", \"mediator\", \"onedimensional\", \"protein\", \"regulate\", \"tf\", \"tfs\", \"transcription\", \"transcriptional\", \"amino_acid\", \"calpain\", \"cleavage\", \"cys\", \"elucidate\", \"intracellular\", \"lethality\", \"organism\", \"property\", \"protease\", \"proteolysis\", \"sequence\", \"site\", \"substrate\", \"fold\", \"drug\", \"target\", \"cell\", \"drug_discovery\", \"chemical\", \"compound\", \"peptide\", \"bind\", \"toxicity\", \"silico\", \"mutation\", \"resistance\", \"mirna\", \"host\", \"immune\", \"reaction\", \"assay\", \"pathogen\", \"descriptor\", \"receptor\", \"rna\", \"repurpose\", \"computational\", \"molecule\", \"structure\", \"molecular\", \"gene\", \"design\", \"identification\", \"prediction\", \"function\", \"method\", \"tool\", \"approach\", \"predict\", \"development\", \"discovery\", \"develop\", \"strategy\", \"role\", \"important\", \"biological\", \"discuss\", \"cytological\", \"ftir\", \"imaging\", \"digitize\", \"ecm\", \"labelfree\", \"dense\", \"microscopy\", \"photograph\", \"retinal\", \"imagingbased\", \"normalize\", \"discriminative\", \"imagebase\", \"microscope\", \"pancreatitis\", \"scan\", \"dictionary\", \"segment\", \"preprocesse\", \"uniqueness\", \"apparent\", \"endometrial\", \"tumour\", \"farreaching\", \"relaxation\", \"temporal_resolution\", \"overwhelming\", \"ecg\", \"showcase\", \"image\", \"deep\", \"radiomic\", \"tumor\", \"quantitative\", \"tissue\", \"pathology\", \"segmentation\", \"dl\", \"cad\", \"compute\", \"breast_cancer\", \"oncology\", \"acquisition\", \"noninvasive\", \"computeraided\", \"stroke\", \"reconstruction\", \"ct\", \"breast\", \"quantification\", \"convolutional_neural_network\", \"neural_network\", \"ultrasound\", \"heart\", \"skin\", \"lesion\", \"diagnosis\", \"diagnostic\", \"mri\", \"cardiac\", \"detection\", \"cancer\", \"modality\", \"analysis\", \"technique\", \"automate\", \"application\", \"conventional\", \"medical\", \"interpretation\", \"potential\", \"feature\", \"provide\", \"role\", \"recent\", \"learning\", \"assessment\", \"review\", \"improve\", \"clinical\", \"learn\", \"disease\", \"decade\", \"practitioner\", \"move\", \"preference\", \"simulation\", \"ground_truth\", \"accomplish\", \"begin\", \"diego\", \"society\", \"conceptually\", \"inspire\", \"subroutine\", \"familiar\", \"scenario\", \"introduction\", \"motivation\", \"press\", \"ambition\", \"argue\", \"cartography\", \"crowdsourcing\", \"labour\", \"ahead\", \"appeal\", \"considerable\", \"completely\", \"devote\", \"mitarbeiter\", \"reader\", \"direction\", \"part\", \"basic\", \"discussion\", \"conclude\", \"intelligence\", \"core\", \"past\", \"pattern_recognition\", \"robot\", \"historical\", \"deployment\", \"emphasize\", \"achievement\", \"branch\", \"broad\", \"building\", \"transparency\", \"black_box\", \"instance\", \"issue\", \"deal\", \"overview\", \"theoretical\", \"solve\", \"field\", \"specifically\", \"make\", \"concept\", \"application\", \"perspective\", \"limitation\", \"recent\", \"goal\", \"future\", \"community\", \"give\", \"research\", \"current\", \"challenge\", \"address\", \"year\", \"human\", \"finally\", \"discuss\", \"development\", \"state\", \"work\", \"present\", \"provide\", \"focus\", \"review\", \"machine\", \"learn\", \"advance\", \"area\", \"problem\", \"clinic\", \"biochemically\", \"necessitate\", \"enrich\", \"perceivable\", \"qhts\", \"tox\", \"estimation\", \"genomewide_association\", \"rheumatoid_arthritis\", \"modest\", \"variable\", \"follistatinlike\", \"joint\", \"oa\", \"osteoarthritis\", \"serum\", \"severity\", \"subclinical\", \"urine\", \"prevalence\", \"recurrent\", \"heterogeneity\", \"polygenic\", \"poor\", \"incompletely\", \"demographic\", \"genotype\", \"half\", \"polymorphism\", \"risk\", \"therapy\", \"genetic\", \"prognostic\", \"mortality\", \"variation\", \"child\", \"cohort\", \"heart_failure\", \"score\", \"subgroup\", \"liver\", \"sepsis\", \"tailor\", \"asthma\", \"inflammation\", \"severe\", \"negative\", \"physical_activity\", \"preclinical\", \"fail\", \"improved\", \"morbidity\", \"response\", \"subtype\", \"epigenetic\", \"vary\", \"estimate\", \"positive\", \"depend\", \"predictive\", \"exposure\", \"model\", \"treatment\", \"disease\", \"population\", \"predictor\", \"factor\", \"phenotype\", \"outcome\", \"effect\", \"predict\", \"associate\", \"patient\", \"prediction\", \"assessment\", \"characterize\", \"combination\", \"rate\", \"clinical\", \"high\", \"assess\", \"identify\", \"develop\", \"early\", \"approach\", \"statistical\", \"individual\", \"include\"], \"Freq\": [4402.0, 4377.0, 3076.0, 2539.0, 2334.0, 2442.0, 3074.0, 1518.0, 2102.0, 1341.0, 1293.0, 1191.0, 1772.0, 1674.0, 1319.0, 2170.0, 3249.0, 1062.0, 1676.0, 1091.0, 1528.0, 2219.0, 1898.0, 1144.0, 918.0, 1236.0, 1519.0, 875.0, 958.0, 771.0, 11.860289863820189, 625.3607275955111, 373.06002610890823, 74.39636963338462, 387.0767485879257, 22.64237147208408, 254.45714831128655, 231.81475978781867, 10.78208160826389, 9.70387335270759, 50.675784221949655, 49.59757596639336, 161.73122317665926, 31.26803751653447, 14.016706374932786, 6.469249059688244, 30.189829260978172, 154.18376538776516, 33.424455922245265, 2.1564165111125977, 64.69249533337793, 67.92712010004684, 53.91040898861855, 94.88231891056151, 89.49127763278001, 412.9537467212769, 14.016706374932786, 5.391040804131945, 1.0782082555562988, 1.0782082555562988, 359.04333394346196, 284.6469794668629, 342.87019495333186, 181.13897177667263, 146.63632275565664, 218.8762607211431, 113.2118592550186, 107.8208179772371, 99.19515193278671, 88.41306937722372, 87.33486112166742, 86.25665286611112, 80.86561158832963, 76.55277856610444, 71.16174486671572, 65.77070358893423, 65.77070358893423, 134.77603194453735, 132.61961543342477, 362.27794355334527, 127.22857415564327, 1871.7694103914503, 623.2043413979696, 577.9196249781762, 102.4297766994556, 700.8353357980232, 213.48521944336161, 223.1890937433683, 1398.4360922997341, 224.26730199892458, 851.784491575905, 281.41233954340845, 543.4169608003747, 863.6447975438098, 438.83074485462805, 242.59684234338167, 195.15567909890453, 172.51330573222225, 217.7980524655868, 208.0941781655801, 211.328802932249, 544.8243003754186, 7.673582235987399, 47.1377184527619, 21.924519926593476, 2.192452036272628, 634.7148301554676, 46.04148992686196, 88.79430125414898, 1.096226018136314, 1.096226018136314, 160.04898796264814, 109.62259439937374, 6.577355890751482, 47.1377184527619, 5.481129981648369, 9.866034054193625, 1.096226018136314, 4.384904072545256, 95.37165845329888, 7.673582235987399, 61.38865788789919, 1.096226018136314, 49.33016852643691, 4.384904072545256, 206.09048835669742, 48.233943489599405, 14.250937690606078, 142.50937341699833, 7.673582235987399, 16.443389508812302, 419.85454150407, 191.8395384543728, 152.37540921572318, 145.79805201657328, 141.41315186922327, 119.48863717622343, 116.19995159852363, 111.8150514511736, 104.14146572612378, 100.85278712654883, 95.37165845329888, 92.08297985372393, 88.79430125414898, 88.79430125414898, 87.6980797063739, 87.6980797063739, 85.50562265457403, 83.31317258089902, 82.21695103312395, 80.02449398132407, 77.83204390764907, 77.83204390764907, 146.89427356434837, 142.50937341699833, 278.44138963484676, 306.9432615269965, 192.93577395839762, 384.77531241277046, 123.87353732357346, 255.42063943782216, 199.51313115754752, 667.601616151217, 133.7395731222983, 121.68108027177358, 425.3356911116946, 181.9735166118977, 220.34142430277228, 188.5508738110476, 187.4546383070228, 382.5828693172203, 173.20370236094794, 162.24144501444803, 163.3376665622231, 163.3376665622231, 237.88103884842207, 179.78105956009784, 163.3376665622231, 177.58860250829795, 163.3376665622231, 165.53012361402298, 165.53012361402298, 63.47267466033605, 28.09446223878184, 64.51320929996747, 1.0405356028004737, 23.932319827579946, 1.0405356028004737, 8.32428482240379, 4.162142411201895, 191.45855862063956, 4.162142411201895, 168.56677343269106, 329.8498005352859, 2.0810712056009475, 1.0405356028004737, 1.0405356028004737, 4.162142411201895, 28.09446223878184, 1.0405356028004737, 63.47267466033605, 21.851248621979, 4.162142411201895, 1.0405356028004737, 1.0405356028004737, 1.0405356028004737, 1.0405356028004737, 4.162142411201895, 22.89178518794852, 2.0810712056009475, 22.89178518794852, 1.0405356028004737, 4400.425410020893, 572.2945834665987, 203.94498970692146, 201.86391272230622, 152.9587345748387, 143.59392667083208, 127.98588781297973, 202.90445891996623, 116.53999521900546, 114.45892593974261, 111.33731816817215, 109.2562411835569, 106.13463341198643, 96.76981780262741, 85.32392520865315, 75.95910189394174, 69.7158863508008, 69.7158863508008, 68.67535556384557, 68.67535556384557, 67.63481707153795, 65.55374779227509, 64.51320929996747, 62.43214002070462, 121.74267226983878, 526.5110439121112, 187.29642006211387, 254.93122942829942, 136.3101649300311, 134.22910335612067, 288.2283841286194, 433.9033723733619, 221.63409013868426, 321.5255234182345, 336.0930160784269, 242.44481375272233, 210.1882052500624, 349.619977951664, 374.59284012422773, 919.8335306657618, 732.5371260143527, 813.6988972537754, 249.7285600828185, 373.5523093372725, 194.58016639221003, 236.2015982095814, 419.33587971316956, 288.2283841286194, 355.86319349480493, 200.823381935351, 199.78285114839576, 22.83791205027512, 540.8432974366881, 21.799825578309513, 143.25600660069517, 96.54208636114757, 749.4988001063754, 7.266608687220367, 501.39599216793147, 41.52347821268781, 1.0380869553171952, 49.82817385522537, 98.61826317189148, 1.0380869553171952, 23.87600045564708, 1.0380869553171952, 376.8255691303062, 13.495129935771951, 1.0380869553171952, 29.066434748881466, 25.952173399578292, 1.0380869553171952, 11.41895602513756, 33.218782570150246, 11.41895602513756, 40.48538980731585, 135.98938389627875, 59.17095790313489, 33.218782570150246, 13.495129935771951, 8.304695642537562, 1293.4563975604935, 918.7069356383026, 433.92035795632256, 300.0071276699115, 685.1374040431933, 262.6359914782734, 224.22678621532688, 171.28435101079833, 151.56069837642002, 126.64660758199464, 113.15147764622269, 104.84678587049784, 104.84678587049784, 85.12313323611954, 84.08504096393487, 80.9707796146317, 156.75113653646713, 77.85651826532853, 70.58991102816293, 68.51374195104441, 65.39948060174125, 65.39948060174125, 119.38000034482904, 118.34191580626978, 92.38974047328514, 134.9512993577195, 99.65634771045075, 228.3791243695639, 295.85478951567444, 632.1949843059156, 1220.7902633198344, 240.8361697667766, 919.7450356441127, 601.052355345633, 483.7485086106717, 549.1479737451622, 179.58904278652318, 171.28435101079833, 254.33129970254853, 286.51201320139035, 237.72191615109884, 235.6457316067295, 212.80782535667345, 207.61738719662634, 201.38886449801998, 12.994208422295433, 121.27928100323861, 73.63384712755382, 14.077059273850129, 23.822715141481474, 1518.1567483744493, 54.14253718865204, 99.62226756486652, 7.579955062702413, 82.29665393999139, 1.0828507392821385, 3.248552105573858, 3.248552105573858, 6.497104211147716, 60.639640501619304, 1.0828507392821385, 2.165701478564277, 1.0828507392821385, 33.568373703654196, 1.0828507392821385, 9.745656765811804, 107.20222083120801, 1.0828507392821385, 1.0828507392821385, 166.75901497217492, 66.05389386121232, 3.248552105573858, 81.21380757933898, 1.0828507392821385, 2.165701478564277, 309.69529504289824, 293.4525421495629, 246.8899761908615, 183.00176786551032, 179.75321441266576, 171.09041478567187, 106.11936728511195, 243.6414083671296, 100.70511392551892, 96.37371411202197, 94.2080142052735, 83.37950748608746, 83.37950748608746, 82.29665393999139, 81.21380757933898, 80.13095403324292, 79.04810048714684, 79.04810048714684, 77.96525412649443, 73.63384712755382, 71.46814722080535, 128.8592342695801, 166.75901497217492, 101.78796747161499, 93.12516065917742, 204.6587813038824, 240.39285491428507, 635.6333717209066, 221.98439492875752, 225.23294838160206, 223.06725566029726, 271.7955287111908, 152.68195480014433, 253.38708309655058, 210.07304184891908, 188.416028410547, 271.7955287111908, 122.362127363891, 142.9362944416107, 135.3563411752692, 238.22716219298024, 215.48728802306843, 192.74742822404394, 139.68774098876614, 183.00176786551032, 141.8534480809583, 650.4701090164743, 6.3357479001600785, 8.447664178783452, 529.0349473240915, 22.175117182705254, 1.0559580223479315, 23.23107532201694, 8.447664178783452, 230.19883319870587, 15.839370218255217, 42.23831808678713, 7.391705571616744, 95.03621382385097, 111.93154405283796, 60.18960458366573, 19.007242764770194, 31.678740436510434, 10.559579521696783, 20.06320090408188, 120.37920916733145, 4.223832089391726, 93.98026129879953, 22.175117182705254, 79.19685109127609, 86.58855619503781, 4.223832089391726, 771.9052707088572, 19.007242764770194, 13.727453939631843, 17.951284625458506, 384.36869533833095, 590.2805081756488, 168.95327234714853, 123.54708171384642, 144.66623701439983, 58.07768830504235, 58.07768830504235, 54.90981575852737, 54.90981575852737, 50.68598320128063, 48.57406692265725, 46.46215064403388, 46.46215064403388, 45.40619437614228, 43.294278097518905, 41.18236181889553, 40.12640180816376, 40.12640180816376, 1205.90405660886, 70.7491859767826, 68.63726595531905, 3680.0136308034266, 2591.320955729465, 1758.170004398165, 114.0434640743015, 537.4826274099456, 200.63201278365898, 118.2672891458679, 134.10666684980347, 317.84333443311476, 151.00198210742977, 201.68797279439073, 1265.037697438954, 700.1001097499822, 191.1283876584337, 406.5438256209768, 184.79264256540375, 179.51285748310556, 272.43714379981265, 529.0349473240915, 204.85585282658604, 209.07967789815245, 215.41542299118242, 277.7169438534715, 204.85585282658604, 181.62477750456912, 166.841352325685, 134.91056392550797, 9.198447809010432, 1.0220497770774353, 87.89628366051888, 293.32829950333735, 49.0583883147223, 456.85625004580277, 3.066149269670144, 3.066149269670144, 685.7954060211158, 40.881991575594704, 4.088199108309741, 4.088199108309741, 26.57329432713764, 30.66149269670144, 30.66149269670144, 12.264597078680575, 19.41894570290911, 1.0220497770774353, 52.124538569387035, 20.440995787797352, 4.088199108309741, 65.41118573295586, 268.7990974660195, 18.396895618020864, 2.0440995541548705, 348.5189804474324, 158.41771981791595, 38.83789140581822, 40.881991575594704, 875.8966508907188, 592.7888443563072, 451.7460035613399, 297.4164840829769, 260.62269678691354, 170.68230507666146, 131.8444176108216, 131.8444176108216, 130.82237146591171, 117.53572430234289, 103.22703099386418, 99.1388306543112, 93.00653014498174, 91.98447612011515, 91.98447612011515, 90.96242997520525, 89.94038383029536, 83.80808332096589, 81.76398315118941, 72.56553632717356, 71.54348230230697, 68.47733598762059, 1053.7333420214031, 131.8444176108216, 393.4891684226017, 471.16495911419486, 266.7550051761997, 455.83418814097945, 313.7692854411888, 814.5736930771644, 332.1661790892205, 939.2637325139199, 439.48141830259436, 634.6929411764871, 343.40873396296956, 431.3050176234884, 156.37361176818274, 212.5863546171011, 173.74845927130454, 181.9248599504105, 175.79256732103775, 171.70436698148478, 187.03510643487337, 3.1468746515003283, 6.293749303000657, 1062.5947624225605, 12.587498606001313, 9.440623954500985, 9.440623954500985, 12.587498606001313, 92.3083231106763, 9.440623954500985, 70.280200550174, 6.293749303000657, 3.1468746515003283, 9.440623954500985, 12.587498606001313, 9.440623954500985, 9.440623954500985, 73.42707520167433, 6.293749303000657, 36.713537600837164, 25.174997212002626, 3.1468746515003283, 25.174997212002626, 6.293749303000657, 80.76978272184176, 3.1468746515003283, 6.293749303000657, 9.440623954500985, 6.293749303000657, 73.42707520167433, 9.440623954500985, 1341.6175892338456, 1191.6165347014578, 323.07913088736706, 295.8062172410309, 294.7572590238641, 221.33018382218978, 194.0572701758536, 246.5051957729618, 153.1478997063493, 151.04998327201577, 144.7562339690151, 127.9729024943467, 123.77706962567959, 119.58124412639718, 110.1406128025115, 93.35728132784308, 92.3083231106763, 88.1124902420092, 86.01457380767565, 83.91665737334209, 82.86769915617532, 81.81874093900853, 218.18330917068945, 78.67186628750821, 76.57394985317465, 74.47603341884111, 124.82602784284636, 858.047821642423, 584.2697564394331, 209.79164343335523, 152.09894148918255, 396.50620608904137, 453.1499498160473, 168.88227296385097, 831.8238956907923, 608.3957659567302, 203.49789413035458, 686.0186740270716, 132.1687353630138, 362.93954313970454, 152.09894148918255, 311.54059049853254, 238.11353003562758, 313.63850693286605, 213.98747630202234, 258.0437214230269, 290.561426155197, 184.6166462213526, 234.96665538412725, 196.15518661018714, 213.98747630202234, 198.25310304452069, 194.0572701758536, 154.01156309105065, 33.29979639464807, 84.2901098622431, 11.446805725530774, 149.84908758855897, 10.406186849907854, 24.974849202307386, 93.65568355549203, 1.0406186373327522, 74.92454379427949, 3.1218561502884232, 30.177941674100648, 1.0406186373327522, 24.974849202307386, 79.08701929677116, 183.1488916084924, 21.852992575438627, 12.487424601153693, 1.0406186373327522, 54.11217009446378, 1.0406186373327522, 5.203093424953927, 3.1218561502884232, 17.690517072946953, 12.487424601153693, 60.355883348201296, 17.690517072946953, 19.77175482419279, 1.0406186373327522, 71.8026909800534, 287.2107639202136, 181.06764623196122, 180.02703879426628, 130.0773327643662, 108.22434018892756, 92.61506086722645, 65.55897772631589, 64.5183550380503, 58.27464559695546, 58.27464559695546, 46.827841777746016, 42.665366275254335, 41.62474739963142, 40.5841285240085, 40.5841285240085, 103.02124962345563, 38.50289077276266, 36.421653021516825, 35.381034145893906, 34.34041527027099, 343.40417557856586, 74.92454379427949, 390.23199829309857, 67.64021547756172, 101.98062693519005, 987.5471032708033, 133.19918557859228, 390.23199829309857, 246.6266315835624, 1416.2820647768751, 298.65756773942303, 312.18561693516364, 798.154536535, 169.62084241275178, 710.7425357321042, 138.40228376934954, 245.58600889529686, 886.6071142744495, 547.365429448946, 663.9147435187128, 267.4390090960208, 351.7291265835492, 368.3789980923746, 219.57054844265187, 543.2029386958836, 606.6806939215244, 212.28620487536344, 268.4796165337157, 336.1198320112774, 479.7252139713842, 319.46993000131073, 665.9959583941027, 616.0462523642026, 485.96891959983645, 322.5917828155369, 246.6266315835624, 228.93610688533013, 43.88109674723328, 1.0702706407677907, 12.843247689213488, 14.98378897074907, 1.0702706407677907, 1.0702706407677907, 3.210811922303372, 70.63786324218191, 20.335141698834157, 12.843247689213488, 12.843247689213488, 202.28114967785083, 1.0702706407677907, 43.88109674723328, 17.12433025228465, 23.545953145383667, 17.12433025228465, 53.513529183866346, 7.491894485374535, 7.491894485374535, 47.091906290767334, 18.194601368806303, 157.32977800806498, 16.054059135762994, 62.07569431000867, 11.772976572691833, 34.2486605045693, 54.583800300388, 18.194601368806303, 35.318931621090954, 693.5353790235592, 353.18931621090957, 393.8595881904851, 148.76760907589176, 126.29193085306065, 99.53516816414293, 85.62165126142325, 78.12975344577167, 77.05948232925002, 142.34599760088548, 66.3567787760953, 64.21623654305198, 62.07569431000867, 59.93515588299628, 55.65407141690966, 53.513529183866346, 50.30271964033229, 50.30271964033229, 49.23244852381064, 49.23244852381064, 48.162177407288986, 48.162177407288986, 48.162177407288986, 436.670402403104, 77.05948232925002, 81.34056679533663, 66.3567787760953, 113.44868506686262, 64.21623654305198, 64.21623654305198, 366.0325391609221, 69.56759212566025, 1520.8545105952126, 683.902954198988, 1048.8651461227703, 208.70277637698075, 133.78382866871223, 264.35682876373585, 192.64870962915595, 436.670402403104, 252.5838617061213, 505.1677234122426, 235.45953906589847, 754.5407565446753, 662.4975318685549, 300.7460467254721, 130.57301531914726, 171.2433025228465, 150.90815130893506, 631.4596847135506, 267.56765733742446, 174.45411587241145, 343.556860938091, 275.0595399289524, 174.45411587241145, 282.55145296872763, 169.1027602898032, 161.61086247415162, 174.45411587241145], \"Total\": [4402.0, 4377.0, 3076.0, 2539.0, 2334.0, 2442.0, 3074.0, 1518.0, 2102.0, 1341.0, 1293.0, 1191.0, 1772.0, 1674.0, 1319.0, 2170.0, 3249.0, 1062.0, 1676.0, 1091.0, 1528.0, 2219.0, 1898.0, 1144.0, 918.0, 1236.0, 1519.0, 875.0, 958.0, 771.0, 11.860289863820189, 625.3607275955111, 373.06002610890823, 74.39636963338462, 387.0767485879257, 22.64237147208408, 254.45714831128655, 231.81475978781867, 10.78208160826389, 9.70387335270759, 50.675784221949655, 49.59757596639336, 161.73122317665926, 31.26803751653447, 14.016706374932786, 6.469249059688244, 30.189829260978172, 154.18376538776516, 33.424455922245265, 2.1564165111125977, 64.69249533337793, 67.92712010004684, 53.91040898861855, 94.88231891056151, 89.49127763278001, 412.9537467212769, 14.016706374932786, 5.391040804131945, 1.0782082555562988, 1.0782082555562988, 360.09229216062874, 285.72983020614504, 344.96811138766543, 181.13897177667263, 146.63632275565664, 219.9465313619109, 113.2118592550186, 107.8208179772371, 99.19515193278671, 88.41306937722372, 87.33486112166742, 86.25665286611112, 80.86561158832963, 76.55277856610444, 71.16174486671572, 65.77070358893423, 65.77070358893423, 135.87225796267367, 133.66023407075753, 373.18656046006583, 128.3114248949254, 2539.371026542667, 769.5746016143426, 747.2059312569653, 106.5919191106575, 1055.6117619807446, 258.43658730711655, 278.09890950189566, 3249.316460115988, 297.3717191262582, 1772.6923100544932, 457.64416537385443, 1445.1090363211404, 3074.2399767996844, 1075.6161893156068, 395.73763520082537, 305.3912392148283, 268.21880383439975, 837.760707052977, 958.293583319536, 1519.8246786389614, 544.8243003754186, 7.673582235987399, 47.1377184527619, 21.924519926593476, 2.192452036272628, 634.7148301554676, 46.04148992686196, 88.79430125414898, 1.096226018136314, 1.096226018136314, 160.04898796264814, 109.62259439937374, 6.577355890751482, 47.1377184527619, 5.481129981648369, 9.866034054193625, 1.096226018136314, 4.384904072545256, 95.37165845329888, 7.673582235987399, 61.38865788789919, 1.096226018136314, 49.33016852643691, 4.384904072545256, 206.09048835669742, 48.233943489599405, 14.250937690606078, 142.50937341699833, 7.673582235987399, 16.443389508812302, 419.85454150407, 191.8395384543728, 152.37540921572318, 145.79805201657328, 141.41315186922327, 119.48863717622343, 116.19995159852363, 111.8150514511736, 104.14146572612378, 100.85278712654883, 95.37165845329888, 92.08297985372393, 88.79430125414898, 88.79430125414898, 87.6980797063739, 87.6980797063739, 85.50562265457403, 83.31317258089902, 82.21695103312395, 80.02449398132407, 77.83204390764907, 77.83204390764907, 147.93236051966556, 143.5583316341651, 319.0222791072343, 361.11190026616, 240.02768024916494, 626.7215146294117, 143.64529214776624, 418.08046012914053, 304.54965208200707, 2539.371026542667, 182.85177770157767, 155.4087212531506, 1676.562803052856, 348.7917372473007, 534.8870779824167, 398.64947190234216, 393.5874946159447, 2219.660794128197, 340.87261248457656, 305.1777394560587, 386.5458793246569, 409.1723272303615, 3249.316460115988, 1075.6161893156068, 623.7589789531228, 1898.2522164940972, 673.8883403976633, 1445.1090363211404, 1616.456886424423, 63.47267466033605, 28.09446223878184, 64.51320929996747, 1.0405356028004737, 23.932319827579946, 1.0405356028004737, 8.32428482240379, 4.162142411201895, 191.45855862063956, 4.162142411201895, 168.56677343269106, 329.8498005352859, 2.0810712056009475, 1.0405356028004737, 1.0405356028004737, 4.162142411201895, 28.09446223878184, 1.0405356028004737, 63.47267466033605, 21.851248621979, 4.162142411201895, 1.0405356028004737, 1.0405356028004737, 1.0405356028004737, 1.0405356028004737, 4.162142411201895, 22.89178518794852, 2.0810712056009475, 22.89178518794852, 1.0405356028004737, 4402.506647295559, 572.2945834665987, 203.94498970692146, 201.86391272230622, 152.9587345748387, 143.59392667083208, 127.98588781297973, 204.00068493810255, 116.53999521900546, 114.45892593974261, 111.33731816817215, 109.2562411835569, 106.13463341198643, 96.76981780262741, 85.32392520865315, 75.95910189394174, 69.7158863508008, 69.7158863508008, 68.67535556384557, 68.67535556384557, 67.63481707153795, 65.55374779227509, 64.51320929996747, 62.43214002070462, 125.83087137814852, 599.9581806942854, 203.93799454928802, 294.7911709190059, 147.72912095516867, 146.1404609268614, 352.90684705194263, 584.0863245372852, 270.42417558853765, 419.61865425109943, 454.695916611227, 320.1947652565323, 268.4450443287789, 522.4071956724309, 601.2853567528504, 2219.660794128197, 1898.2522164940972, 2334.553407848988, 418.8313203726217, 837.760707052977, 281.9335974487808, 437.07083547401436, 1616.456886424423, 741.3783339446667, 1291.5734657247085, 911.1923148084963, 1073.7281720310011, 22.83791205027512, 540.8432974366881, 21.799825578309513, 143.25600660069517, 96.54208636114757, 749.4988001063754, 7.266608687220367, 501.39599216793147, 41.52347821268781, 1.0380869553171952, 49.82817385522537, 98.61826317189148, 1.0380869553171952, 23.87600045564708, 1.0380869553171952, 376.8255691303062, 13.495129935771951, 1.0380869553171952, 29.066434748881466, 25.952173399578292, 1.0380869553171952, 11.41895602513756, 33.218782570150246, 11.41895602513756, 40.48538980731585, 135.98938389627875, 59.17095790313489, 33.218782570150246, 13.495129935771951, 8.304695642537562, 1293.4563975604935, 918.7069356383026, 433.92035795632256, 300.0071276699115, 691.6066531028815, 262.6359914782734, 224.22678621532688, 171.28435101079833, 151.56069837642002, 126.64660758199464, 113.15147764622269, 104.84678587049784, 104.84678587049784, 85.12313323611954, 84.08504096393487, 80.9707796146317, 157.82934479202342, 77.85651826532853, 70.58991102816293, 68.51374195104441, 65.39948060174125, 65.39948060174125, 120.46285108411118, 119.42012406182609, 93.47259121256728, 139.2641323799447, 101.7374189160517, 264.7683271071765, 360.3731445537247, 928.6813236387344, 2170.378890061531, 301.4758102683959, 1674.285792188788, 1236.6857270665396, 915.6631922579825, 1138.5669392147113, 253.03617956869738, 249.33075524458923, 691.0017021056525, 959.2135680687775, 718.1594044394625, 987.4674305840335, 1098.3233272494588, 1177.998299042322, 1445.1090363211404, 12.994208422295433, 121.27928100323861, 73.63384712755382, 14.077059273850129, 23.822715141481474, 1518.1567483744493, 54.14253718865204, 99.62226756486652, 7.579955062702413, 82.29665393999139, 1.0828507392821385, 3.248552105573858, 3.248552105573858, 6.497104211147716, 60.639640501619304, 1.0828507392821385, 2.165701478564277, 1.0828507392821385, 33.568373703654196, 1.0828507392821385, 9.745656765811804, 107.20222083120801, 1.0828507392821385, 1.0828507392821385, 166.75901497217492, 66.05389386121232, 3.248552105573858, 81.21380757933898, 1.0828507392821385, 2.165701478564277, 309.69529504289824, 293.4525421495629, 246.8899761908615, 183.00176786551032, 179.75321441266576, 171.09041478567187, 106.11936728511195, 245.75332441182547, 100.70511392551892, 96.37371411202197, 94.2080142052735, 83.37950748608746, 83.37950748608746, 82.29665393999139, 81.21380757933898, 80.13095403324292, 79.04810048714684, 79.04810048714684, 77.96525412649443, 73.63384712755382, 71.46814722080535, 129.91519229192804, 170.92115738337682, 102.85823811238278, 94.20336891473373, 221.01157773712134, 298.525724412048, 1236.6857270665396, 392.21497453784826, 417.03623236867827, 435.07784952997343, 761.4049878175375, 284.2992821906599, 907.8743299682891, 606.5792479379604, 482.6298821284578, 1291.5734657247085, 191.42436399871517, 305.1777394560587, 260.9369619192374, 1616.456886424423, 1384.5927767139283, 958.293583319536, 319.1991011619182, 3249.316460115988, 505.21538352523555, 650.4701090164743, 6.3357479001600785, 8.447664178783452, 529.0349473240915, 22.175117182705254, 1.0559580223479315, 23.23107532201694, 8.447664178783452, 230.19883319870587, 15.839370218255217, 42.23831808678713, 7.391705571616744, 95.03621382385097, 111.93154405283796, 60.18960458366573, 19.007242764770194, 31.678740436510434, 10.559579521696783, 20.06320090408188, 120.37920916733145, 4.223832089391726, 93.98026129879953, 22.175117182705254, 79.19685109127609, 86.58855619503781, 4.223832089391726, 771.9052707088572, 19.007242764770194, 13.727453939631843, 17.951284625458506, 384.36869533833095, 593.5691861210246, 168.95327234714853, 123.54708171384642, 145.76246303253615, 58.07768830504235, 58.07768830504235, 54.90981575852737, 54.90981575852737, 50.68598320128063, 48.57406692265725, 46.46215064403388, 46.46215064403388, 45.40619437614228, 43.294278097518905, 41.18236181889553, 40.12640180816376, 40.12640180816376, 1319.0555342550826, 71.79814419394937, 69.67788459265181, 4377.221662112404, 3076.477903141433, 2442.3920270425224, 125.00572403759824, 747.2234084453909, 253.69169642621495, 136.90313047288643, 159.11116781725573, 464.5588688755173, 189.6419790771194, 275.1351095765649, 3074.2399767996844, 1519.8246786389614, 276.4513547397996, 958.293583319536, 292.009148274072, 304.0993924441977, 673.8883403976633, 3249.316460115988, 433.7919597119162, 459.25122776782695, 534.8870779824167, 1055.6117619807446, 598.7297082404916, 435.56511736397243, 907.8743299682891, 134.91056392550797, 9.198447809010432, 1.0220497770774353, 87.89628366051888, 293.32829950333735, 49.0583883147223, 456.85625004580277, 3.066149269670144, 3.066149269670144, 685.7954060211158, 40.881991575594704, 4.088199108309741, 4.088199108309741, 26.57329432713764, 30.66149269670144, 30.66149269670144, 12.264597078680575, 19.41894570290911, 1.0220497770774353, 52.124538569387035, 20.440995787797352, 4.088199108309741, 65.41118573295586, 268.7990974660195, 18.396895618020864, 2.0440995541548705, 348.5189804474324, 158.41771981791595, 38.83789140581822, 40.881991575594704, 875.8966508907188, 592.7888443563072, 451.7460035613399, 297.4164840829769, 260.62269678691354, 170.68230507666146, 131.8444176108216, 131.8444176108216, 130.82237146591171, 117.53572430234289, 103.22703099386418, 99.1388306543112, 93.00653014498174, 91.98447612011515, 91.98447612011515, 90.96242997520525, 89.94038383029536, 83.80808332096589, 81.76398315118941, 72.56553632717356, 71.54348230230697, 68.47733598762059, 1091.19262372222, 135.08582786426103, 446.1080155486136, 556.488884322848, 313.846911466967, 604.9751158203653, 411.16391137228845, 1528.8131644148916, 488.9264884522937, 3074.2399767996844, 1098.3233272494588, 2219.660794128197, 849.6593081144943, 1384.5927767139283, 263.5487836724768, 907.8743299682891, 438.2556436103656, 573.5170011334637, 571.239029920907, 522.4071956724309, 1073.7281720310011, 3.1468746515003283, 6.293749303000657, 1062.5947624225605, 12.587498606001313, 9.440623954500985, 9.440623954500985, 12.587498606001313, 92.3083231106763, 9.440623954500985, 70.280200550174, 6.293749303000657, 3.1468746515003283, 9.440623954500985, 12.587498606001313, 9.440623954500985, 9.440623954500985, 73.42707520167433, 6.293749303000657, 36.713537600837164, 25.174997212002626, 3.1468746515003283, 25.174997212002626, 6.293749303000657, 80.76978272184176, 3.1468746515003283, 6.293749303000657, 9.440623954500985, 6.293749303000657, 73.42707520167433, 9.440623954500985, 1341.6175892338456, 1191.6165347014578, 323.07913088736706, 295.8062172410309, 294.7572590238641, 221.33018382218978, 194.0572701758536, 247.543282728279, 153.1478997063493, 151.04998327201577, 144.7562339690151, 127.9729024943467, 123.77706962567959, 119.58124412639718, 110.1406128025115, 93.35728132784308, 92.3083231106763, 88.1124902420092, 86.01457380767565, 83.91665737334209, 82.86769915617532, 81.81874093900853, 220.3757612069621, 78.67186628750821, 76.57394985317465, 74.47603341884111, 125.92225386098268, 958.7422538914329, 676.2111505148495, 245.9671010505548, 169.7464192462233, 606.5792479379604, 741.3783339446667, 210.53885925430046, 1898.2522164940972, 1519.8246786389614, 308.8285596451759, 2102.300738803947, 162.48855561382345, 915.6631922579825, 215.5716161495186, 1138.5669392147113, 673.8883403976633, 1616.456886424423, 573.5170011334637, 1214.6159777759428, 3076.477903141433, 516.2281981925196, 3249.316460115988, 928.6813236387344, 2170.378890061531, 2442.3920270425224, 1676.562803052856, 154.01156309105065, 33.29979639464807, 84.2901098622431, 11.446805725530774, 149.84908758855897, 10.406186849907854, 24.974849202307386, 93.65568355549203, 1.0406186373327522, 74.92454379427949, 3.1218561502884232, 30.177941674100648, 1.0406186373327522, 24.974849202307386, 79.08701929677116, 183.1488916084924, 21.852992575438627, 12.487424601153693, 1.0406186373327522, 54.11217009446378, 1.0406186373327522, 5.203093424953927, 3.1218561502884232, 17.690517072946953, 12.487424601153693, 60.355883348201296, 17.690517072946953, 19.77175482419279, 1.0406186373327522, 71.8026909800534, 287.2107639202136, 181.06764623196122, 180.02703879426628, 130.0773327643662, 108.22434018892756, 92.61506086722645, 65.55897772631589, 64.5183550380503, 58.27464559695546, 58.27464559695546, 46.827841777746016, 42.665366275254335, 41.62474739963142, 40.5841285240085, 40.5841285240085, 104.04329940053307, 38.50289077276266, 36.421653021516825, 35.381034145893906, 34.34041527027099, 356.3983840008613, 75.99481443504727, 414.3580372879344, 68.71048611832951, 105.14850088527008, 1144.9200858842091, 142.62221077692524, 454.7749435942024, 293.4507365990909, 2102.300738803947, 373.20093304749713, 396.10927411368687, 1214.6159777759428, 204.2720660697802, 1177.998299042322, 164.32570601720514, 339.34044364181597, 1772.6923100544932, 959.2135680687775, 1291.5734657247085, 390.7215016441308, 562.0306491524054, 623.7589789531228, 304.16904387389906, 1073.7281720310011, 1384.5927767139283, 321.9412010411727, 505.21538352523555, 768.7848225481457, 1616.456886424423, 717.7014354525064, 3249.316460115988, 4377.221662112404, 2442.3920270425224, 911.1923148084963, 527.0744475847105, 433.7919597119162, 43.88109674723328, 1.0702706407677907, 12.843247689213488, 14.98378897074907, 1.0702706407677907, 1.0702706407677907, 3.210811922303372, 70.63786324218191, 20.335141698834157, 12.843247689213488, 12.843247689213488, 202.28114967785083, 1.0702706407677907, 43.88109674723328, 17.12433025228465, 23.545953145383667, 17.12433025228465, 53.513529183866346, 7.491894485374535, 7.491894485374535, 47.091906290767334, 18.194601368806303, 157.32977800806498, 16.054059135762994, 62.07569431000867, 11.772976572691833, 34.2486605045693, 54.583800300388, 18.194601368806303, 35.318931621090954, 693.5353790235592, 353.18931621090957, 394.915546212833, 148.76760907589176, 126.29193085306065, 99.53516816414293, 85.62165126142325, 78.12975344577167, 77.05948232925002, 143.40195562323342, 66.3567787760953, 64.21623654305198, 62.07569431000867, 59.93515588299628, 55.65407141690966, 53.513529183866346, 50.30271964033229, 50.30271964033229, 49.23244852381064, 49.23244852381064, 48.162177407288986, 48.162177407288986, 48.162177407288986, 466.21036473963335, 78.13769058480632, 83.42180407000214, 67.4349870316516, 118.83972587099457, 65.29444479860828, 65.3124625611883, 438.87003328329337, 71.76004416193288, 2334.553407848988, 987.4674305840335, 1676.562803052856, 263.5140735766676, 156.26892462628606, 353.15113001788484, 249.87817259902727, 691.0017021056525, 351.24419875899514, 849.6593081144943, 338.50478324424716, 1674.285792188788, 1528.8131644148916, 516.2281981925196, 168.44501481074528, 254.1807285038968, 212.63064535665043, 2170.378890061531, 598.7297082404916, 290.90059989409895, 1075.6161893156068, 907.8743299682891, 393.5874946159447, 2219.660794128197, 418.8313203726217, 418.08046012914053, 1445.1090363211404], \"Category\": [\"Default\", \"Default\", \"Default\", \"Default\", \"Default\", \"Default\", \"Default\", \"Default\", \"Default\", \"Default\", \"Default\", \"Default\", \"Default\", \"Default\", \"Default\", \"Default\", \"Default\", \"Default\", \"Default\", \"Default\", \"Default\", \"Default\", \"Default\", \"Default\", \"Default\", \"Default\", \"Default\", \"Default\", \"Default\", \"Default\", \"Topic1\", \"Topic1\", \"Topic1\", \"Topic1\", \"Topic1\", \"Topic1\", \"Topic1\", \"Topic1\", \"Topic1\", \"Topic1\", \"Topic1\", \"Topic1\", \"Topic1\", \"Topic1\", \"Topic1\", \"Topic1\", \"Topic1\", \"Topic1\", \"Topic1\", \"Topic1\", \"Topic1\", \"Topic1\", \"Topic1\", \"Topic1\", \"Topic1\", \"Topic1\", \"Topic1\", \"Topic1\", \"Topic1\", \"Topic1\", \"Topic1\", \"Topic1\", \"Topic1\", \"Topic1\", \"Topic1\", \"Topic1\", \"Topic1\", \"Topic1\", \"Topic1\", \"Topic1\", \"Topic1\", \"Topic1\", \"Topic1\", \"Topic1\", \"Topic1\", \"Topic1\", \"Topic1\", \"Topic1\", \"Topic1\", \"Topic1\", \"Topic1\", \"Topic1\", \"Topic1\", \"Topic1\", \"Topic1\", \"Topic1\", \"Topic1\", \"Topic1\", \"Topic1\", \"Topic1\", \"Topic1\", \"Topic1\", \"Topic1\", \"Topic1\", \"Topic1\", \"Topic1\", \"Topic1\", \"Topic1\", \"Topic1\", \"Topic1\", \"Topic1\", \"Topic2\", \"Topic2\", \"Topic2\", \"Topic2\", \"Topic2\", \"Topic2\", \"Topic2\", \"Topic2\", \"Topic2\", \"Topic2\", \"Topic2\", \"Topic2\", \"Topic2\", \"Topic2\", \"Topic2\", \"Topic2\", \"Topic2\", \"Topic2\", \"Topic2\", \"Topic2\", \"Topic2\", \"Topic2\", \"Topic2\", \"Topic2\", \"Topic2\", \"Topic2\", \"Topic2\", \"Topic2\", \"Topic2\", \"Topic2\", \"Topic2\", \"Topic2\", \"Topic2\", \"Topic2\", \"Topic2\", \"Topic2\", \"Topic2\", \"Topic2\", \"Topic2\", \"Topic2\", \"Topic2\", \"Topic2\", \"Topic2\", \"Topic2\", \"Topic2\", \"Topic2\", \"Topic2\", \"Topic2\", \"Topic2\", \"Topic2\", \"Topic2\", \"Topic2\", \"Topic2\", \"Topic2\", \"Topic2\", \"Topic2\", \"Topic2\", \"Topic2\", \"Topic2\", \"Topic2\", \"Topic2\", \"Topic2\", \"Topic2\", \"Topic2\", \"Topic2\", \"Topic2\", \"Topic2\", \"Topic2\", \"Topic2\", \"Topic2\", \"Topic2\", \"Topic2\", \"Topic2\", \"Topic2\", \"Topic2\", \"Topic2\", \"Topic2\", \"Topic2\", \"Topic2\", \"Topic2\", \"Topic2\", \"Topic3\", \"Topic3\", \"Topic3\", \"Topic3\", \"Topic3\", \"Topic3\", \"Topic3\", \"Topic3\", \"Topic3\", \"Topic3\", \"Topic3\", \"Topic3\", \"Topic3\", \"Topic3\", \"Topic3\", \"Topic3\", \"Topic3\", \"Topic3\", \"Topic3\", \"Topic3\", \"Topic3\", \"Topic3\", \"Topic3\", \"Topic3\", \"Topic3\", \"Topic3\", \"Topic3\", \"Topic3\", \"Topic3\", \"Topic3\", \"Topic3\", \"Topic3\", \"Topic3\", \"Topic3\", \"Topic3\", \"Topic3\", \"Topic3\", \"Topic3\", \"Topic3\", \"Topic3\", \"Topic3\", \"Topic3\", \"Topic3\", \"Topic3\", \"Topic3\", \"Topic3\", \"Topic3\", \"Topic3\", \"Topic3\", \"Topic3\", \"Topic3\", \"Topic3\", \"Topic3\", \"Topic3\", \"Topic3\", \"Topic3\", \"Topic3\", \"Topic3\", \"Topic3\", \"Topic3\", \"Topic3\", \"Topic3\", \"Topic3\", \"Topic3\", \"Topic3\", \"Topic3\", \"Topic3\", \"Topic3\", \"Topic3\", \"Topic3\", \"Topic3\", \"Topic3\", \"Topic3\", \"Topic3\", \"Topic3\", \"Topic3\", \"Topic3\", \"Topic3\", \"Topic3\", \"Topic3\", \"Topic3\", \"Topic4\", \"Topic4\", \"Topic4\", \"Topic4\", \"Topic4\", \"Topic4\", \"Topic4\", \"Topic4\", \"Topic4\", \"Topic4\", \"Topic4\", \"Topic4\", \"Topic4\", \"Topic4\", \"Topic4\", \"Topic4\", \"Topic4\", \"Topic4\", \"Topic4\", \"Topic4\", \"Topic4\", \"Topic4\", \"Topic4\", \"Topic4\", \"Topic4\", \"Topic4\", \"Topic4\", \"Topic4\", \"Topic4\", \"Topic4\", \"Topic4\", \"Topic4\", \"Topic4\", \"Topic4\", \"Topic4\", \"Topic4\", \"Topic4\", \"Topic4\", \"Topic4\", \"Topic4\", \"Topic4\", \"Topic4\", \"Topic4\", \"Topic4\", \"Topic4\", \"Topic4\", \"Topic4\", \"Topic4\", \"Topic4\", \"Topic4\", \"Topic4\", \"Topic4\", \"Topic4\", \"Topic4\", \"Topic4\", \"Topic4\", \"Topic4\", \"Topic4\", \"Topic4\", \"Topic4\", \"Topic4\", \"Topic4\", \"Topic4\", \"Topic4\", \"Topic4\", \"Topic4\", \"Topic4\", \"Topic4\", \"Topic4\", \"Topic4\", \"Topic4\", \"Topic4\", \"Topic4\", \"Topic4\", \"Topic4\", \"Topic5\", \"Topic5\", \"Topic5\", \"Topic5\", \"Topic5\", \"Topic5\", \"Topic5\", \"Topic5\", \"Topic5\", \"Topic5\", \"Topic5\", \"Topic5\", \"Topic5\", \"Topic5\", \"Topic5\", \"Topic5\", \"Topic5\", \"Topic5\", \"Topic5\", \"Topic5\", \"Topic5\", \"Topic5\", \"Topic5\", \"Topic5\", \"Topic5\", \"Topic5\", \"Topic5\", \"Topic5\", \"Topic5\", \"Topic5\", \"Topic5\", \"Topic5\", \"Topic5\", \"Topic5\", \"Topic5\", \"Topic5\", \"Topic5\", \"Topic5\", \"Topic5\", \"Topic5\", \"Topic5\", \"Topic5\", \"Topic5\", \"Topic5\", \"Topic5\", \"Topic5\", \"Topic5\", \"Topic5\", \"Topic5\", \"Topic5\", \"Topic5\", \"Topic5\", \"Topic5\", \"Topic5\", \"Topic5\", \"Topic5\", \"Topic5\", \"Topic5\", \"Topic5\", \"Topic5\", \"Topic5\", \"Topic5\", \"Topic5\", \"Topic5\", \"Topic5\", \"Topic5\", \"Topic5\", \"Topic5\", \"Topic5\", \"Topic5\", \"Topic5\", \"Topic5\", \"Topic5\", \"Topic5\", \"Topic5\", \"Topic5\", \"Topic6\", \"Topic6\", \"Topic6\", \"Topic6\", \"Topic6\", \"Topic6\", \"Topic6\", \"Topic6\", \"Topic6\", \"Topic6\", \"Topic6\", \"Topic6\", \"Topic6\", \"Topic6\", \"Topic6\", \"Topic6\", \"Topic6\", \"Topic6\", \"Topic6\", \"Topic6\", \"Topic6\", \"Topic6\", \"Topic6\", \"Topic6\", \"Topic6\", \"Topic6\", \"Topic6\", \"Topic6\", \"Topic6\", \"Topic6\", \"Topic6\", \"Topic6\", \"Topic6\", \"Topic6\", \"Topic6\", \"Topic6\", \"Topic6\", \"Topic6\", \"Topic6\", \"Topic6\", \"Topic6\", \"Topic6\", \"Topic6\", \"Topic6\", \"Topic6\", \"Topic6\", \"Topic6\", \"Topic6\", \"Topic6\", \"Topic6\", \"Topic6\", \"Topic6\", \"Topic6\", \"Topic6\", \"Topic6\", \"Topic6\", \"Topic6\", \"Topic6\", \"Topic6\", \"Topic6\", \"Topic6\", \"Topic6\", \"Topic6\", \"Topic6\", \"Topic6\", \"Topic6\", \"Topic6\", \"Topic6\", \"Topic6\", \"Topic6\", \"Topic6\", \"Topic6\", \"Topic6\", \"Topic6\", \"Topic6\", \"Topic6\", \"Topic6\", \"Topic7\", \"Topic7\", \"Topic7\", \"Topic7\", \"Topic7\", \"Topic7\", \"Topic7\", \"Topic7\", \"Topic7\", \"Topic7\", \"Topic7\", \"Topic7\", \"Topic7\", \"Topic7\", \"Topic7\", \"Topic7\", \"Topic7\", \"Topic7\", \"Topic7\", \"Topic7\", \"Topic7\", \"Topic7\", \"Topic7\", \"Topic7\", \"Topic7\", \"Topic7\", \"Topic7\", \"Topic7\", \"Topic7\", \"Topic7\", \"Topic7\", \"Topic7\", \"Topic7\", \"Topic7\", \"Topic7\", \"Topic7\", \"Topic7\", \"Topic7\", \"Topic7\", \"Topic7\", \"Topic7\", \"Topic7\", \"Topic7\", \"Topic7\", \"Topic7\", \"Topic7\", \"Topic7\", \"Topic7\", \"Topic7\", \"Topic7\", \"Topic7\", \"Topic7\", \"Topic7\", \"Topic7\", \"Topic7\", \"Topic7\", \"Topic7\", \"Topic7\", \"Topic7\", \"Topic7\", \"Topic7\", \"Topic7\", \"Topic7\", \"Topic7\", \"Topic7\", \"Topic7\", \"Topic7\", \"Topic7\", \"Topic7\", \"Topic7\", \"Topic7\", \"Topic7\", \"Topic7\", \"Topic8\", \"Topic8\", \"Topic8\", \"Topic8\", \"Topic8\", \"Topic8\", \"Topic8\", \"Topic8\", \"Topic8\", \"Topic8\", \"Topic8\", \"Topic8\", \"Topic8\", \"Topic8\", \"Topic8\", \"Topic8\", \"Topic8\", \"Topic8\", \"Topic8\", \"Topic8\", \"Topic8\", \"Topic8\", \"Topic8\", \"Topic8\", \"Topic8\", \"Topic8\", \"Topic8\", \"Topic8\", \"Topic8\", \"Topic8\", \"Topic8\", \"Topic8\", \"Topic8\", \"Topic8\", \"Topic8\", \"Topic8\", \"Topic8\", \"Topic8\", \"Topic8\", \"Topic8\", \"Topic8\", \"Topic8\", \"Topic8\", \"Topic8\", \"Topic8\", \"Topic8\", \"Topic8\", \"Topic8\", \"Topic8\", \"Topic8\", \"Topic8\", \"Topic8\", \"Topic8\", \"Topic8\", \"Topic8\", \"Topic8\", \"Topic8\", \"Topic8\", \"Topic8\", \"Topic8\", \"Topic8\", \"Topic8\", \"Topic8\", \"Topic8\", \"Topic8\", \"Topic8\", \"Topic8\", \"Topic8\", \"Topic8\", \"Topic8\", \"Topic8\", \"Topic8\", \"Topic8\", \"Topic8\", \"Topic8\", \"Topic8\", \"Topic8\", \"Topic8\", \"Topic8\", \"Topic8\", \"Topic8\", \"Topic8\", \"Topic8\", \"Topic9\", \"Topic9\", \"Topic9\", \"Topic9\", \"Topic9\", \"Topic9\", \"Topic9\", \"Topic9\", \"Topic9\", \"Topic9\", \"Topic9\", \"Topic9\", \"Topic9\", \"Topic9\", \"Topic9\", \"Topic9\", \"Topic9\", \"Topic9\", \"Topic9\", \"Topic9\", \"Topic9\", \"Topic9\", \"Topic9\", \"Topic9\", \"Topic9\", \"Topic9\", \"Topic9\", \"Topic9\", \"Topic9\", \"Topic9\", \"Topic9\", \"Topic9\", \"Topic9\", \"Topic9\", \"Topic9\", \"Topic9\", \"Topic9\", \"Topic9\", \"Topic9\", \"Topic9\", \"Topic9\", \"Topic9\", \"Topic9\", \"Topic9\", \"Topic9\", \"Topic9\", \"Topic9\", \"Topic9\", \"Topic9\", \"Topic9\", \"Topic9\", \"Topic9\", \"Topic9\", \"Topic9\", \"Topic9\", \"Topic9\", \"Topic9\", \"Topic9\", \"Topic9\", \"Topic9\", \"Topic9\", \"Topic9\", \"Topic9\", \"Topic9\", \"Topic9\", \"Topic9\", \"Topic9\", \"Topic9\", \"Topic9\", \"Topic9\", \"Topic9\", \"Topic9\", \"Topic9\", \"Topic9\", \"Topic9\", \"Topic9\", \"Topic9\", \"Topic9\", \"Topic9\", \"Topic9\", \"Topic9\", \"Topic9\", \"Topic9\", \"Topic9\", \"Topic9\", \"Topic9\", \"Topic9\", \"Topic10\", \"Topic10\", \"Topic10\", \"Topic10\", \"Topic10\", \"Topic10\", \"Topic10\", \"Topic10\", \"Topic10\", \"Topic10\", \"Topic10\", \"Topic10\", \"Topic10\", \"Topic10\", \"Topic10\", \"Topic10\", \"Topic10\", \"Topic10\", \"Topic10\", \"Topic10\", \"Topic10\", \"Topic10\", \"Topic10\", \"Topic10\", \"Topic10\", \"Topic10\", \"Topic10\", \"Topic10\", \"Topic10\", \"Topic10\", \"Topic10\", \"Topic10\", \"Topic10\", \"Topic10\", \"Topic10\", \"Topic10\", \"Topic10\", \"Topic10\", \"Topic10\", \"Topic10\", \"Topic10\", \"Topic10\", \"Topic10\", \"Topic10\", \"Topic10\", \"Topic10\", \"Topic10\", \"Topic10\", \"Topic10\", \"Topic10\", \"Topic10\", \"Topic10\", \"Topic10\", \"Topic10\", \"Topic10\", \"Topic10\", \"Topic10\", \"Topic10\", \"Topic10\", \"Topic10\", \"Topic10\", \"Topic10\", \"Topic10\", \"Topic10\", \"Topic10\", \"Topic10\", \"Topic10\", \"Topic10\", \"Topic10\", \"Topic10\", \"Topic10\", \"Topic10\", \"Topic10\", \"Topic10\", \"Topic10\", \"Topic10\", \"Topic10\", \"Topic10\", \"Topic10\", \"Topic10\", \"Topic10\", \"Topic10\", \"Topic10\", \"Topic10\", \"Topic10\", \"Topic10\", \"Topic10\", \"Topic10\", \"Topic10\"], \"logprob\": [30.0, 29.0, 28.0, 27.0, 26.0, 25.0, 24.0, 23.0, 22.0, 21.0, 20.0, 19.0, 18.0, 17.0, 16.0, 15.0, 14.0, 13.0, 12.0, 11.0, 10.0, 9.0, 8.0, 7.0, 6.0, 5.0, 4.0, 3.0, 2.0, 1.0, -7.9173, -3.9522, -4.4688, -6.0811, -4.4319, -7.2707, -4.8514, -4.9446, -8.0126, -8.118, -6.4651, -6.4866, -5.3046, -6.9479, -7.7503, -8.5234, -6.983, -5.3524, -6.8812, -9.6221, -6.2209, -6.1721, -6.4032, -5.8379, -5.8964, -4.3672, -7.7503, -8.7058, -10.3152, -10.3152, -4.5071, -4.7393, -4.5531, -5.1912, -5.4025, -5.002, -5.6612, -5.71, -5.7934, -5.9085, -5.9208, -5.9332, -5.9977, -6.0525, -6.1255, -6.2043, -6.2043, -5.4869, -5.503, -4.4981, -5.5445, -2.8559, -3.9556, -4.0311, -5.7613, -3.8382, -5.0269, -4.9825, -3.1474, -4.9777, -3.6432, -4.7507, -4.0926, -3.6293, -4.3064, -4.8991, -5.1167, -5.24, -5.0069, -5.0525, -5.0371, -4.0075, -8.2702, -6.4549, -7.2204, -9.523, -3.8548, -6.4784, -5.8217, -10.2161, -10.2161, -5.2325, -5.6109, -8.4243, -6.4549, -8.6067, -8.0189, -10.2161, -8.8298, -5.7502, -8.2702, -6.1908, -10.2161, -6.4094, -8.8298, -4.9797, -6.4319, -7.6512, -5.3486, -8.2702, -7.5081, -4.2681, -5.0513, -5.2816, -5.3258, -5.3563, -5.5248, -5.5527, -5.5911, -5.6622, -5.6943, -5.7502, -5.7853, -5.8217, -5.8217, -5.8341, -5.8341, -5.8594, -5.8854, -5.8986, -5.9256, -5.9534, -5.9534, -5.3183, -5.3486, -4.6788, -4.5813, -5.0456, -4.3553, -5.4887, -4.7651, -5.0121, -3.8043, -5.4121, -5.5066, -4.2551, -5.1041, -4.9128, -5.0686, -5.0744, -4.361, -5.1535, -5.2189, -5.2122, -5.2122, -4.8362, -5.1162, -5.2122, -5.1285, -5.2122, -5.1988, -5.1988, -6.2565, -7.0715, -6.2402, -10.3674, -7.2319, -10.3674, -8.2879, -8.9811, -5.1524, -8.9811, -5.2798, -4.6085, -9.6742, -10.3674, -10.3674, -8.9811, -7.0715, -10.3674, -6.2565, -7.3229, -8.9811, -10.3674, -10.3674, -10.3674, -10.3674, -8.9811, -7.2763, -9.6742, -7.2763, -10.3674, -2.0177, -4.0575, -5.0893, -5.0995, -5.3769, -5.4401, -5.5552, -5.0944, -5.6489, -5.6669, -5.6945, -5.7134, -5.7424, -5.8348, -5.9607, -6.0769, -6.1627, -6.1627, -6.1777, -6.1777, -6.193, -6.2242, -6.2402, -6.273, -5.6052, -4.1408, -5.1744, -4.8661, -5.4922, -5.5076, -4.7434, -4.3343, -5.0061, -4.634, -4.5897, -4.9163, -5.0591, -4.5503, -4.4813, -3.5829, -3.8106, -3.7055, -4.8867, -4.4841, -5.1363, -4.9424, -4.3684, -4.7434, -4.5326, -5.1047, -5.1099, -7.2824, -4.1176, -7.3289, -5.4461, -5.8408, -3.7914, -8.4275, -4.1934, -6.6845, -10.3734, -6.5022, -5.8195, -10.3734, -7.2379, -10.3734, -4.479, -7.8084, -10.3734, -7.0412, -7.1545, -10.3734, -7.9755, -6.9077, -7.9755, -6.7098, -5.4982, -6.3303, -6.9077, -7.8084, -8.294, -3.2457, -3.5878, -4.3379, -4.707, -3.8812, -4.84, -4.9981, -5.2675, -5.3898, -5.5694, -5.682, -5.7583, -5.7583, -5.9667, -5.9789, -6.0167, -5.3561, -6.0559, -6.1539, -6.1837, -6.2303, -6.2303, -5.6285, -5.6372, -5.8848, -5.5059, -5.809, -4.9798, -4.7209, -3.9616, -3.3035, -4.9267, -3.5867, -4.0121, -4.2292, -4.1024, -5.2201, -5.2675, -4.8721, -4.753, -4.9397, -4.9484, -5.0504, -5.0751, -5.1055, -7.7728, -5.5392, -6.0382, -7.6927, -7.1666, -3.012, -6.3456, -5.7359, -8.3117, -5.9269, -10.2577, -9.159, -9.159, -8.4659, -6.2323, -10.2577, -9.5645, -10.2577, -6.8237, -10.2577, -8.0604, -5.6625, -10.2577, -10.2577, -5.2207, -6.1468, -9.159, -5.9402, -10.2577, -9.5645, -4.6017, -4.6555, -4.8283, -5.1278, -5.1457, -5.1951, -5.6727, -4.8416, -5.7251, -5.769, -5.7918, -5.9139, -5.9139, -5.9269, -5.9402, -5.9536, -5.9672, -5.9672, -5.981, -6.0382, -6.068, -5.4785, -5.2207, -5.7144, -5.8033, -5.0159, -4.855, -3.8826, -4.9346, -4.9201, -4.9298, -4.7322, -5.3089, -4.8023, -4.9898, -5.0986, -4.7322, -5.5303, -5.3749, -5.4293, -4.864, -4.9644, -5.0759, -5.3978, -5.1278, -5.3825, -3.9005, -8.532, -8.2443, -4.1071, -7.2792, -10.3237, -7.2327, -8.2443, -4.9392, -7.6157, -6.6349, -8.3778, -5.8239, -5.6603, -6.2807, -7.4334, -6.9225, -8.0212, -7.3793, -5.5875, -8.9374, -5.8351, -7.2792, -6.0063, -5.917, -8.9374, -3.7293, -7.4334, -7.7588, -7.4905, -4.4266, -3.9976, -5.2486, -5.5616, -5.4038, -6.3164, -6.3164, -6.3725, -6.3725, -6.4525, -6.4951, -6.5396, -6.5396, -6.5625, -6.6102, -6.6602, -6.6862, -6.6862, -3.2832, -6.1191, -6.1494, -2.1675, -2.5183, -2.9062, -5.6416, -4.0913, -5.0767, -5.6052, -5.4796, -4.6166, -5.3609, -5.0715, -3.2353, -3.827, -5.1252, -4.3705, -5.159, -5.1879, -4.7708, -4.1071, -5.0559, -5.0355, -5.0056, -4.7516, -5.0559, -5.1762, -5.2611, -5.5249, -8.2105, -10.4077, -5.9534, -4.7482, -6.5365, -4.3052, -9.3091, -9.3091, -3.8989, -6.7188, -9.0214, -9.0214, -7.1496, -7.0065, -7.0065, -7.9228, -7.4633, -10.4077, -6.4759, -7.412, -9.0214, -6.2488, -4.8356, -7.5173, -9.7146, -4.5758, -5.3643, -6.7701, -6.7188, -3.6543, -4.0447, -4.3164, -4.7344, -4.8664, -5.2897, -5.5479, -5.5479, -5.5557, -5.6628, -5.7926, -5.833, -5.8969, -5.9079, -5.9079, -5.9191, -5.9304, -6.001, -6.0257, -6.145, -6.1592, -6.203, -3.4694, -5.5479, -4.4545, -4.2743, -4.8432, -4.3074, -4.6809, -3.7269, -4.6239, -3.5844, -4.3439, -3.9764, -4.5906, -4.3627, -5.3773, -5.0702, -5.2719, -5.2259, -5.2602, -5.2837, -5.1982, -9.2161, -8.523, -3.3941, -7.8298, -8.1175, -8.1175, -7.8298, -5.8374, -8.1175, -6.11, -8.523, -9.2161, -8.1175, -7.8298, -8.1175, -8.1175, -6.0662, -8.523, -6.7594, -7.1367, -9.2161, -7.1367, -8.523, -5.9709, -9.2161, -8.523, -8.1175, -8.523, -6.0662, -8.1175, -3.1609, -3.2795, -4.5846, -4.6728, -4.6764, -4.9629, -5.0944, -4.8552, -5.3311, -5.3449, -5.3875, -5.5107, -5.5441, -5.5785, -5.6608, -5.8261, -5.8374, -5.8839, -5.908, -5.9327, -5.9453, -5.958, -4.9772, -5.9972, -6.0243, -6.0521, -5.5356, -3.6079, -3.9922, -5.0164, -5.338, -4.3798, -4.2463, -5.2333, -3.6389, -3.9517, -5.0469, -3.8316, -5.4785, -4.4683, -5.338, -4.621, -4.8898, -4.6143, -4.9966, -4.8094, -4.6907, -5.1443, -4.9031, -5.0836, -4.9966, -5.073, -5.0944, -5.3596, -6.8911, -5.9624, -7.959, -5.387, -8.0543, -7.1788, -5.857, -10.3569, -6.0802, -9.2582, -6.9896, -10.3569, -7.1788, -6.0261, -5.1864, -7.3123, -7.8719, -10.3569, -6.4056, -10.3569, -8.7474, -9.2582, -7.5236, -7.8719, -6.2964, -7.5236, -7.4124, -10.3569, -6.1227, -4.7365, -5.1978, -5.2036, -5.5285, -5.7125, -5.8682, -6.2137, -6.2297, -6.3315, -6.3315, -6.5502, -6.6433, -6.668, -6.6933, -6.6933, -5.7617, -6.7459, -6.8015, -6.8305, -6.8603, -4.5578, -6.0802, -4.4299, -6.1825, -5.7719, -3.5014, -5.5048, -4.4299, -4.8888, -3.1409, -4.6974, -4.6531, -3.7144, -5.2631, -3.8304, -5.4665, -4.893, -3.6093, -4.0916, -3.8985, -4.8078, -4.5338, -4.4876, -5.005, -4.0992, -3.9887, -5.0387, -4.8039, -4.5792, -4.2235, -4.63, -3.8954, -3.9733, -4.2105, -4.6203, -4.8888, -4.9632, -6.6134, -10.327, -7.8421, -7.688, -10.327, -10.327, -9.2284, -6.1374, -7.3826, -7.8421, -7.8421, -5.0853, -10.327, -6.6134, -7.5544, -7.236, -7.5544, -6.415, -8.3811, -8.3811, -6.5428, -7.4938, -5.3366, -7.619, -6.2666, -7.9291, -6.8613, -6.3952, -7.4938, -6.8305, -3.8531, -4.5279, -4.4189, -5.3925, -5.5563, -5.7944, -5.945, -6.0366, -6.0504, -5.4367, -6.1999, -6.2327, -6.2666, -6.3017, -6.3758, -6.415, -6.4769, -6.4769, -6.4984, -6.4984, -6.5204, -6.5204, -6.5204, -4.3158, -6.0504, -5.9963, -6.1999, -5.6636, -6.2327, -6.2327, -4.4922, -6.1526, -3.0679, -3.8671, -3.4395, -5.054, -5.4987, -4.8176, -5.1341, -4.3158, -4.8632, -4.17, -4.9334, -3.7688, -3.8989, -4.6887, -5.523, -5.2518, -5.3783, -3.9469, -4.8056, -5.2333, -4.5556, -4.7779, -5.2333, -4.7511, -5.2644, -5.3097, -5.2333], \"loglift\": [30.0, 29.0, 28.0, 27.0, 26.0, 25.0, 24.0, 23.0, 22.0, 21.0, 20.0, 19.0, 18.0, 17.0, 16.0, 15.0, 14.0, 13.0, 12.0, 11.0, 10.0, 9.0, 8.0, 7.0, 6.0, 5.0, 4.0, 3.0, 2.0, 1.0, 2.2942, 2.2942, 2.2942, 2.2942, 2.2942, 2.2942, 2.2942, 2.2942, 2.2942, 2.2942, 2.2942, 2.2942, 2.2942, 2.2942, 2.2942, 2.2942, 2.2942, 2.2942, 2.2942, 2.2942, 2.2942, 2.2942, 2.2942, 2.2942, 2.2942, 2.2942, 2.2942, 2.2942, 2.2942, 2.2942, 2.2913, 2.2904, 2.2881, 2.2942, 2.2942, 2.2894, 2.2942, 2.2942, 2.2942, 2.2942, 2.2942, 2.2942, 2.2942, 2.2942, 2.2942, 2.2942, 2.2942, 2.2861, 2.2864, 2.2646, 2.2858, 1.9892, 2.0833, 2.0373, 2.2544, 1.8846, 2.1031, 2.0743, 1.4511, 2.0121, 1.5613, 1.808, 1.3162, 1.0246, 1.3977, 1.8049, 1.8464, 1.8529, 0.9471, 0.7671, 0.3213, 2.3767, 2.3767, 2.3767, 2.3767, 2.3767, 2.3767, 2.3767, 2.3767, 2.3767, 2.3767, 2.3767, 2.3767, 2.3767, 2.3767, 2.3767, 2.3767, 2.3767, 2.3767, 2.3767, 2.3767, 2.3767, 2.3767, 2.3767, 2.3767, 2.3767, 2.3767, 2.3767, 2.3767, 2.3767, 2.3767, 2.3767, 2.3767, 2.3767, 2.3767, 2.3767, 2.3767, 2.3767, 2.3767, 2.3767, 2.3767, 2.3767, 2.3767, 2.3767, 2.3767, 2.3767, 2.3767, 2.3767, 2.3767, 2.3767, 2.3767, 2.3767, 2.3767, 2.3697, 2.3694, 2.2407, 2.2142, 2.1584, 1.8889, 2.2287, 1.884, 1.9538, 1.0408, 2.064, 2.1321, 1.0051, 1.7261, 1.4899, 1.628, 1.635, 0.6186, 1.6997, 1.7449, 1.5153, 1.4584, -0.2377, 0.5878, 1.0368, 0.0075, 0.9595, 0.21, 0.0979, 2.2776, 2.2776, 2.2776, 2.2776, 2.2776, 2.2776, 2.2776, 2.2776, 2.2776, 2.2776, 2.2776, 2.2776, 2.2776, 2.2776, 2.2776, 2.2776, 2.2776, 2.2776, 2.2776, 2.2776, 2.2776, 2.2776, 2.2776, 2.2776, 2.2776, 2.2776, 2.2776, 2.2776, 2.2776, 2.2776, 2.2771, 2.2776, 2.2776, 2.2776, 2.2776, 2.2776, 2.2776, 2.2722, 2.2776, 2.2776, 2.2776, 2.2776, 2.2776, 2.2776, 2.2776, 2.2776, 2.2776, 2.2776, 2.2776, 2.2776, 2.2776, 2.2776, 2.2776, 2.2776, 2.2446, 2.147, 2.1925, 2.1323, 2.1972, 2.1926, 2.0752, 1.9804, 2.0787, 2.0113, 1.9754, 1.9995, 2.033, 1.876, 1.8044, 1.3967, 1.3254, 1.2236, 1.7605, 1.4699, 1.9068, 1.6622, 0.9283, 1.3329, 0.9885, 0.7653, 0.596, 2.274, 2.274, 2.274, 2.274, 2.274, 2.274, 2.274, 2.274, 2.274, 2.274, 2.274, 2.274, 2.274, 2.274, 2.274, 2.274, 2.274, 2.274, 2.274, 2.274, 2.274, 2.274, 2.274, 2.274, 2.274, 2.274, 2.274, 2.274, 2.274, 2.274, 2.274, 2.274, 2.274, 2.274, 2.2646, 2.274, 2.274, 2.274, 2.274, 2.274, 2.274, 2.274, 2.274, 2.274, 2.274, 2.274, 2.2671, 2.274, 2.274, 2.274, 2.274, 2.274, 2.2649, 2.2649, 2.2623, 2.2425, 2.2533, 2.1261, 2.0767, 1.8894, 1.6985, 2.0494, 1.6749, 1.5524, 1.6359, 1.5448, 1.9311, 1.8985, 1.2744, 1.0656, 1.1684, 0.8411, 0.6328, 0.5381, 0.3033, 2.3475, 2.3475, 2.3475, 2.3475, 2.3475, 2.3475, 2.3475, 2.3475, 2.3475, 2.3475, 2.3475, 2.3475, 2.3475, 2.3475, 2.3475, 2.3475, 2.3475, 2.3475, 2.3475, 2.3475, 2.3475, 2.3475, 2.3475, 2.3475, 2.3475, 2.3475, 2.3475, 2.3475, 2.3475, 2.3475, 2.3475, 2.3475, 2.3475, 2.3475, 2.3475, 2.3475, 2.3475, 2.3388, 2.3475, 2.3475, 2.3475, 2.3475, 2.3475, 2.3475, 2.3475, 2.3475, 2.3475, 2.3475, 2.3475, 2.3475, 2.3475, 2.3393, 2.3228, 2.337, 2.336, 2.2706, 2.1309, 1.6819, 1.7783, 1.7314, 1.6794, 1.3174, 1.7258, 1.0713, 1.2871, 1.4069, 0.7889, 1.9, 1.589, 1.6911, 0.4327, 0.4872, 0.7437, 1.5211, -0.5292, 1.0773, 2.3065, 2.3065, 2.3065, 2.3065, 2.3065, 2.3065, 2.3065, 2.3065, 2.3065, 2.3065, 2.3065, 2.3065, 2.3065, 2.3065, 2.3065, 2.3065, 2.3065, 2.3065, 2.3065, 2.3065, 2.3065, 2.3065, 2.3065, 2.3065, 2.3065, 2.3065, 2.3065, 2.3065, 2.3065, 2.3065, 2.3065, 2.301, 2.3065, 2.3065, 2.299, 2.3065, 2.3065, 2.3065, 2.3065, 2.3065, 2.3065, 2.3065, 2.3065, 2.3065, 2.3065, 2.3065, 2.3065, 2.3065, 2.2169, 2.2918, 2.2915, 2.133, 2.1349, 1.9778, 2.2148, 1.9771, 2.0719, 2.1602, 2.1356, 1.927, 2.0787, 1.996, 1.4186, 1.5314, 1.9374, 1.4491, 1.849, 1.7794, 1.4009, 0.4914, 1.5563, 1.5197, 1.3971, 0.9713, 1.234, 1.4318, 0.6125, 2.2552, 2.2552, 2.2552, 2.2552, 2.2552, 2.2552, 2.2552, 2.2552, 2.2552, 2.2552, 2.2552, 2.2552, 2.2552, 2.2552, 2.2552, 2.2552, 2.2552, 2.2552, 2.2552, 2.2552, 2.2552, 2.2552, 2.2552, 2.2552, 2.2552, 2.2552, 2.2552, 2.2552, 2.2552, 2.2552, 2.2552, 2.2552, 2.2552, 2.2552, 2.2552, 2.2552, 2.2552, 2.2552, 2.2552, 2.2552, 2.2552, 2.2552, 2.2552, 2.2552, 2.2552, 2.2552, 2.2552, 2.2552, 2.2552, 2.2552, 2.2552, 2.2552, 2.2203, 2.2309, 2.1297, 2.0888, 2.0926, 1.9721, 1.9849, 1.6256, 1.8686, 1.0695, 1.3393, 1.0032, 1.3493, 1.0889, 1.7332, 0.8035, 1.33, 1.107, 1.0767, 1.1425, 0.5076, 2.3222, 2.3222, 2.3222, 2.3222, 2.3222, 2.3222, 2.3222, 2.3222, 2.3222, 2.3222, 2.3222, 2.3222, 2.3222, 2.3222, 2.3222, 2.3222, 2.3222, 2.3222, 2.3222, 2.3222, 2.3222, 2.3222, 2.3222, 2.3222, 2.3222, 2.3222, 2.3222, 2.3222, 2.3222, 2.3222, 2.3222, 2.3222, 2.3222, 2.3222, 2.3222, 2.3222, 2.3222, 2.318, 2.3222, 2.3222, 2.3222, 2.3222, 2.3222, 2.3222, 2.3222, 2.3222, 2.3222, 2.3222, 2.3222, 2.3222, 2.3222, 2.3222, 2.3122, 2.3222, 2.3222, 2.3222, 2.3135, 2.2112, 2.1761, 2.1631, 2.2124, 1.8971, 1.8299, 2.1017, 1.4971, 1.4067, 1.9051, 1.2023, 2.1157, 1.3968, 1.9734, 1.0262, 1.2819, 0.6824, 1.3363, 0.7731, -0.0375, 1.2939, -0.3046, 0.7673, 0.0055, -0.189, 0.1658, 2.2881, 2.2881, 2.2881, 2.2881, 2.2881, 2.2881, 2.2881, 2.2881, 2.2881, 2.2881, 2.2881, 2.2881, 2.2881, 2.2881, 2.2881, 2.2881, 2.2881, 2.2881, 2.2881, 2.2881, 2.2881, 2.2881, 2.2881, 2.2881, 2.2881, 2.2881, 2.2881, 2.2881, 2.2881, 2.2881, 2.2881, 2.2881, 2.2881, 2.2881, 2.2881, 2.2881, 2.2881, 2.2881, 2.2881, 2.2881, 2.2881, 2.2881, 2.2881, 2.2881, 2.2881, 2.2782, 2.2881, 2.2881, 2.2881, 2.2881, 2.2509, 2.2739, 2.2281, 2.2724, 2.2575, 2.1402, 2.2197, 2.135, 2.1142, 1.8931, 2.0652, 2.05, 1.8682, 2.1022, 1.7828, 2.1164, 1.9647, 1.5952, 1.7271, 1.6226, 1.909, 1.8194, 1.7614, 1.9622, 1.6067, 1.4629, 1.8716, 1.6559, 1.4607, 1.0733, 1.4787, 0.7031, 0.3272, 0.6735, 1.2497, 1.5286, 1.6489, 2.2898, 2.2898, 2.2898, 2.2898, 2.2898, 2.2898, 2.2898, 2.2898, 2.2898, 2.2898, 2.2898, 2.2898, 2.2898, 2.2898, 2.2898, 2.2898, 2.2898, 2.2898, 2.2898, 2.2898, 2.2898, 2.2898, 2.2898, 2.2898, 2.2898, 2.2898, 2.2898, 2.2898, 2.2898, 2.2898, 2.2898, 2.2898, 2.2871, 2.2898, 2.2898, 2.2898, 2.2898, 2.2898, 2.2898, 2.2824, 2.2898, 2.2898, 2.2898, 2.2898, 2.2898, 2.2898, 2.2898, 2.2898, 2.2898, 2.2898, 2.2898, 2.2898, 2.2898, 2.2243, 2.2759, 2.2645, 2.2737, 2.2434, 2.2731, 2.2729, 2.1083, 2.2588, 1.8612, 1.9225, 1.8208, 2.0566, 2.1344, 2.0002, 2.0297, 1.8308, 1.9601, 1.7699, 1.9268, 1.4928, 1.4536, 1.7495, 2.0351, 1.8948, 1.9469, 1.0552, 1.4844, 1.7785, 1.1485, 1.0957, 1.4762, 0.2285, 1.3828, 1.3393, 0.1755]}, \"token.table\": {\"Topic\": [3, 5, 6, 10, 1, 3, 9, 6, 1, 2, 6, 8, 5, 6, 9, 8, 2, 5, 7, 9, 2, 5, 1, 5, 9, 4, 3, 4, 5, 7, 8, 9, 5, 2, 9, 4, 1, 3, 4, 8, 9, 4, 6, 2, 9, 4, 7, 2, 3, 1, 2, 3, 8, 9, 3, 4, 10, 6, 6, 8, 9, 8, 9, 1, 3, 6, 8, 2, 3, 7, 10, 1, 2, 4, 6, 9, 9, 1, 4, 4, 6, 5, 7, 9, 7, 1, 10, 4, 5, 8, 10, 6, 2, 10, 10, 5, 2, 1, 2, 4, 5, 8, 6, 1, 4, 1, 5, 6, 10, 9, 3, 2, 4, 9, 2, 5, 2, 4, 10, 1, 1, 3, 7, 10, 3, 5, 7, 3, 7, 2, 5, 2, 2, 9, 2, 9, 8, 8, 7, 9, 9, 8, 7, 3, 8, 4, 8, 4, 4, 1, 4, 1, 1, 9, 6, 7, 7, 3, 5, 9, 2, 4, 5, 1, 7, 10, 7, 10, 4, 6, 7, 4, 6, 6, 2, 6, 7, 10, 2, 4, 8, 10, 4, 6, 3, 1, 3, 2, 4, 10, 7, 2, 5, 7, 10, 5, 1, 5, 9, 2, 6, 10, 9, 2, 3, 3, 7, 3, 7, 8, 8, 2, 5, 3, 9, 9, 9, 1, 1, 9, 6, 3, 5, 2, 5, 4, 5, 8, 8, 9, 1, 1, 3, 3, 4, 1, 2, 5, 7, 9, 9, 8, 4, 5, 8, 9, 7, 8, 3, 9, 1, 3, 3, 6, 5, 9, 10, 1, 9, 4, 9, 4, 4, 2, 8, 2, 5, 4, 5, 5, 10, 2, 6, 8, 2, 10, 9, 2, 2, 2, 2, 7, 1, 5, 7, 5, 8, 5, 6, 7, 10, 5, 7, 8, 9, 5, 9, 4, 2, 6, 4, 8, 4, 6, 8, 8, 9, 4, 8, 3, 9, 3, 7, 8, 3, 7, 8, 9, 9, 2, 4, 8, 10, 1, 2, 3, 8, 7, 1, 3, 5, 7, 7, 2, 5, 6, 8, 2, 6, 10, 8, 8, 2, 2, 10, 4, 4, 7, 4, 2, 9, 3, 5, 8, 8, 5, 5, 6, 1, 10, 1, 3, 5, 9, 10, 2, 3, 4, 1, 10, 10, 4, 4, 6, 7, 3, 3, 2, 10, 3, 4, 2, 10, 10, 6, 1, 9, 8, 2, 6, 8, 6, 9, 4, 1, 8, 9, 3, 5, 7, 9, 1, 6, 10, 1, 2, 4, 10, 6, 1, 4, 5, 7, 9, 7, 10, 1, 10, 1, 8, 2, 7, 2, 7, 4, 5, 8, 9, 3, 7, 10, 3, 7, 3, 6, 10, 10, 3, 3, 10, 5, 6, 9, 10, 5, 5, 9, 1, 6, 3, 9, 1, 5, 10, 3, 1, 5, 4, 4, 2, 8, 10, 10, 2, 5, 6, 10, 7, 6, 3, 5, 9, 4, 7, 3, 2, 5, 9, 2, 7, 10, 1, 2, 7, 10, 2, 6, 8, 8, 8, 8, 7, 4, 9, 4, 5, 4, 2, 6, 7, 8, 9, 2, 4, 5, 8, 10, 1, 2, 3, 4, 5, 8, 10, 1, 10, 4, 3, 4, 5, 7, 8, 9, 10, 2, 8, 10, 5, 3, 10, 1, 1, 3, 5, 8, 5, 3, 3, 4, 4, 9, 9, 1, 5, 3, 4, 5, 3, 4, 3, 9, 7, 1, 3, 3, 8, 2, 4, 7, 9, 5, 9, 10, 1, 4, 5, 7, 8, 1, 3, 10, 6, 8, 5, 9, 2, 3, 6, 8, 10, 3, 6, 8, 9, 6, 3, 6, 8, 9, 2, 8, 4, 7, 6, 8, 9, 1, 1, 10, 5, 2, 3, 6, 9, 3, 9, 10, 4, 4, 2, 5, 3, 3, 6, 5, 6, 3, 2, 3, 7, 7, 1, 4, 6, 8, 10, 4, 1, 1, 1, 2, 1, 3, 1, 6, 7, 8, 5, 8, 8, 3, 7, 9, 6, 6, 5, 2, 8, 3, 10, 3, 7, 10, 3, 7, 10, 3, 7, 2, 7, 8, 5, 5, 10, 10, 9, 9, 2, 2, 8, 2, 3, 1, 2, 3, 7, 10, 2, 7, 10, 6, 10, 2, 3, 2, 2, 8, 2, 2, 2, 2, 6, 5, 8, 5, 2, 8, 1, 6, 7, 10, 1, 8, 1, 6, 8, 3, 5, 8, 7, 6, 6, 1, 3, 4, 8, 3, 7, 10, 4, 4, 10, 6, 8, 9, 8, 2, 8, 4, 1, 5, 9, 2, 9, 1, 9, 7, 8, 4, 10, 4, 2, 3, 9, 2, 1, 4, 6, 7, 10, 1, 5, 6, 2, 6, 2, 9, 3, 10, 5, 8, 1, 5, 10, 4, 5, 7, 3, 3, 5, 10, 10, 10, 6, 2, 10, 1, 10, 3, 4, 5, 8, 9, 4, 9, 3, 10, 5, 7, 10, 6, 7, 10, 3, 10, 7, 10, 9, 8, 1, 5, 6, 8, 9, 10, 9, 10, 4, 5, 4, 4, 6, 6, 6, 9, 2, 3, 5, 6, 7, 9, 5, 5, 3, 10, 5, 10, 3, 7, 7, 7, 7, 3, 2, 3, 5, 8, 9, 4, 2, 2, 2, 4, 1, 1, 5, 1, 9, 3, 5, 10, 8, 8, 8, 4, 5, 10, 7, 9, 4, 7, 8, 9, 7, 8, 10, 1, 2, 7, 7, 5, 2, 8, 1, 3, 4, 1, 2, 5, 6, 7, 3, 4, 5, 6, 5, 1, 3, 7, 9, 7, 2, 4, 10, 1, 6, 10, 8, 1, 2, 5, 6, 8, 9, 2, 10, 10, 7, 9, 2, 4, 7, 8, 6, 6, 1, 1, 4, 8, 9, 2, 1, 3, 3, 1, 6, 10, 3, 1, 8, 4, 8, 2, 1, 10, 6, 5, 6, 8, 5, 10, 7, 10, 1, 5, 1, 3, 6, 10, 10, 3, 2, 6, 8, 10, 8, 2, 5, 7, 6, 9, 2, 7, 8, 7, 4, 8, 5, 9, 3, 4, 5, 6, 9, 1, 3, 5, 6, 1, 4, 9, 5, 5, 2, 1, 2, 5, 9, 6, 3, 10, 3, 4, 5, 7, 10, 6, 5, 8, 2, 7, 1, 2, 10, 10, 2, 8, 4, 9, 7, 1, 10, 2, 10, 1, 3, 6, 6, 6, 1, 4, 4, 6, 2, 5, 1, 8, 10, 7, 6, 1, 6, 8, 4, 5, 2, 8, 3, 1, 2, 5, 1, 7, 7, 9, 10, 2, 9, 10, 5, 6, 10, 8, 1, 3, 4, 7, 8, 1, 1, 10, 7, 5, 2, 6, 6, 7, 7, 5, 9, 2, 4, 8, 10, 8, 8, 3, 8, 3, 1, 2, 7, 9, 2, 8, 6, 3, 6, 10, 5, 10, 10, 1, 10, 5, 4, 5, 1, 5, 2, 6, 9, 10, 1, 5, 9, 4, 1, 2, 5, 8, 9], \"Freq\": [0.1844809190680292, 0.028938183383220264, 0.6908991282743838, 0.09766636891836838, 1.0034863001086147, 0.992553100009327, 1.0010070450271344, 0.9999339413695291, 0.020547301464571104, 0.003424550244095184, 0.633541795157609, 0.34245502440951836, 0.20891499700864197, 0.7923002716742836, 1.0102471456482176, 1.0035018524573986, 0.521801351822042, 0.11468161578506418, 0.36124708972295216, 0.0028670403946266044, 0.9970784056237899, 0.9973673493989295, 0.0972559734749648, 0.2201056241801835, 0.683351182047779, 1.000360875682652, 0.2205900957826272, 0.1536448428336707, 0.09108944253710476, 0.017559410609562363, 0.16242454813845186, 0.35448060168054024, 0.9234883107370243, 1.0008364362577182, 1.0174942838457968, 1.0003189965704284, 0.6140141648489019, 0.010925518947489358, 0.006555311368493615, 0.10269987810639997, 0.26439755852924246, 0.08566735597210098, 0.914290542498706, 0.9982792454233159, 0.960966836576305, 1.0091823863898093, 1.0110401442828312, 0.004901944325840954, 0.9950946981457137, 0.08165405979942497, 0.09377046867288803, 0.3861446827934097, 0.4382979209878811, 0.0005268003858027418, 0.9169453706420829, 0.07845521887846699, 0.004903451179904187, 0.9910542078735471, 0.9900531801126767, 0.9930487693591802, 0.960966763226049, 0.3263091656383487, 0.6735477821339676, 0.004014863514837609, 0.19672831222704282, 0.7186605691559319, 0.08029727029675217, 0.1725488872052762, 0.41447774472285664, 0.28607974771631955, 0.12749695843105263, 0.2086991704949252, 0.09865778968851009, 0.04173983409898504, 0.18403472307279767, 0.4686245010204229, 0.9979270819435265, 0.8095381509383601, 0.18971520070144554, 0.9996471488630353, 1.0036659569766495, 0.5173663363252611, 0.06898217817670148, 0.4100607258281699, 1.000662840952704, 0.3987616390005015, 0.5981424585007522, 0.023245533742666222, 0.034868300613999335, 0.35836864519943756, 0.5830754713785444, 0.9996189471108551, 0.30427930445426127, 0.6942294810364213, 1.0062156922985734, 1.0128581235467722, 1.0642574487785896, 0.9935803086240511, 0.007359854137955935, 0.22342493219952372, 0.11980757233887504, 0.6573226266159902, 0.9968499092251515, 0.9982034369467692, 1.0058094558537332, 0.2170524812234331, 0.20139965805828167, 0.42471326854777536, 0.15757175319585767, 0.999849807037613, 1.007545597332929, 0.997078381023046, 1.0051934805656946, 1.0036764073619082, 0.36045568368958053, 0.6373274407265047, 1.0034427241125117, 0.8611301906504364, 0.1359679248395426, 0.998128647860633, 0.9988081098022669, 0.9994852590342297, 1.001180045329167, 0.9343431109000805, 0.6699754576494449, 0.0019142155932841281, 0.32924508204487, 0.7822830200687253, 0.21605911982850506, 1.0003224885976274, 0.9234883107370243, 0.9122206582841015, 1.0135785002434117, 0.9892305537389691, 1.0004492881385214, 1.0102471456482176, 1.0009931595140535, 1.000211744088984, 0.009611383008436931, 0.989972449869004, 1.012910958560779, 0.9996690944882414, 0.9784259460801593, 0.38846562789019284, 0.6110240605356158, 0.10604052845374223, 0.8954533513871566, 0.9938916854068929, 1.0013859811051704, 0.008675451534598607, 0.9904473835333409, 0.9946721911924213, 0.9274646921922325, 0.960966836576305, 0.9996189471108551, 1.000562254976597, 1.000662928623895, 0.2756327916664396, 0.21059584082379657, 0.5141016114227975, 0.4741007158446698, 0.1881352047002658, 0.33864336846047843, 0.005936655359753686, 0.2196562483108864, 0.7777018521277329, 1.001447698983005, 1.0044188442175865, 0.9633104383769494, 0.9986623382006131, 0.9784259460801593, 1.0070973191142896, 0.9992772780640372, 1.0002765714579085, 0.138784262524683, 0.8619233146269787, 0.978425929537135, 1.002709669119066, 0.04791790063764008, 0.5625745834476782, 0.09860029554283632, 0.29073264713798935, 0.9989885855336254, 1.01014117225189, 0.992553100009327, 0.9569205700678826, 0.037526296865407156, 0.9936973863163522, 0.006759846165417362, 0.9983392569405491, 0.9784259264353181, 0.06294733709426246, 0.003934208568391404, 0.25572355694544124, 0.6727496651949301, 1.0037916466304837, 0.09128212720674073, 0.06694022661827653, 0.8397955703020147, 0.21045750695389506, 0.5919117383078298, 0.20059231131543123, 1.0174942838457968, 0.12167514728363688, 0.8783945564174881, 0.9976049197072032, 1.001861323135962, 0.03390785384324493, 0.9659156202913556, 1.00168397604926, 0.9961729677346921, 1.0425378596298576, 0.9963953098238028, 0.16016316927570326, 0.8417085704489086, 0.960966763226049, 0.9979270819435265, 0.9998390979877037, 1.0007990872209815, 0.9941035847963958, 1.0016424065574947, 0.9610435215370073, 1.002928213503628, 0.5308381937973091, 0.4685793932902173, 0.9633104791527987, 0.184628387437323, 0.8123649047242212, 1.0022153733840342, 1.0067271072396098, 1.0202111614114557, 1.0305163347180106, 0.9610435215370073, 1.004075307136878, 1.0027903820303798, 0.998808140485459, 0.07738324145766264, 0.538165270137381, 0.11959228225275134, 0.26732392503556185, 0.9609667925661501, 0.9998305658328526, 0.2992034407705767, 0.052126034977452385, 0.07923157316572763, 0.5702588226533291, 0.9784259264353181, 0.9533268185848129, 0.9994306317976605, 0.0004542866508171184, 0.9998017225570751, 1.0025700590839268, 0.3164292188755737, 0.6845203510369553, 0.9234883107370243, 0.9869094431976336, 0.013158792575968449, 0.9274646107064469, 0.9999249206305126, 0.6858359684999626, 0.31283745931577245, 0.9982129433398995, 0.9986612844182531, 0.9122206401377819, 1.000321802599557, 1.0034427241125117, 1.026098111220215, 0.9842457431267906, 0.01069832329485642, 0.999391503567443, 0.9927395553313355, 0.2653241896766559, 0.7341847440367738, 1.0327707201335474, 0.015311013561357377, 0.9799048679268721, 1.007843216968695, 0.9122206401377819, 0.9122206401377819, 0.9961030513747344, 1.0425378596298576, 1.0028865625146242, 0.11240131737945924, 0.13388980452553234, 0.7537500106622561, 0.34620373300584517, 0.6544899143015264, 0.27867293043612873, 0.18394616356851184, 0.23461396910235344, 0.3029053591697051, 0.15528031318368007, 0.31128286038216796, 0.09461265593982367, 0.4383960469883433, 0.9984578693840989, 1.0115440019278374, 1.0070972338556992, 0.08799597046205265, 0.9119582393340002, 0.10534635308921843, 0.8949224846589051, 0.08429319740823808, 0.05175898086470759, 0.8636355664282639, 0.9533268185848129, 0.960966836576305, 0.999976241664767, 1.0327707201335474, 1.0028279821140473, 0.9992661698421855, 0.4059969410937347, 0.5919207739310525, 0.9533268185848129, 0.18626688319231835, 0.17415953578481766, 0.13411215589846923, 0.5057145878671443, 0.9994054862386649, 0.2534948283631945, 0.004771667357424837, 0.11571293341755232, 0.6256848822423319, 0.9274646107064469, 1.000346449738066, 0.9610435215370073, 0.9990342687909342, 1.0011799854915562, 1.00639784431614, 0.9169260802253982, 0.082112783303767, 1.0001179923558061, 0.9985996603911815, 0.043859772627925744, 0.43859772627925747, 0.27255715847353856, 0.247494431257581, 0.4751167213340228, 0.08130339616411085, 0.4420872166423528, 0.9941836822384478, 0.9533268185848129, 1.001385121273114, 0.2818551889249236, 0.7202965939192493, 1.0034483733093222, 1.0047431504343034, 0.9976107497005225, 0.9977143826046976, 0.993668897459708, 1.0090151321944576, 0.23711486311705218, 0.56601612486006, 0.1988705303562373, 0.9533268185848129, 0.9954484321444237, 0.9929554636699337, 0.00769732917573592, 0.987301037203637, 1.0010819045358006, 1.008113784308316, 0.9610435215370073, 1.0013729133475615, 0.023974547449510088, 0.9709691717051585, 0.9961030513747344, 0.9206038668657068, 0.07446060687884394, 0.042073473018843094, 0.950860490225854, 1.0051266663683824, 1.0038708532865068, 0.9934138895762291, 1.0016424065574947, 0.9988807779409855, 1.0068074543745469, 1.0047272334229507, 0.027870662892665217, 0.9754732012432826, 0.9610435215370073, 0.9633104383769494, 0.25201674986992884, 0.7475553029849574, 0.9966326811614534, 0.9921029872689092, 0.9274646107064469, 1.0010070450271344, 0.9533268185848129, 0.2418798341336686, 0.40362769867704207, 0.3531742363424118, 0.99027116571327, 0.01435175602483, 0.9633104383769494, 0.0008734234051171449, 0.1362540511982746, 0.8629423242557392, 0.9610435215370073, 0.04602703753707446, 0.23342283322373475, 0.7232820184397415, 0.7532659819103175, 0.18495370091547972, 0.060530302117793366, 0.05280565038299885, 0.5075209731254889, 0.24936001569749458, 0.1877534235839959, 1.0198540866767218, 0.17834714224766288, 0.08499355997740184, 0.13097368258812742, 0.15884042356432476, 0.4444745185703473, 1.0028865625146242, 0.9343431109000805, 0.8241867075379641, 0.17412395229675298, 1.0034863001086147, 0.9533268185848129, 0.3211116675166988, 0.6790386854493248, 0.8501519882721217, 0.14953813474493344, 0.17657071336104466, 0.07130740347272957, 0.1485570905681866, 0.6035662365370325, 1.0028279283015833, 0.8507332404579111, 0.14975454045513792, 0.865019122536955, 0.13568927412344392, 0.9959904748714468, 0.002532186969061651, 0.9976816658102905, 0.983519087115416, 1.0004553571488306, 1.0047272334229507, 1.0076249674321236, 0.9234883107370243, 0.09430057807603082, 0.7249356939594869, 0.1827073700223097, 1.0014451094464984, 0.17134011846751407, 0.8322234325564969, 0.8018729753360645, 0.19777136162997105, 0.9966376918704126, 0.9609667925661501, 0.989779359897224, 0.007793538266907275, 0.9893044444963802, 0.9930782443055562, 1.0117796561284726, 0.9934495682480899, 0.9993344884524104, 1.0004628955251005, 1.0057818109508794, 1.0055639045346658, 0.9992280985097218, 0.9979039059722815, 0.09520155625400306, 0.11524398914958264, 0.34239156196615134, 0.4476143346679442, 0.9988098199568293, 0.9470073419930952, 1.0005384227174694, 0.9234883107370243, 1.0036764073619082, 1.0018428994497608, 1.0001687663020942, 0.9610435215370073, 0.26131888357514116, 0.14749286680314713, 0.5899714672125885, 0.9122206401377819, 0.763685701286387, 0.23591564657573103, 0.40813814849637675, 0.16734593788006336, 0.10505606100248421, 0.3198166812818989, 0.993306965366235, 0.9470073769583548, 1.000285037084504, 1.0327707201335474, 1.0003813660595462, 0.9533268185848129, 1.0001687663020942, 0.8213708609351497, 0.1803686012188673, 0.7994007870331092, 0.20233795854365005, 1.0000780656799604, 0.1838109696645521, 0.08052671051970853, 0.30810219677105877, 0.05251741990415774, 0.37287368131952, 0.062454147104785036, 0.6805348443142094, 0.045225416868982266, 0.2110519453885839, 0.9966326811614534, 0.3757501934818235, 0.11487022489499576, 0.08580667401794864, 0.13908985062586837, 0.08027075956517776, 0.08373070609815957, 0.12040613934776664, 1.0047533282653176, 1.019283434899103, 1.0028985193937872, 0.18798055023086435, 0.3314027478144127, 0.11975057273966173, 0.0013924485202286248, 0.041773455606858745, 0.09468649937554649, 0.22418421175680858, 0.6099304423871741, 0.0023918840877928398, 0.38748522222244003, 0.9988751602260194, 1.004075307136878, 1.0090906135990807, 1.0016618734345881, 0.26021750383455794, 0.446428194651948, 0.15636923395562885, 0.13727070156410168, 1.0004457045413115, 0.9610435215370073, 0.019658450364760025, 0.9829225182380013, 0.9989886314740413, 0.9941035847963958, 0.9900870368750115, 1.0157946586273812, 1.055415227903453, 0.7557899948992465, 0.09369297457428676, 0.1499087593188588, 0.8209325202410261, 0.18119681753067696, 1.0068074247888767, 1.0041563340688768, 1.0003146502957612, 0.9977270812145111, 0.9969703045329092, 0.292246266578545, 0.7051021034910928, 0.28849629378861635, 0.7113607244102869, 0.9784259146484139, 0.9991870460848288, 0.03647603519989188, 0.9624061595048395, 1.002709669119066, 1.0016618734345881, 0.2254000796671784, 0.539521467288459, 0.1150979130215379, 0.1174957862094866, 0.22639603610937678, 0.7673634066023087, 0.007149348508717162, 1.01014117225189, 0.9533268185848129, 0.9976972076274829, 0.960966763226049, 1.0021579298694792, 0.623663948886316, 0.2561179950093138, 0.021620350228058957, 0.09978623182181057, 1.000110263617821, 0.7197861688603494, 0.08106806679997108, 0.1989852548726563, 1.0417081454236208, 0.0006500940565696158, 0.8421968502859373, 0.0945886852308791, 0.06273407645896793, 0.00794140804614245, 0.9926760057678062, 0.9934138895762291, 0.9784259264353181, 0.00252455588735595, 0.20953813865054385, 0.7876614368550564, 1.0010729131434664, 0.9994231687734885, 0.9966326811614535, 0.9234883426535184, 0.9122206401377819, 0.01850488877479195, 0.8407159344596837, 0.14072853685520792, 0.13853005951052388, 0.8575670350651479, 0.0021988898335003793, 1.0001835406940862, 0.9633104383769494, 0.9122206401377819, 0.9991840925937606, 0.9966376918704126, 1.0047272334229507, 0.9955718465177522, 0.9928655109100892, 0.00813824189270565, 1.003947183798404, 0.42168345005974717, 0.20696120248331148, 0.36994314943891926, 0.9784259460801593, 0.0731710093476414, 0.5285786346904244, 0.0010921046171289762, 0.3964339760178183, 0.0010921046171289762, 0.9992102207155281, 0.9970245441066499, 1.0016618499666803, 1.0012402847104678, 0.9996939189477438, 0.991427747379645, 0.9962035829005638, 0.2810450734231337, 0.41148381699104636, 0.30544134715778065, 0.0019517018987717614, 1.00497261635416, 0.9533268185848129, 0.9966598557932136, 1.0002697814235715, 0.9999297883173197, 0.960966836576305, 1.0001227213943698, 1.006195338018252, 0.9977919691118821, 0.19948811420731638, 0.8027021738342016, 0.34867482459953814, 0.6515164720097021, 0.8160793773366791, 0.1643493190469701, 0.01700165369451415, 0.9695553933928032, 0.03178870142271486, 1.0122050368084206, 0.1527433923562202, 0.8463780917621142, 0.014805402103392148, 0.9771565388238818, 0.007402701051696074, 1.00044563902851, 0.9999903396260542, 0.9966326811614534, 0.9976884441382062, 1.0067271072396098, 0.9965581980766518, 1.001654057717866, 0.14636103709089432, 0.8537727163635502, 0.9990988578578176, 0.9976546769248047, 0.0024439580427368596, 0.3983651609661081, 0.41791682530800295, 0.09775832170947438, 0.08309457345305322, 0.9973612371853033, 0.9978006633371285, 1.0122050368084206, 1.0027137542275055, 0.9939820422733252, 0.25681135424430696, 0.7430408516135282, 0.9996939189477438, 0.009075408243839187, 0.9892194985784715, 0.9995609290005621, 1.0023165759845587, 1.0034427720187984, 0.9122206401377819, 0.9986623382006131, 0.9945258968971399, 0.9987233337555182, 0.9234883107370243, 0.997078381023046, 0.9533268185848129, 0.38111408233199945, 0.41784796978568617, 0.20203638099527682, 0.9927395553313355, 0.994294801975323, 0.005797637329302175, 0.16873901103398076, 0.7962372083165967, 0.031638564568871395, 1.0006741535713766, 0.9234883426535184, 1.0018010635976, 0.9784259460801593, 1.0087687341070481, 0.9932028408729658, 0.002287958653007526, 0.5399582421097762, 0.35234563256315904, 0.10524609803834621, 0.9610435215370073, 0.99371383153587, 1.019283434899103, 1.0018428745710555, 0.3675823072880999, 0.6324152294681088, 0.9900531801126767, 0.05792092306712655, 0.9412149998408064, 0.9533268185848129, 0.9975362873992896, 0.9533268185848129, 0.988010741414965, 0.7735484634439082, 0.09502065900435551, 0.13115527580882871, 1.0021579298694792, 0.9996264035382966, 0.9988081098022669, 1.0074652393363972, 1.0022899542792205, 0.9997048800294794, 0.5494880290403034, 0.45093854557111845, 0.9633104728795908, 0.8714124943811674, 0.1285176700346326, 0.9952870481812109, 1.0014596807648601, 0.008373798033255105, 0.9881081679241025, 0.9470073419930952, 1.001180045329167, 0.9343431109000805, 0.6140431901976787, 0.002526926708632423, 0.38409285971212825, 0.005054170718673932, 0.9939869080058734, 0.20096412778918424, 0.8011769894528811, 0.22811116075939275, 0.7723763864309263, 0.9983657497302655, 0.9533268185848129, 0.9274646786112672, 0.998113650728128, 0.9952785504117632, 1.0014613145098354, 0.9275532173424595, 0.0723943974511188, 0.9610435215370073, 0.02340260305532559, 0.9770586775598433, 0.9966326811614535, 0.9909699527575602, 0.9987806127527039, 0.9975144075987413, 0.2087175051164701, 0.7931265194425864, 0.015315238579397714, 0.9801752690814537, 0.09924756824393478, 0.48218508819398403, 0.0008782970641056175, 0.27402868400095265, 0.14316242144921565, 1.000289737460101, 0.9909970502193145, 1.0002697310346167, 0.9952785504117632, 0.001176942323175546, 0.40369121684921233, 0.5943558732036508, 0.034013312555364786, 0.5330932640888904, 0.43301563291637474, 0.16633626008563232, 0.8339598793334443, 0.14078294870597305, 0.8574961421181995, 0.9609667765624583, 0.9930487693591802, 0.17690255584030198, 0.003902262261183132, 0.14958672001202006, 0.08584976974602891, 0.4370533732525108, 0.14568445775083694, 0.960966763226049, 0.998048363338705, 0.9878564132349004, 0.008301314396931936, 0.9985534691753182, 0.9633104383769494, 0.9943577751770926, 0.9470074169186545, 0.47257676268629256, 0.5279028227081024, 0.12082925837366172, 0.003940084512184622, 0.357234329104739, 0.0682947982112001, 0.20357103312953878, 0.24559860125950808, 0.999391503567443, 0.9963953098238028, 1.007545597332929, 1.0015621070040166, 0.9916561072002316, 0.009722118698041486, 0.9987314846468276, 1.0007474077698715, 0.9784259460801593, 1.000298330926524, 0.9784259264353181, 1.0023786569262956, 0.10269373801066194, 0.2592088929305262, 0.14723560028034663, 0.1942520104539027, 0.2969457484645646, 1.0114759602957968, 0.9959105971264632, 0.9986416003929135, 0.9990988578578176, 0.9971107802004024, 1.0024801306900568, 0.9974457332452181, 0.0034998095903340984, 0.9950603552706034, 0.0074816568065458906, 0.9610435215370073, 0.9234883426535184, 0.9343431109000805, 1.001596530918221, 1.0008235284075437, 0.9997550727366706, 1.0014613145098354, 0.29158543866527764, 0.7101516328783375, 1.0004130279369734, 1.002747933500172, 0.9633104383769494, 0.1300822670629695, 0.2124128158370008, 0.6569977792167699, 1.0059871902671207, 0.9987233337555182, 0.9893044444963802, 0.9945103294334904, 0.7850267283344415, 0.21877794068336895, 1.0028865625146242, 0.9234883107370243, 0.9951498162357417, 0.9533268185848129, 0.6385251931304641, 0.2750570062715845, 0.0851366924173952, 0.9700242140384825, 0.024116624105929123, 0.0026796249006587917, 0.0026796249006587917, 0.9930292850804405, 0.25899763903704937, 0.20719811122963952, 0.3895324491117223, 0.14503867786074764, 0.9973673493989295, 0.480624863755295, 0.018051638075316245, 0.0011282273797072653, 0.5003688429001721, 0.9985996339335966, 0.062203679268683275, 0.0021449544575408027, 0.9373450979453307, 0.6640699026360289, 0.26335439790701287, 0.07294348431237407, 0.9960130940438344, 0.4302443351270553, 0.07324617436354731, 0.05631953743079479, 0.16280347158956526, 0.07232290325812446, 0.20496618540387612, 0.9823914961910548, 1.0122050368084206, 1.0006699311823066, 1.0063809823481056, 0.9952870481812109, 0.1394901979224555, 0.170875492455008, 0.3173402002735863, 0.3731362794425685, 0.9900531801126767, 0.9996189471108551, 0.9937121452613336, 0.0063359573678629325, 0.9947453067544805, 0.9941836822384478, 0.9988997019037394, 1.0023165759845587, 0.26171336854504257, 0.7389553935389438, 0.9610435215370073, 0.998032646465233, 0.0069734055972524266, 0.9902235948098446, 0.9610435215370073, 1.0001120059548807, 1.0078026367896593, 0.00403969757926201, 0.9978053020777164, 0.9962410196227383, 0.995696538808546, 0.0045465595379385665, 0.9968499092251515, 1.00497261635416, 0.9888834982726945, 0.013927936595390064, 1.0009838862972056, 0.9987806127527039, 1.0013801817965555, 0.9927395553313355, 0.010615331612026845, 0.9872258399184966, 0.15677693525165573, 0.38758742326103773, 0.45508860371661175, 0.9939820422733252, 1.0090906135990807, 0.9610435215370073, 0.41130176640242566, 0.4019539989841887, 0.03739106967294779, 0.14769472520814375, 0.9533268185848129, 0.6567073665418122, 0.3447713674344514, 1.0039500815638216, 0.9470073419930952, 1.001007095964811, 0.7328340018585656, 0.25703879169666105, 0.010937820923262174, 0.9973631749125282, 0.9938916854068929, 0.9936082334545937, 1.0004456584397095, 1.001007095964811, 0.9610435215370073, 0.19428811407871827, 0.803950816877455, 0.028531077235931002, 0.9700566260216541, 0.29439556246955884, 0.691652225079084, 0.014187737950340184, 0.9921029872689092, 0.014023061268684097, 0.04908071444039434, 0.9325335743674924, 1.007441841010382, 0.9973673714596087, 1.0034427241125117, 0.13045860506257062, 0.11803397600899247, 0.09007856063844162, 0.6585053398396422, 0.9470073419930952, 0.5968990088362601, 0.40350372997331185, 0.013690639441791979, 0.011408866201493315, 0.30575761420002084, 0.3970285438119674, 0.2715310155955409, 1.0047517111156747, 0.996122240224263, 0.9966598557932136, 0.11880530757740766, 0.8809525637343625, 0.7371904225231366, 0.2630572661567603, 0.9343431109000805, 0.9946233258654831, 0.9961107681608621, 0.006965809567558476, 0.9633104791527987, 0.960966836576305, 1.004173980314428, 0.012797921112278784, 0.9854399256454663, 0.8040739293053741, 0.19581074962358852, 0.9961657794222525, 1.0047272334229507, 0.996849878231013, 0.9968499092251515, 1.0006115876247514, 0.028722399167985888, 0.9693809719195237, 0.9983398891427017, 0.996849878231013, 1.003442767105333, 0.9998967508627702, 0.9969666327649649, 0.0027770658294288715, 1.0010819045358006, 1.000356207181871, 0.9990407768821901, 0.13883180275040372, 0.46057944040418297, 0.4000461425224903, 0.48597633727494566, 0.5142777878650007, 1.0023165759845587, 0.9533268185848129, 0.9610435215370073, 0.6449957927141136, 0.1267621789149125, 0.23115456155072278, 1.0058420013260443, 0.9784259264353181, 0.9784259264353181, 0.9896597134081405, 0.014553819314825595, 0.8632374799477774, 0.13923185160448023, 0.9994639809240534, 0.5125519495899712, 0.16548762497972164, 0.3217814930161254, 0.9985081843945196, 0.14203467788549318, 0.09742122137017802, 0.19393196403596186, 0.3997001512290481, 0.16661760290413624, 0.999232789193239, 1.0016618499666803, 0.9343431109000805, 1.0013577840861458, 0.9954484321444237, 0.00686047682781531, 0.9947691400332199, 0.9991362545329053, 1.0160576881288894, 1.0110401442828312, 1.0059426390954787, 0.9884230125066612, 0.06785033908447302, 0.23899522423784528, 0.001012691628126463, 0.6926810736385007, 1.0006551003585271, 1.002850289680128, 0.9610435215370073, 1.004170915576003, 0.9610435215370073, 0.00159560502816201, 0.6143079358423739, 0.23136272908349145, 0.15317808270355296, 1.0425378596298576, 0.9533268185848129, 0.9470073419930952, 1.005399333424319, 1.0002100302864418, 0.9343431109000805, 0.9234883107370243, 0.9986101044101312, 1.0046700261267507, 0.014829097535536491, 0.9787204373454084, 0.9234883107370243, 0.9633104383769494, 0.9994715379830884, 0.9953279602197576, 0.9234883426535184, 0.9730353946444751, 0.8421784708028998, 0.1508379350691761, 0.00628491396121567, 0.18803861303098016, 0.2810682426357809, 0.530466824129502, 0.9633104728795908, 0.17436771490628336, 0.1245483677902024, 0.003558524794005783, 0.07117049588011566, 0.6263003637450179], \"Term\": [\"ability\", \"ability\", \"ability\", \"ability\", \"abstract\", \"accessible\", \"accomplish\", \"accuracy\", \"accurate\", \"accurate\", \"accurate\", \"accurate\", \"achieve\", \"achieve\", \"achievement\", \"acquisition\", \"activity\", \"activity\", \"activity\", \"activity\", \"ad\", \"adaptive\", \"address\", \"address\", \"address\", \"adoption\", \"advance\", \"advance\", \"advance\", \"advance\", \"advance\", \"advance\", \"affair\", \"age\", \"ahead\", \"ai\", \"aim\", \"aim\", \"aim\", \"aim\", \"aim\", \"algorithm\", \"algorithm\", \"alzheimer\", \"ambition\", \"american\", \"amino_acid\", \"amount\", \"amount\", \"analysis\", \"analysis\", \"analysis\", \"analysis\", \"analysis\", \"analytic\", \"analytic\", \"analytic\", \"ann\", \"anns\", \"apparent\", \"appeal\", \"application\", \"application\", \"apply\", \"apply\", \"apply\", \"apply\", \"approach\", \"approach\", \"approach\", \"approach\", \"area\", \"area\", \"area\", \"area\", \"area\", \"argue\", \"article\", \"article\", \"artificial_intelligence\", \"artificial_neural_network\", \"aspect\", \"aspect\", \"aspect\", \"assay\", \"assess\", \"assess\", \"assessment\", \"assessment\", \"assessment\", \"assessment\", \"assign\", \"associate\", \"associate\", \"asthma\", \"attack\", \"attentional\", \"author\", \"author\", \"automate\", \"automate\", \"automate\", \"average\", \"background\", \"barrier\", \"base\", \"base\", \"base\", \"base\", \"basic\", \"bayesian\", \"bd\", \"bedside\", \"begin\", \"behavior\", \"behavior\", \"behavioral\", \"benefit\", \"benefit\", \"bias\", \"bibliographic\", \"big\", \"bind\", \"biochemically\", \"biological\", \"biological\", \"biological\", \"biology\", \"biology\", \"biomarker\", \"biosurveillance\", \"bipolar\", \"bipolar_disorder_bd\", \"black_box\", \"brain\", \"branch\", \"breast\", \"breast_cancer\", \"broad\", \"broad\", \"building\", \"cad\", \"calpain\", \"cancer\", \"cancer\", \"cardiac\", \"cardiac\", \"cardiology\", \"cardiovascular\", \"care\", \"care\", \"carry\", \"cartilage\", \"cartography\", \"categorization\", \"cell\", \"cellular\", \"challenge\", \"challenge\", \"challenge\", \"change\", \"change\", \"change\", \"characterize\", \"characterize\", \"characterize\", \"chemical\", \"child\", \"chir\", \"ci\", \"cisregulatory\", \"claim\", \"classification\", \"classifier\", \"classify\", \"classify\", \"cleavage\", \"clinic\", \"clinical\", \"clinical\", \"clinical\", \"clinical\", \"clinician\", \"clue\", \"clustering\", \"code\", \"code\", \"cognitive\", \"cognitive\", \"cohort\", \"colocalize\", \"combination\", \"combination\", \"combination\", \"combination\", \"communication\", \"community\", \"community\", \"community\", \"compare\", \"compare\", \"compare\", \"completely\", \"complex\", \"complex\", \"complexity\", \"compound\", \"computational\", \"computational\", \"compute\", \"computeraided\", \"computerbase\", \"computing\", \"concept\", \"concept\", \"conceptually\", \"conclude\", \"conclusion\", \"conduct\", \"considerable\", \"construct\", \"contagious\", \"continuous\", \"control\", \"control\", \"controversial\", \"conventional\", \"conventional\", \"convolutional_neural_network\", \"core\", \"coreference\", \"corpus\", \"counterpart\", \"couple\", \"covid\", \"criterion\", \"critical\", \"critical\", \"critical\", \"critical\", \"crowdsourcing\", \"ct\", \"current\", \"current\", \"current\", \"current\", \"cys\", \"cytological\", \"data\", \"data\", \"database\", \"datadriven\", \"dataset\", \"dataset\", \"dcomp\", \"deal\", \"deal\", \"deamidate\", \"decade\", \"decision\", \"decision\", \"decision_support\", \"decisionmaking\", \"decompose\", \"deep\", \"deficit\", \"degradation\", \"delivery\", \"delivery\", \"demand\", \"demographic\", \"demonstrate\", \"demonstrate\", \"dense\", \"depend\", \"depend\", \"deployment\", \"depress\", \"depressed\", \"depression\", \"depressive\", \"descriptor\", \"design\", \"design\", \"design\", \"detection\", \"detection\", \"develop\", \"develop\", \"develop\", \"develop\", \"development\", \"development\", \"development\", \"development\", \"device\", \"devote\", \"diabetes\", \"diagnose\", \"diagnose\", \"diagnosis\", \"diagnosis\", \"diagnostic\", \"diagnostic\", \"diagnostic\", \"dictionary\", \"diego\", \"digital\", \"digitize\", \"dimensionality_reduction\", \"direction\", \"discovery\", \"discovery\", \"discriminative\", \"discuss\", \"discuss\", \"discuss\", \"discuss\", \"discussion\", \"disease\", \"disease\", \"disease\", \"disease\", \"diseaserelevant\", \"disorder\", \"divergent\", \"dl\", \"dna\", \"document\", \"drive\", \"drive\", \"drug\", \"drug_discovery\", \"due\", \"due\", \"due\", \"due\", \"early\", \"early\", \"early\", \"ecg\", \"ecm\", \"eeg\", \"effect\", \"effect\", \"effectiveness\", \"electronic_health_record\", \"elucidate\", \"embrace\", \"emotion\", \"emphasize\", \"enable\", \"enable\", \"enable\", \"endometrial\", \"energy\", \"engineering\", \"engineering\", \"english\", \"enrich\", \"entity\", \"enumerate\", \"environment\", \"epigenetic\", \"epigenetic\", \"epilepsy\", \"era\", \"era\", \"estimate\", \"estimate\", \"estimation\", \"ethical\", \"evidencebased\", \"excellent\", \"experimental\", \"explosion\", \"exponentially\", \"exposure\", \"exposure\", \"expressive\", \"extrapolability\", \"factor\", \"factor\", \"fail\", \"false\", \"familial\", \"familiar\", \"farreaching\", \"feature\", \"feature\", \"feature\", \"feature_selection\", \"feature_selection\", \"fibulin\", \"field\", \"field\", \"field\", \"filtering\", \"finally\", \"finally\", \"finally\", \"find\", \"find\", \"find\", \"finding\", \"finding\", \"finding\", \"finding\", \"firstly\", \"focus\", \"focus\", \"focus\", \"focus\", \"focus\", \"fold\", \"follistatinlike\", \"follow\", \"follow\", \"frequently\", \"ftir\", \"function\", \"function\", \"functional\", \"functional\", \"future\", \"future\", \"future\", \"future\", \"gain\", \"gene\", \"gene\", \"generate\", \"generate\", \"generation\", \"genetic\", \"genetic\", \"genomewide_association\", \"genomic\", \"genomics\", \"genotype\", \"geopositione\", \"give\", \"give\", \"give\", \"global\", \"goal\", \"goal\", \"good\", \"good\", \"graph\", \"ground_truth\", \"guideline\", \"guideline\", \"half\", \"handle\", \"handling\", \"hardware\", \"health\", \"healthcare\", \"healthy\", \"heart\", \"heart_failure\", \"heterogeneity\", \"high\", \"high\", \"high\", \"high\", \"high_throughput\", \"highcost\", \"highdimensional\", \"highranking\", \"historical\", \"history\", \"host\", \"http\", \"human\", \"human\", \"human\", \"hypo\", \"identification\", \"identification\", \"identify\", \"identify\", \"identify\", \"identify\", \"illness\", \"illustration\", \"image\", \"imagebase\", \"imaging\", \"imagingbased\", \"immune\", \"impact\", \"impact\", \"implementation\", \"implementation\", \"implication\", \"important\", \"important\", \"important\", \"important\", \"important\", \"improve\", \"improve\", \"improve\", \"improve\", \"improved\", \"include\", \"include\", \"include\", \"include\", \"include\", \"include\", \"include\", \"inclusion\", \"incompletely\", \"incorporate\", \"increase\", \"increase\", \"increase\", \"increase\", \"increase\", \"increase\", \"increase\", \"individual\", \"individual\", \"individual\", \"industry\", \"inference\", \"inflammation\", \"informatic\", \"information\", \"information\", \"information\", \"information\", \"infrared\", \"inheritance\", \"innovation\", \"innovation\", \"innovative\", \"inspire\", \"instance\", \"institute\", \"integral_part\", \"integrate\", \"integrate\", \"integrate\", \"integration\", \"integration\", \"integrative\", \"intelligence\", \"interaction\", \"international\", \"interpret\", \"interpretation\", \"interpretation\", \"intervention\", \"intervention\", \"intracellular\", \"introduction\", \"issue\", \"issue\", \"joint\", \"journal\", \"key\", \"key\", \"key\", \"key\", \"knowledge\", \"knowledge\", \"knowledge\", \"label\", \"labelfree\", \"laboratory\", \"labour\", \"language\", \"large\", \"large\", \"large\", \"large\", \"largescale\", \"learn\", \"learn\", \"learn\", \"learner\", \"learning\", \"learning\", \"learning\", \"learning\", \"lesion\", \"lesion\", \"lesson\", \"lethality\", \"limitation\", \"limitation\", \"limitation\", \"list\", \"literature\", \"liver\", \"lowthroughput\", \"mac\", \"machine\", \"machine\", \"machine\", \"make\", \"make\", \"make\", \"management\", \"mandate\", \"manic\", \"mapping\", \"mass_spectrometry\", \"massive\", \"match\", \"material\", \"material\", \"mathematical\", \"mechanism\", \"mechanism\", \"mechanism\", \"mediator\", \"medical\", \"medical\", \"medical\", \"medical\", \"medical\", \"medicine\", \"medium\", \"medline\", \"meet\", \"mental\", \"mention\", \"metabolomic\", \"method\", \"method\", \"method\", \"method\", \"microbial\", \"microscope\", \"microscopy\", \"mining\", \"mirna\", \"mitarbeiter\", \"ml\", \"mlbased\", \"mobile\", \"modality\", \"modality\", \"model\", \"model\", \"modeling\", \"modeling\", \"modeling\", \"modelling\", \"modelling\", \"modest\", \"molecular\", \"molecular\", \"molecule\", \"molecule\", \"molecule\", \"monitor\", \"monitoring\", \"morbidity\", \"mortality\", \"motivation\", \"move\", \"movement\", \"mri\", \"mri\", \"multimodal\", \"multiomics\", \"multiple\", \"multiple\", \"multiple\", \"multiple\", \"multiple\", \"multivariate\", \"mutation\", \"necessitate\", \"necessity\", \"negative\", \"network\", \"network\", \"neural\", \"neural_network\", \"neural_network\", \"neuroimaging\", \"neuron\", \"neuroscience\", \"ninetyeight\", \"nodule\", \"nondestructive\", \"noninvasive\", \"nonstructural\", \"normal\", \"normalize\", \"number\", \"number\", \"number\", \"oa\", \"objective\", \"objective\", \"obtain\", \"obtain\", \"obtain\", \"omic\", \"omission\", \"oncology\", \"onedimensional\", \"operate\", \"ophthalmology\", \"opportunity\", \"opportunity\", \"opportunity\", \"opportunity\", \"organellar\", \"organism\", \"osteoarthritis\", \"outbreak\", \"outcome\", \"outcome\", \"outperform\", \"overview\", \"overview\", \"overwhelming\", \"pain\", \"pancreatitis\", \"pandemic\", \"paper\", \"paper\", \"paper\", \"parkinson\", \"part\", \"participate\", \"past\", \"pathogen\", \"pathology\", \"patient\", \"patient\", \"patientcentered\", \"pattern\", \"pattern\", \"pattern_recognition\", \"pd\", \"pediatric\", \"pediatric\", \"penetrance\", \"peptide\", \"perceivable\", \"perform\", \"perform\", \"perform\", \"performance\", \"performance\", \"perspective\", \"perspective\", \"phenotype\", \"phenotype\", \"phenotyping\", \"photograph\", \"phrase\", \"physical\", \"physical_activity\", \"physician\", \"plant\", \"plant\", \"plastidial\", \"platform\", \"platform\", \"polygenic\", \"polymorphism\", \"poor\", \"popular\", \"population\", \"population\", \"positive\", \"positive\", \"potential\", \"potential\", \"potential\", \"potential\", \"potential\", \"practice\", \"practitioner\", \"precision_medicine\", \"preclinical\", \"predict\", \"predict\", \"predict\", \"prediction\", \"prediction\", \"prediction\", \"predictive\", \"predictive\", \"predictor\", \"predictor\", \"preference\", \"preprocesse\", \"present\", \"present\", \"present\", \"present\", \"present\", \"present\", \"press\", \"prevalence\", \"prevention\", \"prevention\", \"privacy\", \"proactive\", \"probability\", \"probability_estimation\", \"problem\", \"problem\", \"process\", \"process\", \"process\", \"process\", \"process\", \"process\", \"product\", \"production\", \"profiling\", \"prognostic\", \"program\", \"program\", \"project\", \"property\", \"protease\", \"protein\", \"proteolysis\", \"proteomic\", \"provide\", \"provide\", \"provide\", \"provide\", \"provide\", \"provider\", \"psychiatric\", \"psychiatry\", \"psychosis\", \"public_health\", \"publication\", \"publish\", \"publish\", \"pubmed\", \"pubmed\", \"qdgr\", \"qht\", \"qhts\", \"quantification\", \"quantitative\", \"radiomic\", \"radiotherapy\", \"rate\", \"rate\", \"reaction\", \"reader\", \"reaffirm\", \"recent\", \"recent\", \"recent\", \"receptor\", \"reconstruction\", \"recurrent\", \"reference\", \"region\", \"region\", \"regulate\", \"reinvestment\", \"relative\", \"relaxation\", \"relevant\", \"relevant\", \"relevant\", \"report\", \"report\", \"report\", \"report\", \"repurpose\", \"require\", \"require\", \"require\", \"require\", \"requirement\", \"research\", \"research\", \"research\", \"research\", \"resistance\", \"response\", \"response\", \"response\", \"result\", \"result\", \"result\", \"retinal\", \"review\", \"review\", \"review\", \"review\", \"review\", \"review\", \"reward\", \"rheumatoid_arthritis\", \"risk\", \"rna\", \"robot\", \"role\", \"role\", \"role\", \"role\", \"routinely\", \"rule\", \"rulebased\", \"safety\", \"safety\", \"scan\", \"scenario\", \"schizophrenia\", \"science\", \"science\", \"sciverse\", \"scope\", \"score\", \"score\", \"scoringmatrix\", \"search\", \"segment\", \"segmentation\", \"segmentation\", \"seizure\", \"select\", \"select\", \"semisupervised\", \"sensing\", \"sensitivity_specificity\", \"sensitivity_specificity\", \"sensor\", \"sepsis\", \"sequence\", \"serum\", \"service\", \"service\", \"set\", \"set\", \"set\", \"severe\", \"severity\", \"sheet\", \"show\", \"show\", \"show\", \"show\", \"showcase\", \"signal\", \"signal\", \"silico\", \"simplicity\", \"simulation\", \"single\", \"single\", \"single\", \"site\", \"skill\", \"skin\", \"smart\", \"society\", \"sociology\", \"solution\", \"solution\", \"solve\", \"solve\", \"source\", \"source\", \"source\", \"sparse\", \"specifically\", \"specifically\", \"specifically\", \"spectroscopy\", \"spectrum\", \"speech\", \"state\", \"state\", \"state\", \"state\", \"stateofart\", \"statistical\", \"statistical\", \"strategy\", \"strategy\", \"strategy\", \"strategy\", \"strategy\", \"strength\", \"stress\", \"stroke\", \"structure\", \"structure\", \"study\", \"study\", \"subclinical\", \"subgroup\", \"subject\", \"subject\", \"suboptimal\", \"subroutine\", \"substrate\", \"subtype\", \"subtype\", \"suggest\", \"suggest\", \"suicide\", \"suit\", \"supervise\", \"supervised\", \"support_vector\", \"surgery\", \"surgery\", \"surgical\", \"svm\", \"symptom\", \"system\", \"systematic\", \"systematic\", \"tailor\", \"target\", \"task\", \"technique\", \"technique\", \"technique\", \"technology\", \"technology\", \"temporal\", \"temporal_resolution\", \"tenet\", \"term\", \"term\", \"term\", \"text\", \"tf\", \"tfs\", \"theoretical\", \"theoretical\", \"theory\", \"theory\", \"therapy\", \"time\", \"time\", \"time\", \"tissue\", \"tool\", \"tool\", \"tool\", \"tool\", \"tool\", \"topic\", \"total\", \"tox\", \"toxicity\", \"track\", \"train\", \"train\", \"training\", \"transcription\", \"transcriptional\", \"transition\", \"transparency\", \"treatment\", \"treatment\", \"treatment\", \"treatment\", \"tumor\", \"tumour\", \"twostate\", \"ultrasound\", \"uncharacterized\", \"understand\", \"understand\", \"understand\", \"understand\", \"unipolar_depression\", \"uniqueness\", \"unlabeled\", \"unprecedented\", \"unsupervised\", \"urine\", \"va\", \"variable\", \"variation\", \"vary\", \"vary\", \"veteran\", \"volunteer\", \"wearable\", \"web\", \"weigh\", \"white_matter\", \"widely\", \"widely\", \"widely\", \"work\", \"work\", \"work\", \"workshop\", \"year\", \"year\", \"year\", \"year\", \"year\"]}, \"R\": 30, \"lambda.step\": 0.01, \"plot.opts\": {\"xlab\": \"PC1\", \"ylab\": \"PC2\"}, \"topic.order\": [1, 2, 3, 4, 5, 6, 7, 8, 9, 10]};\n",
       "\n",
       "function LDAvis_load_lib(url, callback){\n",
       "  var s = document.createElement('script');\n",
       "  s.src = url;\n",
       "  s.async = true;\n",
       "  s.onreadystatechange = s.onload = callback;\n",
       "  s.onerror = function(){console.warn(\"failed to load library \" + url);};\n",
       "  document.getElementsByTagName(\"head\")[0].appendChild(s);\n",
       "}\n",
       "\n",
       "if(typeof(LDAvis) !== \"undefined\"){\n",
       "   // already loaded: just create the visualization\n",
       "   !function(LDAvis){\n",
       "       new LDAvis(\"#\" + \"ldavis_el155391405756050081924531809794\", ldavis_el155391405756050081924531809794_data);\n",
       "   }(LDAvis);\n",
       "}else if(typeof define === \"function\" && define.amd){\n",
       "   // require.js is available: use it to load d3/LDAvis\n",
       "   require.config({paths: {d3: \"https://d3js.org/d3.v5\"}});\n",
       "   require([\"d3\"], function(d3){\n",
       "      window.d3 = d3;\n",
       "      LDAvis_load_lib(\"https://cdn.jsdelivr.net/gh/bmabey/pyLDAvis@3.3.1/pyLDAvis/js/ldavis.v3.0.0.js\", function(){\n",
       "        new LDAvis(\"#\" + \"ldavis_el155391405756050081924531809794\", ldavis_el155391405756050081924531809794_data);\n",
       "      });\n",
       "    });\n",
       "}else{\n",
       "    // require.js not available: dynamically load d3 & LDAvis\n",
       "    LDAvis_load_lib(\"https://d3js.org/d3.v5.js\", function(){\n",
       "         LDAvis_load_lib(\"https://cdn.jsdelivr.net/gh/bmabey/pyLDAvis@3.3.1/pyLDAvis/js/ldavis.v3.0.0.js\", function(){\n",
       "                 new LDAvis(\"#\" + \"ldavis_el155391405756050081924531809794\", ldavis_el155391405756050081924531809794_data);\n",
       "            })\n",
       "         });\n",
       "}\n",
       "</script>"
      ],
      "text/plain": [
       "PreparedData(topic_coordinates=              x         y  topics  cluster       Freq\n",
       "topic                                                \n",
       "0      0.098293 -0.147664       1        1  10.083911\n",
       "1     -0.171748 -0.082476       2        1   9.285187\n",
       "2     -0.083638 -0.048600       3        1  10.252845\n",
       "3     -0.066566  0.329419       4        1  10.290466\n",
       "4      0.010561  0.149691       5        1   9.561048\n",
       "5      0.194199 -0.164431       6        1   9.960547\n",
       "6     -0.120140 -0.179682       7        1  10.485176\n",
       "7      0.160738  0.158895       8        1   9.805802\n",
       "8      0.251538 -0.005152       9        1  10.146307\n",
       "9     -0.273237 -0.010000      10        1  10.128712, topic_info=            Term         Freq        Total Category  logprob  loglift\n",
       "30          data  4402.000000  4402.000000  Default  30.0000  30.0000\n",
       "70       machine  4377.000000  4377.000000  Default  29.0000  29.0000\n",
       "200     learning  3076.000000  3076.000000  Default  28.0000  28.0000\n",
       "107        study  2539.000000  2539.000000  Default  27.0000  27.0000\n",
       "354        model  2334.000000  2334.000000  Default  26.0000  26.0000\n",
       "..           ...          ...          ...      ...      ...      ...\n",
       "551        early   174.454116   393.587495  Topic10  -5.2333   1.4762\n",
       "4       approach   282.551453  2219.660794  Topic10  -4.7511   0.2285\n",
       "106  statistical   169.102760   418.831320  Topic10  -5.2644   1.3828\n",
       "501   individual   161.610862   418.080460  Topic10  -5.3097   1.3393\n",
       "60       include   174.454116  1445.109036  Topic10  -5.2333   0.1755\n",
       "\n",
       "[823 rows x 6 columns], token_table=      Topic      Freq      Term\n",
       "term                           \n",
       "397       3  0.184481   ability\n",
       "397       5  0.028938   ability\n",
       "397       6  0.690899   ability\n",
       "397      10  0.097666   ability\n",
       "2981      1  1.003486  abstract\n",
       "...     ...       ...       ...\n",
       "595       1  0.174368      year\n",
       "595       2  0.124548      year\n",
       "595       5  0.003559      year\n",
       "595       8  0.071170      year\n",
       "595       9  0.626300      year\n",
       "\n",
       "[1112 rows x 3 columns], R=30, lambda_step=0.01, plot_opts={'xlab': 'PC1', 'ylab': 'PC2'}, topic_order=[1, 2, 3, 4, 5, 6, 7, 8, 9, 10])"
      ]
     },
     "execution_count": 27,
     "metadata": {},
     "output_type": "execute_result"
    }
   ],
   "source": [
    "converted_model = ldaMalletConvertToldaGen(ldamallet)\n",
    "pyLDAvis.enable_notebook()\n",
    "plot = gensimvis.prepare(converted_model, corpus, id2word, sort_topics=False)\n",
    "# Save pyLDA plot as html file\n",
    "pyLDAvis.save_html(plot, '../figures/pubmed_LDAmallet_TDS10_tri.html')\n",
    "plot"
   ]
  },
  {
   "cell_type": "markdown",
   "id": "7778de4e-6b70-4ecd-8953-f12030d47cfe",
   "metadata": {},
   "source": [
    "#### Compute Optimal Number of Topics Based on Coherence"
   ]
  },
  {
   "cell_type": "code",
   "execution_count": 28,
   "id": "43804a00-cc50-4dde-9110-837ffad8e059",
   "metadata": {},
   "outputs": [],
   "source": [
    "# an adapted version of a function to compute coherence values over a range of total topic numbers\n",
    "# https://github.com/RaRe-Technologies/gensim/issues/2500\n",
    "\n",
    "def compute_coherence_values(dictionary, all_corpus, texts, limit, start=2, step=2):\n",
    "    coherence_values = []\n",
    "    model_list = []\n",
    "    num_topics_list = []\n",
    "\n",
    "    for num_topics in range(start, limit, step):\n",
    "        model = gensim.models.wrappers.LdaMallet(mallet_path, corpus=all_corpus, num_topics=num_topics, id2word=dictionary,\n",
    "                                         random_seed=42)\n",
    "        #model = gensim.models.ldamodel.LdaModel(corpus=all_corpus,num_topics=num_topics,id2word=dictionary,eval_every=1,\n",
    "        #                                        alpha='auto',random_state=42)\n",
    "        model_list.append(model)\n",
    "        coherencemodel = CoherenceModel(model=model, texts=texts, dictionary=dictionary, coherence='c_v')\n",
    "        coherence_values.append(coherencemodel.get_coherence())\n",
    "        num_topics_list.append(num_topics)\n",
    "        joblib.dump(model,f'stored_models/ldamallet_model{num_topics}_tri.pkl')\n",
    "        joblib.dump(id2word,f'stored_models/id2word_dictionary_mallet{num_topics}_tri.pkl')\n",
    "\n",
    "    return model_list, coherence_values, num_topics_list"
   ]
  },
  {
   "cell_type": "code",
   "execution_count": 30,
   "id": "bfda3f84-d466-4bd0-b5ce-1aa2c7dd9549",
   "metadata": {},
   "outputs": [],
   "source": [
    "# calculate coherence values over the specific range of numbers of topics\n",
    "\n",
    "model_list, coherence_values, num_topics_list = compute_coherence_values(dictionary=id2word,all_corpus=corpus,\n",
    "                                                                         texts=data_words_trigrams,start=4,limit=30, step=2)\n",
    "\n",
    "#store the results in a dataframe\n",
    "model_values_df = pd.DataFrame({'model_list':model_list,'coherence_values':coherence_values,'num_topics':num_topics_list})\n",
    "\n",
    "#find the number of topics that corresponds to the maximum coherence value\n",
    "optimal_num_topics = model_values_df.loc[model_values_df['coherence_values'].idxmax()]['num_topics']\n",
    "\n",
    "#save this as as the optimal model\n",
    "optimal_model = gensim.models.wrappers.LdaMallet(mallet_path, corpus=corpus, num_topics=optimal_num_topics, id2word=id2word, random_seed=42)"
   ]
  },
  {
   "cell_type": "code",
   "execution_count": 31,
   "id": "5f61a6bb-21e3-4171-984e-4e3df08b994d",
   "metadata": {},
   "outputs": [
    {
     "data": {
      "text/plain": [
       "['optimal_ldamallet_model_tri.pkl']"
      ]
     },
     "execution_count": 31,
     "metadata": {},
     "output_type": "execute_result"
    }
   ],
   "source": [
    "#save optimal models\n",
    "joblib.dump(id2word, f'stored_models/id2word_dictionary_mallet_tri.pkl')\n",
    "joblib.dump(optimal_model,f'optimal_ldamallet_model_tri.pkl')"
   ]
  },
  {
   "cell_type": "code",
   "execution_count": 32,
   "id": "d1877021-5cce-40c4-9fee-457bed2f2289",
   "metadata": {},
   "outputs": [
    {
     "data": {
      "image/png": "[encoded data removed]",
      "text/plain": [
       "<Figure size 432x288 with 1 Axes>"
      ]
     },
     "metadata": {
      "needs_background": "light"
     },
     "output_type": "display_data"
    }
   ],
   "source": [
    "# Show coherence values graph\n",
    "limit=30; start=4; step=2;\n",
    "x = range(start, limit, step)\n",
    "plt.plot(x, coherence_values)\n",
    "plt.xlabel(\"Num Topics\")\n",
    "plt.ylabel(\"Coherence score\")\n",
    "plt.xticks(ticks=range(4,30,2))\n",
    "plt.legend((\"coherence_values\"), loc='best')\n",
    "plt.show()"
   ]
  },
  {
   "cell_type": "markdown",
   "id": "2709823e-114f-42fe-b967-0fbfe9d08988",
   "metadata": {},
   "source": [
    "The coherence peaks at 14 topics"
   ]
  },
  {
   "cell_type": "markdown",
   "id": "8a9b825b-462f-4188-b7f4-8f4a97fbe4c0",
   "metadata": {},
   "source": [
    "### Create & Visualize Model with Optimal Number of Topics"
   ]
  },
  {
   "cell_type": "markdown",
   "id": "e531848f-655d-4c2f-a660-e1abeeebd362",
   "metadata": {},
   "source": [
    "#### LDA Mallet Model: 14 Topics"
   ]
  },
  {
   "cell_type": "code",
   "execution_count": 33,
   "id": "528f2fa7-cc8e-492a-a263-f3429c7e0110",
   "metadata": {},
   "outputs": [
    {
     "name": "stdout",
     "output_type": "stream",
     "text": [
      "\n",
      "Coherence Score:  0.47234944948263774\n"
     ]
    }
   ],
   "source": [
    "# Compute Coherence Score\n",
    "coherence_model_lda = CoherenceModel(model=optimal_model, texts=data_words_trigrams, dictionary=id2word, coherence='c_v')\n",
    "coherence_lda = coherence_model_lda.get_coherence()\n",
    "print('\\nCoherence Score: ', coherence_lda)"
   ]
  },
  {
   "cell_type": "code",
   "execution_count": 35,
   "id": "b3ea83d4-ae98-4a74-b844-7f7e855e51ec",
   "metadata": {},
   "outputs": [
    {
     "data": {
      "text/html": [
       "\n",
       "<link rel=\"stylesheet\" type=\"text/css\" href=\"https://cdn.jsdelivr.net/gh/bmabey/pyLDAvis@3.3.1/pyLDAvis/js/ldavis.v1.0.0.css\">\n",
       "\n",
       "\n",
       "<div id=\"ldavis_el155391405766596780324432652380\"></div>\n",
       "<script type=\"text/javascript\">\n",
       "\n",
       "var ldavis_el155391405766596780324432652380_data = {\"mdsDat\": {\"x\": [-0.19555948908255782, -0.1750411707493486, -0.08147909987605377, 0.09039212284434303, -0.020113008258443945, -0.15137367783468472, 0.1449386003824522, 0.10194451217499921, -0.057593574571819656, 0.08477481657886923, 0.20906530331232873, 0.22673619797743372, 0.043292618097312836, -0.21998415099483068], \"y\": [-0.147585698325876, 0.23463727209117874, -0.07008994909209461, -0.10925445099956427, 0.12239650162459689, -0.18340644339526027, -0.13209349669430312, 0.28107874369149993, 0.1854471847579898, -0.08944210643826808, 0.0006679029201348538, -0.04851569683681743, 0.0039643473990378, -0.04780411070225312], \"topics\": [1, 2, 3, 4, 5, 6, 7, 8, 9, 10, 11, 12, 13, 14], \"cluster\": [1, 1, 1, 1, 1, 1, 1, 1, 1, 1, 1, 1, 1, 1], \"Freq\": [6.939012956316522, 7.416535710828907, 7.251639509071997, 7.7856027949126005, 7.24308386507615, 7.278295170499689, 7.020814429663804, 7.640945315829276, 7.118085907447259, 6.867517140431166, 6.735102811482682, 6.7481763933058, 6.725094678426256, 7.230093316707893]}, \"tinfo\": {\"Term\": [\"data\", \"machine\", \"learning\", \"model\", \"learn\", \"study\", \"method\", \"clinical\", \"disease\", \"image\", \"prediction\", \"artificial_intelligence\", \"patient\", \"deep\", \"research\", \"system\", \"imaging\", \"recent\", \"analysis\", \"application\", \"review\", \"drug\", \"future\", \"technology\", \"ai\", \"development\", \"computational\", \"treatment\", \"technique\", \"advance\", \"illustration\", \"preprocessing_feature_extraction\", \"stateofart\", \"biochemically\", \"uncharacterise\", \"affair\", \"coreference\", \"ground_truth\", \"phrase\", \"fibulin\", \"order\", \"throughput\", \"press\", \"ahead\", \"fulfill\", \"surprisingly\", \"survey\", \"twoclass\", \"dense\", \"observable\", \"scientific_community\", \"bisphosphate\", \"sudden_event_recognition\", \"comprehensible\", \"fill\", \"difficulty\", \"inexpensive\", \"department\", \"predefined\", \"ii\", \"recognition\", \"start\", \"computer_vision\", \"protocol\", \"detailed\", \"hardware\", \"pattern_recognition\", \"team\", \"video\", \"period\", \"industrial\", \"unit\", \"manufacturing\", \"popularity\", \"accelerometer\", \"force\", \"nlp\", \"attract\", \"sufficient\", \"ground\", \"save\", \"expectation\", \"game\", \"pro\", \"facial\", \"dnns\", \"detail\", \"transfer\", \"receive\", \"physical_activity\", \"object\", \"exist\", \"step\", \"processing\", \"time\", \"main\", \"work\", \"long\", \"practical\", \"overview\", \"machinelearning\", \"attention\", \"process\", \"event\", \"aim\", \"lack\", \"software\", \"number\", \"paper\", \"present\", \"task\", \"focus\", \"domain\", \"researcher\", \"provide\", \"application\", \"field\", \"technique\", \"base\", \"develop\", \"give\", \"information\", \"increase\", \"review\", \"automate\", \"challenge\", \"algorithm\", \"make\", \"decision_support\", \"chir\", \"noun\", \"follistatinlike\", \"reemergent\", \"skill\", \"systemwhich\", \"artificial_intelligence\", \"appraise\", \"plan\", \"bomb\", \"education\", \"strainlevel\", \"equally\", \"planning\", \"hcv\", \"cdss\", \"ai\", \"medicaid\", \"physician\", \"subdiscipline\", \"upsurge\", \"oneclass\", \"infancy\", \"dose\", \"warfarin\", \"logistic\", \"specialist\", \"radiology\", \"neuroevolution\", \"medicine\", \"practice\", \"surgical\", \"surgery\", \"decisionmaking\", \"robotic\", \"radiotherapy\", \"automation\", \"surgeon\", \"radiation_oncology\", \"robot\", \"revolution\", \"replace\", \"undergo\", \"spine\", \"doctor\", \"oral\", \"dental\", \"transparency\", \"radiation_therapy\", \"computer\", \"cardiology\", \"efficiency\", \"workflow\", \"ethical\", \"treatment_planning\", \"medical\", \"decision\", \"care\", \"implementation\", \"narrative\", \"clinical\", \"clinician\", \"improve\", \"impact\", \"concept\", \"application\", \"cardiovascular\", \"potential\", \"evolve\", \"patient\", \"technology\", \"quality\", \"current\", \"article\", \"role\", \"future\", \"human\", \"learn\", \"outcome\", \"increase\", \"algorithm\", \"claim\", \"quantity\", \"ehr\", \"mine\", \"note\", \"bigdata\", \"insurance\", \"overarch\", \"incremental\", \"biomedical\", \"digitized\", \"mining\", \"highcost\", \"unprecedented\", \"purification\", \"enumerate\", \"geopositione\", \"surplus\", \"genomics\", \"illustrative\", \"appropriately\", \"era\", \"qdgrs\", \"qualityoflife\", \"connectomic\", \"graph\", \"filtering\", \"accessible\", \"explosion\", \"shortcut\", \"data\", \"big\", \"omic\", \"knowledge\", \"analytic\", \"multiomics\", \"metabolomic\", \"infrastructure\", \"tremendous\", \"huge\", \"amount\", \"publicly_available\", \"storage\", \"semantic\", \"clinically_relevant\", \"vast_amount\", \"store\", \"unstructured\", \"biotechnology\", \"dairy\", \"electronic_health_record\", \"meaningful\", \"source\", \"proteomic\", \"integration\", \"availability\", \"genomic\", \"dimension\", \"science\", \"modern\", \"massive\", \"create\", \"information\", \"generate\", \"large\", \"analysis\", \"collection\", \"set\", \"project\", \"opportunity\", \"integrate\", \"analyze\", \"complex\", \"enable\", \"research\", \"cancer\", \"tool\", \"provide\", \"challenge\", \"machine\", \"approach\", \"literature\", \"conclusion\", \"extrapolability\", \"conduct\", \"corpus\", \"informatic\", \"mention\", \"systematic\", \"va\", \"veteran\", \"english\", \"inclusion\", \"medline\", \"publish\", \"pubmed\", \"search\", \"bibliographic\", \"deamidate\", \"keywords\", \"oarsi\", \"align\", \"item\", \"comppass\", \"string\", \"textmine\", \"depress\", \"journal\", \"plea\", \"tidy\", \"publication\", \"metaanalysis\", \"total\", \"web\", \"criterion\", \"text\", \"sensitivity_specificity\", \"abstract\", \"systematically\", \"ci\", \"reporting\", \"consensus\", \"operate\", \"query\", \"retrieve\", \"curve\", \"keyword\", \"google_scholar\", \"auc\", \"background\", \"select\", \"objective\", \"list\", \"report\", \"result\", \"study\", \"validation\", \"database\", \"article\", \"perform\", \"good\", \"follow\", \"accuracy\", \"paper\", \"review\", \"find\", \"term\", \"identify\", \"method\", \"performance\", \"research\", \"evaluate\", \"include\", \"base\", \"aim\", \"biospectroscopy\", \"cytological\", \"ftir\", \"histological\", \"imaging\", \"magnetic_resonance\", \"raman_spectroscopy\", \"normal\", \"nuclear\", \"computeraided\", \"reinvestment\", \"ecm\", \"ninetyeight\", \"surrogate\", \"cocomplex\", \"mint\", \"posteriori\", \"saint\", \"subthreshold\", \"biosurveillance\", \"preppi\", \"experimentalist\", \"postprocessing\", \"microscopy\", \"reconstruction\", \"trainablemay\", \"morphological\", \"recycled\", \"image\", \"anatomic\", \"radiomic\", \"tumor\", \"segmentation\", \"cardiac\", \"cad\", \"breast_cancer\", \"lesion\", \"noninvasive\", \"ct\", \"breast\", \"tumour\", \"ultrasound\", \"skin\", \"scan\", \"lung\", \"retinal\", \"feature_extraction\", \"tomography\", \"head\", \"lung_cancer\", \"neck\", \"pet\", \"nodule\", \"glioma\", \"thyroid\", \"acquisition\", \"compute\", \"tissue\", \"pathology\", \"heart\", \"diagnosis\", \"diagnostic\", \"mri\", \"modality\", \"detection\", \"quantitative\", \"analysis\", \"feature\", \"assessment\", \"cancer\", \"technique\", \"automate\", \"provide\", \"improve\", \"medical\", \"conventional\", \"evaluation\", \"disease\", \"clinical\", \"application\", \"review\", \"learning\", \"probability_estimation\", \"support_vector\", \"svm\", \"knowledgeable\", \"learner\", \"semisupervised\", \"supervise\", \"unlabeled\", \"penetrance\", \"firstly\", \"feature_reduction\", \"machinebased\", \"ann\", \"anns\", \"artificial_neural_network\", \"tca\", \"multitask\", \"systematical\", \"\\u03b2strand\", \"metaclassifier\", \"svms\", \"dynamism\", \"manet\", \"overfitte\", \"recurrent_neural\", \"datacollection\", \"oxford\", \"roc_curve\", \"outperform\", \"deep\", \"neural_network\", \"dl\", \"unsupervised\", \"mlbased\", \"usefulness\", \"cnn\", \"primer\", \"burgeon\", \"popular\", \"classic\", \"convolutional_neural_network_cnn\", \"neighbor\", \"dominant\", \"contour\", \"removal\", \"autoencoder\", \"ml\", \"machine\", \"supervised\", \"learn\", \"apply\", \"training\", \"classification\", \"classifier\", \"algorithm\", \"widely\", \"label\", \"basic\", \"strength\", \"performance\", \"problem\", \"ability\", \"architecture\", \"technique\", \"application\", \"achieve\", \"task\", \"dataset\", \"recently\", \"method\", \"review\", \"prediction\", \"present\", \"include\", \"cisregulatory\", \"gene_expression\", \"interaction\", \"onedimensional\", \"protein\", \"regulate\", \"regulation\", \"tf\", \"transcription\", \"transcriptional\", \"amino_acid\", \"calpain\", \"cleavage\", \"cys\", \"protease\", \"proteolysis\", \"scoringmatrix\", \"sequence\", \"substrate\", \"bioinformatic\", \"coverage\", \"fold\", \"membrane\", \"stability\", \"clue\", \"partner\", \"epitope\", \"implicate\", \"modification\", \"oligomeric\", \"genome\", \"bind\", \"expression\", \"mutation\", \"mirna\", \"rna\", \"metabolism\", \"annotation\", \"enzyme\", \"sequencing\", \"site\", \"metabolite\", \"costly\", \"drugtarget_interaction\", \"residue\", \"transcriptome\", \"lncrna\", \"polymorphism\", \"variant\", \"dna\", \"scoring\", \"prediction\", \"comparative\", \"structure\", \"gene\", \"organism\", \"unknown\", \"function\", \"computational\", \"benchmark\", \"bioinformatics\", \"essential\", \"experimental\", \"predict\", \"play\", \"identification\", \"method\", \"tool\", \"role\", \"regulatory\", \"important\", \"approach\", \"biological\", \"develop\", \"discuss\", \"target\", \"identify\", \"feature\", \"review\", \"colocalize\", \"progression\", \"rheumatoid_arthritis\", \"familial\", \"onset\", \"cartilage\", \"diego\", \"diseaserelevant\", \"fib\", \"oa\", \"osteoarthritis\", \"serum\", \"illness\", \"personalize\", \"prevalence\", \"rationale\", \"volunteer\", \"hamper\", \"next_generation_sequencing\", \"suboptimal\", \"half\", \"chronic\", \"frequent\", \"patientspecific\", \"gravy\", \"nonenzyme\", \"anomalous\", \"biomarker_discovery\", \"haystack\", \"prognostic\", \"risk\", \"trial\", \"heterogeneity\", \"mortality\", \"stroke\", \"epigenetic\", \"personalized\", \"subtype\", \"cohort\", \"heart_failure\", \"acute\", \"complication\", \"liver\", \"rare\", \"sepsis\", \"syndrome\", \"asthma\", \"severity\", \"inflammation\", \"kidney\", \"morbidity\", \"inflammatory\", \"individualized\", \"hfpef\", \"treat\", \"treatment\", \"disease\", \"child\", \"biomarker\", \"patient\", \"phenotype\", \"response\", \"outcome\", \"adverse\", \"therapy\", \"clinical\", \"score\", \"factor\", \"associate\", \"predict\", \"early\", \"genetic\", \"variable\", \"precision_medicine\", \"identify\", \"predictive\", \"individual\", \"include\", \"improve\", \"diagnostic\", \"management\", \"diagnosis\", \"lead\", \"consequence\", \"visit\", \"communication\", \"american\", \"health\", \"integral_part\", \"mandate\", \"recovery\", \"submission\", \"life\", \"attack\", \"dcomp\", \"crowdsourcing\", \"infectious_disease\", \"outbreak\", \"abuse\", \"economic\", \"maker\", \"real_life\", \"globe\", \"hosttohost\", \"pandemic\", \"surveillance\", \"public_health\", \"crisis\", \"making\", \"mobile\", \"proactive\", \"provision\", \"sensor\", \"device\", \"monitor\", \"monitoring\", \"wearable\", \"covid\", \"innovation\", \"suicide\", \"medium\", \"smart\", \"ecg\", \"mental_health\", \"sign\", \"hospital\", \"rehabilitation\", \"smartphone\", \"raise\", \"internet\", \"hypertension\", \"thing\", \"personal\", \"access\", \"service\", \"digital\", \"vital\", \"diabetes\", \"user\", \"technology\", \"content\", \"intervention\", \"sensing\", \"healthcare\", \"social\", \"solution\", \"safety\", \"system\", \"management\", \"support\", \"detection\", \"assessment\", \"care\", \"platform\", \"require\", \"tool\", \"impact\", \"include\", \"work\", \"issue\", \"improve\", \"review\", \"module\", \"phenomenon\", \"dynamic\", \"simulation\", \"reaffirm\", \"modeling\", \"qhts\", \"biology\", \"accommodate\", \"reinforcement\", \"categorization\", \"counterpart\", \"equivalence\", \"relation\", \"modelling\", \"characterized\", \"mechanistic\", \"stochastic\", \"viewpoint\", \"coexpression\", \"geometric\", \"exacerbate\", \"graphical\", \"contagious\", \"emergent\", \"mathematical\", \"underpin\", \"computation\", \"tenet\", \"collective\", \"model\", \"material\", \"energy\", \"inference\", \"theory\", \"conceptual\", \"shift\", \"driver\", \"rich\", \"multiscale\", \"building\", \"physics\", \"intrinsic\", \"algorithmic\", \"multiomic\", \"rule\", \"vector\", \"unravel\", \"engineering\", \"network\", \"theoretical\", \"understanding\", \"metabolic\", \"representation\", \"engineer\", \"framework\", \"produce\", \"system\", \"biological\", \"animal\", \"complex\", \"datadriven\", \"understand\", \"principle\", \"explain\", \"predictive\", \"approach\", \"behavior\", \"human\", \"process\", \"mechanism\", \"multiple\", \"propose\", \"complexity\", \"describe\", \"discuss\", \"strategy\", \"insight\", \"deficit\", \"decompose\", \"brain\", \"conceptually\", \"attentional\", \"bd\", \"bipolar\", \"bipolar_disorder_bd\", \"circuitry\", \"connectivity\", \"depressed\", \"depression\", \"depressive\", \"emotion\", \"habenula\", \"hypo\", \"manic\", \"reward\", \"unipolar_depression\", \"white_matter\", \"cognitive\", \"nonstructural\", \"explicate\", \"replicate\", \"autism\", \"behavioral\", \"circuit\", \"disorder\", \"hyperactivity_disorder\", \"mood\", \"age\", \"pain\", \"eeg\", \"neuroimaging\", \"psychiatric\", \"alzheimer\", \"psychiatry\", \"pd\", \"epilepsy\", \"multimodal\", \"neuron\", \"speech\", \"healthy\", \"seizure\", \"neural\", \"multivariate\", \"mental\", \"parkinson\", \"motor\", \"dementia\", \"ad\", \"neuroimage\", \"asd\", \"neuroscience\", \"schizophrenia\", \"language\", \"signal\", \"functional\", \"pattern\", \"subject\", \"control\", \"individual\", \"finding\", \"activity\", \"study\", \"show\", \"suggest\", \"feature\", \"structural\", \"review\", \"analysis\", \"approach\", \"identify\", \"understand\", \"effect\", \"provide\", \"clustering\", \"existence\", \"infrared\", \"mass_spectrometry\", \"microbial\", \"nondestructive\", \"bayesian\", \"sparse\", \"production\", \"discharge\", \"resolution\", \"accomplish\", \"estimation\", \"probability\", \"linear\", \"modest\", \"mac\", \"matrix\", \"temporally\", \"apm\", \"considerably\", \"false\", \"false_positive\", \"intact\", \"dimensional\", \"ambition\", \"cartographic\", \"cartography\", \"distribution\", \"minimum\", \"plant\", \"environmental\", \"regression\", \"estimate\", \"variation\", \"trait\", \"spatial\", \"exposure\", \"causal\", \"local\", \"food\", \"microbiome\", \"crop\", \"choose\", \"water\", \"concentration\", \"quantum\", \"applicable\", \"mixture\", \"kernel\", \"cluster\", \"influence\", \"statistical\", \"simple\", \"size\", \"phenotyping\", \"composition\", \"sample\", \"measure\", \"measurement\", \"high\", \"method\", \"parameter\", \"analytical\", \"large\", \"single\", \"combine\", \"effect\", \"selection\", \"approach\", \"obtain\", \"compare\", \"analysis\", \"genetic\", \"dataset\", \"base\", \"level\", \"low\", \"show\", \"include\", \"result\", \"increase\", \"change\", \"apply\", \"time\", \"molecular\", \"anticancer\", \"cheminformatic\", \"inhibitor\", \"virus\", \"cell_line\", \"selectivity\", \"assay\", \"cellbased\", \"chemical\", \"drug_discovery\", \"perceivable\", \"qht\", \"quantitative_relationship\", \"readout\", \"silico\", \"tox\", \"toxicity\", \"toxicological\", \"toxicology\", \"vivo\", \"cell\", \"extracellular\", \"molecule\", \"peptide\", \"sciverse\", \"exploitation\", \"evolutionary\", \"dock\", \"drug\", \"compound\", \"active\", \"synthesis\", \"resistance\", \"immune\", \"reaction\", \"agent\", \"pathogen\", \"descriptor\", \"receptor\", \"repurpose\", \"chemistry\", \"hiv\", \"vaccine\", \"virtual_screening\", \"ligand\", \"design\", \"property\", \"candidate\", \"infection\", \"target\", \"discovery\", \"therapeutic\", \"strategy\", \"development\", \"pathway\", \"computational\", \"approach\", \"cancer\", \"develop\", \"activity\", \"screen\", \"focus\", \"include\", \"combination\", \"move\", \"emergence\", \"art\", \"foundation\", \"computerguide\", \"glycolytic\", \"stateofthe\", \"trend\", \"anthropology\", \"historical\", \"tcm\", \"dramatically\", \"ribulose\", \"breakthrough\", \"face\", \"core\", \"pervasive\", \"installation\", \"edition\", \"oculomotor\", \"past\", \"cytosol\", \"regressionbase\", \"conflict\", \"pertain\", \"shortage\", \"straddle\", \"crash\", \"road\", \"vehicular\", \"direction\", \"translational\", \"exciting\", \"avenue\", \"bring\", \"encourage\", \"investigator\", \"forensic\", \"remarkable\", \"academic\", \"translation\", \"path\", \"wave\", \"accumulate\", \"mainstream\", \"biomedicine\", \"ago\", \"advance\", \"decade\", \"specifically\", \"recent\", \"considerable\", \"future\", \"progress\", \"perspective\", \"advancement\", \"highlight\", \"research\", \"major\", \"area\", \"discuss\", \"field\", \"emerge\", \"challenge\", \"limitation\", \"current\", \"development\", \"year\", \"summarize\", \"remain\", \"issue\", \"potential\", \"key\", \"review\", \"address\", \"focus\", \"provide\", \"offer\", \"make\", \"machine\"], \"Freq\": [4411.0, 4293.0, 3011.0, 2358.0, 2395.0, 2492.0, 3097.0, 2136.0, 1626.0, 1332.0, 1535.0, 1277.0, 1651.0, 1172.0, 1746.0, 1499.0, 1055.0, 1219.0, 1902.0, 2098.0, 3208.0, 923.0, 1171.0, 1230.0, 907.0, 1404.0, 1129.0, 965.0, 1507.0, 907.0, 6.4404724042955905, 8.587296539060787, 8.587296539060787, 1.0734120673825984, 1.0734120673825984, 1.0734120673825984, 10.734120021963763, 10.734120021963763, 6.4404724042955905, 1.0734120673825984, 206.0951169374589, 6.4404724042955905, 12.880944808591181, 18.248004167710842, 5.367060010981882, 8.587296539060787, 268.3530070677163, 1.0734120673825984, 12.880944808591181, 8.587296539060787, 21.468240043927526, 1.0734120673825984, 6.4404724042955905, 12.880944808591181, 11.807532415277473, 47.23012966110989, 11.807532415277473, 10.734120021963763, 6.4404724042955905, 48.30354335814804, 189.99393234147772, 100.90073107465315, 94.46025932221978, 84.79955169356973, 83.72613799653158, 70.84519449166484, 60.111073165976634, 57.9642509867981, 56.89083728975994, 54.744015110581415, 49.37695184028843, 48.30354335814804, 39.71624421163837, 38.642833122049105, 36.496008335421685, 36.496008335421685, 33.275772459205, 31.12894767257758, 28.98212549339905, 28.98212549339905, 28.98212549339905, 27.908711796360897, 27.908711796360897, 26.83530070677163, 26.83530070677163, 26.83530070677163, 101.9741447716913, 63.33130904219332, 48.30354335814804, 48.30354335814804, 45.08330748193136, 285.52760536073566, 154.57133248819642, 189.99393234147772, 324.1704358753359, 223.26969437088718, 367.1069003184976, 83.72613799653158, 118.07531893787696, 262.98593858252553, 167.45227599306315, 124.51579069031033, 388.5751742592606, 109.48803022116283, 250.1049950776588, 129.8828591755011, 117.00191567063435, 234.0038313412687, 327.3906769664503, 337.0513793802026, 205.02170324042075, 310.21607867343096, 140.61697528629153, 177.11298883661098, 447.6128232984036, 484.1088055593364, 346.7120817939549, 397.1624421163837, 305.92242388527836, 293.04148038041166, 174.96616144253468, 258.692304653964, 240.44429266390654, 451.9064780865562, 163.1586316347061, 229.7101765531161, 220.0494741393638, 178.18640253364913, 141.445676747589, 1.0249686682974484, 1.0249686682974484, 1.0249686682974484, 1.0249686682974484, 64.5730282799939, 1.0249686682974484, 1277.1109566924722, 18.4494358551737, 58.4232126124214, 1.0249686682974484, 38.9488102662049, 1.0249686682974484, 11.274655090001374, 59.44818467723611, 1.0249686682974484, 30.749058829660846, 907.0972229340082, 1.0249686682974484, 103.52183297242689, 8.199749346379587, 1.0249686682974484, 1.0249686682974484, 22.54931018000275, 33.8239666634471, 4.0998746731897935, 4.0998746731897935, 19.47440513310245, 204.99372181522438, 1.0249686682974484, 495.05987976410535, 531.9587403269089, 169.1198333172355, 137.345799635874, 111.72158719585691, 111.72158719585691, 103.52183297242689, 76.8726484675951, 59.44818467723611, 57.398246121378605, 57.398246121378605, 50.2234639627633, 45.0986203600055, 43.048684591033954, 40.99874603517645, 36.8988717103474, 36.8988717103474, 36.8988717103474, 35.873902432418646, 33.8239666634471, 193.7190736924379, 63.5480562151792, 126.07114036554368, 139.3957326179596, 87.1223356731107, 44.07365386896271, 609.8563497117749, 192.69410162762318, 452.01118681241354, 220.36825819726968, 69.6978663089798, 909.147211653813, 149.64541982347518, 400.76276193237936, 202.94379998068263, 175.2696434110361, 643.680316375222, 155.7952410648196, 372.06363329791816, 92.2471792758685, 378.21342109663107, 302.3657558413945, 159.8951070289908, 224.46814645652853, 203.96877204549733, 181.4194535048367, 216.26839223309852, 174.2446713462214, 229.59298448551442, 174.2446713462214, 162.97001207589108, 170.1447942345064, 22.94079835388085, 45.8815967077617, 39.625017072563686, 19.812508536281843, 39.625017072563686, 11.470399176940425, 11.470399176940425, 11.470399176940425, 11.470399176940425, 172.05599582887683, 2.0855271695276367, 153.2862541983593, 1.0427635847638184, 67.77963224326346, 1.0427635847638184, 4.1710543390552735, 1.0427635847638184, 1.0427635847638184, 68.82239506164255, 7.299345178500587, 7.299345178500587, 148.07242920676993, 1.0427635847638184, 1.0427635847638184, 14.598690357001175, 28.15461789562326, 1.0427635847638184, 63.60858096974711, 21.898035535501762, 3.128290839445314, 4410.889882654786, 573.5199642968682, 202.29613936125827, 413.9771331882344, 203.33889127994343, 109.49018312735578, 85.50661650524887, 51.09541624950411, 51.09541624950411, 46.92435952614079, 201.25336564318525, 41.710542709321864, 41.710542709321864, 36.49672589250294, 34.411197530821276, 33.36843471244219, 30.24014353238144, 30.24014353238144, 28.15461789562326, 27.11185235232069, 94.8914927703546, 51.09541624950411, 255.4770757976736, 91.7631934155234, 238.79287070360817, 141.8158522964954, 276.33235396464323, 44.83883388938261, 340.98369230292246, 159.54283110863383, 63.60858096974711, 133.47373884976875, 496.3554939374278, 206.46719063477462, 363.9244961066503, 810.2273529624939, 112.61847158249304, 246.09219953256786, 86.54937932362796, 215.85206689988036, 166.84217083728745, 184.56916054911983, 233.5790457120188, 169.97047019211865, 314.9146109437513, 217.93759253663853, 223.1514175282279, 252.34879824223026, 190.82573745939436, 190.82573745939436, 165.79940801890837, 610.1921088732294, 364.01116331986316, 1.0520553721059582, 226.19191332236792, 9.468498074681529, 157.80830563304568, 30.509606613889076, 351.3864904435807, 2.1041107442119165, 1.0520553721059582, 32.6137168095568, 63.12332342344588, 52.602766593969214, 278.7946740651991, 130.4548672382272, 402.93721656756117, 13.676719197409234, 1.0520553721059582, 9.468498074681529, 2.1041107442119165, 11.57260900174151, 23.14521800348302, 1.0520553721059582, 5.2602769519538235, 3.1561660248938432, 1.0520553721059582, 78.90415281652284, 2.1041107442119165, 1.0520553721059582, 143.07952841223357, 127.29870487029464, 105.20553318793843, 86.26854142692889, 149.3918648503748, 74.6959324251874, 71.53976420611679, 64.17537559571072, 57.863045008707545, 57.863045008707545, 54.70687678963694, 53.65482461737209, 48.39454620263376, 47.3424911047999, 37.873992298726115, 37.873992298726115, 36.82193720089225, 35.76988210305839, 35.76988210305839, 243.02479488770973, 208.30697373362324, 317.7207273128971, 65.2274336191136, 328.2412841423738, 824.8114307472699, 1773.7652869741412, 185.16174402786416, 298.7837297007496, 547.0687678963694, 306.14811246001756, 221.9836812287564, 196.73435888074368, 328.2412841423738, 411.3536339456799, 923.7046509016193, 183.05762798105837, 162.01652602438114, 361.9070472730574, 549.1728839431752, 229.34806398802442, 304.0439964132118, 166.2247464157166, 261.9617924998573, 186.21380205126704, 165.1726883923137, 3.1261319947226496, 3.1261319947226496, 6.252263989445299, 12.504527978890598, 1055.590582238894, 32.30336281142215, 16.672703518236037, 44.80789079031274, 39.597669665063094, 92.74191425577527, 1.0420439698897523, 9.378395984167948, 1.0420439698897523, 15.630659293186108, 1.0420439698897523, 1.0420439698897523, 1.0420439698897523, 1.0420439698897523, 1.0420439698897523, 1.0420439698897523, 2.0840879397795047, 1.0420439698897523, 10.42043952879074, 91.69987003072535, 87.53169313052562, 1.0420439698897523, 32.30336281142215, 1.0420439698897523, 1332.7742590075015, 14.588615068136178, 320.9495342207045, 293.85640614307476, 245.92237179077802, 168.81112091075167, 150.05433574668717, 127.12936279558872, 125.04527434548886, 109.41462185657414, 85.44760468042577, 83.36351623032591, 80.23738355517612, 78.15329510507625, 73.98512364829365, 72.94307942324373, 70.85899097314386, 69.81694674809394, 64.6067256228443, 63.56468139779436, 61.480592947694504, 60.43854872264457, 59.39650449759464, 59.39650449759464, 57.312416047494786, 57.312416047494786, 54.18628881576211, 117.75096477013935, 140.6759377212378, 207.36675723759907, 181.31565161135083, 75.02716787334359, 795.0795259764117, 503.30723005710524, 205.2826687874992, 160.47476711035225, 348.04268407200266, 191.73609386185012, 630.4365819658598, 312.613180420305, 251.13259291602765, 315.7393130954548, 466.8356821803577, 147.9702472965873, 273.0155216420762, 218.8292437131483, 209.45084568769892, 110.45666608162408, 130.2554954707385, 182.35769583640075, 149.01229152163725, 142.76002617133767, 128.17140702063864, 3011.3085600243553, 7.223838168809509, 109.38955078087103, 58.82268018052973, 3.095930643775504, 10.319768812585012, 19.60756142764647, 117.64536036105946, 4.127907525034005, 4.127907525034005, 13.415700140095463, 8.25581505006801, 3.095930643775504, 44.37500521038061, 45.406982775374054, 120.74130126085917, 3.095930643775504, 14.447676337619018, 3.095930643775504, 1.0319768812585013, 1.0319768812585013, 25.79942271519748, 1.0319768812585013, 1.0319768812585013, 15.479653902612466, 17.543607665129468, 1.0319768812585013, 1.0319768812585013, 7.223838168809509, 45.406982775374054, 1172.325769928935, 216.7151409618756, 150.6686205613315, 91.84594038080178, 49.534890300408065, 25.79942271519748, 24.767445150204033, 23.735467585210582, 20.639537625170025, 76.36629058059899, 18.575583862653023, 18.575583862653023, 16.51163010013602, 16.51163010013602, 15.479653902612466, 15.479653902612466, 15.479653902612466, 723.4158163254626, 3811.0907216292126, 38.18314529029949, 2017.5147584175984, 621.250105764606, 183.69188076160356, 476.77330136431897, 131.06106050115494, 714.1280045658227, 116.61339100088539, 28.895352675238037, 120.74130126085917, 66.04652040054408, 305.46516232239594, 237.3546813219854, 163.0523513412529, 100.10176090074935, 589.2587930449897, 744.0553785650908, 140.34886132103574, 178.53200114145568, 196.07560060176579, 145.50874094118362, 560.3634321649323, 352.9361029626967, 237.3546813219854, 144.4767606412504, 157.89246078134585, 9.45995802582537, 112.46838715112041, 469.8445830485714, 3.153319232017326, 705.2924436622784, 42.04425818568911, 89.34404369798847, 4.204425752614233, 27.32876689733242, 31.53319297972005, 31.53319297972005, 12.613276928069304, 19.971022572247648, 1.0511064381535582, 18.91991605165074, 2.1022128763071164, 1.0511064381535582, 358.4273129707965, 39.942045144495296, 42.04425818568911, 22.07323561344146, 42.04425818568911, 67.27081204182772, 38.89093862389839, 15.766596489860024, 12.613276928069304, 26.277660376735515, 18.91991605165074, 45.197575109292686, 3.153319232017326, 163.97260666036883, 135.59273060425235, 110.36617410992659, 106.16174802753898, 95.6506828215699, 73.57745116540916, 69.37302508302153, 65.1685990006339, 50.453107712277216, 46.248681629889596, 160.8192870985781, 42.04425818568911, 40.993151665092206, 40.993151665092206, 39.942045144495296, 36.78872558270458, 36.78872558270458, 34.686512541510766, 129.2860914806709, 89.34404369798847, 74.62855768600606, 1298.1164790679393, 56.75974683585866, 400.47157379467274, 284.84985652901304, 65.1685990006339, 52.55532075347103, 388.9093915153582, 807.2497233964355, 50.453107712277216, 136.64383712484926, 141.89936972783377, 228.0901044167801, 521.3487920050712, 167.12592622215953, 265.9299391582687, 1210.8746273056474, 497.17333147859387, 291.15649565259446, 99.85510890395753, 232.29453049916773, 444.61802655424566, 199.71021780791506, 215.47682616961723, 191.3013656431398, 160.8192870985781, 157.66596753678738, 135.59273060425235, 156.61486101619047, 1.0415337943005327, 113.52717747743347, 12.498405531606393, 2.0830675886010654, 41.66135177202131, 5.207668971502664, 1.0415337943005327, 1.0415337943005327, 2.0830675886010654, 16.664540708808524, 22.913742756808826, 16.664540708808524, 46.86902038462253, 139.56552915407428, 45.82748551361765, 20.830675886010656, 1.0415337943005327, 16.664540708808524, 5.207668971502664, 11.456871378404413, 17.70607414420761, 113.52717747743347, 33.32908141761705, 41.66135177202131, 1.0415337943005327, 1.0415337943005327, 1.0415337943005327, 41.66135177202131, 1.0415337943005327, 144.77319489546392, 673.8723466084709, 234.3450961806895, 153.10546237865663, 122.90098270284261, 91.6549710272353, 81.23963380203287, 79.15656406002313, 76.03196231822008, 76.03196231822008, 74.99043031842679, 67.6996948350274, 62.4920233512146, 62.4920233512146, 61.450491351421306, 60.408959351628006, 56.242825610031666, 54.15975586802192, 52.07668612601217, 52.07668612601217, 51.03515412621887, 46.86902038462253, 44.78595064261278, 43.74441864281948, 43.74441864281948, 103.11184599465419, 882.179068142827, 1437.3165715324747, 81.23963380203287, 446.81799165360394, 1263.380503612491, 216.63902347208767, 375.9937008191967, 503.0608000363662, 65.61662509301765, 254.13424437372421, 1077.9874286493562, 113.52717747743347, 217.6805612143041, 186.43454379627366, 326.00007295034794, 189.5591455380767, 189.5591455380767, 129.1501861864487, 129.1501861864487, 305.1693870150968, 183.3099420544706, 177.06073857086452, 214.55594798765478, 186.43454379627366, 168.72847108767183, 148.93933437948343, 158.31312812004626, 141.64859315366087, 44.83505012793737, 16.01251866704578, 98.21011770090031, 22.417525063968686, 770.7358722946993, 7.472508577551104, 7.472508577551104, 19.215021865507232, 5.337506222348592, 149.45016887628358, 33.092538846035126, 1.0675012611868342, 5.337506222348592, 53.375059548747416, 26.687529774373708, 7.472508577551104, 39.49754524295803, 12.81001413121507, 9.607510932753616, 8.540010089494674, 1.0675012611868342, 41.63254826684517, 62.98257048150103, 60.84756745761389, 19.215021865507232, 5.337506222348592, 92.87260211696695, 8.540010089494674, 10.675012444697185, 305.30535217370556, 289.2928268198135, 243.39026983045557, 180.40771004790858, 168.6651907417908, 130.23514701077633, 104.6151214230847, 86.46759839478254, 85.40009955757748, 76.86008746202893, 74.72508443814179, 61.91507164429597, 55.51006257263455, 55.51006257263455, 52.30756071154235, 49.105058850450156, 49.105058850450156, 49.105058850450156, 48.03755466376808, 46.97005582656301, 45.90255163988094, 108.88512747085899, 91.80510327976188, 282.88783379658315, 76.86008746202893, 68.32008071595739, 80.06258932312112, 877.4860127901022, 64.05007466818311, 209.2302428461694, 69.38757955316245, 286.09033030819836, 151.58517724964773, 218.83775377892303, 129.16764817357128, 674.6607629671632, 243.39026983045557, 182.54270772231868, 254.0653009983223, 215.63525726730785, 240.18777331884039, 107.81762863365392, 150.51766771348863, 178.2727016745444, 124.897642125797, 165.46269423017563, 131.3026458479814, 114.22263235583833, 115.29013119304338, 109.95262630806404, 35.349006033214664, 54.630284631914904, 222.80585620935304, 154.25020814493672, 1.071182001006505, 364.2018700198791, 1.071182001006505, 277.43614084126796, 9.640638009058545, 37.491370035227675, 19.28127601811709, 8.56945600805204, 4.28472800402602, 66.4132840624033, 129.61301954120395, 3.2135460030195153, 92.12165724772574, 20.352458019123596, 11.783002011071556, 16.067730015097574, 9.640638009058545, 4.28472800402602, 13.925366013084565, 1.071182001006505, 11.783002011071556, 119.97238411272856, 19.28127601811709, 49.274372046299234, 4.28472800402602, 16.067730015097574, 2326.607357797792, 243.15831680905978, 82.48101665808403, 71.76919664801899, 140.32484471243532, 51.416736048312245, 50.34555662788888, 49.274372046299234, 46.06082862386287, 46.06082862386287, 39.633734037240686, 36.42018803422117, 35.349006033214664, 33.20664203120165, 33.20664203120165, 95.3351955089958, 32.13546003019515, 28.921914027175635, 126.3994812799339, 529.1638930137146, 67.48446864399297, 199.23984702604363, 86.76573950094375, 136.0401167084093, 55.70146405233826, 196.02629844244098, 118.90120469230521, 824.8101149691773, 336.3511431548763, 101.76229267620113, 350.2765065873777, 130.68420928395992, 345.9917889056843, 114.61647668827919, 95.3351955089958, 232.44650196016104, 669.4887377261499, 128.5418401207806, 242.08712706630385, 251.72777281711183, 172.46029958146417, 169.24676132019408, 151.03665956133406, 116.7588355291259, 140.32484471243532, 141.39602413285866, 125.32829153717795, 122.11475327590787, 21.770109406144776, 2.1770110671557914, 630.2447023598352, 3.265516600733687, 6.531033201467374, 46.80573889290937, 5.442527351536194, 9.796549485847777, 5.442527351536194, 58.77929564967353, 4.354022134311583, 94.69997604327109, 7.6195384186919854, 60.956307349535884, 1.0885055335778957, 1.0885055335778957, 4.354022134311583, 14.15057225286593, 7.6195384186919854, 16.32758268731515, 146.94824671666265, 1.0885055335778957, 4.354022134311583, 11.97356055300357, 34.83217707449266, 87.0804376245791, 41.36320964325347, 416.8976266364596, 11.97356055300357, 45.717230512151914, 190.48847059060475, 151.30227011638735, 144.77122995514773, 203.5505306664738, 118.6470996801045, 115.38158466113724, 103.40802284272054, 100.14250782375328, 94.69997604327109, 91.43446102430383, 88.16894600533657, 87.0804376245791, 84.9034309863693, 82.72641928650694, 157.8333001543219, 81.63791596740204, 79.46090426753968, 77.28389256767731, 71.84136584884769, 70.75285746809023, 139.32870829797065, 57.69079233056862, 55.513780630706265, 107.76204624244525, 87.0804376245791, 74.01837754871005, 227.49765430330723, 244.9137479022061, 213.3470757233756, 117.55859129934706, 194.84248386702436, 234.02868434124176, 204.63902892392616, 197.01950062853928, 617.1826422839662, 232.9401860837894, 139.32870829797065, 223.1436207802774, 127.35514647955395, 266.68385477752463, 198.10799888599163, 191.5769688480571, 150.2137617356299, 137.15169153645576, 124.08963146058669, 128.4436548603114, 67.05822857681761, 14.291097269877797, 13.191782192800233, 29.681510884702604, 74.75343538423002, 14.291097269877797, 68.15754238602574, 23.085617886498323, 83.54795600085055, 10.993152038645102, 56.06507527030307, 26.383564385600465, 72.554802694336, 43.972608154580406, 47.270554653682545, 13.191782192800233, 1.099315156319406, 35.17808500222099, 5.496576019322551, 1.099315156319406, 12.092467115722666, 23.085617886498323, 12.092467115722666, 4.397260625277624, 29.681510884702604, 1.099315156319406, 1.099315156319406, 1.099315156319406, 65.95890969613171, 12.092467115722666, 225.3596148904204, 164.8972742403293, 140.71234000888396, 122.02398496643478, 102.2363161147775, 91.24315773678516, 89.04453011836893, 73.65411650354412, 64.8595958869236, 60.462335578613335, 60.462335578613335, 53.86644258040905, 50.568501152784684, 42.87329434537228, 40.67466165547826, 40.67466165547826, 38.47603150132313, 37.37671769211501, 37.37671769211501, 36.277401347168, 78.05137681185438, 128.61987796463907, 390.2569094166608, 83.54795600085055, 101.13700230556937, 78.05137681185438, 54.96576146109495, 141.81166396104763, 247.34591136049394, 162.69864662191304, 290.219210777344, 771.7192272160122, 120.92467115722667, 83.54795600085055, 225.3596148904204, 111.03083673139801, 150.60618457766816, 155.00343981450064, 118.72604353881042, 355.0788269501787, 111.03083673139801, 130.8185055830553, 263.83563878452685, 141.81166396104763, 148.40754681629636, 181.38700166436223, 127.52056415543095, 106.63357135160997, 136.31508477205148, 159.4007051942887, 148.40754681629636, 122.02398496643478, 114.32877815902238, 118.72604353881042, 113.22946434981426, 584.9086492850937, 50.627453674543105, 26.92949464600324, 53.85898929200648, 53.85898929200648, 26.92949464600324, 26.92949464600324, 94.79182600589726, 8.617438842675458, 274.68084589464615, 313.4593339537799, 1.0771798553344323, 6.463078816123399, 20.466417093412616, 19.389236448370198, 123.87568194198533, 3.2315394080616997, 137.87902148280733, 10.771798869227517, 34.46975537070183, 70.01668759584776, 476.11346352185006, 19.389236448370198, 142.1877390088459, 138.9561983372514, 1.0771798553344323, 11.848978250737158, 43.08719547691007, 31.238214699107356, 923.1431115406609, 179.88904010527332, 106.64080172956886, 105.56362487512479, 104.48643791241848, 96.94617971478544, 95.86900286034135, 90.4831084798587, 88.32874466270832, 86.17439095382014, 76.4797689390367, 72.17104635886703, 67.86232883282847, 66.78514692425328, 66.78514692425328, 57.09052996360096, 49.55027176596791, 601.0663425348039, 248.82854073841477, 145.41927968044038, 113.10388307275782, 458.8785934176958, 189.58365201179453, 193.8923594295709, 244.51981310411398, 490.1168030626721, 128.1843994680239, 283.2983011632477, 354.39215550527734, 210.05007289580547, 191.7380057206827, 141.1105520461396, 112.02670621831373, 135.72465766565693, 135.72465766565693, 107.71797858401295, 84.26920223418645, 65.5427158675085, 110.27821983101549, 50.97766427451487, 1.0403605612397369, 1.0403605612397369, 5.201802636396987, 200.78958780986412, 2.0807211224794737, 46.81622406717628, 11.443966003835408, 33.29153795967158, 1.0403605612397369, 47.856584119010925, 98.8342483935258, 65.5427158675085, 5.201802636396987, 1.0403605612397369, 2.0807211224794737, 1.0403605612397369, 64.50235038201957, 1.0403605612397369, 5.201802636396987, 13.524687465918275, 27.04937493183655, 9.363244541752541, 1.0403605612397369, 11.443966003835408, 21.847570597422596, 1.0403605612397369, 286.0991555295395, 74.90595633402033, 49.937304222680226, 49.937304222680226, 113.39929998651944, 39.533700987506606, 34.331898011506226, 34.331898011506226, 33.29153795967158, 32.251175191009786, 88.43064787517933, 26.00901216317476, 24.968652111340113, 21.847570597422596, 21.847570597422596, 20.80721054558795, 19.766850493753303, 834.369174529113, 147.73119256437138, 136.28723199419025, 1075.7327934932198, 58.26019007101169, 928.0015574596141, 286.0991555295395, 302.7449163588939, 153.97336374268784, 329.7942994412118, 1127.750774350335, 242.40401161786716, 366.20691212273306, 689.7590295183198, 717.8487617851639, 296.50275604788595, 782.3511067335293, 284.0184354258702, 574.2790094281312, 732.4138242454661, 351.64184966243084, 230.96004018037746, 213.27390843187987, 223.67750895022635, 439.03213748577554, 230.96004018037746, 818.7637194150504, 221.59678884655708, 276.7359041957191, 340.1978999595583, 170.61912457204218, 186.2245253495619, 241.36364069872394], \"Total\": [4411.0, 4293.0, 3011.0, 2358.0, 2395.0, 2492.0, 3097.0, 2136.0, 1626.0, 1332.0, 1535.0, 1277.0, 1651.0, 1172.0, 1746.0, 1499.0, 1055.0, 1219.0, 1902.0, 2098.0, 3208.0, 923.0, 1171.0, 1230.0, 907.0, 1404.0, 1129.0, 965.0, 1507.0, 907.0, 6.4404724042955905, 8.587296539060787, 8.587296539060787, 1.0734120673825984, 1.0734120673825984, 1.0734120673825984, 10.734120021963763, 10.734120021963763, 6.4404724042955905, 1.0734120673825984, 206.0951169374589, 6.4404724042955905, 12.880944808591181, 18.248004167710842, 5.367060010981882, 8.587296539060787, 268.3530070677163, 1.0734120673825984, 12.880944808591181, 8.587296539060787, 21.468240043927526, 1.0734120673825984, 6.4404724042955905, 12.880944808591181, 11.807532415277473, 47.23012966110989, 11.807532415277473, 10.734120021963763, 6.4404724042955905, 48.30354335814804, 189.99393234147772, 100.90073107465315, 94.46025932221978, 84.79955169356973, 83.72613799653158, 70.84519449166484, 60.111073165976634, 57.9642509867981, 56.89083728975994, 54.744015110581415, 49.37695184028843, 48.30354335814804, 39.71624421163837, 38.642833122049105, 36.496008335421685, 36.496008335421685, 33.275772459205, 31.12894767257758, 28.98212549339905, 28.98212549339905, 28.98212549339905, 27.908711796360897, 27.908711796360897, 26.83530070677163, 26.83530070677163, 26.83530070677163, 105.27209031989136, 65.41203016467279, 49.345077152448575, 49.355598730254, 46.108276150228804, 354.707202156518, 181.45884294361213, 233.55404304590454, 437.3999002251502, 288.49712799000076, 510.793268741581, 95.18351990942665, 151.9772251457052, 421.65567654137914, 241.10639249660727, 167.71684075221634, 768.5379320364465, 146.98324538037622, 456.89210456114836, 189.92652199256693, 164.9690434650012, 440.4209648140498, 738.7443109121302, 771.0245254962947, 383.5537043818764, 725.9263772855993, 219.55419613926892, 328.89909113323824, 1623.054150174833, 2098.6245538076564, 1152.7081513170442, 1507.6648682735815, 958.8430545988742, 911.7351611397826, 345.8880048883393, 835.3864512474629, 722.8599828403517, 3208.73370048834, 311.1288789312934, 1290.7412657805614, 1301.7883220473518, 458.70804571493704, 141.445676747589, 1.0249686682974484, 1.0249686682974484, 1.0249686682974484, 1.0249686682974484, 64.5730282799939, 1.0249686682974484, 1277.1109566924722, 18.4494358551737, 58.4232126124214, 1.0249686682974484, 38.9488102662049, 1.0249686682974484, 11.274655090001374, 59.44818467723611, 1.0249686682974484, 30.749058829660846, 907.0972229340082, 1.0249686682974484, 103.52183297242689, 8.199749346379587, 1.0249686682974484, 1.0249686682974484, 22.54931018000275, 33.8239666634471, 4.0998746731897935, 4.0998746731897935, 19.47440513310245, 204.99372181522438, 1.0249686682974484, 495.05987976410535, 534.1055644616741, 169.1198333172355, 137.345799635874, 111.72158719585691, 111.72158719585691, 103.52183297242689, 76.8726484675951, 59.44818467723611, 57.398246121378605, 57.398246121378605, 50.2234639627633, 45.0986203600055, 43.048684591033954, 40.99874603517645, 36.8988717103474, 36.8988717103474, 36.8988717103474, 35.873902432418646, 33.8239666634471, 202.04195818235578, 64.61555747636604, 143.3060180508946, 163.36274435069086, 97.79734811780789, 45.11569783885246, 903.4515454885906, 246.91780633226455, 692.1989601312539, 298.305525514633, 78.03013666338406, 2136.1469318248064, 222.55278614231537, 921.3166806348447, 361.3236858257451, 291.38728407185476, 2098.6245538076564, 261.04168602119404, 1132.7601425902494, 122.40821459346623, 1651.39047419497, 1230.9471848810008, 381.545876218198, 955.1598899901976, 751.0375399418667, 571.5696183327567, 1171.4825883485132, 625.6499955351928, 2395.2085912925104, 677.3054713825876, 722.8599828403517, 1301.7883220473518, 22.94079835388085, 45.8815967077617, 39.625017072563686, 19.812508536281843, 39.625017072563686, 11.470399176940425, 11.470399176940425, 11.470399176940425, 11.470399176940425, 172.05599582887683, 2.0855271695276367, 153.2862541983593, 1.0427635847638184, 67.77963224326346, 1.0427635847638184, 4.1710543390552735, 1.0427635847638184, 1.0427635847638184, 68.82239506164255, 7.299345178500587, 7.299345178500587, 148.07242920676993, 1.0427635847638184, 1.0427635847638184, 14.598690357001175, 28.15461789562326, 1.0427635847638184, 63.60858096974711, 21.898035535501762, 3.128290839445314, 4411.921859536044, 573.5199642968682, 202.29613936125827, 417.0730638320099, 204.3809352498332, 109.49018312735578, 85.50661650524887, 51.09541624950411, 51.09541624950411, 46.92435952614079, 204.46691164620475, 41.710542709321864, 41.710542709321864, 36.49672589250294, 34.411197530821276, 33.36843471244219, 30.24014353238144, 30.24014353238144, 28.15461789562326, 27.11185235232069, 96.97552502371906, 52.16882831688671, 279.65432664310225, 97.01872568873455, 270.5668988111978, 157.27164268931938, 331.27913973212674, 45.88994032753617, 452.54427001696155, 194.43429903326776, 68.9460871920957, 169.3476412821874, 835.3864512474629, 297.6072084841602, 610.3062400899153, 1902.6075725988721, 147.73877656980645, 454.8652162246273, 106.90183734275155, 438.5616340446406, 323.0985516093714, 385.2379991159334, 606.5590436870835, 387.46562839025813, 1746.709381707298, 745.8100461164998, 1113.435145900392, 1623.054150174833, 1290.7412657805614, 4293.708158065773, 2267.4961217379355, 610.1921088732294, 364.01116331986316, 1.0520553721059582, 226.19191332236792, 9.468498074681529, 157.80830563304568, 30.509606613889076, 351.3864904435807, 2.1041107442119165, 1.0520553721059582, 32.6137168095568, 63.12332342344588, 52.602766593969214, 278.7946740651991, 130.4548672382272, 402.93721656756117, 13.676719197409234, 1.0520553721059582, 9.468498074681529, 2.1041107442119165, 11.57260900174151, 23.14521800348302, 1.0520553721059582, 5.2602769519538235, 3.1561660248938432, 1.0520553721059582, 78.90415281652284, 2.1041107442119165, 1.0520553721059582, 143.07952841223357, 127.29870487029464, 105.20553318793843, 86.26854142692889, 150.41683351867223, 74.6959324251874, 71.53976420611679, 64.17537559571072, 57.863045008707545, 57.863045008707545, 54.70687678963694, 53.65482461737209, 48.39454620263376, 47.3424911047999, 37.873992298726115, 37.873992298726115, 36.82193720089225, 35.76988210305839, 35.76988210305839, 248.3918548986916, 214.77005254974665, 337.31382628459266, 66.326748775433, 365.2504729167288, 1045.0603434124139, 2492.0259681727525, 215.6438304869873, 376.9910010274979, 751.0375399418667, 390.9476641535873, 274.75080999995737, 252.42385374341268, 529.1393076813008, 738.7443109121302, 3208.73370048834, 296.1357555534318, 262.91725709903426, 1060.2379089490437, 3097.467676852116, 585.3319129850572, 1746.709381707298, 283.15058617561056, 1427.3490225430933, 958.8430545988742, 456.89210456114836, 3.1261319947226496, 3.1261319947226496, 6.252263989445299, 12.504527978890598, 1055.590582238894, 32.30336281142215, 16.672703518236037, 44.80789079031274, 39.597669665063094, 92.74191425577527, 1.0420439698897523, 9.378395984167948, 1.0420439698897523, 15.630659293186108, 1.0420439698897523, 1.0420439698897523, 1.0420439698897523, 1.0420439698897523, 1.0420439698897523, 1.0420439698897523, 2.0840879397795047, 1.0420439698897523, 10.42043952879074, 91.69987003072535, 87.53169313052562, 1.0420439698897523, 32.30336281142215, 1.0420439698897523, 1332.7742590075015, 14.588615068136178, 320.9495342207045, 293.85640614307476, 245.92237179077802, 168.81112091075167, 150.05433574668717, 127.12936279558872, 125.04527434548886, 109.41462185657414, 85.44760468042577, 83.36351623032591, 80.23738355517612, 78.15329510507625, 73.98512364829365, 72.94307942324373, 70.85899097314386, 69.81694674809394, 64.6067256228443, 63.56468139779436, 61.480592947694504, 60.43854872264457, 59.39650449759464, 59.39650449759464, 57.312416047494786, 57.312416047494786, 54.18628881576211, 118.85027992645875, 143.91492859511635, 220.0668338810416, 193.1231840266283, 76.09466913453042, 953.3926540964579, 672.035701144777, 244.4688667308903, 209.45751770312398, 602.107985070325, 297.33879295039446, 1902.6075725988721, 671.3495318048348, 512.0062310924677, 745.8100461164998, 1507.6648682735815, 311.1288789312934, 1623.054150174833, 921.3166806348447, 903.4515454885906, 162.88448353351134, 317.3598736045907, 1626.0637079126925, 2136.1469318248064, 2098.6245538076564, 3208.73370048834, 3011.3085600243553, 7.223838168809509, 109.38955078087103, 58.82268018052973, 3.095930643775504, 10.319768812585012, 19.60756142764647, 117.64536036105946, 4.127907525034005, 4.127907525034005, 13.415700140095463, 8.25581505006801, 3.095930643775504, 44.37500521038061, 45.406982775374054, 120.74130126085917, 3.095930643775504, 14.447676337619018, 3.095930643775504, 1.0319768812585013, 1.0319768812585013, 25.79942271519748, 1.0319768812585013, 1.0319768812585013, 15.479653902612466, 17.543607665129468, 1.0319768812585013, 1.0319768812585013, 7.223838168809509, 45.406982775374054, 1172.325769928935, 216.7151409618756, 150.6686205613315, 91.84594038080178, 49.534890300408065, 25.79942271519748, 24.767445150204033, 23.735467585210582, 20.639537625170025, 77.40833455048873, 18.575583862653023, 18.575583862653023, 16.51163010013602, 16.51163010013602, 15.479653902612466, 15.479653902612466, 15.479653902612466, 754.1648751551235, 4293.708158065773, 39.23425172845305, 2395.2085912925104, 739.9761493034164, 224.69062679678, 640.4539195877095, 166.98174342557877, 1301.7883220473518, 157.4557982768666, 31.07236374239383, 178.87707124584495, 85.83419432367916, 585.3319129850572, 434.733154611259, 269.6490893605801, 146.16258952461223, 1507.6648682735815, 2098.6245538076564, 249.66783251720818, 383.5537043818764, 466.74511469714434, 294.00474811864467, 3097.467676852116, 3208.73370048834, 1535.4711603899248, 771.0245254962947, 1427.3490225430933, 9.45995802582537, 112.46838715112041, 469.8445830485714, 3.153319232017326, 705.2924436622784, 42.04425818568911, 89.34404369798847, 4.204425752614233, 27.32876689733242, 31.53319297972005, 31.53319297972005, 12.613276928069304, 19.971022572247648, 1.0511064381535582, 18.91991605165074, 2.1022128763071164, 1.0511064381535582, 358.4273129707965, 39.942045144495296, 42.04425818568911, 22.07323561344146, 42.04425818568911, 67.27081204182772, 38.89093862389839, 15.766596489860024, 12.613276928069304, 26.277660376735515, 18.91991605165074, 45.197575109292686, 3.153319232017326, 163.97260666036883, 135.59273060425235, 110.36617410992659, 106.16174802753898, 95.6506828215699, 73.57745116540916, 69.37302508302153, 65.1685990006339, 50.453107712277216, 46.248681629889596, 162.96611123334327, 42.04425818568911, 40.993151665092206, 40.993151665092206, 39.942045144495296, 36.78872558270458, 36.78872558270458, 34.686512541510766, 131.3701794204504, 90.44335885430787, 75.68061305811202, 1535.4711603899248, 57.784715504156104, 456.173037847011, 322.22657422112803, 67.2325527631509, 53.654635909790436, 495.582929377046, 1129.1105765959173, 51.52428971328372, 162.71292665879085, 173.44410675491577, 303.4926914472416, 847.3488649554192, 224.52417234353814, 420.2674154126706, 3097.467676852116, 1113.435145900392, 571.5696183327567, 123.21029822902386, 578.2361544662108, 2267.4961217379355, 537.1134163348974, 911.7351611397826, 1081.8529237919129, 620.7971956725933, 1060.2379089490437, 671.3495318048348, 3208.73370048834, 1.0415337943005327, 113.52717747743347, 12.498405531606393, 2.0830675886010654, 41.66135177202131, 5.207668971502664, 1.0415337943005327, 1.0415337943005327, 2.0830675886010654, 16.664540708808524, 22.913742756808826, 16.664540708808524, 46.86902038462253, 139.56552915407428, 45.82748551361765, 20.830675886010656, 1.0415337943005327, 16.664540708808524, 5.207668971502664, 11.456871378404413, 17.70607414420761, 113.52717747743347, 33.32908141761705, 41.66135177202131, 1.0415337943005327, 1.0415337943005327, 1.0415337943005327, 41.66135177202131, 1.0415337943005327, 144.77319489546392, 674.9457586758535, 234.3450961806895, 153.10546237865663, 122.90098270284261, 91.6549710272353, 81.23963380203287, 79.15656406002313, 76.03196231822008, 76.03196231822008, 74.99043031842679, 67.6996948350274, 62.4920233512146, 62.4920233512146, 61.450491351421306, 60.408959351628006, 56.242825610031666, 54.15975586802192, 52.07668612601217, 52.07668612601217, 51.03515412621887, 46.86902038462253, 44.78595064261278, 43.74441864281948, 43.74441864281948, 105.26620570532306, 965.2015322779946, 1626.0637079126925, 83.43826411467168, 520.836369202314, 1651.39047419497, 244.79364136771093, 455.70500537569677, 677.3054713825876, 67.81525540565646, 346.7717065624711, 2136.1469318248064, 139.82856077441807, 347.30354626325664, 333.7827433134397, 847.3488649554192, 383.2939709847848, 392.3349824173706, 200.60567507157657, 204.22916360821276, 1060.2379089490437, 435.7274665868793, 411.0894229121063, 1427.3490225430933, 921.3166806348447, 672.035701144777, 440.5031296168448, 953.3926540964579, 504.82156456361923, 44.83505012793737, 16.01251866704578, 98.21011770090031, 22.417525063968686, 770.7358722946993, 7.472508577551104, 7.472508577551104, 19.215021865507232, 5.337506222348592, 149.45016887628358, 33.092538846035126, 1.0675012611868342, 5.337506222348592, 53.375059548747416, 26.687529774373708, 7.472508577551104, 39.49754524295803, 12.81001413121507, 9.607510932753616, 8.540010089494674, 1.0675012611868342, 41.63254826684517, 62.98257048150103, 60.84756745761389, 19.215021865507232, 5.337506222348592, 92.87260211696695, 8.540010089494674, 10.675012444697185, 305.30535217370556, 289.2928268198135, 243.39026983045557, 180.40771004790858, 168.6651907417908, 130.23514701077633, 104.6151214230847, 86.46759839478254, 85.40009955757748, 76.86008746202893, 74.72508443814179, 61.91507164429597, 55.51006257263455, 55.51006257263455, 52.30756071154235, 49.105058850450156, 49.105058850450156, 49.105058850450156, 48.03755466376808, 46.97005582656301, 45.90255163988094, 109.92789105562281, 92.85620971791543, 307.89688975436434, 78.96230033833605, 70.38403447847439, 84.45984994839874, 1230.9471848810008, 66.12481513420543, 255.05772835978706, 72.50866106707997, 383.5691247719147, 185.32884847420922, 295.14763657622007, 162.56022163569793, 1499.4708779363405, 440.5031296168448, 325.2874092245413, 602.107985070325, 512.0062310924677, 692.1989601312539, 169.21687612329345, 483.5070090737694, 1113.435145900392, 361.3236858257451, 1427.3490225430933, 510.793268741581, 359.3683813499922, 921.3166806348447, 3208.73370048834, 35.349006033214664, 54.630284631914904, 222.80585620935304, 154.25020814493672, 1.071182001006505, 364.2018700198791, 1.071182001006505, 277.43614084126796, 9.640638009058545, 37.491370035227675, 19.28127601811709, 8.56945600805204, 4.28472800402602, 66.4132840624033, 129.61301954120395, 3.2135460030195153, 92.12165724772574, 20.352458019123596, 11.783002011071556, 16.067730015097574, 9.640638009058545, 4.28472800402602, 13.925366013084565, 1.071182001006505, 11.783002011071556, 119.97238411272856, 19.28127601811709, 49.274372046299234, 4.28472800402602, 16.067730015097574, 2358.809065830434, 243.15831680905978, 82.48101665808403, 71.76919664801899, 141.36760829719913, 51.416736048312245, 50.34555662788888, 49.274372046299234, 46.06082862386287, 46.06082862386287, 39.633734037240686, 36.42018803422117, 35.349006033214664, 33.20664203120165, 33.20664203120165, 96.3671723902543, 32.13546003019515, 28.921914027175635, 128.48020240241337, 594.4742237629753, 70.6377878760103, 229.7123607588704, 94.46094567442144, 162.1642495142788, 58.93300346039996, 253.46829469350251, 146.38408542285268, 1499.4708779363405, 537.1134163348974, 123.74859675349133, 606.5590436870835, 172.39475199328177, 626.6159229792869, 146.86765187928899, 118.94435051114831, 435.7274665868793, 2267.4961217379355, 188.32190874118942, 625.6499955351928, 768.5379320364465, 392.34614749544505, 414.1007981002433, 330.72851539413693, 195.28630009606556, 505.33579265233226, 1081.8529237919129, 444.8385349597187, 290.6831098051474, 21.770109406144776, 2.1770110671557914, 630.2447023598352, 3.265516600733687, 6.531033201467374, 46.80573889290937, 5.442527351536194, 9.796549485847777, 5.442527351536194, 58.77929564967353, 4.354022134311583, 94.69997604327109, 7.6195384186919854, 60.956307349535884, 1.0885055335778957, 1.0885055335778957, 4.354022134311583, 14.15057225286593, 7.6195384186919854, 16.32758268731515, 146.94824671666265, 1.0885055335778957, 4.354022134311583, 11.97356055300357, 34.83217707449266, 87.0804376245791, 41.36320964325347, 416.8976266364596, 11.97356055300357, 45.717230512151914, 190.48847059060475, 151.30227011638735, 144.77122995514773, 204.61803192766064, 118.6470996801045, 115.38158466113724, 103.40802284272054, 100.14250782375328, 94.69997604327109, 91.43446102430383, 88.16894600533657, 87.0804376245791, 84.9034309863693, 82.72641928650694, 158.88535552642787, 81.63791596740204, 79.46090426753968, 77.28389256767731, 71.84136584884769, 70.75285746809023, 140.36068517922916, 57.69079233056862, 55.513780630706265, 108.80240680368499, 88.15161962558561, 77.23861375085784, 302.00960520958733, 358.4332415739234, 316.9504251432543, 141.67460519914488, 302.6601125006783, 411.0894229121063, 338.53306197885627, 354.14257134172465, 2492.0259681727525, 536.9834412165237, 235.70266785890203, 671.3495318048348, 237.74139606989013, 3208.73370048834, 1902.6075725988721, 2267.4961217379355, 1060.2379089490437, 626.6159229792869, 355.572840214124, 1623.054150174833, 67.05822857681761, 14.291097269877797, 13.191782192800233, 29.681510884702604, 74.75343538423002, 14.291097269877797, 68.15754238602574, 23.085617886498323, 83.54795600085055, 10.993152038645102, 56.06507527030307, 26.383564385600465, 72.554802694336, 43.972608154580406, 47.270554653682545, 13.191782192800233, 1.099315156319406, 35.17808500222099, 5.496576019322551, 1.099315156319406, 12.092467115722666, 23.085617886498323, 12.092467115722666, 4.397260625277624, 29.681510884702604, 1.099315156319406, 1.099315156319406, 1.099315156319406, 65.95890969613171, 12.092467115722666, 225.3596148904204, 164.8972742403293, 140.71234000888396, 122.02398496643478, 102.2363161147775, 91.24315773678516, 89.04453011836893, 73.65411650354412, 64.8595958869236, 60.462335578613335, 60.462335578613335, 53.86644258040905, 50.568501152784684, 42.87329434537228, 40.67466165547826, 40.67466165547826, 38.47603150132313, 37.37671769211501, 37.37671769211501, 36.277401347168, 79.0941403966182, 132.7897025983849, 435.0957433060434, 86.76150200387006, 106.34722206996474, 81.14284794274981, 56.01686789924851, 157.5924948169091, 330.50473494001267, 212.87120430956827, 603.421309946904, 3097.467676852116, 192.4821674619934, 109.61704553479214, 610.3062400899153, 186.13771759921298, 330.2410444488033, 355.572840214124, 216.268871238541, 2267.4961217379355, 192.72073560658419, 305.9190239626455, 1902.6075725988721, 392.3349824173706, 466.74511469714434, 958.8430545988742, 373.02786672509137, 206.19094760886298, 536.9834412165237, 1427.3490225430933, 1045.0603434124139, 722.8599828403517, 397.0135498079618, 739.9761493034164, 437.3999002251502, 584.9086492850937, 50.627453674543105, 26.92949464600324, 53.85898929200648, 53.85898929200648, 26.92949464600324, 26.92949464600324, 94.79182600589726, 8.617438842675458, 274.68084589464615, 313.4593339537799, 1.0771798553344323, 6.463078816123399, 20.466417093412616, 19.389236448370198, 123.87568194198533, 3.2315394080616997, 137.87902148280733, 10.771798869227517, 34.46975537070183, 70.01668759584776, 476.11346352185006, 19.389236448370198, 142.1877390088459, 138.9561983372514, 1.0771798553344323, 11.848978250737158, 43.08719547691007, 31.238214699107356, 923.1431115406609, 179.88904010527332, 106.64080172956886, 105.56362487512479, 104.48643791241848, 96.94617971478544, 95.86900286034135, 90.4831084798587, 88.32874466270832, 86.17439095382014, 76.4797689390367, 72.17104635886703, 67.86232883282847, 66.78514692425328, 66.78514692425328, 57.09052996360096, 49.55027176596791, 628.4197809296223, 283.1063647706229, 163.28808921149422, 123.77889551745501, 620.7971956725933, 273.0297682073183, 298.0457316815952, 444.8385349597187, 1404.5778677720755, 203.91603387739565, 1129.1105765959173, 2267.4961217379355, 745.8100461164998, 911.7351611397826, 354.14257134172465, 182.23409687238282, 725.9263772855993, 1427.3490225430933, 258.79081106363753, 84.26920223418645, 65.5427158675085, 110.27821983101549, 50.97766427451487, 1.0403605612397369, 1.0403605612397369, 5.201802636396987, 200.78958780986412, 2.0807211224794737, 46.81622406717628, 11.443966003835408, 33.29153795967158, 1.0403605612397369, 47.856584119010925, 98.8342483935258, 65.5427158675085, 5.201802636396987, 1.0403605612397369, 2.0807211224794737, 1.0403605612397369, 64.50235038201957, 1.0403605612397369, 5.201802636396987, 13.524687465918275, 27.04937493183655, 9.363244541752541, 1.0403605612397369, 11.443966003835408, 21.847570597422596, 1.0403605612397369, 287.1419191143033, 74.90595633402033, 49.937304222680226, 49.937304222680226, 114.44083378081997, 39.533700987506606, 34.331898011506226, 34.331898011506226, 33.29153795967158, 32.251175191009786, 89.46262475643783, 26.00901216317476, 24.968652111340113, 21.847570597422596, 21.847570597422596, 20.80721054558795, 19.766850493753303, 907.5205547125729, 154.14718968673913, 142.53643475999345, 1219.1428927064815, 60.43720113816748, 1171.4825883485132, 341.05745997786534, 371.3005644233102, 178.63047254313253, 434.05462352179063, 1746.709381707298, 311.2390958787153, 519.4937159911092, 1081.8529237919129, 1152.7081513170442, 408.2371546894068, 1290.7412657805614, 395.4000551843305, 955.1598899901976, 1404.5778677720755, 561.621309812113, 341.3185866968851, 326.8438168378208, 359.3683813499922, 1132.7601425902494, 413.2049919245412, 3208.73370048834, 390.0312513975837, 725.9263772855993, 1623.054150174833, 288.30960466925774, 458.70804571493704, 4293.708158065773], \"Category\": [\"Default\", \"Default\", \"Default\", \"Default\", \"Default\", \"Default\", \"Default\", \"Default\", \"Default\", \"Default\", \"Default\", \"Default\", \"Default\", \"Default\", \"Default\", \"Default\", \"Default\", \"Default\", \"Default\", \"Default\", \"Default\", \"Default\", \"Default\", \"Default\", \"Default\", \"Default\", \"Default\", \"Default\", \"Default\", \"Default\", \"Topic1\", \"Topic1\", \"Topic1\", \"Topic1\", \"Topic1\", \"Topic1\", \"Topic1\", \"Topic1\", \"Topic1\", \"Topic1\", \"Topic1\", \"Topic1\", \"Topic1\", \"Topic1\", \"Topic1\", \"Topic1\", \"Topic1\", \"Topic1\", \"Topic1\", \"Topic1\", \"Topic1\", \"Topic1\", \"Topic1\", \"Topic1\", \"Topic1\", \"Topic1\", \"Topic1\", \"Topic1\", \"Topic1\", \"Topic1\", \"Topic1\", \"Topic1\", \"Topic1\", \"Topic1\", \"Topic1\", \"Topic1\", \"Topic1\", \"Topic1\", \"Topic1\", \"Topic1\", \"Topic1\", \"Topic1\", \"Topic1\", \"Topic1\", \"Topic1\", \"Topic1\", \"Topic1\", \"Topic1\", \"Topic1\", \"Topic1\", \"Topic1\", \"Topic1\", \"Topic1\", \"Topic1\", \"Topic1\", \"Topic1\", \"Topic1\", \"Topic1\", \"Topic1\", \"Topic1\", \"Topic1\", \"Topic1\", \"Topic1\", \"Topic1\", \"Topic1\", \"Topic1\", \"Topic1\", \"Topic1\", \"Topic1\", \"Topic1\", \"Topic1\", \"Topic1\", \"Topic1\", \"Topic1\", \"Topic1\", \"Topic1\", \"Topic1\", \"Topic1\", \"Topic1\", \"Topic1\", \"Topic1\", \"Topic1\", \"Topic1\", \"Topic1\", \"Topic1\", \"Topic1\", \"Topic1\", \"Topic1\", \"Topic1\", \"Topic1\", \"Topic1\", \"Topic1\", \"Topic1\", \"Topic1\", \"Topic1\", \"Topic1\", \"Topic1\", \"Topic1\", \"Topic2\", \"Topic2\", \"Topic2\", \"Topic2\", \"Topic2\", \"Topic2\", \"Topic2\", \"Topic2\", \"Topic2\", \"Topic2\", \"Topic2\", \"Topic2\", \"Topic2\", \"Topic2\", \"Topic2\", \"Topic2\", \"Topic2\", \"Topic2\", \"Topic2\", \"Topic2\", \"Topic2\", \"Topic2\", \"Topic2\", \"Topic2\", \"Topic2\", \"Topic2\", \"Topic2\", \"Topic2\", \"Topic2\", \"Topic2\", \"Topic2\", \"Topic2\", \"Topic2\", \"Topic2\", \"Topic2\", \"Topic2\", \"Topic2\", \"Topic2\", \"Topic2\", \"Topic2\", \"Topic2\", \"Topic2\", \"Topic2\", \"Topic2\", \"Topic2\", \"Topic2\", \"Topic2\", \"Topic2\", \"Topic2\", \"Topic2\", \"Topic2\", \"Topic2\", \"Topic2\", \"Topic2\", \"Topic2\", \"Topic2\", \"Topic2\", \"Topic2\", \"Topic2\", \"Topic2\", \"Topic2\", \"Topic2\", \"Topic2\", \"Topic2\", \"Topic2\", \"Topic2\", \"Topic2\", \"Topic2\", \"Topic2\", \"Topic2\", \"Topic2\", \"Topic2\", \"Topic2\", \"Topic2\", \"Topic2\", \"Topic2\", \"Topic2\", \"Topic2\", \"Topic2\", \"Topic2\", \"Topic2\", \"Topic2\", \"Topic3\", \"Topic3\", \"Topic3\", \"Topic3\", \"Topic3\", \"Topic3\", \"Topic3\", \"Topic3\", \"Topic3\", \"Topic3\", \"Topic3\", \"Topic3\", \"Topic3\", \"Topic3\", \"Topic3\", \"Topic3\", \"Topic3\", \"Topic3\", \"Topic3\", \"Topic3\", \"Topic3\", \"Topic3\", \"Topic3\", \"Topic3\", \"Topic3\", \"Topic3\", \"Topic3\", \"Topic3\", \"Topic3\", \"Topic3\", \"Topic3\", \"Topic3\", \"Topic3\", \"Topic3\", \"Topic3\", \"Topic3\", \"Topic3\", \"Topic3\", \"Topic3\", \"Topic3\", \"Topic3\", \"Topic3\", \"Topic3\", \"Topic3\", \"Topic3\", \"Topic3\", \"Topic3\", \"Topic3\", \"Topic3\", \"Topic3\", \"Topic3\", \"Topic3\", \"Topic3\", \"Topic3\", \"Topic3\", \"Topic3\", \"Topic3\", \"Topic3\", \"Topic3\", \"Topic3\", \"Topic3\", \"Topic3\", \"Topic3\", \"Topic3\", \"Topic3\", \"Topic3\", \"Topic3\", \"Topic3\", \"Topic3\", \"Topic3\", \"Topic3\", \"Topic3\", \"Topic3\", \"Topic3\", \"Topic3\", \"Topic3\", \"Topic3\", \"Topic3\", \"Topic3\", \"Topic3\", \"Topic3\", \"Topic4\", \"Topic4\", \"Topic4\", \"Topic4\", \"Topic4\", \"Topic4\", \"Topic4\", \"Topic4\", \"Topic4\", \"Topic4\", \"Topic4\", \"Topic4\", \"Topic4\", \"Topic4\", \"Topic4\", \"Topic4\", \"Topic4\", \"Topic4\", \"Topic4\", \"Topic4\", \"Topic4\", \"Topic4\", \"Topic4\", \"Topic4\", \"Topic4\", \"Topic4\", \"Topic4\", \"Topic4\", \"Topic4\", \"Topic4\", \"Topic4\", \"Topic4\", \"Topic4\", \"Topic4\", \"Topic4\", \"Topic4\", \"Topic4\", \"Topic4\", \"Topic4\", \"Topic4\", \"Topic4\", \"Topic4\", \"Topic4\", \"Topic4\", \"Topic4\", \"Topic4\", \"Topic4\", \"Topic4\", \"Topic4\", \"Topic4\", \"Topic4\", \"Topic4\", \"Topic4\", \"Topic4\", \"Topic4\", \"Topic4\", \"Topic4\", \"Topic4\", \"Topic4\", \"Topic4\", \"Topic4\", \"Topic4\", \"Topic4\", \"Topic4\", \"Topic4\", \"Topic4\", \"Topic4\", \"Topic4\", \"Topic4\", \"Topic4\", \"Topic4\", \"Topic4\", \"Topic4\", \"Topic4\", \"Topic5\", \"Topic5\", \"Topic5\", \"Topic5\", \"Topic5\", \"Topic5\", \"Topic5\", \"Topic5\", \"Topic5\", \"Topic5\", \"Topic5\", \"Topic5\", \"Topic5\", \"Topic5\", \"Topic5\", \"Topic5\", \"Topic5\", \"Topic5\", \"Topic5\", \"Topic5\", \"Topic5\", \"Topic5\", \"Topic5\", \"Topic5\", \"Topic5\", \"Topic5\", \"Topic5\", \"Topic5\", \"Topic5\", \"Topic5\", \"Topic5\", \"Topic5\", \"Topic5\", \"Topic5\", \"Topic5\", \"Topic5\", \"Topic5\", \"Topic5\", \"Topic5\", \"Topic5\", \"Topic5\", \"Topic5\", \"Topic5\", \"Topic5\", \"Topic5\", \"Topic5\", \"Topic5\", \"Topic5\", \"Topic5\", \"Topic5\", \"Topic5\", \"Topic5\", \"Topic5\", \"Topic5\", \"Topic5\", \"Topic5\", \"Topic5\", \"Topic5\", \"Topic5\", \"Topic5\", \"Topic5\", \"Topic5\", \"Topic5\", \"Topic5\", \"Topic5\", \"Topic5\", \"Topic5\", \"Topic5\", \"Topic5\", \"Topic5\", \"Topic5\", \"Topic5\", \"Topic5\", \"Topic5\", \"Topic5\", \"Topic5\", \"Topic5\", \"Topic5\", \"Topic5\", \"Topic5\", \"Topic5\", \"Topic6\", \"Topic6\", \"Topic6\", \"Topic6\", \"Topic6\", \"Topic6\", \"Topic6\", \"Topic6\", \"Topic6\", \"Topic6\", \"Topic6\", \"Topic6\", \"Topic6\", \"Topic6\", \"Topic6\", \"Topic6\", \"Topic6\", \"Topic6\", \"Topic6\", \"Topic6\", \"Topic6\", \"Topic6\", \"Topic6\", \"Topic6\", \"Topic6\", \"Topic6\", \"Topic6\", \"Topic6\", \"Topic6\", \"Topic6\", \"Topic6\", \"Topic6\", \"Topic6\", \"Topic6\", \"Topic6\", \"Topic6\", \"Topic6\", \"Topic6\", \"Topic6\", \"Topic6\", \"Topic6\", \"Topic6\", \"Topic6\", \"Topic6\", \"Topic6\", \"Topic6\", \"Topic6\", \"Topic6\", \"Topic6\", \"Topic6\", \"Topic6\", \"Topic6\", \"Topic6\", \"Topic6\", \"Topic6\", \"Topic6\", \"Topic6\", \"Topic6\", \"Topic6\", \"Topic6\", \"Topic6\", \"Topic6\", \"Topic6\", \"Topic6\", \"Topic6\", \"Topic6\", \"Topic6\", \"Topic6\", \"Topic6\", \"Topic6\", \"Topic6\", \"Topic6\", \"Topic6\", \"Topic6\", \"Topic6\", \"Topic7\", \"Topic7\", \"Topic7\", \"Topic7\", \"Topic7\", \"Topic7\", \"Topic7\", \"Topic7\", \"Topic7\", \"Topic7\", \"Topic7\", \"Topic7\", \"Topic7\", \"Topic7\", \"Topic7\", \"Topic7\", \"Topic7\", \"Topic7\", \"Topic7\", \"Topic7\", \"Topic7\", \"Topic7\", \"Topic7\", \"Topic7\", \"Topic7\", \"Topic7\", \"Topic7\", \"Topic7\", \"Topic7\", \"Topic7\", \"Topic7\", \"Topic7\", \"Topic7\", \"Topic7\", \"Topic7\", \"Topic7\", \"Topic7\", \"Topic7\", \"Topic7\", \"Topic7\", \"Topic7\", \"Topic7\", \"Topic7\", \"Topic7\", \"Topic7\", \"Topic7\", \"Topic7\", \"Topic7\", \"Topic7\", \"Topic7\", \"Topic7\", \"Topic7\", \"Topic7\", \"Topic7\", \"Topic7\", \"Topic7\", \"Topic7\", \"Topic7\", \"Topic7\", \"Topic7\", \"Topic7\", \"Topic7\", \"Topic7\", \"Topic7\", \"Topic7\", \"Topic7\", \"Topic7\", \"Topic7\", \"Topic7\", \"Topic7\", \"Topic7\", \"Topic7\", \"Topic7\", \"Topic7\", \"Topic7\", \"Topic7\", \"Topic7\", \"Topic7\", \"Topic7\", \"Topic8\", \"Topic8\", \"Topic8\", \"Topic8\", \"Topic8\", \"Topic8\", \"Topic8\", \"Topic8\", \"Topic8\", \"Topic8\", \"Topic8\", \"Topic8\", \"Topic8\", \"Topic8\", \"Topic8\", \"Topic8\", \"Topic8\", \"Topic8\", \"Topic8\", \"Topic8\", \"Topic8\", \"Topic8\", \"Topic8\", \"Topic8\", \"Topic8\", \"Topic8\", \"Topic8\", \"Topic8\", \"Topic8\", \"Topic8\", \"Topic8\", \"Topic8\", \"Topic8\", \"Topic8\", \"Topic8\", \"Topic8\", \"Topic8\", \"Topic8\", \"Topic8\", \"Topic8\", \"Topic8\", \"Topic8\", \"Topic8\", \"Topic8\", \"Topic8\", \"Topic8\", \"Topic8\", \"Topic8\", \"Topic8\", \"Topic8\", \"Topic8\", \"Topic8\", \"Topic8\", \"Topic8\", \"Topic8\", \"Topic8\", \"Topic8\", \"Topic8\", \"Topic8\", \"Topic8\", \"Topic8\", \"Topic8\", \"Topic8\", \"Topic8\", \"Topic8\", \"Topic8\", \"Topic8\", \"Topic8\", \"Topic8\", \"Topic8\", \"Topic8\", \"Topic8\", \"Topic8\", \"Topic8\", \"Topic8\", \"Topic8\", \"Topic8\", \"Topic8\", \"Topic8\", \"Topic8\", \"Topic8\", \"Topic8\", \"Topic8\", \"Topic9\", \"Topic9\", \"Topic9\", \"Topic9\", \"Topic9\", \"Topic9\", \"Topic9\", \"Topic9\", \"Topic9\", \"Topic9\", \"Topic9\", \"Topic9\", \"Topic9\", \"Topic9\", \"Topic9\", \"Topic9\", \"Topic9\", \"Topic9\", \"Topic9\", \"Topic9\", \"Topic9\", \"Topic9\", \"Topic9\", \"Topic9\", \"Topic9\", \"Topic9\", \"Topic9\", \"Topic9\", \"Topic9\", \"Topic9\", \"Topic9\", \"Topic9\", \"Topic9\", \"Topic9\", \"Topic9\", \"Topic9\", \"Topic9\", \"Topic9\", \"Topic9\", \"Topic9\", \"Topic9\", \"Topic9\", \"Topic9\", \"Topic9\", \"Topic9\", \"Topic9\", \"Topic9\", \"Topic9\", \"Topic9\", \"Topic9\", \"Topic9\", \"Topic9\", \"Topic9\", \"Topic9\", \"Topic9\", \"Topic9\", \"Topic9\", \"Topic9\", \"Topic9\", \"Topic9\", \"Topic9\", \"Topic9\", \"Topic9\", \"Topic9\", \"Topic9\", \"Topic9\", \"Topic9\", \"Topic9\", \"Topic9\", \"Topic9\", \"Topic9\", \"Topic9\", \"Topic9\", \"Topic9\", \"Topic9\", \"Topic9\", \"Topic9\", \"Topic9\", \"Topic9\", \"Topic10\", \"Topic10\", \"Topic10\", \"Topic10\", \"Topic10\", \"Topic10\", \"Topic10\", \"Topic10\", \"Topic10\", \"Topic10\", \"Topic10\", \"Topic10\", \"Topic10\", \"Topic10\", \"Topic10\", \"Topic10\", \"Topic10\", \"Topic10\", \"Topic10\", \"Topic10\", \"Topic10\", \"Topic10\", \"Topic10\", \"Topic10\", \"Topic10\", \"Topic10\", \"Topic10\", \"Topic10\", \"Topic10\", \"Topic10\", \"Topic10\", \"Topic10\", \"Topic10\", \"Topic10\", \"Topic10\", \"Topic10\", \"Topic10\", \"Topic10\", \"Topic10\", \"Topic10\", \"Topic10\", \"Topic10\", \"Topic10\", \"Topic10\", \"Topic10\", \"Topic10\", \"Topic10\", \"Topic10\", \"Topic10\", \"Topic10\", \"Topic10\", \"Topic10\", \"Topic10\", \"Topic10\", \"Topic10\", \"Topic10\", \"Topic10\", \"Topic10\", \"Topic10\", \"Topic10\", \"Topic10\", \"Topic10\", \"Topic10\", \"Topic10\", \"Topic10\", \"Topic10\", \"Topic10\", \"Topic10\", \"Topic10\", \"Topic10\", \"Topic10\", \"Topic10\", \"Topic10\", \"Topic10\", \"Topic10\", \"Topic10\", \"Topic10\", \"Topic10\", \"Topic11\", \"Topic11\", \"Topic11\", \"Topic11\", \"Topic11\", \"Topic11\", \"Topic11\", \"Topic11\", \"Topic11\", \"Topic11\", \"Topic11\", \"Topic11\", \"Topic11\", \"Topic11\", \"Topic11\", \"Topic11\", \"Topic11\", \"Topic11\", \"Topic11\", \"Topic11\", \"Topic11\", \"Topic11\", \"Topic11\", \"Topic11\", \"Topic11\", \"Topic11\", \"Topic11\", \"Topic11\", \"Topic11\", \"Topic11\", \"Topic11\", \"Topic11\", \"Topic11\", \"Topic11\", \"Topic11\", \"Topic11\", \"Topic11\", \"Topic11\", \"Topic11\", \"Topic11\", \"Topic11\", \"Topic11\", \"Topic11\", \"Topic11\", \"Topic11\", \"Topic11\", \"Topic11\", \"Topic11\", \"Topic11\", \"Topic11\", \"Topic11\", \"Topic11\", \"Topic11\", \"Topic11\", \"Topic11\", \"Topic11\", \"Topic11\", \"Topic11\", \"Topic11\", \"Topic11\", \"Topic11\", \"Topic11\", \"Topic11\", \"Topic11\", \"Topic11\", \"Topic11\", \"Topic11\", \"Topic11\", \"Topic11\", \"Topic11\", \"Topic11\", \"Topic11\", \"Topic11\", \"Topic11\", \"Topic11\", \"Topic11\", \"Topic12\", \"Topic12\", \"Topic12\", \"Topic12\", \"Topic12\", \"Topic12\", \"Topic12\", \"Topic12\", \"Topic12\", \"Topic12\", \"Topic12\", \"Topic12\", \"Topic12\", \"Topic12\", \"Topic12\", \"Topic12\", \"Topic12\", \"Topic12\", \"Topic12\", \"Topic12\", \"Topic12\", \"Topic12\", \"Topic12\", \"Topic12\", \"Topic12\", \"Topic12\", \"Topic12\", \"Topic12\", \"Topic12\", \"Topic12\", \"Topic12\", \"Topic12\", \"Topic12\", \"Topic12\", \"Topic12\", \"Topic12\", \"Topic12\", \"Topic12\", \"Topic12\", \"Topic12\", \"Topic12\", \"Topic12\", \"Topic12\", \"Topic12\", \"Topic12\", \"Topic12\", \"Topic12\", \"Topic12\", \"Topic12\", \"Topic12\", \"Topic12\", \"Topic12\", \"Topic12\", \"Topic12\", \"Topic12\", \"Topic12\", \"Topic12\", \"Topic12\", \"Topic12\", \"Topic12\", \"Topic12\", \"Topic12\", \"Topic12\", \"Topic12\", \"Topic12\", \"Topic12\", \"Topic12\", \"Topic12\", \"Topic12\", \"Topic12\", \"Topic12\", \"Topic12\", \"Topic12\", \"Topic12\", \"Topic12\", \"Topic12\", \"Topic12\", \"Topic12\", \"Topic12\", \"Topic12\", \"Topic12\", \"Topic12\", \"Topic12\", \"Topic12\", \"Topic12\", \"Topic13\", \"Topic13\", \"Topic13\", \"Topic13\", \"Topic13\", \"Topic13\", \"Topic13\", \"Topic13\", \"Topic13\", \"Topic13\", \"Topic13\", \"Topic13\", \"Topic13\", \"Topic13\", \"Topic13\", \"Topic13\", \"Topic13\", \"Topic13\", \"Topic13\", \"Topic13\", \"Topic13\", \"Topic13\", \"Topic13\", \"Topic13\", \"Topic13\", \"Topic13\", \"Topic13\", \"Topic13\", \"Topic13\", \"Topic13\", \"Topic13\", \"Topic13\", \"Topic13\", \"Topic13\", \"Topic13\", \"Topic13\", \"Topic13\", \"Topic13\", \"Topic13\", \"Topic13\", \"Topic13\", \"Topic13\", \"Topic13\", \"Topic13\", \"Topic13\", \"Topic13\", \"Topic13\", \"Topic13\", \"Topic13\", \"Topic13\", \"Topic13\", \"Topic13\", \"Topic13\", \"Topic13\", \"Topic13\", \"Topic13\", \"Topic13\", \"Topic13\", \"Topic13\", \"Topic13\", \"Topic13\", \"Topic13\", \"Topic13\", \"Topic13\", \"Topic13\", \"Topic14\", \"Topic14\", \"Topic14\", \"Topic14\", \"Topic14\", \"Topic14\", \"Topic14\", \"Topic14\", \"Topic14\", \"Topic14\", \"Topic14\", \"Topic14\", \"Topic14\", \"Topic14\", \"Topic14\", \"Topic14\", \"Topic14\", \"Topic14\", \"Topic14\", \"Topic14\", \"Topic14\", \"Topic14\", \"Topic14\", \"Topic14\", \"Topic14\", \"Topic14\", \"Topic14\", \"Topic14\", \"Topic14\", \"Topic14\", \"Topic14\", \"Topic14\", \"Topic14\", \"Topic14\", \"Topic14\", \"Topic14\", \"Topic14\", \"Topic14\", \"Topic14\", \"Topic14\", \"Topic14\", \"Topic14\", \"Topic14\", \"Topic14\", \"Topic14\", \"Topic14\", \"Topic14\", \"Topic14\", \"Topic14\", \"Topic14\", \"Topic14\", \"Topic14\", \"Topic14\", \"Topic14\", \"Topic14\", \"Topic14\", \"Topic14\", \"Topic14\", \"Topic14\", \"Topic14\", \"Topic14\", \"Topic14\", \"Topic14\", \"Topic14\", \"Topic14\", \"Topic14\", \"Topic14\", \"Topic14\", \"Topic14\", \"Topic14\", \"Topic14\", \"Topic14\", \"Topic14\", \"Topic14\", \"Topic14\", \"Topic14\", \"Topic14\", \"Topic14\", \"Topic14\", \"Topic14\"], \"logprob\": [30.0, 29.0, 28.0, 27.0, 26.0, 25.0, 24.0, 23.0, 22.0, 21.0, 20.0, 19.0, 18.0, 17.0, 16.0, 15.0, 14.0, 13.0, 12.0, 11.0, 10.0, 9.0, 8.0, 7.0, 6.0, 5.0, 4.0, 3.0, 2.0, 1.0, -8.1541, -7.8664, -7.8664, -9.9459, -9.9459, -9.9459, -7.6433, -7.6433, -8.1541, -9.9459, -4.6884, -8.1541, -7.461, -7.1127, -8.3364, -7.8664, -4.4244, -9.9459, -7.461, -7.8664, -6.9501, -9.9459, -8.1541, -7.461, -7.548, -6.1617, -7.548, -7.6433, -8.1541, -6.1392, -4.7697, -5.4026, -5.4685, -5.5764, -5.5892, -5.7562, -5.9205, -5.9569, -5.9756, -6.0141, -6.1172, -6.1392, -6.335, -6.3624, -6.4195, -6.4195, -6.5119, -6.5786, -6.65, -6.65, -6.65, -6.6878, -6.6878, -6.727, -6.727, -6.727, -5.392, -5.8683, -6.1392, -6.1392, -6.2082, -4.3624, -4.9761, -4.7697, -4.2354, -4.6083, -4.1111, -5.5892, -5.2454, -4.4446, -4.896, -5.1923, -4.0542, -5.3209, -4.4948, -5.1501, -5.2545, -4.5614, -4.2256, -4.1965, -4.6936, -4.2794, -5.0707, -4.8399, -3.9128, -3.8344, -4.1682, -4.0324, -4.2934, -4.3364, -4.8521, -4.4611, -4.5342, -3.9032, -4.922, -4.5799, -4.6229, -4.8339, -5.1314, -10.0586, -10.0586, -10.0586, -10.0586, -5.9155, -10.0586, -2.9309, -7.1682, -6.0156, -10.0586, -6.421, -10.0586, -7.6607, -5.9982, -10.0586, -6.6574, -3.273, -10.0586, -5.4435, -7.9792, -10.0586, -10.0586, -6.9676, -6.5621, -8.6723, -8.6723, -7.1142, -4.7603, -10.0586, -3.8786, -3.8067, -4.9527, -5.1608, -5.3673, -5.3673, -5.4435, -5.7411, -5.9982, -6.0333, -6.0333, -6.1668, -6.2744, -6.3209, -6.3697, -6.4751, -6.4751, -6.4751, -6.5033, -6.5621, -4.8169, -5.9315, -5.2464, -5.146, -5.616, -6.2974, -3.67, -4.8222, -3.9696, -4.688, -5.8391, -3.2708, -5.075, -4.0899, -4.7703, -4.9169, -3.6161, -5.0347, -4.1642, -5.5588, -4.1478, -4.3716, -5.0088, -4.6695, -4.7653, -4.8825, -4.7068, -4.9228, -4.647, -4.9228, -4.9897, -4.9466, -6.9279, -6.2347, -6.3813, -7.0745, -6.3813, -7.621, -7.621, -7.621, -7.621, -4.913, -9.3258, -5.0285, -10.0189, -5.8445, -10.0189, -8.6326, -10.0189, -10.0189, -5.8293, -8.073, -8.073, -5.0631, -10.0189, -10.0189, -7.3799, -6.7231, -10.0189, -5.908, -6.9744, -8.9203, -1.669, -3.709, -4.7511, -4.035, -4.7459, -5.365, -5.6122, -6.1271, -6.1271, -6.2122, -4.7562, -6.33, -6.33, -6.4636, -6.5224, -6.5532, -6.6516, -6.6516, -6.7231, -6.7608, -5.5081, -6.1271, -4.5177, -5.5416, -4.5852, -5.1063, -4.4392, -6.2577, -4.229, -4.9885, -5.908, -5.1669, -3.8535, -4.7306, -4.1638, -3.3635, -5.3368, -4.5551, -5.6001, -4.6862, -4.9437, -4.8428, -4.6073, -4.9252, -4.3085, -4.6766, -4.6529, -4.53, -4.8094, -4.8094, -4.95, -3.7181, -4.2347, -10.0811, -4.7105, -7.8839, -5.0705, -6.7138, -4.2699, -9.3879, -10.0811, -6.6471, -5.9867, -6.1691, -4.5014, -5.2608, -4.1331, -7.5161, -10.0811, -7.8839, -9.3879, -7.6832, -6.99, -10.0811, -8.4717, -8.9825, -10.0811, -5.7636, -9.3879, -10.0811, -5.1684, -5.2853, -5.4759, -5.6744, -5.1253, -5.8184, -5.8616, -5.9702, -6.0738, -6.0738, -6.1298, -6.1493, -6.2524, -6.2744, -6.4976, -6.4976, -6.5257, -6.5547, -6.5547, -4.6387, -4.7928, -4.3707, -5.954, -4.3381, -3.4167, -2.651, -4.9106, -4.4321, -3.8273, -4.4078, -4.7292, -4.85, -4.3381, -4.1124, -3.3034, -4.922, -5.0441, -4.2404, -3.8234, -4.6966, -4.4147, -5.0185, -4.5636, -4.9049, -5.0248, -8.9198, -8.9198, -8.2267, -7.5335, -3.0978, -6.5844, -7.2458, -6.2572, -6.3808, -5.5298, -10.0184, -7.8212, -10.0184, -7.3104, -10.0184, -10.0184, -10.0184, -10.0184, -10.0184, -10.0184, -9.3253, -10.0184, -7.7158, -5.5411, -5.5876, -10.0184, -6.5844, -10.0184, -2.8646, -7.3794, -4.2883, -4.3765, -4.5546, -4.9308, -5.0486, -5.2144, -5.2309, -5.3645, -5.6117, -5.6364, -5.6746, -5.7009, -5.7557, -5.7699, -5.7989, -5.8137, -5.8913, -5.9075, -5.9409, -5.958, -5.9754, -5.9754, -6.0111, -6.0111, -6.0672, -5.291, -5.1131, -4.7251, -4.8594, -5.7418, -3.3812, -3.8384, -4.7352, -4.9815, -4.2073, -4.8035, -3.6132, -4.3146, -4.5336, -4.3047, -3.9136, -5.0626, -4.4501, -4.6713, -4.7151, -5.355, -5.1901, -4.8536, -5.0556, -5.0984, -5.2062, -2.0543, -8.0871, -5.3695, -5.9899, -8.9344, -7.7304, -7.0885, -5.2968, -8.6467, -8.6467, -7.468, -7.9535, -8.9344, -6.2718, -6.2488, -5.2708, -8.9344, -7.3939, -8.9344, -10.033, -10.033, -6.8141, -10.033, -10.033, -7.3249, -7.1998, -10.033, -10.033, -8.0871, -6.2488, -2.9977, -4.6859, -5.0494, -5.5443, -6.1618, -6.8141, -6.8549, -6.8975, -7.0372, -5.7289, -7.1426, -7.1426, -7.2604, -7.2604, -7.3249, -7.3249, -7.3249, -3.4805, -1.8188, -6.4221, -2.4548, -3.6327, -4.8512, -3.8974, -5.1888, -3.4934, -5.3056, -6.7008, -5.2708, -5.8741, -4.3426, -4.5949, -4.9704, -5.4583, -3.6856, -3.4523, -5.1203, -4.8797, -4.786, -5.0842, -3.7359, -4.1982, -4.5949, -5.0913, -5.0025, -7.7814, -5.3058, -3.876, -8.88, -3.4698, -6.2897, -5.5359, -8.5923, -6.7205, -6.5774, -6.5774, -7.4937, -7.0342, -9.9786, -7.0882, -9.2854, -9.9786, -4.1467, -6.341, -6.2897, -6.9341, -6.2897, -5.8197, -6.3677, -7.2705, -7.4937, -6.7597, -7.0882, -6.2174, -8.88, -4.9287, -5.1188, -5.3246, -5.3635, -5.4677, -5.7301, -5.7889, -5.8515, -6.1074, -6.1944, -4.9482, -6.2897, -6.315, -6.315, -6.341, -6.4232, -6.4232, -6.4821, -5.1664, -5.5359, -5.7159, -2.8598, -5.9896, -4.0358, -4.3765, -5.8515, -6.0666, -4.0651, -3.3348, -6.1074, -5.1111, -5.0733, -4.5987, -3.772, -4.9097, -4.4452, -2.9293, -3.8195, -4.3546, -5.4247, -4.5804, -3.9312, -4.7316, -4.6556, -4.7746, -4.9482, -4.968, -5.1188, -4.9746, -10.0724, -5.381, -7.5875, -9.3792, -6.3835, -8.4629, -10.0724, -10.0724, -9.3792, -7.2998, -6.9813, -7.2998, -6.2657, -5.1745, -6.2882, -7.0767, -10.0724, -7.2998, -8.4629, -7.6745, -7.2392, -5.381, -6.6067, -6.3835, -10.0724, -10.0724, -10.0724, -6.3835, -10.0724, -5.1379, -3.6, -4.6563, -5.082, -5.3017, -5.595, -5.7157, -5.7417, -5.7819, -5.7819, -5.7957, -5.898, -5.978, -5.978, -5.9948, -6.0119, -6.0834, -6.1211, -6.1604, -6.1604, -6.1806, -6.2657, -6.3112, -6.3347, -6.3347, -5.4773, -3.3307, -2.8425, -5.7157, -4.0109, -2.9715, -4.7348, -4.1835, -3.8924, -5.9293, -4.5752, -3.1302, -5.381, -4.7301, -4.885, -4.3262, -4.8684, -4.8684, -5.2521, -5.2521, -4.3922, -4.9019, -4.9366, -4.7445, -4.885, -4.9848, -5.1095, -5.0485, -5.1597, -6.2392, -7.2688, -5.4551, -6.9324, -3.3949, -8.031, -8.031, -7.0865, -8.3674, -5.0352, -6.5429, -9.9769, -8.3674, -6.0649, -6.758, -8.031, -6.366, -7.492, -7.7797, -7.8974, -9.9769, -6.3133, -5.8993, -5.9338, -7.0865, -8.3674, -5.511, -7.8974, -7.6743, -4.3209, -4.3748, -4.5475, -4.847, -4.9143, -5.1729, -5.3919, -5.5824, -5.5949, -5.7002, -5.7284, -5.9164, -6.0256, -6.0256, -6.0851, -6.1482, -6.1482, -6.1482, -6.1702, -6.1927, -6.2157, -5.3519, -5.5225, -4.3971, -5.7002, -5.818, -5.6594, -3.2651, -5.8825, -4.6988, -5.8025, -4.3859, -5.0211, -4.6539, -5.1811, -3.528, -4.5475, -4.8352, -4.5046, -4.6686, -4.5608, -5.3618, -5.0281, -4.8589, -5.2147, -4.9335, -5.1647, -5.304, -5.2947, -5.3421, -6.4411, -6.0058, -4.6001, -4.9678, -9.9376, -4.1087, -9.9376, -4.3808, -7.7404, -6.3823, -7.0472, -7.8582, -8.5513, -5.8105, -5.1418, -8.839, -5.4833, -6.9932, -7.5397, -7.2295, -7.7404, -8.5513, -7.3726, -9.9376, -7.5397, -5.2191, -7.0472, -6.109, -8.5513, -7.2295, -2.2542, -4.5126, -5.5938, -5.7329, -5.0624, -6.0664, -6.0875, -6.109, -6.1764, -6.1764, -6.3267, -6.4112, -6.4411, -6.5036, -6.5036, -5.449, -6.5364, -6.6418, -5.1669, -3.7351, -5.7945, -4.7119, -5.5431, -5.0934, -5.9864, -4.7281, -5.2281, -3.2912, -4.1882, -5.3837, -4.1476, -5.1336, -4.1599, -5.2648, -5.449, -4.5577, -3.4998, -5.1501, -4.5171, -4.478, -4.8562, -4.875, -4.9888, -5.2463, -5.0624, -5.0548, -5.1754, -5.2014, -6.9064, -9.2089, -3.5408, -8.8035, -8.1103, -6.1409, -8.2926, -7.7049, -8.2926, -5.9131, -8.5158, -5.4362, -7.9562, -5.8767, -9.9021, -9.9021, -8.5158, -7.3371, -7.9562, -7.194, -4.9968, -9.9021, -8.5158, -7.5042, -6.4364, -5.5201, -6.2645, -3.9541, -7.5042, -6.1644, -4.7373, -4.9676, -5.0117, -4.671, -5.2107, -5.2386, -5.3482, -5.3803, -5.4362, -5.4713, -5.5076, -5.5201, -5.5454, -5.5714, -4.9254, -5.5846, -5.6116, -5.6394, -5.7124, -5.7277, -5.0501, -5.9318, -5.9703, -5.307, -5.5201, -5.6826, -4.5598, -4.486, -4.624, -5.22, -4.7147, -4.5314, -4.6656, -4.7036, -3.5617, -4.5361, -5.0501, -4.5791, -5.1399, -4.4008, -4.6981, -4.7316, -4.9748, -5.0658, -5.1659, -5.1314, -5.7833, -7.3292, -7.4092, -6.5983, -5.6746, -7.3292, -5.767, -6.8496, -5.5634, -7.5916, -5.9623, -6.7161, -5.7045, -6.2053, -6.1329, -7.4092, -9.8941, -6.4284, -8.2847, -9.8941, -7.4962, -6.8496, -7.4962, -8.5078, -6.5983, -9.8941, -9.8941, -9.8941, -5.7998, -7.4962, -4.5711, -4.8835, -5.0421, -5.1846, -5.3615, -5.4753, -5.4997, -5.6895, -5.8166, -5.8868, -5.8868, -6.0023, -6.0655, -6.2306, -6.2832, -6.2832, -6.3388, -6.3678, -6.3678, -6.3976, -5.6315, -5.132, -4.022, -5.5634, -5.3724, -5.6315, -5.9821, -5.0343, -4.478, -4.8969, -4.3182, -3.3402, -5.1937, -5.5634, -4.5711, -5.279, -4.9742, -4.9454, -5.212, -4.1165, -5.279, -5.115, -4.4135, -5.0343, -4.9889, -4.7882, -5.1406, -5.3194, -5.0739, -4.9174, -4.9889, -5.1846, -5.2498, -5.212, -5.2594, -3.6139, -6.0609, -6.6922, -5.999, -5.999, -6.6922, -6.6922, -5.4337, -7.8316, -4.3698, -4.2377, -9.9111, -8.1193, -6.9666, -7.0207, -5.1661, -8.8124, -5.059, -7.6085, -6.4453, -5.7367, -3.8197, -7.0207, -5.0283, -5.0512, -9.9111, -7.5132, -6.2222, -6.5438, -3.1576, -4.7931, -5.3159, -5.3261, -5.3363, -5.4112, -5.4224, -5.4802, -5.5043, -5.529, -5.6484, -5.7064, -5.7679, -5.7839, -5.7839, -5.9408, -6.0824, -3.5867, -4.4686, -5.0058, -5.2571, -3.8566, -4.7406, -4.7181, -4.4861, -3.7908, -5.1319, -4.3389, -4.115, -4.6381, -4.7293, -5.0359, -5.2667, -5.0748, -5.0748, -5.3059, -5.6238, -5.8751, -5.3548, -6.1264, -10.0182, -10.0182, -8.4088, -4.7556, -9.3251, -6.2116, -7.6203, -6.5525, -10.0182, -6.1896, -5.4644, -5.8751, -8.4088, -10.0182, -9.3251, -10.0182, -5.8911, -10.0182, -8.4088, -7.4533, -6.7601, -7.821, -10.0182, -7.6203, -6.9737, -10.0182, -4.4015, -5.7416, -6.147, -6.147, -5.3269, -6.3807, -6.5217, -6.5217, -6.5525, -6.5843, -5.5756, -6.7994, -6.8402, -6.9737, -6.9737, -7.0225, -7.0738, -3.3311, -5.0624, -5.143, -3.0771, -5.9929, -3.2248, -4.4015, -4.3449, -5.021, -4.2593, -3.0298, -4.5672, -4.1546, -3.5215, -3.4816, -4.3658, -3.3955, -4.4088, -3.7047, -3.4615, -4.1952, -4.6156, -4.6952, -4.6476, -3.9732, -4.6156, -3.35, -4.657, -4.4347, -4.2283, -4.9184, -4.8309, -4.5715], \"loglift\": [30.0, 29.0, 28.0, 27.0, 26.0, 25.0, 24.0, 23.0, 22.0, 21.0, 20.0, 19.0, 18.0, 17.0, 16.0, 15.0, 14.0, 13.0, 12.0, 11.0, 10.0, 9.0, 8.0, 7.0, 6.0, 5.0, 4.0, 3.0, 2.0, 1.0, 2.668, 2.668, 2.668, 2.668, 2.668, 2.668, 2.668, 2.668, 2.668, 2.668, 2.668, 2.668, 2.668, 2.668, 2.668, 2.668, 2.668, 2.668, 2.668, 2.668, 2.668, 2.668, 2.668, 2.668, 2.668, 2.668, 2.668, 2.668, 2.668, 2.668, 2.668, 2.668, 2.668, 2.668, 2.668, 2.668, 2.668, 2.668, 2.668, 2.668, 2.668, 2.668, 2.668, 2.668, 2.668, 2.668, 2.668, 2.668, 2.668, 2.668, 2.668, 2.668, 2.668, 2.668, 2.668, 2.668, 2.6362, 2.6357, 2.6467, 2.6465, 2.6455, 2.4511, 2.5076, 2.4616, 2.3684, 2.4117, 2.3377, 2.5398, 2.4156, 2.1959, 2.3035, 2.3702, 1.986, 2.3735, 2.0654, 2.288, 2.3244, 2.0356, 1.8542, 1.8405, 2.0416, 1.8178, 2.2225, 2.049, 1.3799, 1.2013, 1.4666, 1.334, 1.5256, 1.533, 1.9865, 1.4958, 1.5673, 0.7079, 2.0225, 0.9419, 0.8904, 1.7224, 2.6015, 2.6015, 2.6015, 2.6015, 2.6015, 2.6015, 2.6015, 2.6015, 2.6015, 2.6015, 2.6015, 2.6015, 2.6015, 2.6015, 2.6015, 2.6015, 2.6015, 2.6015, 2.6015, 2.6015, 2.6015, 2.6015, 2.6015, 2.6015, 2.6015, 2.6015, 2.6015, 2.6015, 2.6015, 2.6015, 2.6015, 2.5974, 2.6015, 2.6015, 2.6015, 2.6015, 2.6015, 2.6015, 2.6015, 2.6015, 2.6015, 2.6015, 2.6015, 2.6015, 2.6015, 2.6015, 2.6015, 2.6015, 2.6015, 2.6015, 2.5594, 2.5848, 2.4733, 2.4428, 2.4859, 2.5781, 2.2085, 2.3535, 2.1753, 2.2986, 2.4885, 1.7472, 2.2046, 1.769, 2.0246, 2.0931, 1.4196, 2.0853, 1.4881, 2.3186, 1.1275, 1.1976, 1.7317, 1.1533, 1.298, 1.4539, 0.912, 1.3231, 0.2565, 1.2438, 1.1118, 0.5666, 2.6239, 2.6239, 2.6239, 2.6239, 2.6239, 2.6239, 2.6239, 2.6239, 2.6239, 2.6239, 2.6239, 2.6239, 2.6239, 2.6239, 2.6239, 2.6239, 2.6239, 2.6239, 2.6239, 2.6239, 2.6239, 2.6239, 2.6239, 2.6239, 2.6239, 2.6239, 2.6239, 2.6239, 2.6239, 2.6239, 2.6237, 2.6239, 2.6239, 2.6165, 2.6188, 2.6239, 2.6239, 2.6239, 2.6239, 2.6239, 2.6081, 2.6239, 2.6239, 2.6239, 2.6239, 2.6239, 2.6239, 2.6239, 2.6239, 2.6239, 2.6022, 2.6032, 2.5335, 2.5682, 2.499, 2.5205, 2.4426, 2.6008, 2.3409, 2.4262, 2.5434, 2.3859, 2.1033, 2.2583, 2.1069, 1.7703, 2.3525, 2.0096, 2.4127, 1.915, 1.963, 1.8881, 1.6697, 1.7999, 0.9108, 1.3937, 1.0166, 0.7627, 0.7123, -0.4896, 0.0083, 2.5529, 2.5529, 2.5529, 2.5529, 2.5529, 2.5529, 2.5529, 2.5529, 2.5529, 2.5529, 2.5529, 2.5529, 2.5529, 2.5529, 2.5529, 2.5529, 2.5529, 2.5529, 2.5529, 2.5529, 2.5529, 2.5529, 2.5529, 2.5529, 2.5529, 2.5529, 2.5529, 2.5529, 2.5529, 2.5529, 2.5529, 2.5529, 2.5529, 2.5461, 2.5529, 2.5529, 2.5529, 2.5529, 2.5529, 2.5529, 2.5529, 2.5529, 2.5529, 2.5529, 2.5529, 2.5529, 2.5529, 2.5529, 2.531, 2.5223, 2.4931, 2.5362, 2.4461, 2.3162, 2.2129, 2.4005, 2.3204, 2.236, 2.3084, 2.3396, 2.3036, 2.0754, 1.9674, 1.3077, 2.0719, 2.0688, 1.478, 0.823, 1.616, 0.8046, 2.0203, 0.8575, 0.9141, 1.5354, 2.6251, 2.6251, 2.6251, 2.6251, 2.6251, 2.6251, 2.6251, 2.6251, 2.6251, 2.6251, 2.6251, 2.6251, 2.6251, 2.6251, 2.6251, 2.6251, 2.6251, 2.6251, 2.6251, 2.6251, 2.6251, 2.6251, 2.6251, 2.6251, 2.6251, 2.6251, 2.6251, 2.6251, 2.6251, 2.6251, 2.6251, 2.6251, 2.6251, 2.6251, 2.6251, 2.6251, 2.6251, 2.6251, 2.6251, 2.6251, 2.6251, 2.6251, 2.6251, 2.6251, 2.6251, 2.6251, 2.6251, 2.6251, 2.6251, 2.6251, 2.6251, 2.6251, 2.6251, 2.6251, 2.6251, 2.6158, 2.6024, 2.5657, 2.562, 2.611, 2.4435, 2.336, 2.4504, 2.3587, 2.077, 2.1864, 1.5206, 1.8608, 1.9128, 1.7656, 1.4528, 1.8819, 0.8426, 1.1876, 1.1634, 2.2367, 1.7346, 0.4372, -0.0376, -0.0627, -0.5951, 2.6203, 2.6203, 2.6203, 2.6203, 2.6203, 2.6203, 2.6203, 2.6203, 2.6203, 2.6203, 2.6203, 2.6203, 2.6203, 2.6203, 2.6203, 2.6203, 2.6203, 2.6203, 2.6203, 2.6203, 2.6203, 2.6203, 2.6203, 2.6203, 2.6203, 2.6203, 2.6203, 2.6203, 2.6203, 2.6203, 2.6203, 2.6203, 2.6203, 2.6203, 2.6203, 2.6203, 2.6203, 2.6203, 2.6203, 2.6067, 2.6203, 2.6203, 2.6203, 2.6203, 2.6203, 2.6203, 2.6203, 2.5786, 2.501, 2.5931, 2.4487, 2.4454, 2.4188, 2.3251, 2.3781, 2.0198, 2.32, 2.5476, 2.2272, 2.3582, 1.9699, 2.0151, 2.1172, 2.2417, 1.6808, 1.5834, 2.0443, 1.8556, 1.753, 1.9169, 0.9105, 0.4129, 0.7532, 0.9457, 0.4186, 2.6563, 2.6563, 2.6563, 2.6563, 2.6563, 2.6563, 2.6563, 2.6563, 2.6563, 2.6563, 2.6563, 2.6563, 2.6563, 2.6563, 2.6563, 2.6563, 2.6563, 2.6563, 2.6563, 2.6563, 2.6563, 2.6563, 2.6563, 2.6563, 2.6563, 2.6563, 2.6563, 2.6563, 2.6563, 2.6563, 2.6563, 2.6563, 2.6563, 2.6563, 2.6563, 2.6563, 2.6563, 2.6563, 2.6563, 2.6563, 2.643, 2.6563, 2.6563, 2.6563, 2.6563, 2.6563, 2.6563, 2.6563, 2.6403, 2.6441, 2.6423, 2.4884, 2.6384, 2.5261, 2.533, 2.6251, 2.6356, 2.4139, 2.3207, 2.6353, 2.4817, 2.4556, 2.3707, 2.1706, 2.3611, 2.1986, 1.717, 1.85, 1.9818, 2.4461, 1.7443, 1.0271, 1.6669, 1.2138, 0.9237, 1.3056, 0.7505, 1.0567, -0.3636, 2.5716, 2.5716, 2.5716, 2.5716, 2.5716, 2.5716, 2.5716, 2.5716, 2.5716, 2.5716, 2.5716, 2.5716, 2.5716, 2.5716, 2.5716, 2.5716, 2.5716, 2.5716, 2.5716, 2.5716, 2.5716, 2.5716, 2.5716, 2.5716, 2.5716, 2.5716, 2.5716, 2.5716, 2.5716, 2.5716, 2.5701, 2.5716, 2.5716, 2.5716, 2.5716, 2.5716, 2.5716, 2.5716, 2.5716, 2.5716, 2.5716, 2.5716, 2.5716, 2.5716, 2.5716, 2.5716, 2.5716, 2.5716, 2.5716, 2.5716, 2.5716, 2.5716, 2.5716, 2.5716, 2.551, 2.4817, 2.4483, 2.5449, 2.4184, 2.3038, 2.4495, 2.3794, 2.2742, 2.5387, 2.2608, 1.8877, 2.3633, 2.1045, 1.9892, 1.6164, 1.8675, 1.8442, 2.1313, 2.1134, 1.3263, 1.7058, 1.7293, 0.6766, 0.9739, 1.1896, 1.4873, 0.7762, 1.3008, 2.6425, 2.6425, 2.6425, 2.6425, 2.6425, 2.6425, 2.6425, 2.6425, 2.6425, 2.6425, 2.6425, 2.6425, 2.6425, 2.6425, 2.6425, 2.6425, 2.6425, 2.6425, 2.6425, 2.6425, 2.6425, 2.6425, 2.6425, 2.6425, 2.6425, 2.6425, 2.6425, 2.6425, 2.6425, 2.6425, 2.6425, 2.6425, 2.6425, 2.6425, 2.6425, 2.6425, 2.6425, 2.6425, 2.6425, 2.6425, 2.6425, 2.6425, 2.6425, 2.6425, 2.6425, 2.6425, 2.6425, 2.6425, 2.6425, 2.6425, 2.633, 2.6311, 2.5578, 2.6155, 2.6128, 2.5891, 2.3041, 2.6107, 2.4445, 2.5985, 2.3493, 2.4415, 2.3434, 2.4126, 1.8439, 2.0493, 2.0648, 1.7797, 1.7778, 1.5841, 2.1918, 1.4755, 0.8106, 1.5803, 0.4877, 1.2841, 1.4963, 0.5642, -0.7311, 2.6784, 2.6784, 2.6784, 2.6784, 2.6784, 2.6784, 2.6784, 2.6784, 2.6784, 2.6784, 2.6784, 2.6784, 2.6784, 2.6784, 2.6784, 2.6784, 2.6784, 2.6784, 2.6784, 2.6784, 2.6784, 2.6784, 2.6784, 2.6784, 2.6784, 2.6784, 2.6784, 2.6784, 2.6784, 2.6784, 2.6646, 2.6784, 2.6784, 2.6784, 2.671, 2.6784, 2.6784, 2.6784, 2.6784, 2.6784, 2.6784, 2.6784, 2.6784, 2.6784, 2.6784, 2.6676, 2.6784, 2.6784, 2.662, 2.562, 2.6327, 2.536, 2.5934, 2.5027, 2.622, 2.4214, 2.4704, 2.0807, 2.2103, 2.4828, 2.1293, 2.4014, 2.0844, 2.4304, 2.4571, 2.05, 1.4585, 2.2965, 1.7289, 1.5622, 1.8564, 1.7836, 1.8946, 2.164, 1.3971, 0.6435, 1.4116, 1.8111, 2.6978, 2.6978, 2.6978, 2.6978, 2.6978, 2.6978, 2.6978, 2.6978, 2.6978, 2.6978, 2.6978, 2.6978, 2.6978, 2.6978, 2.6978, 2.6978, 2.6978, 2.6978, 2.6978, 2.6978, 2.6978, 2.6978, 2.6978, 2.6978, 2.6978, 2.6978, 2.6978, 2.6978, 2.6978, 2.6978, 2.6978, 2.6978, 2.6978, 2.6926, 2.6978, 2.6978, 2.6978, 2.6978, 2.6978, 2.6978, 2.6978, 2.6978, 2.6978, 2.6978, 2.6912, 2.6978, 2.6978, 2.6978, 2.6978, 2.6978, 2.6905, 2.6978, 2.6978, 2.6882, 2.6856, 2.6553, 2.4145, 2.317, 2.302, 2.5112, 2.2574, 2.1345, 2.1945, 2.1114, 1.3022, 1.8627, 2.1721, 1.5964, 2.0736, 0.2103, 0.4357, 0.2267, 0.7436, 1.1786, 1.6451, 0.1613, 2.6959, 2.6959, 2.6959, 2.6959, 2.6959, 2.6959, 2.6959, 2.6959, 2.6959, 2.6959, 2.6959, 2.6959, 2.6959, 2.6959, 2.6959, 2.6959, 2.6959, 2.6959, 2.6959, 2.6959, 2.6959, 2.6959, 2.6959, 2.6959, 2.6959, 2.6959, 2.6959, 2.6959, 2.6959, 2.6959, 2.6959, 2.6959, 2.6959, 2.6959, 2.6959, 2.6959, 2.6959, 2.6959, 2.6959, 2.6959, 2.6959, 2.6959, 2.6959, 2.6959, 2.6959, 2.6959, 2.6959, 2.6959, 2.6959, 2.6959, 2.6826, 2.664, 2.5871, 2.6582, 2.6457, 2.6571, 2.677, 2.5904, 2.4061, 2.4271, 1.9639, 1.3062, 2.2311, 2.4243, 1.6996, 2.1792, 1.9107, 1.8656, 2.0962, 0.8418, 2.1445, 1.8464, 0.7202, 1.6783, 1.5501, 1.0308, 1.6225, 2.0365, 1.3249, 0.5037, 0.744, 0.9169, 1.451, 0.8661, 1.3445, 2.6993, 2.6993, 2.6993, 2.6993, 2.6993, 2.6993, 2.6993, 2.6993, 2.6993, 2.6993, 2.6993, 2.6993, 2.6993, 2.6993, 2.6993, 2.6993, 2.6993, 2.6993, 2.6993, 2.6993, 2.6993, 2.6993, 2.6993, 2.6993, 2.6993, 2.6993, 2.6993, 2.6993, 2.6993, 2.6993, 2.6993, 2.6993, 2.6993, 2.6993, 2.6993, 2.6993, 2.6993, 2.6993, 2.6993, 2.6993, 2.6993, 2.6993, 2.6993, 2.6993, 2.6993, 2.6993, 2.6548, 2.5703, 2.5834, 2.6091, 2.3971, 2.3346, 2.2694, 2.1009, 1.6465, 2.2351, 1.3166, 0.8433, 1.4322, 1.1401, 1.7792, 2.2128, 1.0225, 0.3464, 1.8228, 2.6269, 2.6269, 2.6269, 2.6269, 2.6269, 2.6269, 2.6269, 2.6269, 2.6269, 2.6269, 2.6269, 2.6269, 2.6269, 2.6269, 2.6269, 2.6269, 2.6269, 2.6269, 2.6269, 2.6269, 2.6269, 2.6269, 2.6269, 2.6269, 2.6269, 2.6269, 2.6269, 2.6269, 2.6269, 2.6269, 2.6233, 2.6269, 2.6269, 2.6269, 2.6178, 2.6269, 2.6269, 2.6269, 2.6269, 2.6269, 2.6153, 2.6269, 2.6269, 2.6269, 2.6269, 2.6269, 2.6269, 2.5429, 2.5844, 2.5821, 2.5018, 2.5902, 2.3939, 2.4512, 2.4228, 2.4784, 2.3522, 2.1894, 2.377, 2.2773, 2.1768, 2.1533, 2.3071, 2.1262, 2.2961, 2.1182, 1.9758, 2.1587, 2.2363, 2.2, 2.1528, 1.6791, 2.0452, 1.2611, 2.0616, 1.6625, 1.0644, 2.1023, 1.7255, -0.2517]}, \"token.table\": {\"Topic\": [2, 6, 4, 9, 14, 1, 3, 9, 3, 10, 12, 14, 4, 5, 12, 5, 6, 9, 10, 5, 12, 13, 9, 11, 13, 8, 6, 11, 1, 3, 14, 2, 9, 14, 1, 5, 14, 8, 12, 1, 11, 13, 14, 1, 2, 1, 4, 14, 1, 2, 4, 5, 6, 10, 4, 11, 12, 9, 7, 3, 10, 3, 5, 11, 12, 3, 5, 3, 12, 3, 4, 6, 9, 12, 5, 10, 12, 6, 7, 6, 8, 14, 13, 12, 12, 1, 2, 5, 6, 13, 6, 12, 2, 3, 4, 7, 8, 10, 11, 12, 13, 3, 6, 10, 4, 6, 14, 14, 2, 4, 2, 6, 11, 13, 4, 5, 9, 8, 11, 12, 8, 9, 1, 6, 11, 11, 1, 4, 11, 6, 1, 5, 2, 2, 3, 4, 14, 1, 4, 1, 4, 5, 7, 9, 11, 12, 2, 6, 7, 10, 12, 11, 9, 10, 11, 7, 10, 4, 3, 3, 7, 1, 7, 3, 7, 4, 7, 10, 10, 8, 11, 8, 3, 14, 5, 5, 3, 11, 11, 1, 2, 11, 14, 5, 5, 8, 14, 10, 6, 5, 7, 3, 5, 8, 13, 7, 13, 5, 2, 9, 2, 5, 2, 9, 8, 12, 12, 10, 12, 2, 13, 13, 13, 1, 3, 10, 11, 14, 8, 9, 11, 12, 10, 13, 13, 13, 8, 12, 2, 12, 8, 4, 11, 11, 7, 3, 6, 5, 6, 11, 6, 11, 7, 2, 5, 8, 3, 2, 8, 7, 3, 12, 12, 6, 5, 10, 11, 8, 3, 8, 12, 10, 8, 8, 12, 13, 4, 5, 7, 10, 12, 9, 2, 7, 4, 6, 11, 12, 3, 6, 10, 3, 10, 11, 8, 7, 12, 13, 4, 1, 10, 7, 10, 13, 5, 12, 14, 2, 14, 1, 5, 14, 12, 2, 6, 10, 10, 11, 4, 4, 14, 11, 3, 4, 9, 11, 14, 12, 10, 3, 6, 9, 6, 9, 11, 3, 5, 12, 6, 14, 1, 4, 7, 10, 7, 9, 14, 2, 3, 9, 2, 4, 12, 9, 5, 1, 2, 7, 8, 14, 4, 7, 5, 14, 3, 3, 6, 3, 4, 6, 3, 10, 3, 6, 7, 12, 9, 4, 3, 10, 11, 14, 2, 3, 2, 2, 11, 6, 11, 11, 1, 2, 1, 4, 11, 11, 11, 4, 5, 6, 7, 10, 12, 14, 13, 4, 13, 1, 12, 1, 5, 9, 1, 3, 7, 8, 9, 13, 1, 3, 9, 13, 14, 9, 6, 9, 5, 8, 5, 8, 8, 1, 5, 9, 3, 3, 7, 12, 3, 14, 12, 3, 7, 13, 5, 7, 10, 14, 5, 8, 13, 14, 8, 11, 12, 6, 7, 12, 1, 13, 2, 1, 3, 6, 6, 2, 14, 10, 13, 13, 7, 10, 6, 5, 8, 9, 11, 9, 5, 9, 14, 2, 11, 11, 12, 13, 2, 13, 3, 3, 4, 6, 5, 9, 13, 14, 14, 10, 11, 2, 3, 5, 9, 13, 14, 10, 10, 13, 10, 14, 4, 3, 12, 7, 8, 11, 7, 2, 10, 3, 2, 7, 12, 13, 12, 12, 2, 9, 2, 4, 12, 1, 2, 4, 5, 1, 8, 13, 2, 13, 10, 14, 1, 7, 14, 12, 1, 7, 13, 5, 1, 9, 10, 11, 13, 3, 12, 7, 13, 4, 14, 1, 7, 8, 11, 12, 12, 12, 8, 5, 7, 11, 5, 6, 8, 1, 1, 2, 14, 1, 3, 4, 11, 12, 2, 8, 11, 6, 1, 7, 12, 13, 14, 7, 2, 4, 7, 8, 12, 1, 14, 14, 3, 6, 10, 11, 8, 5, 1, 7, 11, 7, 11, 2, 11, 14, 1, 7, 12, 7, 3, 6, 7, 10, 13, 14, 7, 8, 12, 7, 3, 7, 12, 3, 10, 3, 1, 6, 7, 10, 5, 9, 14, 4, 12, 4, 3, 10, 8, 1, 1, 11, 8, 8, 1, 8, 2, 5, 9, 2, 3, 9, 11, 5, 9, 8, 8, 8, 2, 4, 8, 11, 12, 13, 3, 4, 13, 14, 5, 14, 13, 9, 9, 3, 2, 6, 7, 10, 11, 12, 13, 11, 9, 11, 7, 8, 13, 4, 7, 8, 11, 12, 13, 1, 8, 1, 3, 5, 5, 13, 2, 7, 8, 9, 2, 9, 13, 7, 1, 2, 5, 6, 7, 8, 11, 13, 2, 5, 8, 9, 2, 4, 6, 8, 9, 11, 12, 13, 14, 4, 1, 2, 3, 8, 9, 12, 3, 8, 11, 8, 1, 1, 2, 9, 13, 9, 10, 8, 8, 3, 8, 12, 4, 1, 3, 10, 12, 3, 13, 9, 1, 3, 7, 10, 11, 13, 14, 3, 12, 9, 3, 9, 10, 2, 3, 7, 9, 8, 9, 10, 14, 1, 9, 14, 4, 4, 12, 7, 9, 10, 14, 4, 4, 8, 3, 6, 6, 6, 11, 1, 4, 10, 1, 11, 3, 7, 12, 2, 8, 9, 13, 14, 2, 3, 6, 10, 6, 6, 5, 7, 8, 9, 10, 11, 12, 9, 13, 2, 12, 14, 12, 4, 12, 4, 8, 7, 12, 2, 1, 5, 8, 4, 9, 12, 5, 5, 12, 1, 3, 6, 7, 14, 6, 1, 12, 5, 1, 4, 14, 2, 13, 14, 1, 2, 14, 9, 9, 2, 8, 9, 9, 6, 11, 1, 12, 3, 9, 10, 10, 12, 1, 3, 4, 11, 12, 9, 12, 2, 7, 10, 11, 13, 10, 2, 2, 4, 5, 6, 2, 9, 4, 7, 11, 9, 4, 4, 10, 12, 7, 7, 3, 6, 4, 6, 7, 9, 12, 12, 12, 5, 3, 12, 3, 5, 7, 12, 2, 6, 6, 9, 5, 11, 6, 7, 10, 10, 10, 2, 3, 9, 12, 7, 10, 13, 13, 9, 9, 11, 8, 5, 8, 11, 14, 5, 11, 11, 10, 3, 3, 10, 11, 12, 13, 10, 6, 11, 7, 2, 8, 5, 6, 10, 11, 4, 11, 6, 2, 11, 9, 11, 11, 11, 14, 8, 5, 1, 5, 12, 8, 5, 11, 5, 3, 2, 5, 1, 4, 7, 12, 8, 4, 1, 2, 4, 11, 1, 4, 5, 12, 14, 8, 9, 14, 7, 3, 2, 7, 8, 4, 3, 9, 14, 2, 1, 6, 7, 8, 9, 2, 8, 6, 3, 6, 1, 6, 11, 14, 6, 11, 9, 1, 4, 1, 8, 12, 11, 7, 14, 14, 13, 1, 5, 8, 10, 13, 2, 8, 11, 8, 6, 11, 12, 1, 11, 6, 13, 13, 1, 4, 4, 6, 7, 9, 1, 9, 8, 8, 10, 14, 14, 14, 5, 10, 3, 8, 2, 8, 12, 1, 1, 4, 2, 10, 2, 2, 12, 9, 13, 2, 7, 4, 7, 5, 6, 1, 5, 5, 2, 3, 5, 8, 9, 10, 14, 1, 12, 14, 1, 2, 3, 8, 1, 7, 8, 6, 7, 7, 8, 10, 5, 1, 1, 3, 6, 9, 10, 11, 14, 1, 8, 6, 10, 14, 1, 9, 12, 6, 1, 6, 10, 1, 7, 10, 1, 5, 11, 10, 12, 12, 8, 12, 13, 14, 8, 3, 10, 10, 13, 1, 5, 10, 12, 7, 7, 7, 3, 7, 1, 1, 3, 5, 9, 10, 11, 12, 14, 9, 11, 11, 9, 4, 3, 4, 4, 3, 3, 13, 10, 2, 4, 12, 3, 2, 5, 10, 12, 13, 3, 12, 4, 2, 2, 2, 5, 2, 9, 5, 8, 8, 13, 13, 10, 9, 1, 8, 4, 7, 13, 14, 1, 6, 8, 13, 13, 1, 5, 9, 6, 5, 2, 12, 14, 7, 7, 7, 8, 9, 9, 10, 5, 10, 2, 8, 10, 14, 14, 6, 2, 11, 4, 11, 4, 10, 11, 13, 1, 2, 3, 9, 12, 3, 4, 14, 1, 3, 4, 7, 13, 12, 8, 13, 4, 11, 12, 5, 4, 1, 4, 5, 6, 7, 9, 11, 14, 2, 11, 8, 14, 10, 1, 8, 7, 14, 2, 2, 6, 2, 5, 7, 8, 6, 10, 9, 13, 5, 4, 12, 1, 5, 10, 11, 1, 3, 4, 1, 13, 4, 8, 4, 7, 7, 4, 5, 13, 4, 5, 11, 4, 13, 4, 12, 13, 13, 3, 6, 9, 14, 4, 9, 8, 7, 7, 8, 7, 9, 3, 4, 6, 14, 8, 10, 14, 3, 4, 5, 11, 12, 9, 7, 9, 11, 13, 10, 12, 10, 11, 12, 1, 7, 5, 12, 2, 5, 9, 9, 9, 11, 1, 3, 1, 9, 14, 3, 4, 5, 12, 12, 2, 8, 14, 11, 2, 7, 1, 1, 14, 3, 12, 1, 10, 13, 10, 3, 3, 14, 2, 8, 10, 13, 6, 12, 4, 8, 7, 10, 11, 7, 10, 4, 11, 12, 14, 2, 2, 4, 11, 9, 8, 7, 5, 8, 1, 1, 4, 7, 8, 10, 11, 9, 4, 5, 7, 12, 14, 6, 6, 7, 2, 3, 9, 6, 2, 2, 2, 3, 1, 5, 9, 1, 6, 6, 8, 13, 9, 10, 4, 6, 4, 2, 7, 12, 13, 1, 6, 6, 14, 1, 1, 5, 6, 10, 11, 2, 3, 9, 12, 10, 1, 4, 4, 4, 7, 7, 10, 3, 10, 8, 13, 8, 13, 9, 1, 5, 4, 1, 12, 5, 10, 14, 5, 3, 5, 7, 9, 13, 4, 13, 13, 13, 13, 5, 2, 6, 12, 7, 7, 7, 1, 14, 6, 14, 14, 2, 8, 13, 2, 8, 2, 5, 3, 14, 8, 5, 5, 1, 5, 1, 2, 10, 7, 8, 10, 11, 13, 7, 8, 10, 11, 1, 7, 12, 6, 3, 10, 3, 6, 2, 6, 9, 12, 4, 13, 4, 7, 8, 12, 5, 7, 12, 3, 10, 14, 4, 1, 10, 13, 13, 9, 7, 9, 13, 8, 2, 12, 14, 9, 4, 11, 1, 6, 13, 1, 6, 9, 2, 5, 1, 11, 14, 6], \"Freq\": [0.39681202059213144, 0.6044893397805366, 0.9972672447323793, 0.9367670745844824, 0.9922119057825898, 0.9864092442421908, 0.009096872416973836, 0.9915590934501481, 1.0061535570246263, 1.0372757477880397, 0.9854619952029755, 1.00697694976646, 0.6198745684521202, 0.23623268614791168, 0.1436294731779303, 0.14018626127011236, 0.5607450450804494, 0.024031930503447832, 0.2683565572885008, 0.992845789450518, 0.00841394736822473, 1.0033683005435576, 0.04517954432696835, 0.5562731395257978, 0.39814473438140857, 1.0044358422250557, 0.00712450212624056, 0.9903057955474378, 0.3307427277628635, 0.1025558845776321, 0.5691851594058581, 0.04187232983613825, 0.038566619585916805, 0.9189874495615605, 0.13435557583382032, 0.005598148993075846, 0.8621149449336803, 0.9732323443331742, 0.0294918892222174, 0.931608680754255, 0.9974356947216266, 0.9946607882070471, 1.0117949749415254, 0.9864092442421908, 0.9998928197203673, 0.5471751372025321, 0.36113559055367117, 0.09192542305002539, 0.16899828971733366, 0.13058958750884872, 0.12598054324383054, 0.025349743457600046, 0.5484762675371646, 0.9937770873969284, 1.0369312570911342, 0.996692846070212, 0.9096572481981228, 0.9813750597901743, 1.0148036711848423, 0.9830441433369735, 0.014672300646820501, 0.4257315127226043, 0.3311245098953589, 0.10406770310996993, 0.13875693747995993, 0.9932433264964506, 0.0048928242684554216, 0.23718938850388624, 0.7663041782433248, 0.4802226167318613, 0.30630415553707907, 0.19468484462102484, 0.015574787569681987, 0.002595797928280331, 1.0281990394525078, 0.8242517707347035, 0.17777979368787722, 0.9915491793498904, 0.9974128797730903, 0.9910370002475748, 0.9601224707946939, 0.9612052179374797, 1.0073585831089156, 0.9096572481981228, 0.9899210600776087, 0.23062724541264454, 0.30686765711930386, 0.0681398679628268, 0.354517914435966, 0.040026216145996156, 0.8392162376916935, 0.16081599401821503, 0.9756395881856915, 0.07320850448589449, 0.0039691357853798214, 0.19625171383266896, 0.0339581617193607, 0.2950390933799001, 0.08467489675476952, 0.15656035597887075, 0.1561193408916063, 0.9589901325145884, 0.6841695971947805, 0.31471801470959904, 0.1597709412935815, 0.1347465769945868, 0.7045321025716966, 0.9974771098822431, 0.27162423867093305, 0.72832577722059, 0.9999131189879072, 1.0021425869726375, 1.0087585346155437, 1.0021961175649237, 0.08788955537510451, 0.4902284088700274, 0.4218698658005017, 0.5572487006176234, 0.3205678008929339, 0.12283439099635785, 0.9970502845616362, 0.997203634134399, 0.7453038075328052, 0.03577458276157465, 0.22060992702971036, 1.0718059124898125, 0.9958576282779011, 1.0064332864245569, 1.004818042959199, 0.9690139129963677, 0.5238986511309845, 0.4756871188183172, 1.0016566559750908, 0.07630110422198155, 0.902896399960115, 0.019075276055495388, 1.0012554898246049, 0.020129484527740597, 0.978292948048193, 0.31913460553564016, 0.19398377983538911, 0.09490604282269037, 0.1303654434377615, 0.004171694190008368, 0.06779003058763598, 0.18876916209787864, 0.2124363940852631, 0.6764422022188641, 0.03913301996307478, 0.07267560850285316, 0.9976885553599708, 1.0041503694137828, 0.3186033977727888, 0.6849973052114958, 0.999076283643338, 0.9704160945882824, 0.019408321891765647, 1.0236373064274074, 1.000836999116012, 0.9589901650601581, 1.003003622642104, 0.931608680754255, 0.9989473429286434, 0.1597906234857543, 0.8419736699057053, 0.0018618041731738957, 0.37236083463477915, 0.625566202186429, 0.9984279595299104, 0.8582349974611067, 0.14207917183919888, 1.0081285943344285, 0.999674548808328, 1.0092655117796618, 0.9596523771435186, 0.9596524032530023, 0.9945082580699027, 0.9186908355341039, 1.0207675686675324, 0.931608680754255, 0.9756395789747181, 0.9996117343645747, 1.0029967847398473, 0.9956393846281442, 0.9989824318100554, 0.008738139761505283, 0.987409793050097, 1.0092412681180927, 1.01746465358751, 0.9996378928578319, 1.0306600001043418, 0.29229962928918113, 0.42370038007055616, 0.002681647975130102, 0.28157303738866074, 0.1102346171537718, 0.8880010826276061, 1.001118878236394, 0.9904735407321807, 0.015476149073940324, 0.5976057019005552, 0.4022346070484506, 0.6529914461505292, 0.3467211218498385, 0.9601224707946938, 0.9096572481981228, 0.9096572481981228, 0.9854119603986377, 1.0021647392518631, 1.0081609382495016, 0.9997616880627346, 1.0026181461970816, 1.044393834909511, 0.17819218002680812, 0.14797698428313197, 0.0674031289666622, 0.0007747486088122092, 0.6058534120911476, 0.20654206900410318, 0.26447460055403454, 0.24180534907797446, 0.2871438520300947, 0.9335481730092355, 1.0011619088484833, 1.0026181461970816, 1.0020286832111327, 0.9707776265416943, 0.023969817939301093, 0.9756395789747181, 1.0029553514970653, 1.004164839935887, 1.002366881854763, 0.9912190169383359, 0.9186908355341039, 0.9513784284697987, 1.002580627108347, 1.0228480644530524, 0.1389639399151363, 0.744784262241798, 0.11710444374871037, 0.7845169017437209, 0.21559243101354164, 1.0014509736618404, 0.42553252609055575, 0.06975175620186227, 0.5046469341315941, 0.9880504730922841, 0.6739974034927597, 0.3280120696998097, 1.0148036711848423, 0.012643161617099472, 0.9861666061337587, 0.9991316714137339, 1.0093895372891963, 0.9596524032530023, 0.9957847178765181, 1.0003521871440708, 0.9995796199750007, 0.764863515345327, 0.006768703675622364, 0.23013592497116037, 0.9957847178765181, 0.9601224707946939, 0.19707036656513638, 0.3864124834610517, 0.41732548213793585, 0.006056182396522358, 0.06056182396522358, 0.12717983032696953, 0.35125857899829677, 0.457241770937438, 0.9978605289778776, 0.017305614318168204, 0.9864200161355875, 0.22228104391540945, 0.1928614939854288, 0.1569042662932302, 0.4282178934252741, 0.38578272376846756, 0.03791881472937929, 0.5770254415340327, 0.3635687703903119, 0.5991203681079788, 0.04096549525524641, 0.9921266215297695, 0.017851765682411806, 0.9818471125326492, 1.0006168240970197, 0.9505203114910614, 1.0092427374837762, 0.9944317495098379, 0.7147218498590034, 0.03454046114560239, 0.2506397565180892, 0.9797454744718175, 0.013897098928678261, 0.0069485494643391306, 0.9601965935456961, 0.03959573581631736, 0.995127481911205, 1.002782838226877, 0.9612052179374797, 1.0079985507261846, 0.6005752809612852, 0.2505256886295647, 0.14756992617905865, 0.9918949338223129, 0.9186907821341249, 0.9999693324793631, 0.9991515464918748, 1.0351440678595714, 1.0037547974654524, 1.027489427694202, 1.0064332589862972, 1.003679038421769, 0.03309220086859638, 0.959673825189295, 0.9923533291562613, 0.9335481730092358, 0.015122915625101145, 0.015122915625101145, 0.9678666000064733, 0.9690139129963677, 0.35683592101935124, 0.6442870796182731, 0.03683592119912133, 0.6753252219838911, 0.28240872919326354, 1.0228480644530524, 1.0069768871557883, 1.024769611061941, 0.9505203390245938, 1.0001670604632633, 1.05024169463539, 0.9966821532319048, 0.998194442773909, 0.9612052321995177, 0.21258046304886216, 0.7853667107082962, 0.9888096996707968, 0.006648192071373869, 0.9905806186347065, 1.0085329570261854, 0.9367670578189821, 0.9947616474200791, 0.040830860266128054, 0.23451571024647908, 0.008375561080231395, 0.11411701971815276, 0.6009465075066026, 1.00332702452596, 0.9513784367610428, 0.9596523771435186, 0.9612052179374797, 0.9958744112771359, 0.9997910526148481, 0.00022665859274877535, 0.20690149045311204, 0.7931223800702628, 0.9690139557976286, 0.24362690577516385, 0.7598839203939635, 0.19282472845676824, 0.41992940863918415, 0.07070240043414835, 0.3170895534622411, 0.9367670431491695, 0.9505203114910614, 0.006487306074358015, 0.02594922429743206, 0.006487306074358015, 0.9601212990049863, 0.7816366217845377, 0.21869625687235772, 0.9968491313567376, 1.0024920233513601, 0.9186907821341249, 0.9997221165504578, 1.0105599190875143, 1.0034930395853092, 1.0092427374837762, 1.0027406878575162, 1.024769611061941, 0.9505203114910614, 0.9186907821341249, 1.0031681524036693, 1.0499323660308189, 0.09102858073551838, 0.10883852044464154, 0.14247951767298528, 0.11081740263454411, 0.2770435065863603, 0.12664846015376469, 0.14247951767298528, 0.9979763018700812, 0.0429649110663876, 0.9563670944777387, 0.9689177795373073, 0.028497581751097272, 1.0032709260216894, 0.5779694151695303, 0.42185123980764566, 0.3213652522007745, 0.001096809734473633, 0.2358140929118311, 0.13490759734025687, 0.09651925663367972, 0.21058746901893755, 0.11248931342668649, 0.009255449838904584, 0.008543492158988846, 0.34885926315871124, 0.5211530216983197, 0.9989877840282715, 0.02841553506870456, 0.966128192335955, 0.8338641970693925, 0.1657239536314013, 0.7484721409043691, 0.2514747352143904, 0.9601224707946939, 0.995127481911205, 0.08119601344445096, 0.9191388721911848, 0.9589901437021278, 0.9806070715894531, 0.021791268257543406, 1.0107302191096188, 0.0034825984415111735, 0.9960231542721956, 1.0006229297412448, 0.29300834310218515, 0.010987812866331943, 0.6958948148676898, 0.05453606373147655, 0.17654895207986476, 0.1303319489175965, 0.6377946436393019, 0.1119267339369043, 0.8837292124578653, 0.002459928218393501, 0.0012299641091967504, 0.9601224707946939, 1.0002455599576479, 1.0006229682094139, 1.0021993925306671, 0.9840412953190634, 0.011056643767629926, 1.0061374118750535, 0.9923742537337077, 1.0027406878575162, 0.6422104540901602, 0.22317951950650958, 0.1366405221468426, 1.0295773280349805, 1.0052043965837731, 0.9912428809980259, 0.9944317495098379, 0.9998449736136555, 0.9985346298418166, 1.0001670604632633, 1.0008713585627864, 0.9690139557976286, 0.18262744863988148, 0.4957030748796783, 0.16697366732789162, 0.1565378131198984, 1.0036790264464108, 0.9596523771435186, 0.9874031350582037, 0.9612052179374797, 1.0013142823476566, 1.001580217595189, 0.3487330470047371, 0.4359163087559214, 0.2137396094545163, 0.8792373252269947, 0.11862725816554691, 1.009463287466845, 0.9796286225494951, 0.010311880237363107, 0.010311880237363107, 0.05878935742205918, 0.1518725066736529, 0.06368847054056412, 0.7275182980979824, 1.0069768871557883, 1.018416188737348, 1.0007167863731241, 0.02580874087217855, 0.4387485948270353, 0.13936720070976416, 0.2787344014195283, 0.11613933392480347, 1.0117949749415254, 0.9941681531390667, 0.9502315631618743, 0.050905262312243266, 0.9806958398567499, 0.015566600632646824, 1.0118441940456786, 0.9589901437021278, 1.0006229682094137, 0.9910192308695593, 0.9970502845616362, 1.0031681524036693, 0.9894335959611786, 0.9756396015834715, 0.9335481730092358, 0.9995108528497983, 0.10954537663737313, 0.8187075517108939, 0.06342100752690023, 0.005765546138809112, 0.999803440557679, 1.0061360142834315, 0.8895946738269297, 0.11247748749535892, 0.14126758676456322, 0.5862604850729374, 0.2719401045217842, 0.04726495454396671, 0.05356694848316227, 0.488404530287656, 0.4096296060477115, 0.741581121834126, 0.2517293716317675, 0.9979763018700812, 0.7515835461332729, 0.24508159113041508, 0.9335481730092358, 1.0012554898246049, 0.8062988241039428, 0.14096133288530469, 0.053565306496415784, 0.9796308663792136, 1.0032709572661467, 0.7512536757071626, 0.247122919640514, 0.9596524032530023, 0.19336773794770754, 0.008407292954248153, 0.7986928306535745, 0.9186907821341249, 1.0127455503813965, 1.0046563293009974, 1.004696051122129, 0.9966821889688604, 0.9799251275620543, 0.9505203114910614, 1.0016770664943415, 1.0061374118750535, 0.0316725818620406, 0.6276929859931683, 0.20731144491517484, 0.135328304319628, 0.9962912889349869, 0.9923533291562613, 0.9601224707946939, 0.4662250961262172, 0.20257703857241385, 0.3321667617768257, 1.006087204905748, 0.9690139557976286, 0.9601224707946939, 0.931608680754255, 0.3010302300747417, 0.076341960364776, 0.6228809947944224, 1.016300407058252, 0.9589901437021278, 0.617959826087199, 0.05065244476124582, 0.3309293057734727, 0.0856637157696912, 0.31016172951095095, 0.6055538528547137, 0.9690139064115587, 0.42704055080510944, 0.0013775501638874498, 0.0027551003277748996, 0.18734682228869318, 0.38158139539682356, 0.9989473429286434, 0.9756395789747181, 0.7804333745742164, 0.21392589962948064, 0.007923181467758542, 0.9923533291562612, 0.9864092442421908, 0.9903326634782909, 1.0004381472906418, 0.11441273171884166, 0.00394526661099454, 0.7732722557549299, 0.10652219849685259, 0.9901262980070281, 0.9596523771435186, 0.9316087373290374, 0.7849342197661608, 0.21590735607963807, 0.31805085794892324, 0.683530352609528, 0.18438174169067592, 0.02304771771133449, 0.7921585939303114, 1.0032709572661467, 0.8844708127779017, 0.11482603534309602, 0.9958353883879294, 0.6921875348693515, 0.016800668322071638, 0.11760467825450147, 0.0033601336644143278, 0.1310452129121588, 0.036961470308557606, 0.15547938046245255, 0.4842800375059998, 0.36193560697816823, 1.0001670604632633, 0.8331342571801363, 0.1448929142921976, 0.021130216667612153, 1.002580627108347, 1.0372757477880397, 0.9589901437021278, 0.5059441134898393, 0.08673327659825815, 0.0607132936187807, 0.3469331063930326, 0.9945488941307956, 1.0538629235428156, 0.9612052179374797, 0.8080048972377349, 0.19290207006126106, 1.0064332864245569, 0.9945082580699027, 1.005359570933023, 0.9601224707946939, 1.0006167424333672, 1.024769611061941, 0.9186907821341249, 1.0166002838008303, 1.0201301252193624, 1.0021851236268873, 0.9601224707946939, 0.9756395789747181, 0.9921830137828473, 1.0003426954872547, 0.23724537279717753, 0.015642552052561154, 0.7456283145054151, 1.0011373982477363, 0.9856143781557797, 0.013141525042077062, 1.0001276120370637, 0.9993111782099857, 1.005842604956472, 0.003314433824314198, 0.12429126841178242, 0.20549489710748028, 0.07788919487138365, 0.4805929045255587, 0.10937631620236854, 0.9589901437021278, 0.02073471750393226, 0.2188664625415072, 0.7602729751441829, 1.039623408572145, 1.0039254753343632, 1.0032170787314492, 1.0088261011546216, 0.9367670431491695, 1.0016119660368954, 0.27811076678927665, 0.00479501322050477, 0.01438503966151431, 0.38679773312071813, 0.17262047593817173, 0.13905538339463833, 0.0031966754803365136, 1.0022081524438275, 0.9992182228252263, 0.9186907821341249, 0.6329303444541573, 0.12848961879896426, 0.2379437385166005, 0.3414328019631282, 0.14902315665793994, 0.2876712834219727, 0.14147768037146197, 0.05942062575601403, 0.02169324432362417, 0.9937159194327131, 1.002794588286732, 0.931608680754255, 0.9589901325145884, 1.0001693767650244, 1.0003878565875772, 1.000555156328727, 0.5618231186147604, 0.04704922668202427, 0.04704922668202427, 0.3459501961913549, 0.7374989102882312, 0.25812461860088093, 0.0033522677740374144, 1.0042327856070097, 0.2645977751793114, 0.08646986116970959, 0.006917588893576768, 0.0639876972655851, 0.4012201558274525, 0.001729397223394192, 0.126245997307776, 0.04669372503164318, 0.43524665126402134, 0.23770328335865507, 0.20188498038680291, 0.12482135884130288, 0.09878452836208325, 0.18355706688557313, 0.11069471972488762, 0.1506288907648787, 0.1155989161683953, 0.04133537002385044, 0.11139531921681728, 0.09528153090243491, 0.09247913293471623, 0.9980463097194899, 0.33201450584795417, 0.22549318522173556, 0.1535567089546788, 0.09545417043128683, 0.024901087938596564, 0.16877404047271005, 0.9589901650601581, 0.4305632549389231, 0.5692192183938306, 1.005842604956472, 0.9923658341343611, 1.016300407058252, 1.019986856200902, 0.08886813825583705, 0.9129181475372351, 0.9929731310481279, 1.0032159110420722, 0.9985274384428646, 1.0047793862654677, 0.022592113253490247, 0.007530704417830082, 0.9714608699000806, 1.0012147292639975, 0.3100361510690548, 0.5937371850588848, 0.09576406210627175, 0.9854619952029755, 0.9981325869029389, 1.0026181461970816, 1.003678995652634, 0.0034401723604454574, 0.2889744782774184, 0.01376068944178183, 0.4197010279743458, 0.06536327484846369, 0.20641034162672744, 0.9612052179374797, 0.9589901650601581, 0.9096572481981228, 0.9367670745844824, 0.516870159795406, 0.12070620498216067, 0.362118614946482, 0.11827019543262635, 0.883330522137428, 1.000330783746447, 0.9978605289778776, 0.18035132789668668, 0.8194223376175548, 0.9901268501613106, 0.9903326634782909, 0.05843585882851476, 0.3172232336405087, 0.6233158275041574, 0.9937257880456704, 1.0012147292639975, 0.9923533291562612, 0.08954393272856896, 0.15730690884748602, 0.19360850319690587, 0.5590445529810657, 1.0048357803158556, 0.9505203390245938, 0.9993111782099858, 0.9926318333680555, 0.007192984299768518, 0.9690139557976285, 0.9333052432195114, 0.06436587884272492, 0.6844752309268726, 0.29485086870696053, 0.021060776336211465, 0.0388406763704596, 0.9580700171380034, 0.5964218880448815, 0.034408955079512395, 0.3686673758519185, 0.12083477466484613, 0.2812875082361992, 0.045560652742482964, 0.20403248836851068, 0.34665714043193563, 0.09602503967134096, 0.0613725253551614, 0.8425153480728959, 0.0004175001724840911, 0.9690139557976286, 0.999897532910293, 0.9996379363736387, 0.0750614163113852, 0.008042294604791273, 0.10186906499402278, 0.3082879598503321, 0.1635266569640892, 0.34313790313776094, 0.9969878329367681, 1.009076201159021, 0.21750123418649472, 0.06322710296119033, 0.7182598896391221, 0.9942764654304418, 0.9799967765655895, 0.015076873485624453, 0.9996851665722388, 0.9921266215297695, 1.0057429121000796, 0.9923533291562612, 0.9756395789747181, 0.882505711912435, 0.010506020379909942, 0.1050602037990994, 0.26189316566135634, 0.2230941781559702, 0.5189364578845395, 1.0019899948463786, 0.9927438905812068, 0.9096572481981228, 0.011412047162067365, 0.04448369403989524, 0.8875777905028311, 0.00023289892167484418, 0.05612864012363745, 0.9690139557976285, 0.6926402832822026, 0.3069184488795389, 0.9906089402148905, 0.7729712997618788, 0.22530553580503193, 1.00697694976646, 0.006425927932843523, 0.215268585750258, 0.7775372798740662, 0.3880463873760297, 0.20492337310868985, 0.4054866744491097, 1.0148310428730893, 0.9367670578189821, 0.10896630868831968, 0.3382495832199923, 0.5516419377346183, 0.9367670745844824, 0.9690139557976286, 0.9186907821341249, 1.0071445775902064, 1.0107302191096188, 0.9282615244239307, 0.07252043159561958, 0.9993489146859653, 1.0002301853670381, 0.9949376152166969, 0.019168534779538195, 0.9775952737564481, 0.05748782995029872, 0.19364321667469042, 0.7473417893538834, 0.23488381231351246, 0.7657212281420507, 0.0025487697697136416, 0.16821880480110035, 0.4383884003907464, 0.18606019318909583, 0.20390158157709135, 0.9986793849420382, 0.9756395789747181, 0.6751883961525676, 0.09186989652567724, 0.2313350406489945, 0.0011068662232009306, 0.9998790454113674, 0.9953149989326684, 1.007551568705444, 0.9959743009842168, 0.9941996095842575, 1.0013716911480284, 1.0160734090189047, 0.9976535121029001, 0.9210155517589557, 0.08469108521921431, 0.9946229087952397, 0.9989473429286434, 1.0057701206633622, 0.9690139557976286, 0.17724155900084676, 0.180792847068259, 0.39096453178511004, 0.001614221848823741, 0.2492358534583856, 1.003298371700279, 1.002479417856332, 1.0032729595927898, 1.009463287466845, 0.9923533291562613, 0.9981325514159354, 0.9596524032530023, 1.0036520092499677, 0.9899210600776087, 0.041105070020164544, 0.9586763104702891, 1.0093895372891963, 1.001371748827201, 0.7638780491363268, 0.2339376525480001, 0.008902797731365686, 0.00508731298935182, 0.9865147771851405, 0.9994457194306331, 1.0029856603924965, 0.17486626674948225, 0.822900078821093, 0.005143125492631831, 0.9854619952029755, 0.9956286347483261, 0.9901268501613106, 1.0001561794564295, 0.9986796399594325, 0.9983965265713891, 0.9977400630616047, 1.006185184112868, 1.002794588286732, 0.9906089402148905, 1.000805667253262, 1.0022081171380577, 0.9968054493569509, 0.8385525843896623, 0.15952951605461868, 0.9952483886333803, 0.9937770873969284, 0.9955230403917983, 0.12557329094403755, 0.408113195568122, 0.1883599364160563, 0.14972200074096784, 0.12798816192373055, 0.9986793849420382, 0.9690139557976286, 1.0044352434565154, 0.9984764001107346, 0.8970892913077233, 0.10252449043516838, 0.9933244472726388, 1.0295773280349805, 0.889861963486779, 0.10934031687455696, 0.0062938462559166885, 0.9944277084348367, 1.001314439945728, 0.9756395789747181, 1.005359740383866, 0.0048871548151412855, 0.9969795822888222, 0.998083837757045, 0.9926251006089158, 0.009190973153786258, 0.9601224707946938, 0.9596524032530023, 0.9917125151777291, 0.9945488941307956, 0.9796308663792136, 0.9601224707946939, 0.9962105443537734, 0.9186907821341249, 1.0042873968468249, 1.009463287466845, 0.9756395789747181, 1.010160454853531, 0.53130985737429, 0.2315966044964854, 0.11125719235615475, 0.12488052203241859, 1.0201301252193624, 0.9505203114910614, 0.9759636177544819, 0.021688080394544042, 0.9427422631994411, 0.059291966238958556, 1.0480597658485369, 0.22312077558576385, 0.20236535460104163, 0.5759629323260416, 0.9612052179374797, 0.2601370151578485, 0.14914522202383312, 0.5931123945598945, 0.951378461634777, 0.9985361096746912, 0.9756395789747181, 0.951378461634777, 1.0081285943344285, 0.9918473002932655, 0.4925191426526235, 0.1003279735033122, 0.4081524376612019, 1.0027406878575162, 0.9995384803925861, 0.029747494596042888, 0.9667935743713939, 1.0037644327295916, 1.0117084731433756, 0.2569003313155182, 0.7426486589178487, 0.9910370002475748, 0.9589901650601581, 0.9690139129963677, 0.6237316716740335, 0.21818750492019426, 0.011858016571749688, 0.1446678021753462, 0.9690139557976286, 0.9980022103028935, 1.0088260687479333, 0.4426430026868863, 0.5563494620926919, 0.12988216170693515, 0.2441784640090381, 0.6286296626615662, 0.9963266269562094, 1.0306600001043418, 1.0077152168104428, 0.9996534984443769, 0.9962781689702072, 0.062136506605780746, 0.9372256413038595, 0.24029498351984038, 0.13240743989868756, 0.6277093447048891, 0.2288980140716082, 0.7648100311440242, 0.006055503017767413, 1.0081285943344285, 0.1451331071072363, 0.6720293872574202, 0.17983885011114062, 0.998152201248014, 0.9985769497204515, 0.9690139557976286, 1.0003152192077267, 0.9283500754751208, 0.21742040634525184, 0.7827134628429067, 0.39123101768388646, 0.5210718794479711, 0.07858789001510383, 0.006833729566530768, 1.0046760342459629, 1.0021229399377092, 1.0031130240293509, 0.9980220963115023, 0.18583327527974042, 0.8160504697066862, 0.9981746368645866, 0.9612052493139637, 0.9933244472726388, 1.0067675900020683, 0.11438205601893256, 0.8864609341467273, 0.02464789011856099, 0.012323945059280495, 0.9612677146238786, 0.931608680754255, 0.9725340434494001, 0.020261125905195836, 1.004618996919234, 0.9884627714215437, 0.9927560879743299, 0.9924609190395056, 0.9984042620475932, 0.6382342144249838, 0.36048413962892606, 0.25387021542066257, 0.743795192548257, 0.9505203114910614, 1.0090377335603882, 0.012918505556372112, 0.9818064222842805, 1.0092427715334127, 0.9596524032530023, 0.9596524189186931, 0.32840138526533824, 0.06532715728396514, 0.09710793650319142, 0.09534233765767886, 0.017655988455125712, 0.007945194804806571, 0.3875489465900094, 0.7764321258456311, 0.20397793136622513, 0.01973979980963469, 0.003744578100428149, 0.9960577747138877, 0.36723452554444086, 0.6316433839364383, 0.931608680754255, 0.6148589105945294, 0.38472937591903367, 0.15435001718939162, 0.8453431321174276, 0.045900250807375295, 0.419987294887484, 0.5324429093655535, 0.9596524032530023, 1.0480597658485369, 0.43708077869906814, 0.03242439011120683, 0.18676448704055137, 0.06095785340906885, 0.005187902417793094, 0.05966087780462058, 0.21659492594286164, 1.0092427374837762, 1.0037644327295916, 1.0111450264815616, 0.7830178976002073, 0.21788324107136203, 1.0061374118750535, 1.0538629235428156, 1.0006229297412448, 0.9690139557976286, 0.3105353216520093, 0.5451620091224163, 0.1426162217957376, 0.5061558887135741, 0.16655000965382388, 0.3278953315059658, 0.8135162103045072, 0.10275994235425354, 0.08563328529521129, 0.8129299005165105, 0.18444627994912421, 1.0054105931585549, 1.0015666236052871, 0.0029320572552932874, 0.1583310917858375, 0.8385683750138802, 1.004164839935887, 0.8138307269786043, 0.1870875234433573, 0.1200962049283043, 0.879528089033758, 0.408189780186076, 0.033259908015161745, 0.4565678282081294, 0.09977972404548524, 1.0042327856070097, 0.9995853582937031, 0.9513784367610428, 0.9482705461950084, 0.05153644272798959, 1.0023637896949575, 0.27602283013893414, 0.15526284195315043, 0.16820141211591297, 0.04251244482050548, 0.027725507491634008, 0.07886366575398118, 0.04128020004309952, 0.2094816121590125, 1.0304437636008803, 1.0029743695450373, 0.9960542438439122, 1.0025051542527528, 0.9994441663799419, 1.0069396673329174, 1.0007364772497516, 0.9965132214086229, 0.9589901437021278, 0.9589901437021278, 0.928350120848262, 0.9335481730092358, 0.4193466892785899, 0.3459610186548367, 0.23588251271920682, 0.9589901437021278, 0.0033631669452792584, 0.6457280534936176, 0.1210740100300533, 0.22869535227898957, 0.9772106133045271, 1.002580627108347, 0.9876278430298416, 0.9927656720884894, 0.9930617022593958, 1.0052043965837731, 1.0000306262295255, 1.00015723898593, 1.004618996919234, 0.9978605289778776, 1.019630678456315, 0.9926690358121785, 1.0081285943344285, 1.0013664180887485, 0.9799251275620543, 0.9335481730092358, 1.040852315442944, 0.9727414115030555, 0.020265446072980323, 0.005741738759154056, 0.024607451824945958, 0.08694632978147572, 0.882587272121395, 0.29591358832372133, 0.4965906194857852, 0.0918352515487411, 0.11564439083915545, 0.9937268516145866, 1.0000319360647338, 1.0053501406487824, 0.9888096996707968, 1.0260147367395636, 0.9596524032530023, 0.9756395789747181, 1.0020443124682448, 0.9612052493139637, 0.9989473429286434, 0.9961492262522676, 0.8116204687218559, 0.040581023436092795, 0.14609168436993406, 0.9941201480749898, 0.9868937828954777, 0.9596524032530023, 0.9937770873969284, 0.003059565298419575, 0.33655218282615323, 0.00611913059683915, 0.6516874085633695, 0.9912428809980259, 0.9690139129963677, 0.9978132288921867, 1.0022081524438275, 0.8980138954529941, 0.10130034796268532, 1.0053580688126322, 0.8386558714843311, 0.16033126954847507, 0.9976299864350516, 0.2647324601254557, 0.08479711613393504, 0.2750735718491063, 0.3123015740542485, 0.0641148926866338, 0.1803391012259334, 0.17404154531010718, 0.6457857339138188, 0.5381589818024053, 0.2614783753390218, 0.20066945084157486, 1.0014509736618404, 0.9953444875513296, 0.9988392904140532, 0.8250951724570469, 0.17555216435256316, 0.7894280987700142, 0.06889554316538306, 0.14161861650662072, 1.0026219028535654, 1.00332702452596, 0.1408655383060332, 0.28796406503268734, 0.03989112589197401, 0.11001224562395957, 0.04892895910187437, 0.03428143631341516, 0.08321039541528953, 0.25524087582442745, 0.9955506063275728, 0.9893592817184171, 0.9601224707946939, 0.9612052179374797, 0.9986793849420382, 0.0014816005392223755, 0.9985987634358812, 1.0057429121000796, 1.00697694976646, 0.9930617022593958, 1.0024920233513601, 0.9690139557976286, 0.3166718352314964, 0.1714576787441251, 0.5091243317810246, 0.0017495681504502562, 0.010376977711355272, 0.9858128825787509, 0.7935520676706056, 0.2030016917296898, 0.9596524032530023, 0.10152767756223921, 0.9010581383648729, 1.0006167424333672, 1.0007803423876034, 0.011344091058648621, 0.98693592210243, 0.004419457128304904, 0.7535174403759861, 0.24086041349261728, 0.9781891741954892, 0.9283500754751208, 0.18594198392662536, 0.8152840833705881, 0.013213423617910459, 0.9910067713432844, 0.9513784367610428, 0.22498533865872528, 0.15913597124641546, 0.6145940958482252, 1.0001558144292892, 1.000315661436805, 1.0033070537302669, 0.9684776696314374, 0.027936855854753005, 0.30055180677530824, 0.5502410000963336, 0.14796396641245946, 1.0026181461970816, 0.9863898505864338, 1.0200146547443782, 0.9516104556966788, 0.04137436763898603, 1.0064332864245569, 0.9989998466403176, 0.9932301540033567, 0.9988078113599805, 0.994622946619761, 1.0201301252193624, 0.01076933899238257, 0.9907791872991965, 0.5408195465940336, 0.27260822673845597, 0.18467008908088953, 0.002198453441439161, 0.9985274384428646, 0.993136303359541, 0.9612052702316208, 0.9589901175978697, 0.19553675577430266, 0.11732205346458159, 0.43390537233726206, 0.2532666550981444, 1.0088261011546216, 0.046356141521672264, 0.20198033091585774, 0.7516317232442574, 1.0010035711292624, 0.03457754799895215, 0.9681713439706601, 0.9983779072459882, 0.402927472020948, 0.596332658591003, 0.012272490181325472, 0.9879354595967005, 0.04701580260094195, 0.9497192125390275, 1.0066122300808737, 1.000201072201718, 1.0018203536138337, 0.9978605289778776, 0.820163731935952, 0.18345767688041031, 0.709223970404011, 0.2909636801657481, 0.04065761846919304, 0.7420015370627729, 0.22022876670812896, 0.9118399956866523, 0.07866854864747588, 0.0071516862406796255, 0.9962912889349869, 0.9994999118046922, 0.9756395571592551, 0.04209450032970837, 0.9541420074733897, 0.999076283643338, 1.0000305854433322, 1.0028042875785619, 1.000983827612442, 1.0480597658485369, 0.9612052493139637, 0.10342551195300319, 0.8963544369260277, 0.8541881866190774, 0.03857624068602285, 0.10470693900491916, 0.9826822873781428, 1.0069396673329174, 0.9920587833148249, 0.9612052179374797, 0.9756395789747181, 0.16860050131850976, 0.2810008355308496, 0.5507616376404653, 0.7689243257892678, 0.2330073714512933, 0.9505202949709427, 1.0037644327295916, 0.45848136589538946, 0.0042062510632604536, 0.5341938850340776, 0.8768602412099374, 0.12276043376939125, 0.7118705915014055, 0.247589715307986, 0.04012799275656175, 0.0004012799275656175, 0.9756395789747181, 0.021175283995201896, 0.1482269879664133, 0.8328945038112746, 0.9367670578189821, 0.9601225008717833, 1.0014509736618404, 0.9596524032530023, 0.9995796199750007, 0.931608680754255, 1.0006167424333672, 0.14000690064210342, 0.008485266705582025, 0.2291022010507147, 0.02969843346953709, 0.5897260360379508, 0.9945922125343688, 0.1054733067671188, 0.09375405045966116, 0.10840312084398322, 0.014649070384322057, 0.676787051755679, 1.0030144804508407, 0.9685414739907487, 0.025487933526072336, 0.20597169795081385, 0.2336395379740575, 0.5625794138059542, 0.9964388666185184, 0.9924609190395056, 0.9974822700308946, 0.999291429545045, 0.9589901437021278, 1.0480597658485369, 1.0236292468466062, 1.00027673558519, 0.9986845421574604, 1.0030144804508407, 1.0077744873215464, 0.995682549598142, 1.0041337641198984, 0.45015879263288827, 0.5501940798846412, 0.9989000987400146, 0.9690139557976285, 1.002366881854763, 0.9756395789747181, 0.2593439550344086, 0.0016108320188472586, 0.7393718966508916, 0.5344753489745897, 0.4666882315436661, 0.9690139557976285, 0.9612052321995177, 1.0006167424333672, 0.2633211188734552, 0.3097505352995053, 0.39067037535633536, 0.0006632773775150006, 0.035153701008295034, 0.2453395269182042, 0.04143150951267687, 0.7124594871101494, 0.9096572088556771, 0.9335481730092358, 0.3841512767720525, 0.6161634340304208, 1.0040707380568166, 0.9505203390245937, 0.9513784367610428, 0.042470186145492916, 0.9485008239160085, 0.007073756230618869, 0.9903258722866416, 0.34893973959373487, 0.6509068219344669, 0.7324703693905367, 0.2681879698949603, 1.0006375162411465, 0.931608680754255, 0.996562067271381, 0.9505203114910614, 0.7407409097103635, 0.2583448234483675, 0.9406233385985598, 0.03180851869656966, 0.022720370497549755, 1.0068484352101346, 0.20028108581004825, 0.10238584655760315, 0.44636636613270847, 0.15986562006362595, 0.09071026756419226, 0.9980463652270907, 0.928350120848262, 1.0008774251216146, 1.0211850530763622, 0.9863719551923159, 0.9596524032530023, 0.18247312130684554, 0.8189037639136483, 0.9973350578518269, 0.9879699329806018, 1.0148036711848423, 1.0057429121000796, 0.9631255877764293, 0.03057541548496601, 0.011177852234075424, 0.9836509965986373, 1.001255489824605, 1.003515022315147, 0.9784716691350407, 0.018999449886117296, 0.08599240389114361, 0.913798797975767, 0.9752702963204162, 0.022165234007282184, 0.9981325869029389, 1.0010479238113439, 0.9985274017407925, 1.0004886531446087, 0.9970414843473444, 0.931608680754255, 0.9980385330539148, 0.931608680754255, 0.9988690806351818, 0.9854119603986377, 0.13086166021783419, 0.09575243430573234, 0.5521723711630565, 0.21863472499808884, 0.001595873905095539, 0.1262448389986352, 0.004353270310297765, 0.8663007917492553, 1.0499323660308189, 0.9937159194327131, 0.9877990801970761, 0.018637718494284455, 0.9690139557976286, 1.0032512386013785, 1.0026998895284382, 0.9920587833148249, 1.0016773699366512, 0.9756395789747181, 1.0077744873215464, 0.9471956207461473, 0.04735978103730736, 0.9505203114910614, 1.0032170787314492, 0.8578960946029177, 0.13911828561128395, 0.6430525953663698, 0.3539281726435059, 0.015224155198867453, 0.9819580103269507, 0.9976885306145794, 0.9889585856928192, 0.9957847178765181, 0.9612052179374797, 0.9505203114910614, 1.001918810048164, 1.018416188737348, 0.9984142735466166, 1.0026181461970816, 0.999218195006914, 0.025328542753066223, 0.9751488959930495, 0.9997616625918655, 0.9601224707946939, 0.9756395789747181, 1.0079985507261846, 1.0012554898246049, 1.0019850524980092, 0.9968871453894192, 0.9799368532630585, 0.1651257069255856, 0.7430656811651352, 0.09526483091860707, 0.7184902825837188, 0.023492870275216966, 0.2564638338377852, 0.8508671946745009, 0.14691232138264765, 0.2884505932550816, 0.08546684244595011, 0.6267568446036341, 0.9690139557976286], \"Term\": [\"ability\", \"ability\", \"abstract\", \"abuse\", \"academic\", \"accelerometer\", \"access\", \"access\", \"accessible\", \"accommodate\", \"accomplish\", \"accumulate\", \"accuracy\", \"accuracy\", \"accuracy\", \"achieve\", \"achieve\", \"achieve\", \"achieve\", \"acquisition\", \"acquisition\", \"active\", \"activity\", \"activity\", \"activity\", \"acute\", \"ad\", \"ad\", \"address\", \"address\", \"address\", \"advance\", \"advance\", \"advance\", \"advancement\", \"advancement\", \"advancement\", \"adverse\", \"adverse\", \"affair\", \"age\", \"agent\", \"ago\", \"ahead\", \"ai\", \"aim\", \"aim\", \"aim\", \"algorithm\", \"algorithm\", \"algorithm\", \"algorithm\", \"algorithm\", \"algorithmic\", \"align\", \"alzheimer\", \"ambition\", \"american\", \"amino_acid\", \"amount\", \"amount\", \"analysis\", \"analysis\", \"analysis\", \"analysis\", \"analytic\", \"analytic\", \"analytical\", \"analytical\", \"analyze\", \"analyze\", \"analyze\", \"analyze\", \"analyze\", \"anatomic\", \"animal\", \"animal\", \"ann\", \"annotation\", \"anns\", \"anomalous\", \"anthropology\", \"anticancer\", \"apm\", \"applicable\", \"application\", \"application\", \"application\", \"application\", \"application\", \"apply\", \"apply\", \"appraise\", \"approach\", \"approach\", \"approach\", \"approach\", \"approach\", \"approach\", \"approach\", \"approach\", \"appropriately\", \"architecture\", \"architecture\", \"area\", \"area\", \"area\", \"art\", \"article\", \"article\", \"artificial_intelligence\", \"artificial_neural_network\", \"asd\", \"assay\", \"assessment\", \"assessment\", \"assessment\", \"associate\", \"associate\", \"associate\", \"asthma\", \"attack\", \"attention\", \"attention\", \"attention\", \"attentional\", \"attract\", \"auc\", \"autism\", \"autoencoder\", \"automate\", \"automate\", \"automation\", \"availability\", \"availability\", \"availability\", \"avenue\", \"background\", \"background\", \"base\", \"base\", \"base\", \"base\", \"base\", \"base\", \"base\", \"basic\", \"basic\", \"basic\", \"basic\", \"bayesian\", \"bd\", \"behavior\", \"behavior\", \"behavioral\", \"benchmark\", \"benchmark\", \"bibliographic\", \"big\", \"bigdata\", \"bind\", \"biochemically\", \"bioinformatic\", \"bioinformatics\", \"bioinformatics\", \"biological\", \"biological\", \"biological\", \"biology\", \"biomarker\", \"biomarker\", \"biomarker_discovery\", \"biomedical\", \"biomedicine\", \"biospectroscopy\", \"biosurveillance\", \"biotechnology\", \"bipolar\", \"bipolar_disorder_bd\", \"bisphosphate\", \"bomb\", \"brain\", \"breakthrough\", \"breast\", \"breast_cancer\", \"bring\", \"bring\", \"building\", \"burgeon\", \"cad\", \"calpain\", \"cancer\", \"cancer\", \"cancer\", \"cancer\", \"candidate\", \"candidate\", \"cardiac\", \"cardiology\", \"cardiology\", \"cardiovascular\", \"cardiovascular\", \"care\", \"care\", \"cartilage\", \"cartographic\", \"cartography\", \"categorization\", \"causal\", \"cdss\", \"cell\", \"cell_line\", \"cellbased\", \"challenge\", \"challenge\", \"challenge\", \"challenge\", \"challenge\", \"change\", \"change\", \"change\", \"change\", \"characterized\", \"chemical\", \"cheminformatic\", \"chemistry\", \"child\", \"child\", \"chir\", \"choose\", \"chronic\", \"ci\", \"circuit\", \"circuitry\", \"cisregulatory\", \"claim\", \"classic\", \"classification\", \"classification\", \"classification\", \"classifier\", \"classifier\", \"cleavage\", \"clinical\", \"clinical\", \"clinical\", \"clinically_relevant\", \"clinician\", \"clinician\", \"clue\", \"cluster\", \"cluster\", \"clustering\", \"cnn\", \"cocomplex\", \"coexpression\", \"cognitive\", \"cohort\", \"collection\", \"collection\", \"collection\", \"collective\", \"colocalize\", \"combination\", \"combination\", \"combination\", \"combine\", \"combine\", \"combine\", \"combine\", \"combine\", \"communication\", \"comparative\", \"comparative\", \"compare\", \"compare\", \"compare\", \"compare\", \"complex\", \"complex\", \"complex\", \"complexity\", \"complexity\", \"complexity\", \"complication\", \"composition\", \"composition\", \"compound\", \"comppass\", \"comprehensible\", \"computation\", \"computational\", \"computational\", \"computational\", \"compute\", \"compute\", \"compute\", \"computer\", \"computer\", \"computer_vision\", \"computeraided\", \"computerguide\", \"concentration\", \"concept\", \"concept\", \"concept\", \"conceptual\", \"conceptually\", \"conclusion\", \"conduct\", \"conflict\", \"connectivity\", \"connectomic\", \"consensus\", \"consequence\", \"considerable\", \"considerable\", \"considerably\", \"contagious\", \"content\", \"content\", \"content\", \"contour\", \"control\", \"control\", \"conventional\", \"conventional\", \"conventional\", \"convolutional_neural_network_cnn\", \"core\", \"coreference\", \"corpus\", \"costly\", \"counterpart\", \"coverage\", \"covid\", \"crash\", \"create\", \"create\", \"crisis\", \"criterion\", \"criterion\", \"crop\", \"crowdsourcing\", \"ct\", \"current\", \"current\", \"current\", \"current\", \"current\", \"curve\", \"cys\", \"cytological\", \"cytosol\", \"dairy\", \"data\", \"data\", \"database\", \"database\", \"datacollection\", \"datadriven\", \"datadriven\", \"dataset\", \"dataset\", \"dataset\", \"dataset\", \"dcomp\", \"deamidate\", \"decade\", \"decade\", \"decade\", \"decade\", \"decision\", \"decision\", \"decision_support\", \"decisionmaking\", \"decompose\", \"deep\", \"deficit\", \"dementia\", \"dense\", \"dental\", \"department\", \"depress\", \"depressed\", \"depression\", \"depressive\", \"describe\", \"describe\", \"describe\", \"describe\", \"describe\", \"describe\", \"describe\", \"descriptor\", \"design\", \"design\", \"detail\", \"detail\", \"detailed\", \"detection\", \"detection\", \"develop\", \"develop\", \"develop\", \"develop\", \"develop\", \"develop\", \"development\", \"development\", \"development\", \"development\", \"development\", \"device\", \"diabetes\", \"diabetes\", \"diagnosis\", \"diagnosis\", \"diagnostic\", \"diagnostic\", \"diego\", \"difficulty\", \"digital\", \"digital\", \"digitized\", \"dimension\", \"dimension\", \"dimensional\", \"direction\", \"direction\", \"discharge\", \"discovery\", \"discovery\", \"discovery\", \"discuss\", \"discuss\", \"discuss\", \"discuss\", \"disease\", \"disease\", \"disease\", \"disease\", \"diseaserelevant\", \"disorder\", \"distribution\", \"dl\", \"dna\", \"dna\", \"dnns\", \"dock\", \"doctor\", \"domain\", \"domain\", \"domain\", \"dominant\", \"dose\", \"dramatically\", \"driver\", \"drug\", \"drug_discovery\", \"drugtarget_interaction\", \"dynamic\", \"dynamism\", \"early\", \"early\", \"early\", \"early\", \"ecg\", \"ecm\", \"economic\", \"edition\", \"education\", \"eeg\", \"effect\", \"effect\", \"effect\", \"efficiency\", \"efficiency\", \"ehr\", \"electronic_health_record\", \"electronic_health_record\", \"electronic_health_record\", \"emerge\", \"emerge\", \"emerge\", \"emerge\", \"emergence\", \"emergent\", \"emotion\", \"enable\", \"enable\", \"enable\", \"enable\", \"enable\", \"encourage\", \"energy\", \"engineer\", \"engineer\", \"engineering\", \"engineering\", \"english\", \"enumerate\", \"environmental\", \"enzyme\", \"epigenetic\", \"epilepsy\", \"epitope\", \"equally\", \"equivalence\", \"era\", \"essential\", \"essential\", \"essential\", \"essential\", \"estimate\", \"estimation\", \"ethical\", \"ethical\", \"evaluate\", \"evaluate\", \"evaluate\", \"evaluation\", \"evaluation\", \"evaluation\", \"evaluation\", \"event\", \"event\", \"evolutionary\", \"evolve\", \"evolve\", \"exacerbate\", \"exciting\", \"exist\", \"exist\", \"exist\", \"existence\", \"expectation\", \"experimental\", \"experimental\", \"experimentalist\", \"explain\", \"explain\", \"explain\", \"explicate\", \"exploitation\", \"explosion\", \"exposure\", \"expression\", \"extracellular\", \"extrapolability\", \"face\", \"facial\", \"factor\", \"factor\", \"factor\", \"factor\", \"false\", \"false_positive\", \"familial\", \"feature\", \"feature\", \"feature\", \"feature_extraction\", \"feature_reduction\", \"fib\", \"fibulin\", \"field\", \"field\", \"field\", \"fill\", \"filtering\", \"find\", \"find\", \"find\", \"finding\", \"finding\", \"finding\", \"firstly\", \"focus\", \"focus\", \"focus\", \"focus\", \"focus\", \"fold\", \"follistatinlike\", \"follow\", \"follow\", \"follow\", \"food\", \"force\", \"forensic\", \"foundation\", \"framework\", \"framework\", \"framework\", \"framework\", \"frequent\", \"ftir\", \"fulfill\", \"function\", \"function\", \"functional\", \"functional\", \"future\", \"future\", \"future\", \"game\", \"gene\", \"gene\", \"gene_expression\", \"generate\", \"generate\", \"generate\", \"generate\", \"generate\", \"generate\", \"genetic\", \"genetic\", \"genetic\", \"genome\", \"genomic\", \"genomic\", \"genomic\", \"genomics\", \"geometric\", \"geopositione\", \"give\", \"give\", \"give\", \"give\", \"glioma\", \"globe\", \"glycolytic\", \"good\", \"good\", \"google_scholar\", \"graph\", \"graphical\", \"gravy\", \"ground\", \"ground_truth\", \"habenula\", \"half\", \"hamper\", \"hardware\", \"haystack\", \"hcv\", \"head\", \"health\", \"healthcare\", \"healthcare\", \"healthcare\", \"healthy\", \"heart\", \"heart\", \"heart_failure\", \"heterogeneity\", \"hfpef\", \"high\", \"high\", \"high\", \"high\", \"high\", \"high\", \"highcost\", \"highlight\", \"highlight\", \"highlight\", \"histological\", \"historical\", \"hiv\", \"hospital\", \"hosttohost\", \"huge\", \"human\", \"human\", \"human\", \"human\", \"human\", \"human\", \"human\", \"hyperactivity_disorder\", \"hypertension\", \"hypo\", \"identification\", \"identification\", \"identification\", \"identify\", \"identify\", \"identify\", \"identify\", \"identify\", \"identify\", \"ii\", \"illness\", \"illustration\", \"illustrative\", \"image\", \"imaging\", \"immune\", \"impact\", \"impact\", \"impact\", \"impact\", \"implementation\", \"implementation\", \"implementation\", \"implicate\", \"important\", \"important\", \"important\", \"important\", \"important\", \"important\", \"important\", \"important\", \"improve\", \"improve\", \"improve\", \"improve\", \"include\", \"include\", \"include\", \"include\", \"include\", \"include\", \"include\", \"include\", \"include\", \"inclusion\", \"increase\", \"increase\", \"increase\", \"increase\", \"increase\", \"increase\", \"incremental\", \"individual\", \"individual\", \"individualized\", \"industrial\", \"inexpensive\", \"infancy\", \"infection\", \"infection\", \"infectious_disease\", \"inference\", \"inflammation\", \"inflammatory\", \"influence\", \"influence\", \"influence\", \"informatic\", \"information\", \"information\", \"information\", \"infrared\", \"infrastructure\", \"inhibitor\", \"innovation\", \"insight\", \"insight\", \"insight\", \"insight\", \"insight\", \"insight\", \"installation\", \"insurance\", \"intact\", \"integral_part\", \"integrate\", \"integrate\", \"integrate\", \"integration\", \"integration\", \"interaction\", \"internet\", \"intervention\", \"intervention\", \"intrinsic\", \"investigator\", \"issue\", \"issue\", \"issue\", \"item\", \"journal\", \"kernel\", \"key\", \"key\", \"key\", \"key\", \"keyword\", \"keywords\", \"kidney\", \"knowledge\", \"knowledge\", \"knowledgeable\", \"label\", \"label\", \"lack\", \"lack\", \"lack\", \"language\", \"language\", \"large\", \"large\", \"large\", \"lead\", \"lead\", \"lead\", \"lead\", \"lead\", \"learn\", \"learn\", \"learn\", \"learn\", \"learner\", \"learning\", \"lesion\", \"level\", \"level\", \"level\", \"level\", \"level\", \"level\", \"life\", \"ligand\", \"limitation\", \"limitation\", \"limitation\", \"linear\", \"list\", \"list\", \"literature\", \"liver\", \"lncrna\", \"local\", \"logistic\", \"long\", \"long\", \"long\", \"low\", \"low\", \"low\", \"lung\", \"lung_cancer\", \"mac\", \"machine\", \"machine\", \"machine\", \"machine\", \"machine\", \"machinebased\", \"machinelearning\", \"machinelearning\", \"magnetic_resonance\", \"main\", \"main\", \"mainstream\", \"major\", \"major\", \"major\", \"make\", \"make\", \"make\", \"maker\", \"making\", \"management\", \"management\", \"management\", \"mandate\", \"manet\", \"manic\", \"manufacturing\", \"mass_spectrometry\", \"massive\", \"massive\", \"material\", \"mathematical\", \"matrix\", \"meaningful\", \"meaningful\", \"measure\", \"measure\", \"measure\", \"measurement\", \"measurement\", \"mechanism\", \"mechanism\", \"mechanism\", \"mechanism\", \"mechanism\", \"mechanistic\", \"medicaid\", \"medical\", \"medical\", \"medical\", \"medical\", \"medicine\", \"medium\", \"medline\", \"membrane\", \"mental\", \"mental_health\", \"mention\", \"metaanalysis\", \"metabolic\", \"metabolic\", \"metabolism\", \"metabolite\", \"metabolomic\", \"metaclassifier\", \"method\", \"method\", \"method\", \"method\", \"method\", \"microbial\", \"microbiome\", \"microscopy\", \"mine\", \"minimum\", \"mining\", \"mint\", \"mirna\", \"mixture\", \"ml\", \"ml\", \"mlbased\", \"mobile\", \"modality\", \"modality\", \"model\", \"model\", \"model\", \"modeling\", \"modelling\", \"modern\", \"modern\", \"modern\", \"modest\", \"modification\", \"module\", \"molecular\", \"molecule\", \"monitor\", \"monitoring\", \"mood\", \"morbidity\", \"morphological\", \"mortality\", \"motor\", \"move\", \"mri\", \"mri\", \"multimodal\", \"multiomic\", \"multiomics\", \"multiple\", \"multiple\", \"multiple\", \"multiple\", \"multiple\", \"multiscale\", \"multitask\", \"multivariate\", \"mutation\", \"narrative\", \"narrative\", \"neck\", \"neighbor\", \"network\", \"network\", \"neural\", \"neural\", \"neural_network\", \"neuroevolution\", \"neuroimage\", \"neuroimaging\", \"neuroimaging\", \"neuron\", \"neuroscience\", \"neuroscience\", \"next_generation_sequencing\", \"ninetyeight\", \"nlp\", \"nodule\", \"nondestructive\", \"nonenzyme\", \"noninvasive\", \"nonstructural\", \"normal\", \"note\", \"noun\", \"nuclear\", \"number\", \"number\", \"number\", \"number\", \"oa\", \"oarsi\", \"object\", \"object\", \"objective\", \"objective\", \"observable\", \"obtain\", \"obtain\", \"obtain\", \"oculomotor\", \"offer\", \"offer\", \"offer\", \"oligomeric\", \"omic\", \"oneclass\", \"onedimensional\", \"onset\", \"operate\", \"opportunity\", \"opportunity\", \"opportunity\", \"oral\", \"order\", \"organism\", \"organism\", \"osteoarthritis\", \"outbreak\", \"outcome\", \"outcome\", \"outperform\", \"overarch\", \"overfitte\", \"overview\", \"overview\", \"overview\", \"overview\", \"oxford\", \"pain\", \"pandemic\", \"paper\", \"paper\", \"parameter\", \"parameter\", \"parameter\", \"parkinson\", \"partner\", \"past\", \"path\", \"pathogen\", \"pathology\", \"pathology\", \"pathway\", \"pathway\", \"pathway\", \"patient\", \"patient\", \"patient\", \"patientspecific\", \"pattern\", \"pattern\", \"pattern\", \"pattern_recognition\", \"pd\", \"penetrance\", \"peptide\", \"perceivable\", \"perform\", \"perform\", \"performance\", \"performance\", \"performance\", \"performance\", \"period\", \"personal\", \"personalize\", \"personalized\", \"perspective\", \"perspective\", \"pertain\", \"pervasive\", \"pet\", \"phenomenon\", \"phenotype\", \"phenotype\", \"phenotyping\", \"phenotyping\", \"phenotyping\", \"phrase\", \"physical_activity\", \"physical_activity\", \"physician\", \"physics\", \"plan\", \"planning\", \"plant\", \"platform\", \"platform\", \"play\", \"play\", \"plea\", \"polymorphism\", \"popular\", \"popular\", \"popularity\", \"posteriori\", \"postprocessing\", \"potential\", \"potential\", \"potential\", \"potential\", \"potential\", \"potential\", \"potential\", \"practical\", \"practical\", \"practical\", \"practice\", \"practice\", \"precision_medicine\", \"precision_medicine\", \"predefined\", \"predict\", \"predict\", \"prediction\", \"prediction\", \"predictive\", \"predictive\", \"predictive\", \"preppi\", \"preprocessing_feature_extraction\", \"present\", \"present\", \"present\", \"present\", \"present\", \"present\", \"present\", \"press\", \"prevalence\", \"primer\", \"principle\", \"principle\", \"pro\", \"proactive\", \"probability\", \"probability_estimation\", \"problem\", \"problem\", \"problem\", \"process\", \"process\", \"process\", \"processing\", \"processing\", \"processing\", \"produce\", \"produce\", \"production\", \"prognostic\", \"progress\", \"progress\", \"progress\", \"progression\", \"project\", \"project\", \"property\", \"property\", \"propose\", \"propose\", \"propose\", \"propose\", \"protease\", \"protein\", \"proteolysis\", \"proteomic\", \"proteomic\", \"protocol\", \"provide\", \"provide\", \"provide\", \"provide\", \"provide\", \"provide\", \"provide\", \"provide\", \"provision\", \"psychiatric\", \"psychiatry\", \"public_health\", \"publication\", \"publicly_available\", \"publish\", \"pubmed\", \"purification\", \"qdgrs\", \"qht\", \"qhts\", \"quality\", \"quality\", \"quality\", \"qualityoflife\", \"quantitative\", \"quantitative\", \"quantitative\", \"quantitative\", \"quantitative_relationship\", \"quantity\", \"quantum\", \"query\", \"radiation_oncology\", \"radiation_therapy\", \"radiology\", \"radiomic\", \"radiotherapy\", \"raise\", \"raman_spectroscopy\", \"rare\", \"rationale\", \"reaction\", \"readout\", \"reaffirm\", \"real_life\", \"receive\", \"receive\", \"recent\", \"recent\", \"recent\", \"recent\", \"recently\", \"recently\", \"recently\", \"recently\", \"receptor\", \"recognition\", \"reconstruction\", \"recovery\", \"recurrent_neural\", \"recycled\", \"reemergent\", \"regression\", \"regressionbase\", \"regulate\", \"regulation\", \"regulatory\", \"regulatory\", \"regulatory\", \"rehabilitation\", \"reinforcement\", \"reinvestment\", \"relation\", \"remain\", \"remain\", \"remain\", \"remain\", \"remarkable\", \"removal\", \"replace\", \"replicate\", \"report\", \"report\", \"reporting\", \"representation\", \"representation\", \"repurpose\", \"require\", \"require\", \"require\", \"require\", \"require\", \"research\", \"research\", \"research\", \"researcher\", \"researcher\", \"researcher\", \"residue\", \"resistance\", \"resolution\", \"response\", \"response\", \"result\", \"result\", \"result\", \"retinal\", \"retrieve\", \"review\", \"review\", \"review\", \"review\", \"review\", \"review\", \"review\", \"review\", \"revolution\", \"reward\", \"rheumatoid_arthritis\", \"ribulose\", \"rich\", \"risk\", \"risk\", \"rna\", \"road\", \"robot\", \"robotic\", \"roc_curve\", \"role\", \"role\", \"role\", \"role\", \"rule\", \"rule\", \"safety\", \"safety\", \"saint\", \"sample\", \"sample\", \"save\", \"scan\", \"schizophrenia\", \"schizophrenia\", \"science\", \"science\", \"science\", \"scientific_community\", \"sciverse\", \"score\", \"score\", \"scoring\", \"scoring\", \"scoringmatrix\", \"screen\", \"screen\", \"screen\", \"search\", \"segmentation\", \"seizure\", \"select\", \"select\", \"selection\", \"selection\", \"selection\", \"selectivity\", \"semantic\", \"semisupervised\", \"sensing\", \"sensing\", \"sensitivity_specificity\", \"sensor\", \"sepsis\", \"sequence\", \"sequencing\", \"serum\", \"service\", \"service\", \"set\", \"set\", \"set\", \"set\", \"severity\", \"shift\", \"shortage\", \"shortcut\", \"show\", \"show\", \"show\", \"show\", \"sign\", \"signal\", \"signal\", \"signal\", \"silico\", \"simple\", \"simple\", \"simulation\", \"single\", \"single\", \"site\", \"site\", \"size\", \"size\", \"skill\", \"skin\", \"smart\", \"smartphone\", \"social\", \"social\", \"software\", \"software\", \"solution\", \"solution\", \"solution\", \"source\", \"source\", \"source\", \"sparse\", \"spatial\", \"specialist\", \"specifically\", \"specifically\", \"speech\", \"spine\", \"stability\", \"start\", \"stateofart\", \"stateofthe\", \"statistical\", \"statistical\", \"step\", \"step\", \"step\", \"stochastic\", \"storage\", \"store\", \"straddle\", \"strainlevel\", \"strategy\", \"strategy\", \"strategy\", \"strength\", \"strength\", \"string\", \"stroke\", \"structural\", \"structural\", \"structural\", \"structure\", \"structure\", \"study\", \"study\", \"study\", \"study\", \"subdiscipline\", \"subject\", \"subject\", \"subject\", \"submission\", \"suboptimal\", \"substrate\", \"subthreshold\", \"subtype\", \"sudden_event_recognition\", \"sufficient\", \"suggest\", \"suggest\", \"suggest\", \"suggest\", \"suggest\", \"suicide\", \"summarize\", \"summarize\", \"summarize\", \"summarize\", \"summarize\", \"supervise\", \"supervised\", \"supervised\", \"support\", \"support\", \"support\", \"support_vector\", \"surgeon\", \"surgery\", \"surgical\", \"surplus\", \"surprisingly\", \"surrogate\", \"surveillance\", \"survey\", \"svm\", \"svms\", \"syndrome\", \"synthesis\", \"system\", \"system\", \"systematic\", \"systematical\", \"systematically\", \"systemwhich\", \"target\", \"target\", \"target\", \"task\", \"task\", \"tca\", \"tcm\", \"team\", \"technique\", \"technique\", \"technique\", \"technique\", \"technique\", \"technology\", \"technology\", \"technology\", \"temporally\", \"tenet\", \"term\", \"term\", \"text\", \"textmine\", \"tf\", \"theoretical\", \"theoretical\", \"theory\", \"theory\", \"therapeutic\", \"therapeutic\", \"therapy\", \"therapy\", \"thing\", \"throughput\", \"thyroid\", \"tidy\", \"time\", \"time\", \"tissue\", \"tissue\", \"tissue\", \"tomography\", \"tool\", \"tool\", \"tool\", \"tool\", \"tool\", \"total\", \"tox\", \"toxicity\", \"toxicological\", \"toxicology\", \"trainablemay\", \"training\", \"training\", \"trait\", \"transcription\", \"transcriptional\", \"transcriptome\", \"transfer\", \"transfer\", \"translation\", \"translation\", \"translational\", \"transparency\", \"treat\", \"treat\", \"treatment\", \"treatment\", \"treatment_planning\", \"treatment_planning\", \"tremendous\", \"trend\", \"trial\", \"tumor\", \"tumour\", \"twoclass\", \"ultrasound\", \"uncharacterise\", \"undergo\", \"underpin\", \"understand\", \"understand\", \"understand\", \"understand\", \"understand\", \"understanding\", \"understanding\", \"understanding\", \"unipolar_depression\", \"unit\", \"unknown\", \"unknown\", \"unlabeled\", \"unprecedented\", \"unravel\", \"unstructured\", \"unsupervised\", \"upsurge\", \"usefulness\", \"user\", \"user\", \"va\", \"vaccine\", \"validation\", \"validation\", \"variable\", \"variable\", \"variant\", \"variant\", \"variation\", \"vast_amount\", \"vector\", \"vehicular\", \"veteran\", \"video\", \"viewpoint\", \"virtual_screening\", \"virus\", \"visit\", \"vital\", \"vital\", \"vivo\", \"volunteer\", \"warfarin\", \"water\", \"wave\", \"wearable\", \"web\", \"white_matter\", \"widely\", \"widely\", \"widely\", \"work\", \"work\", \"work\", \"workflow\", \"workflow\", \"year\", \"year\", \"year\", \"\\u03b2strand\"]}, \"R\": 30, \"lambda.step\": 0.01, \"plot.opts\": {\"xlab\": \"PC1\", \"ylab\": \"PC2\"}, \"topic.order\": [1, 2, 3, 4, 5, 6, 7, 8, 9, 10, 11, 12, 13, 14]};\n",
       "\n",
       "function LDAvis_load_lib(url, callback){\n",
       "  var s = document.createElement('script');\n",
       "  s.src = url;\n",
       "  s.async = true;\n",
       "  s.onreadystatechange = s.onload = callback;\n",
       "  s.onerror = function(){console.warn(\"failed to load library \" + url);};\n",
       "  document.getElementsByTagName(\"head\")[0].appendChild(s);\n",
       "}\n",
       "\n",
       "if(typeof(LDAvis) !== \"undefined\"){\n",
       "   // already loaded: just create the visualization\n",
       "   !function(LDAvis){\n",
       "       new LDAvis(\"#\" + \"ldavis_el155391405766596780324432652380\", ldavis_el155391405766596780324432652380_data);\n",
       "   }(LDAvis);\n",
       "}else if(typeof define === \"function\" && define.amd){\n",
       "   // require.js is available: use it to load d3/LDAvis\n",
       "   require.config({paths: {d3: \"https://d3js.org/d3.v5\"}});\n",
       "   require([\"d3\"], function(d3){\n",
       "      window.d3 = d3;\n",
       "      LDAvis_load_lib(\"https://cdn.jsdelivr.net/gh/bmabey/pyLDAvis@3.3.1/pyLDAvis/js/ldavis.v3.0.0.js\", function(){\n",
       "        new LDAvis(\"#\" + \"ldavis_el155391405766596780324432652380\", ldavis_el155391405766596780324432652380_data);\n",
       "      });\n",
       "    });\n",
       "}else{\n",
       "    // require.js not available: dynamically load d3 & LDAvis\n",
       "    LDAvis_load_lib(\"https://d3js.org/d3.v5.js\", function(){\n",
       "         LDAvis_load_lib(\"https://cdn.jsdelivr.net/gh/bmabey/pyLDAvis@3.3.1/pyLDAvis/js/ldavis.v3.0.0.js\", function(){\n",
       "                 new LDAvis(\"#\" + \"ldavis_el155391405766596780324432652380\", ldavis_el155391405766596780324432652380_data);\n",
       "            })\n",
       "         });\n",
       "}\n",
       "</script>"
      ],
      "text/plain": [
       "PreparedData(topic_coordinates=              x         y  topics  cluster      Freq\n",
       "topic                                               \n",
       "0     -0.195559 -0.147586       1        1  6.939013\n",
       "1     -0.175041  0.234637       2        1  7.416536\n",
       "2     -0.081479 -0.070090       3        1  7.251640\n",
       "3      0.090392 -0.109254       4        1  7.785603\n",
       "4     -0.020113  0.122397       5        1  7.243084\n",
       "5     -0.151374 -0.183406       6        1  7.278295\n",
       "6      0.144939 -0.132093       7        1  7.020814\n",
       "7      0.101945  0.281079       8        1  7.640945\n",
       "8     -0.057594  0.185447       9        1  7.118086\n",
       "9      0.084775 -0.089442      10        1  6.867517\n",
       "10     0.209065  0.000668      11        1  6.735103\n",
       "11     0.226736 -0.048516      12        1  6.748176\n",
       "12     0.043293  0.003964      13        1  6.725095\n",
       "13    -0.219984 -0.047804      14        1  7.230093, topic_info=         Term         Freq        Total Category  logprob  loglift\n",
       "30       data  4411.000000  4411.000000  Default  30.0000  30.0000\n",
       "70    machine  4293.000000  4293.000000  Default  29.0000  29.0000\n",
       "200  learning  3011.000000  3011.000000  Default  28.0000  28.0000\n",
       "354     model  2358.000000  2358.000000  Default  27.0000  27.0000\n",
       "67      learn  2395.000000  2395.000000  Default  26.0000  26.0000\n",
       "..        ...          ...          ...      ...      ...      ...\n",
       "46      focus   276.735904   725.926377  Topic14  -4.4347   1.6625\n",
       "90    provide   340.197900  1623.054150  Topic14  -4.2283   1.0644\n",
       "479     offer   170.619125   288.309605  Topic14  -4.9184   2.1023\n",
       "252      make   186.224525   458.708046  Topic14  -4.8309   1.7255\n",
       "70    machine   241.363641  4293.708158  Topic14  -4.5715  -0.2517\n",
       "\n",
       "[1146 rows x 6 columns], token_table=      Topic      Freq      Term\n",
       "term                           \n",
       "397       2  0.396812   ability\n",
       "397       6  0.604489   ability\n",
       "2981      4  0.997267  abstract\n",
       "920       9  0.936767     abuse\n",
       "3693     14  0.992212  academic\n",
       "...     ...       ...       ...\n",
       "1765      5  0.146912  workflow\n",
       "595       1  0.288451      year\n",
       "595      11  0.085467      year\n",
       "595      14  0.626757      year\n",
       "1945      6  0.969014   βstrand\n",
       "\n",
       "[1620 rows x 3 columns], R=30, lambda_step=0.01, plot_opts={'xlab': 'PC1', 'ylab': 'PC2'}, topic_order=[1, 2, 3, 4, 5, 6, 7, 8, 9, 10, 11, 12, 13, 14])"
      ]
     },
     "execution_count": 35,
     "metadata": {},
     "output_type": "execute_result"
    }
   ],
   "source": [
    "#convert and visualize\n",
    "converted_model = ldaMalletConvertToldaGen(optimal_model)\n",
    "pyLDAvis.enable_notebook()\n",
    "plot = gensimvis.prepare(converted_model, corpus, id2word, sort_topics=False)\n",
    "# Save pyLDA plot as html file\n",
    "pyLDAvis.save_html(plot, '../figures/pubmed_optimal_LDA_mallet_model14_tri.html') \n",
    "plot"
   ]
  },
  {
   "cell_type": "markdown",
   "id": "3a14bb9a-a03a-4ab6-b153-23225e034321",
   "metadata": {},
   "source": [
    "### Find the Dominant Topic in Each Document"
   ]
  },
  {
   "cell_type": "code",
   "execution_count": 36,
   "id": "885f68cd-02a4-4f31-a3ae-ea6c75c61257",
   "metadata": {},
   "outputs": [],
   "source": [
    "pd.set_option('max_colwidth', 100)"
   ]
  },
  {
   "cell_type": "code",
   "execution_count": 37,
   "id": "8b398ab5-862a-4da5-b8bd-231443ae08c8",
   "metadata": {},
   "outputs": [],
   "source": [
    "# adapted from https://www.machinelearningplus.com/nlp/topic-modeling-gensim-python/#17howtofindtheoptimalnumberoftopicsforlda\n",
    "\n",
    "def format_topics_docs(ldamodel, corpus=corpus, texts=data_words_trigrams):\n",
    "    # Init output\n",
    "    docs_topics_df = pd.DataFrame()\n",
    " \n",
    "    # Get main topic in each document\n",
    "    for i, row in enumerate(ldamodel[corpus]):\n",
    "        row = sorted(row, key=lambda x: (x[1]), reverse=True)\n",
    "        # Get the Dominant topic, Perc Contribution and Keywords for each document\n",
    "        for j, (topic_num, prop_topic) in enumerate(row):\n",
    "            if j == 0:  # => dominant topic\n",
    "                wp = ldamodel.show_topic(topic_num)\n",
    "                topic_keywords = \", \".join([word for word, prop in wp])\n",
    "                docs_topics_df = docs_topics_df.append(pd.Series([int(topic_num), round(prop_topic,4), topic_keywords]),ignore_index=True)\n",
    "            else:\n",
    "                break\n",
    "    docs_topics_df.columns = ['Dominant_Topic', 'Perc_Contribution', 'Topic_Keywords']\n",
    " \n",
    "    # Add original text to the end of the output\n",
    "    contents = pd.Series(texts)\n",
    "    docs_topics_df = pd.concat([docs_topics_df, contents], axis=1)\n",
    "    return(docs_topics_df)"
   ]
  },
  {
   "cell_type": "code",
   "execution_count": 38,
   "id": "875b58dc-ea18-44be-a627-90fbae8f1c31",
   "metadata": {},
   "outputs": [],
   "source": [
    "df_topic_docs_keywords = format_topics_docs(ldamodel=converted_model, corpus=corpus, texts=data_words_trigrams)\n",
    "\n",
    "df_dominant_topic = df_topic_docs_keywords.reset_index()\n",
    "df_dominant_topic.columns = ['Document_No', 'Dominant_Topic', 'Topic_Perc_Contrib', 'Keywords', 'Text']\n",
    "\n",
    "#reset index to pmid numbers\n",
    "df_dominant_topic.index = df.index\n"
   ]
  },
  {
   "cell_type": "code",
   "execution_count": 39,
   "id": "2fb5b9ba-3e82-435e-b5e6-405dac03bceb",
   "metadata": {},
   "outputs": [
    {
     "data": {
      "text/html": [
       "<div>\n",
       "<style scoped>\n",
       "    .dataframe tbody tr th:only-of-type {\n",
       "        vertical-align: middle;\n",
       "    }\n",
       "\n",
       "    .dataframe tbody tr th {\n",
       "        vertical-align: top;\n",
       "    }\n",
       "\n",
       "    .dataframe thead th {\n",
       "        text-align: right;\n",
       "    }\n",
       "</style>\n",
       "<table border=\"1\" class=\"dataframe\">\n",
       "  <thead>\n",
       "    <tr style=\"text-align: right;\">\n",
       "      <th></th>\n",
       "      <th>Document_No</th>\n",
       "      <th>Dominant_Topic</th>\n",
       "      <th>Topic_Perc_Contrib</th>\n",
       "      <th>Keywords</th>\n",
       "      <th>Text</th>\n",
       "    </tr>\n",
       "    <tr>\n",
       "      <th>pmid</th>\n",
       "      <th></th>\n",
       "      <th></th>\n",
       "      <th></th>\n",
       "      <th></th>\n",
       "      <th></th>\n",
       "    </tr>\n",
       "  </thead>\n",
       "  <tbody>\n",
       "    <tr>\n",
       "      <th>22627698</th>\n",
       "      <td>0</td>\n",
       "      <td>4.0</td>\n",
       "      <td>0.1583</td>\n",
       "      <td>image, imaging, diagnosis, analysis, diagnostic, technique, detection, radiomic, cancer, feature</td>\n",
       "      <td>[extract, biological, information, computational, analysis, infrared, ftir, biospectroscopy, dat...</td>\n",
       "    </tr>\n",
       "    <tr>\n",
       "      <th>22952238</th>\n",
       "      <td>1</td>\n",
       "      <td>6.0</td>\n",
       "      <td>0.2666</td>\n",
       "      <td>prediction, method, computational, protein, predict, tool, interaction, approach, structure, fun...</td>\n",
       "      <td>[uncover, transcription, factor, module, analyse, transcriptional, regulation, critical, mediato...</td>\n",
       "    </tr>\n",
       "    <tr>\n",
       "      <th>22944687</th>\n",
       "      <td>2</td>\n",
       "      <td>6.0</td>\n",
       "      <td>0.4221</td>\n",
       "      <td>prediction, method, computational, protein, predict, tool, interaction, approach, structure, fun...</td>\n",
       "      <td>[understand, substrate, specificity, conventional, calpain, calpain, intracellular, dependent, c...</td>\n",
       "    </tr>\n",
       "    <tr>\n",
       "      <th>22075226</th>\n",
       "      <td>3</td>\n",
       "      <td>6.0</td>\n",
       "      <td>0.3536</td>\n",
       "      <td>prediction, method, computational, protein, predict, tool, interaction, approach, structure, fun...</td>\n",
       "      <td>[membrane, protein, structural, bioinformatics, increase, number, recently, solve, membrane, pro...</td>\n",
       "    </tr>\n",
       "    <tr>\n",
       "      <th>23012584</th>\n",
       "      <td>4</td>\n",
       "      <td>2.0</td>\n",
       "      <td>0.1533</td>\n",
       "      <td>data, analysis, big, information, knowledge, large, science, research, genomic, source</td>\n",
       "      <td>[future, medical, diagnostic, large, digitized, database, electronic_health_record, mandate, ame...</td>\n",
       "    </tr>\n",
       "  </tbody>\n",
       "</table>\n",
       "</div>"
      ],
      "text/plain": [
       "          Document_No  Dominant_Topic  Topic_Perc_Contrib  \\\n",
       "pmid                                                        \n",
       "22627698            0             4.0              0.1583   \n",
       "22952238            1             6.0              0.2666   \n",
       "22944687            2             6.0              0.4221   \n",
       "22075226            3             6.0              0.3536   \n",
       "23012584            4             2.0              0.1533   \n",
       "\n",
       "                                                                                                     Keywords  \\\n",
       "pmid                                                                                                            \n",
       "22627698     image, imaging, diagnosis, analysis, diagnostic, technique, detection, radiomic, cancer, feature   \n",
       "22952238  prediction, method, computational, protein, predict, tool, interaction, approach, structure, fun...   \n",
       "22944687  prediction, method, computational, protein, predict, tool, interaction, approach, structure, fun...   \n",
       "22075226  prediction, method, computational, protein, predict, tool, interaction, approach, structure, fun...   \n",
       "23012584               data, analysis, big, information, knowledge, large, science, research, genomic, source   \n",
       "\n",
       "                                                                                                         Text  \n",
       "pmid                                                                                                           \n",
       "22627698  [extract, biological, information, computational, analysis, infrared, ftir, biospectroscopy, dat...  \n",
       "22952238  [uncover, transcription, factor, module, analyse, transcriptional, regulation, critical, mediato...  \n",
       "22944687  [understand, substrate, specificity, conventional, calpain, calpain, intracellular, dependent, c...  \n",
       "22075226  [membrane, protein, structural, bioinformatics, increase, number, recently, solve, membrane, pro...  \n",
       "23012584  [future, medical, diagnostic, large, digitized, database, electronic_health_record, mandate, ame...  "
      ]
     },
     "execution_count": 39,
     "metadata": {},
     "output_type": "execute_result"
    }
   ],
   "source": [
    "# show\n",
    "df_dominant_topic.head()"
   ]
  },
  {
   "cell_type": "markdown",
   "id": "a374d003-8804-4f4f-86d5-e3fd9ffcb6ee",
   "metadata": {},
   "source": [
    "#### Find the most representative document for each topic"
   ]
  },
  {
   "cell_type": "code",
   "execution_count": 56,
   "id": "66689de2-b8d9-4787-8015-bf64e4a41f92",
   "metadata": {},
   "outputs": [],
   "source": [
    "doc_topics_sorteddf_mallet = pd.DataFrame()\n",
    "\n",
    "\n",
    "#reset index to pmid numbers\n",
    "df_topic_docs_keywords.index = df.index\n",
    "\n",
    "doc_topics_outdf_grpd = df_topic_docs_keywords.groupby('Dominant_Topic')\n",
    "\n",
    "for i, grp in doc_topics_outdf_grpd:\n",
    "    doc_topics_sorteddf_mallet = pd.concat([doc_topics_sorteddf_mallet, \n",
    "                                             grp.sort_values(['Perc_Contribution'], ascending=[0]).head(1)], \n",
    "                                            axis=0)\n",
    "# Format\n",
    "doc_topics_sorteddf_mallet.columns = ['Topic_Num', \"Topic_Perc_Contrib\", \"Keywords\", \"Text\"]\n"
   ]
  },
  {
   "cell_type": "code",
   "execution_count": 57,
   "id": "177252d5-8640-4c0f-9883-617b61ca05ac",
   "metadata": {},
   "outputs": [],
   "source": [
    "# Show representative topics and keywords\n",
    "rep_docs = pd.merge(doc_topics_sorteddf_mallet,df, how='inner', left_index=True, right_index=True)\n"
   ]
  },
  {
   "cell_type": "code",
   "execution_count": 58,
   "id": "6f4c97ea-5d9b-4545-aceb-0978e5430718",
   "metadata": {},
   "outputs": [],
   "source": [
    "rep_docs.drop(columns = 'Text', inplace=True)"
   ]
  },
  {
   "cell_type": "code",
   "execution_count": 59,
   "id": "635115e9-f045-44d5-828a-e56e37909a42",
   "metadata": {},
   "outputs": [
    {
     "data": {
      "text/html": [
       "<div>\n",
       "<style scoped>\n",
       "    .dataframe tbody tr th:only-of-type {\n",
       "        vertical-align: middle;\n",
       "    }\n",
       "\n",
       "    .dataframe tbody tr th {\n",
       "        vertical-align: top;\n",
       "    }\n",
       "\n",
       "    .dataframe thead th {\n",
       "        text-align: right;\n",
       "    }\n",
       "</style>\n",
       "<table border=\"1\" class=\"dataframe\">\n",
       "  <thead>\n",
       "    <tr style=\"text-align: right;\">\n",
       "      <th></th>\n",
       "      <th>Topic_Num</th>\n",
       "      <th>Topic_Perc_Contrib</th>\n",
       "      <th>Keywords</th>\n",
       "      <th>text</th>\n",
       "      <th>citations</th>\n",
       "    </tr>\n",
       "    <tr>\n",
       "      <th>pmid</th>\n",
       "      <th></th>\n",
       "      <th></th>\n",
       "      <th></th>\n",
       "      <th></th>\n",
       "      <th></th>\n",
       "    </tr>\n",
       "  </thead>\n",
       "  <tbody>\n",
       "    <tr>\n",
       "      <th>32635375</th>\n",
       "      <td>0.0</td>\n",
       "      <td>0.4169</td>\n",
       "      <td>application, review, provide, technique, process, work, field, present, paper, time</td>\n",
       "      <td>when i look into your eyes: a survey on computer vision contributions for human gaze estimation ...</td>\n",
       "      <td>2</td>\n",
       "    </tr>\n",
       "    <tr>\n",
       "      <th>32434014</th>\n",
       "      <td>1.0</td>\n",
       "      <td>0.4660</td>\n",
       "      <td>artificial_intelligence, clinical, ai, application, medical, practice, medicine, care, improve, ...</td>\n",
       "      <td>evolution of minimally invasive lumbar spine surgery spine surgery has evolved over centuries fr...</td>\n",
       "      <td>0</td>\n",
       "    </tr>\n",
       "    <tr>\n",
       "      <th>30379703</th>\n",
       "      <td>2.0</td>\n",
       "      <td>0.3913</td>\n",
       "      <td>data, analysis, big, information, knowledge, large, science, research, genomic, source</td>\n",
       "      <td>neurotrauma as a bigdata problem purpose of review:                    the field of neurotrauma ...</td>\n",
       "      <td>5</td>\n",
       "    </tr>\n",
       "    <tr>\n",
       "      <th>26911811</th>\n",
       "      <td>3.0</td>\n",
       "      <td>0.4860</td>\n",
       "      <td>study, review, result, literature, method, article, paper, search, conclusion, identify</td>\n",
       "      <td>extracting information from the text of electronic medical records to improve case detection: a ...</td>\n",
       "      <td>78</td>\n",
       "    </tr>\n",
       "    <tr>\n",
       "      <th>32410356</th>\n",
       "      <td>4.0</td>\n",
       "      <td>0.5077</td>\n",
       "      <td>image, imaging, diagnosis, analysis, diagnostic, technique, detection, radiomic, cancer, feature</td>\n",
       "      <td>quantitative prostate mri prostate mri is reported in clinical practice using the prostate imagi...</td>\n",
       "      <td>2</td>\n",
       "    </tr>\n",
       "    <tr>\n",
       "      <th>31140082</th>\n",
       "      <td>5.0</td>\n",
       "      <td>0.3841</td>\n",
       "      <td>machine, learning, learn, deep, application, ml, algorithm, apply, technique, method</td>\n",
       "      <td>applications of deep learning for the analysis of medical data over the past decade deep learnin...</td>\n",
       "      <td>8</td>\n",
       "    </tr>\n",
       "    <tr>\n",
       "      <th>26540053</th>\n",
       "      <td>6.0</td>\n",
       "      <td>0.5125</td>\n",
       "      <td>prediction, method, computational, protein, predict, tool, interaction, approach, structure, fun...</td>\n",
       "      <td>computational prediction of rnabinding proteins and binding sites proteins and rna interaction h...</td>\n",
       "      <td>24</td>\n",
       "    </tr>\n",
       "    <tr>\n",
       "      <th>30982123</th>\n",
       "      <td>7.0</td>\n",
       "      <td>0.4695</td>\n",
       "      <td>disease, patient, clinical, treatment, risk, outcome, biomarker, response, predict, identify</td>\n",
       "      <td>treatment of heart failure with preserved ejection fraction (hfpef): the phenotypeguided approac...</td>\n",
       "      <td>6</td>\n",
       "    </tr>\n",
       "    <tr>\n",
       "      <th>32709998</th>\n",
       "      <td>8.0</td>\n",
       "      <td>0.4429</td>\n",
       "      <td>technology, health, system, sensor, device, healthcare, digital, detection, monitor, management</td>\n",
       "      <td>digital health technologies: opportunities and challenges in rheumatology the past decade in rhe...</td>\n",
       "      <td>3</td>\n",
       "    </tr>\n",
       "    <tr>\n",
       "      <th>27698038</th>\n",
       "      <td>9.0</td>\n",
       "      <td>0.4166</td>\n",
       "      <td>model, system, approach, network, modeling, complex, understand, biological, biology, process</td>\n",
       "      <td>a perspective on bridging scales and design of models using lowdimensional manifolds and datadri...</td>\n",
       "      <td>4</td>\n",
       "    </tr>\n",
       "    <tr>\n",
       "      <th>29601896</th>\n",
       "      <td>10.0</td>\n",
       "      <td>0.5689</td>\n",
       "      <td>brain, study, disorder, review, functional, individual, show, signal, feature, pattern</td>\n",
       "      <td>differentiating between bipolar and unipolar depression in functional and structural mri studies...</td>\n",
       "      <td>21</td>\n",
       "    </tr>\n",
       "    <tr>\n",
       "      <th>28405579</th>\n",
       "      <td>11.0</td>\n",
       "      <td>0.4769</td>\n",
       "      <td>method, statistical, approach, high, analysis, measure, plant, large, base, environmental</td>\n",
       "      <td>a survey of methods and tools to detect recent and strong positive selection positive selection ...</td>\n",
       "      <td>28</td>\n",
       "    </tr>\n",
       "    <tr>\n",
       "      <th>31413915</th>\n",
       "      <td>12.0</td>\n",
       "      <td>0.4766</td>\n",
       "      <td>drug, design, molecular, development, cell, target, approach, drug_discovery, computational, che...</td>\n",
       "      <td>a fluorescent biosensorbased platform for the discovery of immunogenic cancer cell death inducer...</td>\n",
       "      <td>3</td>\n",
       "    </tr>\n",
       "    <tr>\n",
       "      <th>30609719</th>\n",
       "      <td>13.0</td>\n",
       "      <td>0.2792</td>\n",
       "      <td>research, recent, future, advance, review, challenge, development, field, discuss, current</td>\n",
       "      <td>a comprehensive survey on spectrum sensing in cognitive radio networks: recent advances new chal...</td>\n",
       "      <td>13</td>\n",
       "    </tr>\n",
       "  </tbody>\n",
       "</table>\n",
       "</div>"
      ],
      "text/plain": [
       "          Topic_Num  Topic_Perc_Contrib  \\\n",
       "pmid                                      \n",
       "32635375        0.0              0.4169   \n",
       "32434014        1.0              0.4660   \n",
       "30379703        2.0              0.3913   \n",
       "26911811        3.0              0.4860   \n",
       "32410356        4.0              0.5077   \n",
       "31140082        5.0              0.3841   \n",
       "26540053        6.0              0.5125   \n",
       "30982123        7.0              0.4695   \n",
       "32709998        8.0              0.4429   \n",
       "27698038        9.0              0.4166   \n",
       "29601896       10.0              0.5689   \n",
       "28405579       11.0              0.4769   \n",
       "31413915       12.0              0.4766   \n",
       "30609719       13.0              0.2792   \n",
       "\n",
       "                                                                                                     Keywords  \\\n",
       "pmid                                                                                                            \n",
       "32635375                  application, review, provide, technique, process, work, field, present, paper, time   \n",
       "32434014  artificial_intelligence, clinical, ai, application, medical, practice, medicine, care, improve, ...   \n",
       "30379703               data, analysis, big, information, knowledge, large, science, research, genomic, source   \n",
       "26911811              study, review, result, literature, method, article, paper, search, conclusion, identify   \n",
       "32410356     image, imaging, diagnosis, analysis, diagnostic, technique, detection, radiomic, cancer, feature   \n",
       "31140082                 machine, learning, learn, deep, application, ml, algorithm, apply, technique, method   \n",
       "26540053  prediction, method, computational, protein, predict, tool, interaction, approach, structure, fun...   \n",
       "30982123         disease, patient, clinical, treatment, risk, outcome, biomarker, response, predict, identify   \n",
       "32709998      technology, health, system, sensor, device, healthcare, digital, detection, monitor, management   \n",
       "27698038        model, system, approach, network, modeling, complex, understand, biological, biology, process   \n",
       "29601896               brain, study, disorder, review, functional, individual, show, signal, feature, pattern   \n",
       "28405579            method, statistical, approach, high, analysis, measure, plant, large, base, environmental   \n",
       "31413915  drug, design, molecular, development, cell, target, approach, drug_discovery, computational, che...   \n",
       "30609719           research, recent, future, advance, review, challenge, development, field, discuss, current   \n",
       "\n",
       "                                                                                                         text  \\\n",
       "pmid                                                                                                            \n",
       "32635375  when i look into your eyes: a survey on computer vision contributions for human gaze estimation ...   \n",
       "32434014  evolution of minimally invasive lumbar spine surgery spine surgery has evolved over centuries fr...   \n",
       "30379703  neurotrauma as a bigdata problem purpose of review:                    the field of neurotrauma ...   \n",
       "26911811  extracting information from the text of electronic medical records to improve case detection: a ...   \n",
       "32410356  quantitative prostate mri prostate mri is reported in clinical practice using the prostate imagi...   \n",
       "31140082  applications of deep learning for the analysis of medical data over the past decade deep learnin...   \n",
       "26540053  computational prediction of rnabinding proteins and binding sites proteins and rna interaction h...   \n",
       "30982123  treatment of heart failure with preserved ejection fraction (hfpef): the phenotypeguided approac...   \n",
       "32709998  digital health technologies: opportunities and challenges in rheumatology the past decade in rhe...   \n",
       "27698038  a perspective on bridging scales and design of models using lowdimensional manifolds and datadri...   \n",
       "29601896  differentiating between bipolar and unipolar depression in functional and structural mri studies...   \n",
       "28405579  a survey of methods and tools to detect recent and strong positive selection positive selection ...   \n",
       "31413915  a fluorescent biosensorbased platform for the discovery of immunogenic cancer cell death inducer...   \n",
       "30609719  a comprehensive survey on spectrum sensing in cognitive radio networks: recent advances new chal...   \n",
       "\n",
       "          citations  \n",
       "pmid                 \n",
       "32635375          2  \n",
       "32434014          0  \n",
       "30379703          5  \n",
       "26911811         78  \n",
       "32410356          2  \n",
       "31140082          8  \n",
       "26540053         24  \n",
       "30982123          6  \n",
       "32709998          3  \n",
       "27698038          4  \n",
       "29601896         21  \n",
       "28405579         28  \n",
       "31413915          3  \n",
       "30609719         13  "
      ]
     },
     "execution_count": 59,
     "metadata": {},
     "output_type": "execute_result"
    }
   ],
   "source": [
    "rep_docs"
   ]
  },
  {
   "cell_type": "markdown",
   "id": "f3eef6de-f46f-42fe-9c7c-9f0649cf79b6",
   "metadata": {},
   "source": [
    "#### Explore Relationship Between Dominant Topic and Number of Citations"
   ]
  },
  {
   "cell_type": "code",
   "execution_count": 42,
   "id": "7840cdb2-ac36-475a-a1d5-ff92bc25ba17",
   "metadata": {},
   "outputs": [
    {
     "data": {
      "text/html": [
       "<div>\n",
       "<style scoped>\n",
       "    .dataframe tbody tr th:only-of-type {\n",
       "        vertical-align: middle;\n",
       "    }\n",
       "\n",
       "    .dataframe tbody tr th {\n",
       "        vertical-align: top;\n",
       "    }\n",
       "\n",
       "    .dataframe thead th {\n",
       "        text-align: right;\n",
       "    }\n",
       "</style>\n",
       "<table border=\"1\" class=\"dataframe\">\n",
       "  <thead>\n",
       "    <tr style=\"text-align: right;\">\n",
       "      <th></th>\n",
       "      <th>text</th>\n",
       "      <th>citations</th>\n",
       "    </tr>\n",
       "    <tr>\n",
       "      <th>pmid</th>\n",
       "      <th></th>\n",
       "      <th></th>\n",
       "    </tr>\n",
       "  </thead>\n",
       "  <tbody>\n",
       "    <tr>\n",
       "      <th>22627698</th>\n",
       "      <td>extracting biological information with computational analysis of fouriertransform infrared (ftir...</td>\n",
       "      <td>35</td>\n",
       "    </tr>\n",
       "    <tr>\n",
       "      <th>22952238</th>\n",
       "      <td>uncovering transcription factor modules using one and threedimensional analyses transcriptional ...</td>\n",
       "      <td>4</td>\n",
       "    </tr>\n",
       "    <tr>\n",
       "      <th>22944687</th>\n",
       "      <td>understanding the substrate specificity of conventional calpains calpains are intracellular ca(2...</td>\n",
       "      <td>19</td>\n",
       "    </tr>\n",
       "    <tr>\n",
       "      <th>22075226</th>\n",
       "      <td>membrane protein structural bioinformatics despite the increasing number of recently solved memb...</td>\n",
       "      <td>12</td>\n",
       "    </tr>\n",
       "    <tr>\n",
       "      <th>23012584</th>\n",
       "      <td>the future of medical diagnostics: large digitized databases the electronic health record mandat...</td>\n",
       "      <td>10</td>\n",
       "    </tr>\n",
       "  </tbody>\n",
       "</table>\n",
       "</div>"
      ],
      "text/plain": [
       "                                                                                                         text  \\\n",
       "pmid                                                                                                            \n",
       "22627698  extracting biological information with computational analysis of fouriertransform infrared (ftir...   \n",
       "22952238  uncovering transcription factor modules using one and threedimensional analyses transcriptional ...   \n",
       "22944687  understanding the substrate specificity of conventional calpains calpains are intracellular ca(2...   \n",
       "22075226  membrane protein structural bioinformatics despite the increasing number of recently solved memb...   \n",
       "23012584  the future of medical diagnostics: large digitized databases the electronic health record mandat...   \n",
       "\n",
       "          citations  \n",
       "pmid                 \n",
       "22627698         35  \n",
       "22952238          4  \n",
       "22944687         19  \n",
       "22075226         12  \n",
       "23012584         10  "
      ]
     },
     "execution_count": 42,
     "metadata": {},
     "output_type": "execute_result"
    }
   ],
   "source": [
    "df.head()"
   ]
  },
  {
   "cell_type": "code",
   "execution_count": 43,
   "id": "3bd762a5-6a3f-40ba-b2db-4526478ba6c5",
   "metadata": {},
   "outputs": [
    {
     "data": {
      "text/html": [
       "<div>\n",
       "<style scoped>\n",
       "    .dataframe tbody tr th:only-of-type {\n",
       "        vertical-align: middle;\n",
       "    }\n",
       "\n",
       "    .dataframe tbody tr th {\n",
       "        vertical-align: top;\n",
       "    }\n",
       "\n",
       "    .dataframe thead th {\n",
       "        text-align: right;\n",
       "    }\n",
       "</style>\n",
       "<table border=\"1\" class=\"dataframe\">\n",
       "  <thead>\n",
       "    <tr style=\"text-align: right;\">\n",
       "      <th></th>\n",
       "      <th>Document_No</th>\n",
       "      <th>Dominant_Topic</th>\n",
       "      <th>Topic_Perc_Contrib</th>\n",
       "      <th>Keywords</th>\n",
       "      <th>Text</th>\n",
       "    </tr>\n",
       "    <tr>\n",
       "      <th>pmid</th>\n",
       "      <th></th>\n",
       "      <th></th>\n",
       "      <th></th>\n",
       "      <th></th>\n",
       "      <th></th>\n",
       "    </tr>\n",
       "  </thead>\n",
       "  <tbody>\n",
       "    <tr>\n",
       "      <th>22627698</th>\n",
       "      <td>0</td>\n",
       "      <td>4.0</td>\n",
       "      <td>0.1583</td>\n",
       "      <td>image, imaging, diagnosis, analysis, diagnostic, technique, detection, radiomic, cancer, feature</td>\n",
       "      <td>[extract, biological, information, computational, analysis, infrared, ftir, biospectroscopy, dat...</td>\n",
       "    </tr>\n",
       "    <tr>\n",
       "      <th>22952238</th>\n",
       "      <td>1</td>\n",
       "      <td>6.0</td>\n",
       "      <td>0.2666</td>\n",
       "      <td>prediction, method, computational, protein, predict, tool, interaction, approach, structure, fun...</td>\n",
       "      <td>[uncover, transcription, factor, module, analyse, transcriptional, regulation, critical, mediato...</td>\n",
       "    </tr>\n",
       "    <tr>\n",
       "      <th>22944687</th>\n",
       "      <td>2</td>\n",
       "      <td>6.0</td>\n",
       "      <td>0.4221</td>\n",
       "      <td>prediction, method, computational, protein, predict, tool, interaction, approach, structure, fun...</td>\n",
       "      <td>[understand, substrate, specificity, conventional, calpain, calpain, intracellular, dependent, c...</td>\n",
       "    </tr>\n",
       "    <tr>\n",
       "      <th>22075226</th>\n",
       "      <td>3</td>\n",
       "      <td>6.0</td>\n",
       "      <td>0.3536</td>\n",
       "      <td>prediction, method, computational, protein, predict, tool, interaction, approach, structure, fun...</td>\n",
       "      <td>[membrane, protein, structural, bioinformatics, increase, number, recently, solve, membrane, pro...</td>\n",
       "    </tr>\n",
       "    <tr>\n",
       "      <th>23012584</th>\n",
       "      <td>4</td>\n",
       "      <td>2.0</td>\n",
       "      <td>0.1533</td>\n",
       "      <td>data, analysis, big, information, knowledge, large, science, research, genomic, source</td>\n",
       "      <td>[future, medical, diagnostic, large, digitized, database, electronic_health_record, mandate, ame...</td>\n",
       "    </tr>\n",
       "  </tbody>\n",
       "</table>\n",
       "</div>"
      ],
      "text/plain": [
       "          Document_No  Dominant_Topic  Topic_Perc_Contrib  \\\n",
       "pmid                                                        \n",
       "22627698            0             4.0              0.1583   \n",
       "22952238            1             6.0              0.2666   \n",
       "22944687            2             6.0              0.4221   \n",
       "22075226            3             6.0              0.3536   \n",
       "23012584            4             2.0              0.1533   \n",
       "\n",
       "                                                                                                     Keywords  \\\n",
       "pmid                                                                                                            \n",
       "22627698     image, imaging, diagnosis, analysis, diagnostic, technique, detection, radiomic, cancer, feature   \n",
       "22952238  prediction, method, computational, protein, predict, tool, interaction, approach, structure, fun...   \n",
       "22944687  prediction, method, computational, protein, predict, tool, interaction, approach, structure, fun...   \n",
       "22075226  prediction, method, computational, protein, predict, tool, interaction, approach, structure, fun...   \n",
       "23012584               data, analysis, big, information, knowledge, large, science, research, genomic, source   \n",
       "\n",
       "                                                                                                         Text  \n",
       "pmid                                                                                                           \n",
       "22627698  [extract, biological, information, computational, analysis, infrared, ftir, biospectroscopy, dat...  \n",
       "22952238  [uncover, transcription, factor, module, analyse, transcriptional, regulation, critical, mediato...  \n",
       "22944687  [understand, substrate, specificity, conventional, calpain, calpain, intracellular, dependent, c...  \n",
       "22075226  [membrane, protein, structural, bioinformatics, increase, number, recently, solve, membrane, pro...  \n",
       "23012584  [future, medical, diagnostic, large, digitized, database, electronic_health_record, mandate, ame...  "
      ]
     },
     "execution_count": 43,
     "metadata": {},
     "output_type": "execute_result"
    }
   ],
   "source": [
    "df_dominant_topic.head()"
   ]
  },
  {
   "cell_type": "code",
   "execution_count": 44,
   "id": "c05f1e7e-4fa8-460c-853e-8ab84601a65b",
   "metadata": {},
   "outputs": [],
   "source": [
    "#merge on pmid index\n",
    "combined_df = pd.merge(df,df_dominant_topic, how='inner', left_index=True, right_index=True)"
   ]
  },
  {
   "cell_type": "code",
   "execution_count": 45,
   "id": "c4f6dda3-780a-4517-b120-ed66f3dad7c8",
   "metadata": {},
   "outputs": [
    {
     "data": {
      "text/plain": [
       "Index(['text', 'citations', 'Document_No', 'Dominant_Topic',\n",
       "       'Topic_Perc_Contrib', 'Keywords', 'Text'],\n",
       "      dtype='object')"
      ]
     },
     "execution_count": 45,
     "metadata": {},
     "output_type": "execute_result"
    }
   ],
   "source": [
    "combined_df.columns"
   ]
  },
  {
   "cell_type": "code",
   "execution_count": 46,
   "id": "53104a42-29d4-4987-84ca-e08f9697f847",
   "metadata": {},
   "outputs": [],
   "source": [
    "combined_df.drop(columns = ['Document_No', 'Text'], inplace=True)\n"
   ]
  },
  {
   "cell_type": "code",
   "execution_count": 47,
   "id": "77f6e45c-aa59-4cb4-b877-11397652aa3d",
   "metadata": {},
   "outputs": [
    {
     "data": {
      "text/html": [
       "<div>\n",
       "<style scoped>\n",
       "    .dataframe tbody tr th:only-of-type {\n",
       "        vertical-align: middle;\n",
       "    }\n",
       "\n",
       "    .dataframe tbody tr th {\n",
       "        vertical-align: top;\n",
       "    }\n",
       "\n",
       "    .dataframe thead th {\n",
       "        text-align: right;\n",
       "    }\n",
       "</style>\n",
       "<table border=\"1\" class=\"dataframe\">\n",
       "  <thead>\n",
       "    <tr style=\"text-align: right;\">\n",
       "      <th></th>\n",
       "      <th>text</th>\n",
       "      <th>citations</th>\n",
       "      <th>Dominant_Topic</th>\n",
       "      <th>Topic_Perc_Contrib</th>\n",
       "      <th>Keywords</th>\n",
       "    </tr>\n",
       "    <tr>\n",
       "      <th>pmid</th>\n",
       "      <th></th>\n",
       "      <th></th>\n",
       "      <th></th>\n",
       "      <th></th>\n",
       "      <th></th>\n",
       "    </tr>\n",
       "  </thead>\n",
       "  <tbody>\n",
       "    <tr>\n",
       "      <th>22627698</th>\n",
       "      <td>extracting biological information with computational analysis of fouriertransform infrared (ftir...</td>\n",
       "      <td>35</td>\n",
       "      <td>4.0</td>\n",
       "      <td>0.1583</td>\n",
       "      <td>image, imaging, diagnosis, analysis, diagnostic, technique, detection, radiomic, cancer, feature</td>\n",
       "    </tr>\n",
       "    <tr>\n",
       "      <th>22952238</th>\n",
       "      <td>uncovering transcription factor modules using one and threedimensional analyses transcriptional ...</td>\n",
       "      <td>4</td>\n",
       "      <td>6.0</td>\n",
       "      <td>0.2666</td>\n",
       "      <td>prediction, method, computational, protein, predict, tool, interaction, approach, structure, fun...</td>\n",
       "    </tr>\n",
       "    <tr>\n",
       "      <th>22944687</th>\n",
       "      <td>understanding the substrate specificity of conventional calpains calpains are intracellular ca(2...</td>\n",
       "      <td>19</td>\n",
       "      <td>6.0</td>\n",
       "      <td>0.4221</td>\n",
       "      <td>prediction, method, computational, protein, predict, tool, interaction, approach, structure, fun...</td>\n",
       "    </tr>\n",
       "    <tr>\n",
       "      <th>22075226</th>\n",
       "      <td>membrane protein structural bioinformatics despite the increasing number of recently solved memb...</td>\n",
       "      <td>12</td>\n",
       "      <td>6.0</td>\n",
       "      <td>0.3536</td>\n",
       "      <td>prediction, method, computational, protein, predict, tool, interaction, approach, structure, fun...</td>\n",
       "    </tr>\n",
       "    <tr>\n",
       "      <th>23012584</th>\n",
       "      <td>the future of medical diagnostics: large digitized databases the electronic health record mandat...</td>\n",
       "      <td>10</td>\n",
       "      <td>2.0</td>\n",
       "      <td>0.1533</td>\n",
       "      <td>data, analysis, big, information, knowledge, large, science, research, genomic, source</td>\n",
       "    </tr>\n",
       "  </tbody>\n",
       "</table>\n",
       "</div>"
      ],
      "text/plain": [
       "                                                                                                         text  \\\n",
       "pmid                                                                                                            \n",
       "22627698  extracting biological information with computational analysis of fouriertransform infrared (ftir...   \n",
       "22952238  uncovering transcription factor modules using one and threedimensional analyses transcriptional ...   \n",
       "22944687  understanding the substrate specificity of conventional calpains calpains are intracellular ca(2...   \n",
       "22075226  membrane protein structural bioinformatics despite the increasing number of recently solved memb...   \n",
       "23012584  the future of medical diagnostics: large digitized databases the electronic health record mandat...   \n",
       "\n",
       "          citations  Dominant_Topic  Topic_Perc_Contrib  \\\n",
       "pmid                                                      \n",
       "22627698         35             4.0              0.1583   \n",
       "22952238          4             6.0              0.2666   \n",
       "22944687         19             6.0              0.4221   \n",
       "22075226         12             6.0              0.3536   \n",
       "23012584         10             2.0              0.1533   \n",
       "\n",
       "                                                                                                     Keywords  \n",
       "pmid                                                                                                           \n",
       "22627698     image, imaging, diagnosis, analysis, diagnostic, technique, detection, radiomic, cancer, feature  \n",
       "22952238  prediction, method, computational, protein, predict, tool, interaction, approach, structure, fun...  \n",
       "22944687  prediction, method, computational, protein, predict, tool, interaction, approach, structure, fun...  \n",
       "22075226  prediction, method, computational, protein, predict, tool, interaction, approach, structure, fun...  \n",
       "23012584               data, analysis, big, information, knowledge, large, science, research, genomic, source  "
      ]
     },
     "execution_count": 47,
     "metadata": {},
     "output_type": "execute_result"
    }
   ],
   "source": [
    "combined_df.head()"
   ]
  },
  {
   "cell_type": "code",
   "execution_count": 68,
   "id": "e0473958-087e-486a-8c6b-bb33d9230261",
   "metadata": {},
   "outputs": [
    {
     "data": {
      "image/png": "[encoded data removed]",
      "text/plain": [
       "<Figure size 1440x720 with 1 Axes>"
      ]
     },
     "metadata": {
      "needs_background": "light"
     },
     "output_type": "display_data"
    }
   ],
   "source": [
    "plt.figure(figsize = (20, 10));\n",
    "sns.barplot(data=combined_df, x='Dominant_Topic', y='citations');\n",
    "figurefont = {'fontname' : 'Futura'};\n",
    "plt.title('Mean Citations by Dominant Topic', fontsize = 24,**figurefont );\n",
    "plt.xticks(**figurefont, fontsize = 20);\n",
    "plt.yticks(**figurefont, fontsize = 20);\n",
    "plt.xlabel('Topic Number',**figurefont, fontsize = 20);\n",
    "plt.ylabel('Mean Citations',**figurefont, fontsize = 20);\n",
    "plt.savefig('../figures/pubmed_mean_citations_bigram_model.jpg',  bbox_inches = \"tight\")"
   ]
  },
  {
   "cell_type": "markdown",
   "id": "f91c381e-5e95-41a2-b662-fd97a341f809",
   "metadata": {},
   "source": [
    "#### Model Citations by Topic"
   ]
  },
  {
   "cell_type": "code",
   "execution_count": 69,
   "id": "aa364c22-6b36-47c7-80c5-e91083c4021f",
   "metadata": {},
   "outputs": [],
   "source": [
    "#the topics are not ordinal, so I will convert them to strings\n",
    "\n",
    "combined_df['Dominant_Topic'] = combined_df['Dominant_Topic'].apply(lambda x: str(x).strip('.0').zfill(2))\n"
   ]
  },
  {
   "cell_type": "code",
   "execution_count": 70,
   "id": "a24ad3f3-5d8e-41ca-aab4-11db7e2f043b",
   "metadata": {},
   "outputs": [],
   "source": [
    "df = pd.get_dummies(combined_df,columns=['Dominant_Topic'], drop_first=True)"
   ]
  },
  {
   "cell_type": "code",
   "execution_count": 71,
   "id": "0b13f439-118e-4fc0-8960-8a64d0a412ca",
   "metadata": {},
   "outputs": [
    {
     "data": {
      "text/plain": [
       "Index(['text', 'citations', 'Topic_Perc_Contrib', 'Keywords',\n",
       "       'Dominant_Topic_01', 'Dominant_Topic_02', 'Dominant_Topic_03',\n",
       "       'Dominant_Topic_04', 'Dominant_Topic_05', 'Dominant_Topic_06',\n",
       "       'Dominant_Topic_07', 'Dominant_Topic_08', 'Dominant_Topic_09',\n",
       "       'Dominant_Topic_11', 'Dominant_Topic_12', 'Dominant_Topic_13'],\n",
       "      dtype='object')"
      ]
     },
     "execution_count": 71,
     "metadata": {},
     "output_type": "execute_result"
    }
   ],
   "source": [
    "df.columns"
   ]
  },
  {
   "cell_type": "code",
   "execution_count": 72,
   "id": "0ff43ec7-c67c-44ca-bb09-2a195a68aec5",
   "metadata": {},
   "outputs": [],
   "source": [
    "import statsmodels.api as sm"
   ]
  },
  {
   "cell_type": "code",
   "execution_count": 73,
   "id": "f8ee1b6c-ea38-4938-9945-e3fd66fb3cd9",
   "metadata": {},
   "outputs": [],
   "source": [
    "X = df.drop(columns=['text','citations','Topic_Perc_Contrib','Keywords'])\n",
    "X = sm.add_constant(X, prepend=True)\n",
    "y = df['citations']"
   ]
  },
  {
   "cell_type": "code",
   "execution_count": 74,
   "id": "41da79c5-2002-4484-a72b-4c41165a98e2",
   "metadata": {},
   "outputs": [
    {
     "data": {
      "text/html": [
       "<table class=\"simpletable\">\n",
       "<caption>OLS Regression Results</caption>\n",
       "<tr>\n",
       "  <th>Dep. Variable:</th>        <td>citations</td>    <th>  R-squared:         </th> <td>   0.019</td> \n",
       "</tr>\n",
       "<tr>\n",
       "  <th>Model:</th>                   <td>OLS</td>       <th>  Adj. R-squared:    </th> <td>   0.015</td> \n",
       "</tr>\n",
       "<tr>\n",
       "  <th>Method:</th>             <td>Least Squares</td>  <th>  F-statistic:       </th> <td>   4.527</td> \n",
       "</tr>\n",
       "<tr>\n",
       "  <th>Date:</th>             <td>Mon, 10 May 2021</td> <th>  Prob (F-statistic):</th> <td>2.85e-07</td> \n",
       "</tr>\n",
       "<tr>\n",
       "  <th>Time:</th>                 <td>22:08:09</td>     <th>  Log-Likelihood:    </th> <td> -11407.</td> \n",
       "</tr>\n",
       "<tr>\n",
       "  <th>No. Observations:</th>      <td>  2809</td>      <th>  AIC:               </th> <td>2.284e+04</td>\n",
       "</tr>\n",
       "<tr>\n",
       "  <th>Df Residuals:</th>          <td>  2796</td>      <th>  BIC:               </th> <td>2.292e+04</td>\n",
       "</tr>\n",
       "<tr>\n",
       "  <th>Df Model:</th>              <td>    12</td>      <th>                     </th>     <td> </td>    \n",
       "</tr>\n",
       "<tr>\n",
       "  <th>Covariance Type:</th>      <td>nonrobust</td>    <th>                     </th>     <td> </td>    \n",
       "</tr>\n",
       "</table>\n",
       "<table class=\"simpletable\">\n",
       "<tr>\n",
       "          <td></td>             <th>coef</th>     <th>std err</th>      <th>t</th>      <th>P>|t|</th>  <th>[0.025</th>    <th>0.975]</th>  \n",
       "</tr>\n",
       "<tr>\n",
       "  <th>const</th>             <td>    7.9024</td> <td>    1.554</td> <td>    5.086</td> <td> 0.000</td> <td>    4.856</td> <td>   10.949</td>\n",
       "</tr>\n",
       "<tr>\n",
       "  <th>Dominant_Topic_01</th> <td>    0.2410</td> <td>    1.674</td> <td>    0.144</td> <td> 0.886</td> <td>   -3.042</td> <td>    3.524</td>\n",
       "</tr>\n",
       "<tr>\n",
       "  <th>Dominant_Topic_02</th> <td>    2.6168</td> <td>    1.835</td> <td>    1.426</td> <td> 0.154</td> <td>   -0.981</td> <td>    6.214</td>\n",
       "</tr>\n",
       "<tr>\n",
       "  <th>Dominant_Topic_03</th> <td>   -1.6176</td> <td>    1.888</td> <td>   -0.857</td> <td> 0.392</td> <td>   -5.320</td> <td>    2.085</td>\n",
       "</tr>\n",
       "<tr>\n",
       "  <th>Dominant_Topic_04</th> <td>    0.2158</td> <td>    1.746</td> <td>    0.124</td> <td> 0.902</td> <td>   -3.207</td> <td>    3.639</td>\n",
       "</tr>\n",
       "<tr>\n",
       "  <th>Dominant_Topic_05</th> <td>    6.9888</td> <td>    1.855</td> <td>    3.768</td> <td> 0.000</td> <td>    3.352</td> <td>   10.626</td>\n",
       "</tr>\n",
       "<tr>\n",
       "  <th>Dominant_Topic_06</th> <td>    0.6312</td> <td>    1.802</td> <td>    0.350</td> <td> 0.726</td> <td>   -2.902</td> <td>    4.164</td>\n",
       "</tr>\n",
       "<tr>\n",
       "  <th>Dominant_Topic_07</th> <td>   -1.2677</td> <td>    1.822</td> <td>   -0.696</td> <td> 0.487</td> <td>   -4.840</td> <td>    2.304</td>\n",
       "</tr>\n",
       "<tr>\n",
       "  <th>Dominant_Topic_08</th> <td>   -0.0401</td> <td>    1.823</td> <td>   -0.022</td> <td> 0.982</td> <td>   -3.614</td> <td>    3.534</td>\n",
       "</tr>\n",
       "<tr>\n",
       "  <th>Dominant_Topic_09</th> <td>    1.7785</td> <td>    1.905</td> <td>    0.934</td> <td> 0.351</td> <td>   -1.957</td> <td>    5.514</td>\n",
       "</tr>\n",
       "<tr>\n",
       "  <th>Dominant_Topic_11</th> <td>    1.0424</td> <td>    1.944</td> <td>    0.536</td> <td> 0.592</td> <td>   -2.770</td> <td>    4.855</td>\n",
       "</tr>\n",
       "<tr>\n",
       "  <th>Dominant_Topic_12</th> <td>    0.2321</td> <td>    1.770</td> <td>    0.131</td> <td> 0.896</td> <td>   -3.239</td> <td>    3.704</td>\n",
       "</tr>\n",
       "<tr>\n",
       "  <th>Dominant_Topic_13</th> <td>    0.6111</td> <td>    2.256</td> <td>    0.271</td> <td> 0.787</td> <td>   -3.813</td> <td>    5.035</td>\n",
       "</tr>\n",
       "</table>\n",
       "<table class=\"simpletable\">\n",
       "<tr>\n",
       "  <th>Omnibus:</th>       <td>1899.679</td> <th>  Durbin-Watson:     </th> <td>   1.638</td> \n",
       "</tr>\n",
       "<tr>\n",
       "  <th>Prob(Omnibus):</th>  <td> 0.000</td>  <th>  Jarque-Bera (JB):  </th> <td>22317.178</td>\n",
       "</tr>\n",
       "<tr>\n",
       "  <th>Skew:</th>           <td> 3.161</td>  <th>  Prob(JB):          </th> <td>    0.00</td> \n",
       "</tr>\n",
       "<tr>\n",
       "  <th>Kurtosis:</th>       <td>15.276</td>  <th>  Cond. No.          </th> <td>    22.5</td> \n",
       "</tr>\n",
       "</table><br/><br/>Notes:<br/>[1] Standard Errors assume that the covariance matrix of the errors is correctly specified."
      ],
      "text/plain": [
       "<class 'statsmodels.iolib.summary.Summary'>\n",
       "\"\"\"\n",
       "                            OLS Regression Results                            \n",
       "==============================================================================\n",
       "Dep. Variable:              citations   R-squared:                       0.019\n",
       "Model:                            OLS   Adj. R-squared:                  0.015\n",
       "Method:                 Least Squares   F-statistic:                     4.527\n",
       "Date:                Mon, 10 May 2021   Prob (F-statistic):           2.85e-07\n",
       "Time:                        22:08:09   Log-Likelihood:                -11407.\n",
       "No. Observations:                2809   AIC:                         2.284e+04\n",
       "Df Residuals:                    2796   BIC:                         2.292e+04\n",
       "Df Model:                          12                                         \n",
       "Covariance Type:            nonrobust                                         \n",
       "=====================================================================================\n",
       "                        coef    std err          t      P>|t|      [0.025      0.975]\n",
       "-------------------------------------------------------------------------------------\n",
       "const                 7.9024      1.554      5.086      0.000       4.856      10.949\n",
       "Dominant_Topic_01     0.2410      1.674      0.144      0.886      -3.042       3.524\n",
       "Dominant_Topic_02     2.6168      1.835      1.426      0.154      -0.981       6.214\n",
       "Dominant_Topic_03    -1.6176      1.888     -0.857      0.392      -5.320       2.085\n",
       "Dominant_Topic_04     0.2158      1.746      0.124      0.902      -3.207       3.639\n",
       "Dominant_Topic_05     6.9888      1.855      3.768      0.000       3.352      10.626\n",
       "Dominant_Topic_06     0.6312      1.802      0.350      0.726      -2.902       4.164\n",
       "Dominant_Topic_07    -1.2677      1.822     -0.696      0.487      -4.840       2.304\n",
       "Dominant_Topic_08    -0.0401      1.823     -0.022      0.982      -3.614       3.534\n",
       "Dominant_Topic_09     1.7785      1.905      0.934      0.351      -1.957       5.514\n",
       "Dominant_Topic_11     1.0424      1.944      0.536      0.592      -2.770       4.855\n",
       "Dominant_Topic_12     0.2321      1.770      0.131      0.896      -3.239       3.704\n",
       "Dominant_Topic_13     0.6111      2.256      0.271      0.787      -3.813       5.035\n",
       "==============================================================================\n",
       "Omnibus:                     1899.679   Durbin-Watson:                   1.638\n",
       "Prob(Omnibus):                  0.000   Jarque-Bera (JB):            22317.178\n",
       "Skew:                           3.161   Prob(JB):                         0.00\n",
       "Kurtosis:                      15.276   Cond. No.                         22.5\n",
       "==============================================================================\n",
       "\n",
       "Notes:\n",
       "[1] Standard Errors assume that the covariance matrix of the errors is correctly specified.\n",
       "\"\"\""
      ]
     },
     "execution_count": 74,
     "metadata": {},
     "output_type": "execute_result"
    }
   ],
   "source": [
    "results = sm.OLS(y, X).fit()\n",
    "results.summary()"
   ]
  },
  {
   "cell_type": "markdown",
   "id": "948c07ac-9168-45d4-8409-a1b174b97e2b",
   "metadata": {},
   "source": [
    "Topic 5"
   ]
  },
  {
   "cell_type": "code",
   "execution_count": null,
   "id": "9efa9c49-bd2e-4c8c-8d90-12c4b6519fcb",
   "metadata": {},
   "outputs": [],
   "source": []
  }
 ],
 "metadata": {
  "kernelspec": {
   "display_name": "Python 3",
   "language": "python",
   "name": "python3"
  },
  "language_info": {
   "codemirror_mode": {
    "name": "ipython",
    "version": 3
   },
   "file_extension": ".py",
   "mimetype": "text/x-python",
   "name": "python",
   "nbconvert_exporter": "python",
   "pygments_lexer": "ipython3",
   "version": "3.9.4"
  }
 },
 "nbformat": 4,
 "nbformat_minor": 5
}
