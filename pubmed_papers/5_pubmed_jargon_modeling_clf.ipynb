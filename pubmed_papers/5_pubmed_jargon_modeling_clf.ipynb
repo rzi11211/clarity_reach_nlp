{
 "cells": [
  {
   "cell_type": "code",
   "execution_count": 1,
   "id": "a35499cd-8ce6-41f4-9f25-1a75bfcea826",
   "metadata": {},
   "outputs": [],
   "source": [
    "import pandas as pd\n",
    "import numpy as np\n",
    "import matplotlib.pyplot as plt\n",
    "import seaborn as sns\n",
    "\n",
    "\n",
    "#modeling\n",
    "from sklearn.model_selection import train_test_split, GridSearchCV, cross_val_score\n",
    "from sklearn.pipeline import Pipeline\n",
    "from sklearn.metrics import accuracy_score, precision_score, f1_score, confusion_matrix, ConfusionMatrixDisplay\n",
    "from sklearn.neural_network import MLPClassifier\n",
    "from sklearn.linear_model import LogisticRegression\n",
    "from sklearn.tree import DecisionTreeClassifier\n",
    "from sklearn.ensemble import BaggingClassifier, RandomForestClassifier, AdaBoostClassifier, ExtraTreesClassifier\n",
    "from sklearn.svm import SVC\n",
    "from sklearn.naive_bayes import BernoulliNB\n",
    "\n",
    "import warnings\n",
    "warnings.filterwarnings('ignore')"
   ]
  },
  {
   "cell_type": "code",
   "execution_count": 2,
   "id": "9d27416d-2f7d-4d55-a806-3e3db69ca72f",
   "metadata": {},
   "outputs": [],
   "source": [
    "filename =  '../data/pubmed_vectorized_jargon.csv'"
   ]
  },
  {
   "cell_type": "code",
   "execution_count": 3,
   "id": "24897dab-53e6-467f-9c9d-474235bcb3f8",
   "metadata": {},
   "outputs": [],
   "source": [
    "df = pd.read_csv(filename).set_index('pmid')"
   ]
  },
  {
   "cell_type": "code",
   "execution_count": 4,
   "id": "77de176b-387e-4fae-9360-ed17214a26ba",
   "metadata": {},
   "outputs": [
    {
     "data": {
      "text/html": [
       "<div>\n",
       "<style scoped>\n",
       "    .dataframe tbody tr th:only-of-type {\n",
       "        vertical-align: middle;\n",
       "    }\n",
       "\n",
       "    .dataframe tbody tr th {\n",
       "        vertical-align: top;\n",
       "    }\n",
       "\n",
       "    .dataframe thead th {\n",
       "        text-align: right;\n",
       "    }\n",
       "</style>\n",
       "<table border=\"1\" class=\"dataframe\">\n",
       "  <thead>\n",
       "    <tr style=\"text-align: right;\">\n",
       "      <th></th>\n",
       "      <th>citations</th>\n",
       "      <th>fulltext</th>\n",
       "      <th>A/B testing</th>\n",
       "      <th>accuracy</th>\n",
       "      <th>action</th>\n",
       "      <th>activation function</th>\n",
       "      <th>active learning</th>\n",
       "      <th>AdaGrad</th>\n",
       "      <th>agent</th>\n",
       "      <th>agglomerative clustering</th>\n",
       "      <th>...</th>\n",
       "      <th>validation</th>\n",
       "      <th>validation set</th>\n",
       "      <th>vanishing gradient problem</th>\n",
       "      <th>Wasserstein loss</th>\n",
       "      <th>weight</th>\n",
       "      <th>Weighted Alternating Least Squares (WALS)</th>\n",
       "      <th>wide model</th>\n",
       "      <th>width</th>\n",
       "      <th>total_jargon_count</th>\n",
       "      <th>log_citations</th>\n",
       "    </tr>\n",
       "    <tr>\n",
       "      <th>pmid</th>\n",
       "      <th></th>\n",
       "      <th></th>\n",
       "      <th></th>\n",
       "      <th></th>\n",
       "      <th></th>\n",
       "      <th></th>\n",
       "      <th></th>\n",
       "      <th></th>\n",
       "      <th></th>\n",
       "      <th></th>\n",
       "      <th></th>\n",
       "      <th></th>\n",
       "      <th></th>\n",
       "      <th></th>\n",
       "      <th></th>\n",
       "      <th></th>\n",
       "      <th></th>\n",
       "      <th></th>\n",
       "      <th></th>\n",
       "      <th></th>\n",
       "      <th></th>\n",
       "    </tr>\n",
       "  </thead>\n",
       "  <tbody>\n",
       "    <tr>\n",
       "      <th>22627698</th>\n",
       "      <td>35</td>\n",
       "      <td>extracting biological information computationa...</td>\n",
       "      <td>0</td>\n",
       "      <td>0</td>\n",
       "      <td>1</td>\n",
       "      <td>0</td>\n",
       "      <td>0</td>\n",
       "      <td>0</td>\n",
       "      <td>0</td>\n",
       "      <td>0</td>\n",
       "      <td>...</td>\n",
       "      <td>1</td>\n",
       "      <td>0</td>\n",
       "      <td>0</td>\n",
       "      <td>0</td>\n",
       "      <td>0</td>\n",
       "      <td>0</td>\n",
       "      <td>0</td>\n",
       "      <td>0</td>\n",
       "      <td>11</td>\n",
       "      <td>3.555348</td>\n",
       "    </tr>\n",
       "    <tr>\n",
       "      <th>22952238</th>\n",
       "      <td>4</td>\n",
       "      <td>uncovering transcription factor modules using ...</td>\n",
       "      <td>0</td>\n",
       "      <td>0</td>\n",
       "      <td>1</td>\n",
       "      <td>0</td>\n",
       "      <td>0</td>\n",
       "      <td>0</td>\n",
       "      <td>0</td>\n",
       "      <td>0</td>\n",
       "      <td>...</td>\n",
       "      <td>0</td>\n",
       "      <td>0</td>\n",
       "      <td>0</td>\n",
       "      <td>0</td>\n",
       "      <td>0</td>\n",
       "      <td>0</td>\n",
       "      <td>0</td>\n",
       "      <td>0</td>\n",
       "      <td>3</td>\n",
       "      <td>1.386294</td>\n",
       "    </tr>\n",
       "    <tr>\n",
       "      <th>22944687</th>\n",
       "      <td>19</td>\n",
       "      <td>understanding substrate specificity convention...</td>\n",
       "      <td>0</td>\n",
       "      <td>1</td>\n",
       "      <td>1</td>\n",
       "      <td>0</td>\n",
       "      <td>0</td>\n",
       "      <td>0</td>\n",
       "      <td>0</td>\n",
       "      <td>0</td>\n",
       "      <td>...</td>\n",
       "      <td>0</td>\n",
       "      <td>0</td>\n",
       "      <td>0</td>\n",
       "      <td>0</td>\n",
       "      <td>0</td>\n",
       "      <td>0</td>\n",
       "      <td>0</td>\n",
       "      <td>0</td>\n",
       "      <td>7</td>\n",
       "      <td>2.944439</td>\n",
       "    </tr>\n",
       "    <tr>\n",
       "      <th>22075226</th>\n",
       "      <td>12</td>\n",
       "      <td>membrane protein structural bioinformatics des...</td>\n",
       "      <td>0</td>\n",
       "      <td>0</td>\n",
       "      <td>0</td>\n",
       "      <td>0</td>\n",
       "      <td>0</td>\n",
       "      <td>0</td>\n",
       "      <td>0</td>\n",
       "      <td>0</td>\n",
       "      <td>...</td>\n",
       "      <td>0</td>\n",
       "      <td>0</td>\n",
       "      <td>0</td>\n",
       "      <td>0</td>\n",
       "      <td>0</td>\n",
       "      <td>0</td>\n",
       "      <td>0</td>\n",
       "      <td>0</td>\n",
       "      <td>2</td>\n",
       "      <td>2.484907</td>\n",
       "    </tr>\n",
       "    <tr>\n",
       "      <th>23012584</th>\n",
       "      <td>10</td>\n",
       "      <td>future medical diagnostics: large digitized da...</td>\n",
       "      <td>0</td>\n",
       "      <td>0</td>\n",
       "      <td>0</td>\n",
       "      <td>0</td>\n",
       "      <td>0</td>\n",
       "      <td>0</td>\n",
       "      <td>0</td>\n",
       "      <td>0</td>\n",
       "      <td>...</td>\n",
       "      <td>0</td>\n",
       "      <td>0</td>\n",
       "      <td>0</td>\n",
       "      <td>0</td>\n",
       "      <td>0</td>\n",
       "      <td>0</td>\n",
       "      <td>0</td>\n",
       "      <td>0</td>\n",
       "      <td>1</td>\n",
       "      <td>2.302585</td>\n",
       "    </tr>\n",
       "  </tbody>\n",
       "</table>\n",
       "<p>5 rows × 416 columns</p>\n",
       "</div>"
      ],
      "text/plain": [
       "          citations                                           fulltext  \\\n",
       "pmid                                                                     \n",
       "22627698         35  extracting biological information computationa...   \n",
       "22952238          4  uncovering transcription factor modules using ...   \n",
       "22944687         19  understanding substrate specificity convention...   \n",
       "22075226         12  membrane protein structural bioinformatics des...   \n",
       "23012584         10  future medical diagnostics: large digitized da...   \n",
       "\n",
       "          A/B testing  accuracy  action  activation function  active learning  \\\n",
       "pmid                                                                            \n",
       "22627698            0         0       1                    0                0   \n",
       "22952238            0         0       1                    0                0   \n",
       "22944687            0         1       1                    0                0   \n",
       "22075226            0         0       0                    0                0   \n",
       "23012584            0         0       0                    0                0   \n",
       "\n",
       "          AdaGrad  agent  agglomerative clustering  ...  validation  \\\n",
       "pmid                                                ...               \n",
       "22627698        0      0                         0  ...           1   \n",
       "22952238        0      0                         0  ...           0   \n",
       "22944687        0      0                         0  ...           0   \n",
       "22075226        0      0                         0  ...           0   \n",
       "23012584        0      0                         0  ...           0   \n",
       "\n",
       "          validation set  vanishing gradient problem  Wasserstein loss  \\\n",
       "pmid                                                                     \n",
       "22627698               0                           0                 0   \n",
       "22952238               0                           0                 0   \n",
       "22944687               0                           0                 0   \n",
       "22075226               0                           0                 0   \n",
       "23012584               0                           0                 0   \n",
       "\n",
       "          weight  Weighted Alternating Least Squares (WALS)  wide model  \\\n",
       "pmid                                                                      \n",
       "22627698       0                                          0           0   \n",
       "22952238       0                                          0           0   \n",
       "22944687       0                                          0           0   \n",
       "22075226       0                                          0           0   \n",
       "23012584       0                                          0           0   \n",
       "\n",
       "          width  total_jargon_count  log_citations  \n",
       "pmid                                                \n",
       "22627698      0                  11       3.555348  \n",
       "22952238      0                   3       1.386294  \n",
       "22944687      0                   7       2.944439  \n",
       "22075226      0                   2       2.484907  \n",
       "23012584      0                   1       2.302585  \n",
       "\n",
       "[5 rows x 416 columns]"
      ]
     },
     "execution_count": 4,
     "metadata": {},
     "output_type": "execute_result"
    }
   ],
   "source": [
    "df.head()"
   ]
  },
  {
   "cell_type": "markdown",
   "id": "e69b5d49-1028-4d7e-9c71-0345d5f14ae0",
   "metadata": {},
   "source": [
    "### Modeling Attempt I: Citations as Target"
   ]
  },
  {
   "cell_type": "markdown",
   "id": "d3abd344-70d6-43cc-a9f7-9e323e071f9e",
   "metadata": {},
   "source": [
    "#### Transform the Target into a Binary Variable"
   ]
  },
  {
   "cell_type": "code",
   "execution_count": 6,
   "id": "a860d8e9-1990-450a-9596-cc30ff31f1bc",
   "metadata": {},
   "outputs": [
    {
     "data": {
      "text/plain": [
       "10"
      ]
     },
     "execution_count": 6,
     "metadata": {},
     "output_type": "execute_result"
    }
   ],
   "source": [
    "#set a threshold for 'highly-cited' established during EDA \n",
    "thresh = 10"
   ]
  },
  {
   "cell_type": "code",
   "execution_count": 8,
   "id": "8ce9753d-d0ba-46e3-a321-e8ff6f763f09",
   "metadata": {},
   "outputs": [
    {
     "data": {
      "text/plain": [
       "678"
      ]
     },
     "execution_count": 8,
     "metadata": {},
     "output_type": "execute_result"
    }
   ],
   "source": [
    "#check how many posts meet that criterion\n",
    "(df['citations'] > thresh).sum()"
   ]
  },
  {
   "cell_type": "code",
   "execution_count": 9,
   "id": "42bafcbe-1eb0-4eae-97d7-fd764aca9c88",
   "metadata": {},
   "outputs": [],
   "source": [
    "citations = [1 if citation > thresh else 0 for citation in df['citations']]"
   ]
  },
  {
   "cell_type": "code",
   "execution_count": 10,
   "id": "a303f79c-8470-4f28-826f-42739c96c618",
   "metadata": {},
   "outputs": [],
   "source": [
    "df['citations'] = citations"
   ]
  },
  {
   "cell_type": "code",
   "execution_count": 11,
   "id": "7076bfbb-c6b1-42d6-9102-43c237fe4983",
   "metadata": {},
   "outputs": [
    {
     "data": {
      "text/plain": [
       "0    0.703152\n",
       "1    0.296848\n",
       "Name: citations, dtype: float64"
      ]
     },
     "execution_count": 11,
     "metadata": {},
     "output_type": "execute_result"
    }
   ],
   "source": [
    "df['citations'].value_counts(normalize=True)"
   ]
  },
  {
   "cell_type": "code",
   "execution_count": 13,
   "id": "6f03ff51-4bc7-4215-9492-ae3bdf1f2b09",
   "metadata": {},
   "outputs": [
    {
     "data": {
      "text/plain": [
       "Index(['citations', 'fulltext', 'A/B testing', 'accuracy', 'action',\n",
       "       'activation function', 'active learning', 'AdaGrad', 'agent',\n",
       "       'agglomerative clustering',\n",
       "       ...\n",
       "       'validation', 'validation set', 'vanishing gradient problem',\n",
       "       'Wasserstein loss', 'weight',\n",
       "       'Weighted Alternating Least Squares (WALS)', 'wide model', 'width',\n",
       "       'total_jargon_count', 'log_citations'],\n",
       "      dtype='object', length=416)"
      ]
     },
     "execution_count": 13,
     "metadata": {},
     "output_type": "execute_result"
    }
   ],
   "source": [
    "df.columns"
   ]
  },
  {
   "cell_type": "markdown",
   "id": "6b1c4a7e-4466-4e6a-9892-f3ec08419155",
   "metadata": {},
   "source": [
    "#### Classification Modeling"
   ]
  },
  {
   "cell_type": "code",
   "execution_count": 12,
   "id": "5dacc387-1c20-49d3-8449-509ea420fe17",
   "metadata": {},
   "outputs": [
    {
     "data": {
      "text/plain": [
       "0"
      ]
     },
     "execution_count": 12,
     "metadata": {},
     "output_type": "execute_result"
    }
   ],
   "source": [
    "#confirm no nulls \n",
    "df.isnull().sum().sum()"
   ]
  },
  {
   "cell_type": "code",
   "execution_count": 14,
   "id": "85ae1c4b-607d-42fe-90d6-0a0e9f11295c",
   "metadata": {},
   "outputs": [],
   "source": [
    "X = df.drop(columns=['citations','fulltext','log_citations'])\n",
    "y = df['citations']"
   ]
  },
  {
   "cell_type": "code",
   "execution_count": 15,
   "id": "3ca8f4c9-2233-4c1e-8e47-5bcf9476b0f0",
   "metadata": {},
   "outputs": [],
   "source": [
    "#train-test split\n",
    "X_train, X_test, y_train, y_test=train_test_split(X,\n",
    "                                                 y,\n",
    "                                                 test_size=.2,\n",
    "                                                  stratify=y,\n",
    "                                                 random_state=42)"
   ]
  },
  {
   "cell_type": "markdown",
   "id": "2addc33d-0830-4c71-8042-1d23084b81c1",
   "metadata": {},
   "source": [
    "#### Run Through Classifiers"
   ]
  },
  {
   "cell_type": "code",
   "execution_count": 16,
   "id": "829b8b1a-a600-4a79-8cd8-c55ec5e5e227",
   "metadata": {},
   "outputs": [],
   "source": [
    "model_list = [\n",
    "    LogisticRegression(),\n",
    "    DecisionTreeClassifier(),\n",
    "    BaggingClassifier(),\n",
    "    RandomForestClassifier(),\n",
    "    AdaBoostClassifier(),\n",
    "    SVC(),\n",
    "    BernoulliNB()\n",
    "]\n",
    "\n",
    "results_list = []\n",
    "\n",
    "for model_obj in model_list:\n",
    "    #instantiate each model \n",
    "    model = model_obj\n",
    "   \n",
    "    #fit the model\n",
    "    model.fit(X_train, y_train) \n",
    "  \n",
    "    #create a dictionary with scores and evaluation metrics for each model\n",
    "    results_dict = {}    \n",
    "    results_dict['model_name'] = str(model_obj)\n",
    "    results_dict['train_score'] = model.score(X_train, y_train)\n",
    "    results_dict['test_score'] = model.score(X_test, y_test)\n",
    "    results_dict['cv_score'] = cross_val_score(model, X_train, y_train, cv = 5).mean()\n",
    "    results_dict['precision_score'] = precision_score(y_test, model.predict(X_test))\n",
    "    results_dict['train_f1_score'] = f1_score(y_train, model.predict(X_train))  \n",
    "    results_dict['test_f1_score'] = f1_score(y_test, model.predict(X_test))  \n",
    "    \n",
    "    #add the dictionary to the list\n",
    "    results_list.append(results_dict)"
   ]
  },
  {
   "cell_type": "code",
   "execution_count": 17,
   "id": "fe32dc2b-8fb4-4be3-85a0-54ce00f7d521",
   "metadata": {},
   "outputs": [
    {
     "data": {
      "text/html": [
       "<div>\n",
       "<style scoped>\n",
       "    .dataframe tbody tr th:only-of-type {\n",
       "        vertical-align: middle;\n",
       "    }\n",
       "\n",
       "    .dataframe tbody tr th {\n",
       "        vertical-align: top;\n",
       "    }\n",
       "\n",
       "    .dataframe thead th {\n",
       "        text-align: right;\n",
       "    }\n",
       "</style>\n",
       "<table border=\"1\" class=\"dataframe\">\n",
       "  <thead>\n",
       "    <tr style=\"text-align: right;\">\n",
       "      <th></th>\n",
       "      <th>model_name</th>\n",
       "      <th>train_score</th>\n",
       "      <th>test_score</th>\n",
       "      <th>cv_score</th>\n",
       "      <th>precision_score</th>\n",
       "      <th>train_f1_score</th>\n",
       "      <th>test_f1_score</th>\n",
       "    </tr>\n",
       "  </thead>\n",
       "  <tbody>\n",
       "    <tr>\n",
       "      <th>0</th>\n",
       "      <td>LogisticRegression()</td>\n",
       "      <td>0.713191</td>\n",
       "      <td>0.693654</td>\n",
       "      <td>0.684728</td>\n",
       "      <td>0.409091</td>\n",
       "      <td>0.132450</td>\n",
       "      <td>0.113924</td>\n",
       "    </tr>\n",
       "    <tr>\n",
       "      <th>1</th>\n",
       "      <td>DecisionTreeClassifier()</td>\n",
       "      <td>0.974822</td>\n",
       "      <td>0.601751</td>\n",
       "      <td>0.602639</td>\n",
       "      <td>0.328358</td>\n",
       "      <td>0.956190</td>\n",
       "      <td>0.325926</td>\n",
       "    </tr>\n",
       "    <tr>\n",
       "      <th>2</th>\n",
       "      <td>BaggingClassifier()</td>\n",
       "      <td>0.944718</td>\n",
       "      <td>0.678337</td>\n",
       "      <td>0.664479</td>\n",
       "      <td>0.400000</td>\n",
       "      <td>0.900493</td>\n",
       "      <td>0.230366</td>\n",
       "    </tr>\n",
       "    <tr>\n",
       "      <th>3</th>\n",
       "      <td>RandomForestClassifier()</td>\n",
       "      <td>0.974822</td>\n",
       "      <td>0.684902</td>\n",
       "      <td>0.676519</td>\n",
       "      <td>0.366667</td>\n",
       "      <td>0.956604</td>\n",
       "      <td>0.132530</td>\n",
       "    </tr>\n",
       "    <tr>\n",
       "      <th>4</th>\n",
       "      <td>AdaBoostClassifier()</td>\n",
       "      <td>0.727422</td>\n",
       "      <td>0.678337</td>\n",
       "      <td>0.673235</td>\n",
       "      <td>0.342857</td>\n",
       "      <td>0.229102</td>\n",
       "      <td>0.140351</td>\n",
       "    </tr>\n",
       "    <tr>\n",
       "      <th>5</th>\n",
       "      <td>SVC()</td>\n",
       "      <td>0.705528</td>\n",
       "      <td>0.702407</td>\n",
       "      <td>0.703887</td>\n",
       "      <td>0.000000</td>\n",
       "      <td>0.014652</td>\n",
       "      <td>0.000000</td>\n",
       "    </tr>\n",
       "    <tr>\n",
       "      <th>6</th>\n",
       "      <td>BernoulliNB()</td>\n",
       "      <td>0.717022</td>\n",
       "      <td>0.702407</td>\n",
       "      <td>0.689108</td>\n",
       "      <td>0.500000</td>\n",
       "      <td>0.153846</td>\n",
       "      <td>0.105263</td>\n",
       "    </tr>\n",
       "  </tbody>\n",
       "</table>\n",
       "</div>"
      ],
      "text/plain": [
       "                 model_name  train_score  test_score  cv_score  \\\n",
       "0      LogisticRegression()     0.713191    0.693654  0.684728   \n",
       "1  DecisionTreeClassifier()     0.974822    0.601751  0.602639   \n",
       "2       BaggingClassifier()     0.944718    0.678337  0.664479   \n",
       "3  RandomForestClassifier()     0.974822    0.684902  0.676519   \n",
       "4      AdaBoostClassifier()     0.727422    0.678337  0.673235   \n",
       "5                     SVC()     0.705528    0.702407  0.703887   \n",
       "6             BernoulliNB()     0.717022    0.702407  0.689108   \n",
       "\n",
       "   precision_score  train_f1_score  test_f1_score  \n",
       "0         0.409091        0.132450       0.113924  \n",
       "1         0.328358        0.956190       0.325926  \n",
       "2         0.400000        0.900493       0.230366  \n",
       "3         0.366667        0.956604       0.132530  \n",
       "4         0.342857        0.229102       0.140351  \n",
       "5         0.000000        0.014652       0.000000  \n",
       "6         0.500000        0.153846       0.105263  "
      ]
     },
     "execution_count": 17,
     "metadata": {},
     "output_type": "execute_result"
    }
   ],
   "source": [
    "results = pd.DataFrame(results_list)\n",
    "results"
   ]
  },
  {
   "cell_type": "markdown",
   "id": "53f85f4c-1dd0-4f87-8178-155c7d53a609",
   "metadata": {},
   "source": [
    "None of these models are better than baseline at predicting whether a post will be highly-cited or not."
   ]
  }
 ],
 "metadata": {
  "kernelspec": {
   "display_name": "Python 3",
   "language": "python",
   "name": "python3"
  },
  "language_info": {
   "codemirror_mode": {
    "name": "ipython",
    "version": 3
   },
   "file_extension": ".py",
   "mimetype": "text/x-python",
   "name": "python",
   "nbconvert_exporter": "python",
   "pygments_lexer": "ipython3",
   "version": "3.9.4"
  }
 },
 "nbformat": 4,
 "nbformat_minor": 5
}
