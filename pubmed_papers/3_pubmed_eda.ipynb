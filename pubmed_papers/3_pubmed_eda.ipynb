{
 "cells": [
  {
   "cell_type": "markdown",
   "id": "b7331958-9de7-4a09-9faf-c6253c4b114f",
   "metadata": {},
   "source": [
    "# PubMed Papers: Exploratory Data Analysis"
   ]
  },
  {
   "cell_type": "code",
   "execution_count": 128,
   "id": "a35499cd-8ce6-41f4-9f25-1a75bfcea826",
   "metadata": {},
   "outputs": [],
   "source": [
    "import pandas as pd\n",
    "import numpy as np\n",
    "import matplotlib.pyplot as plt\n",
    "import seaborn as sns\n",
    "\n",
    "import warnings\n",
    "warnings.filterwarnings('ignore')"
   ]
  },
  {
   "cell_type": "code",
   "execution_count": 129,
   "id": "9d27416d-2f7d-4d55-a806-3e3db69ca72f",
   "metadata": {},
   "outputs": [],
   "source": [
    "#read in cleaned file\n",
    "filename = '../data/pubmed_cleaned.csv'"
   ]
  },
  {
   "cell_type": "code",
   "execution_count": 130,
   "id": "0b94663d-3bd1-4c42-86f9-be1608783fb9",
   "metadata": {},
   "outputs": [],
   "source": [
    "df = pd.read_csv(filename)"
   ]
  },
  {
   "cell_type": "code",
   "execution_count": 131,
   "id": "8bcf46cc-874a-4112-82a2-b45b471c2176",
   "metadata": {},
   "outputs": [
    {
     "data": {
      "text/html": [
       "<div>\n",
       "<style scoped>\n",
       "    .dataframe tbody tr th:only-of-type {\n",
       "        vertical-align: middle;\n",
       "    }\n",
       "\n",
       "    .dataframe tbody tr th {\n",
       "        vertical-align: top;\n",
       "    }\n",
       "\n",
       "    .dataframe thead th {\n",
       "        text-align: right;\n",
       "    }\n",
       "</style>\n",
       "<table border=\"1\" class=\"dataframe\">\n",
       "  <thead>\n",
       "    <tr style=\"text-align: right;\">\n",
       "      <th></th>\n",
       "      <th>pmid</th>\n",
       "      <th>title</th>\n",
       "      <th>text</th>\n",
       "      <th>date</th>\n",
       "      <th>citations</th>\n",
       "    </tr>\n",
       "  </thead>\n",
       "  <tbody>\n",
       "    <tr>\n",
       "      <th>0</th>\n",
       "      <td>32416782</td>\n",
       "      <td>Artificial intelligence and the future of glob...</td>\n",
       "      <td>Concurrent advances in information technology ...</td>\n",
       "      <td>2020-05-01</td>\n",
       "      <td>10</td>\n",
       "    </tr>\n",
       "    <tr>\n",
       "      <th>1</th>\n",
       "      <td>32414188</td>\n",
       "      <td>Future Is Unlicensed: Private 5G Unlicensed Ne...</td>\n",
       "      <td>This paper aims to unlock the unlicensed band ...</td>\n",
       "      <td>2020-05-01</td>\n",
       "      <td>0</td>\n",
       "    </tr>\n",
       "    <tr>\n",
       "      <th>2</th>\n",
       "      <td>32413821</td>\n",
       "      <td>A review of modern technologies for tackling C...</td>\n",
       "      <td>Objective:                    Science and tech...</td>\n",
       "      <td>2020-08-01</td>\n",
       "      <td>23</td>\n",
       "    </tr>\n",
       "    <tr>\n",
       "      <th>3</th>\n",
       "      <td>32411818</td>\n",
       "      <td>Report on computational assessment of Tumor In...</td>\n",
       "      <td>Assessment of tumor-infiltrating lymphocytes (...</td>\n",
       "      <td>2020-05-01</td>\n",
       "      <td>3</td>\n",
       "    </tr>\n",
       "    <tr>\n",
       "      <th>4</th>\n",
       "      <td>32410553</td>\n",
       "      <td>Application of Artificial Intelligence in Phar...</td>\n",
       "      <td>Background:                    Artificial inte...</td>\n",
       "      <td>2020-06-01</td>\n",
       "      <td>0</td>\n",
       "    </tr>\n",
       "  </tbody>\n",
       "</table>\n",
       "</div>"
      ],
      "text/plain": [
       "       pmid                                              title  \\\n",
       "0  32416782  Artificial intelligence and the future of glob...   \n",
       "1  32414188  Future Is Unlicensed: Private 5G Unlicensed Ne...   \n",
       "2  32413821  A review of modern technologies for tackling C...   \n",
       "3  32411818  Report on computational assessment of Tumor In...   \n",
       "4  32410553  Application of Artificial Intelligence in Phar...   \n",
       "\n",
       "                                                text        date  citations  \n",
       "0  Concurrent advances in information technology ...  2020-05-01         10  \n",
       "1  This paper aims to unlock the unlicensed band ...  2020-05-01          0  \n",
       "2  Objective:                    Science and tech...  2020-08-01         23  \n",
       "3  Assessment of tumor-infiltrating lymphocytes (...  2020-05-01          3  \n",
       "4  Background:                    Artificial inte...  2020-06-01          0  "
      ]
     },
     "execution_count": 131,
     "metadata": {},
     "output_type": "execute_result"
    }
   ],
   "source": [
    "df.head() "
   ]
  },
  {
   "cell_type": "code",
   "execution_count": 132,
   "id": "46c93a01-4f16-4c33-acac-21d5b0636141",
   "metadata": {},
   "outputs": [
    {
     "name": "stdout",
     "output_type": "stream",
     "text": [
      "<class 'pandas.core.frame.DataFrame'>\n",
      "RangeIndex: 2986 entries, 0 to 2985\n",
      "Data columns (total 5 columns):\n",
      " #   Column     Non-Null Count  Dtype \n",
      "---  ------     --------------  ----- \n",
      " 0   pmid       2986 non-null   int64 \n",
      " 1   title      2986 non-null   object\n",
      " 2   text       2986 non-null   object\n",
      " 3   date       2986 non-null   object\n",
      " 4   citations  2986 non-null   int64 \n",
      "dtypes: int64(2), object(3)\n",
      "memory usage: 116.8+ KB\n"
     ]
    }
   ],
   "source": [
    "df.info()"
   ]
  },
  {
   "cell_type": "code",
   "execution_count": 133,
   "id": "6a97d9da-d2bc-4b51-9118-a4e1f4f62b92",
   "metadata": {},
   "outputs": [
    {
     "data": {
      "text/plain": [
       "pmid         0\n",
       "title        0\n",
       "text         0\n",
       "date         0\n",
       "citations    0\n",
       "dtype: int64"
      ]
     },
     "execution_count": 133,
     "metadata": {},
     "output_type": "execute_result"
    }
   ],
   "source": [
    "df.isnull().sum()"
   ]
  },
  {
   "cell_type": "code",
   "execution_count": 134,
   "id": "ef9cb657-c782-4b6c-b24d-7363f1835e68",
   "metadata": {},
   "outputs": [
    {
     "data": {
      "text/plain": [
       "0"
      ]
     },
     "execution_count": 134,
     "metadata": {},
     "output_type": "execute_result"
    }
   ],
   "source": [
    "df.duplicated().sum()"
   ]
  },
  {
   "cell_type": "markdown",
   "id": "a9afd606-6e23-4756-888c-ca349eb480e4",
   "metadata": {},
   "source": [
    "#### Explore Proposed Target Variable: 'citations'"
   ]
  },
  {
   "cell_type": "code",
   "execution_count": 135,
   "id": "f1c2d6d4-10cd-4489-b4be-f8f8b742f1e1",
   "metadata": {},
   "outputs": [
    {
     "data": {
      "text/plain": [
       "704"
      ]
     },
     "execution_count": 135,
     "metadata": {},
     "output_type": "execute_result"
    }
   ],
   "source": [
    "max(df['citations'])"
   ]
  },
  {
   "cell_type": "code",
   "execution_count": 136,
   "id": "3653b72c-fb98-4ee2-b8f4-569b2312e910",
   "metadata": {},
   "outputs": [
    {
     "data": {
      "image/png": "[encoded data removed]",
      "text/plain": [
       "<Figure size 1440x720 with 1 Axes>"
      ]
     },
     "metadata": {
      "needs_background": "light"
     },
     "output_type": "display_data"
    }
   ],
   "source": [
    "#Look at the distribution of the citation counts\n",
    "plt.figure(figsize = (20, 10));\n",
    "sns.histplot(data=df, x='citations', color='orangered');\n",
    "figurefont = {'fontname' : 'Futura'};\n",
    "plt.title('Distribution of Citation Counts', fontsize = 24,**figurefont );\n",
    "plt.xticks(**figurefont, fontsize = 20);\n",
    "plt.yticks(**figurefont, fontsize = 20);\n",
    "plt.xlabel('Number of Citations',**figurefont, fontsize = 20);\n",
    "plt.ylabel('Count',**figurefont, fontsize = 20);\n",
    "plt.xlim(0,max(df['citations']))\n",
    "plt.savefig('../figures/pubmed_citations_histplot.jpg',  bbox_inches = \"tight\")"
   ]
  },
  {
   "cell_type": "code",
   "execution_count": 137,
   "id": "15151e17-d60a-42f9-9f03-f75da343499f",
   "metadata": {},
   "outputs": [
    {
     "data": {
      "image/png": "[encoded data removed]",
      "text/plain": [
       "<Figure size 1440x720 with 1 Axes>"
      ]
     },
     "metadata": {
      "needs_background": "light"
     },
     "output_type": "display_data"
    }
   ],
   "source": [
    "#Zoom in on 0-200 at the distribution of the citation counts\n",
    "plt.figure(figsize = (20, 10));\n",
    "figurefont = {'fontname' : 'Futura'};\n",
    "plt.title('Distribution of Citation Counts', fontsize = 24,**figurefont );\n",
    "plt.xticks(**figurefont, fontsize = 20);\n",
    "plt.yticks(**figurefont, fontsize = 20);\n",
    "plt.xlabel('Number of Citations',**figurefont, fontsize = 20);\n",
    "plt.ylabel('Count',**figurefont, fontsize = 20);\n",
    "plt.xlim(0,201)\n",
    "sns.histplot(data=df, x='citations', color='orangered');\n",
    "plt.savefig('../figures/pubmed_citations_histplot_zoom.jpg',  bbox_inches = \"tight\")"
   ]
  },
  {
   "cell_type": "code",
   "execution_count": 138,
   "id": "9595e8f1-81bf-4003-bd0d-f6de97148ff3",
   "metadata": {},
   "outputs": [
    {
     "data": {
      "text/plain": [
       "9.098907965034183"
      ]
     },
     "execution_count": 138,
     "metadata": {},
     "output_type": "execute_result"
    }
   ],
   "source": [
    "#the target variable is highly right-skewed\n",
    "df['citations'].skew()"
   ]
  },
  {
   "cell_type": "markdown",
   "id": "da4e4729-60b8-4441-b43b-c8e82f99f47d",
   "metadata": {},
   "source": [
    "### Explore Log of Citations"
   ]
  },
  {
   "cell_type": "code",
   "execution_count": 139,
   "id": "75a6bf51-1d47-4d80-9ec7-b642b1668b60",
   "metadata": {},
   "outputs": [],
   "source": [
    "#Explore log of citations\n",
    "df_log = df.copy()\n",
    "df_log['log_citations'] = np.log(df_log['citations'])\n",
    "\n",
    "\n",
    "#removing null or infinite values\n",
    "df_log = df_log[np.isfinite(df_log['log_citations'])]\n"
   ]
  },
  {
   "cell_type": "code",
   "execution_count": 140,
   "id": "bfec866d-1f27-4520-8c38-ee8ec0ce851a",
   "metadata": {},
   "outputs": [
    {
     "data": {
      "text/plain": [
       "(2447, 6)"
      ]
     },
     "execution_count": 140,
     "metadata": {},
     "output_type": "execute_result"
    }
   ],
   "source": [
    "df_log.shape"
   ]
  },
  {
   "cell_type": "markdown",
   "id": "ed3fb16f-9611-4b4f-8805-da6b5bcadd76",
   "metadata": {},
   "source": [
    "Lost a lot of data here...."
   ]
  },
  {
   "cell_type": "code",
   "execution_count": 141,
   "id": "e063a354-ea14-4577-9d2d-027f9223eb0d",
   "metadata": {},
   "outputs": [
    {
     "data": {
      "text/plain": [
       "0"
      ]
     },
     "execution_count": 141,
     "metadata": {},
     "output_type": "execute_result"
    }
   ],
   "source": [
    "(df_log['citations'] == 0).sum()"
   ]
  },
  {
   "cell_type": "markdown",
   "id": "4c8587ca-b6f3-4f08-94bb-246e93744573",
   "metadata": {},
   "source": [
    "Ah - that's right - can't calculate the log of 0; so we're losing all of the abstracts with no citations. Not going to work for this purpose. Back to the df; I'll address my skew issues in other ways."
   ]
  },
  {
   "cell_type": "markdown",
   "id": "77089d20-ecf0-4e39-b3b9-d00a1d148b08",
   "metadata": {},
   "source": [
    "### Explore Relationships with Target Variable"
   ]
  },
  {
   "cell_type": "code",
   "execution_count": 142,
   "id": "6afa2d0f-b8b8-4fe7-85e0-8acde53dce23",
   "metadata": {},
   "outputs": [
    {
     "data": {
      "text/html": [
       "<div>\n",
       "<style scoped>\n",
       "    .dataframe tbody tr th:only-of-type {\n",
       "        vertical-align: middle;\n",
       "    }\n",
       "\n",
       "    .dataframe tbody tr th {\n",
       "        vertical-align: top;\n",
       "    }\n",
       "\n",
       "    .dataframe thead th {\n",
       "        text-align: right;\n",
       "    }\n",
       "</style>\n",
       "<table border=\"1\" class=\"dataframe\">\n",
       "  <thead>\n",
       "    <tr style=\"text-align: right;\">\n",
       "      <th></th>\n",
       "      <th>pmid</th>\n",
       "      <th>citations</th>\n",
       "    </tr>\n",
       "  </thead>\n",
       "  <tbody>\n",
       "    <tr>\n",
       "      <th>count</th>\n",
       "      <td>2.986000e+03</td>\n",
       "      <td>2986.000000</td>\n",
       "    </tr>\n",
       "    <tr>\n",
       "      <th>mean</th>\n",
       "      <td>3.034788e+07</td>\n",
       "      <td>11.797053</td>\n",
       "    </tr>\n",
       "    <tr>\n",
       "      <th>std</th>\n",
       "      <td>2.748997e+06</td>\n",
       "      <td>29.680358</td>\n",
       "    </tr>\n",
       "    <tr>\n",
       "      <th>min</th>\n",
       "      <td>1.996910e+07</td>\n",
       "      <td>0.000000</td>\n",
       "    </tr>\n",
       "    <tr>\n",
       "      <th>25%</th>\n",
       "      <td>2.936660e+07</td>\n",
       "      <td>1.000000</td>\n",
       "    </tr>\n",
       "    <tr>\n",
       "      <th>50%</th>\n",
       "      <td>3.115368e+07</td>\n",
       "      <td>4.000000</td>\n",
       "    </tr>\n",
       "    <tr>\n",
       "      <th>75%</th>\n",
       "      <td>3.232295e+07</td>\n",
       "      <td>11.000000</td>\n",
       "    </tr>\n",
       "    <tr>\n",
       "      <th>max</th>\n",
       "      <td>3.394824e+07</td>\n",
       "      <td>704.000000</td>\n",
       "    </tr>\n",
       "  </tbody>\n",
       "</table>\n",
       "</div>"
      ],
      "text/plain": [
       "               pmid    citations\n",
       "count  2.986000e+03  2986.000000\n",
       "mean   3.034788e+07    11.797053\n",
       "std    2.748997e+06    29.680358\n",
       "min    1.996910e+07     0.000000\n",
       "25%    2.936660e+07     1.000000\n",
       "50%    3.115368e+07     4.000000\n",
       "75%    3.232295e+07    11.000000\n",
       "max    3.394824e+07   704.000000"
      ]
     },
     "execution_count": 142,
     "metadata": {},
     "output_type": "execute_result"
    }
   ],
   "source": [
    "df.describe()"
   ]
  },
  {
   "cell_type": "markdown",
   "id": "f3d4bbed-a97e-4f56-89de-82249c562d81",
   "metadata": {},
   "source": [
    "#### Is the length of the abstract correlated with the target variable?"
   ]
  },
  {
   "cell_type": "code",
   "execution_count": 143,
   "id": "ac38b65d-3cd3-4f66-a7e1-a774957a5c98",
   "metadata": {},
   "outputs": [
    {
     "data": {
      "text/plain": [
       "-0.0338319421494336"
      ]
     },
     "execution_count": 143,
     "metadata": {},
     "output_type": "execute_result"
    }
   ],
   "source": [
    "#check out some preliminary correlations\n",
    "df['len_text']=df['text'].apply(len)\n",
    "df['citations'].corr(df['len_text'])"
   ]
  },
  {
   "cell_type": "markdown",
   "id": "d8195e53-14a1-4972-8260-74713a12843b",
   "metadata": {},
   "source": [
    "No correlation here. "
   ]
  },
  {
   "cell_type": "code",
   "execution_count": 144,
   "id": "e7052ca0-79ce-474b-b5a8-1b3ad84b33c1",
   "metadata": {},
   "outputs": [
    {
     "data": {
      "text/plain": [
       "-0.10401146061438526"
      ]
     },
     "execution_count": 144,
     "metadata": {},
     "output_type": "execute_result"
    }
   ],
   "source": [
    "#check out some preliminary correlations\n",
    "df['len_title']=df['title'].apply(len)\n",
    "df['citations'].corr(df['len_title'])"
   ]
  },
  {
   "cell_type": "markdown",
   "id": "bab81b99-f69d-4685-95b1-b875cabcb1c8",
   "metadata": {},
   "source": [
    "Citations do not appear correlated with the length of the title."
   ]
  },
  {
   "cell_type": "markdown",
   "id": "672d87e3-1ba4-444e-8be4-e5a044a846d2",
   "metadata": {},
   "source": [
    "### Is there an effect of time on # of citations?"
   ]
  },
  {
   "cell_type": "code",
   "execution_count": 145,
   "id": "256a6bd2-494d-4a53-8db4-0a0abc48709e",
   "metadata": {},
   "outputs": [],
   "source": [
    "# convert date column to datetime object\n",
    "df['date'] = pd.to_datetime(df['date'])"
   ]
  },
  {
   "cell_type": "code",
   "execution_count": 146,
   "id": "7848e224-48e7-4061-a317-b3cc6bb5317f",
   "metadata": {},
   "outputs": [],
   "source": [
    "#sort the df in reverse chronological order\n",
    "df.sort_values('date', inplace=True)"
   ]
  },
  {
   "cell_type": "code",
   "execution_count": 147,
   "id": "93b1c69f-206b-45af-881b-81c3551054d1",
   "metadata": {},
   "outputs": [],
   "source": [
    "# create a new column that shows how long the posts had been live as of when they were pulled\n",
    "\n",
    "df['days_live'] = (pd.to_datetime('2021-05-08') - df['date']).dt.days"
   ]
  },
  {
   "cell_type": "code",
   "execution_count": 148,
   "id": "de2bff25-ed15-49c7-9bcf-5b4aaca730c4",
   "metadata": {},
   "outputs": [
    {
     "data": {
      "text/plain": [
       "0.31848997870910084"
      ]
     },
     "execution_count": 148,
     "metadata": {},
     "output_type": "execute_result"
    }
   ],
   "source": [
    "# look at the correlation \n",
    "df['citations'].corr(df['days_live'])"
   ]
  },
  {
   "cell_type": "markdown",
   "id": "f98cc523-3acb-4f8c-8c36-91c34aeacb18",
   "metadata": {},
   "source": [
    "There does appear to be a slight positive correlation between the length of time that the article has existed with the number of citations. This makes sense. "
   ]
  },
  {
   "cell_type": "markdown",
   "id": "22a8e568-1b53-4748-8328-616722d4705b",
   "metadata": {},
   "source": [
    "### Remove Outliers"
   ]
  },
  {
   "cell_type": "code",
   "execution_count": 162,
   "id": "062b07e7-3ed8-469b-aaee-0590ce4d806b",
   "metadata": {},
   "outputs": [],
   "source": [
    "#check out outliers (abstracts that are three standard deviations above the mean)"
   ]
  },
  {
   "cell_type": "code",
   "execution_count": 150,
   "id": "b4d680d0-1da2-4995-b04b-c9bb18f4234c",
   "metadata": {},
   "outputs": [],
   "source": [
    "num_columns = ['citations', 'len_text', 'len_title', 'days_live']"
   ]
  },
  {
   "cell_type": "code",
   "execution_count": 151,
   "id": "356fd9b6-e48d-43a5-a008-bb0da75ccf79",
   "metadata": {},
   "outputs": [
    {
     "name": "stdout",
     "output_type": "stream",
     "text": [
      "citations has 50 outliers.\n",
      "len_text has 34 outliers.\n",
      "len_title has 24 outliers.\n",
      "days_live has 69 outliers.\n"
     ]
    }
   ],
   "source": [
    "for col in num_columns: \n",
    "    print(f'{col} has {(df[col] > (df[col].mean()+(3*df[col].std()))).sum()} outliers.')"
   ]
  },
  {
   "cell_type": "code",
   "execution_count": 152,
   "id": "6f3fed8f-d692-48df-bc00-37de4858d27d",
   "metadata": {},
   "outputs": [
    {
     "data": {
      "text/plain": [
       "(2986, 8)"
      ]
     },
     "execution_count": 152,
     "metadata": {},
     "output_type": "execute_result"
    }
   ],
   "source": [
    "df.shape"
   ]
  },
  {
   "cell_type": "code",
   "execution_count": 153,
   "id": "d391ff09-3130-4783-816c-74f9f4b995cf",
   "metadata": {
    "tags": []
   },
   "outputs": [],
   "source": [
    "#drop outliers\n",
    "\n",
    "for col in num_columns:\n",
    "    df = df[(df[col] <= ((df[col].mean())+(3*(df[col].std()))))]"
   ]
  },
  {
   "cell_type": "code",
   "execution_count": 154,
   "id": "88320c54-4ab2-4e1a-8545-1f602d9049cc",
   "metadata": {},
   "outputs": [
    {
     "data": {
      "text/plain": [
       "(2809, 8)"
      ]
     },
     "execution_count": 154,
     "metadata": {},
     "output_type": "execute_result"
    }
   ],
   "source": [
    "df.shape"
   ]
  },
  {
   "cell_type": "code",
   "execution_count": 155,
   "id": "0a92b515-0815-43b4-94f2-9869ec32af1f",
   "metadata": {},
   "outputs": [
    {
     "data": {
      "text/html": [
       "<div>\n",
       "<style scoped>\n",
       "    .dataframe tbody tr th:only-of-type {\n",
       "        vertical-align: middle;\n",
       "    }\n",
       "\n",
       "    .dataframe tbody tr th {\n",
       "        vertical-align: top;\n",
       "    }\n",
       "\n",
       "    .dataframe thead th {\n",
       "        text-align: right;\n",
       "    }\n",
       "</style>\n",
       "<table border=\"1\" class=\"dataframe\">\n",
       "  <thead>\n",
       "    <tr style=\"text-align: right;\">\n",
       "      <th></th>\n",
       "      <th>pmid</th>\n",
       "      <th>citations</th>\n",
       "      <th>len_text</th>\n",
       "      <th>len_title</th>\n",
       "      <th>days_live</th>\n",
       "    </tr>\n",
       "  </thead>\n",
       "  <tbody>\n",
       "    <tr>\n",
       "      <th>count</th>\n",
       "      <td>2.809000e+03</td>\n",
       "      <td>2809.000000</td>\n",
       "      <td>2809.000000</td>\n",
       "      <td>2809.00000</td>\n",
       "      <td>2809.000000</td>\n",
       "    </tr>\n",
       "    <tr>\n",
       "      <th>mean</th>\n",
       "      <td>3.061512e+07</td>\n",
       "      <td>8.692417</td>\n",
       "      <td>1329.957992</td>\n",
       "      <td>83.40121</td>\n",
       "      <td>839.709505</td>\n",
       "    </tr>\n",
       "    <tr>\n",
       "      <th>std</th>\n",
       "      <td>2.352070e+06</td>\n",
       "      <td>14.176571</td>\n",
       "      <td>464.415876</td>\n",
       "      <td>28.45909</td>\n",
       "      <td>655.015418</td>\n",
       "    </tr>\n",
       "    <tr>\n",
       "      <th>min</th>\n",
       "      <td>2.207523e+07</td>\n",
       "      <td>0.000000</td>\n",
       "      <td>17.000000</td>\n",
       "      <td>12.00000</td>\n",
       "      <td>158.000000</td>\n",
       "    </tr>\n",
       "    <tr>\n",
       "      <th>25%</th>\n",
       "      <td>2.961473e+07</td>\n",
       "      <td>1.000000</td>\n",
       "      <td>1000.000000</td>\n",
       "      <td>63.00000</td>\n",
       "      <td>341.000000</td>\n",
       "    </tr>\n",
       "    <tr>\n",
       "      <th>50%</th>\n",
       "      <td>3.124898e+07</td>\n",
       "      <td>3.000000</td>\n",
       "      <td>1292.000000</td>\n",
       "      <td>81.00000</td>\n",
       "      <td>646.000000</td>\n",
       "    </tr>\n",
       "    <tr>\n",
       "      <th>75%</th>\n",
       "      <td>3.235154e+07</td>\n",
       "      <td>10.000000</td>\n",
       "      <td>1639.000000</td>\n",
       "      <td>101.00000</td>\n",
       "      <td>1072.000000</td>\n",
       "    </tr>\n",
       "    <tr>\n",
       "      <th>max</th>\n",
       "      <td>3.394824e+07</td>\n",
       "      <td>99.000000</td>\n",
       "      <td>2874.000000</td>\n",
       "      <td>173.00000</td>\n",
       "      <td>3233.000000</td>\n",
       "    </tr>\n",
       "  </tbody>\n",
       "</table>\n",
       "</div>"
      ],
      "text/plain": [
       "               pmid    citations     len_text   len_title    days_live\n",
       "count  2.809000e+03  2809.000000  2809.000000  2809.00000  2809.000000\n",
       "mean   3.061512e+07     8.692417  1329.957992    83.40121   839.709505\n",
       "std    2.352070e+06    14.176571   464.415876    28.45909   655.015418\n",
       "min    2.207523e+07     0.000000    17.000000    12.00000   158.000000\n",
       "25%    2.961473e+07     1.000000  1000.000000    63.00000   341.000000\n",
       "50%    3.124898e+07     3.000000  1292.000000    81.00000   646.000000\n",
       "75%    3.235154e+07    10.000000  1639.000000   101.00000  1072.000000\n",
       "max    3.394824e+07    99.000000  2874.000000   173.00000  3233.000000"
      ]
     },
     "execution_count": 155,
     "metadata": {},
     "output_type": "execute_result"
    }
   ],
   "source": [
    "df.describe()"
   ]
  },
  {
   "cell_type": "code",
   "execution_count": 163,
   "id": "34c496f0-25da-4272-bf7e-5769d20b5c75",
   "metadata": {},
   "outputs": [
    {
     "data": {
      "image/png": "[encoded data removed]",
      "text/plain": [
       "<Figure size 1440x720 with 1 Axes>"
      ]
     },
     "metadata": {
      "needs_background": "light"
     },
     "output_type": "display_data"
    }
   ],
   "source": [
    "#Look at the distribution of the citation counts\n",
    "plt.figure(figsize = (20, 10));\n",
    "sns.histplot(data=df, x='citations', color='orangered', bins=100);\n",
    "figurefont = {'fontname' : 'Futura'};\n",
    "plt.title('Distribution of Citation Counts', fontsize = 24,**figurefont );\n",
    "plt.xticks(**figurefont, fontsize = 20);\n",
    "plt.yticks(**figurefont, fontsize = 20);\n",
    "plt.xlabel('Number of Citations',**figurefont, fontsize = 20);\n",
    "plt.ylabel('Count',**figurefont, fontsize = 20);\n",
    "plt.xlim(0,max(df['citations']))\n",
    "plt.savefig('../figures/pubmed_citations_histplot_no_outliers.jpg',  bbox_inches = \"tight\")"
   ]
  },
  {
   "cell_type": "markdown",
   "id": "8fef8c65-6cad-4e6e-b9e0-0e0150e976c0",
   "metadata": {},
   "source": [
    "### Can we establish a \"highly-cited\" category?"
   ]
  },
  {
   "cell_type": "code",
   "execution_count": 157,
   "id": "3215654b-8320-474b-8f7e-fc1ac139d32f",
   "metadata": {},
   "outputs": [
    {
     "data": {
      "text/plain": [
       "286"
      ]
     },
     "execution_count": 157,
     "metadata": {},
     "output_type": "execute_result"
    }
   ],
   "source": [
    "#if I want to turn this into a clf problem and use all posts with citations greater than 1 std above the mean....\n",
    "sum(df['citations'] > df['citations'].mean() + df['citations'].std())"
   ]
  },
  {
   "cell_type": "markdown",
   "id": "88f3aa10-928a-4405-8b3f-2f93b47d027a",
   "metadata": {},
   "source": [
    "It's only about 10% of the data....I might need to adjust my criterion a bit. "
   ]
  },
  {
   "cell_type": "code",
   "execution_count": 158,
   "id": "444303ad-2296-4427-8f83-69d927cf2b73",
   "metadata": {},
   "outputs": [
    {
     "data": {
      "text/plain": [
       "678"
      ]
     },
     "execution_count": 158,
     "metadata": {},
     "output_type": "execute_result"
    }
   ],
   "source": [
    "#if I want to turn this into a clf problem and use all posts with citations greater than 1 std above the mean....\n",
    "sum(df['citations'] > 10)"
   ]
  },
  {
   "cell_type": "markdown",
   "id": "085ca198-a4bb-47c6-868d-214c87a1c9cc",
   "metadata": {},
   "source": [
    "The 75% threshold is 10, so that seems reasonable. Top quartile of articles. "
   ]
  },
  {
   "cell_type": "code",
   "execution_count": 159,
   "id": "2329d683-3495-4a69-bc7e-2bdb1e369360",
   "metadata": {},
   "outputs": [
    {
     "data": {
      "text/plain": [
       "3.260109719319966"
      ]
     },
     "execution_count": 159,
     "metadata": {},
     "output_type": "execute_result"
    }
   ],
   "source": [
    "df['citations'].skew()"
   ]
  },
  {
   "cell_type": "markdown",
   "id": "38205626-2917-4f33-a818-1bf3270885e3",
   "metadata": {},
   "source": [
    "The skew has improved without the outliers. "
   ]
  },
  {
   "cell_type": "code",
   "execution_count": 160,
   "id": "e451c4fa-748a-4aef-83d2-126b7a6d8287",
   "metadata": {},
   "outputs": [],
   "source": [
    "df.to_csv('../data/pubmed_cleaned_no_outliers.csv')"
   ]
  }
 ],
 "metadata": {
  "kernelspec": {
   "display_name": "Python 3",
   "language": "python",
   "name": "python3"
  },
  "language_info": {
   "codemirror_mode": {
    "name": "ipython",
    "version": 3
   },
   "file_extension": ".py",
   "mimetype": "text/x-python",
   "name": "python",
   "nbconvert_exporter": "python",
   "pygments_lexer": "ipython3",
   "version": "3.9.4"
  }
 },
 "nbformat": 4,
 "nbformat_minor": 5
}
