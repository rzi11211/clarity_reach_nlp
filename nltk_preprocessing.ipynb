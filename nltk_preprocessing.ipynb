{
 "cells": [
  {
   "cell_type": "markdown",
   "id": "666e94a9-af75-44a4-98e1-6248270bc81b",
   "metadata": {},
   "source": [
    "# Preprocessing Cleaned TDS Data for NLP Analysis \n",
    "### *Claps as Target Variable*"
   ]
  },
  {
   "cell_type": "code",
   "execution_count": 1,
   "id": "a35499cd-8ce6-41f4-9f25-1a75bfcea826",
   "metadata": {},
   "outputs": [],
   "source": [
    "import pandas as pd\n",
    "import numpy as np\n",
    "\n",
    "\n",
    "#nlp\n",
    "import nltk\n",
    "from nltk.tokenize import word_tokenize, RegexpTokenizer, WhitespaceTokenizer\n",
    "from nltk.corpus import stopwords\n",
    "from nltk.stem import WordNetLemmatizer, PorterStemmer\n",
    "from sklearn.feature_extraction import text\n",
    "import re\n",
    "\n",
    "import warnings\n",
    "warnings.filterwarnings('ignore')"
   ]
  },
  {
   "cell_type": "code",
   "execution_count": 2,
   "id": "f0f23a4f-4531-43b8-b420-1789d14d62dc",
   "metadata": {},
   "outputs": [
    {
     "name": "stderr",
     "output_type": "stream",
     "text": [
      "[nltk_data] Downloading package stopwords to\n",
      "[nltk_data]     /Users/rachelinsler/nltk_data...\n",
      "[nltk_data]   Package stopwords is already up-to-date!\n"
     ]
    },
    {
     "data": {
      "text/plain": [
       "True"
      ]
     },
     "execution_count": 2,
     "metadata": {},
     "output_type": "execute_result"
    }
   ],
   "source": [
    "nltk.download('stopwords')"
   ]
  },
  {
   "cell_type": "code",
   "execution_count": 3,
   "id": "9d27416d-2f7d-4d55-a806-3e3db69ca72f",
   "metadata": {},
   "outputs": [],
   "source": [
    "filename = 'data/cleaned_no_outliers.csv'"
   ]
  },
  {
   "cell_type": "code",
   "execution_count": 4,
   "id": "0b94663d-3bd1-4c42-86f9-be1608783fb9",
   "metadata": {},
   "outputs": [],
   "source": [
    "df = pd.read_csv(filename)"
   ]
  },
  {
   "cell_type": "code",
   "execution_count": 5,
   "id": "8bcf46cc-874a-4112-82a2-b45b471c2176",
   "metadata": {},
   "outputs": [
    {
     "data": {
      "text/html": [
       "<div>\n",
       "<style scoped>\n",
       "    .dataframe tbody tr th:only-of-type {\n",
       "        vertical-align: middle;\n",
       "    }\n",
       "\n",
       "    .dataframe tbody tr th {\n",
       "        vertical-align: top;\n",
       "    }\n",
       "\n",
       "    .dataframe thead th {\n",
       "        text-align: right;\n",
       "    }\n",
       "</style>\n",
       "<table border=\"1\" class=\"dataframe\">\n",
       "  <thead>\n",
       "    <tr style=\"text-align: right;\">\n",
       "      <th></th>\n",
       "      <th>date</th>\n",
       "      <th>title</th>\n",
       "      <th>subtitle</th>\n",
       "      <th>claps</th>\n",
       "      <th>responses</th>\n",
       "      <th>author_url</th>\n",
       "      <th>story_url</th>\n",
       "      <th>reading_time (mins)</th>\n",
       "      <th>number_sections</th>\n",
       "      <th>section_titles</th>\n",
       "      <th>number_paragraphs</th>\n",
       "      <th>paragraphs</th>\n",
       "    </tr>\n",
       "  </thead>\n",
       "  <tbody>\n",
       "    <tr>\n",
       "      <th>0</th>\n",
       "      <td>01/01/2021</td>\n",
       "      <td>The Ultimate Guide to Acing Coding Interviews ...</td>\n",
       "      <td>Data Science Interview</td>\n",
       "      <td>489</td>\n",
       "      <td>4</td>\n",
       "      <td>https://towardsdatascience.com/@emmading</td>\n",
       "      <td>https://towardsdatascience.com/the-ultimate-gu...</td>\n",
       "      <td>11</td>\n",
       "      <td>12</td>\n",
       "      <td>['The Ultimate Guide to Acing Coding Interview...</td>\n",
       "      <td>42</td>\n",
       "      <td>['Emma Ding', 'Jan 1·11 min read', 'Written by...</td>\n",
       "    </tr>\n",
       "    <tr>\n",
       "      <th>1</th>\n",
       "      <td>01/01/2021</td>\n",
       "      <td>Shakespeare versus Eminem— who’s the better ly...</td>\n",
       "      <td>He is known for his poetry, his writings on life…</td>\n",
       "      <td>139</td>\n",
       "      <td>2</td>\n",
       "      <td>https://towardsdatascience.com/@jeroenvanzeeland</td>\n",
       "      <td>https://towardsdatascience.com/shakespeare-ver...</td>\n",
       "      <td>9</td>\n",
       "      <td>13</td>\n",
       "      <td>['Shakespeare versus Eminem—who’s the better l...</td>\n",
       "      <td>64</td>\n",
       "      <td>['Jeroen van Zeeland', 'Jan 1·9 min read', 'Da...</td>\n",
       "    </tr>\n",
       "    <tr>\n",
       "      <th>2</th>\n",
       "      <td>01/01/2021</td>\n",
       "      <td>Implementing VisualTtransformer in PyTorch</td>\n",
       "      <td>Hi guys, happy new year! Today we are going to...</td>\n",
       "      <td>133</td>\n",
       "      <td>2</td>\n",
       "      <td>https://towardsdatascience.com/@FrancescoZ</td>\n",
       "      <td>https://towardsdatascience.com/implementing-vi...</td>\n",
       "      <td>6</td>\n",
       "      <td>6</td>\n",
       "      <td>['Implementing Vision Transformer (ViT) in PyT...</td>\n",
       "      <td>60</td>\n",
       "      <td>['Francesco Zuppichini', 'Jan 1·6 min read', '...</td>\n",
       "    </tr>\n",
       "    <tr>\n",
       "      <th>3</th>\n",
       "      <td>01/01/2021</td>\n",
       "      <td>Stock Price Analysis with Pandas and Altair</td>\n",
       "      <td>Practical guide for Pandas and Altair</td>\n",
       "      <td>92</td>\n",
       "      <td>0 responses</td>\n",
       "      <td>https://towardsdatascience.com/@sonery</td>\n",
       "      <td>https://towardsdatascience.com/stock-price-ana...</td>\n",
       "      <td>5</td>\n",
       "      <td>1</td>\n",
       "      <td>['Stock Price Analysis with Pandas and Altair']</td>\n",
       "      <td>29</td>\n",
       "      <td>['Soner Yıldırım', 'Jan 1·5 min read', 'Stock ...</td>\n",
       "    </tr>\n",
       "    <tr>\n",
       "      <th>4</th>\n",
       "      <td>01/01/2021</td>\n",
       "      <td>Optimal Threshold for Imbalanced Classification</td>\n",
       "      <td>Hands-on Tutorial</td>\n",
       "      <td>58</td>\n",
       "      <td>1</td>\n",
       "      <td>https://towardsdatascience.com/@audhiaprilliant</td>\n",
       "      <td>https://towardsdatascience.com/optimal-thresho...</td>\n",
       "      <td>9</td>\n",
       "      <td>1</td>\n",
       "      <td>['Optimal Threshold for Imbalanced Classificat...</td>\n",
       "      <td>40</td>\n",
       "      <td>['Audhi Aprilliant', 'Jan 1·9 min read', 'Clas...</td>\n",
       "    </tr>\n",
       "  </tbody>\n",
       "</table>\n",
       "</div>"
      ],
      "text/plain": [
       "         date                                              title  \\\n",
       "0  01/01/2021  The Ultimate Guide to Acing Coding Interviews ...   \n",
       "1  01/01/2021  Shakespeare versus Eminem— who’s the better ly...   \n",
       "2  01/01/2021         Implementing VisualTtransformer in PyTorch   \n",
       "3  01/01/2021        Stock Price Analysis with Pandas and Altair   \n",
       "4  01/01/2021    Optimal Threshold for Imbalanced Classification   \n",
       "\n",
       "                                            subtitle  claps    responses  \\\n",
       "0                             Data Science Interview    489            4   \n",
       "1  He is known for his poetry, his writings on life…    139            2   \n",
       "2  Hi guys, happy new year! Today we are going to...    133            2   \n",
       "3              Practical guide for Pandas and Altair     92  0 responses   \n",
       "4                                  Hands-on Tutorial     58            1   \n",
       "\n",
       "                                         author_url  \\\n",
       "0          https://towardsdatascience.com/@emmading   \n",
       "1  https://towardsdatascience.com/@jeroenvanzeeland   \n",
       "2        https://towardsdatascience.com/@FrancescoZ   \n",
       "3            https://towardsdatascience.com/@sonery   \n",
       "4   https://towardsdatascience.com/@audhiaprilliant   \n",
       "\n",
       "                                           story_url  reading_time (mins)  \\\n",
       "0  https://towardsdatascience.com/the-ultimate-gu...                   11   \n",
       "1  https://towardsdatascience.com/shakespeare-ver...                    9   \n",
       "2  https://towardsdatascience.com/implementing-vi...                    6   \n",
       "3  https://towardsdatascience.com/stock-price-ana...                    5   \n",
       "4  https://towardsdatascience.com/optimal-thresho...                    9   \n",
       "\n",
       "   number_sections                                     section_titles  \\\n",
       "0               12  ['The Ultimate Guide to Acing Coding Interview...   \n",
       "1               13  ['Shakespeare versus Eminem—who’s the better l...   \n",
       "2                6  ['Implementing Vision Transformer (ViT) in PyT...   \n",
       "3                1    ['Stock Price Analysis with Pandas and Altair']   \n",
       "4                1  ['Optimal Threshold for Imbalanced Classificat...   \n",
       "\n",
       "   number_paragraphs                                         paragraphs  \n",
       "0                 42  ['Emma Ding', 'Jan 1·11 min read', 'Written by...  \n",
       "1                 64  ['Jeroen van Zeeland', 'Jan 1·9 min read', 'Da...  \n",
       "2                 60  ['Francesco Zuppichini', 'Jan 1·6 min read', '...  \n",
       "3                 29  ['Soner Yıldırım', 'Jan 1·5 min read', 'Stock ...  \n",
       "4                 40  ['Audhi Aprilliant', 'Jan 1·9 min read', 'Clas...  "
      ]
     },
     "execution_count": 5,
     "metadata": {},
     "output_type": "execute_result"
    }
   ],
   "source": [
    "df.head()"
   ]
  },
  {
   "cell_type": "code",
   "execution_count": 6,
   "id": "61bb72ae-7d13-400e-9a21-f4500e6bb500",
   "metadata": {},
   "outputs": [
    {
     "data": {
      "text/plain": [
       "Index(['date', 'title', 'subtitle', 'claps', 'responses', 'author_url',\n",
       "       'story_url', 'reading_time (mins)', 'number_sections', 'section_titles',\n",
       "       'number_paragraphs', 'paragraphs'],\n",
       "      dtype='object')"
      ]
     },
     "execution_count": 6,
     "metadata": {},
     "output_type": "execute_result"
    }
   ],
   "source": [
    "df.columns"
   ]
  },
  {
   "cell_type": "code",
   "execution_count": 7,
   "id": "46c93a01-4f16-4c33-acac-21d5b0636141",
   "metadata": {},
   "outputs": [
    {
     "name": "stdout",
     "output_type": "stream",
     "text": [
      "<class 'pandas.core.frame.DataFrame'>\n",
      "RangeIndex: 9290 entries, 0 to 9289\n",
      "Data columns (total 12 columns):\n",
      " #   Column               Non-Null Count  Dtype \n",
      "---  ------               --------------  ----- \n",
      " 0   date                 9290 non-null   object\n",
      " 1   title                9290 non-null   object\n",
      " 2   subtitle             9290 non-null   object\n",
      " 3   claps                9290 non-null   int64 \n",
      " 4   responses            9290 non-null   object\n",
      " 5   author_url           9290 non-null   object\n",
      " 6   story_url            9290 non-null   object\n",
      " 7   reading_time (mins)  9290 non-null   int64 \n",
      " 8   number_sections      9290 non-null   int64 \n",
      " 9   section_titles       9290 non-null   object\n",
      " 10  number_paragraphs    9290 non-null   int64 \n",
      " 11  paragraphs           9290 non-null   object\n",
      "dtypes: int64(4), object(8)\n",
      "memory usage: 871.1+ KB\n"
     ]
    }
   ],
   "source": [
    "df.info()"
   ]
  },
  {
   "cell_type": "code",
   "execution_count": 8,
   "id": "c0b1f33b-dbab-4359-8b68-96771d3c4ab1",
   "metadata": {},
   "outputs": [],
   "source": [
    "#remove non-text, non-Y columns\n",
    "df = df.drop(columns=['date', 'responses', 'author_url',\n",
    "       'story_url', 'reading_time (mins)', 'number_sections', \n",
    "       'number_paragraphs'])"
   ]
  },
  {
   "cell_type": "markdown",
   "id": "c62206fd-069c-487b-90bd-a157795790b4",
   "metadata": {},
   "source": [
    "#### Combine Title & Subtitle"
   ]
  },
  {
   "cell_type": "code",
   "execution_count": 9,
   "id": "0b2b1a7c-a42d-4e6c-a3d5-8124648f9214",
   "metadata": {},
   "outputs": [],
   "source": [
    "df['combined_title'] = (df['title'] + ' ' + df['subtitle'])"
   ]
  },
  {
   "cell_type": "code",
   "execution_count": 10,
   "id": "ab731200-97cc-42cc-993f-c7e4f74a1414",
   "metadata": {},
   "outputs": [],
   "source": [
    "df = df.drop(columns = ['title', 'subtitle']).reset_index(drop=True)"
   ]
  },
  {
   "cell_type": "markdown",
   "id": "937496c2-d505-410b-812f-c87267fe5980",
   "metadata": {},
   "source": [
    "#### Remove Punctuation & Make Lowercase"
   ]
  },
  {
   "cell_type": "code",
   "execution_count": 11,
   "id": "56f2c908-083c-48db-82e5-2fa450de75e5",
   "metadata": {},
   "outputs": [],
   "source": [
    "text_cols = ['section_titles', 'paragraphs', 'combined_title']"
   ]
  },
  {
   "cell_type": "code",
   "execution_count": 12,
   "id": "e5674397-d28f-4b02-9f60-449b3fc694cb",
   "metadata": {},
   "outputs": [],
   "source": [
    "for col in text_cols:\n",
    "    df[col] = df[col].map(lambda x: re.sub(\"[''·,\\.!?'-]\", '', x).lower())"
   ]
  },
  {
   "cell_type": "markdown",
   "id": "34cdb848-b05f-4bda-8987-f706d2b0febe",
   "metadata": {},
   "source": [
    "#### Remove the 'Min Read' Phrase at the Beginning of Each Paragraph"
   ]
  },
  {
   "cell_type": "code",
   "execution_count": 13,
   "id": "7c4efb48-2459-4404-9ecb-52cd94e80e0f",
   "metadata": {},
   "outputs": [],
   "source": [
    "#remove all text up to and including 'min read' in the beginning of the paragraphs\n",
    "df['paragraphs'] = df['paragraphs'].map(lambda x: (x[x.index('min read')+9:] if (x.count('min read') > 0) else x))\n",
    "                     "
   ]
  },
  {
   "cell_type": "markdown",
   "id": "1fb5d402-0499-4be2-afef-cfc536f64f6d",
   "metadata": {},
   "source": [
    "#### Remove the Brackets Surrounding The Section Titles"
   ]
  },
  {
   "cell_type": "code",
   "execution_count": 14,
   "id": "705e7c34-6c6b-493e-95f1-32bd10df2cc8",
   "metadata": {},
   "outputs": [],
   "source": [
    "#remove brackets surrounding the section titles\n",
    "df['section_titles'] = df['section_titles'].map(lambda x: x.replace(\"[\",\"\"))\n",
    "df['section_titles'] = df['section_titles'].map(lambda x: x.replace(\"]\",\"\"))"
   ]
  },
  {
   "cell_type": "code",
   "execution_count": 15,
   "id": "de7abd57-f078-4e03-bb87-bc3a5ebdd6ce",
   "metadata": {},
   "outputs": [
    {
     "data": {
      "text/html": [
       "<div>\n",
       "<style scoped>\n",
       "    .dataframe tbody tr th:only-of-type {\n",
       "        vertical-align: middle;\n",
       "    }\n",
       "\n",
       "    .dataframe tbody tr th {\n",
       "        vertical-align: top;\n",
       "    }\n",
       "\n",
       "    .dataframe thead th {\n",
       "        text-align: right;\n",
       "    }\n",
       "</style>\n",
       "<table border=\"1\" class=\"dataframe\">\n",
       "  <thead>\n",
       "    <tr style=\"text-align: right;\">\n",
       "      <th></th>\n",
       "      <th>claps</th>\n",
       "      <th>section_titles</th>\n",
       "      <th>paragraphs</th>\n",
       "      <th>combined_title</th>\n",
       "    </tr>\n",
       "  </thead>\n",
       "  <tbody>\n",
       "    <tr>\n",
       "      <th>0</th>\n",
       "      <td>489</td>\n",
       "      <td>the ultimate guide to acing coding interviews ...</td>\n",
       "      <td>written by emma ding and rob wang data science...</td>\n",
       "      <td>the ultimate guide to acing coding interviews ...</td>\n",
       "    </tr>\n",
       "    <tr>\n",
       "      <th>1</th>\n",
       "      <td>139</td>\n",
       "      <td>shakespeare versus eminem—who’s the better lyr...</td>\n",
       "      <td>data science has crept into every conceivable ...</td>\n",
       "      <td>shakespeare versus eminem— who’s the better ly...</td>\n",
       "    </tr>\n",
       "    <tr>\n",
       "      <th>2</th>\n",
       "      <td>133</td>\n",
       "      <td>implementing vision transformer (vit) in pytor...</td>\n",
       "      <td>hi guys happy new year today we are going to i...</td>\n",
       "      <td>implementing visualttransformer in pytorch hi ...</td>\n",
       "    </tr>\n",
       "    <tr>\n",
       "      <th>3</th>\n",
       "      <td>92</td>\n",
       "      <td>stock price analysis with pandas and altair</td>\n",
       "      <td>stock price analysis is an example of time ser...</td>\n",
       "      <td>stock price analysis with pandas and altair pr...</td>\n",
       "    </tr>\n",
       "    <tr>\n",
       "      <th>4</th>\n",
       "      <td>58</td>\n",
       "      <td>optimal threshold for imbalanced classification</td>\n",
       "      <td>classification is one of the supervised learni...</td>\n",
       "      <td>optimal threshold for imbalanced classificatio...</td>\n",
       "    </tr>\n",
       "  </tbody>\n",
       "</table>\n",
       "</div>"
      ],
      "text/plain": [
       "   claps                                     section_titles  \\\n",
       "0    489  the ultimate guide to acing coding interviews ...   \n",
       "1    139  shakespeare versus eminem—who’s the better lyr...   \n",
       "2    133  implementing vision transformer (vit) in pytor...   \n",
       "3     92        stock price analysis with pandas and altair   \n",
       "4     58    optimal threshold for imbalanced classification   \n",
       "\n",
       "                                          paragraphs  \\\n",
       "0  written by emma ding and rob wang data science...   \n",
       "1  data science has crept into every conceivable ...   \n",
       "2  hi guys happy new year today we are going to i...   \n",
       "3  stock price analysis is an example of time ser...   \n",
       "4  classification is one of the supervised learni...   \n",
       "\n",
       "                                      combined_title  \n",
       "0  the ultimate guide to acing coding interviews ...  \n",
       "1  shakespeare versus eminem— who’s the better ly...  \n",
       "2  implementing visualttransformer in pytorch hi ...  \n",
       "3  stock price analysis with pandas and altair pr...  \n",
       "4  optimal threshold for imbalanced classificatio...  "
      ]
     },
     "execution_count": 15,
     "metadata": {},
     "output_type": "execute_result"
    }
   ],
   "source": [
    "df.head()"
   ]
  },
  {
   "cell_type": "markdown",
   "id": "7c3686eb-7b30-4ea4-bb15-44e08170c71f",
   "metadata": {},
   "source": [
    "#### Tokenize Text"
   ]
  },
  {
   "cell_type": "code",
   "execution_count": 16,
   "id": "cdbeaffe-fc1f-4eee-9e9e-50d2bfe8b9e5",
   "metadata": {},
   "outputs": [],
   "source": [
    "w_tokenizer = WhitespaceTokenizer()"
   ]
  },
  {
   "cell_type": "code",
   "execution_count": 17,
   "id": "592faa51-3daa-4f09-86f6-e3e6765c98d4",
   "metadata": {},
   "outputs": [],
   "source": [
    "for col in text_cols:\n",
    "    df[col] = df[col].apply(lambda x: w_tokenizer.tokenize(x))"
   ]
  },
  {
   "cell_type": "code",
   "execution_count": 18,
   "id": "50eaae0c-a00c-4f10-9f84-6e0cc82524d4",
   "metadata": {},
   "outputs": [
    {
     "data": {
      "text/html": [
       "<div>\n",
       "<style scoped>\n",
       "    .dataframe tbody tr th:only-of-type {\n",
       "        vertical-align: middle;\n",
       "    }\n",
       "\n",
       "    .dataframe tbody tr th {\n",
       "        vertical-align: top;\n",
       "    }\n",
       "\n",
       "    .dataframe thead th {\n",
       "        text-align: right;\n",
       "    }\n",
       "</style>\n",
       "<table border=\"1\" class=\"dataframe\">\n",
       "  <thead>\n",
       "    <tr style=\"text-align: right;\">\n",
       "      <th></th>\n",
       "      <th>claps</th>\n",
       "      <th>section_titles</th>\n",
       "      <th>paragraphs</th>\n",
       "      <th>combined_title</th>\n",
       "    </tr>\n",
       "  </thead>\n",
       "  <tbody>\n",
       "    <tr>\n",
       "      <th>0</th>\n",
       "      <td>489</td>\n",
       "      <td>[the, ultimate, guide, to, acing, coding, inte...</td>\n",
       "      <td>[written, by, emma, ding, and, rob, wang, data...</td>\n",
       "      <td>[the, ultimate, guide, to, acing, coding, inte...</td>\n",
       "    </tr>\n",
       "    <tr>\n",
       "      <th>1</th>\n",
       "      <td>139</td>\n",
       "      <td>[shakespeare, versus, eminem—who’s, the, bette...</td>\n",
       "      <td>[data, science, has, crept, into, every, conce...</td>\n",
       "      <td>[shakespeare, versus, eminem—, who’s, the, bet...</td>\n",
       "    </tr>\n",
       "    <tr>\n",
       "      <th>2</th>\n",
       "      <td>133</td>\n",
       "      <td>[implementing, vision, transformer, (vit), in,...</td>\n",
       "      <td>[hi, guys, happy, new, year, today, we, are, g...</td>\n",
       "      <td>[implementing, visualttransformer, in, pytorch...</td>\n",
       "    </tr>\n",
       "    <tr>\n",
       "      <th>3</th>\n",
       "      <td>92</td>\n",
       "      <td>[stock, price, analysis, with, pandas, and, al...</td>\n",
       "      <td>[stock, price, analysis, is, an, example, of, ...</td>\n",
       "      <td>[stock, price, analysis, with, pandas, and, al...</td>\n",
       "    </tr>\n",
       "    <tr>\n",
       "      <th>4</th>\n",
       "      <td>58</td>\n",
       "      <td>[optimal, threshold, for, imbalanced, classifi...</td>\n",
       "      <td>[classification, is, one, of, the, supervised,...</td>\n",
       "      <td>[optimal, threshold, for, imbalanced, classifi...</td>\n",
       "    </tr>\n",
       "  </tbody>\n",
       "</table>\n",
       "</div>"
      ],
      "text/plain": [
       "   claps                                     section_titles  \\\n",
       "0    489  [the, ultimate, guide, to, acing, coding, inte...   \n",
       "1    139  [shakespeare, versus, eminem—who’s, the, bette...   \n",
       "2    133  [implementing, vision, transformer, (vit), in,...   \n",
       "3     92  [stock, price, analysis, with, pandas, and, al...   \n",
       "4     58  [optimal, threshold, for, imbalanced, classifi...   \n",
       "\n",
       "                                          paragraphs  \\\n",
       "0  [written, by, emma, ding, and, rob, wang, data...   \n",
       "1  [data, science, has, crept, into, every, conce...   \n",
       "2  [hi, guys, happy, new, year, today, we, are, g...   \n",
       "3  [stock, price, analysis, is, an, example, of, ...   \n",
       "4  [classification, is, one, of, the, supervised,...   \n",
       "\n",
       "                                      combined_title  \n",
       "0  [the, ultimate, guide, to, acing, coding, inte...  \n",
       "1  [shakespeare, versus, eminem—, who’s, the, bet...  \n",
       "2  [implementing, visualttransformer, in, pytorch...  \n",
       "3  [stock, price, analysis, with, pandas, and, al...  \n",
       "4  [optimal, threshold, for, imbalanced, classifi...  "
      ]
     },
     "execution_count": 18,
     "metadata": {},
     "output_type": "execute_result"
    }
   ],
   "source": [
    "df.head()"
   ]
  },
  {
   "cell_type": "markdown",
   "id": "e7182226-6ff5-4e35-84b7-b7d0eb721b64",
   "metadata": {},
   "source": [
    "#### Remove Special Characters "
   ]
  },
  {
   "cell_type": "code",
   "execution_count": 19,
   "id": "7362c27a-02b7-4040-a862-2045362e4449",
   "metadata": {},
   "outputs": [],
   "source": [
    "for col in text_cols:\n",
    "    df[col] = df[col].replace('[^\\w]','',regex=True)"
   ]
  },
  {
   "cell_type": "code",
   "execution_count": 20,
   "id": "374fb15f-e7b9-4069-9df5-fa7469579144",
   "metadata": {},
   "outputs": [
    {
     "data": {
      "text/html": [
       "<div>\n",
       "<style scoped>\n",
       "    .dataframe tbody tr th:only-of-type {\n",
       "        vertical-align: middle;\n",
       "    }\n",
       "\n",
       "    .dataframe tbody tr th {\n",
       "        vertical-align: top;\n",
       "    }\n",
       "\n",
       "    .dataframe thead th {\n",
       "        text-align: right;\n",
       "    }\n",
       "</style>\n",
       "<table border=\"1\" class=\"dataframe\">\n",
       "  <thead>\n",
       "    <tr style=\"text-align: right;\">\n",
       "      <th></th>\n",
       "      <th>claps</th>\n",
       "      <th>section_titles</th>\n",
       "      <th>paragraphs</th>\n",
       "      <th>combined_title</th>\n",
       "    </tr>\n",
       "  </thead>\n",
       "  <tbody>\n",
       "    <tr>\n",
       "      <th>0</th>\n",
       "      <td>489</td>\n",
       "      <td>[the, ultimate, guide, to, acing, coding, inte...</td>\n",
       "      <td>[written, by, emma, ding, and, rob, wang, data...</td>\n",
       "      <td>[the, ultimate, guide, to, acing, coding, inte...</td>\n",
       "    </tr>\n",
       "    <tr>\n",
       "      <th>1</th>\n",
       "      <td>139</td>\n",
       "      <td>[shakespeare, versus, eminem—who’s, the, bette...</td>\n",
       "      <td>[data, science, has, crept, into, every, conce...</td>\n",
       "      <td>[shakespeare, versus, eminem—, who’s, the, bet...</td>\n",
       "    </tr>\n",
       "    <tr>\n",
       "      <th>2</th>\n",
       "      <td>133</td>\n",
       "      <td>[implementing, vision, transformer, (vit), in,...</td>\n",
       "      <td>[hi, guys, happy, new, year, today, we, are, g...</td>\n",
       "      <td>[implementing, visualttransformer, in, pytorch...</td>\n",
       "    </tr>\n",
       "    <tr>\n",
       "      <th>3</th>\n",
       "      <td>92</td>\n",
       "      <td>[stock, price, analysis, with, pandas, and, al...</td>\n",
       "      <td>[stock, price, analysis, is, an, example, of, ...</td>\n",
       "      <td>[stock, price, analysis, with, pandas, and, al...</td>\n",
       "    </tr>\n",
       "    <tr>\n",
       "      <th>4</th>\n",
       "      <td>58</td>\n",
       "      <td>[optimal, threshold, for, imbalanced, classifi...</td>\n",
       "      <td>[classification, is, one, of, the, supervised,...</td>\n",
       "      <td>[optimal, threshold, for, imbalanced, classifi...</td>\n",
       "    </tr>\n",
       "  </tbody>\n",
       "</table>\n",
       "</div>"
      ],
      "text/plain": [
       "   claps                                     section_titles  \\\n",
       "0    489  [the, ultimate, guide, to, acing, coding, inte...   \n",
       "1    139  [shakespeare, versus, eminem—who’s, the, bette...   \n",
       "2    133  [implementing, vision, transformer, (vit), in,...   \n",
       "3     92  [stock, price, analysis, with, pandas, and, al...   \n",
       "4     58  [optimal, threshold, for, imbalanced, classifi...   \n",
       "\n",
       "                                          paragraphs  \\\n",
       "0  [written, by, emma, ding, and, rob, wang, data...   \n",
       "1  [data, science, has, crept, into, every, conce...   \n",
       "2  [hi, guys, happy, new, year, today, we, are, g...   \n",
       "3  [stock, price, analysis, is, an, example, of, ...   \n",
       "4  [classification, is, one, of, the, supervised,...   \n",
       "\n",
       "                                      combined_title  \n",
       "0  [the, ultimate, guide, to, acing, coding, inte...  \n",
       "1  [shakespeare, versus, eminem—, who’s, the, bet...  \n",
       "2  [implementing, visualttransformer, in, pytorch...  \n",
       "3  [stock, price, analysis, with, pandas, and, al...  \n",
       "4  [optimal, threshold, for, imbalanced, classifi...  "
      ]
     },
     "execution_count": 20,
     "metadata": {},
     "output_type": "execute_result"
    }
   ],
   "source": [
    "df.head()"
   ]
  },
  {
   "cell_type": "markdown",
   "id": "0e4df2c7-60a4-4911-9a6d-76f77ad7b956",
   "metadata": {},
   "source": [
    "#### Remove English Stopwords"
   ]
  },
  {
   "cell_type": "code",
   "execution_count": 21,
   "id": "7c2540d2-0172-4b8a-a4c9-e98457551e48",
   "metadata": {},
   "outputs": [],
   "source": [
    "stop_words = set(stopwords.words('english')) "
   ]
  },
  {
   "cell_type": "code",
   "execution_count": 22,
   "id": "4eee163a-6763-40c3-828a-70172ee4dfe7",
   "metadata": {},
   "outputs": [],
   "source": [
    "def remove_stopwords(text):\n",
    "    return [word for word in text if word not in stop_words]"
   ]
  },
  {
   "cell_type": "code",
   "execution_count": 23,
   "id": "f9a1670a-3184-49c0-ac94-537823126cc2",
   "metadata": {},
   "outputs": [],
   "source": [
    "for col in text_cols:\n",
    "    df[col] = df[col].apply(remove_stopwords)"
   ]
  },
  {
   "cell_type": "markdown",
   "id": "78faeec4-d4c9-409c-9e4c-000e1518b0ed",
   "metadata": {},
   "source": [
    "#### Lemmatize"
   ]
  },
  {
   "cell_type": "markdown",
   "id": "07c555c5-6121-4de3-a8e0-a3e8cd79a634",
   "metadata": {},
   "source": [
    "Uncomment this section to save the file with lemmatized text."
   ]
  },
  {
   "cell_type": "code",
   "execution_count": 24,
   "id": "b21b0638-00d6-4833-b34f-5affa5c27ef1",
   "metadata": {},
   "outputs": [],
   "source": [
    "# def lemmatize_text(text):\n",
    "#     lemmatizer = WordNetLemmatizer()\n",
    "#     return [lemmatizer.lemmatize(w) for w in text]"
   ]
  },
  {
   "cell_type": "code",
   "execution_count": 25,
   "id": "0b347ecf-8e2f-40fa-a4d3-691371c3fe2b",
   "metadata": {},
   "outputs": [],
   "source": [
    "# for col in text_cols:\n",
    "#     df[col] = df[col].apply(lemmatize_text)"
   ]
  },
  {
   "cell_type": "code",
   "execution_count": 26,
   "id": "966c2338-4133-4417-8c08-855fbf89f3ae",
   "metadata": {},
   "outputs": [],
   "source": [
    "# save as lemmatized\n",
    "# output_filename = 'data/nlp_nltk_lemmatized_preproc.csv'"
   ]
  },
  {
   "cell_type": "markdown",
   "id": "192c55a6-17d9-4384-849c-f5f87d8f74e9",
   "metadata": {},
   "source": [
    "#### Porter Stemmer\n",
    "Uncomment this section to save the file with stemmed text."
   ]
  },
  {
   "cell_type": "code",
   "execution_count": 27,
   "id": "14aa5049-b809-4bf0-82a3-3b374dea30e8",
   "metadata": {},
   "outputs": [],
   "source": [
    "# def stem_text(text):\n",
    "#     stemmer = PorterStemmer()\n",
    "#     return [stemmer.stem(w) for w in text]"
   ]
  },
  {
   "cell_type": "code",
   "execution_count": 28,
   "id": "a0a7b5b2-28d1-4b09-bcce-00590b33d17a",
   "metadata": {},
   "outputs": [],
   "source": [
    "# for col in text_cols:\n",
    "#     df[col] = df[col].apply(stem_text)"
   ]
  },
  {
   "cell_type": "code",
   "execution_count": 29,
   "id": "c2acfd54-3f0a-4a02-9355-d54523ea980d",
   "metadata": {},
   "outputs": [],
   "source": [
    "# output_filename = 'data/nlp_nltk_stemmed_preproc.csv'"
   ]
  },
  {
   "cell_type": "markdown",
   "id": "ff3ca878-d504-4f20-afa8-5e6289f923d1",
   "metadata": {},
   "source": [
    "#### No Stemming\n",
    "Uncomment this section to save the file without any lemmatization or stemmed. "
   ]
  },
  {
   "cell_type": "code",
   "execution_count": 30,
   "id": "eda7cb00-c46a-45bf-8b8b-7d253365b323",
   "metadata": {},
   "outputs": [],
   "source": [
    "#output filename for no lemmatizing or stemming\n",
    "output_filename = 'data/nlp_nltk_nostem_preproc_strings.csv'"
   ]
  },
  {
   "cell_type": "markdown",
   "id": "e758204a-190e-4225-b4b7-0869986e6fd3",
   "metadata": {},
   "source": [
    "#### Combine Text Columns"
   ]
  },
  {
   "cell_type": "code",
   "execution_count": 31,
   "id": "f6496665-91f6-4cc6-b17a-6bcba851f81e",
   "metadata": {},
   "outputs": [],
   "source": [
    "df['text'] = df['combined_title'] + df['section_titles'] + df['paragraphs']"
   ]
  },
  {
   "cell_type": "code",
   "execution_count": 32,
   "id": "81629d03-a416-4829-badf-2386d56d4ee5",
   "metadata": {},
   "outputs": [],
   "source": [
    "tds = df.drop(columns = ['section_titles', 'paragraphs', 'combined_title'])"
   ]
  },
  {
   "cell_type": "code",
   "execution_count": 33,
   "id": "53a1e8ea-2e03-4325-bf30-840e29926d48",
   "metadata": {},
   "outputs": [],
   "source": [
    "tds['text'] = [' '.join(x) for x in tds['text']]"
   ]
  },
  {
   "cell_type": "code",
   "execution_count": 34,
   "id": "20f48739-e30c-4bd1-a59e-176dd8fbc8c3",
   "metadata": {},
   "outputs": [
    {
     "data": {
      "text/html": [
       "<div>\n",
       "<style scoped>\n",
       "    .dataframe tbody tr th:only-of-type {\n",
       "        vertical-align: middle;\n",
       "    }\n",
       "\n",
       "    .dataframe tbody tr th {\n",
       "        vertical-align: top;\n",
       "    }\n",
       "\n",
       "    .dataframe thead th {\n",
       "        text-align: right;\n",
       "    }\n",
       "</style>\n",
       "<table border=\"1\" class=\"dataframe\">\n",
       "  <thead>\n",
       "    <tr style=\"text-align: right;\">\n",
       "      <th></th>\n",
       "      <th>claps</th>\n",
       "      <th>text</th>\n",
       "    </tr>\n",
       "  </thead>\n",
       "  <tbody>\n",
       "    <tr>\n",
       "      <th>0</th>\n",
       "      <td>489</td>\n",
       "      <td>ultimate guide acing coding interviews data sc...</td>\n",
       "    </tr>\n",
       "    <tr>\n",
       "      <th>1</th>\n",
       "      <td>139</td>\n",
       "      <td>shakespeare versus eminem— who’s better lyrici...</td>\n",
       "    </tr>\n",
       "    <tr>\n",
       "      <th>2</th>\n",
       "      <td>133</td>\n",
       "      <td>implementing visualttransformer pytorch hi guy...</td>\n",
       "    </tr>\n",
       "    <tr>\n",
       "      <th>3</th>\n",
       "      <td>92</td>\n",
       "      <td>stock price analysis pandas altair practical g...</td>\n",
       "    </tr>\n",
       "    <tr>\n",
       "      <th>4</th>\n",
       "      <td>58</td>\n",
       "      <td>optimal threshold imbalanced classification ha...</td>\n",
       "    </tr>\n",
       "  </tbody>\n",
       "</table>\n",
       "</div>"
      ],
      "text/plain": [
       "   claps                                               text\n",
       "0    489  ultimate guide acing coding interviews data sc...\n",
       "1    139  shakespeare versus eminem— who’s better lyrici...\n",
       "2    133  implementing visualttransformer pytorch hi guy...\n",
       "3     92  stock price analysis pandas altair practical g...\n",
       "4     58  optimal threshold imbalanced classification ha..."
      ]
     },
     "execution_count": 34,
     "metadata": {},
     "output_type": "execute_result"
    }
   ],
   "source": [
    "tds.head()"
   ]
  },
  {
   "cell_type": "markdown",
   "id": "a12949c6-9df1-4036-890e-4a0403ae36cf",
   "metadata": {},
   "source": [
    "#### Save Pre-Processed File"
   ]
  },
  {
   "cell_type": "code",
   "execution_count": 35,
   "id": "55ecb3ae-e407-4469-a3bc-f0f0a2080191",
   "metadata": {},
   "outputs": [],
   "source": [
    "tds.to_csv(output_filename)"
   ]
  }
 ],
 "metadata": {
  "kernelspec": {
   "display_name": "Python 3",
   "language": "python",
   "name": "python3"
  },
  "language_info": {
   "codemirror_mode": {
    "name": "ipython",
    "version": 3
   },
   "file_extension": ".py",
   "mimetype": "text/x-python",
   "name": "python",
   "nbconvert_exporter": "python",
   "pygments_lexer": "ipython3",
   "version": "3.9.4"
  }
 },
 "nbformat": 4,
 "nbformat_minor": 5
}
