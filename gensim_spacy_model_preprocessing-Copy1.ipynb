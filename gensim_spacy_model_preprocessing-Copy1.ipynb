{
 "cells": [
  {
   "cell_type": "markdown",
   "id": "895a987b-c9d8-42aa-89ca-b06dfe04df6f",
   "metadata": {},
   "source": [
    "# Topic Modeling Tutorial\n",
    "https://www.machinelearningplus.com/nlp/topic-modeling-gensim-python/"
   ]
  },
  {
   "cell_type": "code",
   "execution_count": 68,
   "id": "18fbe3c9-5d2a-4f00-b00d-9f3bcfd2102d",
   "metadata": {},
   "outputs": [],
   "source": [
    "# !pip install gensim==3.8.3"
   ]
  },
  {
   "cell_type": "code",
   "execution_count": 69,
   "id": "636a2023-6509-4b02-a31b-98c74ded4902",
   "metadata": {},
   "outputs": [],
   "source": [
    "import re\n",
    "import numpy as np\n",
    "import pandas as pd\n",
    "from pprint import pprint\n",
    "\n",
    "# Gensim\n",
    "import gensim\n",
    "import gensim.corpora as corpora\n",
    "from gensim.utils import simple_preprocess\n",
    "from gensim.models import CoherenceModel\n",
    "\n",
    "# NTLK stopwords\n",
    "from nltk.corpus import stopwords\n",
    "\n",
    "# spacy for lemmatization\n",
    "import spacy\n",
    "\n",
    "# Plotting tools\n",
    "import pyLDAvis\n",
    "import pyLDAvis.gensim_models as gensimvis\n",
    "pyLDAvis.enable_notebook()\n",
    "import matplotlib.pyplot as plt\n",
    "%matplotlib inline\n",
    "\n",
    "# Enable logging for gensim - optional\n",
    "import logging\n",
    "logging.basicConfig(format='%(asctime)s : %(levelname)s : %(message)s', level=logging.ERROR)\n",
    "\n",
    "import pickle \n",
    "\n",
    "import warnings\n",
    "warnings.filterwarnings(\"ignore\")"
   ]
  },
  {
   "cell_type": "code",
   "execution_count": 70,
   "id": "b5d7abef-4e2c-439c-8c54-efb7ac0d2e55",
   "metadata": {},
   "outputs": [],
   "source": [
    "#update stopwords \n",
    "stop_words = stopwords.words('english')\n",
    "stop_words.extend(['use', 'used', 'using', 'one', 'like', 'user', 'make', 'also', 'get', 'point', 'let', 'go'])"
   ]
  },
  {
   "cell_type": "code",
   "execution_count": 71,
   "id": "3aa5bbb7-7883-4545-8623-e27665a7c7a9",
   "metadata": {},
   "outputs": [],
   "source": [
    "filename = 'data/cleaned_no_outliers.csv'\n",
    "output_filename = 'data/spacy_preprocess.csv'"
   ]
  },
  {
   "cell_type": "code",
   "execution_count": 72,
   "id": "e9ff3a4d-c7ee-4935-857d-e67c2b52d33e",
   "metadata": {},
   "outputs": [],
   "source": [
    "df = pd.read_csv(filename)"
   ]
  },
  {
   "cell_type": "code",
   "execution_count": 73,
   "id": "5dbe0154-3617-47fe-aaae-ad32a3910375",
   "metadata": {},
   "outputs": [],
   "source": [
    "#remove non-text, non-Y columns\n",
    "df = df.drop(columns=['date', 'responses', 'author_url',\n",
    "       'story_url', 'reading_time (mins)', 'number_sections', \n",
    "       'number_paragraphs'])"
   ]
  },
  {
   "cell_type": "markdown",
   "id": "48f63fb1-9bd9-442d-9afa-9d32bef09f19",
   "metadata": {},
   "source": [
    "#### Combine Title & Subtitle"
   ]
  },
  {
   "cell_type": "code",
   "execution_count": 74,
   "id": "2e2fab36-0212-4ce1-9c83-fa728d6a7dcf",
   "metadata": {},
   "outputs": [],
   "source": [
    "df['combined_title'] = (df['title'] + ' ' + df['subtitle'])"
   ]
  },
  {
   "cell_type": "code",
   "execution_count": 75,
   "id": "e49eef43-55aa-44ac-916a-744192b9a8aa",
   "metadata": {},
   "outputs": [],
   "source": [
    "df = df.drop(columns = ['title', 'subtitle']).reset_index(drop=True)"
   ]
  },
  {
   "cell_type": "markdown",
   "id": "aad6d554-59ac-4415-b813-e0b9385a58f9",
   "metadata": {},
   "source": [
    "#### Remove Punctuation & Make Lowercase"
   ]
  },
  {
   "cell_type": "code",
   "execution_count": 76,
   "id": "a700ec10-a6d1-4ff9-8f0f-62cc007d1745",
   "metadata": {},
   "outputs": [],
   "source": [
    "text_cols = ['section_titles', 'paragraphs', 'combined_title']"
   ]
  },
  {
   "cell_type": "code",
   "execution_count": 77,
   "id": "a6ab19f7-f196-4979-b57d-32ef687ae6a0",
   "metadata": {},
   "outputs": [],
   "source": [
    "for col in text_cols:\n",
    "    df[col] = df[col].map(lambda x: re.sub(\"[''·,\\.!?'-]\", '', x).lower())"
   ]
  },
  {
   "cell_type": "markdown",
   "id": "24277940-89f8-4a5b-a0ba-c23038305fc0",
   "metadata": {},
   "source": [
    "#### Remove the 'Min Read' Phrase at the Beginning of Each Paragraph"
   ]
  },
  {
   "cell_type": "code",
   "execution_count": 78,
   "id": "b4960300-5b3c-4d4d-a4fc-03cd07e6771a",
   "metadata": {},
   "outputs": [],
   "source": [
    "#remove all text up to and including 'min read' in the beginning of the paragraphs\n",
    "df['paragraphs'] = df['paragraphs'].map(lambda x: (x[x.index('min read')+9:] if (x.count('min read') > 0) else x))\n",
    "                     "
   ]
  },
  {
   "cell_type": "markdown",
   "id": "7828f5b0-6f9f-4ee8-b751-044bfca52651",
   "metadata": {},
   "source": [
    "#### Remove the Brackets Surrounding The Section Titles"
   ]
  },
  {
   "cell_type": "code",
   "execution_count": 79,
   "id": "ab9dacf0-f11d-491f-8293-b2fd0eff10bb",
   "metadata": {},
   "outputs": [],
   "source": [
    "#remove brackets surrounding the section titles\n",
    "df['section_titles'] = df['section_titles'].map(lambda x: x.replace(\"[\",\"\"))\n",
    "df['section_titles'] = df['section_titles'].map(lambda x: x.replace(\"]\",\"\"))"
   ]
  },
  {
   "cell_type": "markdown",
   "id": "a9322229-f154-4445-b81a-89f653e7428e",
   "metadata": {},
   "source": [
    "#### Combine Text Columns"
   ]
  },
  {
   "cell_type": "code",
   "execution_count": 80,
   "id": "f49bdfe5-468c-4a5a-8a4b-66a78229a33e",
   "metadata": {},
   "outputs": [],
   "source": [
    "df['text'] = df['combined_title'] + df['section_titles'] + df['paragraphs']"
   ]
  },
  {
   "cell_type": "code",
   "execution_count": 81,
   "id": "f9288f03-e439-4223-84a5-eb6ea1dce181",
   "metadata": {},
   "outputs": [],
   "source": [
    "df = df.drop(columns = ['section_titles', 'paragraphs', 'combined_title'])"
   ]
  },
  {
   "cell_type": "code",
   "execution_count": 82,
   "id": "604609ac-a04a-48dd-b783-2dddbb0b8832",
   "metadata": {},
   "outputs": [],
   "source": [
    "# Convert to list\n",
    "data = df['text'].values.tolist()"
   ]
  },
  {
   "cell_type": "markdown",
   "id": "0f1b88dd-74f0-41d8-a6c4-085affb9ae05",
   "metadata": {},
   "source": [
    "#### Tokenize Words and Clean Up Text"
   ]
  },
  {
   "cell_type": "code",
   "execution_count": 83,
   "id": "4d6d834e-35f1-4940-9a37-a3098fdfc221",
   "metadata": {},
   "outputs": [],
   "source": [
    "def sent_to_words(sentences):\n",
    "    for sentence in sentences:\n",
    "        yield(gensim.utils.simple_preprocess(str(sentence), deacc=True)) \n",
    "\n",
    "data_words = list(sent_to_words(data))"
   ]
  },
  {
   "cell_type": "markdown",
   "id": "093c7cc8-3887-4016-b337-2add7d1546e5",
   "metadata": {},
   "source": [
    "#### Bigram and Trigram Models"
   ]
  },
  {
   "cell_type": "code",
   "execution_count": 84,
   "id": "719fb3d2-de81-420b-9ea1-5dd8b1b8ccf1",
   "metadata": {},
   "outputs": [],
   "source": [
    "# Build the bigram and trigram models\n",
    "bigram = gensim.models.Phrases(data_words, min_count=5, threshold=100) # higher threshold fewer phrases.\n",
    "trigram = gensim.models.Phrases(bigram[data_words], threshold=100)  \n",
    "\n",
    "# Faster way to get a sentence clubbed as a trigram/bigram\n",
    "bigram_mod = gensim.models.phrases.Phraser(bigram)\n",
    "trigram_mod = gensim.models.phrases.Phraser(trigram)"
   ]
  },
  {
   "cell_type": "code",
   "execution_count": 85,
   "id": "7477a8ef-1e6f-45bf-b80d-d83b2a8e9c18",
   "metadata": {},
   "outputs": [],
   "source": [
    "# Define functions for stopwords, bigrams, trigrams and lemmatization\n",
    "def remove_stopwords(texts):\n",
    "    return [[word for word in simple_preprocess(str(doc)) if word not in stop_words] for doc in texts]\n",
    "\n",
    "def make_bigrams(texts):\n",
    "    return [bigram_mod[doc] for doc in texts]\n",
    "\n",
    "def make_trigrams(texts):\n",
    "    return [trigram_mod[bigram_mod[doc]] for doc in texts]\n",
    "\n",
    "def lemmatization(texts, allowed_postags=['NOUN', 'ADJ', 'VERB', 'ADV']):\n",
    "    \"\"\"https://spacy.io/api/annotation\"\"\"\n",
    "    texts_out = []\n",
    "    for sent in texts:\n",
    "        doc = nlp(\" \".join(sent)) \n",
    "        texts_out.append([token.lemma_ for token in doc if token.pos_ in allowed_postags])\n",
    "    return texts_out"
   ]
  },
  {
   "cell_type": "markdown",
   "id": "85aa658a-93e7-4bf2-8fe7-9a1d0d0f8736",
   "metadata": {},
   "source": [
    "#### Remove Stop Words "
   ]
  },
  {
   "cell_type": "code",
   "execution_count": 86,
   "id": "a76a847c-00b0-466e-9dc2-7c86a9d705c5",
   "metadata": {},
   "outputs": [],
   "source": [
    "data_words_nostops = remove_stopwords(data_words)"
   ]
  },
  {
   "cell_type": "markdown",
   "id": "7fb019aa-25bd-45e8-91ef-2b8bab98a31f",
   "metadata": {},
   "source": [
    "#### Form Bigrams"
   ]
  },
  {
   "cell_type": "code",
   "execution_count": 87,
   "id": "0ff21310-1d3b-40e8-849c-ec0480356c02",
   "metadata": {},
   "outputs": [],
   "source": [
    "data_words_bigrams = make_bigrams(data_words_nostops)"
   ]
  },
  {
   "cell_type": "markdown",
   "id": "8ead2c3f-9907-45f1-b0e4-8dd81fa8e047",
   "metadata": {},
   "source": [
    "#### Initialize Spacy 'en' Model"
   ]
  },
  {
   "cell_type": "code",
   "execution_count": 88,
   "id": "5cba7282-1ab5-4a22-b4fc-74d02b23195c",
   "metadata": {
    "tags": []
   },
   "outputs": [],
   "source": [
    "#!spacy download en_core_web_lg"
   ]
  },
  {
   "cell_type": "code",
   "execution_count": 89,
   "id": "b062cf91-c1f0-4958-bf2f-aeb8e3ce56f5",
   "metadata": {},
   "outputs": [],
   "source": [
    "nlp = spacy.load('en_core_web_lg')"
   ]
  },
  {
   "cell_type": "markdown",
   "id": "54408c0e-5e3e-4f51-bf51-d5d89fddb61d",
   "metadata": {},
   "source": [
    "#### Lemmatize"
   ]
  },
  {
   "cell_type": "code",
   "execution_count": 90,
   "id": "ac8d5a62-fcee-40e7-a4fb-e775d40db74f",
   "metadata": {},
   "outputs": [],
   "source": [
    "data_lemmatized = lemmatization(data_words_bigrams, allowed_postags=['NOUN', 'ADJ', 'VERB', 'ADV','PROPN'])"
   ]
  },
  {
   "cell_type": "code",
   "execution_count": null,
   "id": "13235c2b-86bd-4f51-af9e-fd34e5effff0",
   "metadata": {},
   "outputs": [],
   "source": [
    "type(data_lemmatized)"
   ]
  },
  {
   "cell_type": "markdown",
   "id": "6e46ed09-ab43-45b3-9e6a-6b097bce1b54",
   "metadata": {},
   "source": [
    "#### Create the Dictionary & Corpus Needed for Topic Modeling"
   ]
  },
  {
   "cell_type": "code",
   "execution_count": 91,
   "id": "daad7476-8314-4826-8022-f4adec6336cf",
   "metadata": {},
   "outputs": [],
   "source": [
    "# Create Dictionary\n",
    "id2word = corpora.Dictionary(data_lemmatized)\n",
    "\n",
    "# Create Corpus\n",
    "texts = data_lemmatized\n",
    "\n",
    "# Term Document Frequency\n",
    "corpus = [id2word.doc2bow(text) for text in texts]"
   ]
  },
  {
   "cell_type": "code",
   "execution_count": 92,
   "id": "9bb858d4-eb00-40ed-aeb2-ebdabfe97125",
   "metadata": {},
   "outputs": [
    {
     "data": {
      "text/plain": [
       "'abbreviate'"
      ]
     },
     "execution_count": 92,
     "metadata": {},
     "output_type": "execute_result"
    }
   ],
   "source": [
    "#check out the dictionary\n",
    "\n",
    "id2word[0]"
   ]
  },
  {
   "cell_type": "code",
   "execution_count": 41,
   "id": "bbc4a5f0-0921-4e86-81e5-324400d6e25d",
   "metadata": {
    "collapsed": true,
    "jupyter": {
     "outputs_hidden": true
    },
    "tags": []
   },
   "outputs": [
    {
     "data": {
      "text/plain": [
       "[[('abbreviate', 1),\n",
       "  ('ability', 1),\n",
       "  ('able', 2),\n",
       "  ('ace', 5),\n",
       "  ('achieve', 1),\n",
       "  ('actual', 1),\n",
       "  ('adapt', 1),\n",
       "  ('addition', 1),\n",
       "  ('additional', 1),\n",
       "  ('aim', 1),\n",
       "  ('airbnb', 1),\n",
       "  ('algorithm', 5),\n",
       "  ('allow', 1),\n",
       "  ('always', 1),\n",
       "  ('amazon', 1),\n",
       "  ('amount', 1),\n",
       "  ('analysis', 1),\n",
       "  ('analytic', 1),\n",
       "  ('answer', 3),\n",
       "  ('appear', 5),\n",
       "  ('apply', 4),\n",
       "  ('approach', 3),\n",
       "  ('approximate', 1),\n",
       "  ('article', 1),\n",
       "  ('ask', 7),\n",
       "  ('aspect', 1),\n",
       "  ('assumption', 2),\n",
       "  ('base', 2),\n",
       "  ('basic', 5),\n",
       "  ('begin', 1),\n",
       "  ('benefit', 1),\n",
       "  ('best_practice', 1),\n",
       "  ('book', 1),\n",
       "  ('breadthfirst_search', 1),\n",
       "  ('business', 3),\n",
       "  ('candidate', 9),\n",
       "  ('capability', 1),\n",
       "  ('career', 1),\n",
       "  ('carry', 1),\n",
       "  ('catch', 1),\n",
       "  ('categorization', 1),\n",
       "  ('categorize', 3),\n",
       "  ('category', 3),\n",
       "  ('chance', 1),\n",
       "  ('check', 2),\n",
       "  ('choice', 3),\n",
       "  ('choose', 1),\n",
       "  ('clarify', 1),\n",
       "  ('classic', 1),\n",
       "  ('clearly', 2),\n",
       "  ('code', 45),\n",
       "  ('coderpad', 1),\n",
       "  ('codesignal', 1),\n",
       "  ('coding', 7),\n",
       "  ('collection', 1),\n",
       "  ('come', 1),\n",
       "  ('common', 6),\n",
       "  ('commonly', 2),\n",
       "  ('communicate', 1),\n",
       "  ('communication', 1),\n",
       "  ('company', 2),\n",
       "  ('compare', 2),\n",
       "  ('complexity', 1),\n",
       "  ('component', 1),\n",
       "  ('comprehensive', 1),\n",
       "  ('computation', 1),\n",
       "  ('computer', 1),\n",
       "  ('concept', 1),\n",
       "  ('conduct', 1),\n",
       "  ('confidence', 1),\n",
       "  ('connection', 1),\n",
       "  ('content', 1),\n",
       "  ('contrast', 1),\n",
       "  ('convey', 1),\n",
       "  ('course', 1),\n",
       "  ('cover', 1),\n",
       "  ('crack', 1),\n",
       "  ('cs', 4),\n",
       "  ('current', 2),\n",
       "  ('d', 2),\n",
       "  ('data', 5),\n",
       "  ('datum', 9),\n",
       "  ('daunt', 2),\n",
       "  ('deep', 1),\n",
       "  ('default', 1),\n",
       "  ('delivery', 1),\n",
       "  ('depend', 2),\n",
       "  ('depth', 1),\n",
       "  ('describe', 1),\n",
       "  ('description', 1),\n",
       "  ('detailed', 1),\n",
       "  ('development', 1),\n",
       "  ('difference', 1),\n",
       "  ('different', 4),\n",
       "  ('difficulty', 2),\n",
       "  ('discourage', 1),\n",
       "  ('dive', 1),\n",
       "  ('dozen', 1),\n",
       "  ('dream', 1),\n",
       "  ('ds', 7),\n",
       "  ('easily', 1),\n",
       "  ('easy', 3),\n",
       "  ('effective', 1),\n",
       "  ('effectively', 1),\n",
       "  ('effectiveness', 1),\n",
       "  ('emma_de', 1),\n",
       "  ('emphasis', 2),\n",
       "  ('employ', 1),\n",
       "  ('encounter', 3),\n",
       "  ('end', 1),\n",
       "  ('engineering', 3),\n",
       "  ('enhance', 1),\n",
       "  ('enter', 1),\n",
       "  ('environment', 2),\n",
       "  ('especially', 1),\n",
       "  ('essential', 1),\n",
       "  ('evaluate', 5),\n",
       "  ('even', 1),\n",
       "  ('exact', 1),\n",
       "  ('exactly', 2),\n",
       "  ('example', 2),\n",
       "  ('excel', 1),\n",
       "  ('exist', 1),\n",
       "  ('expand', 1),\n",
       "  ('expect', 11),\n",
       "  ('expectation', 1),\n",
       "  ('experience', 1),\n",
       "  ('explain', 2),\n",
       "  ('extremely', 1),\n",
       "  ('facebook', 1),\n",
       "  ('fail', 1),\n",
       "  ('fall', 1),\n",
       "  ('familiar', 1),\n",
       "  ('family', 3),\n",
       "  ('feel', 1),\n",
       "  ('final', 1),\n",
       "  ('find', 3),\n",
       "  ('fingertip', 1),\n",
       "  ('first', 2),\n",
       "  ('flexible', 1),\n",
       "  ('focus', 1),\n",
       "  ('follow', 2),\n",
       "  ('former', 1),\n",
       "  ('forward', 1),\n",
       "  ('frequently', 1),\n",
       "  ('fundamental', 4),\n",
       "  ('future', 1),\n",
       "  ('geeksforgeek', 1),\n",
       "  ('general', 3),\n",
       "  ('give', 1),\n",
       "  ('glance', 1),\n",
       "  ('glassdoor', 1),\n",
       "  ('good', 1),\n",
       "  ('gradient_booste', 1),\n",
       "  ('graph', 1),\n",
       "  ('grasp', 1),\n",
       "  ('great', 1),\n",
       "  ('group', 1),\n",
       "  ('guard', 1),\n",
       "  ('guide', 2),\n",
       "  ('hackerrank', 1),\n",
       "  ('hard', 1),\n",
       "  ('heavy', 1),\n",
       "  ('help', 1),\n",
       "  ('helpful', 2),\n",
       "  ('high', 2),\n",
       "  ('higherlevel', 1),\n",
       "  ('home', 1),\n",
       "  ('hope', 1),\n",
       "  ('hopefully', 1),\n",
       "  ('hour', 1),\n",
       "  ('however', 1),\n",
       "  ('hypothetical', 1),\n",
       "  ('ide', 2),\n",
       "  ('ideally', 1),\n",
       "  ('implementation', 1),\n",
       "  ('important', 1),\n",
       "  ('inadequately', 1),\n",
       "  ('include', 6),\n",
       "  ('incorrect', 1),\n",
       "  ('increase', 2),\n",
       "  ('industry', 1),\n",
       "  ('information', 1),\n",
       "  ('initially', 1),\n",
       "  ('insight', 1),\n",
       "  ('instead', 1),\n",
       "  ('integrate', 1),\n",
       "  ('interested', 1),\n",
       "  ('interview', 48),\n",
       "  ('interviewer', 5),\n",
       "  ('introduction', 1),\n",
       "  ('introductory', 1),\n",
       "  ('intuit', 1),\n",
       "  ('involve', 3),\n",
       "  ('job', 6),\n",
       "  ('journey', 1),\n",
       "  ('jupyter_notebook', 1),\n",
       "  ('key', 1),\n",
       "  ('kind', 1),\n",
       "  ('know', 1),\n",
       "  ('knowledge', 6),\n",
       "  ('landing', 1),\n",
       "  ('language', 4),\n",
       "  ('large', 2),\n",
       "  ('learn', 2),\n",
       "  ('learning', 4),\n",
       "  ('least', 1),\n",
       "  ('leetcode', 2),\n",
       "  ('length', 1),\n",
       "  ('less', 2),\n",
       "  ('level', 4),\n",
       "  ('library', 1),\n",
       "  ('likelihood', 1),\n",
       "  ('likely', 4),\n",
       "  ('limit', 3),\n",
       "  ('limited', 1),\n",
       "  ('link', 1),\n",
       "  ('list', 4),\n",
       "  ('logical', 1),\n",
       "  ('look', 2),\n",
       "  ('loop', 1),\n",
       "  ('lot', 2),\n",
       "  ('low', 1),\n",
       "  ('lyft', 1),\n",
       "  ('machine', 4),\n",
       "  ('major', 2),\n",
       "  ('management', 1),\n",
       "  ('manipulation', 1),\n",
       "  ('manner', 1),\n",
       "  ('many', 1),\n",
       "  ('market', 1),\n",
       "  ('mathematics', 1),\n",
       "  ('matter', 1),\n",
       "  ('mean', 1),\n",
       "  ('median', 1),\n",
       "  ('medium', 2),\n",
       "  ('mediumsized', 1),\n",
       "  ('memorization', 1),\n",
       "  ('minute', 1),\n",
       "  ('ml', 1),\n",
       "  ('mock', 1),\n",
       "  ('model', 4),\n",
       "  ('move', 1),\n",
       "  ('multipart', 1),\n",
       "  ('multiple', 4),\n",
       "  ('necessary', 1),\n",
       "  ('need', 3),\n",
       "  ('new', 2),\n",
       "  ('next', 1),\n",
       "  ('nontechnical', 1),\n",
       "  ('notion', 1),\n",
       "  ('number', 1),\n",
       "  ('occur', 2),\n",
       "  ('often', 2),\n",
       "  ('one', 1),\n",
       "  ('online', 4),\n",
       "  ('onsite', 3),\n",
       "  ('organize', 1),\n",
       "  ('outline', 1),\n",
       "  ('overall', 3),\n",
       "  ('overwhelmed', 1),\n",
       "  ('panda', 1),\n",
       "  ('part', 1),\n",
       "  ('peer', 1),\n",
       "  ('perform', 1),\n",
       "  ('person', 2),\n",
       "  ('phone', 1),\n",
       "  ('phrase', 1),\n",
       "  ('plain_english', 1),\n",
       "  ('platform', 1),\n",
       "  ('portion', 1),\n",
       "  ('position', 3),\n",
       "  ('possess', 2),\n",
       "  ('post', 2),\n",
       "  ('practice', 1),\n",
       "  ('preparation', 3),\n",
       "  ('prepare', 7),\n",
       "  ('problem', 10),\n",
       "  ('process', 2),\n",
       "  ('processing', 1),\n",
       "  ('product', 2),\n",
       "  ('profession', 2),\n",
       "  ('proficiency', 5),\n",
       "  ('programming', 5),\n",
       "  ('prove', 1),\n",
       "  ('provide', 2),\n",
       "  ('python', 2),\n",
       "  ('quality', 2),\n",
       "  ('query', 1),\n",
       "  ('question', 29),\n",
       "  ('range', 2),\n",
       "  ('reach', 1),\n",
       "  ('read', 1),\n",
       "  ('real', 1),\n",
       "  ('reason', 2),\n",
       "  ('reasonable', 1),\n",
       "  ('recent', 1),\n",
       "  ('recommend', 2),\n",
       "  ('recruiter', 2),\n",
       "  ('refer', 1),\n",
       "  ('reinforce', 1),\n",
       "  ('relate', 2),\n",
       "  ('relatively', 2),\n",
       "  ('rely', 1),\n",
       "  ('remember', 1),\n",
       "  ('remote', 1),\n",
       "  ('require', 5),\n",
       "  ('requirement', 1),\n",
       "  ('review', 2),\n",
       "  ('rewarding', 1),\n",
       "  ('robinhood', 1),\n",
       "  ('role', 6),\n",
       "  ('rote', 1),\n",
       "  ('round', 1),\n",
       "  ('runtime', 1),\n",
       "  ('save', 1),\n",
       "  ('scenario', 2),\n",
       "  ('science', 7),\n",
       "  ('scientist', 3),\n",
       "  ('scope', 1),\n",
       "  ('scratch', 2),\n",
       "  ('screen', 1),\n",
       "  ('search', 3),\n",
       "  ('section', 2),\n",
       "  ('see', 1),\n",
       "  ('session', 4),\n",
       "  ('set', 1),\n",
       "  ('setting', 1),\n",
       "  ('several', 1),\n",
       "  ('share', 1),\n",
       "  ('show', 3),\n",
       "  ('signal', 1),\n",
       "  ('significantly', 1),\n",
       "  ('simple', 1),\n",
       "  ('simplicity', 1),\n",
       "  ('single', 1),\n",
       "  ('skill', 3),\n",
       "  ('slack', 1),\n",
       "  ('snapchat', 1),\n",
       "  ('software', 3),\n",
       "  ('solution', 3),\n",
       "  ('solve', 4),\n",
       "  ('sometimes', 1),\n",
       "  ('source', 1),\n",
       "  ('specifically', 1),\n",
       "  ('speed', 1),\n",
       "  ('sql', 4),\n",
       "  ('square', 1),\n",
       "  ('stage', 1),\n",
       "  ('standard', 1),\n",
       "  ('start', 2),\n",
       "  ('statement', 1),\n",
       "  ('statistic', 1),\n",
       "  ('stellar', 1),\n",
       "  ('still', 2),\n",
       "  ('storage', 1),\n",
       "  ('strategy', 1),\n",
       "  ('strengths_weaknesse', 1),\n",
       "  ('strong', 1),\n",
       "  ('structure', 2),\n",
       "  ('sufficient', 1),\n",
       "  ('sum', 1),\n",
       "  ('support', 1),\n",
       "  ('sure', 1),\n",
       "  ('systematic', 1),\n",
       "  ('systematically', 1),\n",
       "  ('table', 1),\n",
       "  ('take', 2),\n",
       "  ('teach', 1),\n",
       "  ('tech', 1),\n",
       "  ('technical', 3),\n",
       "  ('technique', 1),\n",
       "  ('test', 1),\n",
       "  ('thank', 1),\n",
       "  ('theme', 2),\n",
       "  ('therefore', 1),\n",
       "  ('think', 2),\n",
       "  ('thought', 1),\n",
       "  ('time', 6),\n",
       "  ('tip', 4),\n",
       "  ('today', 1),\n",
       "  ('tool', 1),\n",
       "  ('topic', 3),\n",
       "  ('tps', 2),\n",
       "  ('transformation', 1),\n",
       "  ('tree', 1),\n",
       "  ('trend', 1),\n",
       "  ('twitter', 1),\n",
       "  ('type', 11),\n",
       "  ('typically', 3),\n",
       "  ('ultimate', 3),\n",
       "  ('understand', 3),\n",
       "  ('understanding', 2),\n",
       "  ('unfamiliar', 1),\n",
       "  ('unique', 1),\n",
       "  ('upstart', 1),\n",
       "  ('usually', 2),\n",
       "  ('value', 1),\n",
       "  ('various', 2),\n",
       "  ('vector', 1),\n",
       "  ('version', 1),\n",
       "  ('video', 3),\n",
       "  ('wang', 1),\n",
       "  ('want', 1),\n",
       "  ('way', 1),\n",
       "  ('well', 3),\n",
       "  ('whiteboard', 1),\n",
       "  ('window', 1),\n",
       "  ('wish', 1),\n",
       "  ('word', 1),\n",
       "  ('work', 1),\n",
       "  ('worth', 1),\n",
       "  ('write', 1),\n",
       "  ('year', 1),\n",
       "  ('youtube', 2)]]"
      ]
     },
     "execution_count": 41,
     "metadata": {},
     "output_type": "execute_result"
    }
   ],
   "source": [
    "# Human readable format of corpus (term-frequency)\n",
    "[[(id2word[id], freq) for id, freq in cp] for cp in corpus[:1]]"
   ]
  },
  {
   "cell_type": "markdown",
   "id": "3c62e90b-517b-494a-982f-abd0bc1f4fbd",
   "metadata": {},
   "source": [
    "### Build the LDA Model"
   ]
  },
  {
   "cell_type": "code",
   "execution_count": 47,
   "id": "e24be48a-0dc5-42b2-97d5-a30d6e807dc6",
   "metadata": {},
   "outputs": [],
   "source": [
    "lda_model = gensim.models.ldamodel.LdaModel(corpus=corpus,\n",
    "                                           id2word=id2word,\n",
    "                                           num_topics=10, \n",
    "                                           random_state=100,\n",
    "                                           update_every=1,\n",
    "                                           chunksize=100,\n",
    "                                           passes=10,\n",
    "                                           alpha='auto',\n",
    "                                           per_word_topics=True)"
   ]
  },
  {
   "cell_type": "code",
   "execution_count": 48,
   "id": "de78d528-ff75-4167-b703-d042a1dc8b46",
   "metadata": {},
   "outputs": [
    {
     "name": "stdout",
     "output_type": "stream",
     "text": [
      "[(0,\n",
      "  '0.015*\"system\" + 0.014*\"ai\" + 0.009*\"model\" + 0.009*\"machine\" + '\n",
      "  '0.008*\"application\" + 0.007*\"ml\" + 0.007*\"process\" + 0.006*\"technology\" + '\n",
      "  '0.006*\"human\" + 0.006*\"design\"'),\n",
      " (1,\n",
      "  '0.048*\"image\" + 0.033*\"model\" + 0.019*\"training\" + 0.018*\"network\" + '\n",
      "  '0.017*\"layer\" + 0.015*\"deep\" + 0.014*\"learning\" + 0.014*\"train\" + '\n",
      "  '0.013*\"input\" + 0.011*\"learn\"'),\n",
      " (2,\n",
      "  '0.012*\"time\" + 0.010*\"cluster\" + 0.010*\"analysis\" + 0.009*\"number\" + '\n",
      "  '0.008*\"see\" + 0.008*\"show\" + 0.008*\"customer\" + 0.008*\"datum\" + '\n",
      "  '0.007*\"group\" + 0.007*\"high\"'),\n",
      " (3,\n",
      "  '0.030*\"datum\" + 0.014*\"science\" + 0.013*\"work\" + 0.012*\"data\" + '\n",
      "  '0.012*\"learn\" + 0.008*\"time\" + 0.008*\"scientist\" + 0.007*\"good\" + '\n",
      "  '0.007*\"project\" + 0.007*\"well\"'),\n",
      " (4,\n",
      "  '0.086*\"datum\" + 0.032*\"data\" + 0.028*\"column\" + 0.019*\"table\" + '\n",
      "  '0.014*\"value\" + 0.014*\"dataframe\" + 0.013*\"panda\" + 0.013*\"query\" + '\n",
      "  '0.012*\"row\" + 0.012*\"dataset\"'),\n",
      " (5,\n",
      "  '0.101*\"model\" + 0.032*\"feature\" + 0.030*\"datum\" + 0.025*\"dataset\" + '\n",
      "  '0.018*\"prediction\" + 0.017*\"machine\" + 0.014*\"learning\" + 0.014*\"algorithm\" '\n",
      "  '+ 0.013*\"predict\" + 0.013*\"set\"'),\n",
      " (6,\n",
      "  '0.020*\"code\" + 0.016*\"create\" + 0.016*\"file\" + 0.016*\"python\" + 0.015*\"run\" '\n",
      "  '+ 0.008*\"follow\" + 0.008*\"api\" + 0.007*\"project\" + 0.007*\"need\" + '\n",
      "  '0.007*\"library\"'),\n",
      " (7,\n",
      "  '0.020*\"value\" + 0.013*\"probability\" + 0.013*\"variable\" + 0.012*\"mean\" + '\n",
      "  '0.011*\"distribution\" + 0.010*\"test\" + 0.010*\"sample\" + 0.007*\"time\" + '\n",
      "  '0.007*\"number\" + 0.007*\"give\"'),\n",
      " (8,\n",
      "  '0.033*\"function\" + 0.015*\"value\" + 0.012*\"code\" + 0.011*\"method\" + '\n",
      "  '0.011*\"number\" + 0.010*\"example\" + 0.010*\"python\" + 0.009*\"matrix\" + '\n",
      "  '0.009*\"list\" + 0.009*\"graph\"'),\n",
      " (9,\n",
      "  '0.044*\"word\" + 0.029*\"text\" + 0.020*\"state\" + 0.012*\"sentence\" + '\n",
      "  '0.011*\"tweet\" + 0.011*\"language\" + 0.011*\"nlp\" + 0.010*\"vector\" + '\n",
      "  '0.010*\"topic\" + 0.009*\"sentiment\"')]\n"
     ]
    }
   ],
   "source": [
    "pprint(lda_model.print_topics())\n",
    "doc_lda = lda_model[corpus]"
   ]
  },
  {
   "cell_type": "markdown",
   "id": "074dde9a-380c-436e-8dba-15fc7d1fc621",
   "metadata": {},
   "source": [
    "### Compute Model Perplexity and Coherence Score"
   ]
  },
  {
   "cell_type": "code",
   "execution_count": 49,
   "id": "c091c81c-0904-499d-8605-6960a67263ce",
   "metadata": {},
   "outputs": [
    {
     "name": "stdout",
     "output_type": "stream",
     "text": [
      "\n",
      "Perplexity:  -8.26654086129321\n",
      "\n",
      "Coherence Score:  0.4660213476164413\n"
     ]
    }
   ],
   "source": [
    "# Compute Perplexity\n",
    "print('\\nPerplexity: ', lda_model.log_perplexity(corpus))  # a measure of how good the model is. lower the better.\n",
    "\n",
    "# Compute Coherence Score\n",
    "coherence_model_lda = CoherenceModel(model=lda_model, texts=data_lemmatized, dictionary=id2word, coherence='c_v')\n",
    "coherence_lda = coherence_model_lda.get_coherence()\n",
    "print('\\nCoherence Score: ', coherence_lda)"
   ]
  },
  {
   "cell_type": "markdown",
   "id": "352fbbcd-c624-42fa-9db6-de26e5a0b9a8",
   "metadata": {},
   "source": [
    "### Visualize"
   ]
  },
  {
   "cell_type": "code",
   "execution_count": 50,
   "id": "7f6a1ff6-6794-49ba-9467-31de2b2d00bc",
   "metadata": {},
   "outputs": [],
   "source": [
    "pyLDAvis.enable_notebook()\n",
    "plot = gensimvis.prepare(lda_model, corpus, id2word)\n",
    "# Save pyLDA plot as html file\n",
    "pyLDAvis.save_html(plot, 'figures/LDA_spacy_TDS10.html')"
   ]
  },
  {
   "cell_type": "code",
   "execution_count": 51,
   "id": "29494a82-d80d-4272-8022-b43e7b7ca17a",
   "metadata": {},
   "outputs": [
    {
     "data": {
      "text/html": [
       "\n",
       "<link rel=\"stylesheet\" type=\"text/css\" href=\"https://cdn.jsdelivr.net/gh/bmabey/pyLDAvis@3.3.1/pyLDAvis/js/ldavis.v1.0.0.css\">\n",
       "\n",
       "\n",
       "<div id=\"ldavis_el478921402442381337283345945312\"></div>\n",
       "<script type=\"text/javascript\">\n",
       "\n",
       "var ldavis_el478921402442381337283345945312_data = {\"mdsDat\": {\"x\": [0.03020690134045359, -0.05668608680876279, -0.07163960092655272, -0.1594513923949674, -0.02945502615438445, 0.2718364527857719, 0.03915565159731929, 0.14331015646519646, -0.11715612546029365, -0.05012093044378068], \"y\": [0.12344554492809583, 0.15228279197239444, -0.037453601178621, -0.0027089494225650467, 0.06480191729376561, 0.1315461538686508, -0.19364523454637173, -0.17680933348583053, 0.03313952459218563, -0.09459881402170321], \"topics\": [1, 2, 3, 4, 5, 6, 7, 8, 9, 10], \"cluster\": [1, 1, 1, 1, 1, 1, 1, 1, 1, 1], \"Freq\": [22.37545090421381, 12.34402012561724, 10.948212410645985, 10.504419200844541, 9.496284324671016, 8.609147648682153, 8.03748021114629, 6.780344136852958, 6.5644690083380866, 4.3401720289879435]}, \"tinfo\": {\"Term\": [\"model\", \"datum\", \"image\", \"data\", \"function\", \"word\", \"feature\", \"dataset\", \"value\", \"column\", \"code\", \"science\", \"training\", \"text\", \"learning\", \"file\", \"python\", \"machine\", \"learn\", \"prediction\", \"train\", \"network\", \"table\", \"layer\", \"ai\", \"state\", \"probability\", \"system\", \"run\", \"deep\", \"scientist\", \"skill\", \"interview\", \"feel\", \"career\", \"journey\", \"teach\", \"ad\", \"stakeholder\", \"portfolio\", \"science\", \"interviewer\", \"hire\", \"podcast\", \"advice\", \"resume\", \"meeting\", \"certificate\", \"mentor\", \"colleague\", \"recruiter\", \"waste\", \"leader\", \"lane\", \"emotion\", \"engage\", \"cross\", \"bootcamp\", \"lesson\", \"phd\", \"technical\", \"professional\", \"experience\", \"book\", \"course\", \"ask\", \"analyst\", \"think\", \"role\", \"job\", \"student\", \"story\", \"question\", \"hard\", \"company\", \"people\", \"work\", \"engineer\", \"learn\", \"thing\", \"answer\", \"project\", \"really\", \"lot\", \"datum\", \"data\", \"know\", \"good\", \"business\", \"understand\", \"start\", \"help\", \"even\", \"time\", \"way\", \"well\", \"problem\", \"many\", \"take\", \"find\", \"need\", \"article\", \"want\", \"machine\", \"command\", \"script\", \"install\", \"docker\", \"instal\", \"directory\", \"container\", \"json\", \"url\", \"installation\", \"terminal\", \"git\", \"kubernete\", \"upload\", \"button\", \"linux\", \"streamlit\", \"jupyter\", \"port\", \"airflow\", \"pod\", \"endpoint\", \"html\", \"browser\", \"export\", \"flask\", \"serverless\", \"dash\", \"ui\", \"conda\", \"file\", \"api\", \"configure\", \"lambda\", \"folder\", \"app\", \"aws\", \"repository\", \"click\", \"jupyter_notebook\", \"server\", \"run\", \"template\", \"package\", \"notebook\", \"web\", \"download\", \"python\", \"code\", \"version\", \"create\", \"environment\", \"deploy\", \"page\", \"github\", \"library\", \"access\", \"project\", \"follow\", \"add\", \"build\", \"need\", \"step\", \"application\", \"start\", \"service\", \"see\", \"name\", \"new\", \"want\", \"set\", \"work\", \"first\", \"time\", \"variance\", \"linear_regression\", \"coefficient\", \"pvalue\", \"pca\", \"null_hypothesis\", \"bayesian\", \"standard_deviation\", \"sampling\", \"entropy\", \"approximate\", \"gaussian\", \"polynomial\", \"posterior\", \"coin\", \"covariance\", \"rmse\", \"slope\", \"multivariate\", \"espresso\", \"confidence_interval\", \"theorem\", \"approximation\", \"knn\", \"shap\", \"mse\", \"lime\", \"univariate\", \"principal_component\", \"surrogate\", \"equation\", \"distribution\", \"probability\", \"likelihood\", \"outlier\", \"hypothesis\", \"estimate\", \"linear\", \"random\", \"sample\", \"uncertainty\", \"optimal\", \"formula\", \"variable\", \"correlation\", \"reject\", \"mean\", \"observation\", \"statistical\", \"error\", \"value\", \"test\", \"calculate\", \"measure\", \"weight\", \"regression\", \"prior\", \"difference\", \"give\", \"number\", \"parameter\", \"point\", \"time\", \"example\", \"result\", \"see\", \"case\", \"follow\", \"take\", \"find\", \"problem\", \"function\", \"know\", \"datum\", \"well\", \"activation\", \"neuron\", \"array\", \"tuple\", \"motif\", \"rgb\", \"ggplot\", \"digit\", \"backpropagation\", \"rotation\", \"discriminator\", \"vertex\", \"detector\", \"width\", \"polygon\", \"relu\", \"numpy_array\", \"tile\", \"altair\", \"polar\", \"transpose\", \"reshape\", \"matrix_multiplication\", \"reconstruction\", \"twodimensional\", \"hex\", \"ann\", \"grey\", \"neo\", \"rectangle\", \"node\", \"element\", \"axis\", \"animation\", \"color\", \"numpy\", \"matrix\", \"matplotlib\", \"function\", \"graph\", \"loop\", \"parent\", \"object\", \"argument\", \"edge\", \"dictionary\", \"grid\", \"plot\", \"list\", \"visualization\", \"cell\", \"method\", \"return\", \"dimension\", \"pass\", \"value\", \"vector\", \"map\", \"number\", \"code\", \"python\", \"class\", \"call\", \"example\", \"line\", \"first\", \"create\", \"output\", \"define\", \"add\", \"see\", \"set\", \"way\", \"follow\", \"look\", \"player\", \"forecast\", \"season\", \"forecasting\", \"transaction\", \"stock\", \"station\", \"economic\", \"weather\", \"government\", \"participant\", \"death\", \"lockdown\", \"vaccine\", \"explainable\", \"neighborhood\", \"wildfire\", \"kmean\", \"stationary\", \"holiday\", \"political\", \"christmas\", \"seasonality\", \"pointer\", \"respondent\", \"kmeans_clustere\", \"crossover\", \"inventory\", \"national\", \"climate_change\", \"city\", \"revenue\", \"game\", \"country\", \"cluster\", \"income\", \"card\", \"rating\", \"trend\", \"win\", \"price\", \"customer\", \"clustering\", \"period\", \"group\", \"market\", \"analysis\", \"sale\", \"average\", \"year\", \"day\", \"high\", \"location\", \"series\", \"show\", \"time\", \"number\", \"area\", \"see\", \"rate\", \"plot\", \"result\", \"level\", \"look\", \"top\", \"datum\", \"people\", \"base\", \"first\", \"well\", \"find\", \"information\", \"ai\", \"audio\", \"music\", \"song\", \"protein\", \"artist\", \"healthcare\", \"playlist\", \"automl\", \"spotify\", \"governance\", \"chatbot\", \"privacy\", \"robot\", \"animal\", \"genetic\", \"heart_rate\", \"monitoring\", \"enterprise\", \"ethical\", \"innovation\", \"bot\", \"arm\", \"oracle\", \"ecg\", \"acceleration\", \"operational\", \"lidar\", \"apache_spark\", \"lifecycle\", \"sensor\", \"system\", \"factory\", \"technology\", \"artificial_intelligence\", \"ml\", \"mlop\", \"human\", \"researcher\", \"device\", \"infrastructure\", \"design\", \"monitor\", \"production\", \"modern\", \"framework\", \"application\", \"development\", \"platform\", \"health\", \"research\", \"service\", \"covid\", \"solution\", \"machine\", \"process\", \"quality\", \"decision\", \"develop\", \"provide\", \"challenge\", \"cloud\", \"model\", \"approach\", \"learning\", \"new\", \"user\", \"include\", \"product\", \"algorithm\", \"business\", \"datum\", \"tool\", \"require\", \"decision_tree\", \"ensemble\", \"decision_trees\", \"spam\", \"causal\", \"random_forest\", \"crossvalidation\", \"heart_disease\", \"svm\", \"cancer\", \"auc\", \"precision_recall\", \"wine\", \"confusion_matrix\", \"false_positive\", \"incorrectly\", \"imputation\", \"imbalanced\", \"fold\", \"gradient_booste\", \"specie\", \"cross_validation\", \"roc_curve\", \"michael\", \"grid_search\", \"leaf\", \"smite\", \"roc\", \"gini\", \"decision_boundary\", \"logistic_regression\", \"classifier\", \"sklearn\", \"prediction\", \"scikitlearn\", \"hyperparameter\", \"model\", \"predict\", \"accuracy\", \"classification\", \"feature\", \"tree\", \"supervise\", \"overfitte\", \"unseen\", \"split\", \"dataset\", \"metric\", \"validation\", \"class\", \"unsupervised\", \"categorical\", \"performance\", \"algorithm\", \"train\", \"training\", \"machine\", \"classify\", \"learning\", \"score\", \"target\", \"label\", \"set\", \"datum\", \"evaluate\", \"test\", \"good\", \"learn\", \"well\", \"value\", \"data\", \"see\", \"example\", \"neural_network\", \"gpu\", \"pixel\", \"pytorch\", \"epoch\", \"kera\", \"cnn\", \"autoencoder\", \"segmentation\", \"convolution\", \"gan\", \"convolutional\", \"opencv\", \"object_detection\", \"augmentation\", \"convolutional_neural\", \"retrain\", \"plant\", \"compression\", \"imagenet\", \"adversarial\", \"resnet\", \"softmax\", \"cnns\", \"mnist\", \"fastai\", \"yolo\", \"dnn\", \"coco\", \"rnns\", \"tensor\", \"layer\", \"image\", \"network\", \"tensorflow\", \"mask\", \"computer_vision\", \"optimizer\", \"deep\", \"loss\", \"detection\", \"gradient\", \"training\", \"architecture\", \"batch\", \"train\", \"input\", \"paper\", \"model\", \"learning\", \"output\", \"weight\", \"task\", \"learn\", \"face\", \"video\", \"dataset\", \"size\", \"label\", \"result\", \"feature\", \"well\", \"generate\", \"dataframe\", \"schema\", \"warehouse\", \"power_bi\", \"bigquery\", \"hadoop\", \"pyspark\", \"snowflake\", \"lake\", \"catalog\", \"county\", \"lineage\", \"mongodb\", \"mysql\", \"profiling\", \"clause\", \"yaml\", \"nan\", \"kafka\", \"nosql\", \"powerbi\", \"connector\", \"vba\", \"airtable\", \"relational_database\", \"missing\", \"buffer\", \"observability\", \"col\", \"replication\", \"spark\", \"sql\", \"panda\", \"column\", \"query\", \"table\", \"database\", \"row\", \"duplicate\", \"aggregation\", \"spreadsheet\", \"tableau\", \"excel\", \"date\", \"metadata\", \"datum\", \"data\", \"join\", \"record\", \"store\", \"filter\", \"format\", \"d\", \"miss\", \"report\", \"dataset\", \"value\", \"select\", \"name\", \"source\", \"example\", \"type\", \"case\", \"create\", \"analysis\", \"need\", \"set\", \"first\", \"result\", \"sentence\", \"tweet\", \"sentiment\", \"bert\", \"qubit\", \"quantum\", \"rl\", \"vocabulary\", \"react\", \"spacy\", \"markov_chain\", \"markov\", \"word_vec\", \"summarization\", \"tfidf\", \"nltk\", \"polarity\", \"cosine_similarity\", \"accent\", \"tokenizer\", \"tokenize\", \"tokenization\", \"modifier\", \"shoe\", \"echo\", \"qvalue\", \"quantum_compute\", \"corpus\", \"bandit\", \"mt\", \"embedding\", \"gpt\", \"agent\", \"reward\", \"nlp\", \"word\", \"text\", \"english\", \"gate\", \"character\", \"movie\", \"transformer\", \"state\", \"token\", \"document\", \"natural_language\", \"reinforcement\", \"sequence\", \"topic\", \"language\", \"action\", \"vector\", \"search\", \"embed\", \"similarity\", \"twitter\", \"review\", \"task\", \"article\", \"extract\", \"example\", \"give\", \"model\", \"analysis\", \"result\", \"step\"], \"Freq\": [60084.0, 87347.0, 18667.0, 28940.0, 25168.0, 11064.0, 18971.0, 19104.0, 28179.0, 10406.0, 23649.0, 16056.0, 12023.0, 7864.0, 18083.0, 10762.0, 17398.0, 18694.0, 23693.0, 8191.0, 9825.0, 7176.0, 7355.0, 6254.0, 6501.0, 7358.0, 8098.0, 8355.0, 13316.0, 7323.0, 8999.367518602965, 4229.282620954296, 2499.681740156305, 2438.383857074394, 1704.0255225906362, 1370.0584281730225, 1168.7560665850808, 1059.7926896616739, 955.531138997391, 939.414159661758, 16040.070930815777, 885.2462606470037, 842.5916400158616, 766.1213189758694, 738.2531858598505, 712.5578663938813, 655.0070325912726, 541.7847580376746, 501.17780375948416, 488.50223861934626, 487.8190804051175, 465.617308468876, 464.6475533910643, 447.3281296193297, 441.46650726689927, 434.7569676223541, 432.16234480272396, 424.2250105471198, 412.84100782018817, 407.4200622641908, 2089.7872210431433, 1136.6071998873595, 4248.707883418555, 3247.7162040208477, 4743.219580605796, 3609.05971322139, 1694.0215178805306, 5864.031676730267, 2536.7204270081907, 5902.31828821101, 1845.2226534732633, 2371.0365965757323, 6196.588851053749, 2496.037319849105, 5050.748933206064, 5859.3615126008335, 14691.254379798038, 2659.83834536252, 14183.185286216352, 5944.095376540801, 3340.1185811821133, 8386.460746423847, 3553.5115091217413, 4835.703569635835, 35006.82317704253, 14235.951863042883, 7765.8824585800985, 8520.994773177565, 4349.1726397765, 5776.646382378066, 7391.440653865633, 5160.04551310206, 5434.08288327463, 9917.30615642827, 7111.224801213003, 8186.351173687198, 6503.642179911075, 6116.1506646747985, 6320.31899489857, 6173.944969336756, 5854.675517406555, 5677.5308148741115, 5383.615086243429, 5587.816170394466, 3995.9916986463286, 3010.386725356494, 2542.496475952993, 2166.2188776625126, 2039.3983908693035, 1865.4936823302892, 1685.9176836036354, 1616.5328821321302, 1242.3223692052914, 1222.143083601631, 1199.9856300560905, 1172.5737667329809, 1060.8644983728566, 965.7201466501951, 849.8885280837169, 845.7191969534177, 806.7532638073341, 700.1883313292539, 676.6910932619143, 674.8812736308377, 636.3809334874404, 625.8570935888292, 624.1794454513193, 622.8719603147323, 612.1787933360691, 598.7256100105458, 597.3324449197129, 566.2168811139618, 567.9165139145999, 529.0420956932842, 10604.240220948946, 4903.847157884052, 833.6064004692314, 1429.2991433823129, 1852.9187561807585, 3821.0073323358843, 1510.292449305017, 1624.9304211275444, 2324.172357883097, 1750.2869702842343, 2041.0303756568571, 10012.032423591387, 1151.243824942377, 3881.285062396497, 2261.5065814351606, 2226.8180957764034, 2221.5377109687684, 10330.542609074744, 13231.744763703566, 3189.4042232917623, 10626.797087637962, 3497.2295613350702, 2310.0682930070843, 2492.426706838409, 2372.6395052875932, 4295.040939864742, 2869.2204929727473, 4707.79425646239, 4987.443688848944, 3799.8969360167926, 3855.649138230465, 4557.4004887602, 4080.8217800245475, 3386.8379422537328, 3890.417130068206, 2702.4327920918745, 4208.8637708403285, 3000.5330788785514, 3540.818522803269, 3300.6044563525393, 3497.4271221434547, 3307.0568044007655, 3175.901725054085, 3024.4695584688006, 1924.2752760252395, 1914.6052396201956, 1199.8927768048106, 1178.9105366655458, 1162.6197452851736, 979.9720346297057, 862.243755323984, 810.8984475987169, 740.5518241738421, 715.4933470357576, 642.086891496473, 638.073157287996, 627.8680409053702, 619.4937354232021, 584.0276755987319, 582.5082434497361, 561.0323247538428, 555.0444105307351, 542.4486959704682, 507.54512787084036, 503.4465207494086, 477.737607255198, 463.6692040857217, 457.7241269780038, 416.95347670561574, 380.91287200068666, 371.04337423372635, 370.85346190922326, 370.32135348524184, 355.92517793713563, 1794.0883742837955, 6379.4824519439, 7574.981870220684, 884.1385629128478, 1658.308407677467, 1559.9099176030797, 2856.8567067250533, 2316.7906625304627, 3308.423607701195, 5586.804435824418, 1006.1481498040802, 1621.294201815275, 1508.4094881022077, 7304.541378009423, 1831.9366184487453, 886.2929726615973, 7043.65900481366, 1788.3569485411435, 1763.236436048114, 3380.3130350449587, 11191.772075680075, 5793.628840128145, 3400.0091600752467, 2572.0766320370703, 2897.43116768331, 1841.7653157831207, 1396.8187691233952, 2463.189826505438, 3789.8150239085157, 3934.636125980306, 2824.7198553571325, 2374.2969691290173, 4235.731832901233, 3695.132378141196, 3227.868195186997, 3337.04080407618, 2834.360777214538, 2955.1589051074807, 2760.3417141981117, 2771.408714677911, 2581.76883823527, 2836.1159303570275, 2538.128535278917, 3108.464627415335, 2598.1039692019535, 1119.7763757003652, 1119.377221747736, 2971.301767093005, 716.855127338504, 555.4774405691472, 520.2432946720157, 492.23021538194706, 477.8819121780343, 473.6840363267919, 457.8531933336556, 450.4740989217518, 393.83290368539224, 392.93884368026164, 363.0015924668645, 355.35119509951795, 353.15033836970014, 352.6891329558958, 339.6219025100602, 309.54988077670237, 304.658354802163, 291.5140805958079, 286.9358232009444, 272.84133193657266, 266.88464794237683, 263.1987366893642, 261.5427122909541, 257.9608982104189, 244.16889580621583, 240.9279643267984, 226.33036609404454, 4657.158662830007, 2885.7254661569, 840.3850106916996, 554.7411520902364, 2794.525899712872, 1476.004043684629, 5156.7922870580505, 1018.6805462263125, 18195.646795110682, 4972.168655737366, 1731.9742336346721, 522.3552547550803, 4145.7190513558835, 1867.945547075388, 1658.060403916735, 1470.0480003869864, 622.458933581711, 4719.443593829164, 5109.884073335139, 2866.652698604689, 1576.5438126201798, 6107.772542808791, 2935.2410585726197, 2036.401713433898, 2152.556410624164, 8173.920515813584, 2859.6914024151115, 1836.776044181266, 5933.099697794805, 6478.448815042367, 5262.567187529609, 3630.7212675040378, 3601.499866549505, 5481.450144941768, 3197.779028889279, 4938.7878527596085, 4897.923201483503, 3195.1080930983953, 2811.886726074995, 3143.331098128582, 4322.924697983887, 3364.9462419221077, 3151.013306079794, 3054.336809220589, 2819.5345926909563, 2762.294913780255, 1699.6849625939535, 1313.0360338784715, 1064.3291543934597, 860.8244261014645, 743.8741248915009, 658.2116771029886, 627.4242008969081, 606.6424734555121, 545.9579943978033, 530.2815162349375, 529.9306903530644, 501.1985892904788, 501.21098432741474, 481.47261201613605, 719.0755945926014, 453.2305782783859, 442.07602968852876, 439.5045228901931, 417.96417864380567, 381.75393169899553, 377.00952858920715, 371.49052255202406, 350.2921712756746, 345.00458752857304, 337.9743137169418, 335.9785100476927, 334.71140712466206, 334.19478314358776, 325.68651701881527, 1998.3206726373667, 792.4256004109486, 2815.9424871023643, 1885.88482922581, 5131.743612060003, 656.8756195469102, 798.3703527985871, 1237.0410198511731, 2339.4089208204236, 1210.0737056128885, 1896.7758963996791, 3935.2245164646056, 1222.805957058341, 1111.8903012141677, 3636.474239210635, 1224.7480392474122, 4748.668392591932, 1199.4689985446794, 2488.294397567707, 3392.620537972634, 2647.8002199812026, 3470.967828822556, 1588.1086628652426, 2514.9685170537973, 4011.549215306106, 5873.627580553756, 4580.979065605532, 1713.8266571646327, 4083.6735025653975, 1718.986583615441, 2108.0074822028837, 2583.673164216377, 1874.9592412948675, 2542.3499645355014, 1731.7906567702419, 3879.8675864600064, 1947.4424054179674, 1954.3036954900635, 1959.8256265242806, 1885.3165109902252, 1779.3164719436093, 1744.825717809624, 6500.308200142196, 1082.7851779478872, 1012.7032667003381, 986.7367424682559, 981.0607463866098, 814.936543307935, 687.8474550288487, 667.5411739335269, 639.1827225499734, 591.544294430413, 544.8538260242682, 542.8506815525802, 535.7392246231168, 507.5561035161431, 494.5765695970584, 440.7649299454372, 433.80218081569643, 396.9214650136086, 376.29524160765465, 369.67378002886636, 363.08931161565175, 353.8340889264858, 344.4256425933965, 344.3359295722714, 344.45541565923077, 300.1679802307019, 289.3590970972583, 282.5492828074512, 281.7265852607864, 278.5312841750435, 920.7164655104485, 6913.23741392521, 576.2884074655029, 2748.044314700165, 1225.9760863322551, 3068.2897119919053, 735.6382141254555, 2646.053028252521, 1071.997876348937, 1450.8563058738807, 772.599191181737, 2636.3721084827225, 869.9317017088321, 1322.0702053520552, 916.182872991926, 1868.0455360325652, 3561.299756239696, 1685.525510387222, 1588.7186231211524, 1052.5322774123583, 2014.293565921119, 2272.848120607853, 1214.2333161161605, 2509.33216939168, 4021.9364485506862, 3019.0781422862246, 1417.5281154377312, 1644.8038327983356, 1726.1671630160884, 2546.336046967867, 1547.0219432634628, 1481.8983239285594, 4073.8699170933805, 1904.1218802138721, 2533.793972328263, 2209.892421548144, 1504.3864929102076, 1773.4104547680947, 1578.8997075541536, 1854.254777961674, 1621.720307519634, 2248.0021558553194, 1650.3124275856612, 1619.2243059122834, 851.7332000318776, 795.5854919328228, 619.5071758675847, 604.3178764433901, 601.2652606228208, 594.8785386728335, 545.6164600251863, 527.9893427538243, 512.6098339255311, 437.14307629644145, 397.9123621896074, 397.1680943615086, 359.79552513824336, 341.107451185567, 319.7833837372521, 318.06789590675714, 312.4546350065543, 304.1799866748049, 288.7579748688434, 283.70931234673395, 263.41039024733794, 255.29352257720993, 253.43238728806122, 244.1339662525771, 240.74245414063338, 237.9467190616817, 223.60693993738982, 219.26425824734795, 209.5168596790195, 207.30344480795023, 992.2857919461705, 3103.890393149124, 751.4935794176093, 7479.985208357335, 1338.2382639361601, 2026.4392229326174, 42479.31169668576, 5500.248472988141, 3815.965769834648, 3913.1780705181704, 13384.589460633482, 2620.1457187102997, 681.0059941481782, 687.3534976643308, 491.0336654822223, 2514.8106921030953, 10508.500909150796, 3589.906403183488, 1594.3134589227388, 5270.052345936091, 941.7149941614581, 1319.7212804010878, 3813.103608533389, 5769.9658001841335, 4545.031356426059, 5179.184019109676, 6990.696812203801, 1295.4965440517922, 6044.380711384851, 2629.14693755188, 2350.5497725670257, 2392.4905539864035, 5313.329495488389, 12764.797804051468, 1665.7508166135628, 3268.4421173720784, 3197.5353850910387, 3699.3893674452233, 3286.9743960963465, 2741.12537075852, 2654.1388845130678, 2400.2405086964864, 2367.492528167971, 3470.446402611311, 1881.5835519795407, 1728.358041791886, 1493.108755082603, 1087.6559179770984, 1065.760391518421, 1036.2817760433174, 997.8373955729957, 954.7340827264466, 937.8164213815822, 744.2907491278555, 677.955262388564, 653.2461222367269, 591.5267236936654, 591.3053069564982, 579.4022343083017, 438.9522299939613, 414.19400099882614, 332.9793012508142, 319.18231734088556, 315.9643720378481, 298.1777719979911, 297.41799084460337, 276.3317479364728, 272.39498398997745, 272.2460839223325, 272.1797498830317, 262.2267491108882, 253.9783553206144, 249.43410143003624, 1102.559737440547, 6067.000562083131, 17197.209197789092, 6487.815767173136, 2639.7113170310677, 1067.1954234160128, 1303.0638002551789, 596.5624449926291, 5166.160487676172, 3282.523888909195, 1456.062600216246, 1212.372761915186, 6843.187562557364, 2538.2733372166267, 1169.455713727621, 4980.273651499332, 4485.209978738707, 2240.299178462088, 11763.659340700828, 5024.637724646456, 3451.1744618466746, 2363.273389140789, 2651.683370463275, 3961.558816362613, 1531.9962171595762, 1617.33619938161, 2983.2313204458605, 1611.0410825098118, 1533.3566439406475, 1951.1575376487604, 1867.7690333859068, 1762.086502163938, 1488.3358472622906, 4649.276940846969, 1235.606388107001, 947.8412196871006, 777.6001997389882, 675.0592527076212, 514.249988662523, 504.1925480278565, 448.6793338534243, 444.8366999025146, 444.65344278235256, 434.2701271857024, 415.4276757347548, 401.8186824827111, 343.96728842992536, 332.3109023957238, 296.98896332616516, 288.13945016761164, 243.4197480495325, 237.48319029664003, 226.58435644553356, 224.2629127428907, 223.59500720433195, 223.43056827216992, 207.90526288190546, 176.0106964082727, 174.05750862931143, 170.54743610293008, 190.4728342345819, 165.62458811244596, 163.41258018076292, 2379.7049728457546, 3837.7505110075576, 4524.401687445806, 9572.67290095017, 4372.23381540772, 6446.22651374445, 3817.235002527313, 4128.956444967822, 734.3888354471588, 558.6682794630186, 372.1704671338615, 800.3554729782159, 1041.164858081258, 1882.7376080424654, 733.3071499854376, 29504.11543458761, 11140.316046488562, 1122.822981618099, 1745.3882182417535, 2292.930384185193, 1879.8924581716512, 1919.676670080393, 1049.8376404274027, 1750.7218532627342, 1475.9668593294978, 4070.818013489989, 4836.500134265481, 1760.6277474259537, 2043.220396545112, 1570.0432252436565, 2609.425400340843, 1945.8392365085635, 2088.957401898733, 2317.022309314193, 1800.2574099609078, 1866.1153023885433, 1853.0263317444667, 1779.5729381756419, 1622.592574808083, 2806.1419627908294, 2554.124613703443, 2157.1794520353483, 1277.5226025519019, 1023.1231940968474, 722.873484227493, 588.9006987222613, 579.4701959953794, 554.9781656877193, 456.9244868482118, 418.51655910796205, 416.20965384040915, 399.45314849411204, 366.88219802019256, 345.08549711217336, 326.45291882639066, 302.86022287703656, 278.655096457032, 272.8164249806252, 262.49132638924516, 258.57621867853305, 257.8917313355631, 247.96733989932628, 244.63554342357347, 240.0415869128025, 239.7646365093469, 224.41879930009299, 224.30647846642236, 204.74911296313633, 204.2792476232266, 1523.0577979981708, 1041.6363570442638, 2007.77532465606, 1411.1162556084346, 2426.6420822812574, 9894.590069213576, 6675.533744125347, 805.8357220895579, 476.4893836447289, 1928.011067145731, 780.1247605758648, 1730.4051806539828, 4462.364249255509, 1100.7460759585117, 2151.964249867122, 836.1248627826836, 846.361650673822, 1911.5183556027637, 2272.9336024261634, 2535.989789043753, 1747.5691170516643, 2386.9575407762736, 1790.3556513187325, 1029.0692361368574, 970.7973041054772, 1032.5382371567805, 1080.7071709490071, 1212.1744844713046, 1306.8979816290384, 991.3788857801358, 1213.4718258374442, 1160.5723398470225, 1292.413332579335, 1097.7178872228883, 1070.5259213819415, 1057.7440593473289], \"Total\": [60084.0, 87347.0, 18667.0, 28940.0, 25168.0, 11064.0, 18971.0, 19104.0, 28179.0, 10406.0, 23649.0, 16056.0, 12023.0, 7864.0, 18083.0, 10762.0, 17398.0, 18694.0, 23693.0, 8191.0, 9825.0, 7176.0, 7355.0, 6254.0, 6501.0, 7358.0, 8098.0, 8355.0, 13316.0, 7323.0, 9000.316723358967, 4230.2317523946695, 2500.630842615662, 2439.3440923794506, 1704.9746082594052, 1371.0076917989945, 1169.705348717603, 1060.742222772416, 956.480326234065, 940.3634600790805, 16056.664390757627, 886.1953815621874, 843.5407614697231, 767.0704058521255, 739.2023540157625, 713.5070518852809, 655.956261413973, 542.7338516390446, 502.12685969530514, 489.4514673573387, 488.7682304989932, 466.56660441565947, 465.5967531658814, 448.27981831349115, 442.41648707332104, 435.7061559054391, 433.1118829395821, 425.1740846562864, 413.7902890315496, 408.3692393470026, 2107.4185653035815, 1156.6040644146083, 4454.345983123587, 3426.4676754812695, 5089.099325153013, 3938.4516310623626, 1794.4212860945777, 6973.634757174388, 2848.7676348753726, 7167.612638249193, 2075.2753240290103, 2744.4490212214573, 7975.919545394561, 2939.8390301880795, 6512.952003517245, 7807.647244115021, 22925.181378172645, 3241.485157791202, 23693.770470853007, 8556.071492264866, 4329.376681145603, 13532.957868781037, 4707.106423161703, 7018.92337849479, 87347.59320491058, 28940.11357995763, 13758.136815531036, 16007.552039509967, 6386.613302808724, 10484.017714996171, 15476.52113469058, 8930.689918167447, 9815.830091731124, 28012.48204342885, 15962.770813526144, 20948.06834126478, 14129.123763563803, 13751.983672179009, 17409.235776493882, 18571.79533293647, 17971.280841043936, 17432.126874790774, 13539.241790193024, 18694.370007487767, 3996.9434826575316, 3011.338622560117, 2543.4482410379255, 2167.170572390724, 2040.3501907125117, 1866.445440487889, 1686.8694597475335, 1617.4846831860784, 1243.2742318641303, 1223.0948609756492, 1200.9375947809447, 1173.5254979800386, 1061.816235222364, 966.6719985893016, 850.8403655716813, 846.670932978852, 807.7049813603933, 701.1400772985784, 677.6429508140317, 675.8330991760184, 637.3326991735864, 626.8091128292531, 625.1313780929407, 623.8236849777178, 613.1308879013962, 599.6773493683236, 598.2841613978911, 567.1690133550414, 568.8723977831428, 529.9938050760856, 10762.155253560728, 5004.898939023828, 836.0128597768643, 1455.9955863357775, 1915.8038211341477, 4106.189330550619, 1565.259009509502, 1690.683421491935, 2575.4719421249324, 1898.6412102175407, 2246.6628276397246, 13316.47962538557, 1218.5456924062296, 4867.095186582244, 2687.081835868008, 2641.451946462956, 2700.3946310468054, 17398.41316405139, 23649.242566060897, 4341.780382780689, 22968.19509765522, 5287.700121274654, 3038.770041778108, 3428.7467733944973, 3296.0552059191564, 8609.6734645818, 4773.604067592985, 13532.957868781037, 17588.460838777155, 10331.95255664418, 11287.866560348413, 17971.280841043936, 13582.224920953058, 8768.586193239178, 15476.52113469058, 5089.452460567042, 24246.52546709132, 7422.265990314248, 15514.999322909727, 13539.241790193024, 19239.403702041625, 22925.181378172645, 21102.42048577672, 28012.48204342885, 1925.23016808944, 1915.560156370307, 1200.8477001599315, 1179.8653751684508, 1163.5746720924446, 980.9268420461798, 863.198647221503, 811.8533410099877, 741.5067806187272, 716.4483310665241, 643.0419206803455, 639.0280327992919, 628.8229375597148, 620.4485792250448, 584.9826729677126, 583.4630799950858, 561.9873060594624, 555.9992857336089, 543.4037190827826, 508.4999380653326, 504.4014037401464, 478.6926099763574, 464.6242875790865, 458.679254928428, 417.9087307650497, 381.8678303129925, 371.99842750445436, 371.8084646696236, 371.2763101295618, 356.88020839394704, 1806.7452082307946, 6753.197670995992, 8098.980666261008, 907.0681001071697, 1818.9959320106, 1712.2695499706226, 3293.9295535130404, 2636.793178863695, 3974.2973683352257, 7464.383807452697, 1106.116968126736, 1933.433021378104, 1844.2739427121367, 12398.449270094092, 2406.1254230055633, 979.9856965459019, 13200.245660795428, 2409.1042970909903, 2383.4688346861967, 5645.651261519507, 28179.129963413885, 11795.509007826571, 5911.450900725367, 4408.405287099271, 5432.614241570143, 3021.66274594507, 1909.76631761851, 5703.202481469138, 14576.31221983013, 18861.47616808939, 9056.518979050366, 6540.365410255488, 28012.48204342885, 22061.303050141694, 16583.794465500167, 24246.52546709132, 14294.044486105171, 17588.460838777155, 17409.235776493882, 18571.79533293647, 14129.123763563803, 25168.506515664172, 13758.136815531036, 87347.59320491058, 20948.06834126478, 1120.7289340909967, 1120.3297685209745, 2974.170783996452, 717.8075498449799, 556.4311543517529, 521.1959898262287, 493.1827251689729, 478.8345215068778, 474.6365965755144, 458.80566638777356, 451.42656041116754, 394.7853535091113, 393.89161567512315, 363.954262360824, 356.30377529627106, 354.1028727287286, 353.64163456480196, 340.5746171567025, 310.50251169833643, 305.63618758782326, 292.46658946879745, 287.8885215020022, 273.79392732913686, 267.83737534431884, 264.1514604920926, 262.4953054257904, 258.9135665857677, 245.12197014222608, 241.88051324721584, 227.2829376968426, 5161.241074331149, 3151.684961340494, 879.0981277707978, 573.4074038681998, 3091.360703061653, 1622.367388232764, 6226.090958913196, 1110.1760419573418, 25168.506515664172, 6441.803658794792, 2062.5584313082823, 552.7258580043517, 6076.207195870519, 2428.838697554067, 2156.4640869216805, 1885.289530472991, 686.4953773001702, 8215.88670347718, 9211.574416234653, 4665.355509173655, 2314.331520026698, 13941.89110974703, 5557.7608922941145, 3453.4347156347985, 3805.822842598244, 28179.129963413885, 6160.787699735653, 3271.4115363779174, 18861.47616808939, 23649.242566060897, 17398.41316405139, 9815.1096854113, 9951.626139702392, 22061.303050141694, 8419.781534201942, 21102.42048577672, 22968.19509765522, 9879.12671957908, 7364.480957684968, 10331.95255664418, 24246.52546709132, 19239.403702041625, 15962.770813526144, 17588.460838777155, 17006.444973827445, 2763.244118919442, 1700.6343347820678, 1313.9852707323776, 1065.2786018304887, 861.7737751110493, 744.8233818521484, 659.1609662372997, 628.3734428461725, 607.5917659395232, 546.907236920958, 531.2309290898941, 530.8799407507767, 502.1479212855173, 502.16052681157424, 482.4224179218955, 720.565603365496, 454.1799771822568, 443.02520868970504, 440.45385156415585, 418.9134555281298, 382.70318052461334, 377.9590471878803, 372.4397245113695, 351.24233657952476, 345.9539860106786, 338.9236653680185, 336.92862287613644, 335.66094193417416, 335.14402580955675, 326.63577997898216, 2046.8337274765386, 802.4667996530783, 3128.385891928565, 2075.632006038141, 6049.499813866565, 685.7872952414785, 844.8733575655899, 1377.3476375217986, 2817.178863478096, 1375.8830411562233, 2309.8669769103585, 5364.341897818784, 1413.0303179566322, 1300.0028231116087, 6618.536914820615, 1660.6168040103023, 10585.627371185017, 1635.7798470579478, 5002.215206646937, 8122.551931858194, 5811.927759413127, 8896.142873414483, 2680.2700583422634, 6044.727152426749, 13788.485649890452, 28012.48204342885, 18861.47616808939, 3789.836056412451, 24246.52546709132, 3894.1812563872004, 8215.88670347718, 16583.794465500167, 6134.3546661966175, 17006.444973827445, 4854.027452206552, 87347.59320491058, 7807.647244115021, 10690.319561805165, 21102.42048577672, 20948.06834126478, 18571.79533293647, 10197.514952422682, 6501.25332900721, 1083.7304403402823, 1013.6485041584499, 987.6818915474099, 982.0058919604712, 815.8816928501033, 688.792582209986, 668.4866043727861, 640.1278500087128, 592.4895135622971, 545.7989176327633, 543.7957816104964, 536.6844314116132, 508.50123248742216, 495.52205076012194, 441.7102325571682, 434.7483240785149, 397.8666252250206, 377.24033892041837, 370.6188553311798, 364.03449919441, 354.7792808118981, 345.37143195516927, 345.28172483729224, 345.40406330646647, 301.11337244675127, 290.3044839014498, 283.4947408480734, 282.6718259714405, 279.47651442844654, 965.3540924809693, 8355.996957145615, 606.3125830946595, 3312.7136704781756, 1436.2866429283806, 4045.0781373037194, 822.4624233293501, 3612.0564815932266, 1298.0828555122064, 1933.5456658729938, 906.3249203173623, 4252.130458137681, 1063.5520791006152, 1854.3650771558262, 1165.9467583407882, 3125.7440489100136, 8768.586193239178, 2984.055693592361, 2825.8633060805023, 1509.0367075404547, 4189.913058120442, 5089.452460567042, 1923.5683233325005, 6761.016355844719, 18694.370007487767, 12074.252747340128, 2868.8788905793813, 3906.821058407951, 4423.051551131154, 10716.477698595227, 3603.070057980696, 3540.2033146884673, 60084.671598, 7493.410268098779, 18083.3779998156, 15514.999322909727, 4156.002906909613, 8163.2300393597725, 5161.108168239625, 13180.162000979428, 6386.613302808724, 87347.59320491058, 8317.536023786568, 7120.400141971296, 852.6850451583089, 796.5373959174253, 620.4590111096538, 605.2697607107579, 602.2177224795611, 595.8303740992329, 546.5683205823601, 528.9414477789712, 513.5616749062912, 438.0952534224057, 398.8642345031299, 398.1199248775823, 360.74741171588613, 342.0592662807593, 320.73530046624535, 319.0203726439484, 313.40668236502887, 305.13181229079714, 289.7101505155153, 284.66114434443284, 264.36286726049156, 256.2455955975015, 254.38423830608698, 245.08736783867653, 241.69432023913376, 238.89860447069458, 224.55874893062028, 220.21613971832417, 210.46885791202985, 208.2552996996096, 1010.8961671957599, 3264.212713908762, 768.5366454363101, 8191.045662579082, 1417.5109887945175, 2277.563862313407, 60084.671598, 6824.373231842712, 4737.123309876149, 4906.739924309077, 18971.168334713122, 3263.0274098498403, 746.1940885812303, 767.6849508394245, 524.123282454565, 3441.442174342469, 19104.132322148667, 5785.633942340654, 2171.499036763951, 9815.1096854113, 1169.3053698999206, 1814.8088253646567, 7509.489286391918, 13180.162000979428, 9825.581166776787, 12023.222866612374, 18694.370007487767, 1824.9205604914096, 18083.3779998156, 5350.46010465431, 4527.944583765426, 4874.567837981127, 19239.403702041625, 87347.59320491058, 2847.681764840657, 11795.509007826571, 16007.552039509967, 23693.770470853007, 20948.06834126478, 28179.129963413885, 28940.11357995763, 24246.52546709132, 22061.303050141694, 3471.4009647796274, 1882.5379881261892, 1729.3203607129194, 1494.0632359931367, 1088.6103792793103, 1066.7148542543896, 1037.2362532012662, 998.7918309540324, 955.6889650213253, 938.7708117419345, 745.2451341618473, 678.9096620587187, 654.2006026822189, 592.481128359668, 592.2597271070542, 580.3566520277782, 439.9073463349616, 415.14879373437526, 333.9342118927748, 320.1366905671246, 316.9189540111309, 299.1321469186859, 298.41091253221055, 277.28612686973395, 273.3494587203678, 273.2005167750216, 273.13421742246123, 263.181213132073, 254.93283415443412, 250.38851327839697, 1110.8256478036856, 6254.273680690847, 18667.585827877458, 7176.441035619591, 2869.654728444484, 1151.7052376028726, 1428.9342813578673, 635.6918165754435, 7323.142389011542, 4443.576970403961, 1816.8034521595177, 1485.69520248634, 12023.222866612374, 3660.6230353313626, 1487.39571477632, 9825.581166776787, 9130.562986332445, 3818.290502378847, 60084.671598, 18083.3779998156, 9879.12671957908, 5432.614241570143, 8888.160404059054, 23693.770470853007, 2866.103476472684, 3299.71187810114, 19104.132322148667, 5765.619418104898, 4874.567837981127, 16583.794465500167, 18971.168334713122, 20948.06834126478, 6338.692800293831, 4650.214663280345, 1236.5440781107766, 948.7788999777258, 778.5378191514624, 675.9968756946956, 515.1876718082067, 505.13014768925353, 449.61720481238336, 445.7743559317136, 445.5911296299697, 435.2078488356978, 416.36552992227195, 402.756374638066, 344.90487289981115, 333.2494929676619, 297.9266764284054, 289.07782213693895, 244.35742416829768, 238.4208321617795, 227.52196134976265, 225.20055652614568, 224.53260584031196, 224.3682838774092, 208.84322683274144, 176.94827823754295, 174.99555556234858, 171.48607607308688, 191.5504715281949, 166.56223778922964, 164.3516035658104, 2437.003471520605, 3961.8854780757338, 4748.345812469533, 10406.156340520165, 4806.765556666274, 7355.85841743155, 4485.775149237896, 5089.001040813933, 822.7099884514832, 609.9301291131227, 396.1359537948295, 940.6565088493832, 1282.508122663918, 2679.879207402844, 884.075328238588, 87347.59320491058, 28940.11357995763, 1583.231530142502, 3204.0029824101807, 4818.793689621619, 3764.745364245492, 3897.4200389986304, 1622.6158294429936, 3659.566925092747, 3012.999972268718, 19104.132322148667, 28179.129963413885, 5104.983965268166, 7422.265990314248, 4767.641049659982, 22061.303050141694, 10190.076539247866, 14294.044486105171, 22968.19509765522, 10585.627371185017, 17971.280841043936, 19239.403702041625, 21102.42048577672, 16583.794465500167, 2807.0914198528894, 2555.074062778704, 2158.128915176951, 1278.4720389197394, 1024.0726010219241, 723.8229780912391, 589.8501604051238, 580.4196110838863, 555.9283367938078, 457.87395206995205, 419.46613260145153, 417.1592328469205, 400.4025919831684, 367.8316814585102, 346.03488168752153, 327.40233271923216, 303.8097285093969, 279.6045984853128, 273.7663041305229, 263.44074331728876, 259.52562917884103, 258.8411404579326, 248.91796361252753, 245.5870504709679, 240.9914797253872, 240.71407108534166, 225.36822614184032, 225.25597633806893, 205.69864933453246, 205.23085772204755, 1560.754034094411, 1063.379915379262, 2091.256134218343, 1462.7404076190403, 2549.8546658044193, 11064.437051726003, 7864.5365676716365, 850.9065090203986, 497.62232285682603, 2271.2714611926895, 882.3123363815375, 2139.759029757876, 7358.861267581351, 1426.1869266944313, 3349.23606088847, 1043.5790119316468, 1060.543984737463, 3062.2341178614297, 5021.891430873242, 6520.93982168165, 3677.89696217233, 6160.787699735653, 4748.63284723937, 1718.8244411800438, 1585.5075853399117, 2225.8523311919557, 3326.588595647351, 8888.160404059054, 17432.126874790774, 3145.735604362505, 22061.303050141694, 14576.31221983013, 60084.671598, 10585.627371185017, 16583.794465500167, 13582.224920953058], \"Category\": [\"Default\", \"Default\", \"Default\", \"Default\", \"Default\", \"Default\", \"Default\", \"Default\", \"Default\", \"Default\", \"Default\", \"Default\", \"Default\", \"Default\", \"Default\", \"Default\", \"Default\", \"Default\", \"Default\", \"Default\", \"Default\", \"Default\", \"Default\", \"Default\", \"Default\", \"Default\", \"Default\", \"Default\", \"Default\", \"Default\", \"Topic1\", \"Topic1\", \"Topic1\", \"Topic1\", \"Topic1\", \"Topic1\", \"Topic1\", \"Topic1\", \"Topic1\", \"Topic1\", \"Topic1\", \"Topic1\", \"Topic1\", \"Topic1\", \"Topic1\", \"Topic1\", \"Topic1\", \"Topic1\", \"Topic1\", \"Topic1\", \"Topic1\", \"Topic1\", \"Topic1\", \"Topic1\", \"Topic1\", \"Topic1\", \"Topic1\", \"Topic1\", \"Topic1\", \"Topic1\", \"Topic1\", \"Topic1\", \"Topic1\", \"Topic1\", \"Topic1\", \"Topic1\", \"Topic1\", \"Topic1\", \"Topic1\", \"Topic1\", \"Topic1\", \"Topic1\", \"Topic1\", \"Topic1\", \"Topic1\", \"Topic1\", \"Topic1\", \"Topic1\", \"Topic1\", \"Topic1\", \"Topic1\", \"Topic1\", \"Topic1\", \"Topic1\", \"Topic1\", \"Topic1\", \"Topic1\", \"Topic1\", \"Topic1\", \"Topic1\", \"Topic1\", \"Topic1\", \"Topic1\", \"Topic1\", \"Topic1\", \"Topic1\", \"Topic1\", \"Topic1\", \"Topic1\", \"Topic1\", \"Topic1\", \"Topic1\", \"Topic1\", \"Topic1\", \"Topic2\", \"Topic2\", \"Topic2\", \"Topic2\", \"Topic2\", \"Topic2\", \"Topic2\", \"Topic2\", \"Topic2\", \"Topic2\", \"Topic2\", \"Topic2\", \"Topic2\", \"Topic2\", \"Topic2\", \"Topic2\", \"Topic2\", \"Topic2\", \"Topic2\", \"Topic2\", \"Topic2\", \"Topic2\", \"Topic2\", \"Topic2\", \"Topic2\", \"Topic2\", \"Topic2\", \"Topic2\", \"Topic2\", \"Topic2\", \"Topic2\", \"Topic2\", \"Topic2\", \"Topic2\", \"Topic2\", \"Topic2\", \"Topic2\", \"Topic2\", \"Topic2\", \"Topic2\", \"Topic2\", \"Topic2\", \"Topic2\", \"Topic2\", \"Topic2\", \"Topic2\", \"Topic2\", \"Topic2\", \"Topic2\", \"Topic2\", \"Topic2\", \"Topic2\", \"Topic2\", \"Topic2\", \"Topic2\", \"Topic2\", \"Topic2\", \"Topic2\", \"Topic2\", \"Topic2\", \"Topic2\", \"Topic2\", \"Topic2\", \"Topic2\", \"Topic2\", \"Topic2\", \"Topic2\", \"Topic2\", \"Topic2\", \"Topic2\", \"Topic2\", \"Topic2\", \"Topic2\", \"Topic2\", \"Topic3\", \"Topic3\", \"Topic3\", \"Topic3\", \"Topic3\", \"Topic3\", \"Topic3\", \"Topic3\", \"Topic3\", \"Topic3\", \"Topic3\", \"Topic3\", \"Topic3\", \"Topic3\", \"Topic3\", \"Topic3\", \"Topic3\", \"Topic3\", \"Topic3\", \"Topic3\", \"Topic3\", \"Topic3\", \"Topic3\", \"Topic3\", \"Topic3\", \"Topic3\", \"Topic3\", \"Topic3\", \"Topic3\", \"Topic3\", \"Topic3\", \"Topic3\", \"Topic3\", \"Topic3\", \"Topic3\", \"Topic3\", \"Topic3\", \"Topic3\", \"Topic3\", \"Topic3\", \"Topic3\", \"Topic3\", \"Topic3\", \"Topic3\", \"Topic3\", \"Topic3\", \"Topic3\", \"Topic3\", \"Topic3\", \"Topic3\", \"Topic3\", \"Topic3\", \"Topic3\", \"Topic3\", \"Topic3\", \"Topic3\", \"Topic3\", \"Topic3\", \"Topic3\", \"Topic3\", \"Topic3\", \"Topic3\", \"Topic3\", \"Topic3\", \"Topic3\", \"Topic3\", \"Topic3\", \"Topic3\", \"Topic3\", \"Topic3\", \"Topic3\", \"Topic3\", \"Topic3\", \"Topic3\", \"Topic3\", \"Topic4\", \"Topic4\", \"Topic4\", \"Topic4\", \"Topic4\", \"Topic4\", \"Topic4\", \"Topic4\", \"Topic4\", \"Topic4\", \"Topic4\", \"Topic4\", \"Topic4\", \"Topic4\", \"Topic4\", \"Topic4\", \"Topic4\", \"Topic4\", \"Topic4\", \"Topic4\", \"Topic4\", \"Topic4\", \"Topic4\", \"Topic4\", \"Topic4\", \"Topic4\", \"Topic4\", \"Topic4\", \"Topic4\", \"Topic4\", \"Topic4\", \"Topic4\", \"Topic4\", \"Topic4\", \"Topic4\", \"Topic4\", \"Topic4\", \"Topic4\", \"Topic4\", \"Topic4\", \"Topic4\", \"Topic4\", \"Topic4\", \"Topic4\", \"Topic4\", \"Topic4\", \"Topic4\", \"Topic4\", \"Topic4\", \"Topic4\", \"Topic4\", \"Topic4\", \"Topic4\", \"Topic4\", \"Topic4\", \"Topic4\", \"Topic4\", \"Topic4\", \"Topic4\", \"Topic4\", \"Topic4\", \"Topic4\", \"Topic4\", \"Topic4\", \"Topic4\", \"Topic4\", \"Topic4\", \"Topic4\", \"Topic4\", \"Topic4\", \"Topic4\", \"Topic4\", \"Topic4\", \"Topic4\", \"Topic4\", \"Topic5\", \"Topic5\", \"Topic5\", \"Topic5\", \"Topic5\", \"Topic5\", \"Topic5\", \"Topic5\", \"Topic5\", \"Topic5\", \"Topic5\", \"Topic5\", \"Topic5\", \"Topic5\", \"Topic5\", \"Topic5\", \"Topic5\", \"Topic5\", \"Topic5\", \"Topic5\", \"Topic5\", \"Topic5\", \"Topic5\", \"Topic5\", \"Topic5\", \"Topic5\", \"Topic5\", \"Topic5\", \"Topic5\", \"Topic5\", \"Topic5\", \"Topic5\", \"Topic5\", \"Topic5\", \"Topic5\", \"Topic5\", \"Topic5\", \"Topic5\", \"Topic5\", \"Topic5\", \"Topic5\", \"Topic5\", \"Topic5\", \"Topic5\", \"Topic5\", \"Topic5\", \"Topic5\", \"Topic5\", \"Topic5\", \"Topic5\", \"Topic5\", \"Topic5\", \"Topic5\", \"Topic5\", \"Topic5\", \"Topic5\", \"Topic5\", \"Topic5\", \"Topic5\", \"Topic5\", \"Topic5\", \"Topic5\", \"Topic5\", \"Topic5\", \"Topic5\", \"Topic5\", \"Topic5\", \"Topic5\", \"Topic5\", \"Topic5\", \"Topic5\", \"Topic5\", \"Topic6\", \"Topic6\", \"Topic6\", \"Topic6\", \"Topic6\", \"Topic6\", \"Topic6\", \"Topic6\", \"Topic6\", \"Topic6\", \"Topic6\", \"Topic6\", \"Topic6\", \"Topic6\", \"Topic6\", \"Topic6\", \"Topic6\", \"Topic6\", \"Topic6\", \"Topic6\", \"Topic6\", \"Topic6\", \"Topic6\", \"Topic6\", \"Topic6\", \"Topic6\", \"Topic6\", \"Topic6\", \"Topic6\", \"Topic6\", \"Topic6\", \"Topic6\", \"Topic6\", \"Topic6\", \"Topic6\", \"Topic6\", \"Topic6\", \"Topic6\", \"Topic6\", \"Topic6\", \"Topic6\", \"Topic6\", \"Topic6\", \"Topic6\", \"Topic6\", \"Topic6\", \"Topic6\", \"Topic6\", \"Topic6\", \"Topic6\", \"Topic6\", \"Topic6\", \"Topic6\", \"Topic6\", \"Topic6\", \"Topic6\", \"Topic6\", \"Topic6\", \"Topic6\", \"Topic6\", \"Topic6\", \"Topic6\", \"Topic6\", \"Topic6\", \"Topic6\", \"Topic6\", \"Topic6\", \"Topic6\", \"Topic6\", \"Topic6\", \"Topic6\", \"Topic6\", \"Topic6\", \"Topic6\", \"Topic7\", \"Topic7\", \"Topic7\", \"Topic7\", \"Topic7\", \"Topic7\", \"Topic7\", \"Topic7\", \"Topic7\", \"Topic7\", \"Topic7\", \"Topic7\", \"Topic7\", \"Topic7\", \"Topic7\", \"Topic7\", \"Topic7\", \"Topic7\", \"Topic7\", \"Topic7\", \"Topic7\", \"Topic7\", \"Topic7\", \"Topic7\", \"Topic7\", \"Topic7\", \"Topic7\", \"Topic7\", \"Topic7\", \"Topic7\", \"Topic7\", \"Topic7\", \"Topic7\", \"Topic7\", \"Topic7\", \"Topic7\", \"Topic7\", \"Topic7\", \"Topic7\", \"Topic7\", \"Topic7\", \"Topic7\", \"Topic7\", \"Topic7\", \"Topic7\", \"Topic7\", \"Topic7\", \"Topic7\", \"Topic7\", \"Topic7\", \"Topic7\", \"Topic7\", \"Topic7\", \"Topic7\", \"Topic7\", \"Topic7\", \"Topic7\", \"Topic7\", \"Topic7\", \"Topic7\", \"Topic7\", \"Topic7\", \"Topic7\", \"Topic7\", \"Topic7\", \"Topic7\", \"Topic7\", \"Topic7\", \"Topic7\", \"Topic7\", \"Topic7\", \"Topic7\", \"Topic7\", \"Topic8\", \"Topic8\", \"Topic8\", \"Topic8\", \"Topic8\", \"Topic8\", \"Topic8\", \"Topic8\", \"Topic8\", \"Topic8\", \"Topic8\", \"Topic8\", \"Topic8\", \"Topic8\", \"Topic8\", \"Topic8\", \"Topic8\", \"Topic8\", \"Topic8\", \"Topic8\", \"Topic8\", \"Topic8\", \"Topic8\", \"Topic8\", \"Topic8\", \"Topic8\", \"Topic8\", \"Topic8\", \"Topic8\", \"Topic8\", \"Topic8\", \"Topic8\", \"Topic8\", \"Topic8\", \"Topic8\", \"Topic8\", \"Topic8\", \"Topic8\", \"Topic8\", \"Topic8\", \"Topic8\", \"Topic8\", \"Topic8\", \"Topic8\", \"Topic8\", \"Topic8\", \"Topic8\", \"Topic8\", \"Topic8\", \"Topic8\", \"Topic8\", \"Topic8\", \"Topic8\", \"Topic8\", \"Topic8\", \"Topic8\", \"Topic8\", \"Topic8\", \"Topic8\", \"Topic8\", \"Topic8\", \"Topic8\", \"Topic8\", \"Topic9\", \"Topic9\", \"Topic9\", \"Topic9\", \"Topic9\", \"Topic9\", \"Topic9\", \"Topic9\", \"Topic9\", \"Topic9\", \"Topic9\", \"Topic9\", \"Topic9\", \"Topic9\", \"Topic9\", \"Topic9\", \"Topic9\", \"Topic9\", \"Topic9\", \"Topic9\", \"Topic9\", \"Topic9\", \"Topic9\", \"Topic9\", \"Topic9\", \"Topic9\", \"Topic9\", \"Topic9\", \"Topic9\", \"Topic9\", \"Topic9\", \"Topic9\", \"Topic9\", \"Topic9\", \"Topic9\", \"Topic9\", \"Topic9\", \"Topic9\", \"Topic9\", \"Topic9\", \"Topic9\", \"Topic9\", \"Topic9\", \"Topic9\", \"Topic9\", \"Topic9\", \"Topic9\", \"Topic9\", \"Topic9\", \"Topic9\", \"Topic9\", \"Topic9\", \"Topic9\", \"Topic9\", \"Topic9\", \"Topic9\", \"Topic9\", \"Topic9\", \"Topic9\", \"Topic9\", \"Topic9\", \"Topic9\", \"Topic9\", \"Topic9\", \"Topic9\", \"Topic9\", \"Topic9\", \"Topic9\", \"Topic9\", \"Topic10\", \"Topic10\", \"Topic10\", \"Topic10\", \"Topic10\", \"Topic10\", \"Topic10\", \"Topic10\", \"Topic10\", \"Topic10\", \"Topic10\", \"Topic10\", \"Topic10\", \"Topic10\", \"Topic10\", \"Topic10\", \"Topic10\", \"Topic10\", \"Topic10\", \"Topic10\", \"Topic10\", \"Topic10\", \"Topic10\", \"Topic10\", \"Topic10\", \"Topic10\", \"Topic10\", \"Topic10\", \"Topic10\", \"Topic10\", \"Topic10\", \"Topic10\", \"Topic10\", \"Topic10\", \"Topic10\", \"Topic10\", \"Topic10\", \"Topic10\", \"Topic10\", \"Topic10\", \"Topic10\", \"Topic10\", \"Topic10\", \"Topic10\", \"Topic10\", \"Topic10\", \"Topic10\", \"Topic10\", \"Topic10\", \"Topic10\", \"Topic10\", \"Topic10\", \"Topic10\", \"Topic10\", \"Topic10\", \"Topic10\", \"Topic10\", \"Topic10\", \"Topic10\", \"Topic10\", \"Topic10\", \"Topic10\", \"Topic10\", \"Topic10\", \"Topic10\", \"Topic10\"], \"logprob\": [30.0, 29.0, 28.0, 27.0, 26.0, 25.0, 24.0, 23.0, 22.0, 21.0, 20.0, 19.0, 18.0, 17.0, 16.0, 15.0, 14.0, 13.0, 12.0, 11.0, 10.0, 9.0, 8.0, 7.0, 6.0, 5.0, 4.0, 3.0, 2.0, 1.0, -4.8696, -5.6247, -6.1506, -6.1754, -6.5337, -6.7519, -6.9108, -7.0087, -7.1122, -7.1292, -4.2916, -7.1886, -7.238, -7.3331, -7.3702, -7.4056, -7.4898, -7.6796, -7.7575, -7.7831, -7.7845, -7.8311, -7.8332, -7.8712, -7.8844, -7.8997, -7.9057, -7.9242, -7.9514, -7.9646, -6.3297, -6.9387, -5.6201, -5.8888, -5.51, -5.7833, -6.5396, -5.2979, -6.1359, -5.2914, -6.4541, -6.2034, -5.2427, -6.152, -5.4472, -5.2987, -4.3795, -6.0885, -4.4147, -5.2843, -5.8607, -4.9401, -5.7988, -5.4907, -3.5112, -4.411, -5.017, -4.9242, -5.5967, -5.3129, -5.0664, -5.4258, -5.374, -4.7724, -5.1051, -4.9643, -5.1944, -5.2558, -5.223, -5.2464, -5.2995, -5.3302, -5.3834, -5.3461, -5.0866, -5.3699, -5.5388, -5.699, -5.7593, -5.8484, -5.9496, -5.9917, -6.255, -6.2713, -6.2896, -6.3127, -6.4129, -6.5068, -6.6346, -6.6395, -6.6867, -6.8283, -6.8625, -6.8652, -6.9239, -6.9406, -6.9433, -6.9454, -6.9627, -6.9849, -6.9872, -7.0407, -7.0377, -7.1086, -4.1107, -4.8819, -6.6539, -6.1148, -5.8552, -5.1314, -6.0596, -5.9865, -5.6286, -5.9122, -5.7585, -4.1682, -6.3311, -5.1158, -5.6559, -5.6714, -5.6737, -4.1368, -3.8893, -5.3121, -4.1086, -5.22, -5.6347, -5.5587, -5.6079, -5.0145, -5.4179, -4.9227, -4.865, -5.137, -5.1224, -4.9552, -5.0656, -5.252, -5.1134, -5.4778, -5.0347, -5.3731, -5.2076, -5.2778, -5.2199, -5.2759, -5.3163, -5.3652, -5.6974, -5.7024, -6.1697, -6.1874, -6.2013, -6.3722, -6.5002, -6.5616, -6.6523, -6.6867, -6.795, -6.8012, -6.8174, -6.8308, -6.8897, -6.8924, -6.9299, -6.9406, -6.9636, -7.0301, -7.0382, -7.0906, -7.1205, -7.1334, -7.2267, -7.3171, -7.3434, -7.3439, -7.3453, -7.385, -5.7674, -4.4989, -4.3271, -6.4751, -5.8461, -5.9073, -5.3022, -5.5118, -5.1555, -4.6315, -6.3458, -5.8687, -5.9409, -4.3634, -5.7466, -6.4726, -4.3998, -5.7706, -5.7848, -5.134, -3.9368, -4.5952, -5.1282, -5.4072, -5.2881, -5.7412, -6.0177, -5.4505, -5.0196, -4.9821, -5.3135, -5.4872, -4.9084, -5.0449, -5.1801, -5.1469, -5.3101, -5.2684, -5.3366, -5.3326, -5.4035, -5.3095, -5.4205, -5.2178, -5.3972, -6.1974, -6.1978, -5.2216, -6.6434, -6.8985, -6.964, -7.0194, -7.049, -7.0578, -7.0918, -7.108, -7.2424, -7.2447, -7.3239, -7.3452, -7.3514, -7.3527, -7.3905, -7.4832, -7.4991, -7.5432, -7.5591, -7.6094, -7.6315, -7.6454, -7.6517, -7.6655, -7.7205, -7.7338, -7.7963, -4.7722, -5.2508, -6.4845, -6.8998, -5.2829, -5.9212, -4.6702, -6.2921, -3.4094, -4.7067, -5.7613, -6.96, -4.8885, -5.6857, -5.8049, -5.9253, -6.7846, -4.7589, -4.6794, -5.2574, -5.8553, -4.501, -5.2338, -5.5994, -5.5439, -4.2096, -5.2598, -5.7026, -4.53, -4.4421, -4.6499, -5.0211, -5.0292, -4.6092, -5.1481, -4.7134, -4.7218, -5.1489, -5.2767, -5.1653, -4.8466, -5.0971, -5.1628, -5.194, -5.274, -5.1936, -5.6792, -5.9373, -6.1473, -6.3595, -6.5055, -6.6279, -6.6758, -6.7095, -6.8149, -6.844, -6.8447, -6.9004, -6.9004, -6.9406, -6.5395, -7.001, -7.0259, -7.0318, -7.082, -7.1726, -7.1852, -7.1999, -7.2587, -7.2739, -7.2945, -7.3004, -7.3042, -7.3057, -7.3315, -5.5174, -6.4423, -5.1744, -5.5753, -4.5742, -6.6299, -6.4348, -5.9969, -5.3598, -6.019, -5.5695, -4.8397, -6.0085, -6.1036, -4.9187, -6.0069, -4.6518, -6.0278, -5.2981, -4.9881, -5.2359, -4.9652, -5.7471, -5.2874, -4.8205, -4.4392, -4.6878, -5.6709, -4.8027, -5.6679, -5.4639, -5.2605, -5.5811, -5.2766, -5.6605, -4.8539, -5.5431, -5.5396, -5.5368, -5.5756, -5.6334, -5.653, -4.2397, -6.0321, -6.099, -6.1249, -6.1307, -6.3162, -6.4858, -6.5157, -6.5592, -6.6366, -6.7188, -6.7225, -6.7357, -6.7897, -6.8156, -6.9308, -6.9468, -7.0356, -7.089, -7.1067, -7.1247, -7.1505, -7.1775, -7.1777, -7.1774, -7.315, -7.3517, -7.3755, -7.3784, -7.3898, -6.1942, -4.1782, -6.6627, -5.1007, -5.9079, -4.9905, -6.4186, -5.1385, -6.0421, -5.7394, -6.3696, -5.1422, -6.2509, -5.8324, -6.1991, -5.4867, -4.8415, -5.5895, -5.6487, -6.0604, -5.4113, -5.2906, -5.9175, -5.1916, -4.7198, -5.0066, -5.7627, -5.614, -5.5657, -5.1769, -5.6753, -5.7183, -4.707, -5.4676, -5.1819, -5.3186, -5.7032, -5.5387, -5.6549, -5.4941, -5.6281, -5.3015, -5.6106, -5.6296, -6.2034, -6.2716, -6.5217, -6.5465, -6.5516, -6.5623, -6.6487, -6.6816, -6.7111, -6.8704, -6.9644, -6.9663, -7.0651, -7.1184, -7.183, -7.1884, -7.2062, -7.233, -7.285, -7.3027, -7.3769, -7.4082, -7.4155, -7.4529, -7.4669, -7.4786, -7.5407, -7.5604, -7.6058, -7.6165, -6.0506, -4.9102, -6.3286, -4.0307, -5.7515, -5.3366, -2.2939, -4.3381, -4.7037, -4.6785, -3.4488, -5.0797, -6.4271, -6.4178, -6.7541, -5.1207, -3.6907, -4.7648, -5.5764, -4.3808, -6.1029, -5.7655, -4.7044, -4.2902, -4.5288, -4.3982, -4.0983, -5.784, -4.2438, -5.0762, -5.1882, -5.1705, -4.3727, -3.4962, -5.5326, -4.8586, -4.8805, -4.7347, -4.8529, -5.0345, -5.0668, -5.1673, -5.1811, -4.6285, -5.2407, -5.3256, -5.4719, -5.7888, -5.8091, -5.8372, -5.875, -5.9191, -5.937, -6.1681, -6.2615, -6.2986, -6.3978, -6.3982, -6.4186, -6.6962, -6.7542, -6.9725, -7.0148, -7.0249, -7.0829, -7.0854, -7.1589, -7.1733, -7.1738, -7.1741, -7.2113, -7.2433, -7.2614, -5.7752, -4.0699, -3.028, -4.0029, -4.9021, -5.8078, -5.6081, -6.3894, -4.2307, -4.6842, -5.4971, -5.6802, -3.9495, -4.9413, -5.7163, -4.2673, -4.372, -5.0662, -3.4078, -4.2584, -4.6341, -5.0127, -4.8976, -4.4962, -5.4462, -5.392, -4.7798, -5.3959, -5.4453, -5.2044, -5.248, -5.3063, -5.4751, -4.3037, -5.6289, -5.894, -6.092, -6.2334, -6.5055, -6.5252, -6.6419, -6.6505, -6.6509, -6.6745, -6.7189, -6.7522, -6.9076, -6.9421, -7.0545, -7.0847, -7.2534, -7.2781, -7.3251, -7.3354, -7.3384, -7.3391, -7.4111, -7.5776, -7.5888, -7.6092, -7.4987, -7.6385, -7.6519, -4.9735, -4.4956, -4.331, -3.5815, -4.3652, -3.9769, -4.5009, -4.4224, -6.1492, -6.4226, -6.8288, -6.0631, -5.8001, -5.2077, -6.1506, -2.4559, -3.4299, -5.7246, -5.2835, -5.0106, -5.2092, -5.1883, -5.7918, -5.2804, -5.4511, -4.4366, -4.2642, -5.2748, -5.1259, -5.3893, -4.8813, -5.1747, -5.1038, -5.0002, -5.2525, -5.2166, -5.2236, -5.2641, -5.3564, -4.3949, -4.489, -4.6579, -5.1818, -5.4038, -5.7512, -5.9562, -5.9723, -6.0155, -6.2099, -6.2977, -6.3032, -6.3443, -6.4294, -6.4906, -6.5461, -6.6212, -6.7045, -6.7256, -6.7642, -6.7792, -6.7819, -6.8211, -6.8347, -6.8536, -6.8548, -6.9209, -6.9214, -7.0126, -7.0149, -5.006, -5.3859, -4.7297, -5.0823, -4.5402, -3.1347, -3.5282, -5.6426, -6.168, -4.7702, -5.675, -4.8783, -3.931, -5.3307, -4.6603, -5.6057, -5.5935, -4.7788, -4.6056, -4.4961, -4.8685, -4.5567, -4.8443, -5.398, -5.4563, -5.3947, -5.3491, -5.2343, -5.159, -5.4353, -5.2332, -5.2778, -5.1702, -5.3334, -5.3585, -5.3705], \"loglift\": [30.0, 29.0, 28.0, 27.0, 26.0, 25.0, 24.0, 23.0, 22.0, 21.0, 20.0, 19.0, 18.0, 17.0, 16.0, 15.0, 14.0, 13.0, 12.0, 11.0, 10.0, 9.0, 8.0, 7.0, 6.0, 5.0, 4.0, 3.0, 2.0, 1.0, 1.4971, 1.497, 1.4968, 1.4968, 1.4966, 1.4965, 1.4964, 1.4963, 1.4962, 1.4962, 1.4962, 1.4961, 1.4961, 1.496, 1.4959, 1.4959, 1.4958, 1.4955, 1.4953, 1.4953, 1.4953, 1.4952, 1.4952, 1.4951, 1.4951, 1.495, 1.495, 1.495, 1.4949, 1.4949, 1.4888, 1.4798, 1.4499, 1.4436, 1.4268, 1.4099, 1.4396, 1.3239, 1.3812, 1.303, 1.3797, 1.351, 1.2448, 1.3336, 1.2429, 1.2101, 1.0522, 1.2994, 0.9841, 1.133, 1.2378, 1.0187, 1.2161, 1.1246, 0.5829, 0.7877, 0.9253, 0.8667, 1.113, 0.9012, 0.7582, 0.9487, 0.9059, 0.4588, 0.6886, 0.5576, 0.7213, 0.687, 0.484, 0.3959, 0.3757, 0.3754, 0.575, 0.2896, 2.0918, 2.0917, 2.0916, 2.0916, 2.0915, 2.0915, 2.0914, 2.0914, 2.0912, 2.0912, 2.0912, 2.0912, 2.0911, 2.091, 2.0909, 2.0909, 2.0908, 2.0906, 2.0906, 2.0906, 2.0905, 2.0905, 2.0905, 2.0905, 2.0904, 2.0904, 2.0904, 2.0903, 2.0903, 2.0902, 2.0772, 2.0716, 2.0891, 2.0735, 2.0586, 2.02, 2.0563, 2.0523, 1.9893, 2.0106, 1.996, 1.8068, 2.0352, 1.8657, 1.9196, 1.9212, 1.8968, 1.5707, 1.5113, 1.7835, 1.3213, 1.6786, 1.8178, 1.7731, 1.7633, 1.3966, 1.5829, 1.0361, 0.8317, 1.0917, 1.0178, 0.72, 0.8895, 1.1407, 0.7112, 1.459, 0.3409, 1.1863, 0.6145, 0.6805, 0.3871, 0.1558, 0.1982, -0.1339, 2.2115, 2.2115, 2.2112, 2.2112, 2.2112, 2.211, 2.2109, 2.2108, 2.2107, 2.2107, 2.2105, 2.2105, 2.2105, 2.2105, 2.2104, 2.2104, 2.2103, 2.2103, 2.2102, 2.2101, 2.2101, 2.21, 2.2099, 2.2099, 2.2097, 2.2095, 2.2094, 2.2094, 2.2094, 2.2093, 2.205, 2.1551, 2.1451, 2.1864, 2.1195, 2.1188, 2.0696, 2.0826, 2.0286, 1.9223, 2.1173, 2.0359, 2.011, 1.6829, 1.9393, 2.1115, 1.5839, 1.914, 1.9106, 1.6991, 1.2886, 1.501, 1.6589, 1.6732, 1.5834, 1.7169, 1.8992, 1.3724, 0.8649, 0.6447, 1.0469, 1.1987, 0.3229, 0.4252, 0.5754, 0.2288, 0.594, 0.4283, 0.3703, 0.3097, 0.5122, 0.0288, 0.5218, -1.1238, 0.1247, 2.2525, 2.2525, 2.2524, 2.252, 2.2517, 2.2515, 2.2514, 2.2514, 2.2514, 2.2513, 2.2513, 2.251, 2.251, 2.2508, 2.2507, 2.2507, 2.2507, 2.2506, 2.2503, 2.2502, 2.2501, 2.2501, 2.2499, 2.2498, 2.2498, 2.2497, 2.2497, 2.2495, 2.2494, 2.2492, 2.1506, 2.1652, 2.2083, 2.2203, 2.1524, 2.1588, 2.0649, 2.1674, 1.929, 1.9944, 2.0787, 2.1969, 1.8711, 1.9908, 1.9906, 2.0046, 2.1555, 1.699, 1.6641, 1.7664, 1.8695, 1.428, 1.615, 1.7252, 1.6835, 1.0157, 1.4859, 1.6762, 1.0968, 0.9585, 1.0576, 1.2589, 1.237, 0.8609, 1.2852, 0.8011, 0.7081, 1.1246, 1.2906, 1.0634, 0.529, 0.5098, 0.6308, 0.5027, 0.4564, 2.3539, 2.3537, 2.3535, 2.3534, 2.3532, 2.353, 2.3528, 2.3528, 2.3527, 2.3525, 2.3525, 2.3525, 2.3524, 2.3524, 2.3523, 2.3522, 2.3522, 2.3521, 2.3521, 2.352, 2.3518, 2.3518, 2.3517, 2.3516, 2.3515, 2.3515, 2.3514, 2.3514, 2.3514, 2.3514, 2.3303, 2.3417, 2.249, 2.2584, 2.1897, 2.3112, 2.2977, 2.2468, 2.1684, 2.2259, 2.1572, 2.0445, 2.2097, 2.198, 1.7554, 2.0498, 1.5526, 2.044, 1.656, 1.4812, 1.5681, 1.4131, 1.8309, 1.4773, 1.1196, 0.7921, 0.9391, 1.5607, 0.573, 1.5365, 0.9939, 0.4951, 1.169, 0.4538, 1.3236, -0.7598, 0.9657, 0.655, -0.0223, -0.0537, 0.0089, 0.5888, 2.4522, 2.4515, 2.4514, 2.4514, 2.4514, 2.4512, 2.451, 2.4509, 2.4509, 2.4507, 2.4506, 2.4506, 2.4506, 2.4505, 2.4504, 2.4502, 2.4502, 2.45, 2.4498, 2.4498, 2.4497, 2.4497, 2.4496, 2.4496, 2.4496, 2.4492, 2.4491, 2.449, 2.449, 2.449, 2.405, 2.2628, 2.4016, 2.2655, 2.294, 2.176, 2.3408, 2.1411, 2.261, 2.1651, 2.2927, 1.9743, 2.2514, 2.114, 2.2113, 1.9376, 1.5513, 1.8811, 1.8765, 2.0921, 1.7199, 1.6462, 1.9923, 1.4612, 0.9159, 1.0662, 1.7473, 1.5872, 1.5114, 1.0152, 1.6069, 1.5815, -0.2388, 1.0823, 0.4871, 0.5035, 1.4362, 0.9256, 1.2679, 0.4911, 1.0816, -1.2075, 0.8349, 0.9713, 2.5199, 2.5199, 2.5195, 2.5195, 2.5195, 2.5195, 2.5193, 2.5193, 2.5192, 2.5189, 2.5187, 2.5187, 2.5184, 2.5183, 2.5181, 2.5181, 2.518, 2.5179, 2.5178, 2.5177, 2.5174, 2.5173, 2.5173, 2.5172, 2.5171, 2.5171, 2.5168, 2.5167, 2.5165, 2.5165, 2.5025, 2.4707, 2.4986, 2.4302, 2.4635, 2.4042, 2.1743, 2.3053, 2.3048, 2.2948, 2.1722, 2.3016, 2.4296, 2.4105, 2.4558, 2.2074, 1.9233, 2.0438, 2.2121, 1.8992, 2.3046, 2.2025, 1.8433, 1.695, 1.7501, 1.6789, 1.5374, 2.1784, 1.4252, 1.8105, 1.8654, 1.8094, 1.2343, 0.5979, 1.9848, 1.2376, 0.9104, 0.664, 0.669, 0.1908, 0.1319, 0.2084, 0.2891, 2.6909, 2.6906, 2.6906, 2.6905, 2.6903, 2.6902, 2.6902, 2.6902, 2.6901, 2.6901, 2.6899, 2.6897, 2.6897, 2.6895, 2.6895, 2.6895, 2.689, 2.6888, 2.6883, 2.6882, 2.6881, 2.6879, 2.6878, 2.6877, 2.6876, 2.6876, 2.6876, 2.6875, 2.6874, 2.6873, 2.6837, 2.6607, 2.6091, 2.5903, 2.6076, 2.6149, 2.5989, 2.6276, 2.3422, 2.3883, 2.4698, 2.4878, 2.1276, 2.325, 2.4507, 2.0116, 1.9803, 2.1579, 1.0604, 1.4105, 1.6394, 1.8588, 1.4816, 0.9026, 2.0648, 1.9781, 0.8342, 1.4161, 1.5346, 0.5511, 0.373, 0.2156, 1.2421, 2.7233, 2.7227, 2.7225, 2.7223, 2.7221, 2.7217, 2.7216, 2.7214, 2.7214, 2.7214, 2.7213, 2.7212, 2.7212, 2.7208, 2.7207, 2.7203, 2.7202, 2.7197, 2.7196, 2.7194, 2.7193, 2.7193, 2.7193, 2.719, 2.7182, 2.7181, 2.718, 2.7179, 2.7179, 2.7178, 2.6997, 2.6917, 2.6752, 2.64, 2.6287, 2.5915, 2.5621, 2.5144, 2.6099, 2.6357, 2.6611, 2.562, 2.515, 2.3705, 2.5365, 1.6381, 1.7688, 2.3799, 2.1161, 1.9808, 2.029, 2.0153, 2.2881, 1.9862, 2.0099, 1.1774, 0.9611, 1.659, 1.4335, 1.6128, 0.5888, 1.0678, 0.8003, 0.4297, 0.9519, 0.4586, 0.3834, 0.2505, 0.3991, 3.1369, 3.1369, 3.1368, 3.1365, 3.1363, 3.1359, 3.1356, 3.1356, 3.1355, 3.1352, 3.135, 3.135, 3.1349, 3.1347, 3.1345, 3.1344, 3.1341, 3.1339, 3.1338, 3.1336, 3.1336, 3.1336, 3.1334, 3.1334, 3.1333, 3.1333, 3.133, 3.133, 3.1326, 3.1326, 3.1128, 3.1166, 3.0965, 3.1013, 3.0877, 3.0255, 2.9733, 3.0828, 3.0939, 2.9734, 3.0142, 2.9249, 2.637, 2.8782, 2.6949, 2.9156, 2.9117, 2.666, 2.3445, 2.1928, 2.3931, 2.1891, 2.1618, 2.6243, 2.6467, 2.3691, 2.0129, 1.145, 0.5466, 1.9825, 0.2369, 0.6068, -0.702, 0.871, 0.397, 0.5846]}, \"token.table\": {\"Topic\": [6, 10, 1, 2, 5, 6, 9, 7, 8, 1, 2, 3, 5, 6, 10, 4, 1, 1, 2, 3, 4, 5, 7, 8, 9, 10, 8, 1, 5, 10, 4, 5, 7, 9, 6, 2, 9, 1, 3, 4, 6, 7, 10, 4, 1, 3, 5, 7, 9, 10, 1, 9, 6, 1, 4, 4, 1, 3, 4, 5, 7, 10, 6, 2, 8, 9, 2, 6, 1, 2, 3, 6, 8, 10, 1, 3, 4, 5, 6, 7, 8, 9, 10, 3, 3, 6, 8, 1, 3, 4, 5, 6, 7, 8, 1, 2, 4, 9, 6, 4, 9, 1, 2, 3, 4, 5, 6, 7, 8, 9, 10, 1, 6, 6, 1, 2, 3, 4, 10, 7, 6, 8, 8, 6, 3, 5, 7, 8, 9, 10, 2, 6, 4, 5, 4, 10, 1, 2, 3, 4, 5, 6, 7, 8, 9, 10, 2, 8, 9, 3, 10, 9, 1, 10, 1, 6, 2, 9, 1, 2, 4, 6, 7, 8, 9, 10, 1, 5, 6, 9, 2, 3, 4, 5, 7, 9, 10, 1, 2, 3, 4, 6, 7, 8, 9, 10, 7, 2, 5, 1, 1, 2, 3, 4, 5, 6, 7, 8, 9, 10, 9, 4, 7, 9, 7, 2, 4, 6, 7, 8, 1, 1, 3, 5, 6, 8, 10, 2, 9, 10, 6, 5, 5, 9, 1, 2, 4, 7, 8, 7, 8, 7, 8, 4, 5, 7, 8, 10, 9, 1, 2, 5, 9, 5, 2, 6, 2, 5, 9, 5, 7, 8, 8, 8, 1, 2, 3, 4, 7, 8, 10, 3, 3, 9, 1, 4, 5, 4, 7, 9, 2, 1, 5, 6, 8, 1, 8, 2, 3, 2, 8, 7, 9, 2, 8, 8, 8, 10, 3, 5, 10, 5, 9, 9, 1, 2, 3, 4, 3, 1, 6, 7, 9, 1, 2, 4, 5, 6, 7, 8, 9, 10, 1, 7, 5, 7, 1, 5, 7, 9, 2, 9, 2, 1, 2, 3, 4, 5, 7, 8, 9, 2, 6, 9, 9, 3, 4, 5, 7, 8, 9, 1, 2, 5, 9, 1, 3, 4, 5, 6, 7, 8, 9, 1, 2, 5, 9, 5, 1, 3, 5, 6, 7, 7, 7, 7, 1, 3, 4, 6, 8, 1, 2, 3, 4, 6, 7, 8, 9, 10, 2, 6, 1, 2, 3, 4, 6, 8, 9, 6, 7, 8, 4, 1, 2, 3, 5, 6, 7, 8, 1, 2, 6, 2, 6, 8, 2, 4, 9, 10, 1, 3, 4, 5, 8, 9, 10, 4, 3, 4, 5, 8, 9, 10, 2, 4, 2, 3, 5, 8, 2, 1, 2, 6, 9, 10, 2, 5, 7, 8, 7, 8, 9, 10, 6, 10, 5, 1, 4, 5, 6, 1, 2, 3, 4, 6, 2, 4, 6, 8, 10, 8, 10, 1, 2, 1, 1, 6, 1, 10, 7, 6, 3, 1, 2, 6, 10, 8, 3, 4, 1, 2, 3, 4, 7, 8, 9, 3, 3, 5, 6, 1, 3, 4, 5, 6, 7, 8, 10, 1, 2, 3, 4, 5, 6, 7, 8, 9, 10, 1, 2, 3, 4, 5, 6, 7, 8, 9, 10, 1, 9, 1, 2, 6, 5, 2, 1, 2, 4, 5, 6, 7, 8, 9, 10, 1, 2, 4, 5, 6, 8, 2, 6, 7, 8, 1, 2, 4, 5, 6, 7, 8, 9, 1, 2, 9, 3, 4, 5, 8, 9, 10, 1, 2, 3, 4, 5, 7, 8, 9, 10, 1, 2, 3, 4, 5, 7, 8, 9, 10, 2, 7, 2, 8, 1, 2, 3, 4, 5, 7, 8, 9, 10, 5, 5, 1, 2, 4, 8, 9, 10, 3, 4, 9, 1, 2, 3, 6, 8, 2, 3, 4, 9, 1, 5, 10, 8, 4, 6, 10, 3, 2, 3, 4, 5, 6, 7, 8, 9, 10, 6, 4, 7, 2, 1, 2, 3, 4, 5, 7, 8, 10, 1, 2, 3, 4, 5, 6, 7, 8, 9, 10, 1, 2, 3, 4, 5, 7, 8, 9, 10, 6, 5, 8, 10, 8, 3, 4, 8, 7, 2, 4, 5, 6, 9, 4, 4, 5, 7, 7, 1, 2, 3, 5, 7, 9, 9, 1, 2, 3, 4, 7, 8, 5, 6, 6, 7, 6, 1, 2, 3, 4, 5, 6, 7, 8, 9, 10, 4, 1, 3, 5, 6, 7, 8, 9, 10, 1, 5, 2, 1, 5, 6, 7, 8, 10, 7, 8, 1, 3, 2, 4, 8, 8, 7, 7, 1, 2, 3, 4, 5, 6, 7, 8, 9, 10, 5, 7, 7, 1, 2, 3, 4, 5, 6, 7, 8, 9, 10, 2, 6, 6, 2, 3, 4, 6, 7, 8, 10, 2, 2, 2, 1, 1, 5, 1, 2, 9, 1, 9, 1, 2, 2, 1, 2, 7, 9, 8, 5, 5, 3, 1, 2, 3, 4, 7, 9, 10, 2, 4, 7, 8, 9, 9, 2, 9, 1, 1, 2, 9, 10, 4, 8, 1, 7, 1, 2, 3, 4, 6, 7, 8, 10, 1, 6, 7, 8, 10, 1, 1, 2, 3, 4, 5, 6, 7, 8, 9, 10, 1, 2, 4, 7, 9, 10, 6, 6, 3, 5, 3, 1, 2, 3, 4, 5, 7, 9, 3, 4, 8, 3, 2, 1, 2, 4, 5, 9, 10, 2, 4, 5, 8, 9, 5, 3, 7, 1, 2, 3, 4, 5, 7, 8, 9, 10, 1, 2, 4, 6, 3, 7, 8, 1, 2, 3, 4, 5, 7, 8, 9, 10, 1, 2, 3, 6, 7, 8, 10, 1, 2, 3, 4, 5, 6, 7, 8, 9, 10, 2, 4, 5, 8, 9, 1, 5, 6, 10, 10, 4, 8, 1, 2, 4, 3, 4, 10, 4, 1, 2, 3, 4, 5, 6, 7, 8, 9, 10, 1, 3, 5, 6, 7, 9, 10, 1, 1, 2, 8, 9, 1, 2, 3, 4, 6, 7, 8, 9, 10, 1, 3, 5, 7, 8, 9, 7, 1, 2, 3, 4, 5, 7, 8, 9, 9, 1, 6, 7, 2, 6, 8, 1, 3, 6, 7, 8, 10, 1, 2, 4, 6, 9, 10, 9, 2, 6, 8, 6, 4, 1, 10, 3, 10, 3, 6, 9, 1, 2, 4, 5, 7, 9, 10, 9, 5, 1, 6, 10, 1, 2, 3, 4, 5, 6, 7, 8, 9, 10, 4, 5, 4, 1, 4, 6, 8, 8, 4, 1, 2, 3, 4, 5, 6, 7, 8, 9, 10, 1, 6, 10, 10, 2, 4, 7, 9, 9, 1, 2, 3, 7, 8, 3, 1, 2, 3, 4, 5, 7, 8, 9, 10, 2, 4, 4, 2, 4, 8, 9, 8, 9, 3, 4, 5, 7, 9, 8, 6, 1, 3, 5, 8, 9, 10, 3, 8, 6, 3, 5, 2, 3, 4, 7, 8, 9, 10, 7, 8, 1, 2, 3, 4, 5, 7, 1, 2, 3, 4, 5, 10, 2, 9, 1, 3, 6, 8, 10, 2, 3, 4, 7, 8, 9, 3, 4, 5, 1, 2, 4, 5, 7, 8, 9, 10, 3, 1, 5, 1, 3, 4, 5, 6, 7, 8, 9, 1, 5, 9, 1, 8, 8, 1, 2, 6, 9, 5, 6, 3, 4, 5, 7, 2, 1, 1, 3, 4, 5, 7, 5, 4, 10, 5, 4, 3, 2, 1, 3, 9, 9, 7, 3, 5, 7, 8, 10, 3, 7, 8, 3, 5, 9, 3, 1, 3, 5, 6, 8, 10, 6, 3, 10, 1, 3, 4, 6, 7, 8, 10, 1, 2, 3, 4, 6, 7, 8, 9, 10, 1, 3, 4, 5, 6, 9, 10, 1, 2, 6, 1, 6, 9, 1, 2, 7, 8, 6, 1, 2, 3, 4, 5, 6, 7, 8, 9, 10, 3, 9, 1, 2, 3, 4, 9, 8, 1, 5, 6, 7, 8, 9, 10, 10, 10, 1, 9, 10, 1, 3, 4, 5, 7, 9, 10, 10, 3, 4, 8, 7, 3, 5, 7, 8, 5, 7, 10, 1, 2, 3, 4, 8, 10, 4, 2, 3, 5, 6, 7, 8, 9, 1, 4, 3, 7, 6, 10, 1, 3, 9, 4, 9, 1, 2, 5, 7, 8, 9, 2, 6, 8, 1, 2, 3, 4, 5, 6, 7, 8, 9, 10, 1, 3, 5, 6, 8, 10, 1, 3, 6, 8, 10, 4, 8, 5, 1, 2, 3, 4, 5, 6, 7, 8, 9, 10, 1, 8, 2, 3, 4, 5, 9, 10, 1, 5, 1, 2, 3, 5, 6, 7, 8, 10, 1, 10, 4, 10, 3, 8, 6, 7, 7, 1, 6, 4, 3, 4, 7, 9, 1, 2, 3, 5, 6, 8, 9, 1, 5, 9, 2, 3, 7, 8, 9, 3, 9, 1, 9, 1, 1, 2, 7, 3, 5, 7, 8, 10, 2, 1, 2, 3, 5, 6, 7, 8, 9, 10, 5, 5, 1, 2, 3, 4, 5, 7, 8, 9, 10, 8, 2, 3, 5, 7, 8, 9, 10, 4, 6, 10, 10, 3, 4, 6, 8, 10, 1, 2, 3, 4, 5, 8, 9, 2, 6, 9, 2, 2, 5, 6, 1, 2, 3, 4, 5, 6, 7, 8, 9, 10, 3, 10, 1, 2, 3, 4, 5, 7, 8, 9, 10, 3, 4, 5, 6, 8, 10, 1, 2, 3, 4, 5, 8, 9, 10, 1, 2, 7, 3, 7, 9, 8, 1, 2, 3, 4, 6, 8, 9, 6, 1, 2, 5, 6, 8, 9, 10, 10, 7, 1, 6, 9, 7, 2, 4, 5, 7, 8, 9, 10, 6, 1, 9, 1, 9, 1, 3, 1, 2, 3, 4, 5, 7, 8, 9, 10, 1, 2, 3, 4, 5, 6, 9, 10, 5, 5, 1, 3, 9, 1, 2, 3, 4, 5, 7, 8, 9, 10, 5, 2, 4, 6, 8, 9, 10, 1, 2, 4, 5, 2, 1, 3, 9, 10, 7, 8, 3, 7, 2, 3, 5, 6, 9, 10, 1, 3, 5, 7, 8, 9, 10, 1, 5, 9, 1, 2, 3, 4, 5, 7, 8, 9, 10, 1, 2, 3, 4, 5, 6, 7, 8, 9, 10, 1, 2, 6, 7, 8, 9, 10, 1, 1, 6, 1, 6, 1, 2, 4, 8, 2, 8, 2, 1, 2, 3, 7, 8, 2, 10, 10, 3, 1, 2, 3, 4, 7, 8, 10, 1, 2, 3, 4, 10, 4, 1, 2, 3, 4, 5, 8, 9, 10, 2, 10, 10, 10, 10, 1, 2, 3, 6, 9, 1, 2, 4, 5, 7, 8, 9, 10, 1, 2, 3, 7, 9, 10, 1, 7, 8, 10, 7, 8, 5, 8, 10, 4, 2, 4, 7, 1, 3, 5, 6, 4, 10, 1, 2, 3, 5, 10, 4, 1, 2, 3, 4, 5, 6, 7, 9, 2, 1, 3, 5, 1, 3, 4, 5, 6, 7, 9, 10, 3, 7, 8, 7, 8, 10, 2, 2, 1, 2, 5, 6, 9, 5, 7, 8, 9, 1, 3, 4, 5, 7, 9, 2, 3, 4, 5, 7, 9, 3, 9, 3, 4, 7, 10, 1, 2, 3, 4, 6, 8, 10, 4, 1, 2, 5, 6, 8, 1, 2, 4, 5, 9, 10, 1, 2, 3, 4, 7, 8, 9, 10, 9, 1, 1, 2, 3, 4, 5, 6, 7, 8, 9, 10, 5, 1, 2, 6, 3, 4, 7, 8, 1, 2, 3, 4, 5, 6, 7, 8, 9, 10, 4, 5, 1, 5, 7, 1, 3, 4, 5, 7, 9, 10, 10, 1, 2, 3, 4, 6, 7, 8, 9, 10, 9, 1, 5, 6, 9, 8], \"Freq\": [0.9963024808971307, 0.9972008822161053, 0.029746916164247628, 0.6010133977128623, 0.01508294340722415, 0.2289674603346666, 0.1248532537597999, 0.8055521780579887, 0.19421069282320483, 0.09842581337194033, 0.17972227248301811, 0.020120193893711558, 0.031811657913030436, 0.19467647064726318, 0.47527160711091626, 0.9993495892995856, 0.9993002797885465, 0.07742970127031246, 0.36779108103398417, 0.034165855685525374, 0.3042019388657401, 0.035617662584343734, 0.04994215731935154, 0.02864898947001561, 0.08139797346041597, 0.020712445089808584, 0.9971003501068648, 0.9983734440113311, 0.03968906469270118, 0.9601884566619755, 0.04098830145733511, 0.027872044990987877, 0.01475578852464064, 0.9164984205860132, 0.999807217325063, 0.9987673004221986, 0.9959623932002508, 0.06707049579013591, 0.11646290841386722, 0.18694762627476796, 0.1406659493155113, 0.43777914107362464, 0.0509857162567549, 0.9983816179277009, 0.12734247605100585, 0.11978505907468502, 0.44862716525684476, 0.030418603329691308, 0.17004188196721848, 0.10372554800000328, 0.9440369511481125, 0.05572827338536673, 0.9989464631103275, 0.031391293308339244, 0.9678982103404601, 0.9964715383677469, 0.7714736429716709, 0.1131802649868619, 0.0050815629177774725, 0.008777245039797453, 0.004850582785151224, 0.09654969543777199, 0.9976233005566377, 0.9798399647519143, 0.010989232883636884, 0.008991190541157452, 0.9305464732400985, 0.06916388338136299, 0.09864760189811886, 0.3862652342530966, 0.032046215183088325, 0.40610879810312284, 0.054854909263578236, 0.022124433258075213, 0.181225897343607, 0.20084313365399745, 0.0372327138135982, 0.02081829159470007, 0.25408991792505725, 0.0824724628559272, 0.10982983322075741, 0.03229504208921421, 0.08113795698447207, 0.9983797002235203, 0.9986563604276063, 0.30650520121049163, 0.6933245995296148, 0.26439138397678263, 0.0762565967757387, 0.07783977871571944, 0.45226230752116314, 0.07520114214908488, 0.02163681984640337, 0.0321913661129416, 0.03993678135056177, 0.17168698786787895, 0.769091830544839, 0.018939092186864345, 0.9960291100297279, 0.9989338930993763, 0.0006724563400197753, 0.3257204379467407, 0.15132978430847166, 0.06952680006894149, 0.14731421004706416, 0.03493549607424535, 0.02260194655706514, 0.08862946048392294, 0.036140168352667604, 0.0487605446028055, 0.0749765079951374, 0.14551412911135847, 0.8535900588063421, 0.9989193373771836, 0.9163499613746695, 0.028437571536149345, 0.04341807797037087, 0.005332044663028002, 0.006347672217890479, 0.9978332614750317, 0.9993259944418901, 0.997873015757449, 0.9992072112231073, 0.9982380863311955, 0.35904093002905546, 0.49737964026296766, 0.0327854746797133, 0.04178148907353708, 0.06856962082403453, 0.0001999114309738616, 0.9646965715106676, 0.034499082689785465, 0.9555247286557849, 0.043226118677285506, 0.9986587705623473, 0.9966035297908241, 0.05172904297227767, 0.07661136743995554, 0.08484311388039033, 0.07679845258632906, 0.1827821880069269, 0.13283045392519763, 0.17483106928605238, 0.04761316975206028, 0.07932410206237155, 0.0926071474548913, 0.07126550046296232, 0.7859374532188959, 0.14185868488382122, 0.9986113889017768, 0.9996307788474293, 0.9985253249969962, 0.9479149688881269, 0.05194854201418922, 0.9972385789758669, 0.9978034771080353, 0.998679618941132, 0.9971655070532973, 0.2791492956754745, 0.34160573916998715, 0.013908739898778003, 0.1314685987884494, 0.18409147458382605, 0.03703091259674653, 0.0065557117994240275, 0.006289939699447377, 0.6809555853471485, 0.06325731351580777, 0.25396871911544605, 0.0017223525957274393, 0.9990123111153563, 0.5751549081770774, 0.18354208099180264, 0.0987913136398274, 0.019792095369622956, 0.07223268993870942, 0.05041063606963796, 0.09938074301790205, 0.21624606569719435, 0.1438960808914416, 0.3618504101187718, 0.04773089275379522, 0.04823332320383517, 0.009445692460751054, 0.026829786032133315, 0.046324087493683365, 0.99749996510154, 0.054446029796162546, 0.9445202560290806, 0.9994283737395948, 0.08863831375588722, 0.07590573829924045, 0.19826438925349993, 0.12529693759810104, 0.10906640185116669, 0.09724329606999467, 0.10563840076668486, 0.027214131058437358, 0.146144780928215, 0.026654457411991347, 0.998673381064698, 0.07053084501849965, 0.7273493392532776, 0.20222515720147946, 0.9979779364935538, 0.21777346747374632, 0.6814062662819403, 0.02549332258125205, 0.016419428103179288, 0.05876426900085218, 0.9986478609417334, 0.48430920629335955, 0.01248934915942761, 0.005828362941066218, 0.4293560699918781, 0.055508218486344935, 0.01248934915942761, 0.046229612705503034, 0.10478712213247354, 0.848863745678189, 0.998536616800999, 0.997462563219439, 0.976141820011563, 0.023450854534812327, 0.030055700797564554, 0.018440955404607405, 0.36993982913883694, 0.5369272650954753, 0.04462507440451958, 0.7974745065688383, 0.202374695891351, 0.9509184210863164, 0.04871006087394469, 0.008767504923990534, 0.033426112522713915, 0.7096199297854839, 0.19946073702078468, 0.04822127708194794, 0.9968895822303845, 0.024461536143942957, 0.9023588888654513, 0.045428567124465496, 0.027179484604381063, 0.998053550719327, 0.5810400751463657, 0.41862002497176176, 0.07620464735667952, 0.8483345992071135, 0.07537813274326652, 0.8655157532419878, 0.13375509187468168, 0.9988081276590066, 0.9953617338009191, 0.9963408630452482, 0.1298561673348136, 0.5595105197571649, 0.0019873786599597, 0.27391997785572203, 0.03332030604357965, 0.00021142326169784043, 0.0011839702655079064, 0.9992940818724817, 0.9983201673944848, 0.996624458240402, 0.9990776054676549, 0.9041326032358047, 0.09575071576307628, 0.04362802029335129, 0.03642074821845846, 0.9199362076393215, 0.9997639489620943, 0.7755315864867828, 0.008598251602308421, 0.21572399109363094, 0.9972024073619784, 0.08747778091041163, 0.9118683882101307, 0.9981248741653822, 0.9972216498016164, 0.9975923100304922, 0.0023923076979148494, 0.996903266816079, 0.9976279354247073, 0.9994845720025878, 0.999178913817629, 0.9986601132528292, 0.9976623822212807, 0.9944242263469009, 0.7613900682332653, 0.23814219928911626, 0.9978376661593262, 0.9086389083004648, 0.09105660321780903, 0.9972246621035693, 0.9319920278540434, 0.026330788895728825, 0.018470851911929174, 0.022990315677613973, 0.9992063251112827, 0.08629794844636038, 0.6311187314089247, 0.03223176387755629, 0.2500561036307189, 0.06961800843302828, 0.4626832868153793, 0.21325141044713727, 0.035832158186605546, 0.030346311368243097, 0.07410247051470552, 0.005398769884737652, 0.10087862760433178, 0.007880462493044476, 0.9974328043552266, 0.9951390555822156, 0.9972438587490449, 0.9989602021175421, 0.1360837944160174, 0.7335475767493541, 0.0011184969404056226, 0.12899998046011513, 0.3525172068587266, 0.6471032643385716, 0.9979388624422089, 0.49191237486569817, 0.00017277057279632558, 0.012508589470453971, 0.0020041386444373767, 0.006772606453615963, 0.09170662004028962, 0.009986139107627618, 0.3849328361902134, 0.06732392729299146, 0.08159124963322806, 0.8509120214481735, 0.9997387941485935, 0.00041875756852485145, 0.013138518712467214, 0.06710590035610745, 0.550090410953458, 0.15614422836370398, 0.2130952576830838, 0.03768826584459466, 0.0537337651645706, 0.20597943313085396, 0.7026436097561558, 0.40077807201712284, 0.03558197639984054, 0.00022897024710322097, 0.04442022793802487, 0.02573625577440204, 0.1461402602136308, 0.009341986081811415, 0.3377769085266716, 0.46284126564429784, 0.03423993006067482, 0.45561474774204486, 0.04731648626475164, 0.9983424863453454, 0.250331403813652, 0.08728323998001566, 0.0678300838554374, 0.42105844506488493, 0.1735426296376851, 0.9939723036992564, 0.9991966023537077, 0.99926020719913, 0.18898990713012867, 0.0038234952309563605, 0.002321407818794933, 0.09927432260375979, 0.7054348701114486, 0.034082510558748474, 0.18629961946853746, 0.17489352031740252, 0.381832747773708, 0.12057876245485516, 0.04494546213125795, 0.03340357608546663, 0.008011426784725736, 0.016022853569451472, 0.7601759818088522, 0.2395706124488504, 0.14204644141246217, 0.10677000728685071, 0.049857360230864206, 0.02916185221050548, 0.6199245357007455, 0.03880407753817261, 0.013405044967732357, 0.10623053350685419, 0.09191968443339196, 0.8014075481138844, 0.9977363933639589, 0.4046979736291394, 0.10626147910932711, 0.002939147294513303, 0.0018087060273928018, 0.390228325409997, 0.06353079921217217, 0.03029582595882943, 0.21849458151871443, 0.21614878079688774, 0.5650028595713995, 0.09412759326676011, 0.7504348232421368, 0.15515537351663755, 0.04296422310247398, 0.7797210859337871, 0.0652419684148679, 0.11191914906940753, 0.16218957734807993, 0.43186262595494146, 0.12642020028969256, 0.1934001122323591, 0.03927617873077827, 0.03682141756010463, 0.009819044682694568, 0.9982571818250455, 0.09324050590625138, 0.5895579814444963, 0.05704465734016001, 0.13609639060850356, 0.0831056683077458, 0.04053935039402234, 0.9992255651000914, 0.9968398837457233, 0.013178941937719688, 0.9445895575361112, 0.042054151801262825, 0.9955117877981653, 0.9994598614407021, 0.05762508120995265, 0.17824960353544939, 0.03463476383603371, 0.08688548514039493, 0.6425345842684875, 0.8228426965649254, 0.07739609522145337, 0.06184281292814695, 0.0381425732431086, 0.0644212428972175, 0.007292970894024622, 0.8921734393690121, 0.03524935932111901, 0.9959350121911545, 0.9958858307915408, 0.9978142888408021, 0.005564664894155421, 0.768851199542474, 0.020403771278569877, 0.20496515693472467, 0.008249555497749217, 0.004442068344941886, 0.0009518717882018328, 0.9157006602501631, 0.0707558029230029, 0.056433919413785796, 0.018035582493065565, 0.11868576866404436, 0.20770009516207763, 0.5986649801730473, 0.023706490062970324, 0.9758103882676703, 0.99679829501226, 0.9987091559253168, 0.9983792840751317, 0.8206115007518854, 0.17923882779580655, 0.0517095586102106, 0.9472250963597669, 0.9993253349809065, 0.9967120724046428, 0.9979784570586296, 0.020992113292015193, 0.6613461277673615, 0.22807647414567858, 0.08945287916327195, 0.9994393041891495, 0.9929457633689949, 0.0066417776813979595, 0.03347709435901843, 0.17163653139623739, 0.5986908938279487, 0.038436663893687835, 0.1053908526117247, 0.012398923836673495, 0.03985368376073623, 0.999016837509883, 0.8673530971398442, 0.13236470085858315, 0.9983302108830194, 0.06882791554166771, 0.06566745003210134, 0.07901163773915937, 0.03371163210204133, 0.07409535805761168, 0.5850372821041756, 0.03546744627402265, 0.058293030509779804, 0.5535955644319488, 0.04339928421936146, 0.08455729084992962, 0.07773158182951362, 0.06020886613531133, 0.0916886286324538, 0.017522715694202284, 0.042889902949181165, 0.011919521722218994, 0.016503953153841684, 0.11041958829282997, 0.09818096397465917, 0.1674878402060783, 0.24844407365886745, 0.014233066799650498, 0.0602865568265451, 0.1072919398559641, 0.020307050720520456, 0.11826137350410239, 0.05498315295533775, 0.18791303987955654, 0.8116907656208231, 0.9538998578238889, 0.011673992140937214, 0.03434847687621911, 0.9970515094882556, 0.9981555522259414, 0.045140475189038284, 0.0619886807173413, 0.02002711223175642, 0.08805571568565919, 0.0174839868689937, 0.024795472286936522, 0.17770088472304507, 0.24986206689143725, 0.31502965431223195, 0.3150618975946126, 0.0006978115118374587, 0.0034890575591872935, 0.034541669835954206, 0.11199874764991212, 0.5345236180674934, 0.04783011405104291, 0.9500050239103696, 0.9977074538874379, 0.9956057302189871, 0.0013177891608423201, 0.06051287826587934, 0.05524172162251006, 0.0033735402517563393, 0.031257958895179835, 0.7055443167149782, 0.09846520609813815, 0.044225004237868265, 0.9994489943490754, 0.985304499904106, 0.014588156024608133, 0.024702865931714484, 0.11103008558555542, 0.07809293100993611, 0.25977852560448134, 0.49936976292067986, 0.02735908807490959, 0.33243958859758777, 0.10979013948015573, 0.14920474570844117, 0.13515117709425742, 0.09579041595644779, 0.07209857614709589, 0.0233149241760213, 0.033599336456899054, 0.04862211669964719, 0.21807924844933319, 0.15050406194591096, 0.0932594439261816, 0.23404898046311529, 0.09288034049558737, 0.05714984216208079, 0.02762716250455481, 0.0843505133072171, 0.04217525665360855, 0.9988704769839364, 0.9975487551463018, 0.9672180311776557, 0.032362394998928574, 0.0918784204492309, 0.28353817003732334, 0.16800787897739936, 0.1736365693390787, 0.0636212577244365, 0.05628690361679369, 0.03775202424399092, 0.07521977119698793, 0.05003280321492772, 0.9996270010730148, 0.9987997488841964, 0.03823041871521828, 0.3338105687818724, 0.07184239758564509, 0.04515807848240549, 0.4926335834444235, 0.018217179387788576, 0.8176659470568555, 0.06343959934061809, 0.11820369791670722, 0.04159009757863336, 0.21978766951170092, 0.015356343721341549, 0.5976177098222086, 0.125410140390956, 0.11363407670693595, 0.11268050403526936, 0.7229670139018904, 0.05069828037694066, 0.039317400170275615, 0.900144706337367, 0.060094888065136715, 0.9983292287265348, 0.02411467381750194, 0.01607644921166796, 0.9565487280942436, 0.9983912555529239, 0.11106390894465906, 0.12273824028259196, 0.10254480229265396, 0.055058670769440356, 0.14356272320971555, 0.08708420133160767, 0.23474871663302938, 0.05379658089506923, 0.08929285861175713, 0.9983920848900047, 0.997601851993969, 0.9977723169276387, 0.9995522057416365, 0.05885823746265199, 0.7199515334993463, 0.011225540134629503, 0.032463048497442075, 0.07069056355050471, 0.07069056355050471, 0.029125725754714386, 0.006978038462066988, 0.242448154698019, 0.06668353321066058, 0.2600108959551477, 0.12163570409722345, 0.09295904063831797, 0.0037046407339255873, 0.06366493705709157, 0.044524293265142706, 0.02469760489283725, 0.07964977577940013, 0.5323112477765745, 0.048164766111458625, 0.10120223229645002, 0.026112674753034637, 0.04079324548739621, 0.19978070301484394, 0.03136019790914686, 0.0031859962019252785, 0.017116920771127968, 0.9985362418155237, 0.9983411502724563, 0.0197483511737291, 0.9798943772869392, 0.9997142219017185, 0.15346350962057195, 0.02961576501449634, 0.8157797090356719, 0.9976774338276639, 0.0031047205191817094, 0.771833521068573, 0.20739533068133817, 0.00993510566138147, 0.007606565271995188, 0.9954228087283442, 0.9060512576882662, 0.037873525240988616, 0.055353613813752596, 0.9971272794559393, 0.05696122947592837, 0.02598761663092753, 0.20503020795446897, 0.5493661283142588, 0.016468896585878495, 0.14595370735741858, 0.9976946812332713, 0.8490260774040801, 0.013606187137885898, 0.033675313166267595, 0.02789268363266609, 0.02789268363266609, 0.047621654982600646, 0.3021795279872444, 0.6977961468652815, 0.9988493165715534, 0.9982201285550142, 0.9982787188884488, 0.5777829089668828, 0.08386810054577426, 0.03292018899927588, 0.0686397137978099, 0.037735046573999904, 0.06539248427067046, 0.07782153521937665, 0.015116413315994027, 0.030568746927899033, 0.010077608877329352, 0.9981130884417649, 0.07250333196958185, 0.23268511190237895, 0.3901690934363079, 0.038106402384012784, 0.1551234079349193, 0.06126250530763117, 0.009442294396038567, 0.040579384249641935, 0.9993589385428383, 0.9978194648176717, 0.998190175485364, 0.08056352426461616, 0.014949932337763825, 0.7325466845504274, 0.010520322756204173, 0.09745141079431234, 0.06395248833376747, 0.8895469556415054, 0.1097664061749143, 0.08877106995368099, 0.9110715074193575, 0.0751570134958112, 0.003589108983762901, 0.9212224954294121, 0.996449358662667, 0.9962907430651036, 0.9955116388890825, 0.1481031398319898, 0.15043064988724852, 0.014700063506897251, 0.08293285828474532, 0.16439571021880092, 0.21719343831440688, 0.10351294719440148, 0.015435066682242113, 0.07092780642077924, 0.03234013971517395, 0.9580229971578257, 0.040828986180242194, 0.9968015439406209, 0.14925204886690652, 0.054130835068680945, 0.10129918953975982, 0.08286332542216558, 0.17112012172979754, 0.14523146147955884, 0.05069862632338415, 0.05393470885466398, 0.09482702447720014, 0.0964940972963443, 0.14674648905541315, 0.8528950078183035, 0.9971582385826089, 0.0702037761482522, 0.02135684297801744, 0.26537246428582695, 0.006680858572610583, 0.10043192313252303, 0.49120738849440104, 0.04468508684631341, 0.9993382554040686, 0.9994305993672061, 0.9991048437773863, 0.9997477266116569, 0.9986511083367641, 0.9980309239127865, 0.8234261947282995, 0.17244235457203966, 0.004045977574910316, 0.2905449968891137, 0.7093087641445103, 0.999264999164467, 0.999700347588378, 0.9983739664362491, 0.022121083106158727, 0.921711796089947, 0.05530270776539682, 0.9940406542964526, 0.9993298544109154, 0.9976858908486558, 0.9972747097284708, 0.9985191069333755, 0.5644659668766528, 0.048189664697298594, 0.18447265309463623, 0.13504735596920178, 0.011629481676572812, 0.03517918207163276, 0.021005751278309642, 0.9992312839121422, 0.17745162827772898, 0.4907101674454656, 0.3144894175141717, 0.01702715045901908, 0.9982628970881576, 0.9814590191143946, 0.017857196988785348, 0.9971450458815968, 0.42171835275284253, 0.1502850857082857, 0.038951440581535275, 0.3889009973022577, 0.029739664347316258, 0.9700566859955254, 0.9987183047093354, 0.9962385528677091, 0.5985961591654345, 0.016839869386378648, 0.0012661555929608008, 0.036296460331542955, 0.0004642570507522936, 0.15611698461206672, 0.16721694864368974, 0.02321285253761468, 0.24364916776306558, 0.14012868613518115, 0.3342295891874644, 0.27787949795946537, 0.0040921557908458585, 0.998090121850372, 0.24028607411998562, 0.028527858189279158, 0.15307233622704647, 0.06667367999665814, 0.30565562345656244, 0.1494859769118228, 0.004401440977774499, 0.014671469925914997, 0.03227723383701299, 0.004890489975304999, 0.014750849788026056, 0.4988574790517473, 0.2269540195732513, 0.14170107670387236, 0.06666919510493666, 0.050989157928688494, 0.9982548499961821, 0.9982949750557, 0.9745685025143711, 0.02425396725714498, 0.9973160437500979, 0.02755415910229906, 0.3130722560071566, 0.17862696245628357, 0.37981983107393275, 0.0858692113403544, 0.015083526749965435, 0.9967203578967575, 0.8787188993709748, 0.06030052006904833, 0.0610590171768351, 0.999707575683048, 0.999207563466846, 0.126905558938951, 0.20137708454384443, 0.5547368744037978, 0.02334020117354531, 0.056233600966960326, 0.0373443218776725, 0.1328224366391589, 0.12237572813944977, 0.5924776106263605, 0.06305334773038723, 0.08917011897966004, 0.997713977820363, 0.017805983031800636, 0.981307509308124, 0.2708972984706724, 0.13941773272714658, 0.12648146060569054, 0.16581948810230002, 0.14947274423973286, 0.04986344890452142, 0.02205046384339096, 0.045923766031168906, 0.030047432063927414, 0.042665457940108654, 0.05478632667309407, 0.8397337858212294, 0.06254368266220472, 0.2151419917708978, 0.04590896058709534, 0.7388192039580099, 0.688994556461034, 0.10970343434139705, 0.014674615243069995, 0.08947241138493163, 0.00968809550027922, 0.04416631772186115, 0.020231022956465432, 0.007551015610511746, 0.01567191919162815, 0.29891352304259544, 0.08548028092735639, 0.00010698408126077146, 0.2151449874154114, 0.3739628560470266, 0.02257364114602278, 0.003797934884757387, 0.44473583926462856, 0.05868244314691878, 0.07271678209035784, 0.08755100563679084, 0.05504660404240089, 0.10580291794147066, 0.05541018795285267, 0.03774000990489572, 0.05490117047822017, 0.027414226848064906, 0.025065632705688196, 0.5615313082969416, 0.28611502698200186, 0.10117956616564382, 0.025982668048579228, 0.1342874523860452, 0.7376777092955397, 0.1276634076495138, 0.9972211262375539, 0.9988887479459648, 0.07293532863915361, 0.9264523292616298, 0.015312886747247262, 0.06665609525272338, 0.91787244679088, 0.11499992607319415, 0.8282885736863997, 0.05653627650525746, 0.9971002741482193, 0.178178502161169, 0.03575691029764956, 0.5336264324928888, 0.08568022361576622, 0.06613513281747473, 0.003863564460127389, 0.008333178247333584, 0.008560446744988136, 0.04962028865457725, 0.030150954022170606, 0.004309948555683271, 0.5834309308009145, 0.26131898611300675, 0.039696894591819604, 0.04241896736383009, 0.005897824339356056, 0.06306135255157629, 0.9985421872307283, 0.997755826692902, 0.13007941328837153, 0.03958938665298264, 0.8291148690467507, 0.040453622507903346, 0.05479887871637971, 0.17293206359318256, 0.43810412460686815, 0.024171756711282674, 0.14538917167290794, 0.060465254918727875, 0.04002326482164906, 0.023741399025028382, 0.022469447824659088, 0.08106285407511625, 0.24992939657274646, 0.6205024437732779, 0.006913676253741258, 0.01918545160413199, 0.9955633460497554, 0.13990726511635634, 0.00628489667514882, 0.07186642719844086, 0.010383742332854573, 0.01256979335029764, 0.22953535683152215, 0.051098942532731714, 0.47847191644285153, 0.9943109665891264, 0.0029665681583097184, 0.7584525924745179, 0.23831430871754736, 0.10456404762161617, 0.8948737098780174, 0.9950632471463999, 0.00044936585791206573, 0.007456144605355757, 0.06780431500495392, 0.7069856399350608, 0.19579036861027932, 0.02150298846008848, 0.11149737247436389, 0.03859524431804904, 0.042883604797832264, 0.7856276398962871, 0.020584130302959486, 0.9963121841461131, 0.9981220045523904, 0.15514049875162766, 0.8180135388722186, 0.026326872515427726, 0.9978218197504491, 0.9974279758770513, 0.1144719345240172, 0.8840406824627071, 0.9977274065943674, 0.9940025699073258, 0.9974168025843623, 0.9993602277754178, 0.9973764566090256, 0.04540392387443015, 0.40432396304796697, 0.19764853508542737, 0.03273932789758613, 0.00794905492163614, 0.2752528678797056, 0.03664649048618695, 0.9944449235667062, 0.996586465156903, 0.10349000771881552, 0.09390759959670297, 0.801089319008609, 0.3257975907108404, 0.25357124182225443, 0.06198779095676793, 0.09387199582052737, 0.00022257734634387047, 0.07856980325938628, 0.02286982233683269, 0.0388397469370054, 0.10383233206941558, 0.020421471527050115, 0.0013877986894314258, 0.9978272577011952, 0.9963597181294389, 0.04124607149014836, 0.005155758936268545, 0.04946741682095496, 0.9040692967164952, 0.9995964266894428, 0.9988130561569116, 0.323751222636726, 0.22823075440108437, 0.03184015607854721, 0.06825652892142003, 0.031195618506106984, 0.14244280350929014, 0.06664518499031946, 0.025523687868632985, 0.0797937514681001, 0.002320335260784817, 0.032943054020492565, 0.014902810152127589, 0.9518189536635173, 0.9957167906911807, 0.05928806571773144, 0.9023023596322722, 0.027319010673856645, 0.011043855378793111, 0.9977058858552988, 0.005582263926530004, 0.8418054001207247, 0.014141735280542678, 0.10159720346284608, 0.03684294191509803, 0.9990551364215435, 0.012194167516385771, 0.010020424611290915, 0.2086263007694696, 0.31455650380311645, 0.24287600605462267, 0.06378079792266123, 0.019033504949489095, 0.08567728133251916, 0.04331580374298771, 0.08999194698990899, 0.9097816010760663, 0.99818563624277, 0.15190397072490955, 0.6823335456397345, 0.1463083748368847, 0.01942000925843914, 0.9991879431485016, 0.9919056762647193, 0.7421845547156353, 0.021584785707613553, 0.05105632003916283, 0.15233877605181104, 0.03279227059425905, 0.9981647790031124, 0.9955064975782715, 0.019654158990682038, 0.8384050453656733, 0.07706499183188484, 0.03879110327108297, 0.004654932392529956, 0.021205803121525358, 0.05977739371368829, 0.939134317028208, 0.9962878868324229, 0.9114918680259798, 0.08796061452602942, 0.1042602275724109, 0.058608419188763014, 0.32340915251830366, 0.09828803977942813, 0.34932237412853395, 0.015385975331074228, 0.05061176095748102, 0.8948983554370845, 0.10290679778679719, 0.014176833892672018, 0.7973955411226101, 0.021367981519389706, 0.09225215098274979, 0.021984365601679795, 0.05259810835542082, 0.09391186380358338, 0.7267961633494714, 0.00845790077734136, 0.00262486575848525, 0.12336869064880675, 0.04462271789424924, 0.046963723538076, 0.9527528488172907, 0.10030666858935583, 0.059712586000974226, 0.1560907949850028, 0.5866499677288696, 0.09690200359807222, 0.10335096764719037, 0.31193000384969316, 0.24954400307975452, 0.17468080215582818, 0.1313970635685433, 0.02903985522565285, 0.05427645471177468, 0.9444103119848795, 0.9976828738266371, 0.06201024318800984, 0.15660213957649943, 0.5657120914567169, 0.01970664508093533, 0.04414288498129514, 0.0956429174594728, 0.028903079452038485, 0.02732654784556366, 0.9995061149866633, 0.7504181242840082, 0.24937089741951937, 0.005859253315632689, 0.00359545089822915, 0.01424863874483404, 0.05965785194098738, 0.1636595982934676, 0.5077575657388055, 0.17923988551912726, 0.06578343495278519, 0.09230749185049861, 0.8553827578146205, 0.05153834961652839, 0.9966470556176268, 0.9992364857646301, 0.9972328144710682, 0.21940197838512776, 0.21550936263958514, 0.5623060381515613, 0.0028309932694855194, 0.999549761488345, 0.9992720805927852, 0.10990901318269478, 0.5743750090909597, 0.2565760795006872, 0.05903197275039531, 0.9979089427306734, 0.9986045533187577, 0.08745688721047404, 0.3629766612546597, 0.1929555798245074, 0.2620648683194974, 0.09464303004070529, 0.996463021537714, 0.9979184808158869, 0.9973347512162638, 0.9981625955560406, 0.9963408322149072, 0.9986913048005082, 0.9990511953038701, 0.998550071183151, 0.9976652711061824, 0.9993091932874262, 0.9946689451186757, 0.9971869660180241, 0.04293434577007805, 0.07150839841569313, 0.8059348182096562, 0.07048266319251721, 0.009085083405272488, 0.014405975117326572, 0.9131923209966335, 0.07227404465641805, 0.05411567040418839, 0.8212594140539631, 0.12424957924801655, 0.9965623712185773, 0.17593775578731224, 0.7315031096276048, 0.0298465835710619, 0.023563092292943604, 0.019897722380707934, 0.01937409810753141, 0.9987247041807921, 0.9353028871344485, 0.06457602771898568, 0.46032578586171924, 0.18274310871693714, 0.061150288896759754, 0.09229163972381334, 0.12633479824156962, 0.052020211040646316, 0.0251254080536455, 0.27786398630251324, 0.08348342718120219, 0.07544980373221745, 0.008199265169582358, 0.2500361772421125, 0.07652647491610201, 0.10518249257949085, 0.0658425839375553, 0.05731203532677769, 0.32958038168384, 0.013175464993827818, 0.03758882660003819, 0.2801723879569857, 0.30594204743020775, 0.024607118444354897, 0.008719057716503704, 0.06363364013573052, 0.22325700861180028, 0.7129124767748792, 0.9830503237730446, 0.016427402068327043, 0.9962505780382892, 0.6196723644093749, 0.34789142518952265, 0.026306148548740454, 0.0060592814072941495, 0.9989756762472545, 0.15107575880200144, 0.18644185675503328, 0.0370457543201943, 0.06252054255549164, 0.08715550260720775, 0.23757806171086823, 0.09312761413489651, 0.04553735039862675, 0.07577116500755106, 0.02370181762551474, 0.9992665475344361, 0.9977626603867865, 0.07230544464820965, 0.5937897843089459, 0.014484079532073793, 0.3024988514972396, 0.016955569293499083, 0.9992883594432133, 0.19972958840527438, 0.06448512016575177, 0.49426973186505946, 0.1094504201732219, 0.04357102713902146, 0.08818775892937944, 0.9988630119295061, 0.9939289305983213, 0.9989526123237222, 0.00915376451821714, 0.9095513289464849, 0.08113564004783375, 0.7769637049032495, 0.10255870753765663, 0.00012537739307781983, 0.027206894297886905, 0.006519624440046632, 0.005892737474657532, 0.08086841853519379, 0.997033529938146, 0.832348385995503, 0.08102061072870373, 0.08630456360231485, 0.9986063582265535, 0.26398360330913817, 0.4414278347163507, 0.07703801652990414, 0.21724720661432967, 0.8981029671097995, 0.10091860341815856, 0.998330114274869, 0.7550286057932006, 0.09390057505925568, 0.06649520360531001, 0.05778496926723426, 0.025705813534321123, 0.0012746684397184028, 0.9968735679878794, 0.03214728593121322, 0.02184767005033908, 0.19694114002519944, 0.09082388549498104, 0.10205983009229828, 0.011235944597317242, 0.5446312033977385, 0.9984282315194486, 0.9943553277256834, 0.6095981434300958, 0.390182525029361, 0.20084032634698126, 0.79770383140632, 0.09489934427389261, 0.9040948282437512, 0.9946409298412616, 0.996885445406783, 0.9917761461617308, 0.1772319963208996, 0.033853302668037, 0.2359774333036697, 0.05974112235535941, 0.0033189512419644117, 0.4898772033139472, 0.9611497808182369, 0.021884641163246007, 0.016561350069483467, 0.23467782240920249, 0.1976012544163662, 0.06067074762464122, 0.07724284998507562, 0.00014044154542741023, 0.22737486204697716, 0.047047917718182425, 0.08468625189272837, 0.05505308580754481, 0.015589011542442535, 0.39093889951377475, 0.011933421841079815, 0.02768553867130517, 0.48067823175869495, 0.06802050449415495, 0.020764154003478877, 0.014636970143560558, 0.006162934797288656, 0.82583326283668, 0.11401429374984015, 0.0385183424830541, 0.9969136612416274, 0.9962152281847739, 0.9972424482756237, 0.10600710251548447, 0.0306323140374665, 0.1946478537656336, 0.09298233906648296, 0.15581476274175873, 0.01754725075768258, 0.12234835665751875, 0.11764496985649044, 0.09786662535985852, 0.0645811187679658, 0.9992893526645026, 0.9979374149067501, 0.16085614644551172, 0.08312700185439197, 0.5280903689234641, 0.05235921545374039, 0.10058007367230543, 0.07503021595948366, 0.011215417265724727, 0.986956719383776, 0.4415935297566106, 0.05080279545872511, 0.004509123857283294, 0.07996179640249042, 0.007214598171653271, 0.05801739363037838, 0.032465691772439714, 0.32495752598154937, 0.03486606354371156, 0.9646277580426863, 0.9977052973361759, 0.9985586841164206, 0.9982431879709434, 0.9944545647872707, 0.9990142944492577, 0.9944775177701338, 0.9945584745528872, 0.8905605248183004, 0.10917001309361112, 0.9982439920715961, 0.029278830718448622, 0.14207110476133122, 0.017095693104060606, 0.8113576646743246, 0.02996287391446726, 0.7518503599790631, 0.10926311164298211, 0.04302939035837027, 0.027559836407542566, 0.028986639927279102, 0.00938686526142458, 0.02139652231499837, 0.7329837215909442, 0.24453168359998137, 0.024516424224768095, 0.7484877712774828, 0.09927142268061835, 0.08841989064670461, 0.03925307266588553, 0.9993165529541019, 0.9995600010380481, 0.998962151144716, 0.00099647097371044, 0.9998537025529836, 0.011287390451630115, 0.04444409990329358, 0.9439080265175683, 0.13587616499889238, 0.2140002873778979, 0.49135961180479787, 0.0013082987001268866, 0.15736964364383407, 0.9995554725894695, 0.22869740300755173, 0.18131534437339047, 0.022111627362608594, 0.011582280999461644, 0.06275490432435582, 0.07812775001455036, 0.004422325472521718, 0.033693908362070236, 0.37695059980066076, 0.9992501660754322, 0.9961343422395171, 0.12669856570457827, 0.17359188250344074, 0.13762796671750577, 0.17829358709013407, 0.16843650466715418, 0.09898325445670178, 0.040088218054964216, 0.04536732495932165, 0.030932267017719305, 0.9992790907433885, 0.25700374554086974, 0.10656252863889722, 0.06111674436642635, 0.1768859620605224, 0.0252694231515032, 0.3449570090681949, 0.02820772816911985, 0.04557913033436216, 0.9540540690442625, 0.9996111919101849, 0.9994769009538716, 0.03918707563868576, 0.21552891601277166, 0.034288691183850036, 0.08653812536876437, 0.6243807385097264, 0.033582988095418424, 0.08056608474122547, 0.21142393490613173, 0.1090206362309396, 0.4160650988176223, 0.028619984928607817, 0.12076641039239136, 0.9084585256365382, 0.006231464654047787, 0.08501498206593767, 0.9978535928564602, 0.5309019036792332, 0.02220278131597089, 0.4466099285947065, 0.07432662790106394, 0.18176239004896547, 0.11486842493800792, 0.17490147055040572, 0.01366986233425162, 0.014085675637194636, 0.27615200981702986, 0.04553155667226015, 0.09631275629417586, 0.008316266058860301, 0.9978255281640416, 0.9976096033164529, 0.04996922921738502, 0.1446134151806469, 0.1148784602036834, 0.17594390432710602, 0.2909674130916527, 0.07977670847478015, 0.09283107895247143, 0.02451320678588699, 0.026471362357540683, 0.14064896444641845, 0.05171845329419871, 0.10217548089829502, 0.018921385351536115, 0.07442411571604204, 0.6124221725447189, 0.00832521131194905, 0.017864515940224004, 0.3033498871791436, 0.26155038871706604, 0.052726338309010655, 0.27941490465729, 0.04682931362971341, 0.030005449103483038, 0.9997088215334841, 0.020818786059208085, 0.9771817706540795, 0.9982027211918261, 0.9975117917548031, 0.9986272660259055, 0.9952719137506131, 0.37257711968443785, 0.0594585161227249, 0.08179243635787779, 0.07572825934038595, 0.37109805211919594, 0.0011832540521935304, 0.03801203642671716, 0.999309604080782, 0.11284406573317196, 0.1982112307023188, 0.0950155423366671, 0.1931772946844821, 0.040271488142693344, 0.32930331450014866, 0.031252352777402646, 0.9980912824020648, 0.9979021573632445, 0.012720539942709675, 0.010258499953798126, 0.9766091956015815, 0.9948447099450293, 0.01888743053264263, 0.09705233535234829, 0.02092146151308107, 0.7307982736860957, 0.010460730756540535, 0.07119108431534531, 0.050850774510960935, 0.999173802149925, 0.05806087475693352, 0.9390715395469248, 0.031045824186654792, 0.9687306766535048, 0.9994978190132188, 0.9989488975817651, 0.4775621042789192, 0.2513484759362733, 0.036506912314651516, 0.13226486638600293, 0.025264075601820785, 0.016282729032375542, 0.013762782872603138, 0.025587145622304425, 0.021322621351920354, 0.02581921211601365, 0.03030360158879497, 0.03900059935418904, 0.01875290143163097, 0.21946330298611605, 0.057617610195735726, 0.0025819212116013654, 0.606343812956068, 0.9982387211974537, 0.9989695820287549, 0.21858897100645075, 0.7396782262655905, 0.04153610005688795, 0.16985435106740368, 0.30046623611013196, 0.08032557304487968, 0.10992308025298383, 0.0023560204742769475, 0.11625488527760312, 0.07539265517686232, 0.06744108607617762, 0.07789592693078158, 0.9988945273843298, 0.273719956685585, 0.13779382201609436, 0.0967047003908132, 0.00498049959094317, 0.475845231751362, 0.010583561630754235, 0.8639256847790715, 0.01785422123752615, 0.07178125681209493, 0.04591085461078153, 0.9991271796303572, 0.8890386632738706, 0.10601003030907942, 0.004336773967189613, 0.9977389618664372, 0.9126311912961057, 0.085768570107123, 0.997533602667662, 0.9989063145991304, 0.11799908557372367, 0.015677363296306087, 0.007539495325704453, 0.8273100188348395, 0.01412159441957342, 0.01723313217303875, 0.010195954808247629, 0.03874462827134099, 0.04159949561765032, 0.0076129795901582285, 0.0053018965002887665, 0.8763083292528561, 0.02012001748827532, 0.13607517600294966, 0.012757047750276532, 0.8504698500184354, 0.36302569975721305, 0.08001499996230978, 0.15853653976739052, 0.146301654633168, 0.07088191669310141, 0.034464465166824026, 0.06571224691807781, 0.03067337399847338, 0.05031811914356307, 0.03268591239624307, 0.014576150122648937, 0.11108793199533963, 0.027827195688693424, 0.05830460049059575, 0.09651178187269069, 0.5192201354295098, 0.0832607363066462, 0.01192594100944004, 0.04439100264624903, 0.1952034978135249, 0.12072239374865257, 0.09101995949921708, 0.10305844610788979, 0.2983744531420565, 0.05512951811448254, 0.1363611754178629, 0.9993969859859353, 0.9917346437056407, 0.008066741121050667, 0.17025316888271513, 0.8295313973221653, 0.054162925864250165, 0.9445686010568476, 0.006301618992899864, 0.9929551070240785, 0.07980054106513748, 0.9199713031090085, 0.9992192810142515, 0.05900550790459226, 0.15404167796356918, 0.4912038977000109, 0.2770545974600683, 0.018735944320280015, 0.15105785188709697, 0.8488739218840566, 0.9970093139672085, 0.9985531216444063, 0.6947113526778832, 0.1465625902183825, 0.04043911978912308, 0.10799348752933448, 0.002103769237584438, 0.005610051300225167, 0.002454397443848511, 0.8408814347449428, 0.00014339724330575423, 0.06323818429783762, 0.09091385225584818, 0.004732109029089889, 0.9983128009905737, 0.3540207534850102, 0.10795187642822134, 0.15121830309191323, 0.06693444719011739, 0.20969223615719976, 0.04844269057972763, 0.03823295623499506, 0.023525227039086594, 0.22788036681367863, 0.7719885657288005, 0.9967503602539979, 0.9979746540620895, 0.9945310535525117, 0.4553031076955846, 0.22001708135276465, 0.00216410243953539, 0.19837605695741076, 0.12395497862005485, 0.2303242021204016, 0.10321326052085976, 0.046765289697076176, 0.35681710024377067, 0.03193224626892867, 0.057272028792014, 0.08446594174361777, 0.08920427506094267, 0.503395988304035, 0.009558151676658893, 0.01891717519338739, 0.007965126397215744, 0.007367741917424562, 0.4526183075217846, 0.007327810821354102, 0.4625680580979777, 0.506840248476992, 0.023204734267621322, 0.4307497297069749, 0.5691485615726645, 0.9991021134160765, 0.19114301858853722, 0.8085022546654508, 0.9984046401004474, 0.009500379894579731, 0.18755588695105793, 0.8029353330257708, 0.12033314760194877, 0.014553566524129497, 0.8302632219497291, 0.034431608605867345, 0.9988749772203506, 0.9995796353638626, 0.2080102051298529, 0.22687938140513114, 0.017970644071693555, 0.08311422883158269, 0.4640918831514861, 0.9956409080989084, 0.11157914227834863, 0.16977301331710037, 0.07261967043621634, 0.2541688465267572, 0.07468049892156843, 0.02149149706152889, 0.10470971399384167, 0.19097010630929326, 0.9984664438166758, 0.07051695457858934, 0.9094879013597548, 0.018985333925004823, 0.5510292100839044, 0.11255227071127007, 0.1340135087706224, 0.024036586626474624, 0.06304834825436399, 0.06552831354122249, 0.0019076656052757638, 0.04788240669242167, 0.9978255883164414, 0.9368024974974539, 0.06105433792244099, 0.8056064944614294, 0.12058441159136045, 0.07269273039195488, 0.9993048328799404, 0.9989750999164362, 0.0320019025441198, 0.21847915421098327, 0.29908545009278875, 0.3618861761380163, 0.08806538594848004, 0.9976889326229146, 0.7340551264417958, 0.21828239017152523, 0.046972159910328215, 0.012172128821767419, 0.39717336960122723, 0.29007283087209, 0.031690119643843453, 0.09727056880601893, 0.1716518574661487, 0.08847880699451979, 0.589186586230599, 0.18292610233689235, 0.01677629157234286, 0.0958184345574198, 0.026858197565337368, 0.9993610280423453, 0.9939016163347009, 0.13732010275833723, 0.4642263521144734, 0.010875232724360041, 0.38745045541861817, 0.023492666834215643, 0.7344913189638597, 0.058961987348619654, 0.005297366050852547, 0.07577536655349948, 0.09443130786302366, 0.007370248418577457, 0.9980106822552292, 0.3579100368846813, 0.09606899381239964, 0.054853274069540485, 0.0009091702884454224, 0.4900427854720827, 0.14061093494591864, 0.019076788430162743, 0.6145298025761414, 0.09559828808823127, 0.13010798401245827, 0.9975541641654126, 0.39765890021255335, 0.2438098123331424, 0.056650144216758624, 0.1723139328001276, 0.031537955124584, 0.001994203251437396, 0.0867109117476853, 0.009306281840041182, 0.9991790500634614, 0.9987855872874376, 0.44547403975595856, 0.11194798327153677, 0.08632586510810165, 0.19739680766010764, 0.004698432426057783, 0.011338883588219448, 0.0355827949066776, 0.008269241069861696, 0.06765742693523207, 0.03126023707470445, 0.9990260468085704, 0.07306587585605606, 0.8430969198520044, 0.08366610655019892, 0.5332607601386959, 0.030556191295486205, 0.0009203672076953676, 0.4349655423568307, 0.39077588762085136, 0.03709172546804318, 0.12402098168079304, 0.0698393749803696, 0.08998443051127593, 0.0077811470415586085, 0.15691184248836285, 0.08411276740629613, 0.024154971797721816, 0.015323608591044867, 0.997378070654719, 0.9974019612454574, 0.11992298405055, 0.8794352163707, 0.9979281577868263, 0.04401489183076243, 0.027927313297136738, 0.02376984918170538, 0.0014460744749326465, 0.0038863251513814876, 0.004609362388847811, 0.8943066830911586, 0.9964970456953801, 0.6408237194575693, 0.1442518576166484, 0.02246438060857996, 0.07541925062569856, 0.00017448062608605794, 0.031755473947662545, 0.04488514106063841, 0.030097907999844995, 0.010163496469512876, 0.9962715156459551, 0.5056292695269284, 0.4177258610920059, 0.03533372299835122, 0.04136630985172826, 0.9958473990071082], \"Term\": [\"acceleration\", \"accent\", \"access\", \"access\", \"access\", \"access\", \"access\", \"accuracy\", \"accuracy\", \"action\", \"action\", \"action\", \"action\", \"action\", \"action\", \"activation\", \"ad\", \"add\", \"add\", \"add\", \"add\", \"add\", \"add\", \"add\", \"add\", \"add\", \"adversarial\", \"advice\", \"agent\", \"agent\", \"aggregation\", \"aggregation\", \"aggregation\", \"aggregation\", \"ai\", \"airflow\", \"airtable\", \"algorithm\", \"algorithm\", \"algorithm\", \"algorithm\", \"algorithm\", \"algorithm\", \"altair\", \"analysis\", \"analysis\", \"analysis\", \"analysis\", \"analysis\", \"analysis\", \"analyst\", \"analyst\", \"animal\", \"animation\", \"animation\", \"ann\", \"answer\", \"answer\", \"answer\", \"answer\", \"answer\", \"answer\", \"apache_spark\", \"api\", \"api\", \"api\", \"app\", \"app\", \"application\", \"application\", \"application\", \"application\", \"application\", \"application\", \"approach\", \"approach\", \"approach\", \"approach\", \"approach\", \"approach\", \"approach\", \"approach\", \"approach\", \"approximate\", \"approximation\", \"architecture\", \"architecture\", \"area\", \"area\", \"area\", \"area\", \"area\", \"area\", \"area\", \"argument\", \"argument\", \"argument\", \"argument\", \"arm\", \"array\", \"array\", \"article\", \"article\", \"article\", \"article\", \"article\", \"article\", \"article\", \"article\", \"article\", \"article\", \"artificial_intelligence\", \"artificial_intelligence\", \"artist\", \"ask\", \"ask\", \"ask\", \"ask\", \"ask\", \"auc\", \"audio\", \"augmentation\", \"autoencoder\", \"automl\", \"average\", \"average\", \"average\", \"average\", \"average\", \"average\", \"aws\", \"aws\", \"axis\", \"axis\", \"backpropagation\", \"bandit\", \"base\", \"base\", \"base\", \"base\", \"base\", \"base\", \"base\", \"base\", \"base\", \"base\", \"batch\", \"batch\", \"batch\", \"bayesian\", \"bert\", \"bigquery\", \"book\", \"book\", \"bootcamp\", \"bot\", \"browser\", \"buffer\", \"build\", \"build\", \"build\", \"build\", \"build\", \"build\", \"build\", \"build\", \"business\", \"business\", \"business\", \"business\", \"button\", \"calculate\", \"calculate\", \"calculate\", \"calculate\", \"calculate\", \"calculate\", \"call\", \"call\", \"call\", \"call\", \"call\", \"call\", \"call\", \"call\", \"call\", \"cancer\", \"card\", \"card\", \"career\", \"case\", \"case\", \"case\", \"case\", \"case\", \"case\", \"case\", \"case\", \"case\", \"case\", \"catalog\", \"categorical\", \"categorical\", \"categorical\", \"causal\", \"cell\", \"cell\", \"cell\", \"cell\", \"cell\", \"certificate\", \"challenge\", \"challenge\", \"challenge\", \"challenge\", \"challenge\", \"challenge\", \"character\", \"character\", \"character\", \"chatbot\", \"christmas\", \"city\", \"city\", \"class\", \"class\", \"class\", \"class\", \"class\", \"classification\", \"classification\", \"classifier\", \"classifier\", \"classify\", \"classify\", \"classify\", \"classify\", \"classify\", \"clause\", \"click\", \"click\", \"click\", \"click\", \"climate_change\", \"cloud\", \"cloud\", \"cluster\", \"cluster\", \"cluster\", \"clustering\", \"clustering\", \"cnn\", \"cnns\", \"coco\", \"code\", \"code\", \"code\", \"code\", \"code\", \"code\", \"code\", \"coefficient\", \"coin\", \"col\", \"colleague\", \"color\", \"color\", \"column\", \"column\", \"column\", \"command\", \"company\", \"company\", \"company\", \"compression\", \"computer_vision\", \"computer_vision\", \"conda\", \"confidence_interval\", \"configure\", \"configure\", \"confusion_matrix\", \"connector\", \"container\", \"convolution\", \"convolutional\", \"convolutional_neural\", \"corpus\", \"correlation\", \"correlation\", \"cosine_similarity\", \"country\", \"country\", \"county\", \"course\", \"course\", \"course\", \"course\", \"covariance\", \"covid\", \"covid\", \"covid\", \"covid\", \"create\", \"create\", \"create\", \"create\", \"create\", \"create\", \"create\", \"create\", \"create\", \"cross\", \"cross_validation\", \"crossover\", \"crossvalidation\", \"customer\", \"customer\", \"customer\", \"customer\", \"d\", \"d\", \"dash\", \"data\", \"data\", \"data\", \"data\", \"data\", \"data\", \"data\", \"data\", \"database\", \"database\", \"database\", \"dataframe\", \"dataset\", \"dataset\", \"dataset\", \"dataset\", \"dataset\", \"dataset\", \"date\", \"date\", \"date\", \"date\", \"datum\", \"datum\", \"datum\", \"datum\", \"datum\", \"datum\", \"datum\", \"datum\", \"day\", \"day\", \"day\", \"day\", \"death\", \"decision\", \"decision\", \"decision\", \"decision\", \"decision\", \"decision_boundary\", \"decision_tree\", \"decision_trees\", \"deep\", \"deep\", \"deep\", \"deep\", \"deep\", \"define\", \"define\", \"define\", \"define\", \"define\", \"define\", \"define\", \"define\", \"define\", \"deploy\", \"deploy\", \"design\", \"design\", \"design\", \"design\", \"design\", \"design\", \"design\", \"detection\", \"detection\", \"detection\", \"detector\", \"develop\", \"develop\", \"develop\", \"develop\", \"develop\", \"develop\", \"develop\", \"development\", \"development\", \"development\", \"device\", \"device\", \"device\", \"dictionary\", \"dictionary\", \"dictionary\", \"dictionary\", \"difference\", \"difference\", \"difference\", \"difference\", \"difference\", \"difference\", \"difference\", \"digit\", \"dimension\", \"dimension\", \"dimension\", \"dimension\", \"dimension\", \"dimension\", \"directory\", \"discriminator\", \"distribution\", \"distribution\", \"distribution\", \"dnn\", \"docker\", \"document\", \"document\", \"document\", \"document\", \"document\", \"download\", \"download\", \"download\", \"download\", \"duplicate\", \"duplicate\", \"duplicate\", \"duplicate\", \"ecg\", \"echo\", \"economic\", \"edge\", \"edge\", \"edge\", \"edge\", \"element\", \"element\", \"element\", \"element\", \"element\", \"embed\", \"embed\", \"embed\", \"embed\", \"embed\", \"embedding\", \"embedding\", \"emotion\", \"endpoint\", \"engage\", \"engineer\", \"engineer\", \"english\", \"english\", \"ensemble\", \"enterprise\", \"entropy\", \"environment\", \"environment\", \"environment\", \"environment\", \"epoch\", \"equation\", \"equation\", \"error\", \"error\", \"error\", \"error\", \"error\", \"error\", \"error\", \"espresso\", \"estimate\", \"estimate\", \"ethical\", \"evaluate\", \"evaluate\", \"evaluate\", \"evaluate\", \"evaluate\", \"evaluate\", \"evaluate\", \"evaluate\", \"even\", \"even\", \"even\", \"even\", \"even\", \"even\", \"even\", \"even\", \"even\", \"even\", \"example\", \"example\", \"example\", \"example\", \"example\", \"example\", \"example\", \"example\", \"example\", \"example\", \"excel\", \"excel\", \"experience\", \"experience\", \"experience\", \"explainable\", \"export\", \"extract\", \"extract\", \"extract\", \"extract\", \"extract\", \"extract\", \"extract\", \"extract\", \"extract\", \"face\", \"face\", \"face\", \"face\", \"face\", \"face\", \"factory\", \"factory\", \"false_positive\", \"fastai\", \"feature\", \"feature\", \"feature\", \"feature\", \"feature\", \"feature\", \"feature\", \"feature\", \"feel\", \"file\", \"file\", \"filter\", \"filter\", \"filter\", \"filter\", \"filter\", \"filter\", \"find\", \"find\", \"find\", \"find\", \"find\", \"find\", \"find\", \"find\", \"find\", \"first\", \"first\", \"first\", \"first\", \"first\", \"first\", \"first\", \"first\", \"first\", \"flask\", \"fold\", \"folder\", \"folder\", \"follow\", \"follow\", \"follow\", \"follow\", \"follow\", \"follow\", \"follow\", \"follow\", \"follow\", \"forecast\", \"forecasting\", \"format\", \"format\", \"format\", \"format\", \"format\", \"format\", \"formula\", \"formula\", \"formula\", \"framework\", \"framework\", \"framework\", \"framework\", \"framework\", \"function\", \"function\", \"function\", \"function\", \"game\", \"game\", \"game\", \"gan\", \"gate\", \"gate\", \"gate\", \"gaussian\", \"generate\", \"generate\", \"generate\", \"generate\", \"generate\", \"generate\", \"generate\", \"generate\", \"generate\", \"genetic\", \"ggplot\", \"gini\", \"git\", \"github\", \"github\", \"github\", \"github\", \"github\", \"github\", \"github\", \"github\", \"give\", \"give\", \"give\", \"give\", \"give\", \"give\", \"give\", \"give\", \"give\", \"give\", \"good\", \"good\", \"good\", \"good\", \"good\", \"good\", \"good\", \"good\", \"good\", \"governance\", \"government\", \"gpt\", \"gpt\", \"gpu\", \"gradient\", \"gradient\", \"gradient\", \"gradient_booste\", \"graph\", \"graph\", \"graph\", \"graph\", \"graph\", \"grey\", \"grid\", \"grid\", \"grid\", \"grid_search\", \"group\", \"group\", \"group\", \"group\", \"group\", \"group\", \"hadoop\", \"hard\", \"hard\", \"hard\", \"hard\", \"hard\", \"hard\", \"health\", \"health\", \"healthcare\", \"heart_disease\", \"heart_rate\", \"help\", \"help\", \"help\", \"help\", \"help\", \"help\", \"help\", \"help\", \"help\", \"help\", \"hex\", \"high\", \"high\", \"high\", \"high\", \"high\", \"high\", \"high\", \"high\", \"hire\", \"holiday\", \"html\", \"human\", \"human\", \"human\", \"human\", \"human\", \"human\", \"hyperparameter\", \"hyperparameter\", \"hypothesis\", \"hypothesis\", \"image\", \"image\", \"image\", \"imagenet\", \"imbalanced\", \"imputation\", \"include\", \"include\", \"include\", \"include\", \"include\", \"include\", \"include\", \"include\", \"include\", \"include\", \"income\", \"income\", \"incorrectly\", \"information\", \"information\", \"information\", \"information\", \"information\", \"information\", \"information\", \"information\", \"information\", \"information\", \"infrastructure\", \"infrastructure\", \"innovation\", \"input\", \"input\", \"input\", \"input\", \"input\", \"input\", \"input\", \"instal\", \"install\", \"installation\", \"interview\", \"interviewer\", \"inventory\", \"job\", \"job\", \"job\", \"join\", \"join\", \"journey\", \"json\", \"jupyter\", \"jupyter_notebook\", \"jupyter_notebook\", \"jupyter_notebook\", \"kafka\", \"kera\", \"kmean\", \"kmeans_clustere\", \"knn\", \"know\", \"know\", \"know\", \"know\", \"know\", \"know\", \"know\", \"kubernete\", \"label\", \"label\", \"label\", \"label\", \"lake\", \"lambda\", \"lambda\", \"lane\", \"language\", \"language\", \"language\", \"language\", \"layer\", \"layer\", \"leader\", \"leaf\", \"learn\", \"learn\", \"learn\", \"learn\", \"learn\", \"learn\", \"learn\", \"learn\", \"learning\", \"learning\", \"learning\", \"learning\", \"learning\", \"lesson\", \"level\", \"level\", \"level\", \"level\", \"level\", \"level\", \"level\", \"level\", \"level\", \"level\", \"library\", \"library\", \"library\", \"library\", \"library\", \"library\", \"lidar\", \"lifecycle\", \"likelihood\", \"likelihood\", \"lime\", \"line\", \"line\", \"line\", \"line\", \"line\", \"line\", \"lineage\", \"linear\", \"linear\", \"linear\", \"linear_regression\", \"linux\", \"list\", \"list\", \"list\", \"list\", \"list\", \"list\", \"location\", \"location\", \"location\", \"location\", \"location\", \"lockdown\", \"logistic_regression\", \"logistic_regression\", \"look\", \"look\", \"look\", \"look\", \"look\", \"look\", \"look\", \"look\", \"look\", \"loop\", \"loop\", \"loop\", \"loop\", \"loss\", \"loss\", \"loss\", \"lot\", \"lot\", \"lot\", \"lot\", \"lot\", \"lot\", \"lot\", \"lot\", \"lot\", \"machine\", \"machine\", \"machine\", \"machine\", \"machine\", \"machine\", \"machine\", \"many\", \"many\", \"many\", \"many\", \"many\", \"many\", \"many\", \"many\", \"many\", \"many\", \"map\", \"map\", \"map\", \"map\", \"map\", \"market\", \"market\", \"market\", \"markov\", \"markov_chain\", \"mask\", \"mask\", \"matplotlib\", \"matplotlib\", \"matplotlib\", \"matrix\", \"matrix\", \"matrix\", \"matrix_multiplication\", \"mean\", \"mean\", \"mean\", \"mean\", \"mean\", \"mean\", \"mean\", \"mean\", \"mean\", \"mean\", \"measure\", \"measure\", \"measure\", \"measure\", \"measure\", \"measure\", \"measure\", \"meeting\", \"mentor\", \"metadata\", \"metadata\", \"metadata\", \"method\", \"method\", \"method\", \"method\", \"method\", \"method\", \"method\", \"method\", \"method\", \"metric\", \"metric\", \"metric\", \"metric\", \"metric\", \"metric\", \"michael\", \"miss\", \"miss\", \"miss\", \"miss\", \"miss\", \"miss\", \"miss\", \"miss\", \"missing\", \"ml\", \"ml\", \"ml\", \"mlop\", \"mlop\", \"mnist\", \"model\", \"model\", \"model\", \"model\", \"model\", \"model\", \"modern\", \"modern\", \"modern\", \"modern\", \"modern\", \"modifier\", \"mongodb\", \"monitor\", \"monitor\", \"monitor\", \"monitoring\", \"motif\", \"movie\", \"movie\", \"mse\", \"mt\", \"multivariate\", \"music\", \"mysql\", \"name\", \"name\", \"name\", \"name\", \"name\", \"name\", \"name\", \"nan\", \"national\", \"natural_language\", \"natural_language\", \"natural_language\", \"need\", \"need\", \"need\", \"need\", \"need\", \"need\", \"need\", \"need\", \"need\", \"need\", \"neighborhood\", \"neighborhood\", \"neo\", \"network\", \"network\", \"network\", \"network\", \"neural_network\", \"neuron\", \"new\", \"new\", \"new\", \"new\", \"new\", \"new\", \"new\", \"new\", \"new\", \"new\", \"nlp\", \"nlp\", \"nlp\", \"nltk\", \"node\", \"node\", \"node\", \"node\", \"nosql\", \"notebook\", \"notebook\", \"notebook\", \"notebook\", \"notebook\", \"null_hypothesis\", \"number\", \"number\", \"number\", \"number\", \"number\", \"number\", \"number\", \"number\", \"number\", \"numpy\", \"numpy\", \"numpy_array\", \"object\", \"object\", \"object\", \"object\", \"object_detection\", \"observability\", \"observation\", \"observation\", \"observation\", \"observation\", \"observation\", \"opencv\", \"operational\", \"optimal\", \"optimal\", \"optimal\", \"optimal\", \"optimal\", \"optimal\", \"optimizer\", \"optimizer\", \"oracle\", \"outlier\", \"outlier\", \"output\", \"output\", \"output\", \"output\", \"output\", \"output\", \"output\", \"overfitte\", \"overfitte\", \"package\", \"package\", \"package\", \"package\", \"package\", \"package\", \"page\", \"page\", \"page\", \"page\", \"page\", \"page\", \"panda\", \"panda\", \"paper\", \"paper\", \"paper\", \"paper\", \"paper\", \"parameter\", \"parameter\", \"parameter\", \"parameter\", \"parameter\", \"parameter\", \"parent\", \"parent\", \"participant\", \"pass\", \"pass\", \"pass\", \"pass\", \"pass\", \"pass\", \"pass\", \"pass\", \"pca\", \"people\", \"people\", \"performance\", \"performance\", \"performance\", \"performance\", \"performance\", \"performance\", \"performance\", \"performance\", \"period\", \"period\", \"period\", \"phd\", \"pixel\", \"plant\", \"platform\", \"platform\", \"platform\", \"platform\", \"player\", \"playlist\", \"plot\", \"plot\", \"plot\", \"plot\", \"pod\", \"podcast\", \"point\", \"point\", \"point\", \"point\", \"point\", \"pointer\", \"polar\", \"polarity\", \"political\", \"polygon\", \"polynomial\", \"port\", \"portfolio\", \"posterior\", \"power_bi\", \"powerbi\", \"precision_recall\", \"predict\", \"predict\", \"predict\", \"predict\", \"predict\", \"prediction\", \"prediction\", \"prediction\", \"price\", \"price\", \"price\", \"principal_component\", \"prior\", \"prior\", \"prior\", \"prior\", \"prior\", \"prior\", \"privacy\", \"probability\", \"probability\", \"problem\", \"problem\", \"problem\", \"problem\", \"problem\", \"problem\", \"problem\", \"process\", \"process\", \"process\", \"process\", \"process\", \"process\", \"process\", \"process\", \"process\", \"product\", \"product\", \"product\", \"product\", \"product\", \"product\", \"product\", \"production\", \"production\", \"production\", \"professional\", \"professional\", \"profiling\", \"project\", \"project\", \"project\", \"project\", \"protein\", \"provide\", \"provide\", \"provide\", \"provide\", \"provide\", \"provide\", \"provide\", \"provide\", \"provide\", \"provide\", \"pvalue\", \"pyspark\", \"python\", \"python\", \"python\", \"python\", \"python\", \"pytorch\", \"quality\", \"quality\", \"quality\", \"quality\", \"quality\", \"quality\", \"quantum\", \"quantum_compute\", \"qubit\", \"query\", \"query\", \"query\", \"question\", \"question\", \"question\", \"question\", \"question\", \"question\", \"question\", \"qvalue\", \"random\", \"random\", \"random\", \"random_forest\", \"rate\", \"rate\", \"rate\", \"rate\", \"rating\", \"rating\", \"react\", \"really\", \"really\", \"really\", \"really\", \"really\", \"really\", \"reconstruction\", \"record\", \"record\", \"record\", \"record\", \"record\", \"record\", \"record\", \"recruiter\", \"rectangle\", \"regression\", \"regression\", \"reinforcement\", \"reinforcement\", \"reject\", \"reject\", \"relational_database\", \"relu\", \"replication\", \"report\", \"report\", \"report\", \"report\", \"report\", \"report\", \"repository\", \"repository\", \"repository\", \"require\", \"require\", \"require\", \"require\", \"require\", \"require\", \"require\", \"require\", \"require\", \"require\", \"research\", \"research\", \"research\", \"research\", \"research\", \"research\", \"researcher\", \"researcher\", \"researcher\", \"researcher\", \"researcher\", \"reshape\", \"resnet\", \"respondent\", \"result\", \"result\", \"result\", \"result\", \"result\", \"result\", \"result\", \"result\", \"result\", \"result\", \"resume\", \"retrain\", \"return\", \"return\", \"return\", \"return\", \"return\", \"return\", \"revenue\", \"revenue\", \"review\", \"review\", \"review\", \"review\", \"review\", \"review\", \"review\", \"review\", \"reward\", \"reward\", \"rgb\", \"rl\", \"rmse\", \"rnns\", \"robot\", \"roc\", \"roc_curve\", \"role\", \"role\", \"rotation\", \"row\", \"row\", \"row\", \"row\", \"run\", \"run\", \"run\", \"run\", \"run\", \"run\", \"run\", \"sale\", \"sale\", \"sale\", \"sample\", \"sample\", \"sample\", \"sample\", \"sample\", \"sampling\", \"schema\", \"science\", \"science\", \"scientist\", \"scikitlearn\", \"scikitlearn\", \"scikitlearn\", \"score\", \"score\", \"score\", \"score\", \"score\", \"script\", \"search\", \"search\", \"search\", \"search\", \"search\", \"search\", \"search\", \"search\", \"search\", \"season\", \"seasonality\", \"see\", \"see\", \"see\", \"see\", \"see\", \"see\", \"see\", \"see\", \"see\", \"segmentation\", \"select\", \"select\", \"select\", \"select\", \"select\", \"select\", \"select\", \"sensor\", \"sensor\", \"sentence\", \"sentiment\", \"sequence\", \"sequence\", \"sequence\", \"sequence\", \"sequence\", \"series\", \"series\", \"series\", \"series\", \"series\", \"series\", \"series\", \"server\", \"server\", \"server\", \"serverless\", \"service\", \"service\", \"service\", \"set\", \"set\", \"set\", \"set\", \"set\", \"set\", \"set\", \"set\", \"set\", \"set\", \"shap\", \"shoe\", \"show\", \"show\", \"show\", \"show\", \"show\", \"show\", \"show\", \"show\", \"show\", \"similarity\", \"similarity\", \"similarity\", \"similarity\", \"similarity\", \"similarity\", \"size\", \"size\", \"size\", \"size\", \"size\", \"size\", \"size\", \"size\", \"skill\", \"sklearn\", \"sklearn\", \"slope\", \"smite\", \"snowflake\", \"softmax\", \"solution\", \"solution\", \"solution\", \"solution\", \"solution\", \"solution\", \"solution\", \"song\", \"source\", \"source\", \"source\", \"source\", \"source\", \"source\", \"source\", \"spacy\", \"spam\", \"spark\", \"spark\", \"spark\", \"specie\", \"split\", \"split\", \"split\", \"split\", \"split\", \"split\", \"split\", \"spotify\", \"spreadsheet\", \"spreadsheet\", \"sql\", \"sql\", \"stakeholder\", \"standard_deviation\", \"start\", \"start\", \"start\", \"start\", \"start\", \"start\", \"start\", \"start\", \"start\", \"state\", \"state\", \"state\", \"state\", \"state\", \"state\", \"state\", \"state\", \"station\", \"stationary\", \"statistical\", \"statistical\", \"statistical\", \"step\", \"step\", \"step\", \"step\", \"step\", \"step\", \"step\", \"step\", \"step\", \"stock\", \"store\", \"store\", \"store\", \"store\", \"store\", \"store\", \"story\", \"story\", \"story\", \"story\", \"streamlit\", \"student\", \"student\", \"student\", \"summarization\", \"supervise\", \"supervise\", \"surrogate\", \"svm\", \"system\", \"system\", \"system\", \"system\", \"system\", \"system\", \"table\", \"table\", \"table\", \"table\", \"table\", \"table\", \"table\", \"tableau\", \"tableau\", \"tableau\", \"take\", \"take\", \"take\", \"take\", \"take\", \"take\", \"take\", \"take\", \"take\", \"target\", \"target\", \"target\", \"target\", \"target\", \"target\", \"target\", \"target\", \"target\", \"target\", \"task\", \"task\", \"task\", \"task\", \"task\", \"task\", \"task\", \"teach\", \"technical\", \"technical\", \"technology\", \"technology\", \"template\", \"template\", \"tensor\", \"tensor\", \"tensorflow\", \"tensorflow\", \"terminal\", \"test\", \"test\", \"test\", \"test\", \"test\", \"text\", \"text\", \"tfidf\", \"theorem\", \"thing\", \"thing\", \"thing\", \"thing\", \"thing\", \"thing\", \"thing\", \"think\", \"think\", \"think\", \"think\", \"think\", \"tile\", \"time\", \"time\", \"time\", \"time\", \"time\", \"time\", \"time\", \"time\", \"token\", \"token\", \"tokenization\", \"tokenize\", \"tokenizer\", \"tool\", \"tool\", \"tool\", \"tool\", \"tool\", \"top\", \"top\", \"top\", \"top\", \"top\", \"top\", \"top\", \"top\", \"topic\", \"topic\", \"topic\", \"topic\", \"topic\", \"topic\", \"train\", \"train\", \"train\", \"train\", \"training\", \"training\", \"transaction\", \"transformer\", \"transformer\", \"transpose\", \"tree\", \"tree\", \"tree\", \"trend\", \"trend\", \"trend\", \"trend\", \"tuple\", \"tweet\", \"twitter\", \"twitter\", \"twitter\", \"twitter\", \"twitter\", \"twodimensional\", \"type\", \"type\", \"type\", \"type\", \"type\", \"type\", \"type\", \"type\", \"ui\", \"uncertainty\", \"uncertainty\", \"uncertainty\", \"understand\", \"understand\", \"understand\", \"understand\", \"understand\", \"understand\", \"understand\", \"understand\", \"univariate\", \"unseen\", \"unseen\", \"unsupervised\", \"unsupervised\", \"unsupervised\", \"upload\", \"url\", \"user\", \"user\", \"user\", \"user\", \"user\", \"vaccine\", \"validation\", \"validation\", \"validation\", \"value\", \"value\", \"value\", \"value\", \"value\", \"value\", \"variable\", \"variable\", \"variable\", \"variable\", \"variable\", \"variable\", \"variance\", \"vba\", \"vector\", \"vector\", \"vector\", \"vector\", \"version\", \"version\", \"version\", \"version\", \"version\", \"version\", \"version\", \"vertex\", \"video\", \"video\", \"video\", \"video\", \"video\", \"visualization\", \"visualization\", \"visualization\", \"visualization\", \"visualization\", \"vocabulary\", \"want\", \"want\", \"want\", \"want\", \"want\", \"want\", \"want\", \"want\", \"warehouse\", \"waste\", \"way\", \"way\", \"way\", \"way\", \"way\", \"way\", \"way\", \"way\", \"way\", \"way\", \"weather\", \"web\", \"web\", \"web\", \"weight\", \"weight\", \"weight\", \"weight\", \"well\", \"well\", \"well\", \"well\", \"well\", \"well\", \"well\", \"well\", \"well\", \"well\", \"width\", \"wildfire\", \"win\", \"win\", \"wine\", \"word\", \"word\", \"word\", \"word\", \"word\", \"word\", \"word\", \"word_vec\", \"work\", \"work\", \"work\", \"work\", \"work\", \"work\", \"work\", \"work\", \"work\", \"yaml\", \"year\", \"year\", \"year\", \"year\", \"yolo\"]}, \"R\": 30, \"lambda.step\": 0.01, \"plot.opts\": {\"xlab\": \"PC1\", \"ylab\": \"PC2\"}, \"topic.order\": [4, 7, 8, 9, 3, 1, 6, 2, 5, 10]};\n",
       "\n",
       "function LDAvis_load_lib(url, callback){\n",
       "  var s = document.createElement('script');\n",
       "  s.src = url;\n",
       "  s.async = true;\n",
       "  s.onreadystatechange = s.onload = callback;\n",
       "  s.onerror = function(){console.warn(\"failed to load library \" + url);};\n",
       "  document.getElementsByTagName(\"head\")[0].appendChild(s);\n",
       "}\n",
       "\n",
       "if(typeof(LDAvis) !== \"undefined\"){\n",
       "   // already loaded: just create the visualization\n",
       "   !function(LDAvis){\n",
       "       new LDAvis(\"#\" + \"ldavis_el478921402442381337283345945312\", ldavis_el478921402442381337283345945312_data);\n",
       "   }(LDAvis);\n",
       "}else if(typeof define === \"function\" && define.amd){\n",
       "   // require.js is available: use it to load d3/LDAvis\n",
       "   require.config({paths: {d3: \"https://d3js.org/d3.v5\"}});\n",
       "   require([\"d3\"], function(d3){\n",
       "      window.d3 = d3;\n",
       "      LDAvis_load_lib(\"https://cdn.jsdelivr.net/gh/bmabey/pyLDAvis@3.3.1/pyLDAvis/js/ldavis.v3.0.0.js\", function(){\n",
       "        new LDAvis(\"#\" + \"ldavis_el478921402442381337283345945312\", ldavis_el478921402442381337283345945312_data);\n",
       "      });\n",
       "    });\n",
       "}else{\n",
       "    // require.js not available: dynamically load d3 & LDAvis\n",
       "    LDAvis_load_lib(\"https://d3js.org/d3.v5.js\", function(){\n",
       "         LDAvis_load_lib(\"https://cdn.jsdelivr.net/gh/bmabey/pyLDAvis@3.3.1/pyLDAvis/js/ldavis.v3.0.0.js\", function(){\n",
       "                 new LDAvis(\"#\" + \"ldavis_el478921402442381337283345945312\", ldavis_el478921402442381337283345945312_data);\n",
       "            })\n",
       "         });\n",
       "}\n",
       "</script>"
      ],
      "text/plain": [
       "PreparedData(topic_coordinates=              x         y  topics  cluster       Freq\n",
       "topic                                                \n",
       "3      0.030207  0.123446       1        1  22.375451\n",
       "6     -0.056686  0.152283       2        1  12.344020\n",
       "7     -0.071640 -0.037454       3        1  10.948212\n",
       "8     -0.159451 -0.002709       4        1  10.504419\n",
       "2     -0.029455  0.064802       5        1   9.496284\n",
       "0      0.271836  0.131546       6        1   8.609148\n",
       "5      0.039156 -0.193645       7        1   8.037480\n",
       "1      0.143310 -0.176809       8        1   6.780344\n",
       "4     -0.117156  0.033140       9        1   6.564469\n",
       "9     -0.050121 -0.094599      10        1   4.340172, topic_info=          Term          Freq         Total Category  logprob  loglift\n",
       "241      model  60084.000000  60084.000000  Default  30.0000  30.0000\n",
       "81       datum  87347.000000  87347.000000  Default  29.0000  29.0000\n",
       "932      image  18667.000000  18667.000000  Default  28.0000  28.0000\n",
       "80        data  28940.000000  28940.000000  Default  27.0000  27.0000\n",
       "926   function  25168.000000  25168.000000  Default  26.0000  26.0000\n",
       "...        ...           ...           ...      ...      ...      ...\n",
       "149       give   1160.572340  14576.312220  Topic10  -5.2778   0.6068\n",
       "241      model   1292.413333  60084.671598  Topic10  -5.1702  -0.7020\n",
       "16    analysis   1097.717887  10585.627371  Topic10  -5.3334   0.8710\n",
       "753     result   1070.525921  16583.794466  Topic10  -5.3585   0.3970\n",
       "1003      step   1057.744059  13582.224921  Topic10  -5.3705   0.5846\n",
       "\n",
       "[745 rows x 6 columns], token_table=       Topic      Freq          Term\n",
       "term                                \n",
       "10739      6  0.996302  acceleration\n",
       "18101     10  0.997201        accent\n",
       "1540       1  0.029747        access\n",
       "1540       2  0.601013        access\n",
       "1540       5  0.015083        access\n",
       "...      ...       ...           ...\n",
       "413        1  0.505629          year\n",
       "413        5  0.417726          year\n",
       "413        6  0.035334          year\n",
       "413        9  0.041366          year\n",
       "13006      8  0.995847          yolo\n",
       "\n",
       "[1885 rows x 3 columns], R=30, lambda_step=0.01, plot_opts={'xlab': 'PC1', 'ylab': 'PC2'}, topic_order=[4, 7, 8, 9, 3, 1, 6, 2, 5, 10])"
      ]
     },
     "execution_count": 51,
     "metadata": {},
     "output_type": "execute_result"
    }
   ],
   "source": [
    "plot"
   ]
  },
  {
   "cell_type": "markdown",
   "id": "94b99be1-405a-431d-97ca-a9c8facaf8f4",
   "metadata": {},
   "source": [
    "#### Build LDA Mallet Model"
   ]
  },
  {
   "cell_type": "code",
   "execution_count": 55,
   "id": "aac9fbd9-c86c-4216-82fd-1f97ba646729",
   "metadata": {},
   "outputs": [],
   "source": [
    "import os\n",
    "os.environ.update({'/Users/rachelinsler/dsi/downloads/mallet-2.0.8/bin/':r'Python/Mallet/mallet-2.0.8/bin'})"
   ]
  },
  {
   "cell_type": "code",
   "execution_count": 97,
   "id": "15bc464d-63f1-46da-8db9-32904fec2c09",
   "metadata": {},
   "outputs": [
    {
     "ename": "ImportError",
     "evalue": "cannot import name 'Vocab' from 'gensim.models.word2vec' (/Users/rachelinsler/ENTER/envs/capstone/lib/python3.9/site-packages/gensim/models/word2vec.py)",
     "output_type": "error",
     "traceback": [
      "\u001b[0;31m---------------------------------------------------------------------------\u001b[0m",
      "\u001b[0;31mImportError\u001b[0m                               Traceback (most recent call last)",
      "\u001b[0;32m<ipython-input-97-f68ed324ba2f>\u001b[0m in \u001b[0;36m<module>\u001b[0;34m\u001b[0m\n\u001b[0;32m----> 1\u001b[0;31m \u001b[0;32mfrom\u001b[0m \u001b[0mgensim\u001b[0m\u001b[0;34m.\u001b[0m\u001b[0mmodels\u001b[0m\u001b[0;34m.\u001b[0m\u001b[0mwrappers\u001b[0m \u001b[0;32mimport\u001b[0m \u001b[0mLdaMallet\u001b[0m\u001b[0;34m\u001b[0m\u001b[0;34m\u001b[0m\u001b[0m\n\u001b[0m\u001b[1;32m      2\u001b[0m \u001b[0;32mimport\u001b[0m \u001b[0mgensim\u001b[0m\u001b[0;34m.\u001b[0m\u001b[0mmodels\u001b[0m\u001b[0;34m.\u001b[0m\u001b[0mword2vec\u001b[0m\u001b[0;34m\u001b[0m\u001b[0;34m\u001b[0m\u001b[0m\n",
      "\u001b[0;32m~/ENTER/envs/capstone/lib/python3.9/site-packages/gensim/models/wrappers/__init__.py\u001b[0m in \u001b[0;36m<module>\u001b[0;34m\u001b[0m\n\u001b[1;32m      8\u001b[0m \u001b[0;32mfrom\u001b[0m \u001b[0;34m.\u001b[0m\u001b[0mfasttext\u001b[0m \u001b[0;32mimport\u001b[0m \u001b[0mFastText\u001b[0m  \u001b[0;31m# noqa:F401\u001b[0m\u001b[0;34m\u001b[0m\u001b[0;34m\u001b[0m\u001b[0m\n\u001b[1;32m      9\u001b[0m \u001b[0;32mfrom\u001b[0m \u001b[0;34m.\u001b[0m\u001b[0mwordrank\u001b[0m \u001b[0;32mimport\u001b[0m \u001b[0mWordrank\u001b[0m  \u001b[0;31m# noqa:F401\u001b[0m\u001b[0;34m\u001b[0m\u001b[0;34m\u001b[0m\u001b[0m\n\u001b[0;32m---> 10\u001b[0;31m \u001b[0;32mfrom\u001b[0m \u001b[0;34m.\u001b[0m\u001b[0mvarembed\u001b[0m \u001b[0;32mimport\u001b[0m \u001b[0mVarEmbed\u001b[0m  \u001b[0;31m# noqa:F401\u001b[0m\u001b[0;34m\u001b[0m\u001b[0;34m\u001b[0m\u001b[0m\n\u001b[0m",
      "\u001b[0;32m~/ENTER/envs/capstone/lib/python3.9/site-packages/gensim/models/wrappers/varembed.py\u001b[0m in \u001b[0;36m<module>\u001b[0;34m\u001b[0m\n\u001b[1;32m     20\u001b[0m \u001b[0;32mfrom\u001b[0m \u001b[0mgensim\u001b[0m \u001b[0;32mimport\u001b[0m \u001b[0mutils\u001b[0m\u001b[0;34m\u001b[0m\u001b[0;34m\u001b[0m\u001b[0m\n\u001b[1;32m     21\u001b[0m \u001b[0;32mfrom\u001b[0m \u001b[0mgensim\u001b[0m\u001b[0;34m.\u001b[0m\u001b[0mmodels\u001b[0m\u001b[0;34m.\u001b[0m\u001b[0mkeyedvectors\u001b[0m \u001b[0;32mimport\u001b[0m \u001b[0mKeyedVectors\u001b[0m\u001b[0;34m\u001b[0m\u001b[0;34m\u001b[0m\u001b[0m\n\u001b[0;32m---> 22\u001b[0;31m \u001b[0;32mfrom\u001b[0m \u001b[0mgensim\u001b[0m\u001b[0;34m.\u001b[0m\u001b[0mmodels\u001b[0m\u001b[0;34m.\u001b[0m\u001b[0mword2vec\u001b[0m \u001b[0;32mimport\u001b[0m \u001b[0mVocab\u001b[0m\u001b[0;34m\u001b[0m\u001b[0;34m\u001b[0m\u001b[0m\n\u001b[0m\u001b[1;32m     23\u001b[0m \u001b[0;34m\u001b[0m\u001b[0m\n\u001b[1;32m     24\u001b[0m \u001b[0mlogger\u001b[0m \u001b[0;34m=\u001b[0m \u001b[0mlogging\u001b[0m\u001b[0;34m.\u001b[0m\u001b[0mgetLogger\u001b[0m\u001b[0;34m(\u001b[0m\u001b[0m__name__\u001b[0m\u001b[0;34m)\u001b[0m\u001b[0;34m\u001b[0m\u001b[0;34m\u001b[0m\u001b[0m\n",
      "\u001b[0;31mImportError\u001b[0m: cannot import name 'Vocab' from 'gensim.models.word2vec' (/Users/rachelinsler/ENTER/envs/capstone/lib/python3.9/site-packages/gensim/models/word2vec.py)"
     ]
    }
   ],
   "source": [
    "from gensim.models.wrappers import LdaMallet\n",
    "import gensim.models.word2vec "
   ]
  },
  {
   "cell_type": "code",
   "execution_count": null,
   "id": "96b95608-b4d7-48f3-bc16-c888882fccb9",
   "metadata": {},
   "outputs": [],
   "source": [
    "mallet_path = '/Users/rachelinsler/dsi/downloads/mallet-2.0.8/bin/mallet' # update this path\n",
    "ldamallet = LdaMallet(mallet_path, corpus=corpus, num_topics=10, id2word=id2word)"
   ]
  },
  {
   "cell_type": "code",
   "execution_count": null,
   "id": "fc60b023-c089-4dc5-a4b6-77d94645cb60",
   "metadata": {},
   "outputs": [],
   "source": [
    "# Show Topics\n",
    "pprint(ldamallet.show_topics(formatted=False))\n",
    "\n",
    "# Compute Coherence Score\n",
    "coherence_model_ldamallet = CoherenceModel(model=ldamallet, texts=data_lemmatized, dictionary=id2word, coherence='c_v')\n",
    "coherence_ldamallet = coherence_model_ldamallet.get_coherence()\n",
    "print('\\nCoherence Score: ', coherence_ldamallet)"
   ]
  },
  {
   "cell_type": "code",
   "execution_count": null,
   "id": "1daf9622-3f5b-4971-816c-8abdb261a3b9",
   "metadata": {},
   "outputs": [],
   "source": []
  },
  {
   "cell_type": "code",
   "execution_count": null,
   "id": "c1a09af7-396a-4c57-a0ea-3881e44f640b",
   "metadata": {},
   "outputs": [],
   "source": []
  },
  {
   "cell_type": "code",
   "execution_count": null,
   "id": "bab20bc1-70b1-4762-8316-a56f8ed75f89",
   "metadata": {},
   "outputs": [],
   "source": [
    "df.to_csv(output_filename, index=False)"
   ]
  }
 ],
 "metadata": {
  "kernelspec": {
   "display_name": "Python 3",
   "language": "python",
   "name": "python3"
  },
  "language_info": {
   "codemirror_mode": {
    "name": "ipython",
    "version": 3
   },
   "file_extension": ".py",
   "mimetype": "text/x-python",
   "name": "python",
   "nbconvert_exporter": "python",
   "pygments_lexer": "ipython3",
   "version": "3.9.4"
  }
 },
 "nbformat": 4,
 "nbformat_minor": 5
}
