{
 "cells": [
  {
   "cell_type": "markdown",
   "id": "63ba5891-678f-456c-9370-38db29d58384",
   "metadata": {},
   "source": [
    "# Towards Data Science Blog Posts: Data Cleaning\n",
    "### *Cleaning Data Scraped From TowardsDataScience.com*"
   ]
  },
  {
   "cell_type": "code",
   "execution_count": 34,
   "id": "a35499cd-8ce6-41f4-9f25-1a75bfcea826",
   "metadata": {
    "tags": []
   },
   "outputs": [],
   "source": [
    "import pandas as pd\n",
    "import numpy as np\n",
    "import os\n",
    "\n",
    "import warnings\n",
    "warnings.filterwarnings('ignore')"
   ]
  },
  {
   "cell_type": "markdown",
   "id": "92e0cca8-0123-4e10-8c9c-b99a1ca3af3d",
   "metadata": {},
   "source": [
    "#### Pull In Scraped Data"
   ]
  },
  {
   "cell_type": "code",
   "execution_count": 35,
   "id": "f2e89b01-637c-446a-981d-d787b2379f78",
   "metadata": {},
   "outputs": [],
   "source": [
    "raw_files = os.listdir('../data/raw/')"
   ]
  },
  {
   "cell_type": "code",
   "execution_count": 36,
   "id": "e945c6f4-d1a9-4575-9522-0978d980f818",
   "metadata": {},
   "outputs": [],
   "source": [
    "try:\n",
    "    raw_files.remove('.ipynb_checkpoints')\n",
    "except:\n",
    "    pass"
   ]
  },
  {
   "cell_type": "markdown",
   "id": "6129a2b7-4711-4951-99cc-147af46fb099",
   "metadata": {},
   "source": [
    "#### Clean Scraped Data"
   ]
  },
  {
   "cell_type": "code",
   "execution_count": 37,
   "id": "04fefa36-92c9-4f2f-8e0d-1cb2e16af26b",
   "metadata": {},
   "outputs": [],
   "source": [
    "# a function to convert K claps to an integer\n",
    "def replace_K(string_in): \n",
    "    if string_in.count('K') >0:\n",
    "        return int((float(string_in.replace('K', '')) * 1000))\n",
    "    else: \n",
    "        return int(string_in)"
   ]
  },
  {
   "cell_type": "markdown",
   "id": "50ffe33d-ce5c-4539-81a5-dadd8d4c33e5",
   "metadata": {},
   "source": [
    "#### Convert to DataFrame"
   ]
  },
  {
   "cell_type": "code",
   "execution_count": 38,
   "id": "7e576f2a-6659-46a4-a04a-0d01970b87eb",
   "metadata": {},
   "outputs": [],
   "source": [
    "def process_raw(file):\n",
    "    df = pd.read_csv(file, sep='\\t')\n",
    "    # convert K claps to integer\n",
    "    df['claps'] = df['claps'].apply(replace_K)\n",
    "    return df\n"
   ]
  },
  {
   "cell_type": "code",
   "execution_count": 39,
   "id": "cd57f72a-fb8e-40ca-b936-77545c9d7e05",
   "metadata": {},
   "outputs": [],
   "source": [
    "df_list = [process_raw(f'../data/raw/{file}') for file in raw_files]"
   ]
  },
  {
   "cell_type": "markdown",
   "id": "c773ea6a-aade-410b-983e-45917efe7610",
   "metadata": {},
   "source": [
    "#### Concatenate Files Into One Large DataFrame"
   ]
  },
  {
   "cell_type": "code",
   "execution_count": 40,
   "id": "1f036976-3110-4d06-9f63-0e11ed583fcc",
   "metadata": {},
   "outputs": [],
   "source": [
    "df = pd.concat(df_list, ignore_index=True)"
   ]
  },
  {
   "cell_type": "code",
   "execution_count": 41,
   "id": "df989141-78dd-4d57-a6b0-da25b082c940",
   "metadata": {},
   "outputs": [
    {
     "data": {
      "text/plain": [
       "(9804, 12)"
      ]
     },
     "execution_count": 41,
     "metadata": {},
     "output_type": "execute_result"
    }
   ],
   "source": [
    "df.shape"
   ]
  },
  {
   "cell_type": "markdown",
   "id": "0e7cf500-0c70-43d6-826a-382506162da7",
   "metadata": {},
   "source": [
    "#### Save Cleaned File"
   ]
  },
  {
   "cell_type": "code",
   "execution_count": 32,
   "id": "9d27416d-2f7d-4d55-a806-3e3db69ca72f",
   "metadata": {},
   "outputs": [],
   "source": [
    "output_filename = '../data/tds_cleaned.csv'"
   ]
  },
  {
   "cell_type": "code",
   "execution_count": 33,
   "id": "58b97024-df2f-4c85-9a14-cc483e08596e",
   "metadata": {},
   "outputs": [],
   "source": [
    "df.to_csv(output_filename, index=False)"
   ]
  },
  {
   "cell_type": "code",
   "execution_count": 52,
   "id": "e7fd1baf-2eba-425b-bda2-954b6e681649",
   "metadata": {},
   "outputs": [
    {
     "data": {
      "text/html": [
       "<div>\n",
       "<style scoped>\n",
       "    .dataframe tbody tr th:only-of-type {\n",
       "        vertical-align: middle;\n",
       "    }\n",
       "\n",
       "    .dataframe tbody tr th {\n",
       "        vertical-align: top;\n",
       "    }\n",
       "\n",
       "    .dataframe thead th {\n",
       "        text-align: right;\n",
       "    }\n",
       "</style>\n",
       "<table border=\"1\" class=\"dataframe\">\n",
       "  <thead>\n",
       "    <tr style=\"text-align: right;\">\n",
       "      <th></th>\n",
       "      <th>date</th>\n",
       "      <th>title</th>\n",
       "      <th>subtitle</th>\n",
       "      <th>claps</th>\n",
       "      <th>responses</th>\n",
       "      <th>reading_time (mins)</th>\n",
       "      <th>number_sections</th>\n",
       "      <th>section_titles</th>\n",
       "      <th>number_paragraphs</th>\n",
       "      <th>paragraphs</th>\n",
       "    </tr>\n",
       "  </thead>\n",
       "  <tbody>\n",
       "    <tr>\n",
       "      <th>0</th>\n",
       "      <td>01/01/2021</td>\n",
       "      <td>7 Most Recommended Skills to Learn in 2021 to ...</td>\n",
       "      <td>Recommended by some of the largest…</td>\n",
       "      <td>1K</td>\n",
       "      <td>10</td>\n",
       "      <td>6</td>\n",
       "      <td>11</td>\n",
       "      <td>['7 Most Recommended Skills to Learn in 2021 t...</td>\n",
       "      <td>36</td>\n",
       "      <td>['Terence Shin', 'Jan 1·6 min read', 'Happy Ne...</td>\n",
       "    </tr>\n",
       "    <tr>\n",
       "      <th>1</th>\n",
       "      <td>01/01/2021</td>\n",
       "      <td>The Ultimate Guide to Acing Coding Interviews ...</td>\n",
       "      <td>Data Science Interview</td>\n",
       "      <td>489</td>\n",
       "      <td>4</td>\n",
       "      <td>11</td>\n",
       "      <td>12</td>\n",
       "      <td>['The Ultimate Guide to Acing Coding Interview...</td>\n",
       "      <td>42</td>\n",
       "      <td>['Emma Ding', 'Jan 1·11 min read', 'Written by...</td>\n",
       "    </tr>\n",
       "    <tr>\n",
       "      <th>2</th>\n",
       "      <td>01/01/2021</td>\n",
       "      <td>Shakespeare versus Eminem— who’s the better ly...</td>\n",
       "      <td>He is known for his poetry, his writings on life…</td>\n",
       "      <td>139</td>\n",
       "      <td>2</td>\n",
       "      <td>9</td>\n",
       "      <td>13</td>\n",
       "      <td>['Shakespeare versus Eminem—who’s the better l...</td>\n",
       "      <td>64</td>\n",
       "      <td>['Jeroen van Zeeland', 'Jan 1·9 min read', 'Da...</td>\n",
       "    </tr>\n",
       "    <tr>\n",
       "      <th>3</th>\n",
       "      <td>01/01/2021</td>\n",
       "      <td>Customer Segmentation in Online Retail</td>\n",
       "      <td>A detailed step-by-step explanation on perform...</td>\n",
       "      <td>159</td>\n",
       "      <td>1</td>\n",
       "      <td>19</td>\n",
       "      <td>15</td>\n",
       "      <td>['Customer Segmentation in Online Retail', 'Un...</td>\n",
       "      <td>93</td>\n",
       "      <td>['Rahul Khandelwal', 'Jan 1·19 min read', 'In ...</td>\n",
       "    </tr>\n",
       "    <tr>\n",
       "      <th>4</th>\n",
       "      <td>01/01/2021</td>\n",
       "      <td>Implementing VisualTtransformer in PyTorch</td>\n",
       "      <td>Hi guys, happy new year! Today we are going to...</td>\n",
       "      <td>133</td>\n",
       "      <td>2</td>\n",
       "      <td>6</td>\n",
       "      <td>6</td>\n",
       "      <td>['Implementing Vision Transformer (ViT) in PyT...</td>\n",
       "      <td>60</td>\n",
       "      <td>['Francesco Zuppichini', 'Jan 1·6 min read', '...</td>\n",
       "    </tr>\n",
       "    <tr>\n",
       "      <th>5</th>\n",
       "      <td>01/01/2021</td>\n",
       "      <td>Stock Price Analysis with Pandas and Altair</td>\n",
       "      <td>Practical guide for Pandas and Altair</td>\n",
       "      <td>92</td>\n",
       "      <td>0 responses</td>\n",
       "      <td>5</td>\n",
       "      <td>1</td>\n",
       "      <td>['Stock Price Analysis with Pandas and Altair']</td>\n",
       "      <td>29</td>\n",
       "      <td>['Soner Yıldırım', 'Jan 1·5 min read', 'Stock ...</td>\n",
       "    </tr>\n",
       "    <tr>\n",
       "      <th>6</th>\n",
       "      <td>01/01/2021</td>\n",
       "      <td>Optimal Threshold for Imbalanced Classification</td>\n",
       "      <td>Hands-on Tutorial</td>\n",
       "      <td>58</td>\n",
       "      <td>1</td>\n",
       "      <td>9</td>\n",
       "      <td>1</td>\n",
       "      <td>['Optimal Threshold for Imbalanced Classificat...</td>\n",
       "      <td>40</td>\n",
       "      <td>['Audhi Aprilliant', 'Jan 1·9 min read', 'Clas...</td>\n",
       "    </tr>\n",
       "    <tr>\n",
       "      <th>7</th>\n",
       "      <td>01/01/2021</td>\n",
       "      <td>Creating Abstract Art with StyleGAN2 ADA</td>\n",
       "      <td>How I used Adaptive Discriminator Augmentation...</td>\n",
       "      <td>107</td>\n",
       "      <td>2</td>\n",
       "      <td>11</td>\n",
       "      <td>9</td>\n",
       "      <td>['Creating Abstract Art with StyleGAN2 ADA', '...</td>\n",
       "      <td>52</td>\n",
       "      <td>['Robert A. Gonsalves', 'Jan 1·11 min read', \"...</td>\n",
       "    </tr>\n",
       "    <tr>\n",
       "      <th>8</th>\n",
       "      <td>01/01/2021</td>\n",
       "      <td>Natural Language Generation Part 2: GPT2 and H...</td>\n",
       "      <td>Learn to use Huggingface and GPT-2 to train a…</td>\n",
       "      <td>24</td>\n",
       "      <td>0 responses</td>\n",
       "      <td>8</td>\n",
       "      <td>1</td>\n",
       "      <td>['Natural Language Generation Part 2: GPT2 and...</td>\n",
       "      <td>26</td>\n",
       "      <td>['George Dittmar', 'Jan 1·8 min read', 'So it’...</td>\n",
       "    </tr>\n",
       "    <tr>\n",
       "      <th>9</th>\n",
       "      <td>01/01/2021</td>\n",
       "      <td>Underspecification: The Dangerously Underdiscu...</td>\n",
       "      <td>-</td>\n",
       "      <td>155</td>\n",
       "      <td>2</td>\n",
       "      <td>7</td>\n",
       "      <td>1</td>\n",
       "      <td>['Underspecification: The Dangerously Underdis...</td>\n",
       "      <td>35</td>\n",
       "      <td>['Andre Ye', 'Jan 1·7 min read', 'All machine ...</td>\n",
       "    </tr>\n",
       "  </tbody>\n",
       "</table>\n",
       "</div>"
      ],
      "text/plain": [
       "         date                                              title  \\\n",
       "0  01/01/2021  7 Most Recommended Skills to Learn in 2021 to ...   \n",
       "1  01/01/2021  The Ultimate Guide to Acing Coding Interviews ...   \n",
       "2  01/01/2021  Shakespeare versus Eminem— who’s the better ly...   \n",
       "3  01/01/2021             Customer Segmentation in Online Retail   \n",
       "4  01/01/2021         Implementing VisualTtransformer in PyTorch   \n",
       "5  01/01/2021        Stock Price Analysis with Pandas and Altair   \n",
       "6  01/01/2021    Optimal Threshold for Imbalanced Classification   \n",
       "7  01/01/2021           Creating Abstract Art with StyleGAN2 ADA   \n",
       "8  01/01/2021  Natural Language Generation Part 2: GPT2 and H...   \n",
       "9  01/01/2021  Underspecification: The Dangerously Underdiscu...   \n",
       "\n",
       "                                            subtitle claps    responses  \\\n",
       "0                Recommended by some of the largest…    1K           10   \n",
       "1                             Data Science Interview   489            4   \n",
       "2  He is known for his poetry, his writings on life…   139            2   \n",
       "3  A detailed step-by-step explanation on perform...   159            1   \n",
       "4  Hi guys, happy new year! Today we are going to...   133            2   \n",
       "5              Practical guide for Pandas and Altair    92  0 responses   \n",
       "6                                  Hands-on Tutorial    58            1   \n",
       "7  How I used Adaptive Discriminator Augmentation...   107            2   \n",
       "8     Learn to use Huggingface and GPT-2 to train a…    24  0 responses   \n",
       "9                                                  -   155            2   \n",
       "\n",
       "   reading_time (mins)  number_sections  \\\n",
       "0                    6               11   \n",
       "1                   11               12   \n",
       "2                    9               13   \n",
       "3                   19               15   \n",
       "4                    6                6   \n",
       "5                    5                1   \n",
       "6                    9                1   \n",
       "7                   11                9   \n",
       "8                    8                1   \n",
       "9                    7                1   \n",
       "\n",
       "                                      section_titles  number_paragraphs  \\\n",
       "0  ['7 Most Recommended Skills to Learn in 2021 t...                 36   \n",
       "1  ['The Ultimate Guide to Acing Coding Interview...                 42   \n",
       "2  ['Shakespeare versus Eminem—who’s the better l...                 64   \n",
       "3  ['Customer Segmentation in Online Retail', 'Un...                 93   \n",
       "4  ['Implementing Vision Transformer (ViT) in PyT...                 60   \n",
       "5    ['Stock Price Analysis with Pandas and Altair']                 29   \n",
       "6  ['Optimal Threshold for Imbalanced Classificat...                 40   \n",
       "7  ['Creating Abstract Art with StyleGAN2 ADA', '...                 52   \n",
       "8  ['Natural Language Generation Part 2: GPT2 and...                 26   \n",
       "9  ['Underspecification: The Dangerously Underdis...                 35   \n",
       "\n",
       "                                          paragraphs  \n",
       "0  ['Terence Shin', 'Jan 1·6 min read', 'Happy Ne...  \n",
       "1  ['Emma Ding', 'Jan 1·11 min read', 'Written by...  \n",
       "2  ['Jeroen van Zeeland', 'Jan 1·9 min read', 'Da...  \n",
       "3  ['Rahul Khandelwal', 'Jan 1·19 min read', 'In ...  \n",
       "4  ['Francesco Zuppichini', 'Jan 1·6 min read', '...  \n",
       "5  ['Soner Yıldırım', 'Jan 1·5 min read', 'Stock ...  \n",
       "6  ['Audhi Aprilliant', 'Jan 1·9 min read', 'Clas...  \n",
       "7  ['Robert A. Gonsalves', 'Jan 1·11 min read', \"...  \n",
       "8  ['George Dittmar', 'Jan 1·8 min read', 'So it’...  \n",
       "9  ['Andre Ye', 'Jan 1·7 min read', 'All machine ...  "
      ]
     },
     "execution_count": 52,
     "metadata": {},
     "output_type": "execute_result"
    }
   ],
   "source": [
    "pd.read_csv('../data/raw/2021_04.csv', sep='\\t').drop(columns = ['author_url', 'story_url']).head(10)"
   ]
  },
  {
   "cell_type": "code",
   "execution_count": null,
   "id": "86fcdaf9-3951-4719-9f74-faefb6c17d97",
   "metadata": {},
   "outputs": [],
   "source": []
  }
 ],
 "metadata": {
  "kernelspec": {
   "display_name": "Python 3",
   "language": "python",
   "name": "python3"
  },
  "language_info": {
   "codemirror_mode": {
    "name": "ipython",
    "version": 3
   },
   "file_extension": ".py",
   "mimetype": "text/x-python",
   "name": "python",
   "nbconvert_exporter": "python",
   "pygments_lexer": "ipython3",
   "version": "3.9.4"
  }
 },
 "nbformat": 4,
 "nbformat_minor": 5
}
