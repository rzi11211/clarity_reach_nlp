{
 "cells": [
  {
   "cell_type": "markdown",
   "id": "526b72a3-f892-46a3-a368-8bc4feccbc81",
   "metadata": {},
   "source": [
    "# Modeling: Bag of Words Regression Model\n",
    "### *Claps as Target*"
   ]
  },
  {
   "cell_type": "code",
   "execution_count": 1,
   "id": "a35499cd-8ce6-41f4-9f25-1a75bfcea826",
   "metadata": {},
   "outputs": [],
   "source": [
    "import pandas as pd\n",
    "import numpy as np\n",
    "import matplotlib.pyplot as plt\n",
    "import seaborn as sns\n",
    "\n",
    "#nlp\n",
    "import nltk\n",
    "from nltk.sentiment.vader import SentimentIntensityAnalyzer\n",
    "from sklearn.feature_extraction import text\n",
    "from sklearn.feature_extraction.text import CountVectorizer, TfidfVectorizer\n",
    "import re\n",
    "\n",
    "#modeling\n",
    "from sklearn.model_selection import train_test_split, GridSearchCV, cross_val_score\n",
    "from sklearn.pipeline import Pipeline\n",
    "from sklearn.metrics import mean_squared_error\n",
    "from sklearn.neural_network import MLPRegressor\n",
    "from sklearn.linear_model import LinearRegression\n",
    "from sklearn.tree import DecisionTreeRegressor\n",
    "from sklearn.ensemble import BaggingRegressor, RandomForestRegressor, AdaBoostRegressor\n",
    "from sklearn.svm import SVR\n",
    "\n",
    "import warnings\n",
    "warnings.filterwarnings('ignore')"
   ]
  },
  {
   "cell_type": "code",
   "execution_count": 30,
   "id": "f0f23a4f-4531-43b8-b420-1789d14d62dc",
   "metadata": {},
   "outputs": [],
   "source": [
    "#nltk.download('stopwords')"
   ]
  },
  {
   "cell_type": "code",
   "execution_count": 1,
   "id": "9d27416d-2f7d-4d55-a806-3e3db69ca72f",
   "metadata": {},
   "outputs": [],
   "source": [
    "filename = '../data/nlp_nltk_stemmed_preproc.csv'"
   ]
  },
  {
   "cell_type": "markdown",
   "id": "3508560e-dc8c-4406-ae83-c4c38a9efefa",
   "metadata": {},
   "source": [
    "#### Look at Word Frequency in the Corpus"
   ]
  },
  {
   "cell_type": "code",
   "execution_count": 4,
   "id": "54f0a901-f2a2-45e8-b9d7-85283837767f",
   "metadata": {},
   "outputs": [],
   "source": [
    "df = pd.read_csv(filename).drop(columns = 'Unnamed: 0')"
   ]
  },
  {
   "cell_type": "code",
   "execution_count": 5,
   "id": "f9e6bee5-c231-4225-a460-2fe899a4f3ed",
   "metadata": {},
   "outputs": [
    {
     "data": {
      "text/html": [
       "<div>\n",
       "<style scoped>\n",
       "    .dataframe tbody tr th:only-of-type {\n",
       "        vertical-align: middle;\n",
       "    }\n",
       "\n",
       "    .dataframe tbody tr th {\n",
       "        vertical-align: top;\n",
       "    }\n",
       "\n",
       "    .dataframe thead th {\n",
       "        text-align: right;\n",
       "    }\n",
       "</style>\n",
       "<table border=\"1\" class=\"dataframe\">\n",
       "  <thead>\n",
       "    <tr style=\"text-align: right;\">\n",
       "      <th></th>\n",
       "      <th>claps</th>\n",
       "      <th>text</th>\n",
       "    </tr>\n",
       "  </thead>\n",
       "  <tbody>\n",
       "    <tr>\n",
       "      <th>0</th>\n",
       "      <td>489</td>\n",
       "      <td>ultim guid ace code interview data scientist d...</td>\n",
       "    </tr>\n",
       "    <tr>\n",
       "      <th>1</th>\n",
       "      <td>139</td>\n",
       "      <td>shakespear versu eminem— who’ better lyricist ...</td>\n",
       "    </tr>\n",
       "    <tr>\n",
       "      <th>2</th>\n",
       "      <td>133</td>\n",
       "      <td>implement visualttransform pytorch hi guy happ...</td>\n",
       "    </tr>\n",
       "    <tr>\n",
       "      <th>3</th>\n",
       "      <td>92</td>\n",
       "      <td>stock price analysi panda altair practic guid ...</td>\n",
       "    </tr>\n",
       "    <tr>\n",
       "      <th>4</th>\n",
       "      <td>58</td>\n",
       "      <td>optim threshold imbalanc classif handson tutor...</td>\n",
       "    </tr>\n",
       "  </tbody>\n",
       "</table>\n",
       "</div>"
      ],
      "text/plain": [
       "   claps                                               text\n",
       "0    489  ultim guid ace code interview data scientist d...\n",
       "1    139  shakespear versu eminem— who’ better lyricist ...\n",
       "2    133  implement visualttransform pytorch hi guy happ...\n",
       "3     92  stock price analysi panda altair practic guid ...\n",
       "4     58  optim threshold imbalanc classif handson tutor..."
      ]
     },
     "execution_count": 5,
     "metadata": {},
     "output_type": "execute_result"
    }
   ],
   "source": [
    "df.head()"
   ]
  },
  {
   "cell_type": "code",
   "execution_count": 6,
   "id": "2d3afc94-052b-4c12-be61-aed7223b941b",
   "metadata": {},
   "outputs": [],
   "source": [
    "X = df['text']\n",
    "y = df['claps']"
   ]
  },
  {
   "cell_type": "code",
   "execution_count": 7,
   "id": "e344be14-6d17-4170-963c-adbf13d7cd58",
   "metadata": {},
   "outputs": [],
   "source": [
    "cvec = CountVectorizer(ngram_range=(1,2), max_features=10_000)\n"
   ]
  },
  {
   "cell_type": "code",
   "execution_count": 8,
   "id": "d292311f-0799-4961-8f9d-144852582d70",
   "metadata": {},
   "outputs": [],
   "source": [
    "# convert training data to dataframe\n",
    "X_cvec = pd.DataFrame(cvec.fit_transform(X).todense(),\n",
    "                         columns=cvec.get_feature_names())"
   ]
  },
  {
   "cell_type": "code",
   "execution_count": 9,
   "id": "bdd4d04b-f5e7-4922-b173-0c35494453b0",
   "metadata": {},
   "outputs": [
    {
     "data": {
      "image/png": "[encoded data removed]",
      "text/plain": [
       "<Figure size 720x720 with 1 Axes>"
      ]
     },
     "metadata": {
      "needs_background": "light"
     },
     "output_type": "display_data"
    }
   ],
   "source": [
    "# plot top occurring words/phrases\n",
    "plt.figure(figsize = (10,10))\n",
    "X_cvec.sum().sort_values(ascending = False).head(20).plot(kind='barh');\n",
    "figurefont = {'fontname' : 'Futura'}\n",
    "plt.xticks(**figurefont, fontsize = 14);\n",
    "plt.yticks(**figurefont, fontsize = 14);\n",
    "#plt.savefig('figures/top_occurring_stemmed.jpg',  bbox_inches = \"tight\")"
   ]
  },
  {
   "cell_type": "code",
   "execution_count": 10,
   "id": "a8afddc2-f40c-48e4-9769-86da7e50e812",
   "metadata": {},
   "outputs": [],
   "source": [
    "tvec = TfidfVectorizer(ngram_range=(1,2), max_features=10_000)\n"
   ]
  },
  {
   "cell_type": "code",
   "execution_count": 11,
   "id": "476a940f-5888-4bd2-a650-8e9a83a55719",
   "metadata": {},
   "outputs": [],
   "source": [
    "# convert training data to dataframe\n",
    "X_tvec = pd.DataFrame(tvec.fit_transform(X).todense(),\n",
    "                         columns=tvec.get_feature_names())"
   ]
  },
  {
   "cell_type": "code",
   "execution_count": 12,
   "id": "d4fc8cee-555e-4399-9ca7-5a45e4a47943",
   "metadata": {},
   "outputs": [
    {
     "data": {
      "image/png": "[encoded data removed]",
      "text/plain": [
       "<Figure size 720x720 with 1 Axes>"
      ]
     },
     "metadata": {
      "needs_background": "light"
     },
     "output_type": "display_data"
    }
   ],
   "source": [
    "# plot top occurring words/phrases\n",
    "plt.figure(figsize = (10,10))\n",
    "X_tvec.sum().sort_values(ascending = False).head(20).plot(kind='barh');\n",
    "figurefont = {'fontname' : 'Futura'}\n",
    "plt.xticks(**figurefont, fontsize = 14);\n",
    "plt.yticks(**figurefont, fontsize = 14);\n",
    "#plt.savefig('figures/top_occurring_stemmed.jpg',  bbox_inches = \"tight\")"
   ]
  },
  {
   "cell_type": "code",
   "execution_count": 13,
   "id": "eddc4b9a-9ed1-40de-859a-c182358402fa",
   "metadata": {},
   "outputs": [],
   "source": [
    "#train-test split\n",
    "X_train, X_test, y_train, y_test=train_test_split(X,\n",
    "                                                 y,\n",
    "                                                 test_size=.2,\n",
    "                                                 random_state=42)"
   ]
  },
  {
   "cell_type": "markdown",
   "id": "149b8073-5b7b-4d4e-8324-fdb54fd23003",
   "metadata": {},
   "source": [
    "#### Count Vectorizer"
   ]
  },
  {
   "cell_type": "code",
   "execution_count": 14,
   "id": "ccbfdaaa-aaec-4338-8ce3-3fa0c818eaaf",
   "metadata": {},
   "outputs": [],
   "source": [
    "cvec = CountVectorizer(min_df=5, max_df=.98, ngram_range=(1,2))"
   ]
  },
  {
   "cell_type": "code",
   "execution_count": 15,
   "id": "a1ea39f5-74d8-4b4c-8e7e-46f1334c5de6",
   "metadata": {},
   "outputs": [],
   "source": [
    "X_train_cvec = cvec.fit_transform(X_train)\n",
    "X_test_cvec = cvec.transform(X_test)"
   ]
  },
  {
   "cell_type": "code",
   "execution_count": 16,
   "id": "5875370b-4751-41ce-baf1-0be770e660e9",
   "metadata": {},
   "outputs": [],
   "source": [
    "model_list = [\n",
    "    LinearRegression(),\n",
    "    DecisionTreeRegressor(),\n",
    "    BaggingRegressor(),\n",
    "    RandomForestRegressor(),\n",
    "    AdaBoostRegressor(),\n",
    "]\n",
    "\n",
    "results_list = []\n",
    "\n",
    "for model_obj in model_list:\n",
    "    #instantiate each model \n",
    "    model = model_obj\n",
    "   \n",
    "    #fit the model\n",
    "    model.fit(X_train_cvec, y_train) \n",
    "  \n",
    "    #create a dictionary with scores and evaluation metrics for each model\n",
    "    results_dict = {}    \n",
    "    results_dict['model_name'] = str(model_obj)\n",
    "    results_dict['train_score'] = model.score(X_train_cvec, y_train)\n",
    "    results_dict['test_score'] = model.score(X_test_cvec, y_test)\n",
    "    results_dict['cv_score'] = cross_val_score(model, X_train_cvec, y_train, cv = 5).mean()\n",
    "    results_dict['train_RMSE'] = np.sqrt(mean_squared_error(y_train, model.predict(X_train_cvec)))\n",
    "    results_dict['test_RMSE'] = np.sqrt(mean_squared_error(y_test, model.predict(X_test_cvec))) \n",
    "    \n",
    "    #add the dictionary to the list\n",
    "    results_list.append(results_dict)"
   ]
  },
  {
   "cell_type": "code",
   "execution_count": 17,
   "id": "33025ec4-1e2b-4907-bb28-043dbea1bb23",
   "metadata": {},
   "outputs": [
    {
     "data": {
      "text/html": [
       "<div>\n",
       "<style scoped>\n",
       "    .dataframe tbody tr th:only-of-type {\n",
       "        vertical-align: middle;\n",
       "    }\n",
       "\n",
       "    .dataframe tbody tr th {\n",
       "        vertical-align: top;\n",
       "    }\n",
       "\n",
       "    .dataframe thead th {\n",
       "        text-align: right;\n",
       "    }\n",
       "</style>\n",
       "<table border=\"1\" class=\"dataframe\">\n",
       "  <thead>\n",
       "    <tr style=\"text-align: right;\">\n",
       "      <th></th>\n",
       "      <th>model_name</th>\n",
       "      <th>train_score</th>\n",
       "      <th>test_score</th>\n",
       "      <th>cv_score</th>\n",
       "      <th>train_RMSE</th>\n",
       "      <th>test_RMSE</th>\n",
       "    </tr>\n",
       "  </thead>\n",
       "  <tbody>\n",
       "    <tr>\n",
       "      <th>0</th>\n",
       "      <td>LinearRegression()</td>\n",
       "      <td>1.000000</td>\n",
       "      <td>-0.313159</td>\n",
       "      <td>-0.310133</td>\n",
       "      <td>0.001589</td>\n",
       "      <td>128.754898</td>\n",
       "    </tr>\n",
       "    <tr>\n",
       "      <th>1</th>\n",
       "      <td>DecisionTreeRegressor()</td>\n",
       "      <td>1.000000</td>\n",
       "      <td>-0.612921</td>\n",
       "      <td>-0.713422</td>\n",
       "      <td>0.000000</td>\n",
       "      <td>142.695972</td>\n",
       "    </tr>\n",
       "    <tr>\n",
       "      <th>2</th>\n",
       "      <td>BaggingRegressor()</td>\n",
       "      <td>0.837453</td>\n",
       "      <td>0.020675</td>\n",
       "      <td>0.039774</td>\n",
       "      <td>47.167180</td>\n",
       "      <td>111.190714</td>\n",
       "    </tr>\n",
       "    <tr>\n",
       "      <th>3</th>\n",
       "      <td>RandomForestRegressor()</td>\n",
       "      <td>0.876023</td>\n",
       "      <td>0.115549</td>\n",
       "      <td>0.114596</td>\n",
       "      <td>41.192795</td>\n",
       "      <td>105.667671</td>\n",
       "    </tr>\n",
       "    <tr>\n",
       "      <th>4</th>\n",
       "      <td>AdaBoostRegressor()</td>\n",
       "      <td>-1.999268</td>\n",
       "      <td>-2.185483</td>\n",
       "      <td>-1.457547</td>\n",
       "      <td>202.608606</td>\n",
       "      <td>200.536198</td>\n",
       "    </tr>\n",
       "  </tbody>\n",
       "</table>\n",
       "</div>"
      ],
      "text/plain": [
       "                model_name  train_score  test_score  cv_score  train_RMSE  \\\n",
       "0       LinearRegression()     1.000000   -0.313159 -0.310133    0.001589   \n",
       "1  DecisionTreeRegressor()     1.000000   -0.612921 -0.713422    0.000000   \n",
       "2       BaggingRegressor()     0.837453    0.020675  0.039774   47.167180   \n",
       "3  RandomForestRegressor()     0.876023    0.115549  0.114596   41.192795   \n",
       "4      AdaBoostRegressor()    -1.999268   -2.185483 -1.457547  202.608606   \n",
       "\n",
       "    test_RMSE  \n",
       "0  128.754898  \n",
       "1  142.695972  \n",
       "2  111.190714  \n",
       "3  105.667671  \n",
       "4  200.536198  "
      ]
     },
     "execution_count": 17,
     "metadata": {},
     "output_type": "execute_result"
    }
   ],
   "source": [
    "results = pd.DataFrame(results_list)\n",
    "results"
   ]
  },
  {
   "cell_type": "markdown",
   "id": "c343e1d6-f32e-4c31-b651-d21f8570534a",
   "metadata": {},
   "source": [
    "#### TfidfVectorizer"
   ]
  },
  {
   "cell_type": "code",
   "execution_count": 18,
   "id": "43a604d7-33f1-464f-829c-f50d4dd76423",
   "metadata": {},
   "outputs": [],
   "source": [
    "tvec = TfidfVectorizer(min_df=5, max_df=.98, ngram_range=(1,2))"
   ]
  },
  {
   "cell_type": "code",
   "execution_count": 19,
   "id": "0607c80e-846f-4cc4-8e12-6b3234f31295",
   "metadata": {},
   "outputs": [],
   "source": [
    "X_train_tvec = tvec.fit_transform(X_train)\n",
    "X_test_tvec = tvec.transform(X_test)"
   ]
  },
  {
   "cell_type": "code",
   "execution_count": 20,
   "id": "9f070026-c6e4-4807-8bf5-b71bdbde7bb7",
   "metadata": {},
   "outputs": [],
   "source": [
    "model_list = [\n",
    "    LinearRegression(),\n",
    "    DecisionTreeRegressor(),\n",
    "    BaggingRegressor(),\n",
    "    RandomForestRegressor(),\n",
    "    AdaBoostRegressor(),\n",
    "    SVR()\n",
    "]\n",
    "\n",
    "results_list = []\n",
    "\n",
    "for model_obj in model_list:\n",
    "    #instantiate each model \n",
    "    model = model_obj\n",
    "   \n",
    "    #fit the model\n",
    "    model.fit(X_train_tvec, y_train) \n",
    "  \n",
    "    #create a dictionary with scores and evaluation metrics for each model\n",
    "    results_dict = {}    \n",
    "    results_dict['model_name'] = str(model_obj)\n",
    "    results_dict['train_score'] = model.score(X_train_tvec, y_train)\n",
    "    results_dict['test_score'] = model.score(X_test_tvec, y_test)\n",
    "    results_dict['cv_score'] = cross_val_score(model, X_train_tvec, y_train, cv = 5).mean()\n",
    "    results_dict['train_RMSE'] = np.sqrt(mean_squared_error(y_train, model.predict(X_train_tvec)))\n",
    "    results_dict['test_RMSE'] = np.sqrt(mean_squared_error(y_test, model.predict(X_test_tvec))) \n",
    "    \n",
    "    #add the dictionary to the list\n",
    "    results_list.append(results_dict)"
   ]
  },
  {
   "cell_type": "code",
   "execution_count": 21,
   "id": "e8328f02-2173-471d-adb0-4d72ef78c748",
   "metadata": {
    "tags": []
   },
   "outputs": [
    {
     "data": {
      "text/html": [
       "<div>\n",
       "<style scoped>\n",
       "    .dataframe tbody tr th:only-of-type {\n",
       "        vertical-align: middle;\n",
       "    }\n",
       "\n",
       "    .dataframe tbody tr th {\n",
       "        vertical-align: top;\n",
       "    }\n",
       "\n",
       "    .dataframe thead th {\n",
       "        text-align: right;\n",
       "    }\n",
       "</style>\n",
       "<table border=\"1\" class=\"dataframe\">\n",
       "  <thead>\n",
       "    <tr style=\"text-align: right;\">\n",
       "      <th></th>\n",
       "      <th>model_name</th>\n",
       "      <th>train_score</th>\n",
       "      <th>test_score</th>\n",
       "      <th>cv_score</th>\n",
       "      <th>train_RMSE</th>\n",
       "      <th>test_RMSE</th>\n",
       "    </tr>\n",
       "  </thead>\n",
       "  <tbody>\n",
       "    <tr>\n",
       "      <th>0</th>\n",
       "      <td>LinearRegression()</td>\n",
       "      <td>1.000000</td>\n",
       "      <td>-0.021191</td>\n",
       "      <td>0.023344</td>\n",
       "      <td>0.000095</td>\n",
       "      <td>113.542560</td>\n",
       "    </tr>\n",
       "    <tr>\n",
       "      <th>1</th>\n",
       "      <td>DecisionTreeRegressor()</td>\n",
       "      <td>1.000000</td>\n",
       "      <td>-0.768882</td>\n",
       "      <td>-0.732563</td>\n",
       "      <td>0.000000</td>\n",
       "      <td>149.435751</td>\n",
       "    </tr>\n",
       "    <tr>\n",
       "      <th>2</th>\n",
       "      <td>BaggingRegressor()</td>\n",
       "      <td>0.836580</td>\n",
       "      <td>0.006199</td>\n",
       "      <td>0.034071</td>\n",
       "      <td>47.293642</td>\n",
       "      <td>112.009500</td>\n",
       "    </tr>\n",
       "    <tr>\n",
       "      <th>3</th>\n",
       "      <td>RandomForestRegressor()</td>\n",
       "      <td>0.880205</td>\n",
       "      <td>0.096960</td>\n",
       "      <td>0.119299</td>\n",
       "      <td>40.492060</td>\n",
       "      <td>106.772306</td>\n",
       "    </tr>\n",
       "    <tr>\n",
       "      <th>4</th>\n",
       "      <td>AdaBoostRegressor()</td>\n",
       "      <td>-1.412360</td>\n",
       "      <td>-1.550709</td>\n",
       "      <td>-1.499549</td>\n",
       "      <td>181.706857</td>\n",
       "      <td>179.446757</td>\n",
       "    </tr>\n",
       "    <tr>\n",
       "      <th>5</th>\n",
       "      <td>SVR()</td>\n",
       "      <td>-0.094735</td>\n",
       "      <td>-0.114758</td>\n",
       "      <td>-0.106192</td>\n",
       "      <td>122.406595</td>\n",
       "      <td>118.630264</td>\n",
       "    </tr>\n",
       "  </tbody>\n",
       "</table>\n",
       "</div>"
      ],
      "text/plain": [
       "                model_name  train_score  test_score  cv_score  train_RMSE  \\\n",
       "0       LinearRegression()     1.000000   -0.021191  0.023344    0.000095   \n",
       "1  DecisionTreeRegressor()     1.000000   -0.768882 -0.732563    0.000000   \n",
       "2       BaggingRegressor()     0.836580    0.006199  0.034071   47.293642   \n",
       "3  RandomForestRegressor()     0.880205    0.096960  0.119299   40.492060   \n",
       "4      AdaBoostRegressor()    -1.412360   -1.550709 -1.499549  181.706857   \n",
       "5                    SVR()    -0.094735   -0.114758 -0.106192  122.406595   \n",
       "\n",
       "    test_RMSE  \n",
       "0  113.542560  \n",
       "1  149.435751  \n",
       "2  112.009500  \n",
       "3  106.772306  \n",
       "4  179.446757  \n",
       "5  118.630264  "
      ]
     },
     "execution_count": 21,
     "metadata": {},
     "output_type": "execute_result"
    }
   ],
   "source": [
    "results = pd.DataFrame(results_list)\n",
    "results"
   ]
  },
  {
   "cell_type": "markdown",
   "id": "c9f37e5a-5656-44b7-8227-b670df0879fe",
   "metadata": {},
   "source": [
    "#### Sentiment Analysis"
   ]
  },
  {
   "cell_type": "code",
   "execution_count": 22,
   "id": "e80e23da-bc7d-4ae7-8196-ad4fff3dbec8",
   "metadata": {},
   "outputs": [],
   "source": [
    "# Instantiate Sentiment Intensity Analyzer\n",
    "sentiment = SentimentIntensityAnalyzer()"
   ]
  },
  {
   "cell_type": "code",
   "execution_count": 31,
   "id": "5f292beb-1a75-4966-8b2a-497246fc73d7",
   "metadata": {},
   "outputs": [
    {
     "data": {
      "text/plain": [
       "{'neg': 0.083, 'neu': 0.841, 'pos': 0.076, 'compound': 0.8934}"
      ]
     },
     "execution_count": 31,
     "metadata": {},
     "output_type": "execute_result"
    }
   ],
   "source": [
    "#test\n",
    "sentiment.polarity_scores(df['text'][8648])"
   ]
  },
  {
   "cell_type": "code",
   "execution_count": 24,
   "id": "e94c4b58-be5d-462f-9bf6-e92ab61343c9",
   "metadata": {},
   "outputs": [],
   "source": [
    "polarity_list = []\n",
    "for x in df['text']:\n",
    "    dict_keys =  sentiment.polarity_scores(x).keys()\n",
    "    dict_values = sentiment.polarity_scores(x).values()\n",
    "    polarity_dict = dict(zip(dict_keys,dict_values))\n",
    "    polarity_list.append(polarity_dict)"
   ]
  },
  {
   "cell_type": "code",
   "execution_count": 25,
   "id": "5a1065c2-c94e-4266-9bba-1b1b2a8f47c7",
   "metadata": {},
   "outputs": [],
   "source": [
    "polarity_df = pd.DataFrame(polarity_list)"
   ]
  },
  {
   "cell_type": "code",
   "execution_count": 26,
   "id": "a4669d1f-8f27-47bd-81cb-d861bf89fb63",
   "metadata": {},
   "outputs": [
    {
     "data": {
      "text/plain": [
       "neg    neu    pos    compound\n",
       "0.060  0.940  0.000  -0.1531     16\n",
       "0.056  0.944  0.000  -0.1531     11\n",
       "0.058  0.942  0.000  -0.1531     10\n",
       "0.054  0.946  0.000  -0.1531     10\n",
       "0.062  0.938  0.000  -0.1531     10\n",
       "                                 ..\n",
       "0.017  0.896  0.087   0.9906      1\n",
       "                      0.9869      1\n",
       "                      0.9814      1\n",
       "       0.895  0.089   0.9947      1\n",
       "0.264  0.629  0.108  -0.9962      1\n",
       "Length: 9208, dtype: int64"
      ]
     },
     "execution_count": 26,
     "metadata": {},
     "output_type": "execute_result"
    }
   ],
   "source": [
    "polarity_df.value_counts()"
   ]
  },
  {
   "cell_type": "code",
   "execution_count": 42,
   "id": "f66a15a4-5a32-48c4-b167-fc39009d1724",
   "metadata": {},
   "outputs": [],
   "source": [
    "# Add the target variable to the sentiment polarity df\n",
    "polarity_df['claps'] = df['claps']"
   ]
  },
  {
   "cell_type": "code",
   "execution_count": 36,
   "id": "049aba6d-7aec-4ad2-b6e0-b5b3a7f2f001",
   "metadata": {},
   "outputs": [
    {
     "data": {
      "text/html": [
       "<div>\n",
       "<style scoped>\n",
       "    .dataframe tbody tr th:only-of-type {\n",
       "        vertical-align: middle;\n",
       "    }\n",
       "\n",
       "    .dataframe tbody tr th {\n",
       "        vertical-align: top;\n",
       "    }\n",
       "\n",
       "    .dataframe thead th {\n",
       "        text-align: right;\n",
       "    }\n",
       "</style>\n",
       "<table border=\"1\" class=\"dataframe\">\n",
       "  <thead>\n",
       "    <tr style=\"text-align: right;\">\n",
       "      <th></th>\n",
       "      <th>neg</th>\n",
       "      <th>neu</th>\n",
       "      <th>pos</th>\n",
       "      <th>compound</th>\n",
       "      <th>claps</th>\n",
       "    </tr>\n",
       "  </thead>\n",
       "  <tbody>\n",
       "    <tr>\n",
       "      <th>0</th>\n",
       "      <td>0.043</td>\n",
       "      <td>0.848</td>\n",
       "      <td>0.109</td>\n",
       "      <td>0.9957</td>\n",
       "      <td>489</td>\n",
       "    </tr>\n",
       "    <tr>\n",
       "      <th>1</th>\n",
       "      <td>0.040</td>\n",
       "      <td>0.833</td>\n",
       "      <td>0.127</td>\n",
       "      <td>0.9985</td>\n",
       "      <td>139</td>\n",
       "    </tr>\n",
       "    <tr>\n",
       "      <th>2</th>\n",
       "      <td>0.029</td>\n",
       "      <td>0.879</td>\n",
       "      <td>0.092</td>\n",
       "      <td>0.9869</td>\n",
       "      <td>133</td>\n",
       "    </tr>\n",
       "    <tr>\n",
       "      <th>3</th>\n",
       "      <td>0.024</td>\n",
       "      <td>0.950</td>\n",
       "      <td>0.027</td>\n",
       "      <td>0.3400</td>\n",
       "      <td>92</td>\n",
       "    </tr>\n",
       "    <tr>\n",
       "      <th>4</th>\n",
       "      <td>0.044</td>\n",
       "      <td>0.892</td>\n",
       "      <td>0.064</td>\n",
       "      <td>0.9719</td>\n",
       "      <td>58</td>\n",
       "    </tr>\n",
       "    <tr>\n",
       "      <th>...</th>\n",
       "      <td>...</td>\n",
       "      <td>...</td>\n",
       "      <td>...</td>\n",
       "      <td>...</td>\n",
       "      <td>...</td>\n",
       "    </tr>\n",
       "    <tr>\n",
       "      <th>9285</th>\n",
       "      <td>0.011</td>\n",
       "      <td>0.838</td>\n",
       "      <td>0.151</td>\n",
       "      <td>0.9988</td>\n",
       "      <td>4</td>\n",
       "    </tr>\n",
       "    <tr>\n",
       "      <th>9286</th>\n",
       "      <td>0.018</td>\n",
       "      <td>0.945</td>\n",
       "      <td>0.037</td>\n",
       "      <td>0.6486</td>\n",
       "      <td>1</td>\n",
       "    </tr>\n",
       "    <tr>\n",
       "      <th>9287</th>\n",
       "      <td>0.031</td>\n",
       "      <td>0.872</td>\n",
       "      <td>0.096</td>\n",
       "      <td>0.9928</td>\n",
       "      <td>7</td>\n",
       "    </tr>\n",
       "    <tr>\n",
       "      <th>9288</th>\n",
       "      <td>0.035</td>\n",
       "      <td>0.915</td>\n",
       "      <td>0.051</td>\n",
       "      <td>0.7845</td>\n",
       "      <td>9</td>\n",
       "    </tr>\n",
       "    <tr>\n",
       "      <th>9289</th>\n",
       "      <td>0.054</td>\n",
       "      <td>0.946</td>\n",
       "      <td>0.000</td>\n",
       "      <td>-0.1531</td>\n",
       "      <td>18</td>\n",
       "    </tr>\n",
       "  </tbody>\n",
       "</table>\n",
       "<p>9290 rows × 5 columns</p>\n",
       "</div>"
      ],
      "text/plain": [
       "        neg    neu    pos  compound  claps\n",
       "0     0.043  0.848  0.109    0.9957    489\n",
       "1     0.040  0.833  0.127    0.9985    139\n",
       "2     0.029  0.879  0.092    0.9869    133\n",
       "3     0.024  0.950  0.027    0.3400     92\n",
       "4     0.044  0.892  0.064    0.9719     58\n",
       "...     ...    ...    ...       ...    ...\n",
       "9285  0.011  0.838  0.151    0.9988      4\n",
       "9286  0.018  0.945  0.037    0.6486      1\n",
       "9287  0.031  0.872  0.096    0.9928      7\n",
       "9288  0.035  0.915  0.051    0.7845      9\n",
       "9289  0.054  0.946  0.000   -0.1531     18\n",
       "\n",
       "[9290 rows x 5 columns]"
      ]
     },
     "execution_count": 36,
     "metadata": {},
     "output_type": "execute_result"
    }
   ],
   "source": [
    "polarity_df"
   ]
  },
  {
   "cell_type": "code",
   "execution_count": 38,
   "id": "c28dd81b-a35e-4a4b-bca5-f724360708ce",
   "metadata": {},
   "outputs": [],
   "source": [
    "X = polarity_df.drop(columns = 'claps')\n",
    "y = polarity_df['claps']"
   ]
  },
  {
   "cell_type": "code",
   "execution_count": 39,
   "id": "7f7e27fb-54bb-4245-add6-ff91fb6faa49",
   "metadata": {},
   "outputs": [],
   "source": [
    "#train-test split\n",
    "X_train, X_test, y_train, y_test=train_test_split(X,\n",
    "                                                 y,\n",
    "                                                 test_size=.2,\n",
    "                                                 random_state=42)"
   ]
  },
  {
   "cell_type": "code",
   "execution_count": 40,
   "id": "9ec6cd97-dd23-4d1e-abd3-4eef1fc5ac75",
   "metadata": {
    "tags": []
   },
   "outputs": [],
   "source": [
    "model_list = [\n",
    "    LinearRegression(),\n",
    "    DecisionTreeRegressor(),\n",
    "    BaggingRegressor(),\n",
    "    RandomForestRegressor(),\n",
    "    AdaBoostRegressor(),\n",
    "    SVR()\n",
    "]\n",
    "\n",
    "results_list = []\n",
    "\n",
    "for model_obj in model_list:\n",
    "    #instantiate each model \n",
    "    model = model_obj\n",
    "   \n",
    "    #fit the model\n",
    "    model.fit(X_train, y_train) \n",
    "  \n",
    "    #create a dictionary with scores and evaluation metrics for each model\n",
    "    results_dict = {}    \n",
    "    results_dict['model_name'] = str(model_obj)\n",
    "    results_dict['train_score'] = model.score(X_train, y_train)\n",
    "    results_dict['test_score'] = model.score(X_test, y_test)\n",
    "    results_dict['cv_score'] = cross_val_score(model, X_train, y_train, cv = 5).mean()\n",
    "    results_dict['train_RMSE'] = np.sqrt(mean_squared_error(y_train, model.predict(X_train)))\n",
    "    results_dict['test_RMSE'] = np.sqrt(mean_squared_error(y_test, model.predict(X_test)))\n",
    "    \n",
    "    #add the dictionary to the list\n",
    "    results_list.append(results_dict)"
   ]
  },
  {
   "cell_type": "code",
   "execution_count": 41,
   "id": "471dad35-7a01-4c8b-90c2-d5a0ed197195",
   "metadata": {
    "tags": []
   },
   "outputs": [
    {
     "data": {
      "text/html": [
       "<div>\n",
       "<style scoped>\n",
       "    .dataframe tbody tr th:only-of-type {\n",
       "        vertical-align: middle;\n",
       "    }\n",
       "\n",
       "    .dataframe tbody tr th {\n",
       "        vertical-align: top;\n",
       "    }\n",
       "\n",
       "    .dataframe thead th {\n",
       "        text-align: right;\n",
       "    }\n",
       "</style>\n",
       "<table border=\"1\" class=\"dataframe\">\n",
       "  <thead>\n",
       "    <tr style=\"text-align: right;\">\n",
       "      <th></th>\n",
       "      <th>model_name</th>\n",
       "      <th>train_score</th>\n",
       "      <th>test_score</th>\n",
       "      <th>cv_score</th>\n",
       "      <th>train_RMSE</th>\n",
       "      <th>test_RMSE</th>\n",
       "    </tr>\n",
       "  </thead>\n",
       "  <tbody>\n",
       "    <tr>\n",
       "      <th>0</th>\n",
       "      <td>LinearRegression()</td>\n",
       "      <td>0.008211</td>\n",
       "      <td>0.008779</td>\n",
       "      <td>0.006521</td>\n",
       "      <td>116.509094</td>\n",
       "      <td>111.864029</td>\n",
       "    </tr>\n",
       "    <tr>\n",
       "      <th>1</th>\n",
       "      <td>DecisionTreeRegressor()</td>\n",
       "      <td>0.998288</td>\n",
       "      <td>-1.191140</td>\n",
       "      <td>-1.105470</td>\n",
       "      <td>4.840656</td>\n",
       "      <td>166.318352</td>\n",
       "    </tr>\n",
       "    <tr>\n",
       "      <th>2</th>\n",
       "      <td>BaggingRegressor()</td>\n",
       "      <td>0.791449</td>\n",
       "      <td>-0.207262</td>\n",
       "      <td>-0.198818</td>\n",
       "      <td>53.426436</td>\n",
       "      <td>123.454195</td>\n",
       "    </tr>\n",
       "    <tr>\n",
       "      <th>3</th>\n",
       "      <td>RandomForestRegressor()</td>\n",
       "      <td>0.840789</td>\n",
       "      <td>-0.114417</td>\n",
       "      <td>-0.115726</td>\n",
       "      <td>46.680586</td>\n",
       "      <td>118.612123</td>\n",
       "    </tr>\n",
       "    <tr>\n",
       "      <th>4</th>\n",
       "      <td>AdaBoostRegressor()</td>\n",
       "      <td>-0.092771</td>\n",
       "      <td>-0.106295</td>\n",
       "      <td>-0.226817</td>\n",
       "      <td>122.296747</td>\n",
       "      <td>118.179108</td>\n",
       "    </tr>\n",
       "    <tr>\n",
       "      <th>5</th>\n",
       "      <td>SVR()</td>\n",
       "      <td>-0.109307</td>\n",
       "      <td>-0.118802</td>\n",
       "      <td>-0.110149</td>\n",
       "      <td>123.218580</td>\n",
       "      <td>118.845243</td>\n",
       "    </tr>\n",
       "  </tbody>\n",
       "</table>\n",
       "</div>"
      ],
      "text/plain": [
       "                model_name  train_score  test_score  cv_score  train_RMSE  \\\n",
       "0       LinearRegression()     0.008211    0.008779  0.006521  116.509094   \n",
       "1  DecisionTreeRegressor()     0.998288   -1.191140 -1.105470    4.840656   \n",
       "2       BaggingRegressor()     0.791449   -0.207262 -0.198818   53.426436   \n",
       "3  RandomForestRegressor()     0.840789   -0.114417 -0.115726   46.680586   \n",
       "4      AdaBoostRegressor()    -0.092771   -0.106295 -0.226817  122.296747   \n",
       "5                    SVR()    -0.109307   -0.118802 -0.110149  123.218580   \n",
       "\n",
       "    test_RMSE  \n",
       "0  111.864029  \n",
       "1  166.318352  \n",
       "2  123.454195  \n",
       "3  118.612123  \n",
       "4  118.179108  \n",
       "5  118.845243  "
      ]
     },
     "execution_count": 41,
     "metadata": {},
     "output_type": "execute_result"
    }
   ],
   "source": [
    "results = pd.DataFrame(results_list)\n",
    "results"
   ]
  },
  {
   "cell_type": "code",
   "execution_count": null,
   "id": "9e8e8a56-fd50-43d6-a99f-77a6dd111129",
   "metadata": {},
   "outputs": [],
   "source": []
  }
 ],
 "metadata": {
  "kernelspec": {
   "display_name": "Python 3",
   "language": "python",
   "name": "python3"
  },
  "language_info": {
   "codemirror_mode": {
    "name": "ipython",
    "version": 3
   },
   "file_extension": ".py",
   "mimetype": "text/x-python",
   "name": "python",
   "nbconvert_exporter": "python",
   "pygments_lexer": "ipython3",
   "version": "3.9.4"
  }
 },
 "nbformat": 4,
 "nbformat_minor": 5
}
