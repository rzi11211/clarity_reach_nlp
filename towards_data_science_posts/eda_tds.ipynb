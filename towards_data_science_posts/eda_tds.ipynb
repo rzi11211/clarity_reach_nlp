{
 "cells": [
  {
   "cell_type": "markdown",
   "id": "b7331958-9de7-4a09-9faf-c6253c4b114f",
   "metadata": {},
   "source": [
    "# Exploratory Data Analysis: TDS"
   ]
  },
  {
   "cell_type": "code",
   "execution_count": 42,
   "id": "a35499cd-8ce6-41f4-9f25-1a75bfcea826",
   "metadata": {},
   "outputs": [],
   "source": [
    "import pandas as pd\n",
    "import numpy as np\n",
    "import matplotlib.pyplot as plt\n",
    "import seaborn as sns\n",
    "\n",
    "import warnings\n",
    "warnings.filterwarnings('ignore')"
   ]
  },
  {
   "cell_type": "code",
   "execution_count": 1,
   "id": "9d27416d-2f7d-4d55-a806-3e3db69ca72f",
   "metadata": {},
   "outputs": [],
   "source": [
    "#read in cleaned file\n",
    "filename = '../data/cleaned_df_with_outliers.csv'"
   ]
  },
  {
   "cell_type": "code",
   "execution_count": 61,
   "id": "0b94663d-3bd1-4c42-86f9-be1608783fb9",
   "metadata": {},
   "outputs": [],
   "source": [
    "df = pd.read_csv(filename)"
   ]
  },
  {
   "cell_type": "code",
   "execution_count": 62,
   "id": "8bcf46cc-874a-4112-82a2-b45b471c2176",
   "metadata": {},
   "outputs": [
    {
     "data": {
      "text/html": [
       "<div>\n",
       "<style scoped>\n",
       "    .dataframe tbody tr th:only-of-type {\n",
       "        vertical-align: middle;\n",
       "    }\n",
       "\n",
       "    .dataframe tbody tr th {\n",
       "        vertical-align: top;\n",
       "    }\n",
       "\n",
       "    .dataframe thead th {\n",
       "        text-align: right;\n",
       "    }\n",
       "</style>\n",
       "<table border=\"1\" class=\"dataframe\">\n",
       "  <thead>\n",
       "    <tr style=\"text-align: right;\">\n",
       "      <th></th>\n",
       "      <th>date</th>\n",
       "      <th>title</th>\n",
       "      <th>subtitle</th>\n",
       "      <th>claps</th>\n",
       "      <th>responses</th>\n",
       "      <th>author_url</th>\n",
       "      <th>story_url</th>\n",
       "      <th>reading_time (mins)</th>\n",
       "      <th>number_sections</th>\n",
       "      <th>section_titles</th>\n",
       "      <th>number_paragraphs</th>\n",
       "      <th>paragraphs</th>\n",
       "    </tr>\n",
       "  </thead>\n",
       "  <tbody>\n",
       "    <tr>\n",
       "      <th>0</th>\n",
       "      <td>01/01/2021</td>\n",
       "      <td>7 Most Recommended Skills to Learn in 2021 to ...</td>\n",
       "      <td>Recommended by some of the largest…</td>\n",
       "      <td>1000</td>\n",
       "      <td>10</td>\n",
       "      <td>https://towardsdatascience.com/@terenceshin</td>\n",
       "      <td>https://towardsdatascience.com/7-most-recommen...</td>\n",
       "      <td>6</td>\n",
       "      <td>11</td>\n",
       "      <td>['7 Most Recommended Skills to Learn in 2021 t...</td>\n",
       "      <td>36</td>\n",
       "      <td>['Terence Shin', 'Jan 1·6 min read', 'Happy Ne...</td>\n",
       "    </tr>\n",
       "    <tr>\n",
       "      <th>1</th>\n",
       "      <td>01/01/2021</td>\n",
       "      <td>The Ultimate Guide to Acing Coding Interviews ...</td>\n",
       "      <td>Data Science Interview</td>\n",
       "      <td>489</td>\n",
       "      <td>4</td>\n",
       "      <td>https://towardsdatascience.com/@emmading</td>\n",
       "      <td>https://towardsdatascience.com/the-ultimate-gu...</td>\n",
       "      <td>11</td>\n",
       "      <td>12</td>\n",
       "      <td>['The Ultimate Guide to Acing Coding Interview...</td>\n",
       "      <td>42</td>\n",
       "      <td>['Emma Ding', 'Jan 1·11 min read', 'Written by...</td>\n",
       "    </tr>\n",
       "    <tr>\n",
       "      <th>2</th>\n",
       "      <td>01/01/2021</td>\n",
       "      <td>Shakespeare versus Eminem— who’s the better ly...</td>\n",
       "      <td>He is known for his poetry, his writings on life…</td>\n",
       "      <td>139</td>\n",
       "      <td>2</td>\n",
       "      <td>https://towardsdatascience.com/@jeroenvanzeeland</td>\n",
       "      <td>https://towardsdatascience.com/shakespeare-ver...</td>\n",
       "      <td>9</td>\n",
       "      <td>13</td>\n",
       "      <td>['Shakespeare versus Eminem—who’s the better l...</td>\n",
       "      <td>64</td>\n",
       "      <td>['Jeroen van Zeeland', 'Jan 1·9 min read', 'Da...</td>\n",
       "    </tr>\n",
       "    <tr>\n",
       "      <th>3</th>\n",
       "      <td>01/01/2021</td>\n",
       "      <td>Customer Segmentation in Online Retail</td>\n",
       "      <td>A detailed step-by-step explanation on perform...</td>\n",
       "      <td>159</td>\n",
       "      <td>1</td>\n",
       "      <td>https://towardsdatascience.com/@rahulkhandelwal</td>\n",
       "      <td>https://towardsdatascience.com/customer-segmen...</td>\n",
       "      <td>19</td>\n",
       "      <td>15</td>\n",
       "      <td>['Customer Segmentation in Online Retail', 'Un...</td>\n",
       "      <td>93</td>\n",
       "      <td>['Rahul Khandelwal', 'Jan 1·19 min read', 'In ...</td>\n",
       "    </tr>\n",
       "    <tr>\n",
       "      <th>4</th>\n",
       "      <td>01/01/2021</td>\n",
       "      <td>Implementing VisualTtransformer in PyTorch</td>\n",
       "      <td>Hi guys, happy new year! Today we are going to...</td>\n",
       "      <td>133</td>\n",
       "      <td>2</td>\n",
       "      <td>https://towardsdatascience.com/@FrancescoZ</td>\n",
       "      <td>https://towardsdatascience.com/implementing-vi...</td>\n",
       "      <td>6</td>\n",
       "      <td>6</td>\n",
       "      <td>['Implementing Vision Transformer (ViT) in PyT...</td>\n",
       "      <td>60</td>\n",
       "      <td>['Francesco Zuppichini', 'Jan 1·6 min read', '...</td>\n",
       "    </tr>\n",
       "  </tbody>\n",
       "</table>\n",
       "</div>"
      ],
      "text/plain": [
       "         date                                              title  \\\n",
       "0  01/01/2021  7 Most Recommended Skills to Learn in 2021 to ...   \n",
       "1  01/01/2021  The Ultimate Guide to Acing Coding Interviews ...   \n",
       "2  01/01/2021  Shakespeare versus Eminem— who’s the better ly...   \n",
       "3  01/01/2021             Customer Segmentation in Online Retail   \n",
       "4  01/01/2021         Implementing VisualTtransformer in PyTorch   \n",
       "\n",
       "                                            subtitle  claps responses  \\\n",
       "0                Recommended by some of the largest…   1000        10   \n",
       "1                             Data Science Interview    489         4   \n",
       "2  He is known for his poetry, his writings on life…    139         2   \n",
       "3  A detailed step-by-step explanation on perform...    159         1   \n",
       "4  Hi guys, happy new year! Today we are going to...    133         2   \n",
       "\n",
       "                                         author_url  \\\n",
       "0       https://towardsdatascience.com/@terenceshin   \n",
       "1          https://towardsdatascience.com/@emmading   \n",
       "2  https://towardsdatascience.com/@jeroenvanzeeland   \n",
       "3   https://towardsdatascience.com/@rahulkhandelwal   \n",
       "4        https://towardsdatascience.com/@FrancescoZ   \n",
       "\n",
       "                                           story_url  reading_time (mins)  \\\n",
       "0  https://towardsdatascience.com/7-most-recommen...                    6   \n",
       "1  https://towardsdatascience.com/the-ultimate-gu...                   11   \n",
       "2  https://towardsdatascience.com/shakespeare-ver...                    9   \n",
       "3  https://towardsdatascience.com/customer-segmen...                   19   \n",
       "4  https://towardsdatascience.com/implementing-vi...                    6   \n",
       "\n",
       "   number_sections                                     section_titles  \\\n",
       "0               11  ['7 Most Recommended Skills to Learn in 2021 t...   \n",
       "1               12  ['The Ultimate Guide to Acing Coding Interview...   \n",
       "2               13  ['Shakespeare versus Eminem—who’s the better l...   \n",
       "3               15  ['Customer Segmentation in Online Retail', 'Un...   \n",
       "4                6  ['Implementing Vision Transformer (ViT) in PyT...   \n",
       "\n",
       "   number_paragraphs                                         paragraphs  \n",
       "0                 36  ['Terence Shin', 'Jan 1·6 min read', 'Happy Ne...  \n",
       "1                 42  ['Emma Ding', 'Jan 1·11 min read', 'Written by...  \n",
       "2                 64  ['Jeroen van Zeeland', 'Jan 1·9 min read', 'Da...  \n",
       "3                 93  ['Rahul Khandelwal', 'Jan 1·19 min read', 'In ...  \n",
       "4                 60  ['Francesco Zuppichini', 'Jan 1·6 min read', '...  "
      ]
     },
     "execution_count": 62,
     "metadata": {},
     "output_type": "execute_result"
    }
   ],
   "source": [
    "df.head() "
   ]
  },
  {
   "cell_type": "code",
   "execution_count": 63,
   "id": "61bb72ae-7d13-400e-9a21-f4500e6bb500",
   "metadata": {},
   "outputs": [
    {
     "data": {
      "text/plain": [
       "Index(['date', 'title', 'subtitle', 'claps', 'responses', 'author_url',\n",
       "       'story_url', 'reading_time (mins)', 'number_sections', 'section_titles',\n",
       "       'number_paragraphs', 'paragraphs'],\n",
       "      dtype='object')"
      ]
     },
     "execution_count": 63,
     "metadata": {},
     "output_type": "execute_result"
    }
   ],
   "source": [
    "df.columns"
   ]
  },
  {
   "cell_type": "code",
   "execution_count": 64,
   "id": "46c93a01-4f16-4c33-acac-21d5b0636141",
   "metadata": {},
   "outputs": [
    {
     "name": "stdout",
     "output_type": "stream",
     "text": [
      "<class 'pandas.core.frame.DataFrame'>\n",
      "RangeIndex: 9804 entries, 0 to 9803\n",
      "Data columns (total 12 columns):\n",
      " #   Column               Non-Null Count  Dtype \n",
      "---  ------               --------------  ----- \n",
      " 0   date                 9804 non-null   object\n",
      " 1   title                9804 non-null   object\n",
      " 2   subtitle             9804 non-null   object\n",
      " 3   claps                9804 non-null   int64 \n",
      " 4   responses            9804 non-null   object\n",
      " 5   author_url           9804 non-null   object\n",
      " 6   story_url            9804 non-null   object\n",
      " 7   reading_time (mins)  9804 non-null   int64 \n",
      " 8   number_sections      9804 non-null   int64 \n",
      " 9   section_titles       9804 non-null   object\n",
      " 10  number_paragraphs    9804 non-null   int64 \n",
      " 11  paragraphs           9804 non-null   object\n",
      "dtypes: int64(4), object(8)\n",
      "memory usage: 919.2+ KB\n"
     ]
    }
   ],
   "source": [
    "df.info()"
   ]
  },
  {
   "cell_type": "code",
   "execution_count": 65,
   "id": "6a97d9da-d2bc-4b51-9118-a4e1f4f62b92",
   "metadata": {},
   "outputs": [
    {
     "data": {
      "text/plain": [
       "date                   0\n",
       "title                  0\n",
       "subtitle               0\n",
       "claps                  0\n",
       "responses              0\n",
       "author_url             0\n",
       "story_url              0\n",
       "reading_time (mins)    0\n",
       "number_sections        0\n",
       "section_titles         0\n",
       "number_paragraphs      0\n",
       "paragraphs             0\n",
       "dtype: int64"
      ]
     },
     "execution_count": 65,
     "metadata": {},
     "output_type": "execute_result"
    }
   ],
   "source": [
    "df.isnull().sum()"
   ]
  },
  {
   "cell_type": "code",
   "execution_count": 66,
   "id": "ef9cb657-c782-4b6c-b24d-7363f1835e68",
   "metadata": {},
   "outputs": [
    {
     "data": {
      "text/plain": [
       "0"
      ]
     },
     "execution_count": 66,
     "metadata": {},
     "output_type": "execute_result"
    }
   ],
   "source": [
    "df.duplicated().sum()"
   ]
  },
  {
   "cell_type": "markdown",
   "id": "a9afd606-6e23-4756-888c-ca349eb480e4",
   "metadata": {},
   "source": [
    "#### Explore Proposed Target Variable: 'claps'"
   ]
  },
  {
   "cell_type": "code",
   "execution_count": 67,
   "id": "f1c2d6d4-10cd-4489-b4be-f8f8b742f1e1",
   "metadata": {},
   "outputs": [
    {
     "data": {
      "text/plain": [
       "10     154\n",
       "11     154\n",
       "5      151\n",
       "13     147\n",
       "12     140\n",
       "      ... \n",
       "436      1\n",
       "412      1\n",
       "380      1\n",
       "372      1\n",
       "999      1\n",
       "Name: claps, Length: 674, dtype: int64"
      ]
     },
     "execution_count": 67,
     "metadata": {},
     "output_type": "execute_result"
    }
   ],
   "source": [
    "df['claps'].value_counts()"
   ]
  },
  {
   "cell_type": "code",
   "execution_count": 68,
   "id": "af2128dc-131c-47bc-a28d-0d1fca906f61",
   "metadata": {},
   "outputs": [],
   "source": [
    "# #was not able to simply convert 'astype(int)' - noticed the character K - here's what we'll need to \n",
    "# # fix in the cleaning steps\n",
    "\n",
    "# #commenting out as this EDA now uses a cleaned version\n",
    "# K_claps = [df['claps'][row] for row in df[df['claps'].str.contains('K')].index]\n"
   ]
  },
  {
   "cell_type": "code",
   "execution_count": 69,
   "id": "04fefa36-92c9-4f2f-8e0d-1cb2e16af26b",
   "metadata": {},
   "outputs": [],
   "source": [
    "# a function to convert K claps to an integer\n",
    "def replace_K(string_in): \n",
    "    if string_in.count('K') >0:\n",
    "        return int((float(string_in.replace('K', '')) * 1000))\n",
    "    else: \n",
    "        return int(string_in)"
   ]
  },
  {
   "cell_type": "code",
   "execution_count": 70,
   "id": "96b1ca88-6917-4e14-812c-2ecc1a9a4dcf",
   "metadata": {},
   "outputs": [],
   "source": [
    "# # convert K claps to integer\n",
    "# df['claps'] = df['claps'].apply(replace_K)"
   ]
  },
  {
   "cell_type": "code",
   "execution_count": 71,
   "id": "3653b72c-fb98-4ee2-b8f4-569b2312e910",
   "metadata": {},
   "outputs": [
    {
     "data": {
      "image/png": "[encoded data removed]",
      "text/plain": [
       "<Figure size 432x288 with 1 Axes>"
      ]
     },
     "metadata": {
      "needs_background": "light"
     },
     "output_type": "display_data"
    }
   ],
   "source": [
    "#Look at the distribution of the claps\n",
    "plt.hist(df['claps'], bins=100);"
   ]
  },
  {
   "cell_type": "code",
   "execution_count": 72,
   "id": "15151e17-d60a-42f9-9f03-f75da343499f",
   "metadata": {},
   "outputs": [
    {
     "data": {
      "image/png": "[encoded data removed]",
      "text/plain": [
       "<Figure size 432x288 with 1 Axes>"
      ]
     },
     "metadata": {
      "needs_background": "light"
     },
     "output_type": "display_data"
    }
   ],
   "source": [
    "# \n",
    "plt.hist(df['claps'], bins=100, range=(0,1000));"
   ]
  },
  {
   "cell_type": "code",
   "execution_count": 73,
   "id": "9595e8f1-81bf-4003-bd0d-f6de97148ff3",
   "metadata": {},
   "outputs": [
    {
     "data": {
      "text/plain": [
       "7.723267486730763"
      ]
     },
     "execution_count": 73,
     "metadata": {},
     "output_type": "execute_result"
    }
   ],
   "source": [
    "#the target variable is highly right-skewed\n",
    "df['claps'].skew()"
   ]
  },
  {
   "cell_type": "code",
   "execution_count": 74,
   "id": "75a6bf51-1d47-4d80-9ec7-b642b1668b60",
   "metadata": {},
   "outputs": [
    {
     "data": {
      "image/png": "[encoded data removed]",
      "text/plain": [
       "<Figure size 432x288 with 1 Axes>"
      ]
     },
     "metadata": {
      "needs_background": "light"
     },
     "output_type": "display_data"
    }
   ],
   "source": [
    "#Look at log distribution\n",
    "plt.hist(np.log(df['claps']), bins=100, range = (0,10));"
   ]
  },
  {
   "cell_type": "code",
   "execution_count": 75,
   "id": "f391158b-7bcb-4728-8e88-be4523c26c26",
   "metadata": {},
   "outputs": [],
   "source": [
    "# this distribution is more normal so I may also explore 'log_claps'"
   ]
  },
  {
   "cell_type": "markdown",
   "id": "647bfbc1-19a5-4b38-a99a-856f8f22d377",
   "metadata": {},
   "source": [
    "### Explore Relationships with Target Variable"
   ]
  },
  {
   "cell_type": "markdown",
   "id": "f1ab68e5-19c6-47aa-bf8e-e108009a441a",
   "metadata": {},
   "source": [
    "#### Is the length of the post correlated with the target variable?"
   ]
  },
  {
   "cell_type": "code",
   "execution_count": 76,
   "id": "2599b2c6-ff26-45c7-b75b-ab7b1401c4a0",
   "metadata": {},
   "outputs": [
    {
     "data": {
      "text/plain": [
       "0.06307644607307701"
      ]
     },
     "execution_count": 76,
     "metadata": {},
     "output_type": "execute_result"
    }
   ],
   "source": [
    "#check out some preliminary correlations\n",
    "df['len_paragraphs']=df['paragraphs'].apply(len)\n",
    "df['claps'].corr(df['len_paragraphs'])"
   ]
  },
  {
   "cell_type": "markdown",
   "id": "1d460521-c642-4460-b761-be6b15cb30f5",
   "metadata": {},
   "source": [
    "No correlation here. "
   ]
  },
  {
   "cell_type": "code",
   "execution_count": 77,
   "id": "8a1d1636-cce3-4e60-a0ff-59e6a3b9e0a2",
   "metadata": {},
   "outputs": [
    {
     "data": {
      "text/plain": [
       "-0.01490204432947666"
      ]
     },
     "execution_count": 77,
     "metadata": {},
     "output_type": "execute_result"
    }
   ],
   "source": [
    "#check out some preliminary correlations\n",
    "df['len_title']=df['title'].apply(len)\n",
    "df['claps'].corr(df['len_title'])"
   ]
  },
  {
   "cell_type": "markdown",
   "id": "c2c6ca8e-3606-4658-8c74-ec62e1ec7bf8",
   "metadata": {},
   "source": [
    "Claps do not appear correlated with the length of the title."
   ]
  },
  {
   "cell_type": "markdown",
   "id": "ece0d6f0-c94d-4081-9dce-228422498307",
   "metadata": {},
   "source": [
    "### Is there an effect of time on # of claps?"
   ]
  },
  {
   "cell_type": "code",
   "execution_count": 78,
   "id": "84695df7-cb67-4528-b4ae-eed9afb05c95",
   "metadata": {},
   "outputs": [],
   "source": [
    "# convert date column to datetime object\n",
    "df['date'] = pd.to_datetime(df['date'])"
   ]
  },
  {
   "cell_type": "code",
   "execution_count": 86,
   "id": "32c10166-9c12-4ed9-8605-8442e13b8df2",
   "metadata": {},
   "outputs": [],
   "source": [
    "#sort the df in reverse chronological order\n",
    "df.sort_values('date', inplace=True)"
   ]
  },
  {
   "cell_type": "code",
   "execution_count": 87,
   "id": "df68b8ad-552d-4e32-9abc-1cecc4c572c9",
   "metadata": {},
   "outputs": [],
   "source": [
    "# create a new column that shows how long the posts had been live as of when they were pulled\n",
    "\n",
    "df['days_live'] = (pd.to_datetime('2021-05-01') - df['date']).dt.days"
   ]
  },
  {
   "cell_type": "code",
   "execution_count": 90,
   "id": "d1de5637-b380-469b-a550-0b2eae0b757d",
   "metadata": {},
   "outputs": [
    {
     "data": {
      "text/plain": [
       "0.03227611445741467"
      ]
     },
     "execution_count": 90,
     "metadata": {},
     "output_type": "execute_result"
    }
   ],
   "source": [
    "# look at the correlation \n",
    "df['claps'].corr(df['days_live'])"
   ]
  },
  {
   "cell_type": "markdown",
   "id": "c049a6ab-ca98-4889-9b01-56944d7af646",
   "metadata": {},
   "source": [
    "The length of time that a post has been live does not appear to have an effect on the number of claps. This is good, so I won't need to account for its effect later on in the analysis. "
   ]
  },
  {
   "cell_type": "markdown",
   "id": "188e8da8-4492-4274-9335-3388052ad97c",
   "metadata": {},
   "source": [
    "#### Log Claps? "
   ]
  },
  {
   "cell_type": "code",
   "execution_count": 102,
   "id": "05b4b2b7-75a9-48eb-968e-7eab1eb2120b",
   "metadata": {},
   "outputs": [],
   "source": [
    "log_claps = pd.Series(np.log(df['claps']))"
   ]
  },
  {
   "cell_type": "code",
   "execution_count": 103,
   "id": "2ae216e0-1348-4c9d-ac5e-47a8a28543e4",
   "metadata": {},
   "outputs": [],
   "source": [
    "log_claps = np.isfinite(log_claps)"
   ]
  },
  {
   "cell_type": "code",
   "execution_count": 104,
   "id": "b2a74387-0ad6-4016-8d8c-f991682ed7fe",
   "metadata": {},
   "outputs": [
    {
     "data": {
      "text/plain": [
       "0.011524624641736519"
      ]
     },
     "execution_count": 104,
     "metadata": {},
     "output_type": "execute_result"
    }
   ],
   "source": [
    "log_claps.corr(df['days_live'])"
   ]
  },
  {
   "cell_type": "markdown",
   "id": "8b06ad22-8455-4008-bd17-e9ae8df2fb66",
   "metadata": {},
   "source": [
    "Just confirming - the length of time that a post has been live does not appear to have an effect on log_claps either"
   ]
  },
  {
   "cell_type": "markdown",
   "id": "45aea495-f54b-4a5a-9756-debc602cd4c9",
   "metadata": {},
   "source": [
    "#### Explore responses column"
   ]
  },
  {
   "cell_type": "code",
   "execution_count": 105,
   "id": "c1f06d77-71e7-47d0-9dfa-3e8b0083cfb7",
   "metadata": {},
   "outputs": [
    {
     "data": {
      "text/plain": [
       "0      6446\n",
       "1      1935\n",
       "2       704\n",
       "3       302\n",
       "4       154\n",
       "5        83\n",
       "6        40\n",
       "7        37\n",
       "8        27\n",
       "9        10\n",
       "10       10\n",
       "12       10\n",
       "11        7\n",
       "17        6\n",
       "14        5\n",
       "13        4\n",
       "15        3\n",
       "19        3\n",
       "16        3\n",
       "18        2\n",
       "41        2\n",
       "27        1\n",
       "26        1\n",
       "29        1\n",
       "69        1\n",
       "25        1\n",
       "104       1\n",
       "30        1\n",
       "54        1\n",
       "24        1\n",
       "23        1\n",
       "31        1\n",
       "Name: responses, dtype: int64"
      ]
     },
     "execution_count": 105,
     "metadata": {},
     "output_type": "execute_result"
    }
   ],
   "source": [
    "df['responses'].value_counts()"
   ]
  },
  {
   "cell_type": "code",
   "execution_count": 106,
   "id": "71320ba8-ed83-4e51-86bb-ef3aeba5852c",
   "metadata": {},
   "outputs": [],
   "source": [
    "df['responses'].replace('0 responses', 0, inplace=True)"
   ]
  },
  {
   "cell_type": "code",
   "execution_count": 107,
   "id": "b842b9de-1413-499b-98b8-bf22eac9364f",
   "metadata": {},
   "outputs": [],
   "source": [
    "df['responses'] = df['responses'].astype(int)"
   ]
  },
  {
   "cell_type": "code",
   "execution_count": 108,
   "id": "36f144a8-96d4-4a38-86e5-98148ce5624e",
   "metadata": {},
   "outputs": [
    {
     "data": {
      "text/plain": [
       "0      6446\n",
       "1      1935\n",
       "2       704\n",
       "3       302\n",
       "4       154\n",
       "5        83\n",
       "6        40\n",
       "7        37\n",
       "8        27\n",
       "9        10\n",
       "10       10\n",
       "12       10\n",
       "11        7\n",
       "17        6\n",
       "14        5\n",
       "13        4\n",
       "15        3\n",
       "19        3\n",
       "16        3\n",
       "18        2\n",
       "41        2\n",
       "27        1\n",
       "26        1\n",
       "29        1\n",
       "69        1\n",
       "25        1\n",
       "104       1\n",
       "30        1\n",
       "54        1\n",
       "24        1\n",
       "23        1\n",
       "31        1\n",
       "Name: responses, dtype: int64"
      ]
     },
     "execution_count": 108,
     "metadata": {},
     "output_type": "execute_result"
    }
   ],
   "source": [
    "df['responses'].value_counts()"
   ]
  },
  {
   "cell_type": "code",
   "execution_count": 109,
   "id": "1dc08611-de71-4b0a-af71-6880b2c54394",
   "metadata": {},
   "outputs": [
    {
     "data": {
      "image/png": "[encoded data removed]",
      "text/plain": [
       "<Figure size 432x288 with 1 Axes>"
      ]
     },
     "metadata": {
      "needs_background": "light"
     },
     "output_type": "display_data"
    }
   ],
   "source": [
    "#Look at the distribution of the responses\n",
    "plt.hist(df['responses'], bins=100);"
   ]
  },
  {
   "cell_type": "markdown",
   "id": "54580bb6-5809-4f05-b6b6-526732d91b0a",
   "metadata": {},
   "source": [
    "Most of the posts have zero responses, and the ones that do have very few. I don't think I'll be using this variable. "
   ]
  },
  {
   "cell_type": "code",
   "execution_count": 110,
   "id": "07bc73af-c76a-45e7-b386-90f40327537e",
   "metadata": {},
   "outputs": [
    {
     "data": {
      "text/html": [
       "<div>\n",
       "<style scoped>\n",
       "    .dataframe tbody tr th:only-of-type {\n",
       "        vertical-align: middle;\n",
       "    }\n",
       "\n",
       "    .dataframe tbody tr th {\n",
       "        vertical-align: top;\n",
       "    }\n",
       "\n",
       "    .dataframe thead th {\n",
       "        text-align: right;\n",
       "    }\n",
       "</style>\n",
       "<table border=\"1\" class=\"dataframe\">\n",
       "  <thead>\n",
       "    <tr style=\"text-align: right;\">\n",
       "      <th></th>\n",
       "      <th>claps</th>\n",
       "      <th>responses</th>\n",
       "      <th>reading_time (mins)</th>\n",
       "      <th>number_sections</th>\n",
       "      <th>number_paragraphs</th>\n",
       "      <th>len_paragraphs</th>\n",
       "      <th>len_title</th>\n",
       "      <th>days_live</th>\n",
       "    </tr>\n",
       "  </thead>\n",
       "  <tbody>\n",
       "    <tr>\n",
       "      <th>count</th>\n",
       "      <td>9804.000000</td>\n",
       "      <td>9804.000000</td>\n",
       "      <td>9804.000000</td>\n",
       "      <td>9804.000000</td>\n",
       "      <td>9804.000000</td>\n",
       "      <td>9804.000000</td>\n",
       "      <td>9804.000000</td>\n",
       "      <td>9804.000000</td>\n",
       "    </tr>\n",
       "    <tr>\n",
       "      <th>mean</th>\n",
       "      <td>113.665341</td>\n",
       "      <td>0.746226</td>\n",
       "      <td>7.357813</td>\n",
       "      <td>5.210832</td>\n",
       "      <td>36.803142</td>\n",
       "      <td>7756.898817</td>\n",
       "      <td>51.208690</td>\n",
       "      <td>115.552122</td>\n",
       "    </tr>\n",
       "    <tr>\n",
       "      <th>std</th>\n",
       "      <td>215.470121</td>\n",
       "      <td>2.255771</td>\n",
       "      <td>3.981760</td>\n",
       "      <td>3.901773</td>\n",
       "      <td>22.146941</td>\n",
       "      <td>5221.143710</td>\n",
       "      <td>17.505928</td>\n",
       "      <td>59.314286</td>\n",
       "    </tr>\n",
       "    <tr>\n",
       "      <th>min</th>\n",
       "      <td>0.000000</td>\n",
       "      <td>0.000000</td>\n",
       "      <td>1.000000</td>\n",
       "      <td>0.000000</td>\n",
       "      <td>0.000000</td>\n",
       "      <td>2.000000</td>\n",
       "      <td>1.000000</td>\n",
       "      <td>1.000000</td>\n",
       "    </tr>\n",
       "    <tr>\n",
       "      <th>25%</th>\n",
       "      <td>19.000000</td>\n",
       "      <td>0.000000</td>\n",
       "      <td>5.000000</td>\n",
       "      <td>1.000000</td>\n",
       "      <td>23.000000</td>\n",
       "      <td>4708.750000</td>\n",
       "      <td>38.000000</td>\n",
       "      <td>68.000000</td>\n",
       "    </tr>\n",
       "    <tr>\n",
       "      <th>50%</th>\n",
       "      <td>55.000000</td>\n",
       "      <td>0.000000</td>\n",
       "      <td>6.000000</td>\n",
       "      <td>5.000000</td>\n",
       "      <td>32.000000</td>\n",
       "      <td>6633.500000</td>\n",
       "      <td>50.000000</td>\n",
       "      <td>118.000000</td>\n",
       "    </tr>\n",
       "    <tr>\n",
       "      <th>75%</th>\n",
       "      <td>124.000000</td>\n",
       "      <td>1.000000</td>\n",
       "      <td>9.000000</td>\n",
       "      <td>7.000000</td>\n",
       "      <td>45.000000</td>\n",
       "      <td>9403.000000</td>\n",
       "      <td>62.000000</td>\n",
       "      <td>166.000000</td>\n",
       "    </tr>\n",
       "    <tr>\n",
       "      <th>max</th>\n",
       "      <td>4800.000000</td>\n",
       "      <td>104.000000</td>\n",
       "      <td>53.000000</td>\n",
       "      <td>102.000000</td>\n",
       "      <td>456.000000</td>\n",
       "      <td>78023.000000</td>\n",
       "      <td>118.000000</td>\n",
       "      <td>212.000000</td>\n",
       "    </tr>\n",
       "  </tbody>\n",
       "</table>\n",
       "</div>"
      ],
      "text/plain": [
       "             claps    responses  reading_time (mins)  number_sections  \\\n",
       "count  9804.000000  9804.000000          9804.000000      9804.000000   \n",
       "mean    113.665341     0.746226             7.357813         5.210832   \n",
       "std     215.470121     2.255771             3.981760         3.901773   \n",
       "min       0.000000     0.000000             1.000000         0.000000   \n",
       "25%      19.000000     0.000000             5.000000         1.000000   \n",
       "50%      55.000000     0.000000             6.000000         5.000000   \n",
       "75%     124.000000     1.000000             9.000000         7.000000   \n",
       "max    4800.000000   104.000000            53.000000       102.000000   \n",
       "\n",
       "       number_paragraphs  len_paragraphs    len_title    days_live  \n",
       "count        9804.000000     9804.000000  9804.000000  9804.000000  \n",
       "mean           36.803142     7756.898817    51.208690   115.552122  \n",
       "std            22.146941     5221.143710    17.505928    59.314286  \n",
       "min             0.000000        2.000000     1.000000     1.000000  \n",
       "25%            23.000000     4708.750000    38.000000    68.000000  \n",
       "50%            32.000000     6633.500000    50.000000   118.000000  \n",
       "75%            45.000000     9403.000000    62.000000   166.000000  \n",
       "max           456.000000    78023.000000   118.000000   212.000000  "
      ]
     },
     "execution_count": 110,
     "metadata": {},
     "output_type": "execute_result"
    }
   ],
   "source": [
    "df.describe()"
   ]
  },
  {
   "cell_type": "markdown",
   "id": "22a8e568-1b53-4748-8328-616722d4705b",
   "metadata": {},
   "source": [
    "### Remove Outliers"
   ]
  },
  {
   "cell_type": "code",
   "execution_count": 111,
   "id": "062b07e7-3ed8-469b-aaee-0590ce4d806b",
   "metadata": {},
   "outputs": [],
   "source": [
    "#check out outliers (posts that are three standard deviations above the mean)"
   ]
  },
  {
   "cell_type": "code",
   "execution_count": 112,
   "id": "b4d680d0-1da2-4995-b04b-c9bb18f4234c",
   "metadata": {},
   "outputs": [],
   "source": [
    "num_columns = ['number_paragraphs', 'reading_time (mins)', 'number_sections', 'claps']"
   ]
  },
  {
   "cell_type": "code",
   "execution_count": 113,
   "id": "356fd9b6-e48d-43a5-a008-bb0da75ccf79",
   "metadata": {},
   "outputs": [
    {
     "name": "stdout",
     "output_type": "stream",
     "text": [
      "number_paragraphs has 146 outliers.\n",
      "reading_time (mins) has 137 outliers.\n",
      "number_sections has 115 outliers.\n",
      "claps has 144 outliers.\n"
     ]
    }
   ],
   "source": [
    "for col in num_columns: \n",
    "    print(f'{col} has {(df[col] > (df[col].mean()+(3*df[col].std()))).sum()} outliers.')"
   ]
  },
  {
   "cell_type": "code",
   "execution_count": 114,
   "id": "6f3fed8f-d692-48df-bc00-37de4858d27d",
   "metadata": {},
   "outputs": [
    {
     "data": {
      "text/plain": [
       "(9804, 15)"
      ]
     },
     "execution_count": 114,
     "metadata": {},
     "output_type": "execute_result"
    }
   ],
   "source": [
    "df.shape"
   ]
  },
  {
   "cell_type": "code",
   "execution_count": 115,
   "id": "d391ff09-3130-4783-816c-74f9f4b995cf",
   "metadata": {
    "tags": []
   },
   "outputs": [],
   "source": [
    "#drop outliers\n",
    "\n",
    "for col in num_columns:\n",
    "    df = df[(df[col] <= ((df[col].mean())+(3*(df[col].std()))))]"
   ]
  },
  {
   "cell_type": "code",
   "execution_count": 116,
   "id": "88320c54-4ab2-4e1a-8545-1f602d9049cc",
   "metadata": {},
   "outputs": [
    {
     "data": {
      "text/plain": [
       "(9290, 15)"
      ]
     },
     "execution_count": 116,
     "metadata": {},
     "output_type": "execute_result"
    }
   ],
   "source": [
    "df.shape"
   ]
  },
  {
   "cell_type": "code",
   "execution_count": 117,
   "id": "0a92b515-0815-43b4-94f2-9869ec32af1f",
   "metadata": {},
   "outputs": [
    {
     "data": {
      "text/html": [
       "<div>\n",
       "<style scoped>\n",
       "    .dataframe tbody tr th:only-of-type {\n",
       "        vertical-align: middle;\n",
       "    }\n",
       "\n",
       "    .dataframe tbody tr th {\n",
       "        vertical-align: top;\n",
       "    }\n",
       "\n",
       "    .dataframe thead th {\n",
       "        text-align: right;\n",
       "    }\n",
       "</style>\n",
       "<table border=\"1\" class=\"dataframe\">\n",
       "  <thead>\n",
       "    <tr style=\"text-align: right;\">\n",
       "      <th></th>\n",
       "      <th>claps</th>\n",
       "      <th>responses</th>\n",
       "      <th>reading_time (mins)</th>\n",
       "      <th>number_sections</th>\n",
       "      <th>number_paragraphs</th>\n",
       "      <th>len_paragraphs</th>\n",
       "      <th>len_title</th>\n",
       "      <th>days_live</th>\n",
       "    </tr>\n",
       "  </thead>\n",
       "  <tbody>\n",
       "    <tr>\n",
       "      <th>count</th>\n",
       "      <td>9290.000000</td>\n",
       "      <td>9290.000000</td>\n",
       "      <td>9290.000000</td>\n",
       "      <td>9290.000000</td>\n",
       "      <td>9290.000000</td>\n",
       "      <td>9290.000000</td>\n",
       "      <td>9290.000000</td>\n",
       "      <td>9290.000000</td>\n",
       "    </tr>\n",
       "    <tr>\n",
       "      <th>mean</th>\n",
       "      <td>92.826695</td>\n",
       "      <td>0.607535</td>\n",
       "      <td>6.874489</td>\n",
       "      <td>4.951884</td>\n",
       "      <td>34.413132</td>\n",
       "      <td>7163.691819</td>\n",
       "      <td>51.199139</td>\n",
       "      <td>115.400646</td>\n",
       "    </tr>\n",
       "    <tr>\n",
       "      <th>std</th>\n",
       "      <td>116.085128</td>\n",
       "      <td>1.243568</td>\n",
       "      <td>2.745526</td>\n",
       "      <td>3.346651</td>\n",
       "      <td>16.492052</td>\n",
       "      <td>3572.761414</td>\n",
       "      <td>17.403025</td>\n",
       "      <td>59.189190</td>\n",
       "    </tr>\n",
       "    <tr>\n",
       "      <th>min</th>\n",
       "      <td>0.000000</td>\n",
       "      <td>0.000000</td>\n",
       "      <td>1.000000</td>\n",
       "      <td>0.000000</td>\n",
       "      <td>0.000000</td>\n",
       "      <td>2.000000</td>\n",
       "      <td>1.000000</td>\n",
       "      <td>1.000000</td>\n",
       "    </tr>\n",
       "    <tr>\n",
       "      <th>25%</th>\n",
       "      <td>18.000000</td>\n",
       "      <td>0.000000</td>\n",
       "      <td>5.000000</td>\n",
       "      <td>1.000000</td>\n",
       "      <td>23.000000</td>\n",
       "      <td>4637.500000</td>\n",
       "      <td>38.000000</td>\n",
       "      <td>68.000000</td>\n",
       "    </tr>\n",
       "    <tr>\n",
       "      <th>50%</th>\n",
       "      <td>53.000000</td>\n",
       "      <td>0.000000</td>\n",
       "      <td>6.000000</td>\n",
       "      <td>5.000000</td>\n",
       "      <td>31.000000</td>\n",
       "      <td>6473.000000</td>\n",
       "      <td>50.000000</td>\n",
       "      <td>117.000000</td>\n",
       "    </tr>\n",
       "    <tr>\n",
       "      <th>75%</th>\n",
       "      <td>117.000000</td>\n",
       "      <td>1.000000</td>\n",
       "      <td>8.000000</td>\n",
       "      <td>7.000000</td>\n",
       "      <td>43.000000</td>\n",
       "      <td>9010.750000</td>\n",
       "      <td>62.000000</td>\n",
       "      <td>166.000000</td>\n",
       "    </tr>\n",
       "    <tr>\n",
       "      <th>max</th>\n",
       "      <td>747.000000</td>\n",
       "      <td>17.000000</td>\n",
       "      <td>16.000000</td>\n",
       "      <td>16.000000</td>\n",
       "      <td>103.000000</td>\n",
       "      <td>25530.000000</td>\n",
       "      <td>118.000000</td>\n",
       "      <td>212.000000</td>\n",
       "    </tr>\n",
       "  </tbody>\n",
       "</table>\n",
       "</div>"
      ],
      "text/plain": [
       "             claps    responses  reading_time (mins)  number_sections  \\\n",
       "count  9290.000000  9290.000000          9290.000000      9290.000000   \n",
       "mean     92.826695     0.607535             6.874489         4.951884   \n",
       "std     116.085128     1.243568             2.745526         3.346651   \n",
       "min       0.000000     0.000000             1.000000         0.000000   \n",
       "25%      18.000000     0.000000             5.000000         1.000000   \n",
       "50%      53.000000     0.000000             6.000000         5.000000   \n",
       "75%     117.000000     1.000000             8.000000         7.000000   \n",
       "max     747.000000    17.000000            16.000000        16.000000   \n",
       "\n",
       "       number_paragraphs  len_paragraphs    len_title    days_live  \n",
       "count        9290.000000     9290.000000  9290.000000  9290.000000  \n",
       "mean           34.413132     7163.691819    51.199139   115.400646  \n",
       "std            16.492052     3572.761414    17.403025    59.189190  \n",
       "min             0.000000        2.000000     1.000000     1.000000  \n",
       "25%            23.000000     4637.500000    38.000000    68.000000  \n",
       "50%            31.000000     6473.000000    50.000000   117.000000  \n",
       "75%            43.000000     9010.750000    62.000000   166.000000  \n",
       "max           103.000000    25530.000000   118.000000   212.000000  "
      ]
     },
     "execution_count": 117,
     "metadata": {},
     "output_type": "execute_result"
    }
   ],
   "source": [
    "df.describe()"
   ]
  },
  {
   "cell_type": "code",
   "execution_count": 118,
   "id": "3215654b-8320-474b-8f7e-fc1ac139d32f",
   "metadata": {},
   "outputs": [
    {
     "data": {
      "text/plain": [
       "1122"
      ]
     },
     "execution_count": 118,
     "metadata": {},
     "output_type": "execute_result"
    }
   ],
   "source": [
    "#if I want to turn this into a clf problem and use all posts with claps greater than 1 std above the mean....\n",
    "sum(df['claps'] > df['claps'].mean() + df['claps'].std())"
   ]
  },
  {
   "cell_type": "code",
   "execution_count": 119,
   "id": "dae05fe7-7df2-44a8-b114-6e15a693c16b",
   "metadata": {},
   "outputs": [
    {
     "data": {
      "text/plain": [
       "2.4110594299355377"
      ]
     },
     "execution_count": 119,
     "metadata": {},
     "output_type": "execute_result"
    }
   ],
   "source": [
    "df['claps'].skew()"
   ]
  }
 ],
 "metadata": {
  "kernelspec": {
   "display_name": "Python 3",
   "language": "python",
   "name": "python3"
  },
  "language_info": {
   "codemirror_mode": {
    "name": "ipython",
    "version": 3
   },
   "file_extension": ".py",
   "mimetype": "text/x-python",
   "name": "python",
   "nbconvert_exporter": "python",
   "pygments_lexer": "ipython3",
   "version": "3.9.4"
  }
 },
 "nbformat": 4,
 "nbformat_minor": 5
}
