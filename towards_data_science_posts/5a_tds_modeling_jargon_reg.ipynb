{
 "cells": [
  {
   "cell_type": "markdown",
   "id": "cc4f6500-09cc-4e63-b21d-33861051abdd",
   "metadata": {},
   "source": [
    "# Towards Data Science Blog Posts: Jargon Analysis\n",
    "## Regression  \n",
    "### *Attempt to model the relationship between the proportion and frequency of jargon words with the target variable: claps.* "
   ]
  },
  {
   "cell_type": "code",
   "execution_count": 82,
   "id": "a35499cd-8ce6-41f4-9f25-1a75bfcea826",
   "metadata": {},
   "outputs": [],
   "source": [
    "import pandas as pd\n",
    "import numpy as np\n",
    "import matplotlib.pyplot as plt\n",
    "import seaborn as sns\n",
    "import scipy.stats as stats\n",
    "\n",
    "#modeling\n",
    "from sklearn.model_selection import train_test_split, GridSearchCV, cross_val_score\n",
    "from sklearn.pipeline import Pipeline\n",
    "from sklearn.metrics import mean_squared_error\n",
    "from sklearn.neural_network import MLPRegressor\n",
    "from sklearn.linear_model import LinearRegression, LassoCV\n",
    "from sklearn.tree import DecisionTreeRegressor\n",
    "from sklearn.ensemble import BaggingRegressor, RandomForestRegressor, AdaBoostRegressor\n",
    "from sklearn.svm import SVR\n",
    "from sklearn.preprocessing import StandardScaler\n",
    "\n",
    "import re\n",
    "from nltk.tokenize import WhitespaceTokenizer\n",
    "\n",
    "import warnings\n",
    "warnings.filterwarnings('ignore')"
   ]
  },
  {
   "cell_type": "code",
   "execution_count": 88,
   "id": "9d27416d-2f7d-4d55-a806-3e3db69ca72f",
   "metadata": {},
   "outputs": [],
   "source": [
    "filename =  '../data/tds_vectorized_jargon.csv'"
   ]
  },
  {
   "cell_type": "code",
   "execution_count": 89,
   "id": "54f0a901-f2a2-45e8-b9d7-85283837767f",
   "metadata": {},
   "outputs": [],
   "source": [
    "df = pd.read_csv(filename)"
   ]
  },
  {
   "cell_type": "code",
   "execution_count": 90,
   "id": "f9e6bee5-c231-4225-a460-2fe899a4f3ed",
   "metadata": {},
   "outputs": [
    {
     "data": {
      "text/html": [
       "<div>\n",
       "<style scoped>\n",
       "    .dataframe tbody tr th:only-of-type {\n",
       "        vertical-align: middle;\n",
       "    }\n",
       "\n",
       "    .dataframe tbody tr th {\n",
       "        vertical-align: top;\n",
       "    }\n",
       "\n",
       "    .dataframe thead th {\n",
       "        text-align: right;\n",
       "    }\n",
       "</style>\n",
       "<table border=\"1\" class=\"dataframe\">\n",
       "  <thead>\n",
       "    <tr style=\"text-align: right;\">\n",
       "      <th></th>\n",
       "      <th>claps</th>\n",
       "      <th>text</th>\n",
       "      <th>A/B testing</th>\n",
       "      <th>accuracy</th>\n",
       "      <th>action</th>\n",
       "      <th>activation function</th>\n",
       "      <th>active learning</th>\n",
       "      <th>AdaGrad</th>\n",
       "      <th>agent</th>\n",
       "      <th>agglomerative clustering</th>\n",
       "      <th>...</th>\n",
       "      <th>user matrix</th>\n",
       "      <th>validation</th>\n",
       "      <th>validation set</th>\n",
       "      <th>vanishing gradient problem</th>\n",
       "      <th>Wasserstein loss</th>\n",
       "      <th>weight</th>\n",
       "      <th>Weighted Alternating Least Squares (WALS)</th>\n",
       "      <th>wide model</th>\n",
       "      <th>width</th>\n",
       "      <th>total_jargon_count</th>\n",
       "    </tr>\n",
       "  </thead>\n",
       "  <tbody>\n",
       "    <tr>\n",
       "      <th>0</th>\n",
       "      <td>489</td>\n",
       "      <td>ultimate guide acing coding interviews data sc...</td>\n",
       "      <td>0</td>\n",
       "      <td>0</td>\n",
       "      <td>0</td>\n",
       "      <td>0</td>\n",
       "      <td>0</td>\n",
       "      <td>0</td>\n",
       "      <td>0</td>\n",
       "      <td>0</td>\n",
       "      <td>...</td>\n",
       "      <td>0</td>\n",
       "      <td>0</td>\n",
       "      <td>0</td>\n",
       "      <td>0</td>\n",
       "      <td>0</td>\n",
       "      <td>0</td>\n",
       "      <td>0</td>\n",
       "      <td>0</td>\n",
       "      <td>0</td>\n",
       "      <td>20</td>\n",
       "    </tr>\n",
       "    <tr>\n",
       "      <th>1</th>\n",
       "      <td>139</td>\n",
       "      <td>shakespeare versus eminem— who’s better lyrici...</td>\n",
       "      <td>0</td>\n",
       "      <td>0</td>\n",
       "      <td>0</td>\n",
       "      <td>0</td>\n",
       "      <td>0</td>\n",
       "      <td>0</td>\n",
       "      <td>0</td>\n",
       "      <td>0</td>\n",
       "      <td>...</td>\n",
       "      <td>0</td>\n",
       "      <td>0</td>\n",
       "      <td>0</td>\n",
       "      <td>0</td>\n",
       "      <td>0</td>\n",
       "      <td>2</td>\n",
       "      <td>0</td>\n",
       "      <td>0</td>\n",
       "      <td>0</td>\n",
       "      <td>8</td>\n",
       "    </tr>\n",
       "    <tr>\n",
       "      <th>2</th>\n",
       "      <td>133</td>\n",
       "      <td>implementing visualttransformer pytorch hi guy...</td>\n",
       "      <td>0</td>\n",
       "      <td>0</td>\n",
       "      <td>0</td>\n",
       "      <td>0</td>\n",
       "      <td>0</td>\n",
       "      <td>0</td>\n",
       "      <td>0</td>\n",
       "      <td>0</td>\n",
       "      <td>...</td>\n",
       "      <td>0</td>\n",
       "      <td>0</td>\n",
       "      <td>0</td>\n",
       "      <td>0</td>\n",
       "      <td>0</td>\n",
       "      <td>0</td>\n",
       "      <td>0</td>\n",
       "      <td>0</td>\n",
       "      <td>0</td>\n",
       "      <td>42</td>\n",
       "    </tr>\n",
       "    <tr>\n",
       "      <th>3</th>\n",
       "      <td>92</td>\n",
       "      <td>stock price analysis pandas altair practical g...</td>\n",
       "      <td>0</td>\n",
       "      <td>0</td>\n",
       "      <td>0</td>\n",
       "      <td>0</td>\n",
       "      <td>0</td>\n",
       "      <td>0</td>\n",
       "      <td>0</td>\n",
       "      <td>0</td>\n",
       "      <td>...</td>\n",
       "      <td>0</td>\n",
       "      <td>0</td>\n",
       "      <td>0</td>\n",
       "      <td>0</td>\n",
       "      <td>0</td>\n",
       "      <td>0</td>\n",
       "      <td>0</td>\n",
       "      <td>0</td>\n",
       "      <td>0</td>\n",
       "      <td>19</td>\n",
       "    </tr>\n",
       "    <tr>\n",
       "      <th>4</th>\n",
       "      <td>58</td>\n",
       "      <td>optimal threshold imbalanced classification ha...</td>\n",
       "      <td>0</td>\n",
       "      <td>9</td>\n",
       "      <td>0</td>\n",
       "      <td>0</td>\n",
       "      <td>0</td>\n",
       "      <td>0</td>\n",
       "      <td>0</td>\n",
       "      <td>0</td>\n",
       "      <td>...</td>\n",
       "      <td>0</td>\n",
       "      <td>0</td>\n",
       "      <td>0</td>\n",
       "      <td>0</td>\n",
       "      <td>0</td>\n",
       "      <td>0</td>\n",
       "      <td>0</td>\n",
       "      <td>0</td>\n",
       "      <td>0</td>\n",
       "      <td>145</td>\n",
       "    </tr>\n",
       "  </tbody>\n",
       "</table>\n",
       "<p>5 rows × 415 columns</p>\n",
       "</div>"
      ],
      "text/plain": [
       "   claps                                               text  A/B testing  \\\n",
       "0    489  ultimate guide acing coding interviews data sc...            0   \n",
       "1    139  shakespeare versus eminem— who’s better lyrici...            0   \n",
       "2    133  implementing visualttransformer pytorch hi guy...            0   \n",
       "3     92  stock price analysis pandas altair practical g...            0   \n",
       "4     58  optimal threshold imbalanced classification ha...            0   \n",
       "\n",
       "   accuracy  action  activation function  active learning  AdaGrad  agent  \\\n",
       "0         0       0                    0                0        0      0   \n",
       "1         0       0                    0                0        0      0   \n",
       "2         0       0                    0                0        0      0   \n",
       "3         0       0                    0                0        0      0   \n",
       "4         9       0                    0                0        0      0   \n",
       "\n",
       "   agglomerative clustering  ...  user matrix  validation  validation set  \\\n",
       "0                         0  ...            0           0               0   \n",
       "1                         0  ...            0           0               0   \n",
       "2                         0  ...            0           0               0   \n",
       "3                         0  ...            0           0               0   \n",
       "4                         0  ...            0           0               0   \n",
       "\n",
       "   vanishing gradient problem  Wasserstein loss  weight  \\\n",
       "0                           0                 0       0   \n",
       "1                           0                 0       2   \n",
       "2                           0                 0       0   \n",
       "3                           0                 0       0   \n",
       "4                           0                 0       0   \n",
       "\n",
       "   Weighted Alternating Least Squares (WALS)  wide model  width  \\\n",
       "0                                          0           0      0   \n",
       "1                                          0           0      0   \n",
       "2                                          0           0      0   \n",
       "3                                          0           0      0   \n",
       "4                                          0           0      0   \n",
       "\n",
       "   total_jargon_count  \n",
       "0                  20  \n",
       "1                   8  \n",
       "2                  42  \n",
       "3                  19  \n",
       "4                 145  \n",
       "\n",
       "[5 rows x 415 columns]"
      ]
     },
     "execution_count": 90,
     "metadata": {},
     "output_type": "execute_result"
    }
   ],
   "source": [
    "df.head()"
   ]
  },
  {
   "cell_type": "code",
   "execution_count": 91,
   "id": "804ec7fe-4cef-488c-9579-c03d37443ee0",
   "metadata": {},
   "outputs": [
    {
     "data": {
      "text/plain": [
       "(9290, 415)"
      ]
     },
     "execution_count": 91,
     "metadata": {},
     "output_type": "execute_result"
    }
   ],
   "source": [
    "df.shape"
   ]
  },
  {
   "cell_type": "code",
   "execution_count": 63,
   "id": "2d3afc94-052b-4c12-be61-aed7223b941b",
   "metadata": {},
   "outputs": [],
   "source": [
    "X = df.drop(columns = ['claps', 'text'])\n",
    "y = df['claps']"
   ]
  },
  {
   "cell_type": "markdown",
   "id": "3508560e-dc8c-4406-ae83-c4c38a9efefa",
   "metadata": {},
   "source": [
    "#### Look at Phrase Frequency in the Corpus"
   ]
  },
  {
   "cell_type": "code",
   "execution_count": 6,
   "id": "bdd4d04b-f5e7-4922-b173-0c35494453b0",
   "metadata": {},
   "outputs": [
    {
     "data": {
      "image/png": "[encoded data removed]",
      "text/plain": [
       "<Figure size 720x720 with 1 Axes>"
      ]
     },
     "metadata": {
      "needs_background": "light"
     },
     "output_type": "display_data"
    }
   ],
   "source": [
    "# plot top occurring words/phrases\n",
    "\n",
    "#remove the total count for the plot\n",
    "jargon_X = X.drop(columns='total_jargon_count')\n",
    "plt.figure(figsize = (10,10))\n",
    "jargon_X.sum().sort_values(ascending = False).head(20).plot(kind='barh', color='deeppink');\n",
    "figurefont = {'fontname' : 'Futura'}\n",
    "plt.xticks(**figurefont, fontsize = 14);\n",
    "plt.yticks(**figurefont, fontsize = 14);\n",
    "plt.title('Top-Occurring Jargon Words & Phrases in Blog Posts on TDS',**figurefont, fontsize = 20);\n",
    "plt.savefig('../figures/tds_top_occurring_jargon.jpg',  bbox_inches = \"tight\")"
   ]
  },
  {
   "cell_type": "markdown",
   "id": "0d24b7c4-d8a6-49eb-bebf-ed5c3726b47b",
   "metadata": {},
   "source": [
    "### Investigation I: Effect of Proportion of Jargon on Number of Claps"
   ]
  },
  {
   "cell_type": "code",
   "execution_count": 16,
   "id": "a49b7600-10fb-4391-9464-7ccb3c6fe3af",
   "metadata": {},
   "outputs": [
    {
     "data": {
      "text/plain": [
       "9010    18\n",
       "4975    87\n",
       "4002    13\n",
       "7191    21\n",
       "6827    43\n",
       "Name: total_jargon_count, dtype: int64"
      ]
     },
     "execution_count": 16,
     "metadata": {},
     "output_type": "execute_result"
    }
   ],
   "source": [
    "df['total_jargon_count'].head()"
   ]
  },
  {
   "cell_type": "code",
   "execution_count": 44,
   "id": "e7d8c079-aaa6-471e-9838-e1b8c338912d",
   "metadata": {},
   "outputs": [],
   "source": [
    "#read in preprocessed abstracts to get total word count\n",
    "tds = pd.read_csv('../data/tds_nltk_stemmed_preproc.csv').drop(columns = 'Unnamed: 0')"
   ]
  },
  {
   "cell_type": "code",
   "execution_count": 45,
   "id": "613ba3a1-53ae-4e86-a18f-0e1bf5a5e9bc",
   "metadata": {},
   "outputs": [
    {
     "data": {
      "text/plain": [
       "(9290, 5)"
      ]
     },
     "execution_count": 45,
     "metadata": {},
     "output_type": "execute_result"
    }
   ],
   "source": [
    "tds.shape"
   ]
  },
  {
   "cell_type": "code",
   "execution_count": 49,
   "id": "a6ba1087-d17f-411e-a701-72b65dd85408",
   "metadata": {},
   "outputs": [],
   "source": [
    "#get both dataframes in the same order\n",
    "df = df.sort_values(by = ['claps', 'text'], ascending=False, ignore_index=True)\n",
    "tds = tds.sort_values(by = ['claps', 'text'], ascending=False, ignore_index=True)"
   ]
  },
  {
   "cell_type": "code",
   "execution_count": 50,
   "id": "995f55ec-275b-4026-888c-c1d53029b9cc",
   "metadata": {},
   "outputs": [
    {
     "data": {
      "text/html": [
       "<div>\n",
       "<style scoped>\n",
       "    .dataframe tbody tr th:only-of-type {\n",
       "        vertical-align: middle;\n",
       "    }\n",
       "\n",
       "    .dataframe tbody tr th {\n",
       "        vertical-align: top;\n",
       "    }\n",
       "\n",
       "    .dataframe thead th {\n",
       "        text-align: right;\n",
       "    }\n",
       "</style>\n",
       "<table border=\"1\" class=\"dataframe\">\n",
       "  <thead>\n",
       "    <tr style=\"text-align: right;\">\n",
       "      <th></th>\n",
       "      <th>claps</th>\n",
       "      <th>text</th>\n",
       "      <th>A/B testing</th>\n",
       "      <th>accuracy</th>\n",
       "      <th>action</th>\n",
       "      <th>activation function</th>\n",
       "      <th>active learning</th>\n",
       "      <th>AdaGrad</th>\n",
       "      <th>agent</th>\n",
       "      <th>agglomerative clustering</th>\n",
       "      <th>...</th>\n",
       "      <th>user matrix</th>\n",
       "      <th>validation</th>\n",
       "      <th>validation set</th>\n",
       "      <th>vanishing gradient problem</th>\n",
       "      <th>Wasserstein loss</th>\n",
       "      <th>weight</th>\n",
       "      <th>Weighted Alternating Least Squares (WALS)</th>\n",
       "      <th>wide model</th>\n",
       "      <th>width</th>\n",
       "      <th>total_jargon_count</th>\n",
       "    </tr>\n",
       "  </thead>\n",
       "  <tbody>\n",
       "    <tr>\n",
       "      <th>9285</th>\n",
       "      <td>0</td>\n",
       "      <td>artificial intelligence doesn’t exist (yet) mu...</td>\n",
       "      <td>0</td>\n",
       "      <td>0</td>\n",
       "      <td>0</td>\n",
       "      <td>0</td>\n",
       "      <td>0</td>\n",
       "      <td>0</td>\n",
       "      <td>0</td>\n",
       "      <td>0</td>\n",
       "      <td>...</td>\n",
       "      <td>0</td>\n",
       "      <td>0</td>\n",
       "      <td>0</td>\n",
       "      <td>0</td>\n",
       "      <td>0</td>\n",
       "      <td>0</td>\n",
       "      <td>0</td>\n",
       "      <td>0</td>\n",
       "      <td>0</td>\n",
       "      <td>39</td>\n",
       "    </tr>\n",
       "    <tr>\n",
       "      <th>9286</th>\n",
       "      <td>0</td>\n",
       "      <td>applications artificial intelligence fire &amp; sa...</td>\n",
       "      <td>0</td>\n",
       "      <td>1</td>\n",
       "      <td>3</td>\n",
       "      <td>0</td>\n",
       "      <td>0</td>\n",
       "      <td>0</td>\n",
       "      <td>0</td>\n",
       "      <td>0</td>\n",
       "      <td>...</td>\n",
       "      <td>0</td>\n",
       "      <td>1</td>\n",
       "      <td>0</td>\n",
       "      <td>0</td>\n",
       "      <td>0</td>\n",
       "      <td>0</td>\n",
       "      <td>0</td>\n",
       "      <td>0</td>\n",
       "      <td>0</td>\n",
       "      <td>47</td>\n",
       "    </tr>\n",
       "    <tr>\n",
       "      <th>9287</th>\n",
       "      <td>0</td>\n",
       "      <td>alliterative affinities: parents select first ...</td>\n",
       "      <td>0</td>\n",
       "      <td>0</td>\n",
       "      <td>0</td>\n",
       "      <td>0</td>\n",
       "      <td>0</td>\n",
       "      <td>0</td>\n",
       "      <td>0</td>\n",
       "      <td>0</td>\n",
       "      <td>...</td>\n",
       "      <td>0</td>\n",
       "      <td>0</td>\n",
       "      <td>0</td>\n",
       "      <td>0</td>\n",
       "      <td>0</td>\n",
       "      <td>1</td>\n",
       "      <td>0</td>\n",
       "      <td>0</td>\n",
       "      <td>0</td>\n",
       "      <td>18</td>\n",
       "    </tr>\n",
       "    <tr>\n",
       "      <th>9288</th>\n",
       "      <td>0</td>\n",
       "      <td>advanced analytics coming heading let’s explor...</td>\n",
       "      <td>0</td>\n",
       "      <td>0</td>\n",
       "      <td>5</td>\n",
       "      <td>0</td>\n",
       "      <td>0</td>\n",
       "      <td>0</td>\n",
       "      <td>0</td>\n",
       "      <td>0</td>\n",
       "      <td>...</td>\n",
       "      <td>0</td>\n",
       "      <td>0</td>\n",
       "      <td>0</td>\n",
       "      <td>0</td>\n",
       "      <td>0</td>\n",
       "      <td>0</td>\n",
       "      <td>0</td>\n",
       "      <td>0</td>\n",
       "      <td>0</td>\n",
       "      <td>33</td>\n",
       "    </tr>\n",
       "    <tr>\n",
       "      <th>9289</th>\n",
       "      <td>0</td>\n",
       "      <td>7 reasons work startup 1 reason find life mach...</td>\n",
       "      <td>0</td>\n",
       "      <td>0</td>\n",
       "      <td>0</td>\n",
       "      <td>0</td>\n",
       "      <td>0</td>\n",
       "      <td>0</td>\n",
       "      <td>0</td>\n",
       "      <td>0</td>\n",
       "      <td>...</td>\n",
       "      <td>0</td>\n",
       "      <td>0</td>\n",
       "      <td>0</td>\n",
       "      <td>0</td>\n",
       "      <td>0</td>\n",
       "      <td>0</td>\n",
       "      <td>0</td>\n",
       "      <td>0</td>\n",
       "      <td>0</td>\n",
       "      <td>5</td>\n",
       "    </tr>\n",
       "  </tbody>\n",
       "</table>\n",
       "<p>5 rows × 415 columns</p>\n",
       "</div>"
      ],
      "text/plain": [
       "      claps                                               text  A/B testing  \\\n",
       "9285      0  artificial intelligence doesn’t exist (yet) mu...            0   \n",
       "9286      0  applications artificial intelligence fire & sa...            0   \n",
       "9287      0  alliterative affinities: parents select first ...            0   \n",
       "9288      0  advanced analytics coming heading let’s explor...            0   \n",
       "9289      0  7 reasons work startup 1 reason find life mach...            0   \n",
       "\n",
       "      accuracy  action  activation function  active learning  AdaGrad  agent  \\\n",
       "9285         0       0                    0                0        0      0   \n",
       "9286         1       3                    0                0        0      0   \n",
       "9287         0       0                    0                0        0      0   \n",
       "9288         0       5                    0                0        0      0   \n",
       "9289         0       0                    0                0        0      0   \n",
       "\n",
       "      agglomerative clustering  ...  user matrix  validation  validation set  \\\n",
       "9285                         0  ...            0           0               0   \n",
       "9286                         0  ...            0           1               0   \n",
       "9287                         0  ...            0           0               0   \n",
       "9288                         0  ...            0           0               0   \n",
       "9289                         0  ...            0           0               0   \n",
       "\n",
       "      vanishing gradient problem  Wasserstein loss  weight  \\\n",
       "9285                           0                 0       0   \n",
       "9286                           0                 0       0   \n",
       "9287                           0                 0       1   \n",
       "9288                           0                 0       0   \n",
       "9289                           0                 0       0   \n",
       "\n",
       "      Weighted Alternating Least Squares (WALS)  wide model  width  \\\n",
       "9285                                          0           0      0   \n",
       "9286                                          0           0      0   \n",
       "9287                                          0           0      0   \n",
       "9288                                          0           0      0   \n",
       "9289                                          0           0      0   \n",
       "\n",
       "      total_jargon_count  \n",
       "9285                  39  \n",
       "9286                  47  \n",
       "9287                  18  \n",
       "9288                  33  \n",
       "9289                   5  \n",
       "\n",
       "[5 rows x 415 columns]"
      ]
     },
     "execution_count": 50,
     "metadata": {},
     "output_type": "execute_result"
    }
   ],
   "source": [
    "df.tail()"
   ]
  },
  {
   "cell_type": "code",
   "execution_count": 51,
   "id": "781a90de-d97a-4e6f-bb51-b644dcba8e65",
   "metadata": {},
   "outputs": [
    {
     "data": {
      "text/html": [
       "<div>\n",
       "<style scoped>\n",
       "    .dataframe tbody tr th:only-of-type {\n",
       "        vertical-align: middle;\n",
       "    }\n",
       "\n",
       "    .dataframe tbody tr th {\n",
       "        vertical-align: top;\n",
       "    }\n",
       "\n",
       "    .dataframe thead th {\n",
       "        text-align: right;\n",
       "    }\n",
       "</style>\n",
       "<table border=\"1\" class=\"dataframe\">\n",
       "  <thead>\n",
       "    <tr style=\"text-align: right;\">\n",
       "      <th></th>\n",
       "      <th>claps</th>\n",
       "      <th>len_paragraphs</th>\n",
       "      <th>len_title</th>\n",
       "      <th>days_live</th>\n",
       "      <th>text</th>\n",
       "    </tr>\n",
       "  </thead>\n",
       "  <tbody>\n",
       "    <tr>\n",
       "      <th>9285</th>\n",
       "      <td>0</td>\n",
       "      <td>7369</td>\n",
       "      <td>47</td>\n",
       "      <td>124</td>\n",
       "      <td>artifici intellig doesn’t exist (yet) much pic...</td>\n",
       "    </tr>\n",
       "    <tr>\n",
       "      <th>9286</th>\n",
       "      <td>0</td>\n",
       "      <td>6427</td>\n",
       "      <td>56</td>\n",
       "      <td>147</td>\n",
       "      <td>applic artifici intellig fire &amp; safeti overvie...</td>\n",
       "    </tr>\n",
       "    <tr>\n",
       "      <th>9287</th>\n",
       "      <td>0</td>\n",
       "      <td>6363</td>\n",
       "      <td>73</td>\n",
       "      <td>19</td>\n",
       "      <td>allit affinities: parent select first name mat...</td>\n",
       "    </tr>\n",
       "    <tr>\n",
       "      <th>9288</th>\n",
       "      <td>0</td>\n",
       "      <td>7472</td>\n",
       "      <td>70</td>\n",
       "      <td>73</td>\n",
       "      <td>advanc analyt come head let’ explor an… advanc...</td>\n",
       "    </tr>\n",
       "    <tr>\n",
       "      <th>9289</th>\n",
       "      <td>0</td>\n",
       "      <td>6784</td>\n",
       "      <td>51</td>\n",
       "      <td>38</td>\n",
       "      <td>7 reason work startup 1 reason find life machi...</td>\n",
       "    </tr>\n",
       "  </tbody>\n",
       "</table>\n",
       "</div>"
      ],
      "text/plain": [
       "      claps  len_paragraphs  len_title  days_live  \\\n",
       "9285      0            7369         47        124   \n",
       "9286      0            6427         56        147   \n",
       "9287      0            6363         73         19   \n",
       "9288      0            7472         70         73   \n",
       "9289      0            6784         51         38   \n",
       "\n",
       "                                                   text  \n",
       "9285  artifici intellig doesn’t exist (yet) much pic...  \n",
       "9286  applic artifici intellig fire & safeti overvie...  \n",
       "9287  allit affinities: parent select first name mat...  \n",
       "9288  advanc analyt come head let’ explor an… advanc...  \n",
       "9289  7 reason work startup 1 reason find life machi...  "
      ]
     },
     "execution_count": 51,
     "metadata": {},
     "output_type": "execute_result"
    }
   ],
   "source": [
    "tds.tail()"
   ]
  },
  {
   "cell_type": "code",
   "execution_count": 52,
   "id": "fecd71ee-026e-4592-8e0e-f2afa7c4dc78",
   "metadata": {},
   "outputs": [],
   "source": [
    "#remove punctuation characters \n",
    "tds['text'] = tds['text'].replace(\"[''·,\\.!?'-]\",'',regex=True)\n",
    "#remove brackets surrounding the text\n",
    "tds['text'] = tds['text'].map(lambda x: x.replace(\"[\",\"\"))\n",
    "tds['text'] = tds['text'].map(lambda x: x.replace(\"]\",\"\"))"
   ]
  },
  {
   "cell_type": "code",
   "execution_count": 53,
   "id": "aea30722-4a89-4c26-802d-86a72787de9e",
   "metadata": {},
   "outputs": [],
   "source": [
    "#tokenize text into lists to get word count\n",
    "w_tokenizer = WhitespaceTokenizer()\n",
    "tds['text'] = tds['text'].apply(lambda x: w_tokenizer.tokenize(x))"
   ]
  },
  {
   "cell_type": "code",
   "execution_count": 57,
   "id": "d52a3457-f3d5-48f9-9437-66bf990ec23e",
   "metadata": {},
   "outputs": [],
   "source": [
    "# calculate word count, jargon count, and jargon proportion \n",
    "word_count = tds['text'].apply(lambda x: len(x))\n",
    "jargon_count = df['total_jargon_count']\n",
    "\n",
    "jargon_prop = (jargon_count/word_count)"
   ]
  },
  {
   "cell_type": "code",
   "execution_count": 58,
   "id": "b307be6a-7215-4db4-b0e7-1c93226bbad7",
   "metadata": {},
   "outputs": [],
   "source": [
    "#Create new dataframe with jargon prop and citations\n",
    "prop = pd.DataFrame()\n",
    "prop['jargon_prop'] = pd.Series(jargon_prop)\n",
    "prop['claps'] = df['claps']"
   ]
  },
  {
   "cell_type": "code",
   "execution_count": 59,
   "id": "0ea864c9-7030-4291-bf89-f2a05291f4cd",
   "metadata": {},
   "outputs": [
    {
     "data": {
      "text/plain": [
       "(-0.023064463501394718, 0.026211976143278377)"
      ]
     },
     "execution_count": 59,
     "metadata": {},
     "output_type": "execute_result"
    }
   ],
   "source": [
    "# calculate correlation|\n",
    "stats.pearsonr(prop['claps'],prop['jargon_prop'])"
   ]
  },
  {
   "cell_type": "markdown",
   "id": "2669e2f0-c814-413b-b295-b297df2a9883",
   "metadata": {},
   "source": [
    "Once again, confirming that the proportion of machine learning jargon is not correlated with the number of claps."
   ]
  },
  {
   "cell_type": "code",
   "execution_count": 60,
   "id": "96fac9ee-fab7-4247-bed0-6892bbedbb42",
   "metadata": {},
   "outputs": [
    {
     "data": {
      "image/png": "[encoded data removed]",
      "text/plain": [
       "<Figure size 720x720 with 1 Axes>"
      ]
     },
     "metadata": {
      "needs_background": "light"
     },
     "output_type": "display_data"
    }
   ],
   "source": [
    "plt.figure(figsize = (10, 10));\n",
    "sns.scatterplot(data=prop, x='jargon_prop', y='claps', color ='deeppink');\n",
    "figurefont = {'fontname' : 'Futura'};\n",
    "plt.title('Claps by Jargon Proportion', fontsize = 24,**figurefont );\n",
    "plt.xticks(**figurefont, fontsize = 20);\n",
    "plt.yticks(**figurefont, fontsize = 20);\n",
    "plt.xlabel('Proportion of Jargon Terms',**figurefont, fontsize = 20);\n",
    "plt.ylabel('Claps',**figurefont, fontsize = 20);\n",
    "plt.savefig('../figures/tds_claps_jargon_prop_scatterplot.jpg',  bbox_inches = \"tight\")"
   ]
  },
  {
   "cell_type": "markdown",
   "id": "9850fd0a-1d4b-4476-80f2-66aaf1d95d14",
   "metadata": {},
   "source": [
    "Let's see if the regression analysis for proportion bears any fruit. "
   ]
  },
  {
   "cell_type": "code",
   "execution_count": 65,
   "id": "d6b04b1e-80e3-4946-b110-fa6f6d1a0fb1",
   "metadata": {},
   "outputs": [],
   "source": [
    "X = prop[['jargon_prop']]\n",
    "y = prop['claps']"
   ]
  },
  {
   "cell_type": "code",
   "execution_count": 66,
   "id": "cf26ac17-7676-4c85-9717-449339ba3f96",
   "metadata": {},
   "outputs": [],
   "source": [
    "#train-test split\n",
    "X_train, X_test, y_train, y_test=train_test_split(X,\n",
    "                                                 y,\n",
    "                                                 test_size=.2,\n",
    "                                                 random_state=42)"
   ]
  },
  {
   "cell_type": "code",
   "execution_count": 67,
   "id": "f6e57001-806f-47c4-9bc0-0b051524634b",
   "metadata": {},
   "outputs": [
    {
     "data": {
      "text/plain": [
       "LinearRegression()"
      ]
     },
     "execution_count": 67,
     "metadata": {},
     "output_type": "execute_result"
    }
   ],
   "source": [
    "linreg = LinearRegression()\n",
    "linreg.fit(X_train, y_train)"
   ]
  },
  {
   "cell_type": "code",
   "execution_count": 68,
   "id": "b7215ee1-09ee-4b9c-844d-6d3748d88710",
   "metadata": {},
   "outputs": [
    {
     "name": "stdout",
     "output_type": "stream",
     "text": [
      "0.0008435792702319311 -0.0011493196698186825 -0.00033328374049335086\n"
     ]
    }
   ],
   "source": [
    "train_score = linreg.score(X_train, y_train)\n",
    "test_score = linreg.score(X_test, y_test)\n",
    "cv_score = cross_val_score(linreg, X_train, y_train).mean()\n",
    "print(train_score, test_score, cv_score)"
   ]
  },
  {
   "cell_type": "markdown",
   "id": "277ed8f1-5ded-4a0d-9d2a-1492bc7d6b69",
   "metadata": {},
   "source": [
    "Proportion of jargon does not account for practically any variance in claps."
   ]
  },
  {
   "cell_type": "markdown",
   "id": "f01f2076-5bb8-4766-b370-3a3beb49d296",
   "metadata": {},
   "source": [
    "### Investigation II: Effect of Quantity of Jargon on Number of Claps"
   ]
  },
  {
   "cell_type": "code",
   "execution_count": 84,
   "id": "ce38f277-0db5-4bbc-8725-bd3e553ba414",
   "metadata": {},
   "outputs": [
    {
     "data": {
      "text/plain": [
       "(0.01926105362477824, 0.06339767253483564)"
      ]
     },
     "execution_count": 84,
     "metadata": {},
     "output_type": "execute_result"
    }
   ],
   "source": [
    "stats.pearsonr(df['claps'],df['total_jargon_count'] )"
   ]
  },
  {
   "cell_type": "markdown",
   "id": "41443103-1a88-4bcc-b717-e5756f31af9b",
   "metadata": {},
   "source": [
    "Once again, given the lack of correlation between the total jargon count and the target variable, I will see if any of the specific jargon terms (collectively or separately) account for some of the variance in the number of claps."
   ]
  },
  {
   "cell_type": "code",
   "execution_count": 73,
   "id": "af057d88-5421-4487-8a22-d3b0ac754ec2",
   "metadata": {},
   "outputs": [],
   "source": [
    "X = df.drop(columns = ['claps', 'text'])\n",
    "y = df['claps']"
   ]
  },
  {
   "cell_type": "code",
   "execution_count": 74,
   "id": "55baa2ca-5c82-420d-bcc6-ff660dd464bc",
   "metadata": {},
   "outputs": [],
   "source": [
    "#train-test split\n",
    "X_train, X_test, y_train, y_test=train_test_split(X,\n",
    "                                                 y,\n",
    "                                                 test_size=.2,\n",
    "                                                 random_state=42)"
   ]
  },
  {
   "cell_type": "code",
   "execution_count": 79,
   "id": "8617ba91-3837-4cec-9e58-261319fc7d74",
   "metadata": {},
   "outputs": [],
   "source": [
    "sc = StandardScaler()\n",
    "Z_train = sc.fit_transform(X_train)\n",
    "Z_test = sc.transform(X_test)"
   ]
  },
  {
   "cell_type": "code",
   "execution_count": 80,
   "id": "dd715321-33c3-4bee-bc0c-5b6bde72d7cc",
   "metadata": {},
   "outputs": [
    {
     "data": {
      "text/plain": [
       "LinearRegression()"
      ]
     },
     "execution_count": 80,
     "metadata": {},
     "output_type": "execute_result"
    }
   ],
   "source": [
    "linreg = LinearRegression()\n",
    "linreg.fit(Z_train, y_train)"
   ]
  },
  {
   "cell_type": "code",
   "execution_count": 81,
   "id": "7059a538-30eb-4b33-abe9-9eb849fd881e",
   "metadata": {},
   "outputs": [
    {
     "name": "stdout",
     "output_type": "stream",
     "text": [
      "0.041761619925698934 -3.0601543523554085e+23 -6.1367277731176555e+26\n"
     ]
    }
   ],
   "source": [
    "train_score = linreg.score(Z_train, y_train)\n",
    "test_score = linreg.score(Z_test, y_test)\n",
    "cv_score = cross_val_score(linreg, Z_train, y_train).mean()\n",
    "print(train_score, test_score, cv_score)"
   ]
  },
  {
   "cell_type": "markdown",
   "id": "0d573665-1aaf-4424-bd36-b4c1e3393ad3",
   "metadata": {},
   "source": [
    "Only 0.04 R2 for the training data - it appears that none of these jargon terms are predictive of the number of citations; will try regularization, as it's still overfit at 0.04! "
   ]
  },
  {
   "cell_type": "code",
   "execution_count": 83,
   "id": "c621c314-08b3-4da8-8f24-78d0ae49aa60",
   "metadata": {},
   "outputs": [
    {
     "name": "stdout",
     "output_type": "stream",
     "text": [
      "0.05092213833887527 -0.08273275204857633 -53145999.733503506\n"
     ]
    }
   ],
   "source": [
    "# Set up a list of Lasso alphas to check.\n",
    "l_alphas = np.linspace(-3,0, 100)\n",
    "\n",
    "# Cross-validate over our list of Lasso alphas.\n",
    "lasso_cv = LassoCV(alphas=l_alphas, cv=5, max_iter=5_000)\n",
    "\n",
    "# Fit model using best lasso alpha!\n",
    "lasso_cv.fit(Z_train, y_train)\n",
    "\n",
    "train_score = lasso_cv.score(Z_train, y_train)\n",
    "test_score = lasso_cv.score(Z_test, y_test)\n",
    "cv_score = cross_val_score(lasso_cv, Z_train, y_train).mean()\n",
    "print(train_score, test_score, cv_score)"
   ]
  },
  {
   "cell_type": "code",
   "execution_count": 86,
   "id": "5875370b-4751-41ce-baf1-0be770e660e9",
   "metadata": {},
   "outputs": [],
   "source": [
    "model_list = [\n",
    "    LinearRegression(),\n",
    "    DecisionTreeRegressor(),\n",
    "    BaggingRegressor(),\n",
    "    RandomForestRegressor(),\n",
    "    AdaBoostRegressor(),\n",
    "    SVR(),\n",
    "]\n",
    "\n",
    "results_list = []\n",
    "\n",
    "for model_obj in model_list:\n",
    "    #instantiate each model \n",
    "    model = model_obj\n",
    "   \n",
    "    #fit the model\n",
    "    model.fit(X_train, y_train) \n",
    "  \n",
    "    #create a dictionary with scores and evaluation metrics for each model\n",
    "    results_dict = {}    \n",
    "    results_dict['model_name'] = str(model_obj)\n",
    "    results_dict['train_score'] = model.score(Z_train, y_train)\n",
    "    results_dict['test_score'] = model.score(Z_test, y_test)\n",
    "    results_dict['cv_score'] = cross_val_score(model, Z_train, y_train, cv = 5).mean()\n",
    "    results_dict['train_RMSE'] = np.sqrt(mean_squared_error(y_train, model.predict(Z_train)))\n",
    "    results_dict['test_RMSE'] = np.sqrt(mean_squared_error(y_test, model.predict(Z_test))) \n",
    "    \n",
    "    #add the dictionary to the list\n",
    "    results_list.append(results_dict)"
   ]
  },
  {
   "cell_type": "code",
   "execution_count": 87,
   "id": "33025ec4-1e2b-4907-bb28-043dbea1bb23",
   "metadata": {},
   "outputs": [
    {
     "data": {
      "text/html": [
       "<div>\n",
       "<style scoped>\n",
       "    .dataframe tbody tr th:only-of-type {\n",
       "        vertical-align: middle;\n",
       "    }\n",
       "\n",
       "    .dataframe tbody tr th {\n",
       "        vertical-align: top;\n",
       "    }\n",
       "\n",
       "    .dataframe thead th {\n",
       "        text-align: right;\n",
       "    }\n",
       "</style>\n",
       "<table border=\"1\" class=\"dataframe\">\n",
       "  <thead>\n",
       "    <tr style=\"text-align: right;\">\n",
       "      <th></th>\n",
       "      <th>model_name</th>\n",
       "      <th>train_score</th>\n",
       "      <th>test_score</th>\n",
       "      <th>cv_score</th>\n",
       "      <th>train_RMSE</th>\n",
       "      <th>test_RMSE</th>\n",
       "    </tr>\n",
       "  </thead>\n",
       "  <tbody>\n",
       "    <tr>\n",
       "      <th>0</th>\n",
       "      <td>LinearRegression()</td>\n",
       "      <td>-4.408988e+20</td>\n",
       "      <td>-8.950200e+20</td>\n",
       "      <td>-6.136728e+26</td>\n",
       "      <td>2.413367e+12</td>\n",
       "      <td>3.605724e+12</td>\n",
       "    </tr>\n",
       "    <tr>\n",
       "      <th>1</th>\n",
       "      <td>DecisionTreeRegressor()</td>\n",
       "      <td>-6.284440e-01</td>\n",
       "      <td>-5.761690e-01</td>\n",
       "      <td>-9.094337e-01</td>\n",
       "      <td>1.466697e+02</td>\n",
       "      <td>1.513134e+02</td>\n",
       "    </tr>\n",
       "    <tr>\n",
       "      <th>2</th>\n",
       "      <td>BaggingRegressor()</td>\n",
       "      <td>-1.835273e-01</td>\n",
       "      <td>-1.965247e-01</td>\n",
       "      <td>-1.076528e-01</td>\n",
       "      <td>1.250383e+02</td>\n",
       "      <td>1.318369e+02</td>\n",
       "    </tr>\n",
       "    <tr>\n",
       "      <th>3</th>\n",
       "      <td>RandomForestRegressor()</td>\n",
       "      <td>-1.202399e-01</td>\n",
       "      <td>-1.558310e-01</td>\n",
       "      <td>-3.474984e-02</td>\n",
       "      <td>1.216493e+02</td>\n",
       "      <td>1.295756e+02</td>\n",
       "    </tr>\n",
       "    <tr>\n",
       "      <th>4</th>\n",
       "      <td>AdaBoostRegressor()</td>\n",
       "      <td>-3.613123e-01</td>\n",
       "      <td>-3.200271e-01</td>\n",
       "      <td>-5.326400e-01</td>\n",
       "      <td>1.341013e+02</td>\n",
       "      <td>1.384738e+02</td>\n",
       "    </tr>\n",
       "    <tr>\n",
       "      <th>5</th>\n",
       "      <td>SVR()</td>\n",
       "      <td>-1.744371e-01</td>\n",
       "      <td>-1.746359e-01</td>\n",
       "      <td>-1.140036e-01</td>\n",
       "      <td>1.245572e+02</td>\n",
       "      <td>1.306254e+02</td>\n",
       "    </tr>\n",
       "  </tbody>\n",
       "</table>\n",
       "</div>"
      ],
      "text/plain": [
       "                model_name   train_score    test_score      cv_score  \\\n",
       "0       LinearRegression() -4.408988e+20 -8.950200e+20 -6.136728e+26   \n",
       "1  DecisionTreeRegressor() -6.284440e-01 -5.761690e-01 -9.094337e-01   \n",
       "2       BaggingRegressor() -1.835273e-01 -1.965247e-01 -1.076528e-01   \n",
       "3  RandomForestRegressor() -1.202399e-01 -1.558310e-01 -3.474984e-02   \n",
       "4      AdaBoostRegressor() -3.613123e-01 -3.200271e-01 -5.326400e-01   \n",
       "5                    SVR() -1.744371e-01 -1.746359e-01 -1.140036e-01   \n",
       "\n",
       "     train_RMSE     test_RMSE  \n",
       "0  2.413367e+12  3.605724e+12  \n",
       "1  1.466697e+02  1.513134e+02  \n",
       "2  1.250383e+02  1.318369e+02  \n",
       "3  1.216493e+02  1.295756e+02  \n",
       "4  1.341013e+02  1.384738e+02  \n",
       "5  1.245572e+02  1.306254e+02  "
      ]
     },
     "execution_count": 87,
     "metadata": {},
     "output_type": "execute_result"
    }
   ],
   "source": [
    "results = pd.DataFrame(results_list)\n",
    "results"
   ]
  },
  {
   "cell_type": "markdown",
   "id": "1a19e061-dbab-4139-9790-d239580ecf9b",
   "metadata": {},
   "source": [
    "Again, these are very poor (albeit unsurprising, at this point) results. None of these words account for the variance in the target variable. "
   ]
  },
  {
   "cell_type": "code",
   "execution_count": null,
   "id": "619da298-3489-49aa-90c2-02a9c3c659fe",
   "metadata": {},
   "outputs": [],
   "source": []
  }
 ],
 "metadata": {
  "kernelspec": {
   "display_name": "Python 3",
   "language": "python",
   "name": "python3"
  },
  "language_info": {
   "codemirror_mode": {
    "name": "ipython",
    "version": 3
   },
   "file_extension": ".py",
   "mimetype": "text/x-python",
   "name": "python",
   "nbconvert_exporter": "python",
   "pygments_lexer": "ipython3",
   "version": "3.9.4"
  }
 },
 "nbformat": 4,
 "nbformat_minor": 5
}
