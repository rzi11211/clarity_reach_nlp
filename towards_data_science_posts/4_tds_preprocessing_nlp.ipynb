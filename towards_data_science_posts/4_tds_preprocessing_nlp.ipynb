{
 "cells": [
  {
   "cell_type": "markdown",
   "id": "666e94a9-af75-44a4-98e1-6248270bc81b",
   "metadata": {},
   "source": [
    "# Preprocessing Cleaned TDS Data for NLP Analysis \n",
    "### *Claps as Target Variable*"
   ]
  },
  {
   "cell_type": "code",
   "execution_count": 1,
   "id": "a35499cd-8ce6-41f4-9f25-1a75bfcea826",
   "metadata": {},
   "outputs": [],
   "source": [
    "import pandas as pd\n",
    "import numpy as np\n",
    "\n",
    "\n",
    "#nlp\n",
    "import nltk\n",
    "from nltk.tokenize import word_tokenize, RegexpTokenizer, WhitespaceTokenizer\n",
    "from nltk.corpus import stopwords\n",
    "from nltk.stem import WordNetLemmatizer, PorterStemmer\n",
    "from sklearn.feature_extraction import text\n",
    "import re\n",
    "\n",
    "import warnings\n",
    "warnings.filterwarnings('ignore')"
   ]
  },
  {
   "cell_type": "code",
   "execution_count": 2,
   "id": "f0f23a4f-4531-43b8-b420-1789d14d62dc",
   "metadata": {},
   "outputs": [],
   "source": [
    "#nltk.download('stopwords')"
   ]
  },
  {
   "cell_type": "code",
   "execution_count": 3,
   "id": "9d27416d-2f7d-4d55-a806-3e3db69ca72f",
   "metadata": {},
   "outputs": [],
   "source": [
    "filename = '../data/tds_cleaned_no_outliers.csv'"
   ]
  },
  {
   "cell_type": "code",
   "execution_count": 4,
   "id": "0b94663d-3bd1-4c42-86f9-be1608783fb9",
   "metadata": {},
   "outputs": [],
   "source": [
    "df = pd.read_csv(filename).drop(columns = 'Unnamed: 0')"
   ]
  },
  {
   "cell_type": "code",
   "execution_count": 5,
   "id": "8bcf46cc-874a-4112-82a2-b45b471c2176",
   "metadata": {},
   "outputs": [
    {
     "data": {
      "text/html": [
       "<div>\n",
       "<style scoped>\n",
       "    .dataframe tbody tr th:only-of-type {\n",
       "        vertical-align: middle;\n",
       "    }\n",
       "\n",
       "    .dataframe tbody tr th {\n",
       "        vertical-align: top;\n",
       "    }\n",
       "\n",
       "    .dataframe thead th {\n",
       "        text-align: right;\n",
       "    }\n",
       "</style>\n",
       "<table border=\"1\" class=\"dataframe\">\n",
       "  <thead>\n",
       "    <tr style=\"text-align: right;\">\n",
       "      <th></th>\n",
       "      <th>date</th>\n",
       "      <th>title</th>\n",
       "      <th>subtitle</th>\n",
       "      <th>claps</th>\n",
       "      <th>responses</th>\n",
       "      <th>author_url</th>\n",
       "      <th>story_url</th>\n",
       "      <th>reading_time (mins)</th>\n",
       "      <th>number_sections</th>\n",
       "      <th>section_titles</th>\n",
       "      <th>number_paragraphs</th>\n",
       "      <th>paragraphs</th>\n",
       "      <th>len_paragraphs</th>\n",
       "      <th>len_title</th>\n",
       "      <th>days_live</th>\n",
       "    </tr>\n",
       "  </thead>\n",
       "  <tbody>\n",
       "    <tr>\n",
       "      <th>0</th>\n",
       "      <td>2020-10-01</td>\n",
       "      <td>Introduction to System Design — 1</td>\n",
       "      <td>In the series of post on System Design, I am w...</td>\n",
       "      <td>14</td>\n",
       "      <td>0</td>\n",
       "      <td>https://towardsdatascience.com/@mohitdtumce</td>\n",
       "      <td>https://towardsdatascience.com/introduction-to...</td>\n",
       "      <td>4</td>\n",
       "      <td>2</td>\n",
       "      <td>['Horizontal Scaling vs Vertical Scaling', 'In...</td>\n",
       "      <td>22</td>\n",
       "      <td>['Mohit Sharma', 'Oct 1, 2020·4 min read', 'In...</td>\n",
       "      <td>3667</td>\n",
       "      <td>33</td>\n",
       "      <td>212</td>\n",
       "    </tr>\n",
       "    <tr>\n",
       "      <th>1</th>\n",
       "      <td>2020-10-01</td>\n",
       "      <td>How To Build And Deploy Your Dashboard With Py...</td>\n",
       "      <td>Hands-on Tutorials</td>\n",
       "      <td>203</td>\n",
       "      <td>2</td>\n",
       "      <td>https://towardsdatascience.com/@matgonzalez</td>\n",
       "      <td>https://towardsdatascience.com/how-to-build-an...</td>\n",
       "      <td>5</td>\n",
       "      <td>1</td>\n",
       "      <td>['How To Build And Deploy Your Dashboard With ...</td>\n",
       "      <td>27</td>\n",
       "      <td>['Matt', 'Oct 1, 2020·5 min read', 'The visual...</td>\n",
       "      <td>4916</td>\n",
       "      <td>77</td>\n",
       "      <td>212</td>\n",
       "    </tr>\n",
       "    <tr>\n",
       "      <th>2</th>\n",
       "      <td>2020-10-01</td>\n",
       "      <td>The Magic of Python Context Managers</td>\n",
       "      <td>Getting Started</td>\n",
       "      <td>360</td>\n",
       "      <td>3</td>\n",
       "      <td>https://towardsdatascience.com/@martin.heinz</td>\n",
       "      <td>https://towardsdatascience.com/the-magic-of-py...</td>\n",
       "      <td>8</td>\n",
       "      <td>13</td>\n",
       "      <td>['The Magic of Python Context Managers', 'What...</td>\n",
       "      <td>46</td>\n",
       "      <td>['Martin Heinz', 'Oct 1, 2020·8 min read', 'Re...</td>\n",
       "      <td>11644</td>\n",
       "      <td>36</td>\n",
       "      <td>212</td>\n",
       "    </tr>\n",
       "    <tr>\n",
       "      <th>3</th>\n",
       "      <td>2020-10-01</td>\n",
       "      <td>Generating Image Segmentation Masks — The Easy...</td>\n",
       "      <td>…in under 5 Minutes</td>\n",
       "      <td>88</td>\n",
       "      <td>1</td>\n",
       "      <td>https://towardsdatascience.com/@abhiroop.talasila</td>\n",
       "      <td>https://towardsdatascience.com/generating-imag...</td>\n",
       "      <td>5</td>\n",
       "      <td>4</td>\n",
       "      <td>['Generating Image Segmentation Masks — The Ea...</td>\n",
       "      <td>19</td>\n",
       "      <td>['Abhiroop Talasila', 'Oct 1, 2020·5 min read'...</td>\n",
       "      <td>3817</td>\n",
       "      <td>50</td>\n",
       "      <td>212</td>\n",
       "    </tr>\n",
       "    <tr>\n",
       "      <th>4</th>\n",
       "      <td>2020-10-01</td>\n",
       "      <td>How to go from Bayes’Theorem to Bayesian Infer...</td>\n",
       "      <td>-</td>\n",
       "      <td>105</td>\n",
       "      <td>1</td>\n",
       "      <td>https://towardsdatascience.com/@jimip6c12</td>\n",
       "      <td>https://towardsdatascience.com/how-to-go-from-...</td>\n",
       "      <td>10</td>\n",
       "      <td>5</td>\n",
       "      <td>['How to go from Bayes’Theorem to Bayesian Inf...</td>\n",
       "      <td>49</td>\n",
       "      <td>['JimSpark', 'Oct 1, 2020·10 min read', 'When ...</td>\n",
       "      <td>13662</td>\n",
       "      <td>50</td>\n",
       "      <td>212</td>\n",
       "    </tr>\n",
       "  </tbody>\n",
       "</table>\n",
       "</div>"
      ],
      "text/plain": [
       "         date                                              title  \\\n",
       "0  2020-10-01                  Introduction to System Design — 1   \n",
       "1  2020-10-01  How To Build And Deploy Your Dashboard With Py...   \n",
       "2  2020-10-01               The Magic of Python Context Managers   \n",
       "3  2020-10-01  Generating Image Segmentation Masks — The Easy...   \n",
       "4  2020-10-01  How to go from Bayes’Theorem to Bayesian Infer...   \n",
       "\n",
       "                                            subtitle  claps  responses  \\\n",
       "0  In the series of post on System Design, I am w...     14          0   \n",
       "1                                 Hands-on Tutorials    203          2   \n",
       "2                                    Getting Started    360          3   \n",
       "3                                …in under 5 Minutes     88          1   \n",
       "4                                                  -    105          1   \n",
       "\n",
       "                                          author_url  \\\n",
       "0        https://towardsdatascience.com/@mohitdtumce   \n",
       "1        https://towardsdatascience.com/@matgonzalez   \n",
       "2       https://towardsdatascience.com/@martin.heinz   \n",
       "3  https://towardsdatascience.com/@abhiroop.talasila   \n",
       "4          https://towardsdatascience.com/@jimip6c12   \n",
       "\n",
       "                                           story_url  reading_time (mins)  \\\n",
       "0  https://towardsdatascience.com/introduction-to...                    4   \n",
       "1  https://towardsdatascience.com/how-to-build-an...                    5   \n",
       "2  https://towardsdatascience.com/the-magic-of-py...                    8   \n",
       "3  https://towardsdatascience.com/generating-imag...                    5   \n",
       "4  https://towardsdatascience.com/how-to-go-from-...                   10   \n",
       "\n",
       "   number_sections                                     section_titles  \\\n",
       "0                2  ['Horizontal Scaling vs Vertical Scaling', 'In...   \n",
       "1                1  ['How To Build And Deploy Your Dashboard With ...   \n",
       "2               13  ['The Magic of Python Context Managers', 'What...   \n",
       "3                4  ['Generating Image Segmentation Masks — The Ea...   \n",
       "4                5  ['How to go from Bayes’Theorem to Bayesian Inf...   \n",
       "\n",
       "   number_paragraphs                                         paragraphs  \\\n",
       "0                 22  ['Mohit Sharma', 'Oct 1, 2020·4 min read', 'In...   \n",
       "1                 27  ['Matt', 'Oct 1, 2020·5 min read', 'The visual...   \n",
       "2                 46  ['Martin Heinz', 'Oct 1, 2020·8 min read', 'Re...   \n",
       "3                 19  ['Abhiroop Talasila', 'Oct 1, 2020·5 min read'...   \n",
       "4                 49  ['JimSpark', 'Oct 1, 2020·10 min read', 'When ...   \n",
       "\n",
       "   len_paragraphs  len_title  days_live  \n",
       "0            3667         33        212  \n",
       "1            4916         77        212  \n",
       "2           11644         36        212  \n",
       "3            3817         50        212  \n",
       "4           13662         50        212  "
      ]
     },
     "execution_count": 5,
     "metadata": {},
     "output_type": "execute_result"
    }
   ],
   "source": [
    "df.head()"
   ]
  },
  {
   "cell_type": "code",
   "execution_count": 6,
   "id": "61bb72ae-7d13-400e-9a21-f4500e6bb500",
   "metadata": {},
   "outputs": [
    {
     "data": {
      "text/plain": [
       "Index(['date', 'title', 'subtitle', 'claps', 'responses', 'author_url',\n",
       "       'story_url', 'reading_time (mins)', 'number_sections', 'section_titles',\n",
       "       'number_paragraphs', 'paragraphs', 'len_paragraphs', 'len_title',\n",
       "       'days_live'],\n",
       "      dtype='object')"
      ]
     },
     "execution_count": 6,
     "metadata": {},
     "output_type": "execute_result"
    }
   ],
   "source": [
    "df.columns"
   ]
  },
  {
   "cell_type": "code",
   "execution_count": 7,
   "id": "46c93a01-4f16-4c33-acac-21d5b0636141",
   "metadata": {},
   "outputs": [
    {
     "name": "stdout",
     "output_type": "stream",
     "text": [
      "<class 'pandas.core.frame.DataFrame'>\n",
      "RangeIndex: 9290 entries, 0 to 9289\n",
      "Data columns (total 15 columns):\n",
      " #   Column               Non-Null Count  Dtype \n",
      "---  ------               --------------  ----- \n",
      " 0   date                 9290 non-null   object\n",
      " 1   title                9290 non-null   object\n",
      " 2   subtitle             9290 non-null   object\n",
      " 3   claps                9290 non-null   int64 \n",
      " 4   responses            9290 non-null   int64 \n",
      " 5   author_url           9290 non-null   object\n",
      " 6   story_url            9290 non-null   object\n",
      " 7   reading_time (mins)  9290 non-null   int64 \n",
      " 8   number_sections      9290 non-null   int64 \n",
      " 9   section_titles       9290 non-null   object\n",
      " 10  number_paragraphs    9290 non-null   int64 \n",
      " 11  paragraphs           9290 non-null   object\n",
      " 12  len_paragraphs       9290 non-null   int64 \n",
      " 13  len_title            9290 non-null   int64 \n",
      " 14  days_live            9290 non-null   int64 \n",
      "dtypes: int64(8), object(7)\n",
      "memory usage: 1.1+ MB\n"
     ]
    }
   ],
   "source": [
    "df.info()"
   ]
  },
  {
   "cell_type": "code",
   "execution_count": 8,
   "id": "c0b1f33b-dbab-4359-8b68-96771d3c4ab1",
   "metadata": {},
   "outputs": [],
   "source": [
    "#remove non-text, non-Y columns\n",
    "df = df.drop(columns=['date', 'responses', 'author_url',\n",
    "       'story_url', 'reading_time (mins)', 'number_sections', \n",
    "       'number_paragraphs'])"
   ]
  },
  {
   "cell_type": "markdown",
   "id": "c62206fd-069c-487b-90bd-a157795790b4",
   "metadata": {},
   "source": [
    "#### Combine Title & Subtitle"
   ]
  },
  {
   "cell_type": "code",
   "execution_count": 9,
   "id": "0b2b1a7c-a42d-4e6c-a3d5-8124648f9214",
   "metadata": {},
   "outputs": [],
   "source": [
    "df['combined_title'] = (df['title'] + ' ' + df['subtitle'])"
   ]
  },
  {
   "cell_type": "code",
   "execution_count": 10,
   "id": "ab731200-97cc-42cc-993f-c7e4f74a1414",
   "metadata": {},
   "outputs": [],
   "source": [
    "df = df.drop(columns = ['title', 'subtitle']).reset_index(drop=True)"
   ]
  },
  {
   "cell_type": "markdown",
   "id": "937496c2-d505-410b-812f-c87267fe5980",
   "metadata": {},
   "source": [
    "#### Remove Punctuation & Make Lowercase"
   ]
  },
  {
   "cell_type": "code",
   "execution_count": 11,
   "id": "56f2c908-083c-48db-82e5-2fa450de75e5",
   "metadata": {},
   "outputs": [],
   "source": [
    "text_cols = ['section_titles', 'paragraphs', 'combined_title']"
   ]
  },
  {
   "cell_type": "code",
   "execution_count": 12,
   "id": "e5674397-d28f-4b02-9f60-449b3fc694cb",
   "metadata": {},
   "outputs": [],
   "source": [
    "for col in text_cols:\n",
    "    df[col] = df[col].map(lambda x: re.sub(\"[''·,\\.!?'-]\", '', x).lower())"
   ]
  },
  {
   "cell_type": "markdown",
   "id": "34cdb848-b05f-4bda-8987-f706d2b0febe",
   "metadata": {},
   "source": [
    "#### Remove the 'Min Read' Phrase at the Beginning of Each Paragraph"
   ]
  },
  {
   "cell_type": "code",
   "execution_count": 13,
   "id": "7c4efb48-2459-4404-9ecb-52cd94e80e0f",
   "metadata": {},
   "outputs": [],
   "source": [
    "#remove all text up to and including 'min read' in the beginning of the paragraphs\n",
    "df['paragraphs'] = df['paragraphs'].map(lambda x: (x[x.index('min read')+9:] if (x.count('min read') > 0) else x))\n",
    "                     "
   ]
  },
  {
   "cell_type": "markdown",
   "id": "1fb5d402-0499-4be2-afef-cfc536f64f6d",
   "metadata": {},
   "source": [
    "#### Remove the Brackets Surrounding The Section Titles"
   ]
  },
  {
   "cell_type": "code",
   "execution_count": 14,
   "id": "705e7c34-6c6b-493e-95f1-32bd10df2cc8",
   "metadata": {},
   "outputs": [],
   "source": [
    "#remove brackets surrounding the section titles\n",
    "df['section_titles'] = df['section_titles'].map(lambda x: x.replace(\"[\",\"\"))\n",
    "df['section_titles'] = df['section_titles'].map(lambda x: x.replace(\"]\",\"\"))"
   ]
  },
  {
   "cell_type": "code",
   "execution_count": 15,
   "id": "de7abd57-f078-4e03-bb87-bc3a5ebdd6ce",
   "metadata": {},
   "outputs": [
    {
     "data": {
      "text/html": [
       "<div>\n",
       "<style scoped>\n",
       "    .dataframe tbody tr th:only-of-type {\n",
       "        vertical-align: middle;\n",
       "    }\n",
       "\n",
       "    .dataframe tbody tr th {\n",
       "        vertical-align: top;\n",
       "    }\n",
       "\n",
       "    .dataframe thead th {\n",
       "        text-align: right;\n",
       "    }\n",
       "</style>\n",
       "<table border=\"1\" class=\"dataframe\">\n",
       "  <thead>\n",
       "    <tr style=\"text-align: right;\">\n",
       "      <th></th>\n",
       "      <th>claps</th>\n",
       "      <th>section_titles</th>\n",
       "      <th>paragraphs</th>\n",
       "      <th>len_paragraphs</th>\n",
       "      <th>len_title</th>\n",
       "      <th>days_live</th>\n",
       "      <th>combined_title</th>\n",
       "    </tr>\n",
       "  </thead>\n",
       "  <tbody>\n",
       "    <tr>\n",
       "      <th>0</th>\n",
       "      <td>14</td>\n",
       "      <td>horizontal scaling vs vertical scaling in hous...</td>\n",
       "      <td>in the series of posts on system design i am w...</td>\n",
       "      <td>3667</td>\n",
       "      <td>33</td>\n",
       "      <td>212</td>\n",
       "      <td>introduction to system design — 1 in the serie...</td>\n",
       "    </tr>\n",
       "    <tr>\n",
       "      <th>1</th>\n",
       "      <td>203</td>\n",
       "      <td>how to build and deploy your dashboard with py...</td>\n",
       "      <td>the visualization of the data allows us to qui...</td>\n",
       "      <td>4916</td>\n",
       "      <td>77</td>\n",
       "      <td>212</td>\n",
       "      <td>how to build and deploy your dashboard with py...</td>\n",
       "    </tr>\n",
       "    <tr>\n",
       "      <th>2</th>\n",
       "      <td>360</td>\n",
       "      <td>the magic of python context managers what is c...</td>\n",
       "      <td>resource management is one of those things you...</td>\n",
       "      <td>11644</td>\n",
       "      <td>36</td>\n",
       "      <td>212</td>\n",
       "      <td>the magic of python context managers getting s...</td>\n",
       "    </tr>\n",
       "    <tr>\n",
       "      <th>3</th>\n",
       "      <td>88</td>\n",
       "      <td>generating image segmentation masks — the easy...</td>\n",
       "      <td>if you’re reading this then you probably know ...</td>\n",
       "      <td>3817</td>\n",
       "      <td>50</td>\n",
       "      <td>212</td>\n",
       "      <td>generating image segmentation masks — the easy...</td>\n",
       "    </tr>\n",
       "    <tr>\n",
       "      <th>4</th>\n",
       "      <td>105</td>\n",
       "      <td>how to go from bayes’theorem to bayesian infer...</td>\n",
       "      <td>when i was a statistics rookie and tried to le...</td>\n",
       "      <td>13662</td>\n",
       "      <td>50</td>\n",
       "      <td>212</td>\n",
       "      <td>how to go from bayes’theorem to bayesian infer...</td>\n",
       "    </tr>\n",
       "  </tbody>\n",
       "</table>\n",
       "</div>"
      ],
      "text/plain": [
       "   claps                                     section_titles  \\\n",
       "0     14  horizontal scaling vs vertical scaling in hous...   \n",
       "1    203  how to build and deploy your dashboard with py...   \n",
       "2    360  the magic of python context managers what is c...   \n",
       "3     88  generating image segmentation masks — the easy...   \n",
       "4    105  how to go from bayes’theorem to bayesian infer...   \n",
       "\n",
       "                                          paragraphs  len_paragraphs  \\\n",
       "0  in the series of posts on system design i am w...            3667   \n",
       "1  the visualization of the data allows us to qui...            4916   \n",
       "2  resource management is one of those things you...           11644   \n",
       "3  if you’re reading this then you probably know ...            3817   \n",
       "4  when i was a statistics rookie and tried to le...           13662   \n",
       "\n",
       "   len_title  days_live                                     combined_title  \n",
       "0         33        212  introduction to system design — 1 in the serie...  \n",
       "1         77        212  how to build and deploy your dashboard with py...  \n",
       "2         36        212  the magic of python context managers getting s...  \n",
       "3         50        212  generating image segmentation masks — the easy...  \n",
       "4         50        212  how to go from bayes’theorem to bayesian infer...  "
      ]
     },
     "execution_count": 15,
     "metadata": {},
     "output_type": "execute_result"
    }
   ],
   "source": [
    "df.head()"
   ]
  },
  {
   "cell_type": "code",
   "execution_count": 16,
   "id": "8c2ee9b9-877d-4498-be87-75f3d77a7807",
   "metadata": {},
   "outputs": [
    {
     "data": {
      "text/plain": [
       "'those working with neural networks know how complicated object detection techniques can be it is no wonder there is no straight forward resource for training them you are always required to convert your data to a cocolike json or some other unwanted format it is never a plug and play experience moreover no diagram thoroughly explains faster rcnn or yolo as there is for unet or resnet there are just too many details while these models are quite messy the explanation for their lack of simplicity is quite straight forward it fits in a single sentence: neural networks have fixedsized outputs in object detection you can’t know a priori how many objects there are in a scene there might be one two twelve or none the following images all have the same resolution but feature different numbers of objects the one million dollar question is: how can we build variablesized outputs out of fixedsized networks plus how are we supposed to train a variable number of answers and loss terms how can we pen'"
      ]
     },
     "execution_count": 16,
     "metadata": {},
     "output_type": "execute_result"
    }
   ],
   "source": [
    "df['paragraphs'][15][:1000]"
   ]
  },
  {
   "cell_type": "markdown",
   "id": "7c3686eb-7b30-4ea4-bb15-44e08170c71f",
   "metadata": {},
   "source": [
    "#### Tokenize Text"
   ]
  },
  {
   "cell_type": "code",
   "execution_count": 17,
   "id": "cdbeaffe-fc1f-4eee-9e9e-50d2bfe8b9e5",
   "metadata": {},
   "outputs": [],
   "source": [
    "w_tokenizer = WhitespaceTokenizer()"
   ]
  },
  {
   "cell_type": "code",
   "execution_count": 18,
   "id": "592faa51-3daa-4f09-86f6-e3e6765c98d4",
   "metadata": {},
   "outputs": [],
   "source": [
    "for col in text_cols:\n",
    "    df[col] = df[col].apply(lambda x: w_tokenizer.tokenize(x))"
   ]
  },
  {
   "cell_type": "code",
   "execution_count": 19,
   "id": "50eaae0c-a00c-4f10-9f84-6e0cc82524d4",
   "metadata": {},
   "outputs": [
    {
     "data": {
      "text/html": [
       "<div>\n",
       "<style scoped>\n",
       "    .dataframe tbody tr th:only-of-type {\n",
       "        vertical-align: middle;\n",
       "    }\n",
       "\n",
       "    .dataframe tbody tr th {\n",
       "        vertical-align: top;\n",
       "    }\n",
       "\n",
       "    .dataframe thead th {\n",
       "        text-align: right;\n",
       "    }\n",
       "</style>\n",
       "<table border=\"1\" class=\"dataframe\">\n",
       "  <thead>\n",
       "    <tr style=\"text-align: right;\">\n",
       "      <th></th>\n",
       "      <th>claps</th>\n",
       "      <th>section_titles</th>\n",
       "      <th>paragraphs</th>\n",
       "      <th>len_paragraphs</th>\n",
       "      <th>len_title</th>\n",
       "      <th>days_live</th>\n",
       "      <th>combined_title</th>\n",
       "    </tr>\n",
       "  </thead>\n",
       "  <tbody>\n",
       "    <tr>\n",
       "      <th>0</th>\n",
       "      <td>14</td>\n",
       "      <td>[horizontal, scaling, vs, vertical, scaling, i...</td>\n",
       "      <td>[in, the, series, of, posts, on, system, desig...</td>\n",
       "      <td>3667</td>\n",
       "      <td>33</td>\n",
       "      <td>212</td>\n",
       "      <td>[introduction, to, system, design, —, 1, in, t...</td>\n",
       "    </tr>\n",
       "    <tr>\n",
       "      <th>1</th>\n",
       "      <td>203</td>\n",
       "      <td>[how, to, build, and, deploy, your, dashboard,...</td>\n",
       "      <td>[the, visualization, of, the, data, allows, us...</td>\n",
       "      <td>4916</td>\n",
       "      <td>77</td>\n",
       "      <td>212</td>\n",
       "      <td>[how, to, build, and, deploy, your, dashboard,...</td>\n",
       "    </tr>\n",
       "    <tr>\n",
       "      <th>2</th>\n",
       "      <td>360</td>\n",
       "      <td>[the, magic, of, python, context, managers, wh...</td>\n",
       "      <td>[resource, management, is, one, of, those, thi...</td>\n",
       "      <td>11644</td>\n",
       "      <td>36</td>\n",
       "      <td>212</td>\n",
       "      <td>[the, magic, of, python, context, managers, ge...</td>\n",
       "    </tr>\n",
       "    <tr>\n",
       "      <th>3</th>\n",
       "      <td>88</td>\n",
       "      <td>[generating, image, segmentation, masks, —, th...</td>\n",
       "      <td>[if, you’re, reading, this, then, you, probabl...</td>\n",
       "      <td>3817</td>\n",
       "      <td>50</td>\n",
       "      <td>212</td>\n",
       "      <td>[generating, image, segmentation, masks, —, th...</td>\n",
       "    </tr>\n",
       "    <tr>\n",
       "      <th>4</th>\n",
       "      <td>105</td>\n",
       "      <td>[how, to, go, from, bayes’theorem, to, bayesia...</td>\n",
       "      <td>[when, i, was, a, statistics, rookie, and, tri...</td>\n",
       "      <td>13662</td>\n",
       "      <td>50</td>\n",
       "      <td>212</td>\n",
       "      <td>[how, to, go, from, bayes’theorem, to, bayesia...</td>\n",
       "    </tr>\n",
       "  </tbody>\n",
       "</table>\n",
       "</div>"
      ],
      "text/plain": [
       "   claps                                     section_titles  \\\n",
       "0     14  [horizontal, scaling, vs, vertical, scaling, i...   \n",
       "1    203  [how, to, build, and, deploy, your, dashboard,...   \n",
       "2    360  [the, magic, of, python, context, managers, wh...   \n",
       "3     88  [generating, image, segmentation, masks, —, th...   \n",
       "4    105  [how, to, go, from, bayes’theorem, to, bayesia...   \n",
       "\n",
       "                                          paragraphs  len_paragraphs  \\\n",
       "0  [in, the, series, of, posts, on, system, desig...            3667   \n",
       "1  [the, visualization, of, the, data, allows, us...            4916   \n",
       "2  [resource, management, is, one, of, those, thi...           11644   \n",
       "3  [if, you’re, reading, this, then, you, probabl...            3817   \n",
       "4  [when, i, was, a, statistics, rookie, and, tri...           13662   \n",
       "\n",
       "   len_title  days_live                                     combined_title  \n",
       "0         33        212  [introduction, to, system, design, —, 1, in, t...  \n",
       "1         77        212  [how, to, build, and, deploy, your, dashboard,...  \n",
       "2         36        212  [the, magic, of, python, context, managers, ge...  \n",
       "3         50        212  [generating, image, segmentation, masks, —, th...  \n",
       "4         50        212  [how, to, go, from, bayes’theorem, to, bayesia...  "
      ]
     },
     "execution_count": 19,
     "metadata": {},
     "output_type": "execute_result"
    }
   ],
   "source": [
    "df.head()"
   ]
  },
  {
   "cell_type": "markdown",
   "id": "e7182226-6ff5-4e35-84b7-b7d0eb721b64",
   "metadata": {},
   "source": [
    "#### Remove Special Characters "
   ]
  },
  {
   "cell_type": "code",
   "execution_count": 20,
   "id": "7362c27a-02b7-4040-a862-2045362e4449",
   "metadata": {},
   "outputs": [],
   "source": [
    "for col in text_cols:\n",
    "    df[col] = df[col].replace('[^\\w]','',regex=True)"
   ]
  },
  {
   "cell_type": "code",
   "execution_count": 21,
   "id": "374fb15f-e7b9-4069-9df5-fa7469579144",
   "metadata": {},
   "outputs": [
    {
     "data": {
      "text/html": [
       "<div>\n",
       "<style scoped>\n",
       "    .dataframe tbody tr th:only-of-type {\n",
       "        vertical-align: middle;\n",
       "    }\n",
       "\n",
       "    .dataframe tbody tr th {\n",
       "        vertical-align: top;\n",
       "    }\n",
       "\n",
       "    .dataframe thead th {\n",
       "        text-align: right;\n",
       "    }\n",
       "</style>\n",
       "<table border=\"1\" class=\"dataframe\">\n",
       "  <thead>\n",
       "    <tr style=\"text-align: right;\">\n",
       "      <th></th>\n",
       "      <th>claps</th>\n",
       "      <th>section_titles</th>\n",
       "      <th>paragraphs</th>\n",
       "      <th>len_paragraphs</th>\n",
       "      <th>len_title</th>\n",
       "      <th>days_live</th>\n",
       "      <th>combined_title</th>\n",
       "    </tr>\n",
       "  </thead>\n",
       "  <tbody>\n",
       "    <tr>\n",
       "      <th>0</th>\n",
       "      <td>14</td>\n",
       "      <td>[horizontal, scaling, vs, vertical, scaling, i...</td>\n",
       "      <td>[in, the, series, of, posts, on, system, desig...</td>\n",
       "      <td>3667</td>\n",
       "      <td>33</td>\n",
       "      <td>212</td>\n",
       "      <td>[introduction, to, system, design, —, 1, in, t...</td>\n",
       "    </tr>\n",
       "    <tr>\n",
       "      <th>1</th>\n",
       "      <td>203</td>\n",
       "      <td>[how, to, build, and, deploy, your, dashboard,...</td>\n",
       "      <td>[the, visualization, of, the, data, allows, us...</td>\n",
       "      <td>4916</td>\n",
       "      <td>77</td>\n",
       "      <td>212</td>\n",
       "      <td>[how, to, build, and, deploy, your, dashboard,...</td>\n",
       "    </tr>\n",
       "    <tr>\n",
       "      <th>2</th>\n",
       "      <td>360</td>\n",
       "      <td>[the, magic, of, python, context, managers, wh...</td>\n",
       "      <td>[resource, management, is, one, of, those, thi...</td>\n",
       "      <td>11644</td>\n",
       "      <td>36</td>\n",
       "      <td>212</td>\n",
       "      <td>[the, magic, of, python, context, managers, ge...</td>\n",
       "    </tr>\n",
       "    <tr>\n",
       "      <th>3</th>\n",
       "      <td>88</td>\n",
       "      <td>[generating, image, segmentation, masks, —, th...</td>\n",
       "      <td>[if, you’re, reading, this, then, you, probabl...</td>\n",
       "      <td>3817</td>\n",
       "      <td>50</td>\n",
       "      <td>212</td>\n",
       "      <td>[generating, image, segmentation, masks, —, th...</td>\n",
       "    </tr>\n",
       "    <tr>\n",
       "      <th>4</th>\n",
       "      <td>105</td>\n",
       "      <td>[how, to, go, from, bayes’theorem, to, bayesia...</td>\n",
       "      <td>[when, i, was, a, statistics, rookie, and, tri...</td>\n",
       "      <td>13662</td>\n",
       "      <td>50</td>\n",
       "      <td>212</td>\n",
       "      <td>[how, to, go, from, bayes’theorem, to, bayesia...</td>\n",
       "    </tr>\n",
       "  </tbody>\n",
       "</table>\n",
       "</div>"
      ],
      "text/plain": [
       "   claps                                     section_titles  \\\n",
       "0     14  [horizontal, scaling, vs, vertical, scaling, i...   \n",
       "1    203  [how, to, build, and, deploy, your, dashboard,...   \n",
       "2    360  [the, magic, of, python, context, managers, wh...   \n",
       "3     88  [generating, image, segmentation, masks, —, th...   \n",
       "4    105  [how, to, go, from, bayes’theorem, to, bayesia...   \n",
       "\n",
       "                                          paragraphs  len_paragraphs  \\\n",
       "0  [in, the, series, of, posts, on, system, desig...            3667   \n",
       "1  [the, visualization, of, the, data, allows, us...            4916   \n",
       "2  [resource, management, is, one, of, those, thi...           11644   \n",
       "3  [if, you’re, reading, this, then, you, probabl...            3817   \n",
       "4  [when, i, was, a, statistics, rookie, and, tri...           13662   \n",
       "\n",
       "   len_title  days_live                                     combined_title  \n",
       "0         33        212  [introduction, to, system, design, —, 1, in, t...  \n",
       "1         77        212  [how, to, build, and, deploy, your, dashboard,...  \n",
       "2         36        212  [the, magic, of, python, context, managers, ge...  \n",
       "3         50        212  [generating, image, segmentation, masks, —, th...  \n",
       "4         50        212  [how, to, go, from, bayes’theorem, to, bayesia...  "
      ]
     },
     "execution_count": 21,
     "metadata": {},
     "output_type": "execute_result"
    }
   ],
   "source": [
    "df.head()"
   ]
  },
  {
   "cell_type": "markdown",
   "id": "0e4df2c7-60a4-4911-9a6d-76f77ad7b956",
   "metadata": {},
   "source": [
    "#### Remove English Stopwords"
   ]
  },
  {
   "cell_type": "code",
   "execution_count": 22,
   "id": "7c2540d2-0172-4b8a-a4c9-e98457551e48",
   "metadata": {},
   "outputs": [],
   "source": [
    "stop_words = set(stopwords.words('english')) "
   ]
  },
  {
   "cell_type": "code",
   "execution_count": 23,
   "id": "4eee163a-6763-40c3-828a-70172ee4dfe7",
   "metadata": {},
   "outputs": [],
   "source": [
    "def remove_stopwords(text):\n",
    "    return [word for word in text if word not in stop_words]"
   ]
  },
  {
   "cell_type": "code",
   "execution_count": 24,
   "id": "f9a1670a-3184-49c0-ac94-537823126cc2",
   "metadata": {},
   "outputs": [],
   "source": [
    "for col in text_cols:\n",
    "    df[col] = df[col].apply(remove_stopwords)"
   ]
  },
  {
   "cell_type": "markdown",
   "id": "78faeec4-d4c9-409c-9e4c-000e1518b0ed",
   "metadata": {},
   "source": [
    "#### Lemmatize"
   ]
  },
  {
   "cell_type": "markdown",
   "id": "07c555c5-6121-4de3-a8e0-a3e8cd79a634",
   "metadata": {},
   "source": [
    "Uncomment this section to save the file with lemmatized text."
   ]
  },
  {
   "cell_type": "code",
   "execution_count": 25,
   "id": "b21b0638-00d6-4833-b34f-5affa5c27ef1",
   "metadata": {},
   "outputs": [],
   "source": [
    "# def lemmatize_text(text):\n",
    "#     lemmatizer = WordNetLemmatizer()\n",
    "#     return [lemmatizer.lemmatize(w) for w in text]"
   ]
  },
  {
   "cell_type": "code",
   "execution_count": 26,
   "id": "0b347ecf-8e2f-40fa-a4d3-691371c3fe2b",
   "metadata": {},
   "outputs": [],
   "source": [
    "# for col in text_cols:\n",
    "#     df[col] = df[col].apply(lemmatize_text)"
   ]
  },
  {
   "cell_type": "code",
   "execution_count": 27,
   "id": "966c2338-4133-4417-8c08-855fbf89f3ae",
   "metadata": {},
   "outputs": [],
   "source": [
    "# save as lemmatized\n",
    "# output_filename = '../data/tds_nltk_lemmatized_preproc.csv'"
   ]
  },
  {
   "cell_type": "markdown",
   "id": "192c55a6-17d9-4384-849c-f5f87d8f74e9",
   "metadata": {},
   "source": [
    "#### Porter Stemmer\n",
    "Uncomment this section to save the file with stemmed text."
   ]
  },
  {
   "cell_type": "code",
   "execution_count": 28,
   "id": "14aa5049-b809-4bf0-82a3-3b374dea30e8",
   "metadata": {},
   "outputs": [],
   "source": [
    "stemmer = PorterStemmer()\n",
    "def stem_text(text):\n",
    "    return [stemmer.stem(w) for w in text]"
   ]
  },
  {
   "cell_type": "code",
   "execution_count": 29,
   "id": "a0a7b5b2-28d1-4b09-bcce-00590b33d17a",
   "metadata": {},
   "outputs": [],
   "source": [
    "for col in text_cols:\n",
    "    df[col] = df[col].apply(stem_text)"
   ]
  },
  {
   "cell_type": "code",
   "execution_count": 37,
   "id": "c2acfd54-3f0a-4a02-9355-d54523ea980d",
   "metadata": {},
   "outputs": [],
   "source": [
    "output_filename = '../data/tds_nltk_stemmed_preproc.csv'"
   ]
  },
  {
   "cell_type": "markdown",
   "id": "ff3ca878-d504-4f20-afa8-5e6289f923d1",
   "metadata": {},
   "source": [
    "#### No Stemming\n",
    "Uncomment this section to save the file without any lemmatization or stemmed. "
   ]
  },
  {
   "cell_type": "code",
   "execution_count": 31,
   "id": "eda7cb00-c46a-45bf-8b8b-7d253365b323",
   "metadata": {},
   "outputs": [],
   "source": [
    "# #output filename for no lemmatizing or stemming\n",
    "# output_filename = '../data/tds_nltk_nostem_preproc_strings.csv'"
   ]
  },
  {
   "cell_type": "markdown",
   "id": "e758204a-190e-4225-b4b7-0869986e6fd3",
   "metadata": {},
   "source": [
    "#### Combine Text Columns"
   ]
  },
  {
   "cell_type": "code",
   "execution_count": 32,
   "id": "f6496665-91f6-4cc6-b17a-6bcba851f81e",
   "metadata": {},
   "outputs": [],
   "source": [
    "df['text'] = df['combined_title'] + df['section_titles'] + df['paragraphs']"
   ]
  },
  {
   "cell_type": "code",
   "execution_count": 33,
   "id": "81629d03-a416-4829-badf-2386d56d4ee5",
   "metadata": {},
   "outputs": [],
   "source": [
    "tds = df.drop(columns = ['section_titles', 'paragraphs', 'combined_title'])"
   ]
  },
  {
   "cell_type": "code",
   "execution_count": 34,
   "id": "53a1e8ea-2e03-4325-bf30-840e29926d48",
   "metadata": {},
   "outputs": [],
   "source": [
    "tds['text'] = [' '.join(x) for x in tds['text']]"
   ]
  },
  {
   "cell_type": "code",
   "execution_count": 35,
   "id": "20f48739-e30c-4bd1-a59e-176dd8fbc8c3",
   "metadata": {},
   "outputs": [
    {
     "data": {
      "text/html": [
       "<div>\n",
       "<style scoped>\n",
       "    .dataframe tbody tr th:only-of-type {\n",
       "        vertical-align: middle;\n",
       "    }\n",
       "\n",
       "    .dataframe tbody tr th {\n",
       "        vertical-align: top;\n",
       "    }\n",
       "\n",
       "    .dataframe thead th {\n",
       "        text-align: right;\n",
       "    }\n",
       "</style>\n",
       "<table border=\"1\" class=\"dataframe\">\n",
       "  <thead>\n",
       "    <tr style=\"text-align: right;\">\n",
       "      <th></th>\n",
       "      <th>claps</th>\n",
       "      <th>len_paragraphs</th>\n",
       "      <th>len_title</th>\n",
       "      <th>days_live</th>\n",
       "      <th>text</th>\n",
       "    </tr>\n",
       "  </thead>\n",
       "  <tbody>\n",
       "    <tr>\n",
       "      <th>0</th>\n",
       "      <td>14</td>\n",
       "      <td>3667</td>\n",
       "      <td>33</td>\n",
       "      <td>212</td>\n",
       "      <td>introduct system design — 1 seri post system d...</td>\n",
       "    </tr>\n",
       "    <tr>\n",
       "      <th>1</th>\n",
       "      <td>203</td>\n",
       "      <td>4916</td>\n",
       "      <td>77</td>\n",
       "      <td>212</td>\n",
       "      <td>build deploy dashboard python googl sheet vuej...</td>\n",
       "    </tr>\n",
       "    <tr>\n",
       "      <th>2</th>\n",
       "      <td>360</td>\n",
       "      <td>11644</td>\n",
       "      <td>36</td>\n",
       "      <td>212</td>\n",
       "      <td>magic python context manag get start magic pyt...</td>\n",
       "    </tr>\n",
       "    <tr>\n",
       "      <th>3</th>\n",
       "      <td>88</td>\n",
       "      <td>3817</td>\n",
       "      <td>50</td>\n",
       "      <td>212</td>\n",
       "      <td>gener imag segment mask — easi way …in 5 minut...</td>\n",
       "    </tr>\n",
       "    <tr>\n",
       "      <th>4</th>\n",
       "      <td>105</td>\n",
       "      <td>13662</td>\n",
       "      <td>50</td>\n",
       "      <td>212</td>\n",
       "      <td>go bayes’theorem bayesian infer go bayes’theor...</td>\n",
       "    </tr>\n",
       "  </tbody>\n",
       "</table>\n",
       "</div>"
      ],
      "text/plain": [
       "   claps  len_paragraphs  len_title  days_live  \\\n",
       "0     14            3667         33        212   \n",
       "1    203            4916         77        212   \n",
       "2    360           11644         36        212   \n",
       "3     88            3817         50        212   \n",
       "4    105           13662         50        212   \n",
       "\n",
       "                                                text  \n",
       "0  introduct system design — 1 seri post system d...  \n",
       "1  build deploy dashboard python googl sheet vuej...  \n",
       "2  magic python context manag get start magic pyt...  \n",
       "3  gener imag segment mask — easi way …in 5 minut...  \n",
       "4  go bayes’theorem bayesian infer go bayes’theor...  "
      ]
     },
     "execution_count": 35,
     "metadata": {},
     "output_type": "execute_result"
    }
   ],
   "source": [
    "tds.head()"
   ]
  },
  {
   "cell_type": "markdown",
   "id": "a12949c6-9df1-4036-890e-4a0403ae36cf",
   "metadata": {},
   "source": [
    "#### Save Pre-Processed File"
   ]
  },
  {
   "cell_type": "code",
   "execution_count": 38,
   "id": "55ecb3ae-e407-4469-a3bc-f0f0a2080191",
   "metadata": {},
   "outputs": [],
   "source": [
    "tds.to_csv(output_filename)"
   ]
  },
  {
   "cell_type": "code",
   "execution_count": 41,
   "id": "4884c118-be45-4f94-8751-e97d8b48deb2",
   "metadata": {},
   "outputs": [
    {
     "data": {
      "text/plain": [
       "'work neural network know complic object detect techniqu wonder straight forward resourc train alway requir convert data cocolik json unwant format never plug play experi moreov diagram thoroughli explain faster rcnn yolo unet resnet mani detail model quit messi explan lack simplic quit straight forward fit singl sentence: neural network fixeds output object detect can’t know priori mani object scene might one two twelv none follow imag resolut featur differ number object one million dollar question is: build variables output fixeds network plu suppos train variabl number answer loss term penal wrong predict creat output vari size two approach domin literature: “one size fit all” approach output broad suffic applic “lookahead” idea search regionsofinterest classifi made term 😄 practic known “onestage” “twostage” approach tad less selfexplanatori overfeat yolo ssd retinanet etc can’t variables output shall return output larg alway larger need prune excess whole idea take greedi rout '"
      ]
     },
     "execution_count": 41,
     "metadata": {},
     "output_type": "execute_result"
    }
   ],
   "source": [
    "tds['text'][15][104:1100]"
   ]
  },
  {
   "cell_type": "code",
   "execution_count": null,
   "id": "f359b7bd-d92f-4ca8-be17-5efd733845e4",
   "metadata": {},
   "outputs": [],
   "source": []
  }
 ],
 "metadata": {
  "kernelspec": {
   "display_name": "Python 3",
   "language": "python",
   "name": "python3"
  },
  "language_info": {
   "codemirror_mode": {
    "name": "ipython",
    "version": 3
   },
   "file_extension": ".py",
   "mimetype": "text/x-python",
   "name": "python",
   "nbconvert_exporter": "python",
   "pygments_lexer": "ipython3",
   "version": "3.9.4"
  }
 },
 "nbformat": 4,
 "nbformat_minor": 5
}
