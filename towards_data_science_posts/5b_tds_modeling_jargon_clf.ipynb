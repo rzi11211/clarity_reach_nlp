{
 "cells": [
  {
   "cell_type": "markdown",
   "id": "34b63077-5ed9-4d56-9c82-42abdab43d51",
   "metadata": {},
   "source": [
    "# Towards Data Science Blog Posts: Jargon Analysis\n",
    "### Classification  \n",
    "#### *Attempt to model the relationship between the proportion and frequency of jargon words with the target variable: claps.* "
   ]
  },
  {
   "cell_type": "code",
   "execution_count": 35,
   "id": "a35499cd-8ce6-41f4-9f25-1a75bfcea826",
   "metadata": {},
   "outputs": [],
   "source": [
    "import pandas as pd\n",
    "import numpy as np\n",
    "import matplotlib.pyplot as plt\n",
    "import seaborn as sns\n",
    "\n",
    "\n",
    "#modeling\n",
    "from sklearn.model_selection import train_test_split, GridSearchCV, cross_val_score\n",
    "from sklearn.pipeline import Pipeline\n",
    "from sklearn.metrics import accuracy_score, precision_score, f1_score, confusion_matrix, ConfusionMatrixDisplay\n",
    "from sklearn.neural_network import MLPClassifier\n",
    "from sklearn.linear_model import LogisticRegression\n",
    "from sklearn.tree import DecisionTreeClassifier\n",
    "from sklearn.ensemble import BaggingClassifier, RandomForestClassifier, AdaBoostClassifier, ExtraTreesClassifier\n",
    "from sklearn.svm import SVC\n",
    "from sklearn.naive_bayes import BernoulliNB\n",
    "\n",
    "import re\n",
    "from nltk.tokenize import WhitespaceTokenizer\n",
    "\n",
    "import warnings\n",
    "warnings.filterwarnings('ignore')"
   ]
  },
  {
   "cell_type": "code",
   "execution_count": 36,
   "id": "9d27416d-2f7d-4d55-a806-3e3db69ca72f",
   "metadata": {},
   "outputs": [],
   "source": [
    "filename =  '../data/tds_vectorized_jargon.csv'"
   ]
  },
  {
   "cell_type": "code",
   "execution_count": 37,
   "id": "24897dab-53e6-467f-9c9d-474235bcb3f8",
   "metadata": {},
   "outputs": [],
   "source": [
    "df = pd.read_csv(filename)"
   ]
  },
  {
   "cell_type": "code",
   "execution_count": 38,
   "id": "77de176b-387e-4fae-9360-ed17214a26ba",
   "metadata": {},
   "outputs": [
    {
     "data": {
      "text/html": [
       "<div>\n",
       "<style scoped>\n",
       "    .dataframe tbody tr th:only-of-type {\n",
       "        vertical-align: middle;\n",
       "    }\n",
       "\n",
       "    .dataframe tbody tr th {\n",
       "        vertical-align: top;\n",
       "    }\n",
       "\n",
       "    .dataframe thead th {\n",
       "        text-align: right;\n",
       "    }\n",
       "</style>\n",
       "<table border=\"1\" class=\"dataframe\">\n",
       "  <thead>\n",
       "    <tr style=\"text-align: right;\">\n",
       "      <th></th>\n",
       "      <th>claps</th>\n",
       "      <th>text</th>\n",
       "      <th>A/B testing</th>\n",
       "      <th>accuracy</th>\n",
       "      <th>action</th>\n",
       "      <th>activation function</th>\n",
       "      <th>active learning</th>\n",
       "      <th>AdaGrad</th>\n",
       "      <th>agent</th>\n",
       "      <th>agglomerative clustering</th>\n",
       "      <th>...</th>\n",
       "      <th>user matrix</th>\n",
       "      <th>validation</th>\n",
       "      <th>validation set</th>\n",
       "      <th>vanishing gradient problem</th>\n",
       "      <th>Wasserstein loss</th>\n",
       "      <th>weight</th>\n",
       "      <th>Weighted Alternating Least Squares (WALS)</th>\n",
       "      <th>wide model</th>\n",
       "      <th>width</th>\n",
       "      <th>total_jargon_count</th>\n",
       "    </tr>\n",
       "  </thead>\n",
       "  <tbody>\n",
       "    <tr>\n",
       "      <th>0</th>\n",
       "      <td>489</td>\n",
       "      <td>ultimate guide acing coding interviews data sc...</td>\n",
       "      <td>0</td>\n",
       "      <td>0</td>\n",
       "      <td>0</td>\n",
       "      <td>0</td>\n",
       "      <td>0</td>\n",
       "      <td>0</td>\n",
       "      <td>0</td>\n",
       "      <td>0</td>\n",
       "      <td>...</td>\n",
       "      <td>0</td>\n",
       "      <td>0</td>\n",
       "      <td>0</td>\n",
       "      <td>0</td>\n",
       "      <td>0</td>\n",
       "      <td>0</td>\n",
       "      <td>0</td>\n",
       "      <td>0</td>\n",
       "      <td>0</td>\n",
       "      <td>20</td>\n",
       "    </tr>\n",
       "    <tr>\n",
       "      <th>1</th>\n",
       "      <td>139</td>\n",
       "      <td>shakespeare versus eminem— who’s better lyrici...</td>\n",
       "      <td>0</td>\n",
       "      <td>0</td>\n",
       "      <td>0</td>\n",
       "      <td>0</td>\n",
       "      <td>0</td>\n",
       "      <td>0</td>\n",
       "      <td>0</td>\n",
       "      <td>0</td>\n",
       "      <td>...</td>\n",
       "      <td>0</td>\n",
       "      <td>0</td>\n",
       "      <td>0</td>\n",
       "      <td>0</td>\n",
       "      <td>0</td>\n",
       "      <td>2</td>\n",
       "      <td>0</td>\n",
       "      <td>0</td>\n",
       "      <td>0</td>\n",
       "      <td>8</td>\n",
       "    </tr>\n",
       "    <tr>\n",
       "      <th>2</th>\n",
       "      <td>133</td>\n",
       "      <td>implementing visualttransformer pytorch hi guy...</td>\n",
       "      <td>0</td>\n",
       "      <td>0</td>\n",
       "      <td>0</td>\n",
       "      <td>0</td>\n",
       "      <td>0</td>\n",
       "      <td>0</td>\n",
       "      <td>0</td>\n",
       "      <td>0</td>\n",
       "      <td>...</td>\n",
       "      <td>0</td>\n",
       "      <td>0</td>\n",
       "      <td>0</td>\n",
       "      <td>0</td>\n",
       "      <td>0</td>\n",
       "      <td>0</td>\n",
       "      <td>0</td>\n",
       "      <td>0</td>\n",
       "      <td>0</td>\n",
       "      <td>42</td>\n",
       "    </tr>\n",
       "    <tr>\n",
       "      <th>3</th>\n",
       "      <td>92</td>\n",
       "      <td>stock price analysis pandas altair practical g...</td>\n",
       "      <td>0</td>\n",
       "      <td>0</td>\n",
       "      <td>0</td>\n",
       "      <td>0</td>\n",
       "      <td>0</td>\n",
       "      <td>0</td>\n",
       "      <td>0</td>\n",
       "      <td>0</td>\n",
       "      <td>...</td>\n",
       "      <td>0</td>\n",
       "      <td>0</td>\n",
       "      <td>0</td>\n",
       "      <td>0</td>\n",
       "      <td>0</td>\n",
       "      <td>0</td>\n",
       "      <td>0</td>\n",
       "      <td>0</td>\n",
       "      <td>0</td>\n",
       "      <td>19</td>\n",
       "    </tr>\n",
       "    <tr>\n",
       "      <th>4</th>\n",
       "      <td>58</td>\n",
       "      <td>optimal threshold imbalanced classification ha...</td>\n",
       "      <td>0</td>\n",
       "      <td>9</td>\n",
       "      <td>0</td>\n",
       "      <td>0</td>\n",
       "      <td>0</td>\n",
       "      <td>0</td>\n",
       "      <td>0</td>\n",
       "      <td>0</td>\n",
       "      <td>...</td>\n",
       "      <td>0</td>\n",
       "      <td>0</td>\n",
       "      <td>0</td>\n",
       "      <td>0</td>\n",
       "      <td>0</td>\n",
       "      <td>0</td>\n",
       "      <td>0</td>\n",
       "      <td>0</td>\n",
       "      <td>0</td>\n",
       "      <td>145</td>\n",
       "    </tr>\n",
       "  </tbody>\n",
       "</table>\n",
       "<p>5 rows × 415 columns</p>\n",
       "</div>"
      ],
      "text/plain": [
       "   claps                                               text  A/B testing  \\\n",
       "0    489  ultimate guide acing coding interviews data sc...            0   \n",
       "1    139  shakespeare versus eminem— who’s better lyrici...            0   \n",
       "2    133  implementing visualttransformer pytorch hi guy...            0   \n",
       "3     92  stock price analysis pandas altair practical g...            0   \n",
       "4     58  optimal threshold imbalanced classification ha...            0   \n",
       "\n",
       "   accuracy  action  activation function  active learning  AdaGrad  agent  \\\n",
       "0         0       0                    0                0        0      0   \n",
       "1         0       0                    0                0        0      0   \n",
       "2         0       0                    0                0        0      0   \n",
       "3         0       0                    0                0        0      0   \n",
       "4         9       0                    0                0        0      0   \n",
       "\n",
       "   agglomerative clustering  ...  user matrix  validation  validation set  \\\n",
       "0                         0  ...            0           0               0   \n",
       "1                         0  ...            0           0               0   \n",
       "2                         0  ...            0           0               0   \n",
       "3                         0  ...            0           0               0   \n",
       "4                         0  ...            0           0               0   \n",
       "\n",
       "   vanishing gradient problem  Wasserstein loss  weight  \\\n",
       "0                           0                 0       0   \n",
       "1                           0                 0       2   \n",
       "2                           0                 0       0   \n",
       "3                           0                 0       0   \n",
       "4                           0                 0       0   \n",
       "\n",
       "   Weighted Alternating Least Squares (WALS)  wide model  width  \\\n",
       "0                                          0           0      0   \n",
       "1                                          0           0      0   \n",
       "2                                          0           0      0   \n",
       "3                                          0           0      0   \n",
       "4                                          0           0      0   \n",
       "\n",
       "   total_jargon_count  \n",
       "0                  20  \n",
       "1                   8  \n",
       "2                  42  \n",
       "3                  19  \n",
       "4                 145  \n",
       "\n",
       "[5 rows x 415 columns]"
      ]
     },
     "execution_count": 38,
     "metadata": {},
     "output_type": "execute_result"
    }
   ],
   "source": [
    "df.head()"
   ]
  },
  {
   "cell_type": "code",
   "execution_count": 39,
   "id": "5e5a8d9a-c640-4928-aaba-4ed24106f6c7",
   "metadata": {},
   "outputs": [],
   "source": [
    "#sort df before transformation\n",
    "df = df.sort_values(by = ['claps', 'text'], ascending=False, ignore_index=True)"
   ]
  },
  {
   "cell_type": "markdown",
   "id": "6ed5ac12-6bf5-4f56-8e64-0d9ffe58c0e9",
   "metadata": {},
   "source": [
    "#### Transform the Target into a Binary Variable"
   ]
  },
  {
   "cell_type": "code",
   "execution_count": 40,
   "id": "3cb89888-8cd3-4fd2-a8f7-c0ba97495a64",
   "metadata": {},
   "outputs": [
    {
     "data": {
      "text/plain": [
       "208.91182371361316"
      ]
     },
     "execution_count": 40,
     "metadata": {},
     "output_type": "execute_result"
    }
   ],
   "source": [
    "#establish a threshold for 'high engagement' of mean plus one standard deviation\n",
    "thresh = df['claps'].mean() + df['claps'].std()\n",
    "thresh"
   ]
  },
  {
   "cell_type": "code",
   "execution_count": 41,
   "id": "fb4dbf01-d116-46c7-b59c-2721bc2dbbe5",
   "metadata": {},
   "outputs": [
    {
     "data": {
      "text/plain": [
       "1122"
      ]
     },
     "execution_count": 41,
     "metadata": {},
     "output_type": "execute_result"
    }
   ],
   "source": [
    "#check how many posts meet that criterion\n",
    "(df['claps'] >= thresh).sum()"
   ]
  },
  {
   "cell_type": "code",
   "execution_count": 42,
   "id": "5d307c69-3a54-4918-809e-756c601f0cbf",
   "metadata": {},
   "outputs": [],
   "source": [
    "claps = [1 if clap >= thresh else 0 for clap in df['claps']]"
   ]
  },
  {
   "cell_type": "code",
   "execution_count": 43,
   "id": "9f764bfc-23c3-42dc-8141-7ee42f9c1a08",
   "metadata": {},
   "outputs": [],
   "source": [
    "df['claps'] = claps"
   ]
  },
  {
   "cell_type": "code",
   "execution_count": 44,
   "id": "464590e1-5624-4789-84a8-eedb4b857213",
   "metadata": {},
   "outputs": [
    {
     "data": {
      "text/plain": [
       "0    0.879225\n",
       "1    0.120775\n",
       "Name: claps, dtype: float64"
      ]
     },
     "execution_count": 44,
     "metadata": {},
     "output_type": "execute_result"
    }
   ],
   "source": [
    "df['claps'].value_counts(normalize=True)"
   ]
  },
  {
   "cell_type": "markdown",
   "id": "19837ee9-e3ce-42ad-925b-05aafdbdd22b",
   "metadata": {},
   "source": [
    "### Investigation I: Effect of Proportion of Jargon on Number of Claps"
   ]
  },
  {
   "cell_type": "code",
   "execution_count": 45,
   "id": "ecdc1776-5f88-425d-9adc-e68b4d740adc",
   "metadata": {},
   "outputs": [
    {
     "data": {
      "text/plain": [
       "0    18\n",
       "1    87\n",
       "2    13\n",
       "3    21\n",
       "4    43\n",
       "Name: total_jargon_count, dtype: int64"
      ]
     },
     "execution_count": 45,
     "metadata": {},
     "output_type": "execute_result"
    }
   ],
   "source": [
    "df['total_jargon_count'].head()"
   ]
  },
  {
   "cell_type": "code",
   "execution_count": 46,
   "id": "4878554c-9e43-4a48-a1d9-389b88783864",
   "metadata": {},
   "outputs": [],
   "source": [
    "#read in preprocessed abstracts to get total word count\n",
    "tds = pd.read_csv('../data/tds_nltk_stemmed_preproc.csv').drop(columns = 'Unnamed: 0')"
   ]
  },
  {
   "cell_type": "code",
   "execution_count": 47,
   "id": "41b83ffa-8a0a-4e38-818a-e044be0702a8",
   "metadata": {},
   "outputs": [],
   "source": [
    "#get both dataframes in the same order\n",
    "\n",
    "tds = tds.sort_values(by = ['claps', 'text'], ascending=False, ignore_index=True)"
   ]
  },
  {
   "cell_type": "code",
   "execution_count": 48,
   "id": "3408451f-f2eb-4dd4-afee-58dd535bce7b",
   "metadata": {},
   "outputs": [],
   "source": [
    "#remove punctuation characters \n",
    "tds['text'] = tds['text'].replace(\"[''·,\\.!?'-]\",'',regex=True)\n",
    "#remove brackets surrounding the text\n",
    "tds['text'] = tds['text'].map(lambda x: x.replace(\"[\",\"\"))\n",
    "tds['text'] = tds['text'].map(lambda x: x.replace(\"]\",\"\"))"
   ]
  },
  {
   "cell_type": "code",
   "execution_count": 49,
   "id": "26956733-a96d-4f8f-a84b-b778da816401",
   "metadata": {},
   "outputs": [],
   "source": [
    "#tokenize text into lists to get word count\n",
    "w_tokenizer = WhitespaceTokenizer()\n",
    "tds['text'] = tds['text'].apply(lambda x: w_tokenizer.tokenize(x))"
   ]
  },
  {
   "cell_type": "code",
   "execution_count": 50,
   "id": "32d901a0-c06c-4199-8915-14ba0cc7403e",
   "metadata": {},
   "outputs": [],
   "source": [
    "# calculate word count, jargon count, and jargon proportion \n",
    "word_count = tds['text'].apply(lambda x: len(x))\n",
    "jargon_count = df['total_jargon_count']\n",
    "\n",
    "jargon_prop = (jargon_count/word_count)"
   ]
  },
  {
   "cell_type": "code",
   "execution_count": 51,
   "id": "948861a3-8702-4914-bb0e-fb43661880b0",
   "metadata": {},
   "outputs": [],
   "source": [
    "#Create new dataframe with jargon prop and citations\n",
    "prop = pd.DataFrame()\n",
    "prop['jargon_prop'] = pd.Series(jargon_prop)\n",
    "prop['claps'] = df['claps']"
   ]
  },
  {
   "cell_type": "code",
   "execution_count": 52,
   "id": "21cb6a32-9fe3-47a5-90ac-6e6df74d3957",
   "metadata": {},
   "outputs": [
    {
     "data": {
      "image/png": "[encoded data removed]",
      "text/plain": [
       "<Figure size 1440x720 with 1 Axes>"
      ]
     },
     "metadata": {
      "needs_background": "light"
     },
     "output_type": "display_data"
    }
   ],
   "source": [
    "plt.figure(figsize = (20, 10));\n",
    "sns.boxplot(data=prop, x='claps', y = 'jargon_prop', palette='flare');\n",
    "figurefont = {'fontname' : 'Futura'};\n",
    "plt.title('Claps by Jargon Proportion', fontsize = 24,**figurefont );\n",
    "plt.xticks(**figurefont, fontsize = 20);\n",
    "plt.yticks(**figurefont, fontsize = 20);\n",
    "plt.xlabel('Claps',**figurefont, fontsize = 20);\n",
    "plt.ylabel('Jargon Proportion',**figurefont, fontsize = 20);\n",
    "plt.savefig('../figures/tds_claps_jargon_class_boxplot.jpg',  bbox_inches = \"tight\")"
   ]
  },
  {
   "cell_type": "markdown",
   "id": "e69b5d49-1028-4d7e-9c71-0345d5f14ae0",
   "metadata": {},
   "source": [
    "### Investigation Attempt II: Classification Modeling "
   ]
  },
  {
   "cell_type": "code",
   "execution_count": 53,
   "id": "5dacc387-1c20-49d3-8449-509ea420fe17",
   "metadata": {},
   "outputs": [
    {
     "data": {
      "text/plain": [
       "0"
      ]
     },
     "execution_count": 53,
     "metadata": {},
     "output_type": "execute_result"
    }
   ],
   "source": [
    "#confirm no nulls \n",
    "df.isnull().sum().sum()"
   ]
  },
  {
   "cell_type": "code",
   "execution_count": 54,
   "id": "85ae1c4b-607d-42fe-90d6-0a0e9f11295c",
   "metadata": {},
   "outputs": [],
   "source": [
    "X = df.drop(columns=['claps','text'])\n",
    "y = df['claps']"
   ]
  },
  {
   "cell_type": "code",
   "execution_count": 55,
   "id": "3ca8f4c9-2233-4c1e-8e47-5bcf9476b0f0",
   "metadata": {},
   "outputs": [],
   "source": [
    "#train-test split\n",
    "X_train, X_test, y_train, y_test=train_test_split(X,\n",
    "                                                 y,\n",
    "                                                 test_size=.2,\n",
    "                                                  stratify=y,\n",
    "                                                 random_state=42)"
   ]
  },
  {
   "cell_type": "markdown",
   "id": "2addc33d-0830-4c71-8042-1d23084b81c1",
   "metadata": {},
   "source": [
    "#### Run Through Classifiers"
   ]
  },
  {
   "cell_type": "code",
   "execution_count": 56,
   "id": "829b8b1a-a600-4a79-8cd8-c55ec5e5e227",
   "metadata": {},
   "outputs": [],
   "source": [
    "model_list = [\n",
    "    LogisticRegression(),\n",
    "    DecisionTreeClassifier(),\n",
    "    BaggingClassifier(),\n",
    "    RandomForestClassifier(),\n",
    "    AdaBoostClassifier(),\n",
    "    SVC(),\n",
    "    BernoulliNB()\n",
    "]\n",
    "\n",
    "results_list = []\n",
    "\n",
    "for model_obj in model_list:\n",
    "    #instantiate each model \n",
    "    model = model_obj\n",
    "   \n",
    "    #fit the model\n",
    "    model.fit(X_train, y_train) \n",
    "  \n",
    "    #create a dictionary with scores and evaluation metrics for each model\n",
    "    results_dict = {}    \n",
    "    results_dict['model_name'] = str(model_obj)\n",
    "    results_dict['train_score'] = model.score(X_train, y_train)\n",
    "    results_dict['test_score'] = model.score(X_test, y_test)\n",
    "    results_dict['cv_score'] = cross_val_score(model, X_train, y_train, cv = 5).mean()\n",
    "    results_dict['precision_score'] = precision_score(y_test, model.predict(X_test))\n",
    "    results_dict['train_f1_score'] = f1_score(y_train, model.predict(X_train))  \n",
    "    results_dict['test_f1_score'] = f1_score(y_test, model.predict(X_test))  \n",
    "    \n",
    "    #add the dictionary to the list\n",
    "    results_list.append(results_dict)"
   ]
  },
  {
   "cell_type": "code",
   "execution_count": 57,
   "id": "fe32dc2b-8fb4-4be3-85a0-54ce00f7d521",
   "metadata": {},
   "outputs": [
    {
     "data": {
      "text/html": [
       "<div>\n",
       "<style scoped>\n",
       "    .dataframe tbody tr th:only-of-type {\n",
       "        vertical-align: middle;\n",
       "    }\n",
       "\n",
       "    .dataframe tbody tr th {\n",
       "        vertical-align: top;\n",
       "    }\n",
       "\n",
       "    .dataframe thead th {\n",
       "        text-align: right;\n",
       "    }\n",
       "</style>\n",
       "<table border=\"1\" class=\"dataframe\">\n",
       "  <thead>\n",
       "    <tr style=\"text-align: right;\">\n",
       "      <th></th>\n",
       "      <th>model_name</th>\n",
       "      <th>train_score</th>\n",
       "      <th>test_score</th>\n",
       "      <th>cv_score</th>\n",
       "      <th>precision_score</th>\n",
       "      <th>train_f1_score</th>\n",
       "      <th>test_f1_score</th>\n",
       "    </tr>\n",
       "  </thead>\n",
       "  <tbody>\n",
       "    <tr>\n",
       "      <th>0</th>\n",
       "      <td>LogisticRegression()</td>\n",
       "      <td>0.879575</td>\n",
       "      <td>0.876211</td>\n",
       "      <td>0.875942</td>\n",
       "      <td>0.200000</td>\n",
       "      <td>0.026115</td>\n",
       "      <td>0.017094</td>\n",
       "    </tr>\n",
       "    <tr>\n",
       "      <th>1</th>\n",
       "      <td>DecisionTreeClassifier()</td>\n",
       "      <td>0.999058</td>\n",
       "      <td>0.803552</td>\n",
       "      <td>0.795344</td>\n",
       "      <td>0.138462</td>\n",
       "      <td>0.996087</td>\n",
       "      <td>0.128878</td>\n",
       "    </tr>\n",
       "    <tr>\n",
       "      <th>2</th>\n",
       "      <td>BaggingClassifier()</td>\n",
       "      <td>0.977260</td>\n",
       "      <td>0.871905</td>\n",
       "      <td>0.872443</td>\n",
       "      <td>0.208333</td>\n",
       "      <td>0.896509</td>\n",
       "      <td>0.040323</td>\n",
       "    </tr>\n",
       "    <tr>\n",
       "      <th>3</th>\n",
       "      <td>RandomForestClassifier()</td>\n",
       "      <td>0.999058</td>\n",
       "      <td>0.876749</td>\n",
       "      <td>0.879037</td>\n",
       "      <td>0.000000</td>\n",
       "      <td>0.996087</td>\n",
       "      <td>0.000000</td>\n",
       "    </tr>\n",
       "    <tr>\n",
       "      <th>4</th>\n",
       "      <td>AdaBoostClassifier()</td>\n",
       "      <td>0.879575</td>\n",
       "      <td>0.877287</td>\n",
       "      <td>0.874866</td>\n",
       "      <td>0.300000</td>\n",
       "      <td>0.032432</td>\n",
       "      <td>0.025641</td>\n",
       "    </tr>\n",
       "    <tr>\n",
       "      <th>5</th>\n",
       "      <td>SVC()</td>\n",
       "      <td>0.879171</td>\n",
       "      <td>0.879440</td>\n",
       "      <td>0.879171</td>\n",
       "      <td>0.000000</td>\n",
       "      <td>0.000000</td>\n",
       "      <td>0.000000</td>\n",
       "    </tr>\n",
       "    <tr>\n",
       "      <th>6</th>\n",
       "      <td>BernoulliNB()</td>\n",
       "      <td>0.850242</td>\n",
       "      <td>0.833154</td>\n",
       "      <td>0.843246</td>\n",
       "      <td>0.135593</td>\n",
       "      <td>0.148432</td>\n",
       "      <td>0.093567</td>\n",
       "    </tr>\n",
       "  </tbody>\n",
       "</table>\n",
       "</div>"
      ],
      "text/plain": [
       "                 model_name  train_score  test_score  cv_score  \\\n",
       "0      LogisticRegression()     0.879575    0.876211  0.875942   \n",
       "1  DecisionTreeClassifier()     0.999058    0.803552  0.795344   \n",
       "2       BaggingClassifier()     0.977260    0.871905  0.872443   \n",
       "3  RandomForestClassifier()     0.999058    0.876749  0.879037   \n",
       "4      AdaBoostClassifier()     0.879575    0.877287  0.874866   \n",
       "5                     SVC()     0.879171    0.879440  0.879171   \n",
       "6             BernoulliNB()     0.850242    0.833154  0.843246   \n",
       "\n",
       "   precision_score  train_f1_score  test_f1_score  \n",
       "0         0.200000        0.026115       0.017094  \n",
       "1         0.138462        0.996087       0.128878  \n",
       "2         0.208333        0.896509       0.040323  \n",
       "3         0.000000        0.996087       0.000000  \n",
       "4         0.300000        0.032432       0.025641  \n",
       "5         0.000000        0.000000       0.000000  \n",
       "6         0.135593        0.148432       0.093567  "
      ]
     },
     "execution_count": 57,
     "metadata": {},
     "output_type": "execute_result"
    }
   ],
   "source": [
    "results = pd.DataFrame(results_list)\n",
    "results"
   ]
  },
  {
   "cell_type": "markdown",
   "id": "53f85f4c-1dd0-4f87-8178-155c7d53a609",
   "metadata": {},
   "source": [
    "None of these models are better than baseline at predicting whether a post will get an above-average number of claps or not."
   ]
  },
  {
   "cell_type": "markdown",
   "id": "d9f132e7-9e68-4b7c-bca8-c6ef3f4f04ea",
   "metadata": {},
   "source": []
  }
 ],
 "metadata": {
  "kernelspec": {
   "display_name": "Python 3",
   "language": "python",
   "name": "python3"
  },
  "language_info": {
   "codemirror_mode": {
    "name": "ipython",
    "version": 3
   },
   "file_extension": ".py",
   "mimetype": "text/x-python",
   "name": "python",
   "nbconvert_exporter": "python",
   "pygments_lexer": "ipython3",
   "version": "3.9.4"
  }
 },
 "nbformat": 4,
 "nbformat_minor": 5
}
