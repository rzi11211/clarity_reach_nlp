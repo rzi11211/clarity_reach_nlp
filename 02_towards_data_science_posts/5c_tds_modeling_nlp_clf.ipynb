{
 "cells": [
  {
   "cell_type": "markdown",
   "id": "834d7aac-3088-415a-9426-81584b90d6bb",
   "metadata": {},
   "source": [
    "# Towards Data Science Blog Posts: Bag of Words Frequency Models\n",
    "### Classification Analysis \n",
    "#### *Attempt to model the relationship between the words in the corpus with the target variable: claps.*"
   ]
  },
  {
   "cell_type": "code",
   "execution_count": 1,
   "id": "a35499cd-8ce6-41f4-9f25-1a75bfcea826",
   "metadata": {},
   "outputs": [],
   "source": [
    "import pandas as pd\n",
    "import numpy as np\n",
    "import matplotlib.pyplot as plt\n",
    "import seaborn as sns\n",
    "\n",
    "#nlp\n",
    "import nltk\n",
    "from sklearn.feature_extraction import text\n",
    "from sklearn.feature_extraction.text import CountVectorizer, TfidfVectorizer\n",
    "\n",
    "#modeling\n",
    "from sklearn.model_selection import train_test_split, GridSearchCV, cross_val_score\n",
    "from sklearn.pipeline import Pipeline\n",
    "from sklearn.metrics import accuracy_score, precision_score, f1_score, confusion_matrix, ConfusionMatrixDisplay\n",
    "from sklearn.linear_model import LogisticRegression\n",
    "from sklearn.tree import DecisionTreeClassifier\n",
    "from sklearn.ensemble import BaggingClassifier, RandomForestClassifier, AdaBoostClassifier, ExtraTreesClassifier\n",
    "from sklearn.svm import SVC\n",
    "from sklearn.naive_bayes import BernoulliNB\n",
    "\n",
    "import warnings\n",
    "warnings.filterwarnings('ignore')"
   ]
  },
  {
   "cell_type": "code",
   "execution_count": 2,
   "id": "f0f23a4f-4531-43b8-b420-1789d14d62dc",
   "metadata": {},
   "outputs": [
    {
     "name": "stderr",
     "output_type": "stream",
     "text": [
      "[nltk_data] Downloading package stopwords to\n",
      "[nltk_data]     /Users/rachelinsler/nltk_data...\n",
      "[nltk_data]   Package stopwords is already up-to-date!\n"
     ]
    },
    {
     "data": {
      "text/plain": [
       "True"
      ]
     },
     "execution_count": 2,
     "metadata": {},
     "output_type": "execute_result"
    }
   ],
   "source": [
    "nltk.download('stopwords')"
   ]
  },
  {
   "cell_type": "code",
   "execution_count": 1,
   "id": "9d27416d-2f7d-4d55-a806-3e3db69ca72f",
   "metadata": {},
   "outputs": [],
   "source": [
    "filename = '../data/nlp_nltk_stemmed_preproc.csv'"
   ]
  },
  {
   "cell_type": "code",
   "execution_count": 4,
   "id": "24897dab-53e6-467f-9c9d-474235bcb3f8",
   "metadata": {},
   "outputs": [],
   "source": [
    "df = pd.read_csv(filename).drop(columns = 'Unnamed: 0')"
   ]
  },
  {
   "cell_type": "code",
   "execution_count": 5,
   "id": "77de176b-387e-4fae-9360-ed17214a26ba",
   "metadata": {},
   "outputs": [
    {
     "data": {
      "text/html": [
       "<div>\n",
       "<style scoped>\n",
       "    .dataframe tbody tr th:only-of-type {\n",
       "        vertical-align: middle;\n",
       "    }\n",
       "\n",
       "    .dataframe tbody tr th {\n",
       "        vertical-align: top;\n",
       "    }\n",
       "\n",
       "    .dataframe thead th {\n",
       "        text-align: right;\n",
       "    }\n",
       "</style>\n",
       "<table border=\"1\" class=\"dataframe\">\n",
       "  <thead>\n",
       "    <tr style=\"text-align: right;\">\n",
       "      <th></th>\n",
       "      <th>claps</th>\n",
       "      <th>text</th>\n",
       "    </tr>\n",
       "  </thead>\n",
       "  <tbody>\n",
       "    <tr>\n",
       "      <th>0</th>\n",
       "      <td>489</td>\n",
       "      <td>ultim guid ace code interview data scientist d...</td>\n",
       "    </tr>\n",
       "    <tr>\n",
       "      <th>1</th>\n",
       "      <td>139</td>\n",
       "      <td>shakespear versu eminem— who’ better lyricist ...</td>\n",
       "    </tr>\n",
       "    <tr>\n",
       "      <th>2</th>\n",
       "      <td>133</td>\n",
       "      <td>implement visualttransform pytorch hi guy happ...</td>\n",
       "    </tr>\n",
       "    <tr>\n",
       "      <th>3</th>\n",
       "      <td>92</td>\n",
       "      <td>stock price analysi panda altair practic guid ...</td>\n",
       "    </tr>\n",
       "    <tr>\n",
       "      <th>4</th>\n",
       "      <td>58</td>\n",
       "      <td>optim threshold imbalanc classif handson tutor...</td>\n",
       "    </tr>\n",
       "  </tbody>\n",
       "</table>\n",
       "</div>"
      ],
      "text/plain": [
       "   claps                                               text\n",
       "0    489  ultim guid ace code interview data scientist d...\n",
       "1    139  shakespear versu eminem— who’ better lyricist ...\n",
       "2    133  implement visualttransform pytorch hi guy happ...\n",
       "3     92  stock price analysi panda altair practic guid ...\n",
       "4     58  optim threshold imbalanc classif handson tutor..."
      ]
     },
     "execution_count": 5,
     "metadata": {},
     "output_type": "execute_result"
    }
   ],
   "source": [
    "df.head()"
   ]
  },
  {
   "cell_type": "markdown",
   "id": "2f021bbb-5818-4c48-a8a8-6eb4a7df99dd",
   "metadata": {},
   "source": [
    "#### Transform the Target into a Binary Variable"
   ]
  },
  {
   "cell_type": "code",
   "execution_count": 6,
   "id": "aee677d3-6fc1-4238-bc68-8c93fc07fc90",
   "metadata": {},
   "outputs": [
    {
     "data": {
      "text/plain": [
       "208.91182371361316"
      ]
     },
     "execution_count": 6,
     "metadata": {},
     "output_type": "execute_result"
    }
   ],
   "source": [
    "df['claps'].mean() + df['claps'].std()"
   ]
  },
  {
   "cell_type": "code",
   "execution_count": null,
   "id": "28768dfd-0e42-411a-bc0b-f0a9cb615068",
   "metadata": {},
   "outputs": [],
   "source": [
    "#remove outliers\n",
    "df['claps'] = pd.Series([1 if claps >= 195 else 0 for claps in df['claps']])"
   ]
  },
  {
   "cell_type": "code",
   "execution_count": 8,
   "id": "474cd1cc-7a2e-467d-8172-204bb44ebed2",
   "metadata": {},
   "outputs": [
    {
     "data": {
      "text/plain": [
       "0    0.865231\n",
       "1    0.134769\n",
       "Name: claps, dtype: float64"
      ]
     },
     "execution_count": 8,
     "metadata": {},
     "output_type": "execute_result"
    }
   ],
   "source": [
    "df['claps'].value_counts(normalize=True)"
   ]
  },
  {
   "cell_type": "markdown",
   "id": "fbcd760d-87ef-40e0-9ba7-6112a98ae4f6",
   "metadata": {},
   "source": [
    "#### Classification Modeling"
   ]
  },
  {
   "cell_type": "code",
   "execution_count": 9,
   "id": "4bb1143c-9b64-418b-9c27-e556442135ce",
   "metadata": {},
   "outputs": [
    {
     "data": {
      "text/html": [
       "<div>\n",
       "<style scoped>\n",
       "    .dataframe tbody tr th:only-of-type {\n",
       "        vertical-align: middle;\n",
       "    }\n",
       "\n",
       "    .dataframe tbody tr th {\n",
       "        vertical-align: top;\n",
       "    }\n",
       "\n",
       "    .dataframe thead th {\n",
       "        text-align: right;\n",
       "    }\n",
       "</style>\n",
       "<table border=\"1\" class=\"dataframe\">\n",
       "  <thead>\n",
       "    <tr style=\"text-align: right;\">\n",
       "      <th></th>\n",
       "      <th>claps</th>\n",
       "      <th>text</th>\n",
       "    </tr>\n",
       "  </thead>\n",
       "  <tbody>\n",
       "    <tr>\n",
       "      <th>0</th>\n",
       "      <td>1</td>\n",
       "      <td>ultim guid ace code interview data scientist d...</td>\n",
       "    </tr>\n",
       "    <tr>\n",
       "      <th>1</th>\n",
       "      <td>0</td>\n",
       "      <td>shakespear versu eminem— who’ better lyricist ...</td>\n",
       "    </tr>\n",
       "    <tr>\n",
       "      <th>2</th>\n",
       "      <td>0</td>\n",
       "      <td>implement visualttransform pytorch hi guy happ...</td>\n",
       "    </tr>\n",
       "    <tr>\n",
       "      <th>3</th>\n",
       "      <td>0</td>\n",
       "      <td>stock price analysi panda altair practic guid ...</td>\n",
       "    </tr>\n",
       "    <tr>\n",
       "      <th>4</th>\n",
       "      <td>0</td>\n",
       "      <td>optim threshold imbalanc classif handson tutor...</td>\n",
       "    </tr>\n",
       "  </tbody>\n",
       "</table>\n",
       "</div>"
      ],
      "text/plain": [
       "   claps                                               text\n",
       "0      1  ultim guid ace code interview data scientist d...\n",
       "1      0  shakespear versu eminem— who’ better lyricist ...\n",
       "2      0  implement visualttransform pytorch hi guy happ...\n",
       "3      0  stock price analysi panda altair practic guid ...\n",
       "4      0  optim threshold imbalanc classif handson tutor..."
      ]
     },
     "execution_count": 9,
     "metadata": {},
     "output_type": "execute_result"
    }
   ],
   "source": [
    "df.head()"
   ]
  },
  {
   "cell_type": "code",
   "execution_count": 10,
   "id": "2d3afc94-052b-4c12-be61-aed7223b941b",
   "metadata": {},
   "outputs": [],
   "source": [
    "X = df['text']\n",
    "y = df['claps']"
   ]
  },
  {
   "cell_type": "code",
   "execution_count": 11,
   "id": "eddc4b9a-9ed1-40de-859a-c182358402fa",
   "metadata": {},
   "outputs": [],
   "source": [
    "#train-test split\n",
    "X_train, X_test, y_train, y_test=train_test_split(X,\n",
    "                                                 y,\n",
    "                                                 test_size=.2,\n",
    "                                                  stratify=y,\n",
    "                                                 random_state=42)"
   ]
  },
  {
   "cell_type": "markdown",
   "id": "149b8073-5b7b-4d4e-8324-fdb54fd23003",
   "metadata": {},
   "source": [
    "#### Count Vectorizer"
   ]
  },
  {
   "cell_type": "code",
   "execution_count": 12,
   "id": "ccbfdaaa-aaec-4338-8ce3-3fa0c818eaaf",
   "metadata": {},
   "outputs": [],
   "source": [
    "cvec = CountVectorizer(min_df=5, max_df=.98, ngram_range=(1,2))"
   ]
  },
  {
   "cell_type": "code",
   "execution_count": 13,
   "id": "a1ea39f5-74d8-4b4c-8e7e-46f1334c5de6",
   "metadata": {},
   "outputs": [],
   "source": [
    "X_train_cvec = cvec.fit_transform(X_train)\n",
    "X_test_cvec = cvec.transform(X_test)"
   ]
  },
  {
   "cell_type": "code",
   "execution_count": 14,
   "id": "5875370b-4751-41ce-baf1-0be770e660e9",
   "metadata": {},
   "outputs": [],
   "source": [
    "model_list = [\n",
    "    LogisticRegression(),\n",
    "    DecisionTreeClassifier(),\n",
    "    BaggingClassifier(),\n",
    "    RandomForestClassifier(),\n",
    "    AdaBoostClassifier(),\n",
    "    SVC(),\n",
    "    BernoulliNB()\n",
    "]\n",
    "\n",
    "results_list = []\n",
    "\n",
    "for model_obj in model_list:\n",
    "    #instantiate each model \n",
    "    model = model_obj\n",
    "   \n",
    "    #fit the model\n",
    "    model.fit(X_train_cvec, y_train) \n",
    "  \n",
    "    #create a dictionary with scores and evaluation metrics for each model\n",
    "    results_dict = {}    \n",
    "    results_dict['model_name'] = str(model_obj)\n",
    "    results_dict['train_score'] = model.score(X_train_cvec, y_train)\n",
    "    results_dict['test_score'] = model.score(X_test_cvec, y_test)\n",
    "    results_dict['cv_score'] = cross_val_score(model, X_train_cvec, y_train, cv = 5).mean()\n",
    "    results_dict['precision_score'] = precision_score(y_test, model.predict(X_test_cvec))\n",
    "    results_dict['train_f1_score'] = f1_score(y_train, model.predict(X_train_cvec))  \n",
    "    results_dict['test_f1_score'] = f1_score(y_test, model.predict(X_test_cvec))  \n",
    "    \n",
    "    #add the dictionary to the list\n",
    "    results_list.append(results_dict)"
   ]
  },
  {
   "cell_type": "code",
   "execution_count": 15,
   "id": "33025ec4-1e2b-4907-bb28-043dbea1bb23",
   "metadata": {},
   "outputs": [
    {
     "data": {
      "text/html": [
       "<div>\n",
       "<style scoped>\n",
       "    .dataframe tbody tr th:only-of-type {\n",
       "        vertical-align: middle;\n",
       "    }\n",
       "\n",
       "    .dataframe tbody tr th {\n",
       "        vertical-align: top;\n",
       "    }\n",
       "\n",
       "    .dataframe thead th {\n",
       "        text-align: right;\n",
       "    }\n",
       "</style>\n",
       "<table border=\"1\" class=\"dataframe\">\n",
       "  <thead>\n",
       "    <tr style=\"text-align: right;\">\n",
       "      <th></th>\n",
       "      <th>model_name</th>\n",
       "      <th>train_score</th>\n",
       "      <th>test_score</th>\n",
       "      <th>cv_score</th>\n",
       "      <th>precision_score</th>\n",
       "      <th>train_f1_score</th>\n",
       "      <th>test_f1_score</th>\n",
       "    </tr>\n",
       "  </thead>\n",
       "  <tbody>\n",
       "    <tr>\n",
       "      <th>0</th>\n",
       "      <td>LogisticRegression()</td>\n",
       "      <td>1.000000</td>\n",
       "      <td>0.844995</td>\n",
       "      <td>0.845935</td>\n",
       "      <td>0.371622</td>\n",
       "      <td>1.000000</td>\n",
       "      <td>0.276382</td>\n",
       "    </tr>\n",
       "    <tr>\n",
       "      <th>1</th>\n",
       "      <td>DecisionTreeClassifier()</td>\n",
       "      <td>1.000000</td>\n",
       "      <td>0.813778</td>\n",
       "      <td>0.800320</td>\n",
       "      <td>0.266990</td>\n",
       "      <td>1.000000</td>\n",
       "      <td>0.241228</td>\n",
       "    </tr>\n",
       "    <tr>\n",
       "      <th>2</th>\n",
       "      <td>BaggingClassifier()</td>\n",
       "      <td>0.979952</td>\n",
       "      <td>0.872443</td>\n",
       "      <td>0.869753</td>\n",
       "      <td>0.644444</td>\n",
       "      <td>0.919677</td>\n",
       "      <td>0.196610</td>\n",
       "    </tr>\n",
       "    <tr>\n",
       "      <th>3</th>\n",
       "      <td>RandomForestClassifier()</td>\n",
       "      <td>1.000000</td>\n",
       "      <td>0.875135</td>\n",
       "      <td>0.870426</td>\n",
       "      <td>0.846154</td>\n",
       "      <td>1.000000</td>\n",
       "      <td>0.159420</td>\n",
       "    </tr>\n",
       "    <tr>\n",
       "      <th>4</th>\n",
       "      <td>AdaBoostClassifier()</td>\n",
       "      <td>0.876211</td>\n",
       "      <td>0.863832</td>\n",
       "      <td>0.860200</td>\n",
       "      <td>0.476923</td>\n",
       "      <td>0.272152</td>\n",
       "      <td>0.196825</td>\n",
       "    </tr>\n",
       "    <tr>\n",
       "      <th>5</th>\n",
       "      <td>SVC()</td>\n",
       "      <td>0.895721</td>\n",
       "      <td>0.865447</td>\n",
       "      <td>0.865850</td>\n",
       "      <td>0.500000</td>\n",
       "      <td>0.369406</td>\n",
       "      <td>0.007937</td>\n",
       "    </tr>\n",
       "    <tr>\n",
       "      <th>6</th>\n",
       "      <td>BernoulliNB()</td>\n",
       "      <td>0.908907</td>\n",
       "      <td>0.842842</td>\n",
       "      <td>0.818757</td>\n",
       "      <td>0.354167</td>\n",
       "      <td>0.658253</td>\n",
       "      <td>0.258883</td>\n",
       "    </tr>\n",
       "  </tbody>\n",
       "</table>\n",
       "</div>"
      ],
      "text/plain": [
       "                 model_name  train_score  test_score  cv_score  \\\n",
       "0      LogisticRegression()     1.000000    0.844995  0.845935   \n",
       "1  DecisionTreeClassifier()     1.000000    0.813778  0.800320   \n",
       "2       BaggingClassifier()     0.979952    0.872443  0.869753   \n",
       "3  RandomForestClassifier()     1.000000    0.875135  0.870426   \n",
       "4      AdaBoostClassifier()     0.876211    0.863832  0.860200   \n",
       "5                     SVC()     0.895721    0.865447  0.865850   \n",
       "6             BernoulliNB()     0.908907    0.842842  0.818757   \n",
       "\n",
       "   precision_score  train_f1_score  test_f1_score  \n",
       "0         0.371622        1.000000       0.276382  \n",
       "1         0.266990        1.000000       0.241228  \n",
       "2         0.644444        0.919677       0.196610  \n",
       "3         0.846154        1.000000       0.159420  \n",
       "4         0.476923        0.272152       0.196825  \n",
       "5         0.500000        0.369406       0.007937  \n",
       "6         0.354167        0.658253       0.258883  "
      ]
     },
     "execution_count": 15,
     "metadata": {},
     "output_type": "execute_result"
    }
   ],
   "source": [
    "cvec_results = pd.DataFrame(results_list)\n",
    "cvec_results"
   ]
  },
  {
   "cell_type": "markdown",
   "id": "fb7f20a3-5b85-4494-8d20-edfb6ae86f74",
   "metadata": {},
   "source": [
    "With a baseline accuracy of 86.5%, none of these models is predictive. The Random Forest model appears to do *slightly* better than the baseline model, but the F1 score on testing data is so low, it's not worth pursuing."
   ]
  },
  {
   "cell_type": "markdown",
   "id": "c343e1d6-f32e-4c31-b651-d21f8570534a",
   "metadata": {},
   "source": [
    "#### TfidfVectorizer"
   ]
  },
  {
   "cell_type": "code",
   "execution_count": 16,
   "id": "43a604d7-33f1-464f-829c-f50d4dd76423",
   "metadata": {},
   "outputs": [],
   "source": [
    "tvec = TfidfVectorizer(min_df=5, max_df=.98, ngram_range=(1,2))"
   ]
  },
  {
   "cell_type": "code",
   "execution_count": 17,
   "id": "0607c80e-846f-4cc4-8e12-6b3234f31295",
   "metadata": {},
   "outputs": [],
   "source": [
    "X_train_tvec = tvec.fit_transform(X_train)\n",
    "X_test_tvec = tvec.transform(X_test)"
   ]
  },
  {
   "cell_type": "code",
   "execution_count": 18,
   "id": "9f070026-c6e4-4807-8bf5-b71bdbde7bb7",
   "metadata": {},
   "outputs": [],
   "source": [
    "model_list = [\n",
    "    LogisticRegression(),\n",
    "    DecisionTreeClassifier(),\n",
    "    BaggingClassifier(),\n",
    "    RandomForestClassifier(),\n",
    "    AdaBoostClassifier(),\n",
    "    SVC(),\n",
    "    BernoulliNB()\n",
    "]\n",
    "\n",
    "results_list = []\n",
    "\n",
    "for model_obj in model_list:\n",
    "    #instantiate each model \n",
    "    model = model_obj\n",
    "   \n",
    "    #fit the model\n",
    "    model.fit(X_train_tvec, y_train) \n",
    "  \n",
    "    #create a dictionary with scores and evaluation metrics for each model\n",
    "    results_dict = {}    \n",
    "    results_dict['model_name'] = str(model_obj)\n",
    "    results_dict['train_score'] = model.score(X_train_tvec, y_train)\n",
    "    results_dict['test_score'] = model.score(X_test_tvec, y_test)\n",
    "    results_dict['cv_score'] = cross_val_score(model, X_train_tvec, y_train, cv = 5).mean()\n",
    "    results_dict['precision_score'] = precision_score(y_test, model.predict(X_test_tvec))\n",
    "    results_dict['train_f1_score'] = f1_score(y_train, model.predict(X_train_tvec))  \n",
    "    results_dict['test_f1_score'] = f1_score(y_test, model.predict(X_test_tvec))  \n",
    "    \n",
    "    #add the dictionary to the list\n",
    "    results_list.append(results_dict)"
   ]
  },
  {
   "cell_type": "code",
   "execution_count": 19,
   "id": "e8328f02-2173-471d-adb0-4d72ef78c748",
   "metadata": {},
   "outputs": [
    {
     "data": {
      "text/html": [
       "<div>\n",
       "<style scoped>\n",
       "    .dataframe tbody tr th:only-of-type {\n",
       "        vertical-align: middle;\n",
       "    }\n",
       "\n",
       "    .dataframe tbody tr th {\n",
       "        vertical-align: top;\n",
       "    }\n",
       "\n",
       "    .dataframe thead th {\n",
       "        text-align: right;\n",
       "    }\n",
       "</style>\n",
       "<table border=\"1\" class=\"dataframe\">\n",
       "  <thead>\n",
       "    <tr style=\"text-align: right;\">\n",
       "      <th></th>\n",
       "      <th>model_name</th>\n",
       "      <th>train_score</th>\n",
       "      <th>test_score</th>\n",
       "      <th>cv_score</th>\n",
       "      <th>precision_score</th>\n",
       "      <th>train_f1_score</th>\n",
       "      <th>test_f1_score</th>\n",
       "    </tr>\n",
       "  </thead>\n",
       "  <tbody>\n",
       "    <tr>\n",
       "      <th>0</th>\n",
       "      <td>LogisticRegression()</td>\n",
       "      <td>0.869887</td>\n",
       "      <td>0.867600</td>\n",
       "      <td>0.867061</td>\n",
       "      <td>0.750000</td>\n",
       "      <td>0.069297</td>\n",
       "      <td>0.046512</td>\n",
       "    </tr>\n",
       "    <tr>\n",
       "      <th>1</th>\n",
       "      <td>DecisionTreeClassifier()</td>\n",
       "      <td>1.000000</td>\n",
       "      <td>0.815931</td>\n",
       "      <td>0.806915</td>\n",
       "      <td>0.285047</td>\n",
       "      <td>1.000000</td>\n",
       "      <td>0.262931</td>\n",
       "    </tr>\n",
       "    <tr>\n",
       "      <th>2</th>\n",
       "      <td>BaggingClassifier()</td>\n",
       "      <td>0.979279</td>\n",
       "      <td>0.877826</td>\n",
       "      <td>0.870156</td>\n",
       "      <td>0.828571</td>\n",
       "      <td>0.916757</td>\n",
       "      <td>0.203509</td>\n",
       "    </tr>\n",
       "    <tr>\n",
       "      <th>3</th>\n",
       "      <td>RandomForestClassifier()</td>\n",
       "      <td>1.000000</td>\n",
       "      <td>0.876211</td>\n",
       "      <td>0.871233</td>\n",
       "      <td>0.884615</td>\n",
       "      <td>1.000000</td>\n",
       "      <td>0.166667</td>\n",
       "    </tr>\n",
       "    <tr>\n",
       "      <th>4</th>\n",
       "      <td>AdaBoostClassifier()</td>\n",
       "      <td>0.879440</td>\n",
       "      <td>0.864909</td>\n",
       "      <td>0.860334</td>\n",
       "      <td>0.493671</td>\n",
       "      <td>0.310769</td>\n",
       "      <td>0.237082</td>\n",
       "    </tr>\n",
       "    <tr>\n",
       "      <th>5</th>\n",
       "      <td>SVC()</td>\n",
       "      <td>0.922632</td>\n",
       "      <td>0.869214</td>\n",
       "      <td>0.867196</td>\n",
       "      <td>0.818182</td>\n",
       "      <td>0.597621</td>\n",
       "      <td>0.068966</td>\n",
       "    </tr>\n",
       "    <tr>\n",
       "      <th>6</th>\n",
       "      <td>BernoulliNB()</td>\n",
       "      <td>0.908907</td>\n",
       "      <td>0.842842</td>\n",
       "      <td>0.818757</td>\n",
       "      <td>0.354167</td>\n",
       "      <td>0.658253</td>\n",
       "      <td>0.258883</td>\n",
       "    </tr>\n",
       "  </tbody>\n",
       "</table>\n",
       "</div>"
      ],
      "text/plain": [
       "                 model_name  train_score  test_score  cv_score  \\\n",
       "0      LogisticRegression()     0.869887    0.867600  0.867061   \n",
       "1  DecisionTreeClassifier()     1.000000    0.815931  0.806915   \n",
       "2       BaggingClassifier()     0.979279    0.877826  0.870156   \n",
       "3  RandomForestClassifier()     1.000000    0.876211  0.871233   \n",
       "4      AdaBoostClassifier()     0.879440    0.864909  0.860334   \n",
       "5                     SVC()     0.922632    0.869214  0.867196   \n",
       "6             BernoulliNB()     0.908907    0.842842  0.818757   \n",
       "\n",
       "   precision_score  train_f1_score  test_f1_score  \n",
       "0         0.750000        0.069297       0.046512  \n",
       "1         0.285047        1.000000       0.262931  \n",
       "2         0.828571        0.916757       0.203509  \n",
       "3         0.884615        1.000000       0.166667  \n",
       "4         0.493671        0.310769       0.237082  \n",
       "5         0.818182        0.597621       0.068966  \n",
       "6         0.354167        0.658253       0.258883  "
      ]
     },
     "execution_count": 19,
     "metadata": {},
     "output_type": "execute_result"
    }
   ],
   "source": [
    "tvec_results = pd.DataFrame(results_list)\n",
    "tvec_results"
   ]
  },
  {
   "cell_type": "markdown",
   "id": "118cee0c-b826-4906-b28a-7063e508c943",
   "metadata": {},
   "source": [
    "Same conclusion for TFIDF. With a baseline accuracy of 86.5%, none of these models is predictive. The Random Forest and Bagging Classifiers appear to do *slightly* better than the baseline model, but the F1 score on testing data is so low, it's not worth pursuing."
   ]
  },
  {
   "cell_type": "code",
   "execution_count": null,
   "id": "cf967fa7-6cab-4f45-809c-ad5f3d2b2e60",
   "metadata": {},
   "outputs": [],
   "source": []
  }
 ],
 "metadata": {
  "kernelspec": {
   "display_name": "Python 3",
   "language": "python",
   "name": "python3"
  },
  "language_info": {
   "codemirror_mode": {
    "name": "ipython",
    "version": 3
   },
   "file_extension": ".py",
   "mimetype": "text/x-python",
   "name": "python",
   "nbconvert_exporter": "python",
   "pygments_lexer": "ipython3",
   "version": "3.9.4"
  }
 },
 "nbformat": 4,
 "nbformat_minor": 5
}
