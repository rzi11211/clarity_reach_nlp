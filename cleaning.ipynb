{
 "cells": [
  {
   "cell_type": "markdown",
   "id": "63ba5891-678f-456c-9370-38db29d58384",
   "metadata": {},
   "source": [
    "# Cleaning Data Scraped From TowardsDataScience.com"
   ]
  },
  {
   "cell_type": "code",
   "execution_count": 1,
   "id": "a35499cd-8ce6-41f4-9f25-1a75bfcea826",
   "metadata": {
    "tags": []
   },
   "outputs": [],
   "source": [
    "import pandas as pd\n",
    "import numpy as np\n",
    "import os\n",
    "\n",
    "import warnings\n",
    "warnings.filterwarnings('ignore')"
   ]
  },
  {
   "cell_type": "markdown",
   "id": "92e0cca8-0123-4e10-8c9c-b99a1ca3af3d",
   "metadata": {},
   "source": [
    "#### Pull In Scraped Data"
   ]
  },
  {
   "cell_type": "code",
   "execution_count": 2,
   "id": "f2e89b01-637c-446a-981d-d787b2379f78",
   "metadata": {},
   "outputs": [],
   "source": [
    "raw_files = os.listdir('data/raw/')"
   ]
  },
  {
   "cell_type": "code",
   "execution_count": 3,
   "id": "e945c6f4-d1a9-4575-9522-0978d980f818",
   "metadata": {},
   "outputs": [],
   "source": [
    "try:\n",
    "    raw_files.remove('.ipynb_checkpoints')\n",
    "except:\n",
    "    pass"
   ]
  },
  {
   "cell_type": "markdown",
   "id": "6129a2b7-4711-4951-99cc-147af46fb099",
   "metadata": {},
   "source": [
    "#### Clean Scraped Data"
   ]
  },
  {
   "cell_type": "code",
   "execution_count": 4,
   "id": "04fefa36-92c9-4f2f-8e0d-1cb2e16af26b",
   "metadata": {},
   "outputs": [],
   "source": [
    "# a function to convert K claps to an integer\n",
    "def replace_K(string_in): \n",
    "    if string_in.count('K') >0:\n",
    "        return int((float(string_in.replace('K', '')) * 1000))\n",
    "    else: \n",
    "        return int(string_in)"
   ]
  },
  {
   "cell_type": "markdown",
   "id": "50ffe33d-ce5c-4539-81a5-dadd8d4c33e5",
   "metadata": {},
   "source": [
    "#### Convert to DataFrame"
   ]
  },
  {
   "cell_type": "code",
   "execution_count": 5,
   "id": "7e576f2a-6659-46a4-a04a-0d01970b87eb",
   "metadata": {},
   "outputs": [],
   "source": [
    "def process_raw(file):\n",
    "    df = pd.read_csv(file, sep='\\t')\n",
    "    # convert K claps to integer\n",
    "    df['claps'] = df['claps'].apply(replace_K)\n",
    "    return df\n"
   ]
  },
  {
   "cell_type": "code",
   "execution_count": 6,
   "id": "cd57f72a-fb8e-40ca-b936-77545c9d7e05",
   "metadata": {},
   "outputs": [],
   "source": [
    "df_list = [process_raw(f'./data/raw/{file}') for file in raw_files]"
   ]
  },
  {
   "cell_type": "markdown",
   "id": "c773ea6a-aade-410b-983e-45917efe7610",
   "metadata": {},
   "source": [
    "#### Concatenate Files Into One Large DataFrame"
   ]
  },
  {
   "cell_type": "code",
   "execution_count": 7,
   "id": "1f036976-3110-4d06-9f63-0e11ed583fcc",
   "metadata": {},
   "outputs": [],
   "source": [
    "df = pd.concat(df_list, ignore_index=True)"
   ]
  },
  {
   "cell_type": "markdown",
   "id": "0e7cf500-0c70-43d6-826a-382506162da7",
   "metadata": {},
   "source": [
    "#### Save Cleaned File"
   ]
  },
  {
   "cell_type": "code",
   "execution_count": 8,
   "id": "9d27416d-2f7d-4d55-a806-3e3db69ca72f",
   "metadata": {},
   "outputs": [],
   "source": [
    "output_filename = 'data/cleaned_with_outliers.csv'"
   ]
  },
  {
   "cell_type": "code",
   "execution_count": 9,
   "id": "58b97024-df2f-4c85-9a14-cc483e08596e",
   "metadata": {},
   "outputs": [],
   "source": [
    "df.to_csv(output_filename, index=False)"
   ]
  },
  {
   "cell_type": "markdown",
   "id": "cde47c97-0c06-4d9a-93cc-ed72f2a51476",
   "metadata": {},
   "source": [
    "#### Create Log Claps"
   ]
  },
  {
   "cell_type": "code",
   "execution_count": 10,
   "id": "016d0efc-5167-4fc4-96eb-46b33f842a8f",
   "metadata": {},
   "outputs": [],
   "source": [
    "#prior to removing the outliers, create a column of log_claps, and save a version of the df that will use log_claps as the target\n",
    "\n",
    "df['log_claps'] = np.log(df['claps'])"
   ]
  },
  {
   "cell_type": "code",
   "execution_count": 11,
   "id": "f3cdd56a-ae42-4e34-a095-b12aa2ecd819",
   "metadata": {},
   "outputs": [],
   "source": [
    "output_filename = 'data/cleaned_with_log_claps.csv'\n",
    "df.to_csv(output_filename, index=False)"
   ]
  },
  {
   "cell_type": "code",
   "execution_count": 12,
   "id": "bc2ec1d6-1233-4bc0-8fb5-7f721aa715b1",
   "metadata": {
    "tags": []
   },
   "outputs": [],
   "source": [
    "#drop the log_claps column before removing outliers \n",
    "df.drop(columns = 'log_claps', inplace=True)"
   ]
  },
  {
   "cell_type": "markdown",
   "id": "22a8e568-1b53-4748-8328-616722d4705b",
   "metadata": {},
   "source": [
    "#### Remove Outliers"
   ]
  },
  {
   "cell_type": "code",
   "execution_count": 13,
   "id": "b4d680d0-1da2-4995-b04b-c9bb18f4234c",
   "metadata": {},
   "outputs": [],
   "source": [
    "num_columns = ['number_paragraphs', 'reading_time (mins)', 'number_sections', 'claps']"
   ]
  },
  {
   "cell_type": "code",
   "execution_count": 14,
   "id": "d391ff09-3130-4783-816c-74f9f4b995cf",
   "metadata": {
    "tags": []
   },
   "outputs": [],
   "source": [
    "for col in num_columns:\n",
    "    df = df[(df[col] <= ((df[col].mean())+(3*(df[col].std()))))]"
   ]
  },
  {
   "cell_type": "code",
   "execution_count": 15,
   "id": "30ceda88-1bfc-410e-bc92-d31b295faba1",
   "metadata": {},
   "outputs": [],
   "source": [
    "output_filename = 'data/cleaned_no_outliers.csv'\n",
    "df.to_csv(output_filename, index=False)"
   ]
  }
 ],
 "metadata": {
  "kernelspec": {
   "display_name": "Python 3",
   "language": "python",
   "name": "python3"
  },
  "language_info": {
   "codemirror_mode": {
    "name": "ipython",
    "version": 3
   },
   "file_extension": ".py",
   "mimetype": "text/x-python",
   "name": "python",
   "nbconvert_exporter": "python",
   "pygments_lexer": "ipython3",
   "version": "3.9.4"
  }
 },
 "nbformat": 4,
 "nbformat_minor": 5
}
