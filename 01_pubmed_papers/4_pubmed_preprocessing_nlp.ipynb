{
 "cells": [
  {
   "cell_type": "markdown",
   "id": "666e94a9-af75-44a4-98e1-6248270bc81b",
   "metadata": {},
   "source": [
    "# PubMed Papers: Preprocessing Cleaned Data for NLP Analysis"
   ]
  },
  {
   "cell_type": "code",
   "execution_count": 14,
   "id": "a35499cd-8ce6-41f4-9f25-1a75bfcea826",
   "metadata": {},
   "outputs": [],
   "source": [
    "import pandas as pd\n",
    "import numpy as np\n",
    "\n",
    "\n",
    "#nlp\n",
    "import nltk\n",
    "from nltk.tokenize import word_tokenize, RegexpTokenizer, WhitespaceTokenizer\n",
    "from nltk.corpus import stopwords\n",
    "from nltk.stem import WordNetLemmatizer, PorterStemmer\n",
    "from sklearn.feature_extraction import text\n",
    "import re\n",
    "\n",
    "import warnings\n",
    "warnings.filterwarnings('ignore')"
   ]
  },
  {
   "cell_type": "code",
   "execution_count": 15,
   "id": "f0f23a4f-4531-43b8-b420-1789d14d62dc",
   "metadata": {},
   "outputs": [],
   "source": [
    "#nltk.download('stopwords')"
   ]
  },
  {
   "cell_type": "code",
   "execution_count": 16,
   "id": "9d27416d-2f7d-4d55-a806-3e3db69ca72f",
   "metadata": {},
   "outputs": [],
   "source": [
    "#pull in the cleaned data with no outliers\n",
    "filename = '../data/pubmed_cleaned_no_outliers.csv'"
   ]
  },
  {
   "cell_type": "code",
   "execution_count": 17,
   "id": "0b94663d-3bd1-4c42-86f9-be1608783fb9",
   "metadata": {},
   "outputs": [],
   "source": [
    "df = pd.read_csv(filename).drop(columns = 'Unnamed: 0')"
   ]
  },
  {
   "cell_type": "code",
   "execution_count": 18,
   "id": "8bcf46cc-874a-4112-82a2-b45b471c2176",
   "metadata": {},
   "outputs": [],
   "source": [
    "df.set_index('pmid', inplace=True)"
   ]
  },
  {
   "cell_type": "code",
   "execution_count": 19,
   "id": "61bb72ae-7d13-400e-9a21-f4500e6bb500",
   "metadata": {},
   "outputs": [
    {
     "data": {
      "text/plain": [
       "Index(['title', 'text', 'date', 'citations', 'len_text', 'len_title',\n",
       "       'days_live'],\n",
       "      dtype='object')"
      ]
     },
     "execution_count": 19,
     "metadata": {},
     "output_type": "execute_result"
    }
   ],
   "source": [
    "df.columns"
   ]
  },
  {
   "cell_type": "code",
   "execution_count": 20,
   "id": "46c93a01-4f16-4c33-acac-21d5b0636141",
   "metadata": {},
   "outputs": [
    {
     "name": "stdout",
     "output_type": "stream",
     "text": [
      "<class 'pandas.core.frame.DataFrame'>\n",
      "Int64Index: 2809 entries, 22627698 to 33291844\n",
      "Data columns (total 7 columns):\n",
      " #   Column     Non-Null Count  Dtype \n",
      "---  ------     --------------  ----- \n",
      " 0   title      2809 non-null   object\n",
      " 1   text       2809 non-null   object\n",
      " 2   date       2809 non-null   object\n",
      " 3   citations  2809 non-null   int64 \n",
      " 4   len_text   2809 non-null   int64 \n",
      " 5   len_title  2809 non-null   int64 \n",
      " 6   days_live  2809 non-null   int64 \n",
      "dtypes: int64(4), object(3)\n",
      "memory usage: 175.6+ KB\n"
     ]
    }
   ],
   "source": [
    "df.info()"
   ]
  },
  {
   "cell_type": "code",
   "execution_count": 22,
   "id": "9ca263a9-64f8-4db9-ab38-5839e1669fca",
   "metadata": {},
   "outputs": [
    {
     "data": {
      "text/plain": [
       "\"Applying Fourier-transform infrared (FTIR) spectroscopy (or related technologies such as Raman spectroscopy) to biological questions (defined as biospectroscopy) is relatively novel. Potential fields of application include cytological, histological and microbial studies. This potentially provides a rapid and non-destructive approach to clinical diagnosis. Its increase in application is primarily a consequence of developing instrumentation along with computational techniques. In the coming decades, biospectroscopy is likely to become a common tool in the screening or diagnostic laboratory, or even in the general practitioner's clinic. Despite many advances in the biological application of FTIR spectroscopy, there remain challenges in sample preparation, instrumentation and data handling. We focus on the latter, where we identify in the reviewed literature, the existence of four main study goals: Pattern Finding; Biomarker Identification; Imaging; and, Diagnosis. These can be grouped into two frameworks: Exploratory; and, Diagnostic. Existing techniques in Quality Control, Pre-processing, Feature Extraction, Clustering, and Classification are critically reviewed. An aspect that is often visited is that of method choice. Based on the state-of-art, we claim that in the near future research should be focused on the challenges of dataset standardization; building information systems; development and validation of data analysis tools; and, technology transfer. A diagnostic case study using a real-world dataset is presented as an illustration. Many of the methods presented in this review are Machine Learning and Statistical techniques that are extendable to other forms of computer-based biomedical analysis, including mass spectrometry and magnetic resonance.\""
      ]
     },
     "execution_count": 22,
     "metadata": {},
     "output_type": "execute_result"
    }
   ],
   "source": [
    "df['text'][22627698]"
   ]
  },
  {
   "cell_type": "markdown",
   "id": "c62206fd-069c-487b-90bd-a157795790b4",
   "metadata": {},
   "source": [
    "#### Combine Title & Abstract"
   ]
  },
  {
   "cell_type": "code",
   "execution_count": 23,
   "id": "0b2b1a7c-a42d-4e6c-a3d5-8124648f9214",
   "metadata": {},
   "outputs": [],
   "source": [
    "df['fulltext'] = (df['title'] + ' ' + df['text'])"
   ]
  },
  {
   "cell_type": "code",
   "execution_count": 24,
   "id": "ab731200-97cc-42cc-993f-c7e4f74a1414",
   "metadata": {},
   "outputs": [],
   "source": [
    "df = df.drop(columns = ['title', 'text'])"
   ]
  },
  {
   "cell_type": "code",
   "execution_count": 25,
   "id": "4b67e50b-d421-4d17-a6f4-308b2dd671af",
   "metadata": {},
   "outputs": [
    {
     "data": {
      "text/html": [
       "<div>\n",
       "<style scoped>\n",
       "    .dataframe tbody tr th:only-of-type {\n",
       "        vertical-align: middle;\n",
       "    }\n",
       "\n",
       "    .dataframe tbody tr th {\n",
       "        vertical-align: top;\n",
       "    }\n",
       "\n",
       "    .dataframe thead th {\n",
       "        text-align: right;\n",
       "    }\n",
       "</style>\n",
       "<table border=\"1\" class=\"dataframe\">\n",
       "  <thead>\n",
       "    <tr style=\"text-align: right;\">\n",
       "      <th></th>\n",
       "      <th>date</th>\n",
       "      <th>citations</th>\n",
       "      <th>len_text</th>\n",
       "      <th>len_title</th>\n",
       "      <th>days_live</th>\n",
       "      <th>fulltext</th>\n",
       "    </tr>\n",
       "    <tr>\n",
       "      <th>pmid</th>\n",
       "      <th></th>\n",
       "      <th></th>\n",
       "      <th></th>\n",
       "      <th></th>\n",
       "      <th></th>\n",
       "      <th></th>\n",
       "    </tr>\n",
       "  </thead>\n",
       "  <tbody>\n",
       "    <tr>\n",
       "      <th>22627698</th>\n",
       "      <td>2012-07-01</td>\n",
       "      <td>35</td>\n",
       "      <td>1780</td>\n",
       "      <td>165</td>\n",
       "      <td>3233</td>\n",
       "      <td>Extracting biological information with computa...</td>\n",
       "    </tr>\n",
       "    <tr>\n",
       "      <th>22952238</th>\n",
       "      <td>2012-09-01</td>\n",
       "      <td>4</td>\n",
       "      <td>793</td>\n",
       "      <td>81</td>\n",
       "      <td>3171</td>\n",
       "      <td>Uncovering transcription factor modules using ...</td>\n",
       "    </tr>\n",
       "    <tr>\n",
       "      <th>22944687</th>\n",
       "      <td>2012-09-01</td>\n",
       "      <td>19</td>\n",
       "      <td>1698</td>\n",
       "      <td>64</td>\n",
       "      <td>3171</td>\n",
       "      <td>Understanding the substrate specificity of con...</td>\n",
       "    </tr>\n",
       "    <tr>\n",
       "      <th>22075226</th>\n",
       "      <td>2012-09-01</td>\n",
       "      <td>12</td>\n",
       "      <td>1024</td>\n",
       "      <td>42</td>\n",
       "      <td>3171</td>\n",
       "      <td>Membrane protein structural bioinformatics Des...</td>\n",
       "    </tr>\n",
       "    <tr>\n",
       "      <th>23012584</th>\n",
       "      <td>2012-09-01</td>\n",
       "      <td>10</td>\n",
       "      <td>935</td>\n",
       "      <td>60</td>\n",
       "      <td>3171</td>\n",
       "      <td>The future of medical diagnostics: large digit...</td>\n",
       "    </tr>\n",
       "  </tbody>\n",
       "</table>\n",
       "</div>"
      ],
      "text/plain": [
       "                date  citations  len_text  len_title  days_live  \\\n",
       "pmid                                                              \n",
       "22627698  2012-07-01         35      1780        165       3233   \n",
       "22952238  2012-09-01          4       793         81       3171   \n",
       "22944687  2012-09-01         19      1698         64       3171   \n",
       "22075226  2012-09-01         12      1024         42       3171   \n",
       "23012584  2012-09-01         10       935         60       3171   \n",
       "\n",
       "                                                   fulltext  \n",
       "pmid                                                         \n",
       "22627698  Extracting biological information with computa...  \n",
       "22952238  Uncovering transcription factor modules using ...  \n",
       "22944687  Understanding the substrate specificity of con...  \n",
       "22075226  Membrane protein structural bioinformatics Des...  \n",
       "23012584  The future of medical diagnostics: large digit...  "
      ]
     },
     "execution_count": 25,
     "metadata": {},
     "output_type": "execute_result"
    }
   ],
   "source": [
    "df.head()"
   ]
  },
  {
   "cell_type": "markdown",
   "id": "937496c2-d505-410b-812f-c87267fe5980",
   "metadata": {},
   "source": [
    "#### Remove Punctuation & Make Lowercase"
   ]
  },
  {
   "cell_type": "code",
   "execution_count": 26,
   "id": "e5674397-d28f-4b02-9f60-449b3fc694cb",
   "metadata": {},
   "outputs": [],
   "source": [
    "df['fulltext'] = df['fulltext'].map(lambda x: re.sub(\"[''·,\\.!?'-]\", '', x).lower())"
   ]
  },
  {
   "cell_type": "markdown",
   "id": "7c3686eb-7b30-4ea4-bb15-44e08170c71f",
   "metadata": {},
   "source": [
    "#### Tokenize Text"
   ]
  },
  {
   "cell_type": "code",
   "execution_count": 27,
   "id": "cdbeaffe-fc1f-4eee-9e9e-50d2bfe8b9e5",
   "metadata": {},
   "outputs": [],
   "source": [
    "w_tokenizer = WhitespaceTokenizer()"
   ]
  },
  {
   "cell_type": "code",
   "execution_count": 28,
   "id": "592faa51-3daa-4f09-86f6-e3e6765c98d4",
   "metadata": {},
   "outputs": [],
   "source": [
    "df['fulltext'] = df['fulltext'].apply(lambda x: w_tokenizer.tokenize(x))"
   ]
  },
  {
   "cell_type": "code",
   "execution_count": 29,
   "id": "50eaae0c-a00c-4f10-9f84-6e0cc82524d4",
   "metadata": {},
   "outputs": [
    {
     "data": {
      "text/html": [
       "<div>\n",
       "<style scoped>\n",
       "    .dataframe tbody tr th:only-of-type {\n",
       "        vertical-align: middle;\n",
       "    }\n",
       "\n",
       "    .dataframe tbody tr th {\n",
       "        vertical-align: top;\n",
       "    }\n",
       "\n",
       "    .dataframe thead th {\n",
       "        text-align: right;\n",
       "    }\n",
       "</style>\n",
       "<table border=\"1\" class=\"dataframe\">\n",
       "  <thead>\n",
       "    <tr style=\"text-align: right;\">\n",
       "      <th></th>\n",
       "      <th>date</th>\n",
       "      <th>citations</th>\n",
       "      <th>len_text</th>\n",
       "      <th>len_title</th>\n",
       "      <th>days_live</th>\n",
       "      <th>fulltext</th>\n",
       "    </tr>\n",
       "    <tr>\n",
       "      <th>pmid</th>\n",
       "      <th></th>\n",
       "      <th></th>\n",
       "      <th></th>\n",
       "      <th></th>\n",
       "      <th></th>\n",
       "      <th></th>\n",
       "    </tr>\n",
       "  </thead>\n",
       "  <tbody>\n",
       "    <tr>\n",
       "      <th>22627698</th>\n",
       "      <td>2012-07-01</td>\n",
       "      <td>35</td>\n",
       "      <td>1780</td>\n",
       "      <td>165</td>\n",
       "      <td>3233</td>\n",
       "      <td>[extracting, biological, information, with, co...</td>\n",
       "    </tr>\n",
       "    <tr>\n",
       "      <th>22952238</th>\n",
       "      <td>2012-09-01</td>\n",
       "      <td>4</td>\n",
       "      <td>793</td>\n",
       "      <td>81</td>\n",
       "      <td>3171</td>\n",
       "      <td>[uncovering, transcription, factor, modules, u...</td>\n",
       "    </tr>\n",
       "    <tr>\n",
       "      <th>22944687</th>\n",
       "      <td>2012-09-01</td>\n",
       "      <td>19</td>\n",
       "      <td>1698</td>\n",
       "      <td>64</td>\n",
       "      <td>3171</td>\n",
       "      <td>[understanding, the, substrate, specificity, o...</td>\n",
       "    </tr>\n",
       "    <tr>\n",
       "      <th>22075226</th>\n",
       "      <td>2012-09-01</td>\n",
       "      <td>12</td>\n",
       "      <td>1024</td>\n",
       "      <td>42</td>\n",
       "      <td>3171</td>\n",
       "      <td>[membrane, protein, structural, bioinformatics...</td>\n",
       "    </tr>\n",
       "    <tr>\n",
       "      <th>23012584</th>\n",
       "      <td>2012-09-01</td>\n",
       "      <td>10</td>\n",
       "      <td>935</td>\n",
       "      <td>60</td>\n",
       "      <td>3171</td>\n",
       "      <td>[the, future, of, medical, diagnostics:, large...</td>\n",
       "    </tr>\n",
       "  </tbody>\n",
       "</table>\n",
       "</div>"
      ],
      "text/plain": [
       "                date  citations  len_text  len_title  days_live  \\\n",
       "pmid                                                              \n",
       "22627698  2012-07-01         35      1780        165       3233   \n",
       "22952238  2012-09-01          4       793         81       3171   \n",
       "22944687  2012-09-01         19      1698         64       3171   \n",
       "22075226  2012-09-01         12      1024         42       3171   \n",
       "23012584  2012-09-01         10       935         60       3171   \n",
       "\n",
       "                                                   fulltext  \n",
       "pmid                                                         \n",
       "22627698  [extracting, biological, information, with, co...  \n",
       "22952238  [uncovering, transcription, factor, modules, u...  \n",
       "22944687  [understanding, the, substrate, specificity, o...  \n",
       "22075226  [membrane, protein, structural, bioinformatics...  \n",
       "23012584  [the, future, of, medical, diagnostics:, large...  "
      ]
     },
     "execution_count": 29,
     "metadata": {},
     "output_type": "execute_result"
    }
   ],
   "source": [
    "df.head()"
   ]
  },
  {
   "cell_type": "markdown",
   "id": "e7182226-6ff5-4e35-84b7-b7d0eb721b64",
   "metadata": {},
   "source": [
    "#### Remove Special Characters "
   ]
  },
  {
   "cell_type": "code",
   "execution_count": 30,
   "id": "7362c27a-02b7-4040-a862-2045362e4449",
   "metadata": {},
   "outputs": [],
   "source": [
    "df['fulltext'] = df['fulltext'].replace('[^\\w]','',regex=True)"
   ]
  },
  {
   "cell_type": "code",
   "execution_count": 31,
   "id": "374fb15f-e7b9-4069-9df5-fa7469579144",
   "metadata": {},
   "outputs": [
    {
     "data": {
      "text/html": [
       "<div>\n",
       "<style scoped>\n",
       "    .dataframe tbody tr th:only-of-type {\n",
       "        vertical-align: middle;\n",
       "    }\n",
       "\n",
       "    .dataframe tbody tr th {\n",
       "        vertical-align: top;\n",
       "    }\n",
       "\n",
       "    .dataframe thead th {\n",
       "        text-align: right;\n",
       "    }\n",
       "</style>\n",
       "<table border=\"1\" class=\"dataframe\">\n",
       "  <thead>\n",
       "    <tr style=\"text-align: right;\">\n",
       "      <th></th>\n",
       "      <th>date</th>\n",
       "      <th>citations</th>\n",
       "      <th>len_text</th>\n",
       "      <th>len_title</th>\n",
       "      <th>days_live</th>\n",
       "      <th>fulltext</th>\n",
       "    </tr>\n",
       "    <tr>\n",
       "      <th>pmid</th>\n",
       "      <th></th>\n",
       "      <th></th>\n",
       "      <th></th>\n",
       "      <th></th>\n",
       "      <th></th>\n",
       "      <th></th>\n",
       "    </tr>\n",
       "  </thead>\n",
       "  <tbody>\n",
       "    <tr>\n",
       "      <th>22627698</th>\n",
       "      <td>2012-07-01</td>\n",
       "      <td>35</td>\n",
       "      <td>1780</td>\n",
       "      <td>165</td>\n",
       "      <td>3233</td>\n",
       "      <td>[extracting, biological, information, with, co...</td>\n",
       "    </tr>\n",
       "    <tr>\n",
       "      <th>22952238</th>\n",
       "      <td>2012-09-01</td>\n",
       "      <td>4</td>\n",
       "      <td>793</td>\n",
       "      <td>81</td>\n",
       "      <td>3171</td>\n",
       "      <td>[uncovering, transcription, factor, modules, u...</td>\n",
       "    </tr>\n",
       "    <tr>\n",
       "      <th>22944687</th>\n",
       "      <td>2012-09-01</td>\n",
       "      <td>19</td>\n",
       "      <td>1698</td>\n",
       "      <td>64</td>\n",
       "      <td>3171</td>\n",
       "      <td>[understanding, the, substrate, specificity, o...</td>\n",
       "    </tr>\n",
       "    <tr>\n",
       "      <th>22075226</th>\n",
       "      <td>2012-09-01</td>\n",
       "      <td>12</td>\n",
       "      <td>1024</td>\n",
       "      <td>42</td>\n",
       "      <td>3171</td>\n",
       "      <td>[membrane, protein, structural, bioinformatics...</td>\n",
       "    </tr>\n",
       "    <tr>\n",
       "      <th>23012584</th>\n",
       "      <td>2012-09-01</td>\n",
       "      <td>10</td>\n",
       "      <td>935</td>\n",
       "      <td>60</td>\n",
       "      <td>3171</td>\n",
       "      <td>[the, future, of, medical, diagnostics:, large...</td>\n",
       "    </tr>\n",
       "  </tbody>\n",
       "</table>\n",
       "</div>"
      ],
      "text/plain": [
       "                date  citations  len_text  len_title  days_live  \\\n",
       "pmid                                                              \n",
       "22627698  2012-07-01         35      1780        165       3233   \n",
       "22952238  2012-09-01          4       793         81       3171   \n",
       "22944687  2012-09-01         19      1698         64       3171   \n",
       "22075226  2012-09-01         12      1024         42       3171   \n",
       "23012584  2012-09-01         10       935         60       3171   \n",
       "\n",
       "                                                   fulltext  \n",
       "pmid                                                         \n",
       "22627698  [extracting, biological, information, with, co...  \n",
       "22952238  [uncovering, transcription, factor, modules, u...  \n",
       "22944687  [understanding, the, substrate, specificity, o...  \n",
       "22075226  [membrane, protein, structural, bioinformatics...  \n",
       "23012584  [the, future, of, medical, diagnostics:, large...  "
      ]
     },
     "execution_count": 31,
     "metadata": {},
     "output_type": "execute_result"
    }
   ],
   "source": [
    "df.head()"
   ]
  },
  {
   "cell_type": "markdown",
   "id": "0e4df2c7-60a4-4911-9a6d-76f77ad7b956",
   "metadata": {},
   "source": [
    "#### Remove English Stopwords"
   ]
  },
  {
   "cell_type": "code",
   "execution_count": 32,
   "id": "7c2540d2-0172-4b8a-a4c9-e98457551e48",
   "metadata": {},
   "outputs": [],
   "source": [
    "stop_words = set(stopwords.words('english')) "
   ]
  },
  {
   "cell_type": "code",
   "execution_count": 33,
   "id": "4eee163a-6763-40c3-828a-70172ee4dfe7",
   "metadata": {},
   "outputs": [],
   "source": [
    "def remove_stopwords(text):\n",
    "    return [word for word in text if word not in stop_words]"
   ]
  },
  {
   "cell_type": "code",
   "execution_count": 34,
   "id": "f9a1670a-3184-49c0-ac94-537823126cc2",
   "metadata": {},
   "outputs": [],
   "source": [
    "df['fulltext'] = df['fulltext'].apply(remove_stopwords)"
   ]
  },
  {
   "cell_type": "markdown",
   "id": "78faeec4-d4c9-409c-9e4c-000e1518b0ed",
   "metadata": {},
   "source": [
    "#### Lemmatize"
   ]
  },
  {
   "cell_type": "markdown",
   "id": "07c555c5-6121-4de3-a8e0-a3e8cd79a634",
   "metadata": {},
   "source": [
    "Uncomment this section to save the file with lemmatized text."
   ]
  },
  {
   "cell_type": "code",
   "execution_count": 35,
   "id": "b21b0638-00d6-4833-b34f-5affa5c27ef1",
   "metadata": {},
   "outputs": [],
   "source": [
    "# def lemmatize_text(text):\n",
    "#     lemmatizer = WordNetLemmatizer()\n",
    "#     return [lemmatizer.lemmatize(w) for w in text]"
   ]
  },
  {
   "cell_type": "code",
   "execution_count": 36,
   "id": "0b347ecf-8e2f-40fa-a4d3-691371c3fe2b",
   "metadata": {},
   "outputs": [],
   "source": [
    "# for col in text_cols:\n",
    "#     df[col] = df[col].apply(lemmatize_text)"
   ]
  },
  {
   "cell_type": "code",
   "execution_count": 37,
   "id": "966c2338-4133-4417-8c08-855fbf89f3ae",
   "metadata": {},
   "outputs": [],
   "source": [
    "# save as lemmatized\n",
    "# output_filename = 'data/nlp_nltk_lemmatized_preproc.csv'"
   ]
  },
  {
   "cell_type": "markdown",
   "id": "192c55a6-17d9-4384-849c-f5f87d8f74e9",
   "metadata": {},
   "source": [
    "#### Porter Stemmer\n",
    "Uncomment this section to save the file with stemmed text."
   ]
  },
  {
   "cell_type": "code",
   "execution_count": 38,
   "id": "14aa5049-b809-4bf0-82a3-3b374dea30e8",
   "metadata": {},
   "outputs": [],
   "source": [
    "def stem_text(text):\n",
    "    stemmer = PorterStemmer()\n",
    "    return [stemmer.stem(w) for w in text]"
   ]
  },
  {
   "cell_type": "code",
   "execution_count": 39,
   "id": "a0a7b5b2-28d1-4b09-bcce-00590b33d17a",
   "metadata": {},
   "outputs": [],
   "source": [
    "df['fulltext'] = df['fulltext'].apply(stem_text)"
   ]
  },
  {
   "cell_type": "code",
   "execution_count": 40,
   "id": "c2acfd54-3f0a-4a02-9355-d54523ea980d",
   "metadata": {},
   "outputs": [],
   "source": [
    "output_filename = '../data/pubmed_nltk_stemmed_preproc.csv'"
   ]
  },
  {
   "cell_type": "code",
   "execution_count": 42,
   "id": "c1beaf7c-03f7-4e0f-a347-b62f2ff6b63d",
   "metadata": {},
   "outputs": [
    {
     "name": "stdout",
     "output_type": "stream",
     "text": [
      "['extract', 'biolog', 'inform', 'comput', 'analysi', 'fouriertransform', 'infrar', '(ftir)', 'biospectroscopi', 'datasets:', 'current', 'practic', 'futur', 'perspect', 'appli', 'fouriertransform', 'infrar', '(ftir)', 'spectroscopi', '(or', 'relat', 'technolog', 'raman', 'spectroscopy)', 'biolog', 'question', '(defin', 'biospectroscopy)', 'rel', 'novel', 'potenti', 'field', 'applic', 'includ', 'cytolog', 'histolog', 'microbi', 'studi', 'potenti', 'provid', 'rapid', 'nondestruct', 'approach', 'clinic', 'diagnosi', 'increas', 'applic', 'primarili', 'consequ', 'develop', 'instrument', 'along', 'comput', 'techniqu', 'come', 'decad', 'biospectroscopi', 'like', 'becom', 'common', 'tool', 'screen', 'diagnost', 'laboratori', 'even', 'gener', 'practition', 'clinic', 'despit', 'mani', 'advanc', 'biolog', 'applic', 'ftir', 'spectroscopi', 'remain', 'challeng', 'sampl', 'prepar', 'instrument', 'data', 'handl', 'focu', 'latter', 'identifi', 'review', 'literatur', 'exist', 'four', 'main', 'studi', 'goals:', 'pattern', 'finding;', 'biomark', 'identification;', 'imaging;', 'diagnosi', 'group', 'two', 'frameworks:', 'exploratory;', 'diagnost', 'exist', 'techniqu', 'qualiti', 'control', 'preprocess', 'featur', 'extract', 'cluster', 'classif', 'critic', 'review', 'aspect', 'often', 'visit', 'method', 'choic', 'base', 'stateofart', 'claim', 'near', 'futur', 'research', 'focus', 'challeng', 'dataset', 'standardization;', 'build', 'inform', 'systems;', 'develop', 'valid', 'data', 'analysi', 'tools;', 'technolog', 'transfer', 'diagnost', 'case', 'studi', 'use', 'realworld', 'dataset', 'present', 'illustr', 'mani', 'method', 'present', 'review', 'machin', 'learn', 'statist', 'techniqu', 'extend', 'form', 'computerbas', 'biomed', 'analysi', 'includ', 'mass', 'spectrometri', 'magnet', 'reson']\n"
     ]
    }
   ],
   "source": [
    "print(df['fulltext'][22627698])"
   ]
  },
  {
   "cell_type": "markdown",
   "id": "ff3ca878-d504-4f20-afa8-5e6289f923d1",
   "metadata": {},
   "source": [
    "#### No Stemming\n",
    "Uncomment this section to save the file without any lemmatization or stemmed. "
   ]
  },
  {
   "cell_type": "code",
   "execution_count": null,
   "id": "eda7cb00-c46a-45bf-8b8b-7d253365b323",
   "metadata": {},
   "outputs": [],
   "source": [
    "# #output filename for no lemmatizing or stemming\n",
    "# output_filename = '../data/pubmed_nltk_nostem_preproc_strings.csv'"
   ]
  },
  {
   "cell_type": "code",
   "execution_count": null,
   "id": "53a1e8ea-2e03-4325-bf30-840e29926d48",
   "metadata": {},
   "outputs": [],
   "source": [
    "# df['fulltext'] = [' '.join(x) for x in df['fulltext']]"
   ]
  },
  {
   "cell_type": "markdown",
   "id": "a12949c6-9df1-4036-890e-4a0403ae36cf",
   "metadata": {},
   "source": [
    "#### Save Pre-Processed File"
   ]
  },
  {
   "cell_type": "code",
   "execution_count": 57,
   "id": "20f48739-e30c-4bd1-a59e-176dd8fbc8c3",
   "metadata": {},
   "outputs": [
    {
     "data": {
      "text/html": [
       "<div>\n",
       "<style scoped>\n",
       "    .dataframe tbody tr th:only-of-type {\n",
       "        vertical-align: middle;\n",
       "    }\n",
       "\n",
       "    .dataframe tbody tr th {\n",
       "        vertical-align: top;\n",
       "    }\n",
       "\n",
       "    .dataframe thead th {\n",
       "        text-align: right;\n",
       "    }\n",
       "</style>\n",
       "<table border=\"1\" class=\"dataframe\">\n",
       "  <thead>\n",
       "    <tr style=\"text-align: right;\">\n",
       "      <th></th>\n",
       "      <th>date</th>\n",
       "      <th>citations</th>\n",
       "      <th>len_text</th>\n",
       "      <th>len_title</th>\n",
       "      <th>days_live</th>\n",
       "      <th>fulltext</th>\n",
       "    </tr>\n",
       "    <tr>\n",
       "      <th>pmid</th>\n",
       "      <th></th>\n",
       "      <th></th>\n",
       "      <th></th>\n",
       "      <th></th>\n",
       "      <th></th>\n",
       "      <th></th>\n",
       "    </tr>\n",
       "  </thead>\n",
       "  <tbody>\n",
       "    <tr>\n",
       "      <th>22627698</th>\n",
       "      <td>2012-07-01</td>\n",
       "      <td>35</td>\n",
       "      <td>1780</td>\n",
       "      <td>165</td>\n",
       "      <td>3233</td>\n",
       "      <td>[extract, biolog, inform, comput, analysi, fou...</td>\n",
       "    </tr>\n",
       "    <tr>\n",
       "      <th>22952238</th>\n",
       "      <td>2012-09-01</td>\n",
       "      <td>4</td>\n",
       "      <td>793</td>\n",
       "      <td>81</td>\n",
       "      <td>3171</td>\n",
       "      <td>[uncov, transcript, factor, modul, use, one, t...</td>\n",
       "    </tr>\n",
       "    <tr>\n",
       "      <th>22944687</th>\n",
       "      <td>2012-09-01</td>\n",
       "      <td>19</td>\n",
       "      <td>1698</td>\n",
       "      <td>64</td>\n",
       "      <td>3171</td>\n",
       "      <td>[understand, substrat, specif, convent, calpai...</td>\n",
       "    </tr>\n",
       "    <tr>\n",
       "      <th>22075226</th>\n",
       "      <td>2012-09-01</td>\n",
       "      <td>12</td>\n",
       "      <td>1024</td>\n",
       "      <td>42</td>\n",
       "      <td>3171</td>\n",
       "      <td>[membran, protein, structur, bioinformat, desp...</td>\n",
       "    </tr>\n",
       "    <tr>\n",
       "      <th>23012584</th>\n",
       "      <td>2012-09-01</td>\n",
       "      <td>10</td>\n",
       "      <td>935</td>\n",
       "      <td>60</td>\n",
       "      <td>3171</td>\n",
       "      <td>[futur, medic, diagnostics:, larg, digit, data...</td>\n",
       "    </tr>\n",
       "  </tbody>\n",
       "</table>\n",
       "</div>"
      ],
      "text/plain": [
       "                date  citations  len_text  len_title  days_live  \\\n",
       "pmid                                                              \n",
       "22627698  2012-07-01         35      1780        165       3233   \n",
       "22952238  2012-09-01          4       793         81       3171   \n",
       "22944687  2012-09-01         19      1698         64       3171   \n",
       "22075226  2012-09-01         12      1024         42       3171   \n",
       "23012584  2012-09-01         10       935         60       3171   \n",
       "\n",
       "                                                   fulltext  \n",
       "pmid                                                         \n",
       "22627698  [extract, biolog, inform, comput, analysi, fou...  \n",
       "22952238  [uncov, transcript, factor, modul, use, one, t...  \n",
       "22944687  [understand, substrat, specif, convent, calpai...  \n",
       "22075226  [membran, protein, structur, bioinformat, desp...  \n",
       "23012584  [futur, medic, diagnostics:, larg, digit, data...  "
      ]
     },
     "execution_count": 57,
     "metadata": {},
     "output_type": "execute_result"
    }
   ],
   "source": [
    "df.head()"
   ]
  },
  {
   "cell_type": "code",
   "execution_count": 58,
   "id": "55ecb3ae-e407-4469-a3bc-f0f0a2080191",
   "metadata": {},
   "outputs": [],
   "source": [
    "df.to_csv(output_filename)"
   ]
  },
  {
   "cell_type": "code",
   "execution_count": null,
   "id": "07ca9e36-6bba-49bb-9ce5-e69d24b88d1d",
   "metadata": {},
   "outputs": [],
   "source": []
  }
 ],
 "metadata": {
  "kernelspec": {
   "display_name": "Python 3",
   "language": "python",
   "name": "python3"
  },
  "language_info": {
   "codemirror_mode": {
    "name": "ipython",
    "version": 3
   },
   "file_extension": ".py",
   "mimetype": "text/x-python",
   "name": "python",
   "nbconvert_exporter": "python",
   "pygments_lexer": "ipython3",
   "version": "3.9.4"
  }
 },
 "nbformat": 4,
 "nbformat_minor": 5
}
