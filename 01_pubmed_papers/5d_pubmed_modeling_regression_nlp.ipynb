{
 "cells": [
  {
   "cell_type": "markdown",
   "id": "526b72a3-f892-46a3-a368-8bc4feccbc81",
   "metadata": {},
   "source": [
    "# PubMed Papers: Bag of Words Frequency Models\n",
    "### Regression Analysis \n",
    "#### *Attempt to model the relationship between the words in the corpus with the target variable: citations.*"
   ]
  },
  {
   "cell_type": "code",
   "execution_count": 8,
   "id": "a35499cd-8ce6-41f4-9f25-1a75bfcea826",
   "metadata": {},
   "outputs": [],
   "source": [
    "import pandas as pd\n",
    "import numpy as np\n",
    "import matplotlib.pyplot as plt\n",
    "import seaborn as sns\n",
    "\n",
    "#nlp\n",
    "import nltk\n",
    "from sklearn.feature_extraction import text\n",
    "from sklearn.feature_extraction.text import CountVectorizer, TfidfVectorizer\n",
    "import re\n",
    "\n",
    "#modeling\n",
    "from sklearn.preprocessing import StandardScaler\n",
    "from sklearn.model_selection import train_test_split, GridSearchCV, cross_val_score\n",
    "from sklearn.pipeline import Pipeline\n",
    "from sklearn.metrics import mean_squared_error\n",
    "from sklearn.neural_network import MLPRegressor\n",
    "from sklearn.linear_model import LinearRegression\n",
    "from sklearn.tree import DecisionTreeRegressor\n",
    "from sklearn.ensemble import BaggingRegressor, RandomForestRegressor, AdaBoostRegressor\n",
    "from sklearn.svm import SVR\n",
    "\n",
    "import warnings\n",
    "warnings.filterwarnings('ignore')"
   ]
  },
  {
   "cell_type": "code",
   "execution_count": 17,
   "id": "9d27416d-2f7d-4d55-a806-3e3db69ca72f",
   "metadata": {},
   "outputs": [],
   "source": [
    "filename = '../data/pubmed_nltk_stemmed_preproc.csv'"
   ]
  },
  {
   "cell_type": "markdown",
   "id": "ae677a0c-cf1c-4cbf-a6a2-abbf07a7b704",
   "metadata": {},
   "source": [
    "### NLP Modeling"
   ]
  },
  {
   "cell_type": "code",
   "execution_count": 23,
   "id": "54f0a901-f2a2-45e8-b9d7-85283837767f",
   "metadata": {},
   "outputs": [],
   "source": [
    "df = pd.read_csv(filename).set_index('pmid')"
   ]
  },
  {
   "cell_type": "code",
   "execution_count": 24,
   "id": "f9e6bee5-c231-4225-a460-2fe899a4f3ed",
   "metadata": {},
   "outputs": [
    {
     "data": {
      "text/html": [
       "<div>\n",
       "<style scoped>\n",
       "    .dataframe tbody tr th:only-of-type {\n",
       "        vertical-align: middle;\n",
       "    }\n",
       "\n",
       "    .dataframe tbody tr th {\n",
       "        vertical-align: top;\n",
       "    }\n",
       "\n",
       "    .dataframe thead th {\n",
       "        text-align: right;\n",
       "    }\n",
       "</style>\n",
       "<table border=\"1\" class=\"dataframe\">\n",
       "  <thead>\n",
       "    <tr style=\"text-align: right;\">\n",
       "      <th></th>\n",
       "      <th>date</th>\n",
       "      <th>citations</th>\n",
       "      <th>len_text</th>\n",
       "      <th>len_title</th>\n",
       "      <th>days_live</th>\n",
       "      <th>fulltext</th>\n",
       "    </tr>\n",
       "    <tr>\n",
       "      <th>pmid</th>\n",
       "      <th></th>\n",
       "      <th></th>\n",
       "      <th></th>\n",
       "      <th></th>\n",
       "      <th></th>\n",
       "      <th></th>\n",
       "    </tr>\n",
       "  </thead>\n",
       "  <tbody>\n",
       "    <tr>\n",
       "      <th>22627698</th>\n",
       "      <td>2012-07-01</td>\n",
       "      <td>35</td>\n",
       "      <td>1780</td>\n",
       "      <td>165</td>\n",
       "      <td>3233</td>\n",
       "      <td>['extract', 'biolog', 'inform', 'comput', 'ana...</td>\n",
       "    </tr>\n",
       "    <tr>\n",
       "      <th>22952238</th>\n",
       "      <td>2012-09-01</td>\n",
       "      <td>4</td>\n",
       "      <td>793</td>\n",
       "      <td>81</td>\n",
       "      <td>3171</td>\n",
       "      <td>['uncov', 'transcript', 'factor', 'modul', 'us...</td>\n",
       "    </tr>\n",
       "    <tr>\n",
       "      <th>22944687</th>\n",
       "      <td>2012-09-01</td>\n",
       "      <td>19</td>\n",
       "      <td>1698</td>\n",
       "      <td>64</td>\n",
       "      <td>3171</td>\n",
       "      <td>['understand', 'substrat', 'specif', 'convent'...</td>\n",
       "    </tr>\n",
       "    <tr>\n",
       "      <th>22075226</th>\n",
       "      <td>2012-09-01</td>\n",
       "      <td>12</td>\n",
       "      <td>1024</td>\n",
       "      <td>42</td>\n",
       "      <td>3171</td>\n",
       "      <td>['membran', 'protein', 'structur', 'bioinforma...</td>\n",
       "    </tr>\n",
       "    <tr>\n",
       "      <th>23012584</th>\n",
       "      <td>2012-09-01</td>\n",
       "      <td>10</td>\n",
       "      <td>935</td>\n",
       "      <td>60</td>\n",
       "      <td>3171</td>\n",
       "      <td>['futur', 'medic', 'diagnostics:', 'larg', 'di...</td>\n",
       "    </tr>\n",
       "  </tbody>\n",
       "</table>\n",
       "</div>"
      ],
      "text/plain": [
       "                date  citations  len_text  len_title  days_live  \\\n",
       "pmid                                                              \n",
       "22627698  2012-07-01         35      1780        165       3233   \n",
       "22952238  2012-09-01          4       793         81       3171   \n",
       "22944687  2012-09-01         19      1698         64       3171   \n",
       "22075226  2012-09-01         12      1024         42       3171   \n",
       "23012584  2012-09-01         10       935         60       3171   \n",
       "\n",
       "                                                   fulltext  \n",
       "pmid                                                         \n",
       "22627698  ['extract', 'biolog', 'inform', 'comput', 'ana...  \n",
       "22952238  ['uncov', 'transcript', 'factor', 'modul', 'us...  \n",
       "22944687  ['understand', 'substrat', 'specif', 'convent'...  \n",
       "22075226  ['membran', 'protein', 'structur', 'bioinforma...  \n",
       "23012584  ['futur', 'medic', 'diagnostics:', 'larg', 'di...  "
      ]
     },
     "execution_count": 24,
     "metadata": {},
     "output_type": "execute_result"
    }
   ],
   "source": [
    "df.head()"
   ]
  },
  {
   "cell_type": "code",
   "execution_count": 26,
   "id": "2d3afc94-052b-4c12-be61-aed7223b941b",
   "metadata": {},
   "outputs": [],
   "source": [
    "X = df['fulltext']\n",
    "y = df['citations']"
   ]
  },
  {
   "cell_type": "code",
   "execution_count": 27,
   "id": "e344be14-6d17-4170-963c-adbf13d7cd58",
   "metadata": {},
   "outputs": [],
   "source": [
    "cvec = CountVectorizer(ngram_range=(1,2), max_features=10_000)\n"
   ]
  },
  {
   "cell_type": "code",
   "execution_count": 28,
   "id": "d292311f-0799-4961-8f9d-144852582d70",
   "metadata": {},
   "outputs": [],
   "source": [
    "# convert training data to dataframe\n",
    "X_cvec = pd.DataFrame(cvec.fit_transform(X).todense(),\n",
    "                         columns=cvec.get_feature_names())"
   ]
  },
  {
   "cell_type": "code",
   "execution_count": 29,
   "id": "bdd4d04b-f5e7-4922-b173-0c35494453b0",
   "metadata": {},
   "outputs": [
    {
     "data": {
      "image/png": "[encoded data removed]",
      "text/plain": [
       "<Figure size 720x720 with 1 Axes>"
      ]
     },
     "metadata": {
      "needs_background": "light"
     },
     "output_type": "display_data"
    }
   ],
   "source": [
    "# plot top occurring words/phrases\n",
    "plt.figure(figsize = (10,10))\n",
    "X_cvec.sum().sort_values(ascending = False).head(20).plot(kind='barh', color='orangered');\n",
    "figurefont = {'fontname' : 'Futura'}\n",
    "plt.xticks(**figurefont, fontsize = 14);\n",
    "plt.yticks(**figurefont, fontsize = 14);\n",
    "plt.title('Top-Occurring Words & Phrases in Machine Learning PubMed Abstracts',**figurefont, fontsize = 20);\n",
    "plt.savefig('../figures/pubmed_top_occurring_stemmed.jpg',  bbox_inches = \"tight\")"
   ]
  },
  {
   "cell_type": "markdown",
   "id": "c6221951-a5d7-4313-a082-a53e9380f9f7",
   "metadata": {},
   "source": [
    "### Frequency Model"
   ]
  },
  {
   "cell_type": "markdown",
   "id": "149b8073-5b7b-4d4e-8324-fdb54fd23003",
   "metadata": {},
   "source": [
    "#### with Count Vectorization"
   ]
  },
  {
   "cell_type": "code",
   "execution_count": 34,
   "id": "ccbfdaaa-aaec-4338-8ce3-3fa0c818eaaf",
   "metadata": {},
   "outputs": [],
   "source": [
    "cvec = CountVectorizer(min_df=5, max_df=.98, ngram_range=(1,2))"
   ]
  },
  {
   "cell_type": "code",
   "execution_count": 35,
   "id": "a1ea39f5-74d8-4b4c-8e7e-46f1334c5de6",
   "metadata": {},
   "outputs": [],
   "source": [
    "X_train_cvec = cvec.fit_transform(X_train)\n",
    "X_test_cvec = cvec.transform(X_test)"
   ]
  },
  {
   "cell_type": "code",
   "execution_count": 36,
   "id": "5875370b-4751-41ce-baf1-0be770e660e9",
   "metadata": {},
   "outputs": [],
   "source": [
    "model_list = [\n",
    "    LinearRegression(),\n",
    "    DecisionTreeRegressor(),\n",
    "    BaggingRegressor(),\n",
    "    RandomForestRegressor(),\n",
    "    AdaBoostRegressor(),\n",
    "]\n",
    "\n",
    "results_list = []\n",
    "\n",
    "for model_obj in model_list:\n",
    "    #instantiate each model \n",
    "    model = model_obj\n",
    "   \n",
    "    #fit the model\n",
    "    model.fit(X_train_cvec, y_train) \n",
    "  \n",
    "    #create a dictionary with scores and evaluation metrics for each model\n",
    "    results_dict = {}    \n",
    "    results_dict['model_name'] = str(model_obj)\n",
    "    results_dict['train_score'] = model.score(X_train_cvec, y_train)\n",
    "    results_dict['test_score'] = model.score(X_test_cvec, y_test)\n",
    "    results_dict['cv_score'] = cross_val_score(model, X_train_cvec, y_train, cv = 5).mean()\n",
    "    results_dict['train_RMSE'] = np.sqrt(mean_squared_error(y_train, model.predict(X_train_cvec)))\n",
    "    results_dict['test_RMSE'] = np.sqrt(mean_squared_error(y_test, model.predict(X_test_cvec))) \n",
    "    \n",
    "    #add the dictionary to the list\n",
    "    results_list.append(results_dict)"
   ]
  },
  {
   "cell_type": "code",
   "execution_count": 37,
   "id": "33025ec4-1e2b-4907-bb28-043dbea1bb23",
   "metadata": {},
   "outputs": [
    {
     "data": {
      "text/html": [
       "<div>\n",
       "<style scoped>\n",
       "    .dataframe tbody tr th:only-of-type {\n",
       "        vertical-align: middle;\n",
       "    }\n",
       "\n",
       "    .dataframe tbody tr th {\n",
       "        vertical-align: top;\n",
       "    }\n",
       "\n",
       "    .dataframe thead th {\n",
       "        text-align: right;\n",
       "    }\n",
       "</style>\n",
       "<table border=\"1\" class=\"dataframe\">\n",
       "  <thead>\n",
       "    <tr style=\"text-align: right;\">\n",
       "      <th></th>\n",
       "      <th>model_name</th>\n",
       "      <th>train_score</th>\n",
       "      <th>test_score</th>\n",
       "      <th>cv_score</th>\n",
       "      <th>train_RMSE</th>\n",
       "      <th>test_RMSE</th>\n",
       "    </tr>\n",
       "  </thead>\n",
       "  <tbody>\n",
       "    <tr>\n",
       "      <th>0</th>\n",
       "      <td>LinearRegression()</td>\n",
       "      <td>1.000000</td>\n",
       "      <td>-0.788389</td>\n",
       "      <td>-0.591634</td>\n",
       "      <td>0.000022</td>\n",
       "      <td>19.044473</td>\n",
       "    </tr>\n",
       "    <tr>\n",
       "      <th>1</th>\n",
       "      <td>DecisionTreeRegressor()</td>\n",
       "      <td>1.000000</td>\n",
       "      <td>-0.917163</td>\n",
       "      <td>-1.030818</td>\n",
       "      <td>0.000000</td>\n",
       "      <td>19.718211</td>\n",
       "    </tr>\n",
       "    <tr>\n",
       "      <th>2</th>\n",
       "      <td>BaggingRegressor()</td>\n",
       "      <td>0.805466</td>\n",
       "      <td>-0.224587</td>\n",
       "      <td>-0.200192</td>\n",
       "      <td>6.243488</td>\n",
       "      <td>15.759152</td>\n",
       "    </tr>\n",
       "    <tr>\n",
       "      <th>3</th>\n",
       "      <td>RandomForestRegressor()</td>\n",
       "      <td>0.853338</td>\n",
       "      <td>-0.080345</td>\n",
       "      <td>-0.089244</td>\n",
       "      <td>5.421115</td>\n",
       "      <td>14.801961</td>\n",
       "    </tr>\n",
       "    <tr>\n",
       "      <th>4</th>\n",
       "      <td>AdaBoostRegressor()</td>\n",
       "      <td>-1.403641</td>\n",
       "      <td>-1.448894</td>\n",
       "      <td>-2.039519</td>\n",
       "      <td>21.946458</td>\n",
       "      <td>22.285533</td>\n",
       "    </tr>\n",
       "  </tbody>\n",
       "</table>\n",
       "</div>"
      ],
      "text/plain": [
       "                model_name  train_score  test_score  cv_score  train_RMSE  \\\n",
       "0       LinearRegression()     1.000000   -0.788389 -0.591634    0.000022   \n",
       "1  DecisionTreeRegressor()     1.000000   -0.917163 -1.030818    0.000000   \n",
       "2       BaggingRegressor()     0.805466   -0.224587 -0.200192    6.243488   \n",
       "3  RandomForestRegressor()     0.853338   -0.080345 -0.089244    5.421115   \n",
       "4      AdaBoostRegressor()    -1.403641   -1.448894 -2.039519   21.946458   \n",
       "\n",
       "   test_RMSE  \n",
       "0  19.044473  \n",
       "1  19.718211  \n",
       "2  15.759152  \n",
       "3  14.801961  \n",
       "4  22.285533  "
      ]
     },
     "execution_count": 37,
     "metadata": {},
     "output_type": "execute_result"
    }
   ],
   "source": [
    "results = pd.DataFrame(results_list)\n",
    "results"
   ]
  },
  {
   "cell_type": "markdown",
   "id": "c343e1d6-f32e-4c31-b651-d21f8570534a",
   "metadata": {},
   "source": [
    "#### with TfidfVectorization"
   ]
  },
  {
   "cell_type": "code",
   "execution_count": 38,
   "id": "43a604d7-33f1-464f-829c-f50d4dd76423",
   "metadata": {},
   "outputs": [],
   "source": [
    "tvec = TfidfVectorizer(min_df=5, max_df=.98, ngram_range=(1,2))"
   ]
  },
  {
   "cell_type": "code",
   "execution_count": 39,
   "id": "0607c80e-846f-4cc4-8e12-6b3234f31295",
   "metadata": {},
   "outputs": [],
   "source": [
    "X_train_tvec = tvec.fit_transform(X_train)\n",
    "X_test_tvec = tvec.transform(X_test)"
   ]
  },
  {
   "cell_type": "code",
   "execution_count": 40,
   "id": "9f070026-c6e4-4807-8bf5-b71bdbde7bb7",
   "metadata": {},
   "outputs": [],
   "source": [
    "model_list = [\n",
    "    LinearRegression(),\n",
    "    DecisionTreeRegressor(),\n",
    "    BaggingRegressor(),\n",
    "    RandomForestRegressor(),\n",
    "    AdaBoostRegressor(),\n",
    "    SVR()\n",
    "]\n",
    "\n",
    "results_list = []\n",
    "\n",
    "for model_obj in model_list:\n",
    "    #instantiate each model \n",
    "    model = model_obj\n",
    "   \n",
    "    #fit the model\n",
    "    model.fit(X_train_tvec, y_train) \n",
    "  \n",
    "    #create a dictionary with scores and evaluation metrics for each model\n",
    "    results_dict = {}    \n",
    "    results_dict['model_name'] = str(model_obj)\n",
    "    results_dict['train_score'] = model.score(X_train_tvec, y_train)\n",
    "    results_dict['test_score'] = model.score(X_test_tvec, y_test)\n",
    "    results_dict['cv_score'] = cross_val_score(model, X_train_tvec, y_train, cv = 5).mean()\n",
    "    results_dict['train_RMSE'] = np.sqrt(mean_squared_error(y_train, model.predict(X_train_tvec)))\n",
    "    results_dict['test_RMSE'] = np.sqrt(mean_squared_error(y_test, model.predict(X_test_tvec))) \n",
    "    \n",
    "    #add the dictionary to the list\n",
    "    results_list.append(results_dict)"
   ]
  },
  {
   "cell_type": "code",
   "execution_count": 41,
   "id": "e8328f02-2173-471d-adb0-4d72ef78c748",
   "metadata": {
    "tags": []
   },
   "outputs": [
    {
     "data": {
      "text/html": [
       "<div>\n",
       "<style scoped>\n",
       "    .dataframe tbody tr th:only-of-type {\n",
       "        vertical-align: middle;\n",
       "    }\n",
       "\n",
       "    .dataframe tbody tr th {\n",
       "        vertical-align: top;\n",
       "    }\n",
       "\n",
       "    .dataframe thead th {\n",
       "        text-align: right;\n",
       "    }\n",
       "</style>\n",
       "<table border=\"1\" class=\"dataframe\">\n",
       "  <thead>\n",
       "    <tr style=\"text-align: right;\">\n",
       "      <th></th>\n",
       "      <th>model_name</th>\n",
       "      <th>train_score</th>\n",
       "      <th>test_score</th>\n",
       "      <th>cv_score</th>\n",
       "      <th>train_RMSE</th>\n",
       "      <th>test_RMSE</th>\n",
       "    </tr>\n",
       "  </thead>\n",
       "  <tbody>\n",
       "    <tr>\n",
       "      <th>0</th>\n",
       "      <td>LinearRegression()</td>\n",
       "      <td>1.000000</td>\n",
       "      <td>-0.440166</td>\n",
       "      <td>-0.279784</td>\n",
       "      <td>0.000005</td>\n",
       "      <td>17.090089</td>\n",
       "    </tr>\n",
       "    <tr>\n",
       "      <th>1</th>\n",
       "      <td>DecisionTreeRegressor()</td>\n",
       "      <td>1.000000</td>\n",
       "      <td>-0.701266</td>\n",
       "      <td>-1.048059</td>\n",
       "      <td>0.000000</td>\n",
       "      <td>18.574798</td>\n",
       "    </tr>\n",
       "    <tr>\n",
       "      <th>2</th>\n",
       "      <td>BaggingRegressor()</td>\n",
       "      <td>0.796298</td>\n",
       "      <td>-0.147523</td>\n",
       "      <td>-0.136018</td>\n",
       "      <td>6.388925</td>\n",
       "      <td>15.255226</td>\n",
       "    </tr>\n",
       "    <tr>\n",
       "      <th>3</th>\n",
       "      <td>RandomForestRegressor()</td>\n",
       "      <td>0.858955</td>\n",
       "      <td>-0.060179</td>\n",
       "      <td>-0.027909</td>\n",
       "      <td>5.316296</td>\n",
       "      <td>14.663161</td>\n",
       "    </tr>\n",
       "    <tr>\n",
       "      <th>4</th>\n",
       "      <td>AdaBoostRegressor()</td>\n",
       "      <td>-2.406761</td>\n",
       "      <td>-2.382546</td>\n",
       "      <td>-1.813329</td>\n",
       "      <td>26.127656</td>\n",
       "      <td>26.191470</td>\n",
       "    </tr>\n",
       "    <tr>\n",
       "      <th>5</th>\n",
       "      <td>SVR()</td>\n",
       "      <td>-0.057124</td>\n",
       "      <td>-0.141823</td>\n",
       "      <td>-0.118579</td>\n",
       "      <td>14.554342</td>\n",
       "      <td>15.217292</td>\n",
       "    </tr>\n",
       "  </tbody>\n",
       "</table>\n",
       "</div>"
      ],
      "text/plain": [
       "                model_name  train_score  test_score  cv_score  train_RMSE  \\\n",
       "0       LinearRegression()     1.000000   -0.440166 -0.279784    0.000005   \n",
       "1  DecisionTreeRegressor()     1.000000   -0.701266 -1.048059    0.000000   \n",
       "2       BaggingRegressor()     0.796298   -0.147523 -0.136018    6.388925   \n",
       "3  RandomForestRegressor()     0.858955   -0.060179 -0.027909    5.316296   \n",
       "4      AdaBoostRegressor()    -2.406761   -2.382546 -1.813329   26.127656   \n",
       "5                    SVR()    -0.057124   -0.141823 -0.118579   14.554342   \n",
       "\n",
       "   test_RMSE  \n",
       "0  17.090089  \n",
       "1  18.574798  \n",
       "2  15.255226  \n",
       "3  14.663161  \n",
       "4  26.191470  \n",
       "5  15.217292  "
      ]
     },
     "execution_count": 41,
     "metadata": {},
     "output_type": "execute_result"
    }
   ],
   "source": [
    "results = pd.DataFrame(results_list)\n",
    "results"
   ]
  },
  {
   "cell_type": "markdown",
   "id": "c9f37e5a-5656-44b7-8227-b670df0879fe",
   "metadata": {},
   "source": [
    "### Sentiment Analysis"
   ]
  },
  {
   "cell_type": "code",
   "execution_count": 42,
   "id": "e80e23da-bc7d-4ae7-8196-ad4fff3dbec8",
   "metadata": {},
   "outputs": [
    {
     "ename": "NameError",
     "evalue": "name 'SentimentIntensityAnalyzer' is not defined",
     "output_type": "error",
     "traceback": [
      "\u001b[0;31m---------------------------------------------------------------------------\u001b[0m",
      "\u001b[0;31mNameError\u001b[0m                                 Traceback (most recent call last)",
      "\u001b[0;32m<ipython-input-42-895697f650f5>\u001b[0m in \u001b[0;36m<module>\u001b[0;34m\u001b[0m\n\u001b[1;32m      1\u001b[0m \u001b[0;31m# Instantiate Sentiment Intensity Analyzer\u001b[0m\u001b[0;34m\u001b[0m\u001b[0;34m\u001b[0m\u001b[0;34m\u001b[0m\u001b[0m\n\u001b[0;32m----> 2\u001b[0;31m \u001b[0msentiment\u001b[0m \u001b[0;34m=\u001b[0m \u001b[0mSentimentIntensityAnalyzer\u001b[0m\u001b[0;34m(\u001b[0m\u001b[0;34m)\u001b[0m\u001b[0;34m\u001b[0m\u001b[0;34m\u001b[0m\u001b[0m\n\u001b[0m",
      "\u001b[0;31mNameError\u001b[0m: name 'SentimentIntensityAnalyzer' is not defined"
     ]
    }
   ],
   "source": [
    "# Instantiate Sentiment Intensity Analyzer\n",
    "sentiment = SentimentIntensityAnalyzer()"
   ]
  },
  {
   "cell_type": "code",
   "execution_count": null,
   "id": "5f292beb-1a75-4966-8b2a-497246fc73d7",
   "metadata": {},
   "outputs": [],
   "source": [
    "#test\n",
    "sentiment.polarity_scores(df['text'][8648])"
   ]
  },
  {
   "cell_type": "code",
   "execution_count": null,
   "id": "e94c4b58-be5d-462f-9bf6-e92ab61343c9",
   "metadata": {},
   "outputs": [],
   "source": [
    "polarity_list = []\n",
    "for x in df['text']:\n",
    "    dict_keys =  sentiment.polarity_scores(x).keys()\n",
    "    dict_values = sentiment.polarity_scores(x).values()\n",
    "    polarity_dict = dict(zip(dict_keys,dict_values))\n",
    "    polarity_list.append(polarity_dict)"
   ]
  },
  {
   "cell_type": "code",
   "execution_count": null,
   "id": "5a1065c2-c94e-4266-9bba-1b1b2a8f47c7",
   "metadata": {},
   "outputs": [],
   "source": [
    "polarity_df = pd.DataFrame(polarity_list)"
   ]
  },
  {
   "cell_type": "code",
   "execution_count": null,
   "id": "a4669d1f-8f27-47bd-81cb-d861bf89fb63",
   "metadata": {},
   "outputs": [],
   "source": [
    "polarity_df.value_counts()"
   ]
  },
  {
   "cell_type": "code",
   "execution_count": null,
   "id": "f66a15a4-5a32-48c4-b167-fc39009d1724",
   "metadata": {},
   "outputs": [],
   "source": [
    "# Add the target variable to the sentiment polarity df\n",
    "polarity_df['claps'] = df['claps']"
   ]
  },
  {
   "cell_type": "code",
   "execution_count": null,
   "id": "049aba6d-7aec-4ad2-b6e0-b5b3a7f2f001",
   "metadata": {},
   "outputs": [],
   "source": [
    "polarity_df"
   ]
  },
  {
   "cell_type": "code",
   "execution_count": null,
   "id": "c28dd81b-a35e-4a4b-bca5-f724360708ce",
   "metadata": {},
   "outputs": [],
   "source": [
    "X = polarity_df.drop(columns = 'claps')\n",
    "y = polarity_df['claps']"
   ]
  },
  {
   "cell_type": "code",
   "execution_count": null,
   "id": "7f7e27fb-54bb-4245-add6-ff91fb6faa49",
   "metadata": {},
   "outputs": [],
   "source": [
    "#train-test split\n",
    "X_train, X_test, y_train, y_test=train_test_split(X,\n",
    "                                                 y,\n",
    "                                                 test_size=.2,\n",
    "                                                 random_state=42)"
   ]
  },
  {
   "cell_type": "code",
   "execution_count": null,
   "id": "9ec6cd97-dd23-4d1e-abd3-4eef1fc5ac75",
   "metadata": {
    "tags": []
   },
   "outputs": [],
   "source": [
    "model_list = [\n",
    "    LinearRegression(),\n",
    "    DecisionTreeRegressor(),\n",
    "    BaggingRegressor(),\n",
    "    RandomForestRegressor(),\n",
    "    AdaBoostRegressor(),\n",
    "    SVR()\n",
    "]\n",
    "\n",
    "results_list = []\n",
    "\n",
    "for model_obj in model_list:\n",
    "    #instantiate each model \n",
    "    model = model_obj\n",
    "   \n",
    "    #fit the model\n",
    "    model.fit(X_train, y_train) \n",
    "  \n",
    "    #create a dictionary with scores and evaluation metrics for each model\n",
    "    results_dict = {}    \n",
    "    results_dict['model_name'] = str(model_obj)\n",
    "    results_dict['train_score'] = model.score(X_train, y_train)\n",
    "    results_dict['test_score'] = model.score(X_test, y_test)\n",
    "    results_dict['cv_score'] = cross_val_score(model, X_train, y_train, cv = 5).mean()\n",
    "    results_dict['train_RMSE'] = np.sqrt(mean_squared_error(y_train, model.predict(X_train)))\n",
    "    results_dict['test_RMSE'] = np.sqrt(mean_squared_error(y_test, model.predict(X_test)))\n",
    "    \n",
    "    #add the dictionary to the list\n",
    "    results_list.append(results_dict)"
   ]
  },
  {
   "cell_type": "code",
   "execution_count": null,
   "id": "471dad35-7a01-4c8b-90c2-d5a0ed197195",
   "metadata": {
    "tags": []
   },
   "outputs": [],
   "source": [
    "results = pd.DataFrame(results_list)\n",
    "results"
   ]
  },
  {
   "cell_type": "code",
   "execution_count": null,
   "id": "9e8e8a56-fd50-43d6-a99f-77a6dd111129",
   "metadata": {},
   "outputs": [],
   "source": []
  }
 ],
 "metadata": {
  "kernelspec": {
   "display_name": "Python 3",
   "language": "python",
   "name": "python3"
  },
  "language_info": {
   "codemirror_mode": {
    "name": "ipython",
    "version": 3
   },
   "file_extension": ".py",
   "mimetype": "text/x-python",
   "name": "python",
   "nbconvert_exporter": "python",
   "pygments_lexer": "ipython3",
   "version": "3.9.4"
  }
 },
 "nbformat": 4,
 "nbformat_minor": 5
}
